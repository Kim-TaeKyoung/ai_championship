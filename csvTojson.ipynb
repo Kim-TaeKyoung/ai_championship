{
  "nbformat": 4,
  "nbformat_minor": 0,
  "metadata": {
    "colab": {
      "name": "csvTojson.ipynb",
      "private_outputs": true,
      "provenance": [],
      "collapsed_sections": [],
      "include_colab_link": true
    },
    "kernelspec": {
      "name": "python3",
      "display_name": "Python 3"
    },
    "language_info": {
      "name": "python"
    }
  },
  "cells": [
    {
      "cell_type": "markdown",
      "metadata": {
        "id": "view-in-github",
        "colab_type": "text"
      },
      "source": [
        "<a href=\"https://colab.research.google.com/github/Kim-TaeKyoung/a/blob/main/csvTojson.ipynb\" target=\"_parent\"><img src=\"https://colab.research.google.com/assets/colab-badge.svg\" alt=\"Open In Colab\"/></a>"
      ]
    },
    {
      "cell_type": "code",
      "metadata": {
        "id": "0EvFbVVJrBca"
      },
      "source": [
        "import numpy as np\n",
        "import json\n",
        "import pandas as pd\n",
        "\n",
        "path = '/content/_annotations.csv' # the path to the CSV file\n",
        "save_json_path = 'traincoco.json'\n",
        "\n",
        "\n",
        "data = pd.read_csv(path)\n",
        "\n",
        "images = []\n",
        "categories = []\n",
        "annotations = []\n",
        "\n",
        "category = {}\n",
        "category[\"supercategory\"] = 'none'\n",
        "category[\"id\"] = 0\n",
        "category[\"name\"] = 'None'\n",
        "categories.append(category)\n",
        "\n",
        "data['fileid'] = data['filename'].astype('category').cat.codes\n",
        "data['categoryid']= pd.Categorical(data['class'],ordered= True).codes\n",
        "data['categoryid'] = data['categoryid']+1\n",
        "data['annid'] = data.index\n",
        "\n",
        "def image(row):\n",
        "    image = {}\n",
        "    image[\"height\"] = row.height\n",
        "    image[\"width\"] = row.width\n",
        "    image[\"id\"] = row.fileid\n",
        "    image[\"file_name\"] = row.filename\n",
        "    return image\n",
        "\n",
        "def category(row):\n",
        "    category = {}\n",
        "    category[\"supercategory\"] = 'None'\n",
        "    category[\"id\"] = row.categoryid\n",
        "    category[\"name\"] = row[2]\n",
        "    return category\n",
        "\n",
        "def annotation(row):\n",
        "    annotation = {}\n",
        "    area = (row.xmax -row.xmin)*(row.ymax - row.ymin)\n",
        "    annotation[\"segmentation\"] = []\n",
        "    annotation[\"iscrowd\"] = 0\n",
        "    annotation[\"area\"] = area\n",
        "    annotation[\"image_id\"] = row.fileid\n",
        "\n",
        "    annotation[\"bbox\"] = [row.xmin, row.ymin, row.xmax -row.xmin,row.ymax-row.ymin ]\n",
        "\n",
        "    annotation[\"category_id\"] = row.categoryid\n",
        "    annotation[\"id\"] = row.annid\n",
        "    return annotation\n",
        "\n",
        "for row in data.itertuples():\n",
        "    annotations.append(annotation(row))\n",
        "\n",
        "imagedf = data.drop_duplicates(subset=['fileid']).sort_values(by='fileid')\n",
        "for row in imagedf.itertuples():\n",
        "    images.append(image(row))\n",
        "\n",
        "catdf = data.drop_duplicates(subset=['categoryid']).sort_values(by='categoryid')\n",
        "for row in catdf.itertuples():\n",
        "    categories.append(category(row))\n",
        "\n",
        "data_coco = {}\n",
        "data_coco[\"images\"] = images\n",
        "data_coco[\"categories\"] = categories\n",
        "data_coco[\"annotations\"] = annotations\n",
        "json.dump(data_coco, open(save_json_path, \"w\"), indent=4)"
      ],
      "execution_count": null,
      "outputs": []
    },
    {
      "cell_type": "code",
      "metadata": {
        "id": "D790rrD6rEcw"
      },
      "source": [
        ""
      ],
      "execution_count": null,
      "outputs": []
    }
  ]
}