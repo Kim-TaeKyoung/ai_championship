{
  "nbformat": 4,
  "nbformat_minor": 0,
  "metadata": {
    "colab": {
      "name": "0-1.Video to Image.ipynb",
      "provenance": [],
      "collapsed_sections": [],
      "machine_shape": "hm",
      "include_colab_link": true
    },
    "kernelspec": {
      "name": "python3",
      "display_name": "Python 3"
    },
    "language_info": {
      "name": "python"
    },
    "accelerator": "GPU"
  },
  "cells": [
    {
      "cell_type": "markdown",
      "metadata": {
        "id": "view-in-github",
        "colab_type": "text"
      },
      "source": [
        "<a href=\"https://colab.research.google.com/github/Kim-TaeKyoung/a/blob/main/0_1_Video_to_Image.ipynb\" target=\"_parent\"><img src=\"https://colab.research.google.com/assets/colab-badge.svg\" alt=\"Open In Colab\"/></a>"
      ]
    },
    {
      "cell_type": "code",
      "metadata": {
        "id": "qvWUvAoOWw0Z"
      },
      "source": [
        "!pip install opencv-python"
      ],
      "execution_count": null,
      "outputs": []
    },
    {
      "cell_type": "code",
      "metadata": {
        "id": "YWP6ljjFW2fC"
      },
      "source": [
        "# -*- coding: utf-8 -*-\n",
        "import glob\n",
        "import json\n",
        "import sys\n",
        "import cv2\n",
        "import os\n",
        "import itertools\n",
        "import math\n",
        "\n",
        "from google.colab import drive\n",
        "drive.mount('/content/drive')"
      ],
      "execution_count": null,
      "outputs": []
    },
    {
      "cell_type": "code",
      "metadata": {
        "id": "dZw_y65XZ-Y2"
      },
      "source": [
        "train_path = \"/content/drive/MyDrive/Colab/AI_ChampionShip/dataset/raw/kdx-dataset/train/*\"\n",
        "test_path = \"/content/drive/MyDrive/Colab/AI_ChampionShip/dataset/raw/kdx-dataset/test/*\"\n",
        "\n",
        "video_file_train_list = glob.glob(test_path) #파일 경로 리스트형태로 반환\n",
        "video_file_train_list_mp4 = [file for file in video_file_train_list if file.endswith(\".mp4\")] #mp4로 끝나는 파일 경로를 리스트에 저장\n",
        "video_file_train_list_mp4 = sorted(video_file_train_list_mp4) \n",
        "# /content/drive/MyDrive/Colab/AI_ChampionShip/dataset/raw/kdx-dataset/test/sample_fire_scenes.json\n",
        "with open('/content/drive/MyDrive/Colab/AI_ChampionShip/dataset/raw/kdx-dataset/test/sample_fire_scenes.json', 'r') as f:\n",
        "  json_data = json.load(f) \n",
        "\n",
        "a = list(json_data) # [a.mp4, b.mp4 ---- z.mp4]"
      ],
      "execution_count": null,
      "outputs": []
    },
    {
      "cell_type": "code",
      "metadata": {
        "id": "5GjoILbMTmq_"
      },
      "source": [
        "def check_fire(i):\n",
        "  DIR1 = \"/content/drive/MyDrive/Colab/AI_ChampionShip/dataset/test/fire/\"\n",
        "  DIR2 = \"/content/drive/MyDrive/Colab/AI_ChampionShip/dataset/test/nonfire/\"\n",
        "  train_video = video_file_train_list_mp4[i] # mp4 path\n",
        "  json_video = a[i] # mp4 json\n",
        "  id = json_data[json_video]['id']\n",
        "  print('\\t')\n",
        "\n",
        "  vidcap = cv2.VideoCapture(train_video)\n",
        "  if not vidcap.isOpened():\n",
        "    print(\"could not open :\", train_video.split('/')[-1])\n",
        "    exit(0)\n",
        "  print('{}번 영상입니다'.format(id))\n",
        "  second = 1\n",
        "  width = vidcap.get(cv2.CAP_PROP_FRAME_WIDTH)\n",
        "  height = vidcap.get(cv2.CAP_PROP_FRAME_HEIGHT)\n",
        "  fps = round(vidcap.get(cv2.CAP_PROP_FPS)).       # 30프레임으로 맞추기 \n",
        "  multiplier = fps * second                        # 1초마다 캡쳐  \n",
        "  print('Video Resolution: %d, %d' % (width, height))\n",
        "  print('Frame Count:', int(vidcap.get(cv2.CAP_PROP_FRAME_COUNT)))\n",
        "  print('FPS:', fps)\n",
        "  print('=='*10)\n",
        "  \n",
        "  count = 0\n",
        "  n = 0 \n",
        "  k = len(json_data[json_video]['scenes'])         # 화재영상구간 길이(=개수)\n",
        "\n",
        "  if vidcap.isOpened():  \n",
        "    while True:\n",
        "      frameId = int(round(vidcap.get(1)))\n",
        "      ret, image = vidcap.read()\n",
        "      if ret:\n",
        "        if frameId % multiplier < 1:\n",
        "          if json_data[json_video]['scenes']:\n",
        "            if n < k:                             # 화재 영상 구간 개수만큼 반복  ex) n = 0 : 첫번쨰 영상구간\n",
        "              if count >= json_data[json_video]['scenes'][n][0] and count <= json_data[json_video]['scenes'][n][1]:  # 화재영상 구간 \n",
        "                cv2.imwrite(DIR1 + \"[%s]%d - fire.jpg\" % (id,count),image)                                           # 경로 + 순서 + fire \n",
        "                print(\"saved image %d.jpg - fire detection\" % count) \n",
        "                count += 1\n",
        "                \n",
        "\n",
        "              elif count == json_data[json_video]['scenes'][n][1] + 1: # 화재영상 마지막시간 바로 다음 지점(초)\n",
        "                cv2.imwrite(DIR2 + \"[%s]%d.jpg\" % (id,count),image) \n",
        "                print(\"saved image %d.jpg\" % count)\n",
        "                count += 1\n",
        "                n += 1 \n",
        "\n",
        "              else:\n",
        "                cv2.imwrite(DIR2 + \"[%s]%d.jpg\" % (id,count),image) # 화재영상 구간들 사이에 화재장면이 없는 지점\n",
        "                print(\"saved image %d.jpg\" % count)\n",
        "                count += 1\n",
        "\n",
        "            else:\n",
        "              cv2.imwrite(DIR2 + \"[%s]%d.jpg\" % (id,count),image) # 화재가 없는 영상 지점 \n",
        "              print(\"saved image %d.jpg\" % count)\n",
        "              count += 1\n",
        "          else:\n",
        "            continue\n",
        "  \n",
        "      if not ret: # 새로운 프레임을 못받아 왔을 때 braek\n",
        "        break\n",
        "\n",
        "      # if cv2.waitKey(10) == 27:                    \n",
        "      #   break\n"
      ],
      "execution_count": null,
      "outputs": []
    },
    {
      "cell_type": "code",
      "metadata": {
        "id": "GoT3-Ln4cY-m"
      },
      "source": [
        "for i in  a:  \n",
        "  check_fire(json_data[i]['id']) # -> i로  "
      ],
      "execution_count": null,
      "outputs": []
    }
  ]
}