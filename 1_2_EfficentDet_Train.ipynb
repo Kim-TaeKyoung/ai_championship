{
  "cells": [
    {
      "cell_type": "markdown",
      "metadata": {
        "id": "view-in-github",
        "colab_type": "text"
      },
      "source": [
        "<a href=\"https://colab.research.google.com/github/Kim-TaeKyoung/a/blob/main/1_2_EfficentDet_Train.ipynb\" target=\"_parent\"><img src=\"https://colab.research.google.com/assets/colab-badge.svg\" alt=\"Open In Colab\"/></a>"
      ]
    },
    {
      "cell_type": "markdown",
      "metadata": {
        "id": "6HkV8cPSpu-U"
      },
      "source": [
        "# 1. 환경세팅(의존성 패키지 설치)"
      ]
    },
    {
      "cell_type": "code",
      "execution_count": null,
      "metadata": {
        "id": "OJZVVVFdpg0g"
      },
      "outputs": [],
      "source": [
        "import os\n",
        "import sys\n",
        "import random\n",
        "import json\n",
        "import time\n",
        "import datetime\n",
        "from IPython.display import Image, display\n",
        "\n",
        "# 구글드라이브 마운트\n",
        "from google.colab import drive\n",
        "drive.mount('/content/drive')\n",
        "\n",
        "# 패키지 설치\n",
        "!cd /content/drive/MyDrive/Colab/AI_ChampionShip/EfficientDet && cat requirements_colab.txt | xargs -n 1 -L 1 pip install\n",
        "!pip install --force https://github.com/chengs/tqdm/archive/colab.zip\n",
        "!pip install efficientnet_pytorch\n",
        "!pip install tensorboardX\n",
        "\n",
        "sys.path.append(\"/content/drive/MyDrive/Colab/AI_ChampionShip/EfficientDet/\");\n",
        "from train_detector import Detector\n",
        "from infer_detector import Infer"
      ]
    },
    {
      "cell_type": "code",
      "execution_count": null,
      "metadata": {
        "id": "c_QT7Au8p8Q6"
      },
      "outputs": [],
      "source": [
        "# Augmentation이 적용된 데이터셋 다운로드\n",
        "!curl -L \"https://app.roboflow.com/ds/D6ipNcT3p5?key=dPqULorgrb\" > roboflow.zip; unzip roboflow.zip; rm roboflow.zip\n",
        "\n",
        "!mkdir Fire\n",
        "!mkdir Fire/annotations\n",
        "!mkdir Fire/Images\n",
        "%cp train/_annotations.coco.json Fire/annotations/instances_Images.json\n",
        "%cp train/*.jpg Fire/Images/"
      ]
    },
    {
      "cell_type": "markdown",
      "metadata": {
        "id": "kwv7AatyHX3l"
      },
      "source": [
        "# 2. 데이터셋 및 GPU 설정"
      ]
    },
    {
      "cell_type": "code",
      "execution_count": null,
      "metadata": {
        "colab": {
          "base_uri": "https://localhost:8080/"
        },
        "id": "xBOiKUTQs_3s",
        "outputId": "6af9b003-5259-4776-befe-631fb75ed866"
      },
      "outputs": [
        {
          "name": "stdout",
          "output_type": "stream",
          "text": [
            "GPU\n",
            "1\n",
            "loading annotations into memory...\n",
            "Done (t=0.04s)\n",
            "creating index...\n",
            "index created!\n"
          ]
        }
      ],
      "source": [
        "# 모델선언\n",
        "aics = Detector()\n",
        "\n",
        "root_dir = \"./\";\n",
        "coco_dir = \"Fire\";\n",
        "img_dir = \"./\";\n",
        "set_dir = \"Images\";\n",
        "\n",
        "# 데이터셋 정의\n",
        "aics.Train_Dataset(root_dir, coco_dir, img_dir, set_dir, batch_size=16, image_size=512, use_gpu=True)"
      ]
    },
    {
      "cell_type": "markdown",
      "metadata": {
        "id": "FA4XjR3oHgd6"
      },
      "source": [
        "# 3. 훈련"
      ]
    },
    {
      "cell_type": "code",
      "execution_count": null,
      "metadata": {
        "id": "hMVsyCKgqiOT"
      },
      "outputs": [],
      "source": [
        "def weight_reset(m):\n",
        "    reset_parameters = getattr(m, \"reset_parameters\", None)\n",
        "    if callable(reset_parameters):\n",
        "        m.reset_parameters()"
      ]
    },
    {
      "cell_type": "code",
      "execution_count": null,
      "metadata": {
        "id": "B9mmp758tNlV"
      },
      "outputs": [],
      "source": [
        "#모델 불러오기(Efficinet-b0)\n",
        "aics.Model()\n",
        "\n",
        "#옵티마이저 셋팅, Optimizer는 Adam, learning rate는 0.01, 3 epochs 마다 loss drop이 없을경우 learning_rate는 lr * 0.1로 감소, Early Stop은 껐음\n",
        "aics.Set_Hyperparams(lr=0.0001, val_interval=10, es_min_delta=0.0, es_patience=0)\n",
        "aics.system_dict['local']['model'].apply(weight_reset)"
      ]
    },
    {
      "cell_type": "code",
      "execution_count": null,
      "metadata": {
        "colab": {
          "base_uri": "https://localhost:8080/"
        },
        "id": "zS5bbxij_5xO",
        "outputId": "2ac3fd50-d7a0-4b34-9aeb-c66c7f6882ca"
      },
      "outputs": [
        {
          "name": "stdout",
          "output_type": "stream",
          "text": [
            "2021-10-22 01:05:01 UTC\n"
          ]
        }
      ],
      "source": [
        "birthdate = datetime.datetime.now(datetime.timezone.utc)\n",
        "weight_save_path = birthdate.astimezone().strftime('%Y-%m-%d %H:%M:%S %Z')\n",
        "print(weight_save_path)"
      ]
    },
    {
      "cell_type": "code",
      "execution_count": null,
      "metadata": {
        "colab": {
          "background_save": true
        },
        "id": "MFhXNyhPHoNw"
      },
      "outputs": [],
      "source": [
        "%%time\n",
        "\n",
        "aics.Train(num_epochs=500, model_output_dir=\"/content/drive/MyDrive/Colab/AI_ChampionShip/EfficientDet/weight/\"+ weight_save_path);"
      ]
    },
    {
      "cell_type": "code",
      "execution_count": null,
      "metadata": {
        "id": "TUcahVPC6T5n"
      },
      "outputs": [],
      "source": [
        "%load_ext tensorboard\n",
        "%tensorboard --logdir ./tensorboard/signatrix_efficientdet_coco/"
      ]
    },
    {
      "cell_type": "code",
      "execution_count": null,
      "metadata": {
        "id": "msExPVJaTgJ5"
      },
      "outputs": [],
      "source": [
        "# Validation 이미지 결과 확인\n",
        "\n",
        "aics = Detector()\n",
        "aics = Infer();\n",
        "aics.Model(model_dir=\"/content/drive/MyDrive/Colab/AI_ChampionShip/EfficientDet/weight/2021-10-19 09:45:22 UTC\")\n",
        "\n",
        "class_list = ['L','fire', 'smoke']\n",
        "\n",
        "import glob\n",
        "from PIL import Image as PILImage\n",
        "from matplotlib import pyplot as plt\n",
        "from IPython.display import Image, clear_output, display\n",
        "from IPython.core.magic import register_line_cell_magic\n",
        "from natsort import natsorted\n",
        "\n",
        "plt.rcParams.update({'figure.max_open_warning': 0})\n",
        "\n",
        "test_data_dir = '/content/drive/MyDrive/Colab/AI_ChampionShip/dataset/test-frame_rearranged/*.jpg'\n",
        "test_images = natsorted(glob.glob(test_data_dir))\n",
        "\n",
        "\n",
        "for fig in test_images:\n",
        "  aics.Predict(fig, class_list, vis_threshold=0.5);\n",
        "  display(Image(filename='output.jpg'))\n",
        "  print(\"\\n\")\n",
        "  "
      ]
    },
    {
      "cell_type": "code",
      "execution_count": null,
      "metadata": {
        "id": "UpwQYEQjbM0C"
      },
      "outputs": [],
      "source": [
        "import mAP_evaluation\n",
        "import importlib\n",
        "import torch\n",
        "\n",
        "importlib.reload(mAP_evaluation)\n",
        "\n",
        "# 모델선언\n",
        "aics = Detector()\n",
        "\n",
        "root_dir = \"./\";\n",
        "coco_dir = \"Fire_Valid\";\n",
        "img_dir = \"./\";\n",
        "set_dir = \"Images\";\n",
        "\n",
        "!mkdir -p Fire_Valid/annotations\n",
        "!mkdir -p Fire_Valid/Images\n",
        "%cp valid/_annotations.coco.json Fire_Valid/annotations/instances_Images.json\n",
        "%cp valid/*.jpg Fire_Valid/Images/\n",
        "\n",
        "aics.Val_Dataset(root_dir, coco_dir, img_dir, set_dir)\n",
        "\n",
        "#모델 불러오기(Efficinet-b0)\n",
        "model = torch.load(\"/content/drive/MyDrive/Colab/AI_ChampionShip/EfficientDet/weight/2021-09-30_17_02_38/signatrix_efficientdet_coco.pth\")\n",
        "val_cocoset = aics.system_dict[\"local\"][\"val_set\"]\n",
        "\n",
        "model.cuda()\n",
        "\n",
        "mAP_evaluation.evaluate_coco(val_cocoset, model)"
      ]
    }
  ],
  "metadata": {
    "accelerator": "GPU",
    "colab": {
      "collapsed_sections": [],
      "machine_shape": "hm",
      "name": "1-2.EfficentDet_Train.ipynb",
      "provenance": [],
      "include_colab_link": true
    },
    "kernelspec": {
      "display_name": "Python 3",
      "name": "python3"
    },
    "language_info": {
      "name": "python"
    }
  },
  "nbformat": 4,
  "nbformat_minor": 0
}