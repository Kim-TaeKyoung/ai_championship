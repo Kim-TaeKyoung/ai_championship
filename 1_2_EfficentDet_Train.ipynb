{
  "cells": [
    {
      "cell_type": "markdown",
      "metadata": {
        "id": "view-in-github",
        "colab_type": "text"
      },
      "source": [
        "<a href=\"https://colab.research.google.com/github/Kim-TaeKyoung/a/blob/main/1_2_EfficentDet_Train.ipynb\" target=\"_parent\"><img src=\"https://colab.research.google.com/assets/colab-badge.svg\" alt=\"Open In Colab\"/></a>"
      ]
    },
    {
      "cell_type": "markdown",
      "metadata": {
        "id": "6HkV8cPSpu-U"
      },
      "source": [
        "# 1. 환경세팅(의존성 패키지 설치)"
      ]
    },
    {
      "cell_type": "code",
      "execution_count": null,
      "metadata": {
        "colab": {
          "base_uri": "https://localhost:8080/"
        },
        "id": "OJZVVVFdpg0g",
        "outputId": "2c11ce65-e391-4dbc-925a-03a85ca10cc8"
      },
      "outputs": [
        {
          "name": "stdout",
          "output_type": "stream",
          "text": [
            "Mounted at /content/drive\n",
            "Collecting efficientnet_pytorch\n",
            "  Downloading efficientnet_pytorch-0.7.1.tar.gz (21 kB)\n",
            "Requirement already satisfied: torch in /usr/local/lib/python3.7/dist-packages (from efficientnet_pytorch) (1.9.0+cu111)\n",
            "Requirement already satisfied: typing-extensions in /usr/local/lib/python3.7/dist-packages (from torch->efficientnet_pytorch) (3.7.4.3)\n",
            "Building wheels for collected packages: efficientnet-pytorch\n",
            "  Building wheel for efficientnet-pytorch (setup.py) ... \u001b[?25l\u001b[?25hdone\n",
            "  Created wheel for efficientnet-pytorch: filename=efficientnet_pytorch-0.7.1-py3-none-any.whl size=16446 sha256=dea9297311a2423b1ff9b5ebcce160385717d53ac8cd279c6727485128bfd04b\n",
            "  Stored in directory: /root/.cache/pip/wheels/0e/cc/b2/49e74588263573ff778da58cc99b9c6349b496636a7e165be6\n",
            "Successfully built efficientnet-pytorch\n",
            "Installing collected packages: efficientnet-pytorch\n",
            "Successfully installed efficientnet-pytorch-0.7.1\n",
            "Collecting mxnet-cu100\n",
            "  Downloading mxnet_cu100-1.8.0.post0-py2.py3-none-manylinux2014_x86_64.whl (352.6 MB)\n",
            "\u001b[K     |████████████████████████████████| 352.6 MB 5.9 kB/s \n",
            "\u001b[?25hRequirement already satisfied: numpy<2.0.0,>1.16.0 in /usr/local/lib/python3.7/dist-packages (from mxnet-cu100) (1.19.5)\n",
            "Requirement already satisfied: requests<3,>=2.20.0 in /usr/local/lib/python3.7/dist-packages (from mxnet-cu100) (2.23.0)\n",
            "Collecting graphviz<0.9.0,>=0.8.1\n",
            "  Downloading graphviz-0.8.4-py2.py3-none-any.whl (16 kB)\n",
            "Requirement already satisfied: chardet<4,>=3.0.2 in /usr/local/lib/python3.7/dist-packages (from requests<3,>=2.20.0->mxnet-cu100) (3.0.4)\n",
            "Requirement already satisfied: certifi>=2017.4.17 in /usr/local/lib/python3.7/dist-packages (from requests<3,>=2.20.0->mxnet-cu100) (2021.5.30)\n",
            "Requirement already satisfied: urllib3!=1.25.0,!=1.25.1,<1.26,>=1.21.1 in /usr/local/lib/python3.7/dist-packages (from requests<3,>=2.20.0->mxnet-cu100) (1.24.3)\n",
            "Requirement already satisfied: idna<3,>=2.5 in /usr/local/lib/python3.7/dist-packages (from requests<3,>=2.20.0->mxnet-cu100) (2.10)\n",
            "Installing collected packages: graphviz, mxnet-cu100\n",
            "  Attempting uninstall: graphviz\n",
            "    Found existing installation: graphviz 0.10.1\n",
            "    Uninstalling graphviz-0.10.1:\n",
            "      Successfully uninstalled graphviz-0.10.1\n",
            "Successfully installed graphviz-0.8.4 mxnet-cu100-1.8.0.post0\n",
            "Collecting tensorboardX\n",
            "  Downloading tensorboardX-2.4-py2.py3-none-any.whl (124 kB)\n",
            "\u001b[K     |████████████████████████████████| 124 kB 14.8 MB/s \n",
            "\u001b[?25hRequirement already satisfied: protobuf>=3.8.0 in /usr/local/lib/python3.7/dist-packages (from tensorboardX) (3.17.3)\n",
            "Requirement already satisfied: numpy in /usr/local/lib/python3.7/dist-packages (from tensorboardX) (1.19.5)\n",
            "Requirement already satisfied: six>=1.9 in /usr/local/lib/python3.7/dist-packages (from protobuf>=3.8.0->tensorboardX) (1.15.0)\n",
            "Installing collected packages: tensorboardX\n",
            "Successfully installed tensorboardX-2.4\n",
            "Collecting pycocotools\n",
            "  Cloning https://github.com/abhi-kumar/cocoapi.git to /tmp/pip-install-trgapxqm/pycocotools_801aa525658f4b70859cc1872bc2ecee\n",
            "  Running command git clone -q https://github.com/abhi-kumar/cocoapi.git /tmp/pip-install-trgapxqm/pycocotools_801aa525658f4b70859cc1872bc2ecee\n",
            "Requirement already satisfied: setuptools>=18.0 in /usr/local/lib/python3.7/dist-packages (from pycocotools) (57.4.0)\n",
            "Requirement already satisfied: cython>=0.27.3 in /usr/local/lib/python3.7/dist-packages (from pycocotools) (0.29.24)\n",
            "Requirement already satisfied: matplotlib>=2.1.0 in /usr/local/lib/python3.7/dist-packages (from pycocotools) (3.2.2)\n",
            "Requirement already satisfied: kiwisolver>=1.0.1 in /usr/local/lib/python3.7/dist-packages (from matplotlib>=2.1.0->pycocotools) (1.3.2)\n",
            "Requirement already satisfied: python-dateutil>=2.1 in /usr/local/lib/python3.7/dist-packages (from matplotlib>=2.1.0->pycocotools) (2.8.2)\n",
            "Requirement already satisfied: cycler>=0.10 in /usr/local/lib/python3.7/dist-packages (from matplotlib>=2.1.0->pycocotools) (0.10.0)\n",
            "Requirement already satisfied: numpy>=1.11 in /usr/local/lib/python3.7/dist-packages (from matplotlib>=2.1.0->pycocotools) (1.19.5)\n",
            "Requirement already satisfied: pyparsing!=2.0.4,!=2.1.2,!=2.1.6,>=2.0.1 in /usr/local/lib/python3.7/dist-packages (from matplotlib>=2.1.0->pycocotools) (2.4.7)\n",
            "Requirement already satisfied: six in /usr/local/lib/python3.7/dist-packages (from cycler>=0.10->matplotlib>=2.1.0->pycocotools) (1.15.0)\n",
            "Building wheels for collected packages: pycocotools\n",
            "  Building wheel for pycocotools (setup.py) ... \u001b[?25l\u001b[?25hdone\n",
            "  Created wheel for pycocotools: filename=pycocotools-2.0-cp37-cp37m-linux_x86_64.whl size=263846 sha256=e81c256cb3af963c5f95b959e005784ce0f40d3f0494f6d400b36260c26529da\n",
            "  Stored in directory: /tmp/pip-ephem-wheel-cache-2f4julku/wheels/b8/4c/a6/f34b4aa3f634b4461fc1934f6d1dedf20df540f6a028547647\n",
            "Successfully built pycocotools\n",
            "Installing collected packages: pycocotools\n",
            "  Attempting uninstall: pycocotools\n",
            "    Found existing installation: pycocotools 2.0.2\n",
            "    Uninstalling pycocotools-2.0.2:\n",
            "      Successfully uninstalled pycocotools-2.0.2\n",
            "Successfully installed pycocotools-2.0\n",
            "Collecting dicttoxml\n",
            "  Downloading dicttoxml-1.7.4.tar.gz (18 kB)\n",
            "Building wheels for collected packages: dicttoxml\n",
            "  Building wheel for dicttoxml (setup.py) ... \u001b[?25l\u001b[?25hdone\n",
            "  Created wheel for dicttoxml: filename=dicttoxml-1.7.4-py3-none-any.whl size=17463 sha256=462554e5abbc12091ba2ecf96eb032f07d2735b9c7ef1ae3a0ecbb85047ef771\n",
            "  Stored in directory: /root/.cache/pip/wheels/18/44/5a/c7b93703f611ae3b50820efbaf265413e6b183a56cbec6f661\n",
            "Successfully built dicttoxml\n",
            "Installing collected packages: dicttoxml\n",
            "Successfully installed dicttoxml-1.7.4\n",
            "Collecting xmltodict\n",
            "  Downloading xmltodict-0.12.0-py2.py3-none-any.whl (9.2 kB)\n",
            "Installing collected packages: xmltodict\n",
            "Successfully installed xmltodict-0.12.0\n",
            "Collecting https://github.com/chengs/tqdm/archive/colab.zip\n",
            "  Downloading https://github.com/chengs/tqdm/archive/colab.zip\n",
            "\u001b[K     \\ 91 kB 9.1 MB/s\n",
            "\u001b[?25hBuilding wheels for collected packages: tqdm\n",
            "  Building wheel for tqdm (setup.py) ... \u001b[?25l\u001b[?25hdone\n",
            "  Created wheel for tqdm: filename=tqdm-4.28.1-py2.py3-none-any.whl size=47878 sha256=2eea346923e2c5e809ef688f266399591c98fa0e7792f4d15944e192a0b60a9d\n",
            "  Stored in directory: /tmp/pip-ephem-wheel-cache-y5ysk2q5/wheels/b5/36/d9/593e7ac06d343d0a32138fa6c402dc3a0bd31442c9fe53f76c\n",
            "Successfully built tqdm\n",
            "Installing collected packages: tqdm\n",
            "  Attempting uninstall: tqdm\n",
            "    Found existing installation: tqdm 4.62.3\n",
            "    Uninstalling tqdm-4.62.3:\n",
            "      Successfully uninstalled tqdm-4.62.3\n",
            "\u001b[31mERROR: pip's dependency resolver does not currently take into account all the packages that are installed. This behaviour is the source of the following dependency conflicts.\n",
            "spacy 2.2.4 requires tqdm<5.0.0,>=4.38.0, but you have tqdm 4.28.1 which is incompatible.\n",
            "panel 0.12.1 requires tqdm>=4.48.0, but you have tqdm 4.28.1 which is incompatible.\n",
            "fbprophet 0.7.1 requires tqdm>=4.36.1, but you have tqdm 4.28.1 which is incompatible.\u001b[0m\n",
            "Successfully installed tqdm-4.28.1\n",
            "Requirement already satisfied: efficientnet_pytorch in /usr/local/lib/python3.7/dist-packages (0.7.1)\n",
            "Requirement already satisfied: torch in /usr/local/lib/python3.7/dist-packages (from efficientnet_pytorch) (1.9.0+cu111)\n",
            "Requirement already satisfied: typing-extensions in /usr/local/lib/python3.7/dist-packages (from torch->efficientnet_pytorch) (3.7.4.3)\n",
            "Requirement already satisfied: tensorboardX in /usr/local/lib/python3.7/dist-packages (2.4)\n",
            "Requirement already satisfied: protobuf>=3.8.0 in /usr/local/lib/python3.7/dist-packages (from tensorboardX) (3.17.3)\n",
            "Requirement already satisfied: numpy in /usr/local/lib/python3.7/dist-packages (from tensorboardX) (1.19.5)\n",
            "Requirement already satisfied: six>=1.9 in /usr/local/lib/python3.7/dist-packages (from protobuf>=3.8.0->tensorboardX) (1.15.0)\n"
          ]
        }
      ],
      "source": [
        "import os\n",
        "import sys\n",
        "import random\n",
        "import json\n",
        "import time\n",
        "import datetime\n",
        "from IPython.display import Image, display\n",
        "\n",
        "# 구글드라이브 마운트\n",
        "from google.colab import drive\n",
        "drive.mount('/content/drive')\n",
        "\n",
        "# 패키지 설치\n",
        "!cd /content/drive/MyDrive/Colab/AI_ChampionShip/EfficientDet && cat requirements_colab.txt | xargs -n 1 -L 1 pip install\n",
        "!pip install --force https://github.com/chengs/tqdm/archive/colab.zip\n",
        "!pip install efficientnet_pytorch\n",
        "!pip install tensorboardX\n",
        "\n",
        "sys.path.append(\"/content/drive/MyDrive/Colab/AI_ChampionShip/EfficientDet/\");\n",
        "from train_detector import Detector\n",
        "from infer_detector import Infer"
      ]
    },
    {
      "cell_type": "code",
      "execution_count": null,
      "metadata": {
        "colab": {
          "base_uri": "https://localhost:8080/"
        },
        "id": "c_QT7Au8p8Q6",
        "outputId": "80849262-be2c-4b18-fd9c-019ddaeb8af2"
      },
      "outputs": [
        {
          "name": "stdout",
          "output_type": "stream",
          "text": [
            "\u001b[1;30;43m스트리밍 출력 내용이 길어서 마지막 5000줄이 삭제되었습니다.\u001b[0m\n",
            " extracting: train/-135-60---fire_jpg.rf.b8cde97026e6de5dff355ab7b25fbb0f.jpg  \n",
            " extracting: train/-135-60---fire_jpg.rf.ebc90075e95d1b2e22f4152380dd33f7.jpg  \n",
            " extracting: train/-135-61---fire_jpg.rf.40cd67dc1be056f8aca505fbd794b35b.jpg  \n",
            " extracting: train/-135-61---fire_jpg.rf.a418fd9bffe2ab8819b5b7664a550c28.jpg  \n",
            " extracting: train/-135-61---fire_jpg.rf.fc68bf1d229bed31ef2d579f3cbcab90.jpg  \n",
            " extracting: train/-135-62---fire_jpg.rf.12c48803bd533fe39bcfbebdf3961b87.jpg  \n",
            " extracting: train/-135-62---fire_jpg.rf.d82de914464370a1c5351c7662c0598e.jpg  \n",
            " extracting: train/-135-62---fire_jpg.rf.f4fa3f77e3c1d5dde400d0184eeba54f.jpg  \n",
            " extracting: train/-135-63---fire_jpg.rf.16a32d32c911355822d58d3da39b07a1.jpg  \n",
            " extracting: train/-135-63---fire_jpg.rf.afbe70e38747ce686ee49c89054b32a9.jpg  \n",
            " extracting: train/-135-63---fire_jpg.rf.e94eadca65e553b21400db2291ae7b39.jpg  \n",
            " extracting: train/-135-66---fire_jpg.rf.518d4bba4a332fdf4b65fc85f301d99d.jpg  \n",
            " extracting: train/-135-66---fire_jpg.rf.524a2661e7903b4662f9f35c5f57c591.jpg  \n",
            " extracting: train/-135-66---fire_jpg.rf.d8c702bdf6f3369e40813c7c5a0bbe13.jpg  \n",
            " extracting: train/-135-67---fire_jpg.rf.0d0b7f50550e2a493ab08fb5e53016e5.jpg  \n",
            " extracting: train/-135-67---fire_jpg.rf.67cbed12607af1badabc844697dd387c.jpg  \n",
            " extracting: train/-135-67---fire_jpg.rf.a4644678bba082289e659dde7c11c89d.jpg  \n",
            " extracting: train/-135-68---fire_jpg.rf.01dc2a734471785d4f4793624ec27aa6.jpg  \n",
            " extracting: train/-135-68---fire_jpg.rf.21f62176f47e854053d5e605f9b0f75e.jpg  \n",
            " extracting: train/-135-68---fire_jpg.rf.28eaeaf27db40cca2501f0a6890d3a83.jpg  \n",
            " extracting: train/-135-69---fire_jpg.rf.c25e7938ead2b9a54a68143468f925c6.jpg  \n",
            " extracting: train/-135-69---fire_jpg.rf.fce4a38d79e6e081f9bde2d749accc66.jpg  \n",
            " extracting: train/-135-69---fire_jpg.rf.fde329b84bb44da27ba6e4ac935cb614.jpg  \n",
            " extracting: train/-135-70---fire_jpg.rf.22db1f02288184ef49ed8bbea1c4ad1b.jpg  \n",
            " extracting: train/-135-70---fire_jpg.rf.2f7e68f4ef250378e08b02a0db46df96.jpg  \n",
            " extracting: train/-135-70---fire_jpg.rf.e6ad3204cdd85d1c396b37f0b8ab83c5.jpg  \n",
            " extracting: train/-135-71---fire_jpg.rf.0d1c1b0f73c46af7fc5a024a78d7580f.jpg  \n",
            " extracting: train/-135-71---fire_jpg.rf.61541bfe2845a9e8806250920b5c5356.jpg  \n",
            " extracting: train/-135-71---fire_jpg.rf.ddd654c1371fe457eff9ce5c4b147fb9.jpg  \n",
            " extracting: train/-135-72---fire_jpg.rf.991ae5d208e4d700ac5b62fe219173ac.jpg  \n",
            " extracting: train/-135-72---fire_jpg.rf.c22430177a64a23ed83a959fa88d009e.jpg  \n",
            " extracting: train/-135-72---fire_jpg.rf.e5ba60833f5d753abfe263f62f554052.jpg  \n",
            " extracting: train/-135-73---fire_jpg.rf.9f5ec9d1b18f2b932ec88b60f62205bb.jpg  \n",
            " extracting: train/-135-73---fire_jpg.rf.f214c02843d6ac98bd135016a7ab5b83.jpg  \n",
            " extracting: train/-135-73---fire_jpg.rf.f8ed0f1e8a849b8b0c76d2b545c3f035.jpg  \n",
            " extracting: train/-135-75---fire_jpg.rf.068e6a34336d54badd480dd8c9b8c66a.jpg  \n",
            " extracting: train/-135-75---fire_jpg.rf.17b4f950d8e3e27d68efc3cdee2d020c.jpg  \n",
            " extracting: train/-135-75---fire_jpg.rf.9cd6086f6a1a1d78d889da50ff2158ee.jpg  \n",
            " extracting: train/-135-76---fire_jpg.rf.34fe9e841760893a5fdb97c77c74f6dd.jpg  \n",
            " extracting: train/-135-76---fire_jpg.rf.359d9a4413edff4705c770af05113e4f.jpg  \n",
            " extracting: train/-135-76---fire_jpg.rf.8bbba2d7a825405027f03362ee6fc16c.jpg  \n",
            " extracting: train/-135-99---fire_jpg.rf.20cc44fda2b4ba43d35b61d5a055c98a.jpg  \n",
            " extracting: train/-135-99---fire_jpg.rf.aa30b671207221f70e67ca30e9eae0e0.jpg  \n",
            " extracting: train/-135-99---fire_jpg.rf.b63202ae9631ec24ddca6c0008fe5a7b.jpg  \n",
            " extracting: train/-136-37---fire_jpg.rf.71a3b8a5650ef5e9f953b1550998acaf.jpg  \n",
            " extracting: train/-136-37---fire_jpg.rf.76ea17dafc1a3dccfef8beb968988d3f.jpg  \n",
            " extracting: train/-136-37---fire_jpg.rf.8f0808ac23daa44318555470e8889ef7.jpg  \n",
            " extracting: train/-136-38---fire_jpg.rf.0763def4a980e41691fd75cafd4d9efb.jpg  \n",
            " extracting: train/-136-38---fire_jpg.rf.32f2d35cf503a21b375ccef66881a4ee.jpg  \n",
            " extracting: train/-136-38---fire_jpg.rf.6a3946cd50a0816b103379b2f66352b4.jpg  \n",
            " extracting: train/-136-39---fire_jpg.rf.46d4d366eb497818b3d554e9ba9543aa.jpg  \n",
            " extracting: train/-136-39---fire_jpg.rf.73b49f7980c68f34fb7c12acce232dde.jpg  \n",
            " extracting: train/-136-39---fire_jpg.rf.f82315d747a9b5f1848c5ea300572daa.jpg  \n",
            " extracting: train/-136-40---fire_jpg.rf.98c5ed1197174196d7987bf4475b13bd.jpg  \n",
            " extracting: train/-136-40---fire_jpg.rf.ac5f66866b6dd0f3b46d812fe9af0f96.jpg  \n",
            " extracting: train/-136-40---fire_jpg.rf.f4e80ca5fb187c445e4725be6c9a0477.jpg  \n",
            " extracting: train/-136-41---fire_jpg.rf.07ace8b680a1a5282df6b30ebb2f8bc6.jpg  \n",
            " extracting: train/-136-41---fire_jpg.rf.12f98a889f3552a55d7fb9414af65cea.jpg  \n",
            " extracting: train/-136-41---fire_jpg.rf.d0b1d4b692c3999549d1ae4eb7371379.jpg  \n",
            " extracting: train/-136-42---fire_jpg.rf.3aab80f1f206e69d0fd2a43dc90aba49.jpg  \n",
            " extracting: train/-136-42---fire_jpg.rf.92b16bb33cb248a6e278682cf18bf367.jpg  \n",
            " extracting: train/-136-42---fire_jpg.rf.a7465b1eee312f9a5838f47800a82963.jpg  \n",
            " extracting: train/-136-43---fire_jpg.rf.7896314fb487ab2fa5af9a31cf721d59.jpg  \n",
            " extracting: train/-136-43---fire_jpg.rf.ba315c799e036926ce2d75d1d10674bc.jpg  \n",
            " extracting: train/-136-43---fire_jpg.rf.f5eeb5999a667a9681c094175e2572ff.jpg  \n",
            " extracting: train/-136-45---fire_jpg.rf.26a860cff978ba9b6399f3f53cc9a55a.jpg  \n",
            " extracting: train/-136-45---fire_jpg.rf.cbad81a0dfeafdee002b50276072fb9b.jpg  \n",
            " extracting: train/-136-45---fire_jpg.rf.f67447be0bcfc3703fa1ea32333cd0a3.jpg  \n",
            " extracting: train/-136-46---fire_jpg.rf.3ddc313bc7cd9f5b88d639320f9300cd.jpg  \n",
            " extracting: train/-136-46---fire_jpg.rf.8e8b71c90002e4fd5c968e03312ddf40.jpg  \n",
            " extracting: train/-136-46---fire_jpg.rf.ec7797db57ed417c57f60fa829e31dcc.jpg  \n",
            " extracting: train/-136-48---fire_jpg.rf.41e1c4a9efa6a3df33ab25fdf76cf8e2.jpg  \n",
            " extracting: train/-136-48---fire_jpg.rf.74c79606286f116b86dde175153428cb.jpg  \n",
            " extracting: train/-136-48---fire_jpg.rf.b97f78df53d4dbfff6836325b640c17a.jpg  \n",
            " extracting: train/-136-50---fire_jpg.rf.0b9266b52cb3a5e1c9adc53e53784f8d.jpg  \n",
            " extracting: train/-136-50---fire_jpg.rf.9921548ecf7f7ad1ec713ae0fdcfe72e.jpg  \n",
            " extracting: train/-136-50---fire_jpg.rf.ac26a5982d2103be2cb90034c9bde45e.jpg  \n",
            " extracting: train/-136-51---fire_jpg.rf.13b507c6482aea92356ce519b06e37ca.jpg  \n",
            " extracting: train/-136-51---fire_jpg.rf.6ab87c320ddf4bd9f82eae5a636db815.jpg  \n",
            " extracting: train/-136-51---fire_jpg.rf.a7343d529ec7aa518036aafd316e813c.jpg  \n",
            " extracting: train/-136-53---fire_jpg.rf.062303e2438ba0570a6d7c1a8bf0389a.jpg  \n",
            " extracting: train/-136-53---fire_jpg.rf.59ff2cf4181404c432b8e1ba427a1cd7.jpg  \n",
            " extracting: train/-136-53---fire_jpg.rf.e3821fde334974590e710f22e7c5799a.jpg  \n",
            " extracting: train/-136-54---fire_jpg.rf.666ee46b3ab576afa1b7fad233894620.jpg  \n",
            " extracting: train/-136-54---fire_jpg.rf.8cd5223314e4d3cb3a8d17d82cf4222c.jpg  \n",
            " extracting: train/-136-54---fire_jpg.rf.e9a7010cfb29a67ffa36530252615723.jpg  \n",
            " extracting: train/-136-55---fire_jpg.rf.0e35400cb7ffbb8e9e39ae652eacbfb9.jpg  \n",
            " extracting: train/-136-55---fire_jpg.rf.4e8407619e8d0f386ea02e4af5de740f.jpg  \n",
            " extracting: train/-136-55---fire_jpg.rf.91858da3076e8d05b52ddebe990fe69d.jpg  \n",
            " extracting: train/-136-56---fire_jpg.rf.78abc5e5707f2fcbc469e7d48df99922.jpg  \n",
            " extracting: train/-136-56---fire_jpg.rf.823244659c1ba5f51aadc6775de25fbe.jpg  \n",
            " extracting: train/-136-56---fire_jpg.rf.db11c6c1cdb347b07ae55a12fd382f51.jpg  \n",
            " extracting: train/-136-59---fire_jpg.rf.3df0e9cfe45fe58cb3eef9db5d27e579.jpg  \n",
            " extracting: train/-136-59---fire_jpg.rf.5ebad1f7f1376002a75e8836eabf66c0.jpg  \n",
            " extracting: train/-136-59---fire_jpg.rf.866f2442369f36eb60554449a07c5cee.jpg  \n",
            " extracting: train/-136-60---fire_jpg.rf.0bc731561962a6fadccc9500c28b23cd.jpg  \n",
            " extracting: train/-136-60---fire_jpg.rf.35c22eee20903fc23990233e7341c206.jpg  \n",
            " extracting: train/-136-60---fire_jpg.rf.40857e859f67067cf2f850c31242f92e.jpg  \n",
            " extracting: train/-136-61---fire_jpg.rf.0b3e5696aa5bfeaa87e6e1f1da859f2a.jpg  \n",
            " extracting: train/-136-61---fire_jpg.rf.949369027a56ad17752098f5a49d2e34.jpg  \n",
            " extracting: train/-136-61---fire_jpg.rf.d2308b0d5ecb5a2777fd593b33729e0e.jpg  \n",
            " extracting: train/-136-62---fire_jpg.rf.7bfcce7e745006be911ec63ffa8ee1ae.jpg  \n",
            " extracting: train/-136-62---fire_jpg.rf.aa8b5dfccf8ff4b440d00e51e8776104.jpg  \n",
            " extracting: train/-136-62---fire_jpg.rf.ff1155661f6771ead718761da6093a59.jpg  \n",
            " extracting: train/-136-64---fire_jpg.rf.2828a4841958e43f10041d59d33a5d3d.jpg  \n",
            " extracting: train/-136-64---fire_jpg.rf.4bb459457a9e3466584bc8d6445ddbc0.jpg  \n",
            " extracting: train/-136-64---fire_jpg.rf.df7770b4381af1a5e0bca78684304aa9.jpg  \n",
            " extracting: train/-139-15---fire_jpg.rf.940e24fb98d593f863d90c7e3c397bd8.jpg  \n",
            " extracting: train/-139-15---fire_jpg.rf.b3ffa27a2a1ddedc16e470f2421ec69d.jpg  \n",
            " extracting: train/-139-15---fire_jpg.rf.dd47625112dc989066d056a37ff15c03.jpg  \n",
            " extracting: train/-139-18---fire_jpg.rf.33b8f40feb5965631d29d428b8eb24ca.jpg  \n",
            " extracting: train/-139-18---fire_jpg.rf.50cbb09fdf5fa632369a71d4582bea00.jpg  \n",
            " extracting: train/-139-18---fire_jpg.rf.ff45a3c0342c9c8f222297ec6daa218d.jpg  \n",
            " extracting: train/-139-19---fire_jpg.rf.77dd2f22b04a1827d0ce085df9556381.jpg  \n",
            " extracting: train/-139-19---fire_jpg.rf.da882bbafca562ac90c0575436dd4efc.jpg  \n",
            " extracting: train/-139-19---fire_jpg.rf.ec0ee6516903b413d2b53b099e91c2c4.jpg  \n",
            " extracting: train/-139-20---fire_jpg.rf.0b421d70c276051d96e466989436d24d.jpg  \n",
            " extracting: train/-139-20---fire_jpg.rf.790faef820479c52ccf776d08663343a.jpg  \n",
            " extracting: train/-139-20---fire_jpg.rf.c656cd9ee9581b79c142e9df8c6dacf4.jpg  \n",
            " extracting: train/-139-21---fire_jpg.rf.09241d8e34ae4ac2c73904544e9a1817.jpg  \n",
            " extracting: train/-139-21---fire_jpg.rf.775c4182e213186a2da7dac1353b5e0d.jpg  \n",
            " extracting: train/-139-21---fire_jpg.rf.eddd956da6565aad0b5f827b83b451db.jpg  \n",
            " extracting: train/-139-22---fire_jpg.rf.0db4cfcc0b8a42ad827310d7c88a9369.jpg  \n",
            " extracting: train/-139-22---fire_jpg.rf.3d4b6eae72283e36b4ccbd22bd78391e.jpg  \n",
            " extracting: train/-139-22---fire_jpg.rf.72d266e7a695ad48e8be8d066bce2e3e.jpg  \n",
            " extracting: train/-139-23---fire_jpg.rf.282880c33d43bdf7c6a73f320e7fc118.jpg  \n",
            " extracting: train/-139-23---fire_jpg.rf.98b61fb0e1544c66b2236b30f75f03e9.jpg  \n",
            " extracting: train/-139-23---fire_jpg.rf.f9ee2687af9e4bdf2592a37b127baf8e.jpg  \n",
            " extracting: train/-139-24---fire_jpg.rf.325e442629d6b3d649a5bbc259b6b361.jpg  \n",
            " extracting: train/-139-24---fire_jpg.rf.917a7885d51e766cad1697937c95111e.jpg  \n",
            " extracting: train/-139-24---fire_jpg.rf.d1b52f5b5939e9802784e0ee49e614ca.jpg  \n",
            " extracting: train/-139-26---fire_jpg.rf.432b4d74659c0e70fe85aaeb30defae5.jpg  \n",
            " extracting: train/-139-26---fire_jpg.rf.ba8cf1dba1fdc6fbb059e0de3d9d292c.jpg  \n",
            " extracting: train/-139-26---fire_jpg.rf.fcc30e37375a10c753a56cebee25a1e6.jpg  \n",
            " extracting: train/-139-27---fire_jpg.rf.0b2212ba91574a2a79f12d627035d837.jpg  \n",
            " extracting: train/-139-27---fire_jpg.rf.3850b1526fbb33004f0208d5a5cbfef4.jpg  \n",
            " extracting: train/-139-27---fire_jpg.rf.95bbbe19b042cc98c66570a7cdb4d1de.jpg  \n",
            " extracting: train/-139-29---fire_jpg.rf.55a970981bfead446e8006e787cfa7dc.jpg  \n",
            " extracting: train/-139-29---fire_jpg.rf.6b987b549e30e9d8a64531f175c554f5.jpg  \n",
            " extracting: train/-139-29---fire_jpg.rf.98d1701188157417aa7e0ed84855e44f.jpg  \n",
            " extracting: train/-139-31---fire_jpg.rf.3cf93ac6dc2634d7bd05e7a031cb12b8.jpg  \n",
            " extracting: train/-139-31---fire_jpg.rf.90f4e02937310ed174de3a2744d8e605.jpg  \n",
            " extracting: train/-139-31---fire_jpg.rf.d77727d35e30bddb14da80d90d0d6f9d.jpg  \n",
            " extracting: train/-139-32---fire_jpg.rf.1b6e0cf116e1fe7f343083c61772f71b.jpg  \n",
            " extracting: train/-139-32---fire_jpg.rf.62bd11f2acb58ab8ac5ffc19a5c9389d.jpg  \n",
            " extracting: train/-139-32---fire_jpg.rf.7d70a5e297be7f6534bdc6a43839e66f.jpg  \n",
            " extracting: train/-139-33---fire_jpg.rf.5ea9a06209f5c94b9e86c506c4dbefa5.jpg  \n",
            " extracting: train/-139-33---fire_jpg.rf.802838b10e2e21b4446e9a5e34e8ccee.jpg  \n",
            " extracting: train/-139-33---fire_jpg.rf.9d99cb779043f4bf71dc0db3606732b0.jpg  \n",
            " extracting: train/-140-45---fire_jpg.rf.5be187511377b724ce7f0a6fd2c3db37.jpg  \n",
            " extracting: train/-140-45---fire_jpg.rf.dc270db35db4f76c8b1302c94c4c502d.jpg  \n",
            " extracting: train/-140-45---fire_jpg.rf.e9c2d6dbfb470891eb3448122c0f7f0e.jpg  \n",
            " extracting: train/-140-46---fire_jpg.rf.0d1769ceeae05bc2eb45ad76cf39af98.jpg  \n",
            " extracting: train/-140-46---fire_jpg.rf.5e91b398dbb0917b0bd3cff58f18b770.jpg  \n",
            " extracting: train/-140-46---fire_jpg.rf.6b5c6b61d4b9bb25cf6cf1ddb3b0ab4c.jpg  \n",
            " extracting: train/-140-47---fire_jpg.rf.466b5689397751dbc9b8acb39a103456.jpg  \n",
            " extracting: train/-140-47---fire_jpg.rf.7417b0c217a0e6ae3ad4b812a241f58e.jpg  \n",
            " extracting: train/-140-47---fire_jpg.rf.8edc353643a59294cebce94a385fb9a6.jpg  \n",
            " extracting: train/-140-48---fire_jpg.rf.361fcdfe233fcd4e5d5c0f5d6d18e08e.jpg  \n",
            " extracting: train/-140-48---fire_jpg.rf.7eb5c9c30609c3a50b9fe9c872b4c73d.jpg  \n",
            " extracting: train/-140-48---fire_jpg.rf.92fd69c0ab09f29029197c30147eb350.jpg  \n",
            " extracting: train/-140-50---fire_jpg.rf.115cea2eab25a7fcf47889a06cdc9c04.jpg  \n",
            " extracting: train/-140-50---fire_jpg.rf.34be9e7520c3a6970a7ac0dfcf745152.jpg  \n",
            " extracting: train/-140-50---fire_jpg.rf.da70800b982aab6b8361b7a515e18cc5.jpg  \n",
            " extracting: train/-140-51---fire_jpg.rf.2ceb5a874219c903db8a2bb95ed8b0cc.jpg  \n",
            " extracting: train/-140-51---fire_jpg.rf.6922fc71bf1a90f989b65ef77a775344.jpg  \n",
            " extracting: train/-140-51---fire_jpg.rf.9fe1ce49f3e0e0008b252763d13af43f.jpg  \n",
            " extracting: train/-140-52---fire_jpg.rf.3c5b7b28b983d7bedf9c1405d289d2fe.jpg  \n",
            " extracting: train/-140-52---fire_jpg.rf.d52b36e3a28adfe265390c3a090a2e84.jpg  \n",
            " extracting: train/-140-52---fire_jpg.rf.ec468c76e66b25b2b932ef6a848a1a7e.jpg  \n",
            " extracting: train/-140-53---fire_jpg.rf.0c7e1420333f969a1a6da4308739991a.jpg  \n",
            " extracting: train/-140-53---fire_jpg.rf.42e3f5c1af63374f3703307776bf081d.jpg  \n",
            " extracting: train/-140-53---fire_jpg.rf.8c008980ddcbb79cc7e069fca808bb64.jpg  \n",
            " extracting: train/-140-54---fire_jpg.rf.0e0f64af16c376aa993bc223d67f1542.jpg  \n",
            " extracting: train/-140-54---fire_jpg.rf.312c4d39e5dcf748448c44828d273c3f.jpg  \n",
            " extracting: train/-140-54---fire_jpg.rf.c9c35428c2d346b4d0877248c0fb8871.jpg  \n",
            " extracting: train/-140-56---fire_jpg.rf.3b6bf60cfc5f727b15270a79b608bfb6.jpg  \n",
            " extracting: train/-140-56---fire_jpg.rf.511586a92f8ec660146858f0d20354e9.jpg  \n",
            " extracting: train/-140-56---fire_jpg.rf.7791258407b02a7b32cb1614ad5ff878.jpg  \n",
            " extracting: train/-140-57---fire_jpg.rf.2039cb419ae76f993ec3e4299b5a0b0d.jpg  \n",
            " extracting: train/-140-57---fire_jpg.rf.49beadc66e538b88c9d49ad93f6eb49d.jpg  \n",
            " extracting: train/-140-57---fire_jpg.rf.8e90a49f8c646b76d5f589d2e624674c.jpg  \n",
            " extracting: train/-140-58---fire_jpg.rf.0b56b6bf71db233613fa65d7d30411b1.jpg  \n",
            " extracting: train/-140-58---fire_jpg.rf.2e2eea0d24b99bd9b85b3a2a48b78d47.jpg  \n",
            " extracting: train/-140-58---fire_jpg.rf.e50b06f6b7bafa278bb0a8c36ec54dea.jpg  \n",
            " extracting: train/-140-59---fire_jpg.rf.1e1c192d09a7405aa9c4f701ad22f7c2.jpg  \n",
            " extracting: train/-140-59---fire_jpg.rf.414bcc64451dffee70fdb72761cfd7e4.jpg  \n",
            " extracting: train/-140-59---fire_jpg.rf.a336f745b0f4194c243efcdbcf1329fd.jpg  \n",
            " extracting: train/-140-67---fire_jpg.rf.2f7edfd7e85f6e1860415e1d630b50f5.jpg  \n",
            " extracting: train/-140-67---fire_jpg.rf.48694e37bc119b9e2695ab54147573a7.jpg  \n",
            " extracting: train/-140-67---fire_jpg.rf.978f65290e1ffaf9e65035890fbc63db.jpg  \n",
            " extracting: train/-140-69---fire_jpg.rf.b23084bf1ef4925a6eaf96b575b46a9a.jpg  \n",
            " extracting: train/-140-69---fire_jpg.rf.c4a0721d20f558b1407b9b0e0f779218.jpg  \n",
            " extracting: train/-140-69---fire_jpg.rf.ca513fedd6b249239ea1981278fe00ee.jpg  \n",
            " extracting: train/-140-70---fire_jpg.rf.21ed5bccd58fd127000b89ba07ada735.jpg  \n",
            " extracting: train/-140-70---fire_jpg.rf.29e379ab01e3edc23651e48e204b2fa7.jpg  \n",
            " extracting: train/-140-70---fire_jpg.rf.ad7d86524b78e6619d033b3a8e5ccb75.jpg  \n",
            " extracting: train/-141-65---fire_jpg.rf.47f66d3603956d8440352f59e482fbc9.jpg  \n",
            " extracting: train/-141-65---fire_jpg.rf.4c38daacfc08efebd968c914c7d98536.jpg  \n",
            " extracting: train/-141-65---fire_jpg.rf.bc12d592d2e3c41bc85a16f3f0931f0c.jpg  \n",
            " extracting: train/-141-66---fire_jpg.rf.68c322fd5eb221b2015a600cbcf71256.jpg  \n",
            " extracting: train/-141-66---fire_jpg.rf.7a9e77da622361c02919a954114dcda2.jpg  \n",
            " extracting: train/-141-66---fire_jpg.rf.a6869cc23dafadf4b82e8f8ecf43dae3.jpg  \n",
            " extracting: train/-141-67---fire_jpg.rf.521c505423b26cafb139f244b373094f.jpg  \n",
            " extracting: train/-141-67---fire_jpg.rf.70712a729f3a95f8ae2c946379788ffe.jpg  \n",
            " extracting: train/-141-67---fire_jpg.rf.f1fa24f46e86870a8d23e8f80449ac92.jpg  \n",
            " extracting: train/-141-68---fire_jpg.rf.6c5ed99152d73f6b3489a0e0885aee63.jpg  \n",
            " extracting: train/-141-68---fire_jpg.rf.8c988f3ab24392d2e193f61d4ca56a1b.jpg  \n",
            " extracting: train/-141-68---fire_jpg.rf.ea044fe99d589b81221bc7e4aa7d9721.jpg  \n",
            " extracting: train/-141-69---fire_jpg.rf.3ab995c7112ed5e77fe1894459b56d8c.jpg  \n",
            " extracting: train/-141-69---fire_jpg.rf.44f740da86045a902fd980b4dcc15090.jpg  \n",
            " extracting: train/-141-69---fire_jpg.rf.49f60d03cff21f9d09c38df0e74bb99b.jpg  \n",
            " extracting: train/-141-70---fire_jpg.rf.10830181492578ac1da972d408072506.jpg  \n",
            " extracting: train/-141-70---fire_jpg.rf.160a2d58862166f1d292ce773606b9ed.jpg  \n",
            " extracting: train/-141-70---fire_jpg.rf.1a7700ce0a683683054351439f2f488b.jpg  \n",
            " extracting: train/-141-71---fire_jpg.rf.2700725bda6b13f184073d2a74671a7e.jpg  \n",
            " extracting: train/-141-71---fire_jpg.rf.a797e41919059967645e17a8570822b3.jpg  \n",
            " extracting: train/-141-71---fire_jpg.rf.aa66b27fd7c450bd0fab5f5fb6379008.jpg  \n",
            " extracting: train/-141-72---fire_jpg.rf.32d1037e39ecc07a42839b9200e7454a.jpg  \n",
            " extracting: train/-141-72---fire_jpg.rf.463a7017a5b37ebfeb6106425a829531.jpg  \n",
            " extracting: train/-141-72---fire_jpg.rf.b1634ec909dc8ba53c596f7d5e2f36f0.jpg  \n",
            " extracting: train/-141-73---fire_jpg.rf.03bc4e97ac9baf82b1c781c524face86.jpg  \n",
            " extracting: train/-141-73---fire_jpg.rf.3208c0e67e786a1400489978ad6cb00f.jpg  \n",
            " extracting: train/-141-73---fire_jpg.rf.f9b9754943178179b27502344c944bb9.jpg  \n",
            " extracting: train/-141-74---fire_jpg.rf.75bd29d5ba63292a2e650f01fa55d6f2.jpg  \n",
            " extracting: train/-141-74---fire_jpg.rf.e5c726f253c7a2268afda0025da3c744.jpg  \n",
            " extracting: train/-141-74---fire_jpg.rf.f257f0453def029544e0e0a0cafb298c.jpg  \n",
            " extracting: train/-141-75---fire_jpg.rf.19bd6e6d425bf3caa948797c7516d32c.jpg  \n",
            " extracting: train/-141-75---fire_jpg.rf.328043e5b89fdeb25a861326db36e4d4.jpg  \n",
            " extracting: train/-141-75---fire_jpg.rf.6b0d3b1771c336b7ea7e9d27e23d4ac4.jpg  \n",
            " extracting: train/-142-13---fire_jpg.rf.a251479c918dce684f62336c66a9c84c.jpg  \n",
            " extracting: train/-142-13---fire_jpg.rf.c6c87f135847937daec98984ee4bfc83.jpg  \n",
            " extracting: train/-142-13---fire_jpg.rf.fe18ea7f0a3b4ca87eaad81c724bf86c.jpg  \n",
            " extracting: train/-142-14---fire_jpg.rf.3df805f7959f27eed316bf511288745c.jpg  \n",
            " extracting: train/-142-14---fire_jpg.rf.aa36b1ea328d00fc14856ffad44259c4.jpg  \n",
            " extracting: train/-142-14---fire_jpg.rf.f3bf4dc5fe64d9e5e47c924f51ef3a28.jpg  \n",
            " extracting: train/-142-15---fire_jpg.rf.4bd54fd6dffe71b150113d70ebcab933.jpg  \n",
            " extracting: train/-142-15---fire_jpg.rf.8f310241422fc9a0498efe1d55c16802.jpg  \n",
            " extracting: train/-142-15---fire_jpg.rf.e19535d2d5080308c6c6d9fd521406b3.jpg  \n",
            " extracting: train/-142-16---fire_jpg.rf.0620d056b14c8a414886980150e59bb8.jpg  \n",
            " extracting: train/-142-16---fire_jpg.rf.a36be4701dc94d7ad4e85e2b39c2f279.jpg  \n",
            " extracting: train/-142-16---fire_jpg.rf.b040089fa83b9b353faa485e3f27ad3e.jpg  \n",
            " extracting: train/-142-20---fire_jpg.rf.42a82482c1be6607593cbfc9da7cba3f.jpg  \n",
            " extracting: train/-142-20---fire_jpg.rf.6b04d302bac093b60fb6ee929d3a1dcb.jpg  \n",
            " extracting: train/-142-20---fire_jpg.rf.fefd95b515e376b509b4ed489a740988.jpg  \n",
            " extracting: train/-142-21---fire_jpg.rf.2a1828f71e729eeaa0333813ccb6f017.jpg  \n",
            " extracting: train/-142-21---fire_jpg.rf.435781f4c2b754c8a0b63c28b7e93e19.jpg  \n",
            " extracting: train/-142-21---fire_jpg.rf.5a1b196a3e10f6bdccd488bbeae68966.jpg  \n",
            " extracting: train/-142-22---fire_jpg.rf.93ffa7392ed50741e161c843f02950a9.jpg  \n",
            " extracting: train/-142-22---fire_jpg.rf.cad19ab5affc3d30f4f888f50986ff2a.jpg  \n",
            " extracting: train/-142-22---fire_jpg.rf.f368abe048f5b7b2b368d28bac5acbfb.jpg  \n",
            " extracting: train/-142-24---fire_jpg.rf.57951426991c227726b6416e44f58d86.jpg  \n",
            " extracting: train/-142-24---fire_jpg.rf.7e141107429657ca05e8a22f35cd8472.jpg  \n",
            " extracting: train/-142-24---fire_jpg.rf.9f9626f2958a4d5015eac981ce8bf376.jpg  \n",
            " extracting: train/-142-29---fire_jpg.rf.93e18ddb166cdd3e504bca59e132767a.jpg  \n",
            " extracting: train/-142-29---fire_jpg.rf.acb12f2afee291c341e7b699556814c5.jpg  \n",
            " extracting: train/-142-29---fire_jpg.rf.bdb532d51f140e42db16ea6915de83a0.jpg  \n",
            " extracting: train/-142-30---fire_jpg.rf.7504513191633fcfaf1acf396bcbb721.jpg  \n",
            " extracting: train/-142-30---fire_jpg.rf.91d11d3a92ea269e2d5727dc5189e546.jpg  \n",
            " extracting: train/-142-30---fire_jpg.rf.f0c7e2a9ef0ca43590cb0b7c1be3b065.jpg  \n",
            " extracting: train/-142-31---fire_jpg.rf.47f4e7ee06548370a6eaabf869129c7b.jpg  \n",
            " extracting: train/-142-31---fire_jpg.rf.7ef3daccacda97c4c6a0b54b4deece4d.jpg  \n",
            " extracting: train/-142-31---fire_jpg.rf.d3a8bfe6596eaff108970be603a77800.jpg  \n",
            " extracting: train/-142-32---fire_jpg.rf.60f71236dc1d9e8f2474db746510406c.jpg  \n",
            " extracting: train/-142-32---fire_jpg.rf.7230acb4368315162b4c645e4da662a3.jpg  \n",
            " extracting: train/-142-32---fire_jpg.rf.f6c75b704dd726d85ad5dec9579202ab.jpg  \n",
            " extracting: train/-145-48---fire_jpg.rf.0565bf4af01a03c2996b0acc6eb17214.jpg  \n",
            " extracting: train/-145-48---fire_jpg.rf.148c8741fcf7a760fc70dd49a35ff398.jpg  \n",
            " extracting: train/-145-48---fire_jpg.rf.6ecd01d4b04dfb818118077cf90e1454.jpg  \n",
            " extracting: train/-145-49---fire_jpg.rf.0035bcc5525c318ebe6ab8245d3f14e3.jpg  \n",
            " extracting: train/-145-49---fire_jpg.rf.0c7405c21fa73f48444604dd4613f50c.jpg  \n",
            " extracting: train/-145-49---fire_jpg.rf.5ae21680fa0f6f97a0e89b295174044b.jpg  \n",
            " extracting: train/-145-50---fire_jpg.rf.157e2ddcc9fc132e029602b119435477.jpg  \n",
            " extracting: train/-145-50---fire_jpg.rf.15c8f7a344619aa1673ed365caff89de.jpg  \n",
            " extracting: train/-145-50---fire_jpg.rf.bf78f03e4adb8e2ed8cbb5cdd58c86bf.jpg  \n",
            " extracting: train/-148-15---fire_jpg.rf.6f335d9ca66b929735a2b7de998089a5.jpg  \n",
            " extracting: train/-148-15---fire_jpg.rf.8c55ca36123eae51ef7ae1d45ffa0d11.jpg  \n",
            " extracting: train/-148-15---fire_jpg.rf.ff890fc727021fbb7229b4a5b34ecfc6.jpg  \n",
            " extracting: train/-148-16---fire_jpg.rf.0f21c13ea9b4d7920873f02366d42906.jpg  \n",
            " extracting: train/-148-16---fire_jpg.rf.301bb3cb8ba9033dcc8f0a5e67855c5c.jpg  \n",
            " extracting: train/-148-16---fire_jpg.rf.86965639acc4ec73d3071c02c4466145.jpg  \n",
            " extracting: train/-148-17---fire_jpg.rf.bdf25f5a89e21587789fe98382c9a76a.jpg  \n",
            " extracting: train/-148-17---fire_jpg.rf.decfbb607cbca537b2d5bb0ab67fd107.jpg  \n",
            " extracting: train/-148-17---fire_jpg.rf.eef97c28029ebdfcc6d642adbf815fa8.jpg  \n",
            " extracting: train/-148-18---fire_jpg.rf.9cdf0f358c1a63ef316b1ad0adcca8e2.jpg  \n",
            " extracting: train/-148-18---fire_jpg.rf.9dd5180958fab1a167b540a5910ddc33.jpg  \n",
            " extracting: train/-148-18---fire_jpg.rf.b45e54306f23ad69c04d4b1d8ea82da2.jpg  \n",
            " extracting: train/-148-19---fire_jpg.rf.1d5b898557ba168d1aabec8e24deffe7.jpg  \n",
            " extracting: train/-148-19---fire_jpg.rf.201f82d09903a74b38978a22ce79c02f.jpg  \n",
            " extracting: train/-148-19---fire_jpg.rf.f51abd17528e56ae2ffc8667176f77bf.jpg  \n",
            " extracting: train/-148-21---fire_jpg.rf.09d33dbaf5f54a4d3cab27ef21c34dc1.jpg  \n",
            " extracting: train/-148-21---fire_jpg.rf.8fde286e194fd0420d894f3fb17d141e.jpg  \n",
            " extracting: train/-148-21---fire_jpg.rf.9db814515c56219f01eb64e223f2a296.jpg  \n",
            " extracting: train/-148-22---fire_jpg.rf.68e4ba2d4780f9b249191b25be249779.jpg  \n",
            " extracting: train/-148-22---fire_jpg.rf.719c34d3ca8711ee7438b7fce5c87abd.jpg  \n",
            " extracting: train/-148-22---fire_jpg.rf.a1e1874f1447956e47dc813e9e692f72.jpg  \n",
            " extracting: train/-148-23---fire_jpg.rf.2b09485f0c7e191836398dd328f87b4e.jpg  \n",
            " extracting: train/-148-23---fire_jpg.rf.42e1078775a9710bd378cbb3e98338c4.jpg  \n",
            " extracting: train/-148-23---fire_jpg.rf.5c3e2a081ab009e39e800f68a60864a9.jpg  \n",
            " extracting: train/-148-26---fire_jpg.rf.73c7a7f25e45e80d64ebf7002f496b28.jpg  \n",
            " extracting: train/-148-26---fire_jpg.rf.743e17957fb75f8374a141f8be309291.jpg  \n",
            " extracting: train/-148-26---fire_jpg.rf.8d2b4bcb1eb19137118525ad19517d71.jpg  \n",
            " extracting: train/-148-27---fire_jpg.rf.47d782b82707a1a1c66689a71ff4c0fd.jpg  \n",
            " extracting: train/-148-27---fire_jpg.rf.b3efdd036073531a428b295e7b6ca636.jpg  \n",
            " extracting: train/-148-27---fire_jpg.rf.eb371c63ef64b3088a0c3f7aa5416492.jpg  \n",
            " extracting: train/-148-28---fire_jpg.rf.861157b3c11c6dc12b0df6b56a615795.jpg  \n",
            " extracting: train/-148-28---fire_jpg.rf.9b839424eff5fbd6f1bfc19ec9be9360.jpg  \n",
            " extracting: train/-148-28---fire_jpg.rf.abdf1c1f3dd6adab0b79bfa1df4b245e.jpg  \n",
            " extracting: train/-148-29---fire_jpg.rf.14408e7e6fe65ec5278ec7e864c2a780.jpg  \n",
            " extracting: train/-148-29---fire_jpg.rf.474ec179dc0d825b0c36245d24e06963.jpg  \n",
            " extracting: train/-148-29---fire_jpg.rf.ff6bafee53eed68b591ff0ba5889187f.jpg  \n",
            " extracting: train/-148-71---fire_jpg.rf.78bf7c5bd008da9887b190002484e6ba.jpg  \n",
            " extracting: train/-148-71---fire_jpg.rf.ad585f81630ea3b300ed67f91f395001.jpg  \n",
            " extracting: train/-148-71---fire_jpg.rf.ff44bd8b741f4d5c943f6eb5903ca72b.jpg  \n",
            " extracting: train/-148-72---fire_jpg.rf.21ff9055bec8cda25cddb295945e2f22.jpg  \n",
            " extracting: train/-148-72---fire_jpg.rf.3ac16851c62669b9b688d0bc9c247850.jpg  \n",
            " extracting: train/-148-72---fire_jpg.rf.c27cf34ac29666366784ee18930586c9.jpg  \n",
            " extracting: train/-148-73---fire_jpg.rf.609a4c2f1356f884100a34ae14c5feea.jpg  \n",
            " extracting: train/-148-73---fire_jpg.rf.6994cc766a3ee5064f1c48436ca9a6f1.jpg  \n",
            " extracting: train/-148-73---fire_jpg.rf.bd3f6deb74adac41c7ec70ffaaf918ba.jpg  \n",
            " extracting: train/-149-10---fire_jpg.rf.9d480191496ad9d53942bf43adc7037e.jpg  \n",
            " extracting: train/-149-10---fire_jpg.rf.da4ae5ab464b3aec9aa047074e0e18bf.jpg  \n",
            " extracting: train/-149-10---fire_jpg.rf.e5db445886e17269d2abef73f39cdc2a.jpg  \n",
            " extracting: train/-149-11---fire_jpg.rf.20836ff6821a938abd1e8acb1588e14f.jpg  \n",
            " extracting: train/-149-11---fire_jpg.rf.5d4763f30c7844a0c471191286b4c0e6.jpg  \n",
            " extracting: train/-149-11---fire_jpg.rf.6fc9a2be1d996c784716ee22e4ac5dce.jpg  \n",
            " extracting: train/-149-12---fire_jpg.rf.3d18c27ad3163f2a53eb23bbf013d951.jpg  \n",
            " extracting: train/-149-12---fire_jpg.rf.a6eb24560ff74cc65d4ad0a518dd5ee9.jpg  \n",
            " extracting: train/-149-12---fire_jpg.rf.da68c46b97c7be40ee9491e3549720da.jpg  \n",
            " extracting: train/-149-4---fire_jpg.rf.6ba0ab5cc18bbe3a27a3533580ec98c7.jpg  \n",
            " extracting: train/-149-4---fire_jpg.rf.6bcaf3a74c4412cdceee87faf0301ba8.jpg  \n",
            " extracting: train/-149-4---fire_jpg.rf.d3646a562969df146d6d1dbae2fb7755.jpg  \n",
            " extracting: train/-149-5---fire_jpg.rf.8c22ebc67166d5256ab1377179b87613.jpg  \n",
            " extracting: train/-149-5---fire_jpg.rf.ac3f8d894ab8c55207d0b6275e3af541.jpg  \n",
            " extracting: train/-149-5---fire_jpg.rf.da3fdd518e0dfc170c9694279eff20f8.jpg  \n",
            " extracting: train/-149-6---fire_jpg.rf.6321509ce0a353f86fb222020e7ef1f6.jpg  \n",
            " extracting: train/-149-6---fire_jpg.rf.f7089b2e8d6d417e4fd87003e538dca9.jpg  \n",
            " extracting: train/-149-6---fire_jpg.rf.f770548b3c5ec6a43b6e0947d044f010.jpg  \n",
            " extracting: train/-149-7---fire_jpg.rf.ac9bb6e42b122d06ab7fc796d3eef908.jpg  \n",
            " extracting: train/-149-7---fire_jpg.rf.d9f41d996105d2e8c0dcd5766eb099f1.jpg  \n",
            " extracting: train/-149-7---fire_jpg.rf.f83756816d43e05c4895b6c9cf76946a.jpg  \n",
            " extracting: train/-149-8---fire_jpg.rf.19e044f21a680ea1e441a01999eea3c7.jpg  \n",
            " extracting: train/-149-8---fire_jpg.rf.cf661acc59dc5ba36598a06318531119.jpg  \n",
            " extracting: train/-149-8---fire_jpg.rf.ddccb64e3ade1987325ce879852f425a.jpg  \n",
            " extracting: train/-149-9---fire_jpg.rf.55d1b6eb26a1991542f5a7601ca7f123.jpg  \n",
            " extracting: train/-149-9---fire_jpg.rf.a20b9f4d2456c49d0366006321733bb5.jpg  \n",
            " extracting: train/-149-9---fire_jpg.rf.f3d97d5687bdf7a37a9b595447117d67.jpg  \n",
            " extracting: train/-15-51---fire_jpg.rf.24085edd22d6ebac2b9734efdf4bf5d4.jpg  \n",
            " extracting: train/-15-51---fire_jpg.rf.39e9eeffd4bc7eb2fe7de4154c280cd8.jpg  \n",
            " extracting: train/-15-51---fire_jpg.rf.5ef214b7db818bd7726df130c9bd419b.jpg  \n",
            " extracting: train/-15-52---fire_jpg.rf.32ca8f734f21679432e32a288aa23775.jpg  \n",
            " extracting: train/-15-52---fire_jpg.rf.5fa97ad3895b3ce408af40db2388e0ae.jpg  \n",
            " extracting: train/-15-52---fire_jpg.rf.699bc6ba74aeeb33fdad8db4da2ccb66.jpg  \n",
            " extracting: train/-15-53---fire_jpg.rf.3648d29b36421c9e60286c4f6173a042.jpg  \n",
            " extracting: train/-15-53---fire_jpg.rf.402f37a0fd2cd402e022472660825e99.jpg  \n",
            " extracting: train/-15-53---fire_jpg.rf.bb87faa87b9164f3a9aca5561cb4806d.jpg  \n",
            " extracting: train/-15-54---fire_jpg.rf.46bfa04249c5abb191e32c99af6f8991.jpg  \n",
            " extracting: train/-15-54---fire_jpg.rf.bf04227e14df24dfa15bfb9b14941903.jpg  \n",
            " extracting: train/-15-54---fire_jpg.rf.ce3567770c1d204dfe2b9bf8e0e2b45d.jpg  \n",
            " extracting: train/-15-55---fire_jpg.rf.565b1204e3daa54ac2d3f04531f2d066.jpg  \n",
            " extracting: train/-15-55---fire_jpg.rf.6e7089c66835ad6d30b1d83c98ad18d3.jpg  \n",
            " extracting: train/-15-55---fire_jpg.rf.8126f4d79aedaeba4847559833b14c3c.jpg  \n",
            " extracting: train/-15-56---fire_jpg.rf.2b41932ccdea4c7ad0dd0a8e607b8dde.jpg  \n",
            " extracting: train/-15-56---fire_jpg.rf.4959bbf0f16eabe27eda6be8204ebc3d.jpg  \n",
            " extracting: train/-15-56---fire_jpg.rf.6c1eb12ccd87868195e4c5e9e85c0f07.jpg  \n",
            " extracting: train/-15-57---fire_jpg.rf.a47510c7f4e5bf0aa3dad279f1fa0bdb.jpg  \n",
            " extracting: train/-15-57---fire_jpg.rf.b43f476a21e6c638d21fe8178c5089ea.jpg  \n",
            " extracting: train/-15-57---fire_jpg.rf.bf2d0788fb209ac1dae4921df258b2e9.jpg  \n",
            " extracting: train/-15-58---fire_jpg.rf.6d3bbe24319e23836c4da908cb8f5796.jpg  \n",
            " extracting: train/-15-58---fire_jpg.rf.81643864e2ea5cf8cfd5d84784eba07c.jpg  \n",
            " extracting: train/-15-58---fire_jpg.rf.a94020143ce9deed662aac3f063122d0.jpg  \n",
            " extracting: train/-15-59---fire_jpg.rf.012619cc872a6589ea7a1c29842a0499.jpg  \n",
            " extracting: train/-15-59---fire_jpg.rf.981d6fa240584643838595fe6cbd20a6.jpg  \n",
            " extracting: train/-15-59---fire_jpg.rf.a5178d0bfc54da067c6fadef884e6323.jpg  \n",
            " extracting: train/-15-60---fire_jpg.rf.4c65ee514051fb5029bef2f2ea4086d5.jpg  \n",
            " extracting: train/-15-60---fire_jpg.rf.c428d9ced5f4ad7b82b24674c4adcd47.jpg  \n",
            " extracting: train/-15-60---fire_jpg.rf.f7c72b8a7615baa174676574499b87d1.jpg  \n",
            " extracting: train/-15-61---fire_jpg.rf.2b63a75bd73adbb7c9a46cfd0866cedc.jpg  \n",
            " extracting: train/-15-61---fire_jpg.rf.48aae8513b9809cfa7fc21bf6e269333.jpg  \n",
            " extracting: train/-15-61---fire_jpg.rf.8f3a0607a07135c24c0fcaad1f48b7b9.jpg  \n",
            " extracting: train/-15-65---fire_jpg.rf.7f0c6f76d6e2664e2b3e3562347333fa.jpg  \n",
            " extracting: train/-15-65---fire_jpg.rf.a0bc9b19bcb09d8bebf8c6eac56bc07e.jpg  \n",
            " extracting: train/-15-65---fire_jpg.rf.e348f5879ee475bc3766c03fc8c75ea5.jpg  \n",
            " extracting: train/-15-67---fire_jpg.rf.1de8c9fd64b90f1a4dd146a3c50de294.jpg  \n",
            " extracting: train/-15-67---fire_jpg.rf.4ee560b9a90ec35b7173c1f5cd90723f.jpg  \n",
            " extracting: train/-15-67---fire_jpg.rf.5a4a0710bdd15967b14889cf917d6e63.jpg  \n",
            " extracting: train/-15-68---fire_jpg.rf.69434181f134f0770d5db91fe6e73a5c.jpg  \n",
            " extracting: train/-15-68---fire_jpg.rf.69ece7528f1a2c4d2d889a4f44f81f72.jpg  \n",
            " extracting: train/-15-68---fire_jpg.rf.9e6eee02743a338c49f67b2ea1f8ec6a.jpg  \n",
            " extracting: train/-15-70---fire_jpg.rf.2c001d5a2f9a3b4d87e06103d34df9f9.jpg  \n",
            " extracting: train/-15-70---fire_jpg.rf.31290d1a35a9553d2228465af63125b8.jpg  \n",
            " extracting: train/-15-70---fire_jpg.rf.adb6b8b11164c6cf8927a62bb268d795.jpg  \n",
            " extracting: train/-15-71---fire_jpg.rf.7eef4b82d6f3b8a5f829b1606b500419.jpg  \n",
            " extracting: train/-15-71---fire_jpg.rf.8168cac7162493415c688442b23f4a97.jpg  \n",
            " extracting: train/-15-71---fire_jpg.rf.e9991c7101f65f5e500fd74eed4aeb4d.jpg  \n",
            " extracting: train/-15-72---fire_jpg.rf.251318e3fad7c1eed430be9e1ca5bfc5.jpg  \n",
            " extracting: train/-15-72---fire_jpg.rf.5afa2707e9acf2fd0cc6a4cc0f1114b3.jpg  \n",
            " extracting: train/-15-72---fire_jpg.rf.b56756bdf9ae9eae450bf5f51862da57.jpg  \n",
            " extracting: train/-15-73---fire_jpg.rf.39c222b1938c7468d4f3799fcaa56c5f.jpg  \n",
            " extracting: train/-15-73---fire_jpg.rf.b111ad9f87e4e6a73bec3e06599f662d.jpg  \n",
            " extracting: train/-15-73---fire_jpg.rf.ebc3b159220f448636dea473ec2377dd.jpg  \n",
            " extracting: train/-15-74---fire_jpg.rf.2b5e9614e325d20475a72eaf0f2778bf.jpg  \n",
            " extracting: train/-15-74---fire_jpg.rf.380a109e0fb1782524783d2c3e2e452b.jpg  \n",
            " extracting: train/-15-74---fire_jpg.rf.a54e29ddc278a3687673433aeeaefd37.jpg  \n",
            " extracting: train/-15-76---fire_jpg.rf.5d2e7bb121effcec5ba2c08312b7e689.jpg  \n",
            " extracting: train/-15-76---fire_jpg.rf.724ec3795746770484a2e2e33e56f8d9.jpg  \n",
            " extracting: train/-15-76---fire_jpg.rf.d8ba1d7e3f6d7f238b54517e9fef06df.jpg  \n",
            " extracting: train/-15-77---fire_jpg.rf.32eb69367c6620970aba86b9521d6910.jpg  \n",
            " extracting: train/-15-77---fire_jpg.rf.525ee9df78dfeece644e5cb56664c86d.jpg  \n",
            " extracting: train/-15-77---fire_jpg.rf.6c7ac03ebe2e3d26c22d58df0b8e72ab.jpg  \n",
            " extracting: train/-15-78---fire_jpg.rf.06b9f4205e7a5c983976b577b7fc7d81.jpg  \n",
            " extracting: train/-15-78---fire_jpg.rf.bc904054d7a7619ac568dc0bee00f2b4.jpg  \n",
            " extracting: train/-15-78---fire_jpg.rf.e134ed3cf555aaf019994704272c344e.jpg  \n",
            " extracting: train/-15-79---fire_jpg.rf.2ec54ed278453436cb3e434ada833964.jpg  \n",
            " extracting: train/-15-79---fire_jpg.rf.7106194faa6b166011f885177446f91d.jpg  \n",
            " extracting: train/-15-79---fire_jpg.rf.f6ac67b804dbb54ce52bde4f89bdc415.jpg  \n",
            " extracting: train/-15-80---fire_jpg.rf.9d399181a31d54003a6acb5f6bac23b9.jpg  \n",
            " extracting: train/-15-80---fire_jpg.rf.9ea858a90d867bc2f2613899354efaf7.jpg  \n",
            " extracting: train/-15-80---fire_jpg.rf.ebfabcf54da1af4e93ab36d43ac847f3.jpg  \n",
            " extracting: train/-15-82---fire_jpg.rf.10f5ba182d033c8e1c1e1e8fac5db3c8.jpg  \n",
            " extracting: train/-15-82---fire_jpg.rf.9cf13267d0a260cfc6e2fd97343feb3a.jpg  \n",
            " extracting: train/-15-82---fire_jpg.rf.c7e906ada61458443f8bc9ed9bb4954c.jpg  \n",
            " extracting: train/-15-84---fire_jpg.rf.4277794039371820255b25e010937538.jpg  \n",
            " extracting: train/-15-84---fire_jpg.rf.b47116187a579666cc998efc956a874c.jpg  \n",
            " extracting: train/-15-84---fire_jpg.rf.f1266af5701b581e787359c09735e9f2.jpg  \n",
            " extracting: train/-150-14---fire_jpg.rf.6ddd739670e8d5c04674568e254001cc.jpg  \n",
            " extracting: train/-150-14---fire_jpg.rf.d9ed9c7eb6d8d0aab13f842e610caa56.jpg  \n",
            " extracting: train/-150-14---fire_jpg.rf.ff6eca68a436bb53bb190912075a2db1.jpg  \n",
            " extracting: train/-150-16---fire_jpg.rf.3d2a930cdffcdb65f9dfb929c6925b01.jpg  \n",
            " extracting: train/-150-16---fire_jpg.rf.9728cd906aa630b59e97934d4de63c6e.jpg  \n",
            " extracting: train/-150-16---fire_jpg.rf.e7c34981fff809dca263cc5af4fac290.jpg  \n",
            " extracting: train/-150-17---fire_jpg.rf.3cb5960dac6bce91d90355214a484620.jpg  \n",
            " extracting: train/-150-17---fire_jpg.rf.40830fd086c11258d049ee2f90b7f97b.jpg  \n",
            " extracting: train/-150-17---fire_jpg.rf.5e0b028b441c514b3ca4e594fe6d3356.jpg  \n",
            " extracting: train/-150-18---fire_jpg.rf.00c42005d5e1b230be57d2d3d19e0bc7.jpg  \n",
            " extracting: train/-150-18---fire_jpg.rf.24d57ab96163287b8e7580dd637fe232.jpg  \n",
            " extracting: train/-150-18---fire_jpg.rf.fd0e59bce0298e27769fab14e7343827.jpg  \n",
            " extracting: train/-150-19---fire_jpg.rf.34d6bc8e24724131959678906e6a9abe.jpg  \n",
            " extracting: train/-150-19---fire_jpg.rf.4626c158033ddeaf928458cf3bbaa393.jpg  \n",
            " extracting: train/-150-19---fire_jpg.rf.c19baccd5b34d30776c87ea3a11b555a.jpg  \n",
            " extracting: train/-150-20---fire_jpg.rf.282be712dffe7269250af9864ca855ca.jpg  \n",
            " extracting: train/-150-20---fire_jpg.rf.6ffeea5dcb13d9d6507a63f3786353da.jpg  \n",
            " extracting: train/-150-20---fire_jpg.rf.7f9f86c0c7693749486d2959ecac587a.jpg  \n",
            " extracting: train/-150-21---fire_jpg.rf.388f18c79518c6d116cba8de4dfdaf61.jpg  \n",
            " extracting: train/-150-21---fire_jpg.rf.925e58ea92b90f81e1694aa3f8b2e6dd.jpg  \n",
            " extracting: train/-150-21---fire_jpg.rf.e6570ad69e651034f728848c99e06834.jpg  \n",
            " extracting: train/-150-22---fire_jpg.rf.051aceeec872528ef30566439d79dd4a.jpg  \n",
            " extracting: train/-150-22---fire_jpg.rf.599712f2b463a0146bdcb876e1aa9dbe.jpg  \n",
            " extracting: train/-150-22---fire_jpg.rf.6427ed99cc0dd0b6ac56bd68299a9f68.jpg  \n",
            " extracting: train/-150-23---fire_jpg.rf.135bf59b531e52c6bb96da2cbcdc4ae1.jpg  \n",
            " extracting: train/-150-23---fire_jpg.rf.c9295c8e1e67d8b651f77ad1948337fc.jpg  \n",
            " extracting: train/-150-23---fire_jpg.rf.e9e7ca97124b8e3978c320c712b544cc.jpg  \n",
            " extracting: train/-151-14---fire_jpg.rf.54ba2f0a4c17d01fc6ad9882511b0eb7.jpg  \n",
            " extracting: train/-151-14---fire_jpg.rf.6a64debbe77b74deee73cb7db75573c2.jpg  \n",
            " extracting: train/-151-14---fire_jpg.rf.e1100c50e51d588deb3467f1a20bc588.jpg  \n",
            " extracting: train/-151-15---fire_jpg.rf.2b202f607bb8ddfe16b0be4d195dd013.jpg  \n",
            " extracting: train/-151-15---fire_jpg.rf.9f2f040d32bbcc4469053ef41dc7ecef.jpg  \n",
            " extracting: train/-151-15---fire_jpg.rf.cb16f307c05b9a20e72722c4ee283387.jpg  \n",
            " extracting: train/-151-16---fire_jpg.rf.09a83c66f251194bc52de760480f4b55.jpg  \n",
            " extracting: train/-151-16---fire_jpg.rf.5d8ca11dedb12029341974b79553a849.jpg  \n",
            " extracting: train/-151-16---fire_jpg.rf.e214eeb99640bb287e1c5521ecf2fd62.jpg  \n",
            " extracting: train/-151-18---fire_jpg.rf.223a607d85fcf89f2aa15c9891c5784a.jpg  \n",
            " extracting: train/-151-18---fire_jpg.rf.d1e40b8b0c0ab1ec077d4a97c61f5155.jpg  \n",
            " extracting: train/-151-18---fire_jpg.rf.fff01cd64e47a7ce82a08d07490d6228.jpg  \n",
            " extracting: train/-151-19---fire_jpg.rf.3acafeadbcf7c9a5b59e52ac27a6444b.jpg  \n",
            " extracting: train/-151-19---fire_jpg.rf.a064f9d65926ab33bd1caaf220b279b7.jpg  \n",
            " extracting: train/-151-19---fire_jpg.rf.d569207dcbaa484a947ef4d147df7d0f.jpg  \n",
            " extracting: train/-151-20---fire_jpg.rf.15a22ac432444be27af784d323eb20b6.jpg  \n",
            " extracting: train/-151-20---fire_jpg.rf.69b0906bbb3df62118743b49e3acd61a.jpg  \n",
            " extracting: train/-151-20---fire_jpg.rf.d6c9ddaca61c2308d8a8321676f6608f.jpg  \n",
            " extracting: train/-151-21---fire_jpg.rf.165ae5d9d54af33758bf999390dced7e.jpg  \n",
            " extracting: train/-151-21---fire_jpg.rf.34f90b49ad029bc95d017f0ce955e893.jpg  \n",
            " extracting: train/-151-21---fire_jpg.rf.63d4fa5618c4a578512a1f7cf75f01aa.jpg  \n",
            " extracting: train/-151-22---fire_jpg.rf.15ae5ef43ace1bb0bbb2686525e4d689.jpg  \n",
            " extracting: train/-151-22---fire_jpg.rf.49529007f1281c940b9388fc251576d1.jpg  \n",
            " extracting: train/-151-22---fire_jpg.rf.e8957fa9294a5967156008b1da94caaa.jpg  \n",
            " extracting: train/-151-23---fire_jpg.rf.09677214214d1b07193dc91ebef0c861.jpg  \n",
            " extracting: train/-151-23---fire_jpg.rf.16edf144426e911747aad8a39ab0552d.jpg  \n",
            " extracting: train/-151-23---fire_jpg.rf.3c27a6bc6b5456e0c58e3005b7f975e2.jpg  \n",
            " extracting: train/-151-24---fire_jpg.rf.0cd251c3a12836ba429cfa051335d4c7.jpg  \n",
            " extracting: train/-151-24---fire_jpg.rf.53510c0d7e15cf40eb453dfcf81d3391.jpg  \n",
            " extracting: train/-151-24---fire_jpg.rf.753b95546cb626494ca77b2a568a653b.jpg  \n",
            " extracting: train/-151-25---fire_jpg.rf.0025dbb661111412e4452788b28fd150.jpg  \n",
            " extracting: train/-151-25---fire_jpg.rf.7b700a547ddab10e6551952ca3be5d3b.jpg  \n",
            " extracting: train/-151-25---fire_jpg.rf.958acadc0823dd36da1e1c683964fa27.jpg  \n",
            " extracting: train/-151-26---fire_jpg.rf.4dd4fcc8afdf967684f4cc736c17b11d.jpg  \n",
            " extracting: train/-151-26---fire_jpg.rf.56db482018045c7eeeb2b2da0cfd91a5.jpg  \n",
            " extracting: train/-151-26---fire_jpg.rf.692beaa77db049d29c15f4802e0f8d6f.jpg  \n",
            " extracting: train/-151-28---fire_jpg.rf.ea8d733d184378e70c2d1d3aed536596.jpg  \n",
            " extracting: train/-151-28---fire_jpg.rf.f3bed25a83e1769a3e1f54e122305324.jpg  \n",
            " extracting: train/-151-28---fire_jpg.rf.f5177bbdc831eb6ba207b7ad3ab7c17c.jpg  \n",
            " extracting: train/-151-29---fire_jpg.rf.04c27d77123982b3d6b9ac72da5b850d.jpg  \n",
            " extracting: train/-151-29---fire_jpg.rf.1eec9742694da4118a66da07dac4af52.jpg  \n",
            " extracting: train/-151-29---fire_jpg.rf.55d933742a4f1a969b2d5555668d22bb.jpg  \n",
            " extracting: train/-151-30---fire_jpg.rf.11053a5e0324e7e254c1c5f3a6901e82.jpg  \n",
            " extracting: train/-151-30---fire_jpg.rf.e82d81a75d1c9389ae885e0bae26faf3.jpg  \n",
            " extracting: train/-151-30---fire_jpg.rf.f11d74d7c0009a4686a4380cdd7acef7.jpg  \n",
            " extracting: train/-151-31---fire_jpg.rf.7498dd6448cda201fa58a0b32cf67d92.jpg  \n",
            " extracting: train/-151-31---fire_jpg.rf.cd97a4637e626f2e9a7eef0f196bf34d.jpg  \n",
            " extracting: train/-151-31---fire_jpg.rf.de7da557202f729dbaa816490a17f598.jpg  \n",
            " extracting: train/-151-33---fire_jpg.rf.62dd08e94b00c6fe37a5b0e9c07eb22e.jpg  \n",
            " extracting: train/-151-33---fire_jpg.rf.7eebdb69dcc250f9e7a6cbb2d95acf02.jpg  \n",
            " extracting: train/-151-33---fire_jpg.rf.b21a10100e6c7844217350336ad61fa2.jpg  \n",
            " extracting: train/-151-34---fire_jpg.rf.80779755a12ef68cad701e4f5859e2dc.jpg  \n",
            " extracting: train/-151-34---fire_jpg.rf.a3637e70d3a489070556953edb324398.jpg  \n",
            " extracting: train/-151-34---fire_jpg.rf.a619f2cf06e9917b3759c811a4e1ef8a.jpg  \n",
            " extracting: train/-151-35---fire_jpg.rf.40313f7ced02f5795db9e9ab4653e1f5.jpg  \n",
            " extracting: train/-151-35---fire_jpg.rf.ba22ee7751917ae42aa74df0a548019b.jpg  \n",
            " extracting: train/-151-35---fire_jpg.rf.c495fe75c528b35dc806151d46c5252c.jpg  \n",
            " extracting: train/-151-36---fire_jpg.rf.90c6af52e52406d247aa9c91b8cfc70c.jpg  \n",
            " extracting: train/-151-36---fire_jpg.rf.ada9fd5e593439700cad7159b4d42a08.jpg  \n",
            " extracting: train/-151-36---fire_jpg.rf.eef2a6007c2475cd6af62d6329b90708.jpg  \n",
            " extracting: train/-151-37---fire_jpg.rf.0a00c0597babaa976e913b66ecf510b0.jpg  \n",
            " extracting: train/-151-37---fire_jpg.rf.17b50be37087c10c718ee72fc1559556.jpg  \n",
            " extracting: train/-151-37---fire_jpg.rf.877f5d406367536916b9a4dac51da7fa.jpg  \n",
            " extracting: train/-151-38---fire_jpg.rf.108e36c0217e7eb35af4bbc36e74dd98.jpg  \n",
            " extracting: train/-151-38---fire_jpg.rf.27dedf93571202f77a89d29fbca3a6cf.jpg  \n",
            " extracting: train/-151-38---fire_jpg.rf.d68a42d6755d9b75e022c0455a1b16b1.jpg  \n",
            " extracting: train/-151-49---fire_jpg.rf.4b4532f11edb8c34ee17de2cfc3955ee.jpg  \n",
            " extracting: train/-151-49---fire_jpg.rf.9427eaceb8ee649fc30c7add2298e62f.jpg  \n",
            " extracting: train/-151-49---fire_jpg.rf.ec33b9b9ded6ed6bd9dd3fe44da88757.jpg  \n",
            " extracting: train/-151-50---fire_jpg.rf.23dce1be8b9234812675d69cceb8c6bd.jpg  \n",
            " extracting: train/-151-50---fire_jpg.rf.8231bcf752614017fbbfddede37fc26a.jpg  \n",
            " extracting: train/-151-50---fire_jpg.rf.91ee17ffb1ad73729ab00cb06b23baca.jpg  \n",
            " extracting: train/-151-52---fire_jpg.rf.a5e33aa91ec74e52cf2b2ea1d4ffcb3c.jpg  \n",
            " extracting: train/-151-52---fire_jpg.rf.e9989ab3b9a0584e631c751879f4ec14.jpg  \n",
            " extracting: train/-151-52---fire_jpg.rf.e9f32e22530ba3ce6d8fb7f5b57d2522.jpg  \n",
            " extracting: train/-151-53---fire_jpg.rf.730c50def6e35eb2e409175f4cd82b53.jpg  \n",
            " extracting: train/-151-53---fire_jpg.rf.9fe9791ad3457165831adbf74c16980d.jpg  \n",
            " extracting: train/-151-53---fire_jpg.rf.dd22e9651b90f7184d33a364aa4ded53.jpg  \n",
            " extracting: train/-152-12---fire_jpg.rf.5ef8250504de22ee899994f1538a82fe.jpg  \n",
            " extracting: train/-152-12---fire_jpg.rf.90890e1b51f77c9c0700f9d9c826dffb.jpg  \n",
            " extracting: train/-152-12---fire_jpg.rf.e6524ca41f3cc5a77b16b47ce9f91546.jpg  \n",
            " extracting: train/-152-13---fire_jpg.rf.0bd3ef5897ab610ed677b760984643c0.jpg  \n",
            " extracting: train/-152-13---fire_jpg.rf.7acb6a68253cfc8a4817c7e5af0a57cb.jpg  \n",
            " extracting: train/-152-13---fire_jpg.rf.9e3156d9eae0368a877179e413463002.jpg  \n",
            " extracting: train/-152-14---fire_jpg.rf.43fba6f29c8f9c5e038e98a92f3f7b34.jpg  \n",
            " extracting: train/-152-14---fire_jpg.rf.4cf331e68997ed834890356b1a8e324b.jpg  \n",
            " extracting: train/-152-14---fire_jpg.rf.6cf6bec1b3329b58acc9d1018d864e5c.jpg  \n",
            " extracting: train/-152-15---fire_jpg.rf.68a2e97a9344739414e2648c8dc3ddfb.jpg  \n",
            " extracting: train/-152-15---fire_jpg.rf.89581628718cd93b6fa757f52d95606b.jpg  \n",
            " extracting: train/-152-15---fire_jpg.rf.ca0a758192f73c3b1e2686dff4ebce74.jpg  \n",
            " extracting: train/-152-17---fire_jpg.rf.01e0fcadddd4b0d018a12da6d0377c00.jpg  \n",
            " extracting: train/-152-17---fire_jpg.rf.c337c3597328b304ee2078ca0d325df5.jpg  \n",
            " extracting: train/-152-17---fire_jpg.rf.ff4b99116bd938c5920a3547ea20cf41.jpg  \n",
            " extracting: train/-152-18---fire_jpg.rf.6cffefb6341d44988580fdaafbee98d9.jpg  \n",
            " extracting: train/-152-18---fire_jpg.rf.9f5773e0b015afa037d9c0d93cf37d38.jpg  \n",
            " extracting: train/-152-18---fire_jpg.rf.b3b1b0edd0b528da323ef634a30db6cf.jpg  \n",
            " extracting: train/-152-19---fire_jpg.rf.39ec1adb077e6e046ea2a34a5f9db5df.jpg  \n",
            " extracting: train/-152-19---fire_jpg.rf.44cd5a1a3eb24892129f50d9a30c0d5e.jpg  \n",
            " extracting: train/-152-19---fire_jpg.rf.cd7575c186de70051fbd7eba88d38afe.jpg  \n",
            " extracting: train/-152-20---fire_jpg.rf.ca76d133d06c3c7452280646a1152550.jpg  \n",
            " extracting: train/-152-20---fire_jpg.rf.ce36dfa345b29ff0be4dacad797a6937.jpg  \n",
            " extracting: train/-152-20---fire_jpg.rf.ff4a65f9ee2de6606a363c29a0108cb3.jpg  \n",
            " extracting: train/-152-21---fire_jpg.rf.13485f7ed21df4502c313390020a752f.jpg  \n",
            " extracting: train/-152-21---fire_jpg.rf.b5fe38f9509fa9ee78c797c7ee7ca1a2.jpg  \n",
            " extracting: train/-152-21---fire_jpg.rf.f8029b298ab650d0be09caa99af8d45e.jpg  \n",
            " extracting: train/-152-22---fire_jpg.rf.194801e5421f17e7619a8dea72c2bcc0.jpg  \n",
            " extracting: train/-152-22---fire_jpg.rf.575ac9c5b02e6eee9ab52cc8c2e7b0c3.jpg  \n",
            " extracting: train/-152-22---fire_jpg.rf.cfe6f6ccd4d09d5cc1aa281f03899519.jpg  \n",
            " extracting: train/-152-23---fire_jpg.rf.17978f983097b6b78bbbe6f4ae648422.jpg  \n",
            " extracting: train/-152-23---fire_jpg.rf.28d5d6c91a70870215f0c48e93d5e2c1.jpg  \n",
            " extracting: train/-152-23---fire_jpg.rf.b2a288a47616039485165082cf98462c.jpg  \n",
            " extracting: train/-152-24---fire_jpg.rf.96a57940c4fa118791c127167685bfef.jpg  \n",
            " extracting: train/-152-24---fire_jpg.rf.a01b0bd77c984fcb48019ef731716f26.jpg  \n",
            " extracting: train/-152-24---fire_jpg.rf.dd6995d01284a11e08ad74475de17bee.jpg  \n",
            " extracting: train/-152-26---fire_jpg.rf.796aa0aca5d55f5cd6e833a0d6d94030.jpg  \n",
            " extracting: train/-152-26---fire_jpg.rf.b746c068accacc327a541076c28158b3.jpg  \n",
            " extracting: train/-152-26---fire_jpg.rf.fc02619e1872c7434c81130bc773d0f2.jpg  \n",
            " extracting: train/-152-27---fire_jpg.rf.311b7aba90af87d02e5d04045dea0b29.jpg  \n",
            " extracting: train/-152-27---fire_jpg.rf.92aaf3296ef57225181e1bc14a308fa0.jpg  \n",
            " extracting: train/-152-27---fire_jpg.rf.bf444149a81160c123befa459c710fdf.jpg  \n",
            " extracting: train/-152-28---fire_jpg.rf.1a772869211e3619a035a7b18aa3e230.jpg  \n",
            " extracting: train/-152-28---fire_jpg.rf.1beef36c433e64d2f9596faad1c9eecb.jpg  \n",
            " extracting: train/-152-28---fire_jpg.rf.be84cdf03fcd76d3fa0ad6dca41cd2cd.jpg  \n",
            " extracting: train/-152-29---fire_jpg.rf.1e190493709230cdcb48ad68716eb129.jpg  \n",
            " extracting: train/-152-29---fire_jpg.rf.59467c6c126d2ad9c276c3efd55d2c9b.jpg  \n",
            " extracting: train/-152-29---fire_jpg.rf.e4ad5d107f87f797e35a6c827e553e20.jpg  \n",
            " extracting: train/-152-30---fire_jpg.rf.30328611882bc0b4da90a9b4aa9ed4d3.jpg  \n",
            " extracting: train/-152-30---fire_jpg.rf.6e732d5d11f79d3c500c60954a5bdfb5.jpg  \n",
            " extracting: train/-152-30---fire_jpg.rf.8a2a741e4533c015b7262bcec5df573c.jpg  \n",
            " extracting: train/-152-33---fire_jpg.rf.0e9a4b46a9dadd23c1c1dc8ba8c016ae.jpg  \n",
            " extracting: train/-152-33---fire_jpg.rf.5b1436422f594fca470f279b598fe573.jpg  \n",
            " extracting: train/-152-33---fire_jpg.rf.a9ddc01cb653ae5dbe1cef8864cf9323.jpg  \n",
            " extracting: train/-152-34---fire_jpg.rf.48f38f51bd3e85e2fbb3f399301ffcca.jpg  \n",
            " extracting: train/-152-34---fire_jpg.rf.82800f6bf8bf437284b3f6afac62c005.jpg  \n",
            " extracting: train/-152-34---fire_jpg.rf.b25a43c8807ed88eaf4108e75e15481d.jpg  \n",
            " extracting: train/-152-35---fire_jpg.rf.785bf6d65e5b76ecbb424d3a2f1f3e6d.jpg  \n",
            " extracting: train/-152-35---fire_jpg.rf.96c9a1d7e6278c3902dcb59b294192c4.jpg  \n",
            " extracting: train/-152-35---fire_jpg.rf.f4bdb4678b369d181c5c5193922035a9.jpg  \n",
            " extracting: train/-152-36---fire_jpg.rf.44fbc4d6902e1717b4c41dbf65029b42.jpg  \n",
            " extracting: train/-152-36---fire_jpg.rf.6be289c39fcdfe924548bab7b7117669.jpg  \n",
            " extracting: train/-152-36---fire_jpg.rf.6c3b7f3b16f332afb6e2d34b9dece5cf.jpg  \n",
            " extracting: train/-152-37---fire_jpg.rf.2d9263553fdd3a9ba50365b99bbdcf23.jpg  \n",
            " extracting: train/-152-37---fire_jpg.rf.5b13d5dc20ce638b53b0ce2a659670ff.jpg  \n",
            " extracting: train/-152-37---fire_jpg.rf.ce2f203d0ee801aa52ed98b34cde793e.jpg  \n",
            " extracting: train/-152-38---fire_jpg.rf.4aad6a0a57145701412b3305e270518f.jpg  \n",
            " extracting: train/-152-38---fire_jpg.rf.929c5fd2e72ceb0782e7d20ecbdb91e0.jpg  \n",
            " extracting: train/-152-38---fire_jpg.rf.c8d4e8d4df78d75bee9c93924424a3b4.jpg  \n",
            " extracting: train/-152-39---fire_jpg.rf.1ffda2f4fb213baa5f4131d5b175afe9.jpg  \n",
            " extracting: train/-152-39---fire_jpg.rf.5ef66bdef929c27eda7a45e8a1a833b0.jpg  \n",
            " extracting: train/-152-39---fire_jpg.rf.85d3bed944c84d7f87a8e63b7163a6e6.jpg  \n",
            " extracting: train/-152-40---fire_jpg.rf.3ea4ae4c1bbcb103c350acd76c8aeaa6.jpg  \n",
            " extracting: train/-152-40---fire_jpg.rf.9db2e549d5eae0c2cdac7f29afe500d4.jpg  \n",
            " extracting: train/-152-40---fire_jpg.rf.b9936555ec47261b7feea093919ec9e8.jpg  \n",
            " extracting: train/-152-41---fire_jpg.rf.20bbe93b315c6f4eab2d05a2c0dc866c.jpg  \n",
            " extracting: train/-152-41---fire_jpg.rf.257547621855fec1ba50da7b874f25c3.jpg  \n",
            " extracting: train/-152-41---fire_jpg.rf.ebb2e3cdd28d0891191f437dd1e19607.jpg  \n",
            " extracting: train/-152-42---fire_jpg.rf.2595393c27a53e2b03caa7f86aa5d2d3.jpg  \n",
            " extracting: train/-152-42---fire_jpg.rf.5963ea13d9d7d1be4c13f1ec105273dc.jpg  \n",
            " extracting: train/-152-42---fire_jpg.rf.c79ac3147253ec6e46a5a89a5a0b494d.jpg  \n",
            " extracting: train/-152-44---fire_jpg.rf.018a4af76c57bbfd1aa9d868eb0b5144.jpg  \n",
            " extracting: train/-152-44---fire_jpg.rf.182fbffa6bf1627365fa77d1d9ac76a0.jpg  \n",
            " extracting: train/-152-44---fire_jpg.rf.d9a3d76e53489c0d431327bbfeed1d4c.jpg  \n",
            " extracting: train/-152-45---fire_jpg.rf.7a354011ab0922136fbc30d2600a09fd.jpg  \n",
            " extracting: train/-152-45---fire_jpg.rf.7b029d3649fb20837921e38302adb088.jpg  \n",
            " extracting: train/-152-45---fire_jpg.rf.fab9b1007392b00bd277102cad7239cb.jpg  \n",
            " extracting: train/-152-46---fire_jpg.rf.0be98aadce69651edf2a2845c2671302.jpg  \n",
            " extracting: train/-152-46---fire_jpg.rf.172d02c3ae2ce8d97bd5ae0bba4aca9a.jpg  \n",
            " extracting: train/-152-46---fire_jpg.rf.4179c715c522244d45e4f8f59b7386c8.jpg  \n",
            " extracting: train/-152-47---fire_jpg.rf.316c806d540eb3ce0326f880c5fbb53b.jpg  \n",
            " extracting: train/-152-47---fire_jpg.rf.a3a0a5a84d757087545ac483f788956b.jpg  \n",
            " extracting: train/-152-47---fire_jpg.rf.ee06987edde0dc7af33da2373e303212.jpg  \n",
            " extracting: train/-152-48---fire_jpg.rf.02e6da2aa345162d80fee3e23f0e1f56.jpg  \n",
            " extracting: train/-152-48---fire_jpg.rf.aeb1197b2892ab5fc186cddcb7d7b93b.jpg  \n",
            " extracting: train/-152-48---fire_jpg.rf.d2042d44f7461bf594429f327d19f61e.jpg  \n",
            " extracting: train/-152-49---fire_jpg.rf.9e014f7fa32ba220a1e77d2bcf6ae6eb.jpg  \n",
            " extracting: train/-152-49---fire_jpg.rf.a7314aa614b38507981d25a023232528.jpg  \n",
            " extracting: train/-152-51---fire_jpg.rf.2d9ca3c628e5a74ad53767446963f6a7.jpg  \n",
            " extracting: train/-152-51---fire_jpg.rf.484e960db84f95a9ba1eb68e069e4963.jpg  \n",
            " extracting: train/-152-51---fire_jpg.rf.e0c1fa39189227cfb09a5d4137ea729e.jpg  \n",
            " extracting: train/-152-52---fire_jpg.rf.790ba184730383a44a2c7f8592f3e530.jpg  \n",
            " extracting: train/-152-52---fire_jpg.rf.8bd953d4107a6ebceb57b1667cbe8d57.jpg  \n",
            " extracting: train/-152-52---fire_jpg.rf.98c9a02d583adc289ec36f08b24eb900.jpg  \n",
            " extracting: train/-152-53---fire_jpg.rf.2ebacffcf1375ad53a7d7734b94ddd60.jpg  \n",
            " extracting: train/-152-53---fire_jpg.rf.63217b979b4db8628cd9dd194f075362.jpg  \n",
            " extracting: train/-152-53---fire_jpg.rf.652846928c560a89df3aa10865338275.jpg  \n",
            " extracting: train/-152-54---fire_jpg.rf.601203e30b74cc9760608f41124c65f9.jpg  \n",
            " extracting: train/-152-54---fire_jpg.rf.6044d81b772b88a8388c50614f097047.jpg  \n",
            " extracting: train/-152-54---fire_jpg.rf.b613ae90cdce9b7d0dcc72038eea2a8f.jpg  \n",
            " extracting: train/-152-86---fire_jpg.rf.12e67a193f9370950b75c4b7fea1512c.jpg  \n",
            " extracting: train/-152-86---fire_jpg.rf.67e4dc3aec8a917e96fab24d458f3229.jpg  \n",
            " extracting: train/-152-86---fire_jpg.rf.cb32beaf60a627e05b2750bc5a88f965.jpg  \n",
            " extracting: train/-152-88---fire_jpg.rf.205125207b81cc11479e82a6c07f1daa.jpg  \n",
            " extracting: train/-152-88---fire_jpg.rf.4658cccc841a8aea7b98831b0ef6924b.jpg  \n",
            " extracting: train/-152-88---fire_jpg.rf.8ae9077f87aeb5235c62cc4aec9627ac.jpg  \n",
            " extracting: train/-152-89---fire_jpg.rf.3bc3efe1589c65c7fa69f2ecaa6dd521.jpg  \n",
            " extracting: train/-152-89---fire_jpg.rf.6c8dff8721172f4c1ca8b77b200afc7b.jpg  \n",
            " extracting: train/-152-89---fire_jpg.rf.f5a50fd172778350b5354993ed4b6319.jpg  \n",
            " extracting: train/-152-90---fire_jpg.rf.0d5e9f2e7a56be95e798850a4a73d519.jpg  \n",
            " extracting: train/-152-90---fire_jpg.rf.1f4b959e82ea9b4a6aa71f677a8045f8.jpg  \n",
            " extracting: train/-152-90---fire_jpg.rf.8eaa9eec54edb8e75739dfac72c68d2e.jpg  \n",
            " extracting: train/-152-92---fire_jpg.rf.1810084b2237be9c43f87bbc9a4f637f.jpg  \n",
            " extracting: train/-152-92---fire_jpg.rf.30c4b927865f50b453b1d8736f26166a.jpg  \n",
            " extracting: train/-152-92---fire_jpg.rf.4be81b140b8f03a267008ff3507936dc.jpg  \n",
            " extracting: train/-152-93---fire_jpg.rf.7453ce7fbf9570ffe08b1f59bf62cb39.jpg  \n",
            " extracting: train/-152-93---fire_jpg.rf.8516464b90dc45e1f0b29ffd181373df.jpg  \n",
            " extracting: train/-152-93---fire_jpg.rf.d3a765da02b3f911410aac0c4adcc7a2.jpg  \n",
            " extracting: train/-152-94---fire_jpg.rf.283f87de18c985fefe777d1a5e206f1d.jpg  \n",
            " extracting: train/-152-94---fire_jpg.rf.ab6c3b0d772e0a8beb90ecdfeda13ce5.jpg  \n",
            " extracting: train/-152-94---fire_jpg.rf.de8443ada01bb2cacd64a3498cee2597.jpg  \n",
            " extracting: train/-152-96---fire_jpg.rf.4bd8465880d5f607594594cf4b5f9e34.jpg  \n",
            " extracting: train/-152-96---fire_jpg.rf.7c3fce9f6761352ae201925fd542a1df.jpg  \n",
            " extracting: train/-152-96---fire_jpg.rf.eca61963a31388d1193a96743a6232d2.jpg  \n",
            " extracting: train/-153-12---fire_jpg.rf.2114e4b62be464d9828f137611a12bd4.jpg  \n",
            " extracting: train/-153-12---fire_jpg.rf.3e89d9c414fd9f82786d1764e8eeab29.jpg  \n",
            " extracting: train/-153-12---fire_jpg.rf.4980d171a13e9241d43952b52ecc3d10.jpg  \n",
            " extracting: train/-153-13---fire_jpg.rf.00f22f9d7d909ba6708cff5bbc5e1aa8.jpg  \n",
            " extracting: train/-153-13---fire_jpg.rf.1f69f0225a4941ba083284b97c2f7a3f.jpg  \n",
            " extracting: train/-153-13---fire_jpg.rf.705b4b70f6dacfa814271233a0ab15aa.jpg  \n",
            " extracting: train/-153-15---fire_jpg.rf.0741628d777d495013dcdec11b1f23e1.jpg  \n",
            " extracting: train/-153-15---fire_jpg.rf.3df9aac4f6ae03e7c129993e9b35549e.jpg  \n",
            " extracting: train/-153-15---fire_jpg.rf.5f70ce93ae8fb9ef58fcf75efa5522d5.jpg  \n",
            " extracting: train/-153-27---fire_jpg.rf.86576ed18350063a43394a925464254f.jpg  \n",
            " extracting: train/-153-27---fire_jpg.rf.b7749633b4d3860e0fff29226d89a795.jpg  \n",
            " extracting: train/-153-27---fire_jpg.rf.d4604873b6f7aad02a8355a2ce95cce6.jpg  \n",
            " extracting: train/-153-29---fire_jpg.rf.a573a09152a7db045e0a1ebbf8a65611.jpg  \n",
            " extracting: train/-153-29---fire_jpg.rf.b13d27a758883e32bfe03acb5fab6768.jpg  \n",
            " extracting: train/-153-29---fire_jpg.rf.e21ba4b747ce7b78d5276734dc41d4c2.jpg  \n",
            " extracting: train/-153-31---fire_jpg.rf.28c54813435bb4dc2c362bce1d47d57a.jpg  \n",
            " extracting: train/-153-31---fire_jpg.rf.4fdff2a294fc95390e7cb90a23865666.jpg  \n",
            " extracting: train/-153-31---fire_jpg.rf.861bdd2a0bd2ea03dbe3e22e8e114a87.jpg  \n",
            " extracting: train/-153-32---fire_jpg.rf.2431bf403b63633947b3cba5c99619e5.jpg  \n",
            " extracting: train/-153-32---fire_jpg.rf.7a39863dc8c8040bbd58401dd9947b16.jpg  \n",
            " extracting: train/-153-32---fire_jpg.rf.a667e4a334aad5f0f840f7dd63728f67.jpg  \n",
            " extracting: train/-153-33---fire_jpg.rf.353f16fc90d1f68df45bb46f02696bd8.jpg  \n",
            " extracting: train/-153-33---fire_jpg.rf.6fe0c4fa88bc705dca18c7e00fb892fa.jpg  \n",
            " extracting: train/-153-33---fire_jpg.rf.f73682fc6aac1b54d6f03984b95e2e24.jpg  \n",
            " extracting: train/-154-10---fire_jpg.rf.5b0e1b5e5c061da760acd37920e957e9.jpg  \n",
            " extracting: train/-154-10---fire_jpg.rf.76d95239c304495289c43ee8a8733efe.jpg  \n",
            " extracting: train/-154-10---fire_jpg.rf.fe1b8df1ff00d825e8f85a29a6d75a0d.jpg  \n",
            " extracting: train/-154-11---fire_jpg.rf.2c7a57fd2b3b169d23e7b3209e37cf5c.jpg  \n",
            " extracting: train/-154-11---fire_jpg.rf.bbe5232a99fd9b979045d71ed3207aee.jpg  \n",
            " extracting: train/-154-11---fire_jpg.rf.eb117f8817fcb77f4d8fe2da31f851e5.jpg  \n",
            " extracting: train/-154-12---fire_jpg.rf.6d814a83f31b15fbf847ebeab405378d.jpg  \n",
            " extracting: train/-154-12---fire_jpg.rf.8c2caec6ad5f2af5f33ed5d00b3bb391.jpg  \n",
            " extracting: train/-154-12---fire_jpg.rf.fda0e281bbdd7be550583a3f4dcd0eba.jpg  \n",
            " extracting: train/-154-13---fire_jpg.rf.19699b5861a62d9e62a7394871b663d1.jpg  \n",
            " extracting: train/-154-13---fire_jpg.rf.8e7a31a936b7857b3785b5ac9a12a764.jpg  \n",
            " extracting: train/-154-13---fire_jpg.rf.fc80a6cfc2b50963faa07d0bc7b67fb8.jpg  \n",
            " extracting: train/-154-14---fire_jpg.rf.12180dbad52cf793b70162e50064ef22.jpg  \n",
            " extracting: train/-154-14---fire_jpg.rf.44086e1c444a0f2e3d137958a92f33d9.jpg  \n",
            " extracting: train/-154-14---fire_jpg.rf.7265176050aac1b635191ddb7e36f8ed.jpg  \n",
            " extracting: train/-154-15---fire_jpg.rf.1980bdf456349abdcc6455a2f1c0d475.jpg  \n",
            " extracting: train/-154-15---fire_jpg.rf.52d6c017bff43342a5c23952fe85187e.jpg  \n",
            " extracting: train/-154-15---fire_jpg.rf.91925f2a02821aed760ef469822e460b.jpg  \n",
            " extracting: train/-154-16---fire_jpg.rf.07eaa1e4c4ffe59ae7be21f5e6146b99.jpg  \n",
            " extracting: train/-154-16---fire_jpg.rf.dbccc5a5210ab82323e766be786315a3.jpg  \n",
            " extracting: train/-154-16---fire_jpg.rf.ed75c7d8b6c4a351bb07f5a50ff00be8.jpg  \n",
            " extracting: train/-154-4---fire_jpg.rf.05c7173b850c937711da13563e7924f8.jpg  \n",
            " extracting: train/-154-4---fire_jpg.rf.208390661fab9f021914a1ebd47924ac.jpg  \n",
            " extracting: train/-154-4---fire_jpg.rf.6964dbd6b858ec7b30d36c0d88bf977f.jpg  \n",
            " extracting: train/-154-5---fire_jpg.rf.5198fd309e6e208aeac41bbd054a9e77.jpg  \n",
            " extracting: train/-154-5---fire_jpg.rf.b531eef29218401c85a5a7f5ea8e37fe.jpg  \n",
            " extracting: train/-154-5---fire_jpg.rf.e182ca5501fd2164f4d3d0c00b8c4b5a.jpg  \n",
            " extracting: train/-154-6---fire_jpg.rf.80a33f333e9eb82282391ddae7786025.jpg  \n",
            " extracting: train/-154-6---fire_jpg.rf.a2387955aab8f3154b6e33e8093f0dfc.jpg  \n",
            " extracting: train/-154-6---fire_jpg.rf.c1ecfdc0d0dfff7ec42d7a0ede3e2b98.jpg  \n",
            " extracting: train/-154-7---fire_jpg.rf.47283017dd04c977022648d30c578737.jpg  \n",
            " extracting: train/-154-7---fire_jpg.rf.4da3e898b754a26ba33c4ce9e1b43c84.jpg  \n",
            " extracting: train/-154-7---fire_jpg.rf.724cd2d13c372e5d0861a968cfddecc3.jpg  \n",
            " extracting: train/-154-8---fire_jpg.rf.0d12e47aca5cf5b48f6f156ed4aa74c2.jpg  \n",
            " extracting: train/-154-8---fire_jpg.rf.c201c1e7dd2e107d8121149be4987e3d.jpg  \n",
            " extracting: train/-154-8---fire_jpg.rf.c5097314aa17955022492e7bbb97fef1.jpg  \n",
            " extracting: train/-154-9---fire_jpg.rf.3d5df864855a7187f3c0fbb0aa5c9e09.jpg  \n",
            " extracting: train/-154-9---fire_jpg.rf.a19b496a17478843d4d3a85596827a5e.jpg  \n",
            " extracting: train/-154-9---fire_jpg.rf.d10510d55e801f0d7099ab6119d57c66.jpg  \n",
            " extracting: train/-155-39---fire_jpg.rf.1e9f4132074861ad39809addedfac124.jpg  \n",
            " extracting: train/-155-39---fire_jpg.rf.62eedb84cbee6871c8fb769fef2306c3.jpg  \n",
            " extracting: train/-155-39---fire_jpg.rf.9bc57fa33c00277eb5f90f0ab3438def.jpg  \n",
            " extracting: train/-155-40---fire_jpg.rf.37a07eb9d69c0e0e500ea53d4958b773.jpg  \n",
            " extracting: train/-155-40---fire_jpg.rf.7fca57545e404d16371753506b791525.jpg  \n",
            " extracting: train/-155-40---fire_jpg.rf.ff63cac14d562b1f659c13a9aa6a7a36.jpg  \n",
            " extracting: train/-155-41---fire_jpg.rf.1a9f844c97479d3a1aa399e9dcf5f205.jpg  \n",
            " extracting: train/-155-41---fire_jpg.rf.cb64bde47a77b252ee48ac71dc7e8ae3.jpg  \n",
            " extracting: train/-155-41---fire_jpg.rf.e2fd3ef6c4b5ffc17a6ed48b5ce74ab1.jpg  \n",
            " extracting: train/-156-57---fire_jpg.rf.4c6bdefa56e861703bcded84c8ae846c.jpg  \n",
            " extracting: train/-156-57---fire_jpg.rf.5adbd52a93e5572f05866b7123e28cb2.jpg  \n",
            " extracting: train/-156-57---fire_jpg.rf.c30cdbbae440403cc94cb16406676002.jpg  \n",
            " extracting: train/-156-58---fire_jpg.rf.3191a73192c0f8661ccbcb1b0e090493.jpg  \n",
            " extracting: train/-156-58---fire_jpg.rf.3dd5afc07cd28a3e0b7a37b8f430ec1e.jpg  \n",
            " extracting: train/-156-58---fire_jpg.rf.ae06e91bbd5fded54fa246f005f09e7d.jpg  \n",
            " extracting: train/-156-59---fire_jpg.rf.354278f31b496dd85cc9bcda994b1c5a.jpg  \n",
            " extracting: train/-156-59---fire_jpg.rf.a658bf57c7b3355fee131215dc45ab1a.jpg  \n",
            " extracting: train/-156-59---fire_jpg.rf.d8d52ad88b5cc1b0f9afc82873cdc7d8.jpg  \n",
            " extracting: train/-156-60---fire_jpg.rf.03c5d977eb24a673d6d99b8bfb4ae9f5.jpg  \n",
            " extracting: train/-156-60---fire_jpg.rf.2b8cd831f31ed717d51099f22309ae02.jpg  \n",
            " extracting: train/-156-60---fire_jpg.rf.beef8b572c77f9c51a107faa0b767441.jpg  \n",
            " extracting: train/-156-61---fire_jpg.rf.86c8f40e9223bdcdf8ddcf8e2d28fa9a.jpg  \n",
            " extracting: train/-156-61---fire_jpg.rf.8b00ccdb8b8f887b8baf7e44763ac253.jpg  \n",
            " extracting: train/-156-61---fire_jpg.rf.db1d4258de2ff5457e2952e8ea4ebc32.jpg  \n",
            " extracting: train/-156-62---fire_jpg.rf.47df46ef14dff7c57b40ba9fd5a8ca87.jpg  \n",
            " extracting: train/-156-62---fire_jpg.rf.483e55bafee8ef1c3631f281d08b822d.jpg  \n",
            " extracting: train/-156-62---fire_jpg.rf.ce74377f7ecb525dbb4071a4273c8946.jpg  \n",
            " extracting: train/-156-63---fire_jpg.rf.0572c45252c58d9bb72b0cba29ca30a7.jpg  \n",
            " extracting: train/-156-63---fire_jpg.rf.23b2083f5c5729be51de6972a799c401.jpg  \n",
            " extracting: train/-156-63---fire_jpg.rf.d3d2b2706d2cb556a7532211bcee40cc.jpg  \n",
            " extracting: train/-156-64---fire_jpg.rf.5e42374f1b953acdf23b52b6989ffa19.jpg  \n",
            " extracting: train/-156-64---fire_jpg.rf.79f19ef9e54b9213e6c85e07f82724e9.jpg  \n",
            " extracting: train/-156-64---fire_jpg.rf.c730e07842d9461fd0e3fed65e4704ee.jpg  \n",
            " extracting: train/-156-65---fire_jpg.rf.3faf80da40b738c323f919d9135c5560.jpg  \n",
            " extracting: train/-156-65---fire_jpg.rf.875037756ff0ca4667f1556aa62ac125.jpg  \n",
            " extracting: train/-156-65---fire_jpg.rf.cad24c746aa9515dab0f55ceb6937b22.jpg  \n",
            " extracting: train/-156-66---fire_jpg.rf.97d4ffc27b949b31b1dec8bc2d12976b.jpg  \n",
            " extracting: train/-156-66---fire_jpg.rf.b5dfdf85b8ff7c128ba0913c8a9e5a3f.jpg  \n",
            " extracting: train/-156-66---fire_jpg.rf.df49b643daa130231964ed138179c4c8.jpg  \n",
            " extracting: train/-156-68---fire_jpg.rf.a41442406c2dcd39c5aeac81fa725dd7.jpg  \n",
            " extracting: train/-156-68---fire_jpg.rf.b3669bedff7d5965bafc89d8d8ceaa72.jpg  \n",
            " extracting: train/-156-68---fire_jpg.rf.e2163b21b7ca52802e0a4c558f4db208.jpg  \n",
            " extracting: train/-156-69---fire_jpg.rf.273b9562175764df37bcb2c450b4d716.jpg  \n",
            " extracting: train/-156-69---fire_jpg.rf.65e6675bebd7108768f64ca23ba3d97a.jpg  \n",
            " extracting: train/-156-69---fire_jpg.rf.9304adbf44d8323b98fe075215958a29.jpg  \n",
            " extracting: train/-156-71---fire_jpg.rf.1b112bededb87d1bcd2186e8dc4c3b4f.jpg  \n",
            " extracting: train/-156-71---fire_jpg.rf.3ff91c387dce479cd8f73f2488347862.jpg  \n",
            " extracting: train/-156-71---fire_jpg.rf.725802da9a573bba38b80a955c982025.jpg  \n",
            " extracting: train/-156-72---fire_jpg.rf.31f7a088a8937d64e435c7cfe676e796.jpg  \n",
            " extracting: train/-156-72---fire_jpg.rf.8f8840c396cd0305c5300da724ecdc3c.jpg  \n",
            " extracting: train/-156-72---fire_jpg.rf.9cd6314205cde2a16acfc5aaedee039b.jpg  \n",
            " extracting: train/-156-73---fire_jpg.rf.615ede5082da19de70a3ebdf9e6e8a6b.jpg  \n",
            " extracting: train/-156-73---fire_jpg.rf.897c1734de49088a47dfa643c318afe6.jpg  \n",
            " extracting: train/-156-73---fire_jpg.rf.b44b53f9cc1ba1959dbd69c1d45c68ce.jpg  \n",
            " extracting: train/-156-91---fire_jpg.rf.590f76e252f142342cb91f19eeecfa88.jpg  \n",
            " extracting: train/-156-91---fire_jpg.rf.6cf5940b0dde6019a56b60a0e8e2c356.jpg  \n",
            " extracting: train/-156-91---fire_jpg.rf.9f0939917d43a83053b5710d31fb876b.jpg  \n",
            " extracting: train/-157-0---fire_jpg.rf.2aee08f3228389e5759a6dc8944701f1.jpg  \n",
            " extracting: train/-157-0---fire_jpg.rf.9db0902e2072784c4e82e6d41312a956.jpg  \n",
            " extracting: train/-157-0---fire_jpg.rf.ee04187d0c0342895f82a8881f57ea0e.jpg  \n",
            " extracting: train/-157-1---fire_jpg.rf.0deee296f8b636088418696ba7d9a751.jpg  \n",
            " extracting: train/-157-1---fire_jpg.rf.554a8ec322f310f41f68c18df81b0ffd.jpg  \n",
            " extracting: train/-157-1---fire_jpg.rf.ea2499adc26ea30afc53a972c0fbe67f.jpg  \n",
            " extracting: train/-157-42---fire_jpg.rf.4a7c8047b130a2d304d7395226626308.jpg  \n",
            " extracting: train/-157-42---fire_jpg.rf.883cac33ea1e2a3d145da3956177d901.jpg  \n",
            " extracting: train/-157-42---fire_jpg.rf.8bede8aa63f2224c44a593134bf85c3f.jpg  \n",
            " extracting: train/-157-43---fire_jpg.rf.63dbcf5c7748805b8ba5ade06b8b837c.jpg  \n",
            " extracting: train/-157-43---fire_jpg.rf.cea41e6292c877a65bb7c85b2d9bd888.jpg  \n",
            " extracting: train/-157-43---fire_jpg.rf.d3a4cd3bdc5a7c7ad3827b4e0a31983b.jpg  \n",
            " extracting: train/-157-44---fire_jpg.rf.1cefbbfeb79518e44336cd0226b93d51.jpg  \n",
            " extracting: train/-157-44---fire_jpg.rf.5a6e89950625e608c61ec017fbd05b2c.jpg  \n",
            " extracting: train/-157-44---fire_jpg.rf.dd4ea8d8693051ee3da6722a0e190e86.jpg  \n",
            " extracting: train/-157-45---fire_jpg.rf.029ed457aecdcc0906a225954a9af148.jpg  \n",
            " extracting: train/-157-45---fire_jpg.rf.a5b0a3f3eca323f6bfe372982b029129.jpg  \n",
            " extracting: train/-157-45---fire_jpg.rf.c36c7fd4750210e1652c6b8712eb117c.jpg  \n",
            " extracting: train/-157-46---fire_jpg.rf.555b692dd8d0bb7dfae6b0c0cedbafcc.jpg  \n",
            " extracting: train/-157-46---fire_jpg.rf.99f2c30a81b542dd5ec26a7ded422a11.jpg  \n",
            " extracting: train/-157-46---fire_jpg.rf.9d68a45d38b97bed76441a24dafb668a.jpg  \n",
            " extracting: train/-157-47---fire_jpg.rf.29c35436c28b6a144a0adcdff2f38591.jpg  \n",
            " extracting: train/-157-47---fire_jpg.rf.2ea1e512bc0ab213f5fee800b3ff9d39.jpg  \n",
            " extracting: train/-157-47---fire_jpg.rf.db8aeb51f3c959154aa83448e96b8a04.jpg  \n",
            " extracting: train/-157-48---fire_jpg.rf.61e4c784f9ec446a7e45e9f3eb705ed1.jpg  \n",
            " extracting: train/-157-48---fire_jpg.rf.621efd3d514cda76461bfa38eef4b759.jpg  \n",
            " extracting: train/-157-48---fire_jpg.rf.c97e0e74bac21131f69037689859d3de.jpg  \n",
            " extracting: train/-157-49---fire_jpg.rf.4814ba0d755388771723a24acef9b624.jpg  \n",
            " extracting: train/-157-49---fire_jpg.rf.7405046cc034c7fdad88869e62cba2bf.jpg  \n",
            " extracting: train/-157-49---fire_jpg.rf.b9d5de74eace9b6269f3699c5a503709.jpg  \n",
            " extracting: train/-158-45---fire_jpg.rf.91f347a3963e6b6bb77678cafa257cb8.jpg  \n",
            " extracting: train/-158-45---fire_jpg.rf.cd37f281573290d547f1ab82401dd4de.jpg  \n",
            " extracting: train/-158-45---fire_jpg.rf.ff425f0d5d1730177f17568341ae9431.jpg  \n",
            " extracting: train/-158-46---fire_jpg.rf.354a37bcb2d44592290b5f22588da9d0.jpg  \n",
            " extracting: train/-158-46---fire_jpg.rf.998495c2d44d0c35fab44c297b611672.jpg  \n",
            " extracting: train/-158-46---fire_jpg.rf.cc3f252056df70551268dd3a154cbad9.jpg  \n",
            " extracting: train/-158-47---fire_jpg.rf.2d1ef8638bbd85c19c0ea36e698f00af.jpg  \n",
            " extracting: train/-158-47---fire_jpg.rf.47c23339d185d20c5ab1000a6d7c7d1a.jpg  \n",
            " extracting: train/-158-47---fire_jpg.rf.aa8931f3997e3c28cbb89974b96d6378.jpg  \n",
            " extracting: train/-158-48---fire_jpg.rf.2b8616f3a66d93888a457c4ed7309909.jpg  \n",
            " extracting: train/-158-48---fire_jpg.rf.497ba5f594bf3b68cfef4b80effa075a.jpg  \n",
            " extracting: train/-158-48---fire_jpg.rf.a105303dadae488f4338ea2237ed7fa1.jpg  \n",
            " extracting: train/-158-51---fire_jpg.rf.524e0b166ef3ca84a4d806cd3e320fed.jpg  \n",
            " extracting: train/-158-51---fire_jpg.rf.af9c87c2e46b7d2369049a8222d7302e.jpg  \n",
            " extracting: train/-158-51---fire_jpg.rf.ebbb39a41ebddfce3038b7052e5223f4.jpg  \n",
            " extracting: train/-158-52---fire_jpg.rf.39e2ab94268ba38e3196720f04a9bbbf.jpg  \n",
            " extracting: train/-158-52---fire_jpg.rf.3becc50afddf4767deeba856619fd29c.jpg  \n",
            " extracting: train/-158-52---fire_jpg.rf.f843bc284330aad42e9a4670bbe16042.jpg  \n",
            " extracting: train/-158-53---fire_jpg.rf.38a4256ea929286c93c8c254c08b2f28.jpg  \n",
            " extracting: train/-158-53---fire_jpg.rf.5035c4ea36e820840fab8ef45dd9f1e3.jpg  \n",
            " extracting: train/-158-53---fire_jpg.rf.68c64d767ad22d787ea3287e492e53da.jpg  \n",
            " extracting: train/-158-59---fire_jpg.rf.0280f857cad60a28fcc85264dd04cad3.jpg  \n",
            " extracting: train/-158-59---fire_jpg.rf.bc6da867409ec1405cd96c0a00b05f72.jpg  \n",
            " extracting: train/-158-59---fire_jpg.rf.e071dbef22d81033802b39fbc1f656cc.jpg  \n",
            " extracting: train/-158-61---fire_jpg.rf.2c37972515fc01280c85e891b725c012.jpg  \n",
            " extracting: train/-158-61---fire_jpg.rf.5ec6fc718b4bc3ae98600d952de5c65b.jpg  \n",
            " extracting: train/-158-61---fire_jpg.rf.9169b1b5b0b5b555548da4d4bedca09c.jpg  \n",
            " extracting: train/-158-62---fire_jpg.rf.3e06a6ee681fc4175f39f6f0dd34f1e5.jpg  \n",
            " extracting: train/-158-62---fire_jpg.rf.6aafdff625766363ff7910c6adc0ba64.jpg  \n",
            " extracting: train/-158-62---fire_jpg.rf.78a0090c1c1eab607e0ede877375cf3b.jpg  \n",
            " extracting: train/-158-63---fire_jpg.rf.358bea7cd3d735c8d3c8081425216040.jpg  \n",
            " extracting: train/-158-63---fire_jpg.rf.a9b04baf5f1f27a70350e9523ea4d236.jpg  \n",
            " extracting: train/-158-63---fire_jpg.rf.dab3d09c922df22558b87f1bc45c758d.jpg  \n",
            " extracting: train/-158-64---fire_jpg.rf.01acab459d1ebfa67a7de48ddc139f5b.jpg  \n",
            " extracting: train/-158-64---fire_jpg.rf.848f0b056b28b4d5c0e7c3e171dd4c5f.jpg  \n",
            " extracting: train/-158-64---fire_jpg.rf.a7afef9422af2534d2afac85bb408c7a.jpg  \n",
            " extracting: train/-158-66---fire_jpg.rf.91789cda5ac3a8a8695e408a702efe23.jpg  \n",
            " extracting: train/-158-66---fire_jpg.rf.c6196d4dd5a465d9226469b9ce51d3e2.jpg  \n",
            " extracting: train/-158-66---fire_jpg.rf.cb616579bda24ba4cff0e74a2f2759dc.jpg  \n",
            " extracting: train/-158-67---fire_jpg.rf.32fbeab7e6d0064080a50307c45d0877.jpg  \n",
            " extracting: train/-158-67---fire_jpg.rf.3ee874930e260dd662412016dafa16cc.jpg  \n",
            " extracting: train/-158-67---fire_jpg.rf.c9b5f1c0964edd183ac7556e53fa1088.jpg  \n",
            " extracting: train/-158-68---fire_jpg.rf.329225c2c6d879c5b1c7869426ca673d.jpg  \n",
            " extracting: train/-158-68---fire_jpg.rf.96f355a465ebd271f2e0a4dc636e99f6.jpg  \n",
            " extracting: train/-158-68---fire_jpg.rf.a0f34263acff9ac742a8637fb3ae0da9.jpg  \n",
            " extracting: train/-158-69---fire_jpg.rf.16aea69af5cda24f33b47401c88f20ac.jpg  \n",
            " extracting: train/-158-69---fire_jpg.rf.baaaf26cfbb502170609b71b78befdb9.jpg  \n",
            " extracting: train/-158-69---fire_jpg.rf.fabaf7e213b9a806e7423ebda658f4ec.jpg  \n",
            " extracting: train/-158-75---fire_jpg.rf.434366776c55988853b4e4d54c578f0c.jpg  \n",
            " extracting: train/-158-75---fire_jpg.rf.b2c20ce548d4cc3ea985b58e9b23d799.jpg  \n",
            " extracting: train/-158-75---fire_jpg.rf.c7125c46a967249e5f728a67ef58c069.jpg  \n",
            " extracting: train/-158-77---fire_jpg.rf.779c9ed5c1cc4040926812a031659990.jpg  \n",
            " extracting: train/-158-77---fire_jpg.rf.7c210051d995a500d3710340fe4b7d98.jpg  \n",
            " extracting: train/-158-77---fire_jpg.rf.a3926a1259f50fb15c72e805ec8437f5.jpg  \n",
            " extracting: train/-158-78---fire_jpg.rf.5e7b7a94cf0c8e2913f7a3a72a0f64ae.jpg  \n",
            " extracting: train/-158-78---fire_jpg.rf.88b238cdd65b3e4970b22684d7cdd2b7.jpg  \n",
            " extracting: train/-158-78---fire_jpg.rf.92c0af2c799ae4d59617f47926ccce60.jpg  \n",
            " extracting: train/-158-79---fire_jpg.rf.98aeb79c2b01cf933111e68b8d02adac.jpg  \n",
            " extracting: train/-158-79---fire_jpg.rf.b9a059a8fdf8f2b61e101c6eebedfd3a.jpg  \n",
            " extracting: train/-158-79---fire_jpg.rf.e81eede2bd8f3be721c9e92c3a2e53ed.jpg  \n",
            " extracting: train/-158-80---fire_jpg.rf.0627e204e4028f33956626affade19eb.jpg  \n",
            " extracting: train/-158-80---fire_jpg.rf.4d2ad68a708f0234f3440bbd08f8e103.jpg  \n",
            " extracting: train/-158-80---fire_jpg.rf.d8805d0b5c830d9f6edc783f11cf3766.jpg  \n",
            " extracting: train/-158-81---fire_jpg.rf.2ee79231d0939cf17f434e0ed449d94b.jpg  \n",
            " extracting: train/-158-81---fire_jpg.rf.2f6f2c74cc95ea249243ebdb2881fd8c.jpg  \n",
            " extracting: train/-158-81---fire_jpg.rf.c1865e57fde77e8d15c626c4def903e4.jpg  \n",
            " extracting: train/-158-82---fire_jpg.rf.2a0aa7579959db50a5564557335b5dba.jpg  \n",
            " extracting: train/-158-82---fire_jpg.rf.2efbb08cb6bf1804751a8484472c4cb9.jpg  \n",
            " extracting: train/-158-82---fire_jpg.rf.71f10f938da829980b03628e365fa6f7.jpg  \n",
            " extracting: train/-158-84---fire_jpg.rf.09b7f05b4ea19f200b25dd18c3ac36c8.jpg  \n",
            " extracting: train/-158-84---fire_jpg.rf.dafdd0acb5757a789eaa24c413cbda67.jpg  \n",
            " extracting: train/-158-84---fire_jpg.rf.f8a6388ce53acdcad6c9412f701854fe.jpg  \n",
            " extracting: train/-158-86---fire_jpg.rf.31902bc8bc21209fa908cd80c40b15a0.jpg  \n",
            " extracting: train/-158-86---fire_jpg.rf.3207f20d6e7630f4b15401f6a60f0547.jpg  \n",
            " extracting: train/-158-86---fire_jpg.rf.dc750360084ffaf4487e23726d2fbe96.jpg  \n",
            " extracting: train/-159-13---fire_jpg.rf.05cb8dd7e12ee353f6f3cddd6ca2371f.jpg  \n",
            " extracting: train/-159-13---fire_jpg.rf.6ca110e0e609476f145447cae727f5c0.jpg  \n",
            " extracting: train/-159-13---fire_jpg.rf.df238e1ceb1daf7a747b7cc79334ef78.jpg  \n",
            " extracting: train/-159-14---fire_jpg.rf.8b0184d44bd42b9af4a4d7c9b3e57248.jpg  \n",
            " extracting: train/-159-14---fire_jpg.rf.c18d8dfba81cc9e3b0e5f1045e220d7b.jpg  \n",
            " extracting: train/-159-14---fire_jpg.rf.f65cca48577af39129e2ad3a874d31d0.jpg  \n",
            " extracting: train/-159-15---fire_jpg.rf.93d131c263072cedd870df19e618a20a.jpg  \n",
            " extracting: train/-159-15---fire_jpg.rf.c192b7a13f4fe17b6ff7778092e68007.jpg  \n",
            " extracting: train/-159-15---fire_jpg.rf.ebe99d558d34147d2fa679320849126d.jpg  \n",
            " extracting: train/-159-16---fire_jpg.rf.21cc621d527bdd402125837d5d62fe59.jpg  \n",
            " extracting: train/-159-16---fire_jpg.rf.9e3355be4cd1ec5e0275137b3155c344.jpg  \n",
            " extracting: train/-159-16---fire_jpg.rf.cc17e0c79b15471bccdf7cc714defce0.jpg  \n",
            " extracting: train/-159-17---fire_jpg.rf.1ff007af44c49f3dbd8b499a8764222f.jpg  \n",
            " extracting: train/-159-17---fire_jpg.rf.7269b3339951e5c5bd844fa9830cef20.jpg  \n",
            " extracting: train/-159-17---fire_jpg.rf.7df77c39ce42fb45bc4455b58ca48d4d.jpg  \n",
            " extracting: train/-159-18---fire_jpg.rf.40a9c7951d938100997a96090711d0f6.jpg  \n",
            " extracting: train/-159-18---fire_jpg.rf.6c08f0a2ed73d42392a1393e4d6a8f05.jpg  \n",
            " extracting: train/-159-18---fire_jpg.rf.b412ecd70b367b675d1311949b2d282e.jpg  \n",
            " extracting: train/-159-20---fire_jpg.rf.24eba92e09111207fde905d67f670425.jpg  \n",
            " extracting: train/-159-20---fire_jpg.rf.592ad4a2ab099571d71870503edcab22.jpg  \n",
            " extracting: train/-159-20---fire_jpg.rf.804cedf3c524b76b61e29c1ddf418c1e.jpg  \n",
            " extracting: train/-159-21---fire_jpg.rf.014351edcdb7db0c910ef088bba4dc8b.jpg  \n",
            " extracting: train/-159-21---fire_jpg.rf.5a788619f3f775a8d80e876bc6763056.jpg  \n",
            " extracting: train/-159-21---fire_jpg.rf.7fbe9f721dfc50caa98497371a2696c4.jpg  \n",
            " extracting: train/-159-22---fire_jpg.rf.5b4a6c7dced7dddb810d3a2c5f4ab9c9.jpg  \n",
            " extracting: train/-159-22---fire_jpg.rf.ac39e4eb1ef7e68d0cbb9cbb682d9c8f.jpg  \n",
            " extracting: train/-159-22---fire_jpg.rf.f9144ca01d2a10775d20611a5d14add4.jpg  \n",
            " extracting: train/-159-23---fire_jpg.rf.7acac676125a1a7c79aa9a4b49f1a2a7.jpg  \n",
            " extracting: train/-159-23---fire_jpg.rf.7d1812e0361f84e53f865fe59487b8dc.jpg  \n",
            " extracting: train/-159-23---fire_jpg.rf.a5d1bbb7117dfdd657bbc503be011ceb.jpg  \n",
            " extracting: train/-159-24---fire_jpg.rf.2b2b3f0da48af379a19e8a219b9cf5d3.jpg  \n",
            " extracting: train/-159-24---fire_jpg.rf.884d25fb3a5095fc1376a8a1987683da.jpg  \n",
            " extracting: train/-159-24---fire_jpg.rf.988fe51fdc2bf3c4268bc814c5c6444f.jpg  \n",
            " extracting: train/-159-25---fire_jpg.rf.0c321d1e2b22c3c43ac06c8184bbbb5b.jpg  \n",
            " extracting: train/-159-25---fire_jpg.rf.28825cf5a53829cd2f331c29c03fcd93.jpg  \n",
            " extracting: train/-159-25---fire_jpg.rf.65f748511d101bfa6a22250bc85d9c03.jpg  \n",
            " extracting: train/-159-26---fire_jpg.rf.3da8e14468e8eae283be535c7bd79b02.jpg  \n",
            " extracting: train/-159-26---fire_jpg.rf.a84679bb824792cba6a16f6a1003a2eb.jpg  \n",
            " extracting: train/-159-26---fire_jpg.rf.f76ec065e9baf7ee670cfe43a67ad57b.jpg  \n",
            " extracting: train/-159-33---fire_jpg.rf.143791ffa70fa9a886a18afff8853a4f.jpg  \n",
            " extracting: train/-159-33---fire_jpg.rf.39ae0067c4420b5a0516f3aee6030843.jpg  \n",
            " extracting: train/-159-33---fire_jpg.rf.c790857c527bfaec672c4f3bec985c5a.jpg  \n",
            " extracting: train/-159-34---fire_jpg.rf.0ea42f686697c7f3bc6df83ff3549638.jpg  \n",
            " extracting: train/-159-34---fire_jpg.rf.5d775349ce76e07e2f314802485866fc.jpg  \n",
            " extracting: train/-159-34---fire_jpg.rf.e56d519b189708b67c1dcf84e5534c24.jpg  \n",
            " extracting: train/-159-62---fire_jpg.rf.40f0e66b9566dddc3c0d531a91260a40.jpg  \n",
            " extracting: train/-159-62---fire_jpg.rf.cc5557514377d6078f517ea620c73a29.jpg  \n",
            " extracting: train/-159-62---fire_jpg.rf.fae6dcb8963ceef6ddc7854a637775d3.jpg  \n",
            " extracting: train/-159-63---fire_jpg.rf.97da4fa91ecb6d703bbe65cdeb61d90a.jpg  \n",
            " extracting: train/-159-63---fire_jpg.rf.a27b33843b2f90a3fa7f1788b7124b86.jpg  \n",
            " extracting: train/-159-63---fire_jpg.rf.fe3feb4ddef26b18359b8fb1b9152f81.jpg  \n",
            " extracting: train/-159-64---fire_jpg.rf.b7015333f7cde2eaa225f67cee72623e.jpg  \n",
            " extracting: train/-159-64---fire_jpg.rf.cd0471b434451a3a012be0fe04aa64ab.jpg  \n",
            " extracting: train/-159-64---fire_jpg.rf.e10a7d5168569f6f9becc5ea3db0dc7b.jpg  \n",
            " extracting: train/-159-65---fire_jpg.rf.1d818bb10fabb4be6779680d0c967545.jpg  \n",
            " extracting: train/-159-65---fire_jpg.rf.d205586f1818c0678662e2f1a427868e.jpg  \n",
            " extracting: train/-159-65---fire_jpg.rf.dcbdbc5b557fcf84d606ecf1f2e3e5ac.jpg  \n",
            " extracting: train/-159-66---fire_jpg.rf.2309ab2e1fa6ff7b8790565cd3eae160.jpg  \n",
            " extracting: train/-159-66---fire_jpg.rf.24c8b5570c3b9e61844af0aca7c47c4a.jpg  \n",
            " extracting: train/-159-66---fire_jpg.rf.f1c5b1b948d7046aa0cfb85957537142.jpg  \n",
            " extracting: train/-159-67---fire_jpg.rf.0ba4a81a2772db1877f8349bd208be5c.jpg  \n",
            " extracting: train/-159-67---fire_jpg.rf.8880058fcf4e0508bad96a84e7bd6d20.jpg  \n",
            " extracting: train/-159-67---fire_jpg.rf.a2eeaa1895c176aeb7acd754b57a22b8.jpg  \n",
            " extracting: train/-159-68---fire_jpg.rf.079c25af9d5130d5d3cf657610024088.jpg  \n",
            " extracting: train/-159-68---fire_jpg.rf.08254067c235bd4c2ac06ca5ee8cef29.jpg  \n",
            " extracting: train/-159-68---fire_jpg.rf.98197ad5227705c12fe5f7aa0366689d.jpg  \n",
            " extracting: train/-159-69---fire_jpg.rf.5071e1d9773e6dbb909ca1002e498c7c.jpg  \n",
            " extracting: train/-159-69---fire_jpg.rf.aa8bbdbd577ca961e78e4ae8104dd85a.jpg  \n",
            " extracting: train/-159-69---fire_jpg.rf.ff1a604a8b5bae05be35f58634a2b7f2.jpg  \n",
            " extracting: train/-159-70---fire_jpg.rf.08329f9660dd19c81b8fe22240870875.jpg  \n",
            " extracting: train/-159-70---fire_jpg.rf.5acdd159a55c8e96de3caaa40a21b5ee.jpg  \n",
            " extracting: train/-159-70---fire_jpg.rf.d46d5623722bbe34b1d29dfe9f38f01d.jpg  \n",
            " extracting: train/-159-71---fire_jpg.rf.2549a86d3d83c07d926d0d9a4459f723.jpg  \n",
            " extracting: train/-159-71---fire_jpg.rf.52ec81719b4a3e67e97cb93b9dec4778.jpg  \n",
            " extracting: train/-159-71---fire_jpg.rf.d3b97f839697cab477a674db32cff14d.jpg  \n",
            " extracting: train/-159-73---fire_jpg.rf.1fe2630673ac3dbb7f280a7480a6c73e.jpg  \n",
            " extracting: train/-159-73---fire_jpg.rf.4c37bc025b7d3c08e06cbbed87b2164c.jpg  \n",
            " extracting: train/-159-73---fire_jpg.rf.f65493d67ba7bb068f24e9525b06a94c.jpg  \n",
            " extracting: train/-159-74---fire_jpg.rf.07172fb896d977b41e5bfde5ed494e64.jpg  \n",
            " extracting: train/-159-74---fire_jpg.rf.db73c52d22aaa7255a52c8fda2bbe9be.jpg  \n",
            " extracting: train/-159-74---fire_jpg.rf.f8d764253897bd72c679f47ee45a8168.jpg  \n",
            " extracting: train/-16-13---fire_jpg.rf.6cb00ff50cd5d9104fb58026e489f257.jpg  \n",
            " extracting: train/-16-13---fire_jpg.rf.b95e340f32de5e58b25cbd1fc59fafb1.jpg  \n",
            " extracting: train/-16-13---fire_jpg.rf.e9b8e84b7628bf7a2bfa3229170bc372.jpg  \n",
            " extracting: train/-16-14---fire_jpg.rf.191f58b33452e5dda2e76f1a2088383b.jpg  \n",
            " extracting: train/-16-14---fire_jpg.rf.2fb1534362328961cc9da87bb61d1740.jpg  \n",
            " extracting: train/-16-14---fire_jpg.rf.95da1549c33749662210ad3e340a9467.jpg  \n",
            " extracting: train/-16-16---fire_jpg.rf.489963341272d56afbecff9987359b8b.jpg  \n",
            " extracting: train/-16-16---fire_jpg.rf.4bfa0a10654f81e2cff8c47b93bf3c9d.jpg  \n",
            " extracting: train/-16-16---fire_jpg.rf.77f565aa53a60268c7a79ed279690d62.jpg  \n",
            " extracting: train/-16-17---fire_jpg.rf.1792fde89b0781bea9c545c569142cc2.jpg  \n",
            " extracting: train/-16-17---fire_jpg.rf.3e787d60d47fd68112f2f4133338f8fa.jpg  \n",
            " extracting: train/-16-17---fire_jpg.rf.4b58ab0538f970a7467914cf084a8654.jpg  \n",
            " extracting: train/-16-18---fire_jpg.rf.1b08b4e23fe8dd91af99a1307eeb4675.jpg  \n",
            " extracting: train/-16-18---fire_jpg.rf.37eaaa2c9794a42fefc6d1695623b232.jpg  \n",
            " extracting: train/-16-18---fire_jpg.rf.e947d986f2a32d488f44e43eb16e9e88.jpg  \n",
            " extracting: train/-16-19---fire_jpg.rf.7cbcf3dc327ac7e17e3746f6b9c5445f.jpg  \n",
            " extracting: train/-16-19---fire_jpg.rf.ad7fe6f8fb333eaa934468a2c5a0b018.jpg  \n",
            " extracting: train/-16-19---fire_jpg.rf.b1514168e84d6ad636091c01777e1234.jpg  \n",
            " extracting: train/-16-21---fire_jpg.rf.150a6aee85713e9dfae925a6160b4d6b.jpg  \n",
            " extracting: train/-16-21---fire_jpg.rf.7d922b664dba1bbb64f0f0cbde04d1b3.jpg  \n",
            " extracting: train/-16-21---fire_jpg.rf.a39481ed6c654cda3c1ff30fbaa096a8.jpg  \n",
            " extracting: train/-16-22---fire_jpg.rf.0b1770a594d99367f16f51d7aac09fb7.jpg  \n",
            " extracting: train/-16-22---fire_jpg.rf.25075612ea6cdcba27c7e39fcf8e8990.jpg  \n",
            " extracting: train/-16-22---fire_jpg.rf.804329e7e903dedb496bf7eaa1ab90d5.jpg  \n",
            " extracting: train/-16-23---fire_jpg.rf.39380e389e51917165d3b0f66cfa5cda.jpg  \n",
            " extracting: train/-16-23---fire_jpg.rf.688fd525e6354ed4bf91c6e409df4e5d.jpg  \n",
            " extracting: train/-16-23---fire_jpg.rf.7de5209a4aa4db5023d44b94e3765062.jpg  \n",
            " extracting: train/-16-24---fire_jpg.rf.379cf214464d7117423815fabc4cdbaf.jpg  \n",
            " extracting: train/-16-24---fire_jpg.rf.3e1bdca0ccb085f9f31d4ecc420d480e.jpg  \n",
            " extracting: train/-16-24---fire_jpg.rf.817775296298fc8f8ea6b359f50e626f.jpg  \n",
            " extracting: train/-16-25---fire_jpg.rf.45762da1305c351b22384d0034b48f47.jpg  \n",
            " extracting: train/-16-25---fire_jpg.rf.bf1b51de215345e43fe20224dde2241b.jpg  \n",
            " extracting: train/-16-25---fire_jpg.rf.d84e3273d48f2ff2f54d18dac8807b05.jpg  \n",
            " extracting: train/-16-26---fire_jpg.rf.5804a4b8eb162b3405c4392226b6e675.jpg  \n",
            " extracting: train/-16-26---fire_jpg.rf.81ab40e742408e559ad5f1cc87c8d292.jpg  \n",
            " extracting: train/-16-26---fire_jpg.rf.82081fc2f27a7dc9079a45a40a8b9223.jpg  \n",
            " extracting: train/-16-27---fire_jpg.rf.0b2f24cacda20f87182edb367d95a612.jpg  \n",
            " extracting: train/-16-27---fire_jpg.rf.1885d4d88327679b0e672a44f3ee62b4.jpg  \n",
            " extracting: train/-16-27---fire_jpg.rf.59dc0b384d89c1187926bec35a353d7f.jpg  \n",
            " extracting: train/-16-28---fire_jpg.rf.74086829116e3d91fa207483ee32d5ab.jpg  \n",
            " extracting: train/-16-28---fire_jpg.rf.a31e6b5dbe09e12dce78355cda802f06.jpg  \n",
            " extracting: train/-16-28---fire_jpg.rf.b6e25c1b56eea33444f1f28c73e6297e.jpg  \n",
            " extracting: train/-16-29---fire_jpg.rf.27f013870b9cc76ce025e2cdc3b73a2d.jpg  \n",
            " extracting: train/-16-29---fire_jpg.rf.b2b027fd082a37b33871d162fc3d9283.jpg  \n",
            " extracting: train/-16-29---fire_jpg.rf.fff319db2e84c0f0c7945900f53eb02f.jpg  \n",
            " extracting: train/-16-30---fire_jpg.rf.071452f9440b23a1143a97eba62d636b.jpg  \n",
            " extracting: train/-16-30---fire_jpg.rf.226c52e06ea1a2abf87df41a71bec36a.jpg  \n",
            " extracting: train/-16-30---fire_jpg.rf.aeac5e9d28881b24630c1690f129f222.jpg  \n",
            " extracting: train/-16-31---fire_jpg.rf.a59b4fa16c649b3343abc58701bbd2cd.jpg  \n",
            " extracting: train/-16-31---fire_jpg.rf.b7a9dcb9db8a054591b6451cae237592.jpg  \n",
            " extracting: train/-16-31---fire_jpg.rf.f3c5c9577425f0c154096a244e6954b2.jpg  \n",
            " extracting: train/-16-32---fire_jpg.rf.9cbd2a0369061dba66d2b1dd3c83addd.jpg  \n",
            " extracting: train/-16-32---fire_jpg.rf.d76804f17882e652b840e5fdd5452b14.jpg  \n",
            " extracting: train/-16-32---fire_jpg.rf.db34b73829fd62bee14d543ce2623e9b.jpg  \n",
            " extracting: train/-16-33---fire_jpg.rf.84a1b3baaac629221ff3711ff7bbeaf6.jpg  \n",
            " extracting: train/-16-33---fire_jpg.rf.86cbfce18210279f140d51a580194176.jpg  \n",
            " extracting: train/-16-33---fire_jpg.rf.ea8ea813ead7595b3faa809cf19dcd02.jpg  \n",
            " extracting: train/-16-34---fire_jpg.rf.12eef8e9703ac9eb9d799168a3884c24.jpg  \n",
            " extracting: train/-16-34---fire_jpg.rf.7a4adf0414b6082a32bcb5a4e2e251ea.jpg  \n",
            " extracting: train/-16-34---fire_jpg.rf.a48f85422dea7b58f60a459e05896877.jpg  \n",
            " extracting: train/-16-35---fire_jpg.rf.897d9d1b2ed5326e6c3a8b8d804c1138.jpg  \n",
            " extracting: train/-16-35---fire_jpg.rf.90e7f777bd3ab9cb17bc793251796df3.jpg  \n",
            " extracting: train/-16-35---fire_jpg.rf.dfe3c80f89a2e5b33bb4f0f5f3127fb7.jpg  \n",
            " extracting: train/-16-36---fire_jpg.rf.3abba90133d18d0ef2eca0abea8522a3.jpg  \n",
            " extracting: train/-16-36---fire_jpg.rf.6960692c26c05a286b9cdcb67f8f9f5c.jpg  \n",
            " extracting: train/-16-36---fire_jpg.rf.9bde91c781bbdd64d6f377d3cc0950cb.jpg  \n",
            " extracting: train/-16-37---fire_jpg.rf.0137889e6cfa270b8e5f29c89294fcac.jpg  \n",
            " extracting: train/-16-37---fire_jpg.rf.9b3cc8081659d249c6b654d5f02d7a8a.jpg  \n",
            " extracting: train/-16-37---fire_jpg.rf.fd2735bbea765930db6a6f35814028d6.jpg  \n",
            " extracting: train/-16-38---fire_jpg.rf.4a065a7ba66bd7670a1cd7f1c8644394.jpg  \n",
            " extracting: train/-16-38---fire_jpg.rf.81bf9dabe9e002bd4ffe8c011c22f2db.jpg  \n",
            " extracting: train/-16-38---fire_jpg.rf.eb957a8c2f1c028a830edf3e03ba8a58.jpg  \n",
            " extracting: train/-16-40---fire_jpg.rf.006079508ae1173b28545d077ff705f3.jpg  \n",
            " extracting: train/-16-40---fire_jpg.rf.57ad6290d530c6be430a6f2f5846899a.jpg  \n",
            " extracting: train/-16-40---fire_jpg.rf.621fe1cce65a2df47912b5e3ca52ebb3.jpg  \n",
            " extracting: train/-16-43---fire_jpg.rf.237a00d85bbd04051c6bc2789b203df2.jpg  \n",
            " extracting: train/-16-43---fire_jpg.rf.ac43ce217a5a24e18b2eeaee9327af8f.jpg  \n",
            " extracting: train/-16-43---fire_jpg.rf.cbe8bddc7f0b066bee5a667a569f592d.jpg  \n",
            " extracting: train/-16-44---fire_jpg.rf.38cd4a3e7858cd6c3cb4213b56e7c57e.jpg  \n",
            " extracting: train/-16-44---fire_jpg.rf.93657b9b79c05a34411936c27669e472.jpg  \n",
            " extracting: train/-16-44---fire_jpg.rf.f522bdf30760bf5f1638b88c6514c0e3.jpg  \n",
            " extracting: train/-16-46---fire_jpg.rf.c09ed64f65356124f581b95390bee51f.jpg  \n",
            " extracting: train/-16-46---fire_jpg.rf.d15af4fe8bcd60a611b2af0df3867123.jpg  \n",
            " extracting: train/-16-46---fire_jpg.rf.f7b9eb35ef2fe5917d77ed955e9e364e.jpg  \n",
            " extracting: train/-16-47---fire_jpg.rf.0001a3c1a26c47dbc0157102dd541f36.jpg  \n",
            " extracting: train/-16-47---fire_jpg.rf.f00018776307c82777e9b4e3ab35d383.jpg  \n",
            " extracting: train/-16-47---fire_jpg.rf.f26f28fa080644703e5641a85301dc8a.jpg  \n",
            " extracting: train/-16-48---fire_jpg.rf.2065f142acff1ae426fb8cdf6d28408d.jpg  \n",
            " extracting: train/-16-48---fire_jpg.rf.41c1d3ff9ae512ae151cb7a799796080.jpg  \n",
            " extracting: train/-16-48---fire_jpg.rf.f31654f5260c27f326cd9a7a195b20b5.jpg  \n",
            " extracting: train/-16-50---fire_jpg.rf.73f570360c0db6c1f24e186af8675688.jpg  \n",
            " extracting: train/-16-50---fire_jpg.rf.7a6604b0c533935b17dc978a6799c7a3.jpg  \n",
            " extracting: train/-16-50---fire_jpg.rf.ae443bdc02f4f08aa39c9a02a82257e4.jpg  \n",
            " extracting: train/-16-51---fire_jpg.rf.2b739c4aacd9cacb683f4ff3ca71eba0.jpg  \n",
            " extracting: train/-16-51---fire_jpg.rf.5746cce88c68d2f39ef5a1b248533b27.jpg  \n",
            " extracting: train/-16-51---fire_jpg.rf.cd0f06d20b9b072c40dd8b0401b2749c.jpg  \n",
            " extracting: train/-16-52---fire_jpg.rf.4f947faea315560bfae7d26c55f774e9.jpg  \n",
            " extracting: train/-16-52---fire_jpg.rf.609f3b2f10e722c3147b9b53a54441f7.jpg  \n",
            " extracting: train/-16-52---fire_jpg.rf.a7cf66516c1111a00135838c3b9e3bd3.jpg  \n",
            " extracting: train/-16-53---fire_jpg.rf.72c3cc40851c1199443c2c178a60ad05.jpg  \n",
            " extracting: train/-16-53---fire_jpg.rf.c89014a8c11bf77f45362e8b7a5cdbeb.jpg  \n",
            " extracting: train/-16-53---fire_jpg.rf.fb0540f299aaa5fc5018b7e0aa452a25.jpg  \n",
            " extracting: train/-16-54---fire_jpg.rf.1273579c0246008fdebb16d85ac7c7bf.jpg  \n",
            " extracting: train/-16-54---fire_jpg.rf.398b8a7a72d184b85e97c4456d84fa0b.jpg  \n",
            " extracting: train/-16-54---fire_jpg.rf.ae6ccf38c90a7c28ee97dc4a4cc32aac.jpg  \n",
            " extracting: train/-16-55---fire_jpg.rf.51724e225b5489aa22340d9d7663dc29.jpg  \n",
            " extracting: train/-16-55---fire_jpg.rf.b81b90655461c225534b4ab5656343bc.jpg  \n",
            " extracting: train/-16-55---fire_jpg.rf.e394d44884f0e81833c633ee2cd227c6.jpg  \n",
            " extracting: train/-16-60---fire_jpg.rf.16299b73389dcdc645212e140854eed5.jpg  \n",
            " extracting: train/-16-60---fire_jpg.rf.c74e85301d96e68d2b9bae8e9ca02271.jpg  \n",
            " extracting: train/-16-60---fire_jpg.rf.d1edf0dcb0bad3c09b5a0d04eb85ccc0.jpg  \n",
            " extracting: train/-16-61---fire_jpg.rf.25adfc3a56d4ad13322c042875142936.jpg  \n",
            " extracting: train/-16-61---fire_jpg.rf.b6c9bf644f52aee610eae4e4f81deda8.jpg  \n",
            " extracting: train/-16-61---fire_jpg.rf.eaef968c6d6e9a2fc71f9666245bc6d1.jpg  \n",
            " extracting: train/-16-62---fire_jpg.rf.22c696a57a973809a49ebd60c0289a44.jpg  \n",
            " extracting: train/-16-62---fire_jpg.rf.d55deab8546d52cc59173fc480dd7c57.jpg  \n",
            " extracting: train/-16-62---fire_jpg.rf.fbd061899ca77b45ae7951928ba377c2.jpg  \n",
            " extracting: train/-160-16---fire_jpg.rf.47d073af8a34908b88dd9bc46e45d850.jpg  \n",
            " extracting: train/-160-16---fire_jpg.rf.76b8ca337eb7d65a7fce38a6e2e64fb0.jpg  \n",
            " extracting: train/-160-16---fire_jpg.rf.a799578d1607eb6910566d6122bff7ec.jpg  \n",
            " extracting: train/-160-17---fire_jpg.rf.4e8e03ce4b9561669fdfcd7a87d4008a.jpg  \n",
            " extracting: train/-160-17---fire_jpg.rf.93799b498e7cc8ef53f1bed46f693717.jpg  \n",
            " extracting: train/-160-17---fire_jpg.rf.eb7085cbf010731b117577ff6c701c58.jpg  \n",
            " extracting: train/-160-18---fire_jpg.rf.8e44e04b6b5afd85000e91cf28276625.jpg  \n",
            " extracting: train/-160-18---fire_jpg.rf.b7a5d0dac307bf904743ab95fd619d56.jpg  \n",
            " extracting: train/-160-18---fire_jpg.rf.d3e170b20e7ef15fd2b720c9f277c13d.jpg  \n",
            " extracting: train/-160-19---fire_jpg.rf.1077245e884beb3dcd9a6869d26a55fa.jpg  \n",
            " extracting: train/-160-19---fire_jpg.rf.1d4790d5d87e158ef9d9cb8f14f56fe4.jpg  \n",
            " extracting: train/-160-19---fire_jpg.rf.35148196f6d7eaf123445a95161c268f.jpg  \n",
            " extracting: train/-160-20---fire_jpg.rf.4db4c2f146470e99212f2b78bc9cfe13.jpg  \n",
            " extracting: train/-160-20---fire_jpg.rf.a331dc7ae0661207edb52a20b99b1f94.jpg  \n",
            " extracting: train/-160-20---fire_jpg.rf.bf1539aea690f54346e8bc8de8117988.jpg  \n",
            " extracting: train/-160-21---fire_jpg.rf.2d2292a5cdda2e3b8bb53d99623f2824.jpg  \n",
            " extracting: train/-160-21---fire_jpg.rf.84e0ac080c214192f8ff718cfeff7da7.jpg  \n",
            " extracting: train/-160-21---fire_jpg.rf.8b60274447b1ce6535ffde2b3ea7c2c0.jpg  \n",
            " extracting: train/-160-22---fire_jpg.rf.8cbf9272e1cf81e13de8b352c8575005.jpg  \n",
            " extracting: train/-160-22---fire_jpg.rf.c35ada7eedf9e27ab770632947d67a20.jpg  \n",
            " extracting: train/-160-22---fire_jpg.rf.e2e97fc6fa4d9f5171e1b7ec16224f69.jpg  \n",
            " extracting: train/-160-23---fire_jpg.rf.6e921bce7feddeab0787f9a56e594ffd.jpg  \n",
            " extracting: train/-160-23---fire_jpg.rf.7fd5ce3a81d45eb1fd6efb503fdcef4c.jpg  \n",
            " extracting: train/-160-23---fire_jpg.rf.8ff1071ea1b001f934308da8ccb61116.jpg  \n",
            " extracting: train/-161-21---fire_jpg.rf.5de2078a82e642b813c52bbc04ab3cf6.jpg  \n",
            " extracting: train/-161-21---fire_jpg.rf.7542fe14c83fd0cd60ccc15824d266ab.jpg  \n",
            " extracting: train/-161-21---fire_jpg.rf.a4a03b57f3b2bef6d3b8a188fe7c75a5.jpg  \n",
            " extracting: train/-161-22---fire_jpg.rf.304e996322cfd227eee1cfa96799cabd.jpg  \n",
            " extracting: train/-161-22---fire_jpg.rf.34a8b22608dbccb7a90cf358fb09714f.jpg  \n",
            " extracting: train/-161-22---fire_jpg.rf.c448656930f2bb41f5c326eff8e751dd.jpg  \n",
            " extracting: train/-161-23---fire_jpg.rf.93331db7096848f8c9562be199342f1f.jpg  \n",
            " extracting: train/-161-23---fire_jpg.rf.9ceb9d923c61598a89e322262448e115.jpg  \n",
            " extracting: train/-161-27---fire_jpg.rf.a9fdb4d51416396ae1f1c2ae2f810acc.jpg  \n",
            " extracting: train/-161-27---fire_jpg.rf.c1f5169432318c671925bb42e8254ea5.jpg  \n",
            " extracting: train/-161-27---fire_jpg.rf.d498771ccde9d5a8e51114ca318f97d7.jpg  \n",
            " extracting: train/-161-28---fire_jpg.rf.86b092da3009933bc6950848bc951abe.jpg  \n",
            " extracting: train/-161-28---fire_jpg.rf.aef2f1d8b5157e8213f9a1e35e26721e.jpg  \n",
            " extracting: train/-161-28---fire_jpg.rf.afb4dfc92c0bb668d8d3f9494b58f750.jpg  \n",
            " extracting: train/-161-52---fire_jpg.rf.1a5f28ec8e3c0ba702c7952617d33b6a.jpg  \n",
            " extracting: train/-161-52---fire_jpg.rf.90896ec7f2723e92293b82067b08b73c.jpg  \n",
            " extracting: train/-161-52---fire_jpg.rf.c9d64ebb4f011a4ace0b14cd33c78b16.jpg  \n",
            " extracting: train/-161-53---fire_jpg.rf.76d22b10a7a1d358d282d2e7d58d8e11.jpg  \n",
            " extracting: train/-161-53---fire_jpg.rf.d1a1d81fc5a962b1b7bbc9344a1c2a30.jpg  \n",
            " extracting: train/-161-53---fire_jpg.rf.e291a43e4e87687b31023aaa0ce141a9.jpg  \n",
            " extracting: train/-161-57---fire_jpg.rf.107c95ed4f7d6ad7c2732bc20d840ae8.jpg  \n",
            " extracting: train/-161-57---fire_jpg.rf.592cd992165d3f53ecb5d36ae7234183.jpg  \n",
            " extracting: train/-161-57---fire_jpg.rf.bf990b90113e9d32d4ce3b0b787dfc94.jpg  \n",
            " extracting: train/-161-58---fire_jpg.rf.03f32b6575d2d614141288e051545d2d.jpg  \n",
            " extracting: train/-161-58---fire_jpg.rf.3f64a57dc8d32f2c58e3120fdc1da22f.jpg  \n",
            " extracting: train/-161-58---fire_jpg.rf.e9251d9900884e97ee19999b1cb46362.jpg  \n",
            " extracting: train/-161-59---fire_jpg.rf.a1d55ba2fa9c3b0b5d4e97b7b6df5140.jpg  \n",
            " extracting: train/-161-59---fire_jpg.rf.db333d8042b1af00e195d6c1953674a1.jpg  \n",
            " extracting: train/-161-59---fire_jpg.rf.f842bf28c53d89562242fc33c241b9c0.jpg  \n",
            " extracting: train/-161-60---fire_jpg.rf.61462cc59955d746a9caa3f503748a4c.jpg  \n",
            " extracting: train/-161-60---fire_jpg.rf.61a65d08225e9c9c899689c14aef5ac5.jpg  \n",
            " extracting: train/-161-60---fire_jpg.rf.9928895b9e29cadb62c70d9cea0bbb75.jpg  \n",
            " extracting: train/-161-79---fire_jpg.rf.0d615d3d5a82d408dea3f2b84b53599a.jpg  \n",
            " extracting: train/-161-79---fire_jpg.rf.0e5926dd25a14538b379009e8bdd8516.jpg  \n",
            " extracting: train/-161-79---fire_jpg.rf.a5b1b65d0860f1e026563cfe294131e3.jpg  \n",
            " extracting: train/-161-80---fire_jpg.rf.40cc7695cd2539178f86da61721e07d0.jpg  \n",
            " extracting: train/-161-80---fire_jpg.rf.6f772018e56b7a7c2458183afe14a8fa.jpg  \n",
            " extracting: train/-161-80---fire_jpg.rf.f9f3827b55f2548f48711c525d810e4a.jpg  \n",
            " extracting: train/-161-82---fire_jpg.rf.36108e222ba50fc85e027a9df316ec14.jpg  \n",
            " extracting: train/-161-82---fire_jpg.rf.8608a5c6bf3fffa82c771cc2c115149d.jpg  \n",
            " extracting: train/-161-82---fire_jpg.rf.d64560f81c06344014bbe0936eac2e48.jpg  \n",
            " extracting: train/-161-83---fire_jpg.rf.0c0823a6963f795a13630db6eb777088.jpg  \n",
            " extracting: train/-161-83---fire_jpg.rf.108418b762e5efc93fadcf69c7216b9a.jpg  \n",
            " extracting: train/-161-83---fire_jpg.rf.fcbefc5303bcc187071adf954070dc62.jpg  \n",
            " extracting: train/-161-86---fire_jpg.rf.2d43893b0d63b0b88aae941d9b0adfc8.jpg  \n",
            " extracting: train/-161-86---fire_jpg.rf.7ac2e955b3e54d4727f23738a396ed49.jpg  \n",
            " extracting: train/-161-86---fire_jpg.rf.e04b23699deb35f2eea63812a4954fc4.jpg  \n",
            " extracting: train/-161-90---fire_jpg.rf.11320c46f5320fc44733ce176d14dbc7.jpg  \n",
            " extracting: train/-161-90---fire_jpg.rf.3fa39e742b998c127fd2d62f4ce055a8.jpg  \n",
            " extracting: train/-161-90---fire_jpg.rf.a91f3e3d978e368abffa9f89032557b7.jpg  \n",
            " extracting: train/-161-91---fire_jpg.rf.7c94a27e437da21ffdefd8a28abb7c08.jpg  \n",
            " extracting: train/-161-91---fire_jpg.rf.8aca76ac75b9629647bcb52e241a4b40.jpg  \n",
            " extracting: train/-161-91---fire_jpg.rf.b18589eb64e9b3744edbae98c92c8d61.jpg  \n",
            " extracting: train/-161-92---fire_jpg.rf.01f136d65cc3cdb00c032e3c5dd2fdc0.jpg  \n",
            " extracting: train/-161-92---fire_jpg.rf.4ee3a8b88f6c013c8e348eb066daf440.jpg  \n",
            " extracting: train/-161-92---fire_jpg.rf.6376ea878737b2c4b28a0fd68cf5d791.jpg  \n",
            " extracting: train/-161-93---fire_jpg.rf.5d009f44504e8200efb032a0d7b346ef.jpg  \n",
            " extracting: train/-161-93---fire_jpg.rf.7d1a7e8e399ea72c2db9780ad65ca408.jpg  \n",
            " extracting: train/-161-93---fire_jpg.rf.855094bdb145ee19a0b19569890b41f2.jpg  \n",
            " extracting: train/-161-94---fire_jpg.rf.22f47bdff1a1b96d674bf24bd65bf75a.jpg  \n",
            " extracting: train/-161-94---fire_jpg.rf.2303d4f38f7b91fb81860db12a1d519f.jpg  \n",
            " extracting: train/-161-94---fire_jpg.rf.2e2a0782895df2272076a07ec67ff878.jpg  \n",
            " extracting: train/-161-95---fire_jpg.rf.1e6b86b2e714ecc54cb172ab17dd9401.jpg  \n",
            " extracting: train/-161-95---fire_jpg.rf.1eb746226133dba607da3e5c3c826148.jpg  \n",
            " extracting: train/-161-95---fire_jpg.rf.84dcf48e6bf02a4b2e34131b652e505c.jpg  \n",
            " extracting: train/-161-96---fire_jpg.rf.1659d67749a8a27dcaf1d55fc08ba118.jpg  \n",
            " extracting: train/-161-96---fire_jpg.rf.565ec803d7f8adf7508092f5bcc01998.jpg  \n",
            " extracting: train/-161-96---fire_jpg.rf.88ef43a478af04a2eac4d8ee60f210be.jpg  \n",
            " extracting: train/-162-1---fire_jpg.rf.152e34c47c8ee4621a5fb84085083e0a.jpg  \n",
            " extracting: train/-162-1---fire_jpg.rf.360fcf73affba7807cc74e34468af42a.jpg  \n",
            " extracting: train/-162-1---fire_jpg.rf.4b20b23249a2e38857c3a7aebf7f2873.jpg  \n",
            " extracting: train/-162-10---fire_jpg.rf.5deb04dc54e6fb9e570c390dfcee8c78.jpg  \n",
            " extracting: train/-162-10---fire_jpg.rf.c104d151c6eb5ba5d8ca382458626176.jpg  \n",
            " extracting: train/-162-10---fire_jpg.rf.f6a0301857f9767dc78d28dcd9efdd54.jpg  \n",
            " extracting: train/-162-103---fire_jpg.rf.272fb53e2eb3d63c04ebfe6e659a403b.jpg  \n",
            " extracting: train/-162-103---fire_jpg.rf.59e17ae7b42ffe31aa1e8d0103f0c463.jpg  \n",
            " extracting: train/-162-103---fire_jpg.rf.83a4832bddf0773cb37531a5af0ea298.jpg  \n",
            " extracting: train/-162-104---fire_jpg.rf.2efe902c48fced92f7428f70efcbfce7.jpg  \n",
            " extracting: train/-162-104---fire_jpg.rf.702c9ef83b6d32a436da9293f2b75604.jpg  \n",
            " extracting: train/-162-104---fire_jpg.rf.adcd0f62fc4c3c6bda54ba03b540578e.jpg  \n",
            " extracting: train/-162-109---fire_jpg.rf.9ded0e2382e71bb9cf22f46971bdb6d7.jpg  \n",
            " extracting: train/-162-109---fire_jpg.rf.a64775754936bb75cf0dad201501f89c.jpg  \n",
            " extracting: train/-162-109---fire_jpg.rf.e4f8423bcb2ddd73823404ce1f964704.jpg  \n",
            " extracting: train/-162-11---fire_jpg.rf.4a3ab92397cd9cd7fb2082be2dd231d1.jpg  \n",
            " extracting: train/-162-11---fire_jpg.rf.5ffaa1bdbdeaf017ae201ecebdbf709e.jpg  \n",
            " extracting: train/-162-11---fire_jpg.rf.947983f5a329429a83e07a6ae39069ea.jpg  \n",
            " extracting: train/-162-110---fire_jpg.rf.55c476ddd8eeaadbfaffe536b5d611b1.jpg  \n",
            " extracting: train/-162-110---fire_jpg.rf.60e9077f81dc46f7d0dfe5b20c7876db.jpg  \n",
            " extracting: train/-162-110---fire_jpg.rf.ee9d03be4087bf08dd9bcd391b37032e.jpg  \n",
            " extracting: train/-162-111---fire_jpg.rf.409336663747de9aee234aa6d016fa7f.jpg  \n",
            " extracting: train/-162-111---fire_jpg.rf.d3509849c33541a979414dfa4ab11721.jpg  \n",
            " extracting: train/-162-111---fire_jpg.rf.f970e9abc9733b67060463edf0c845ea.jpg  \n",
            " extracting: train/-162-12---fire_jpg.rf.018200d9fe4cda6d8fb701e3e5948003.jpg  \n",
            " extracting: train/-162-12---fire_jpg.rf.194feded5a4a86365554331c8c2342a0.jpg  \n",
            " extracting: train/-162-12---fire_jpg.rf.b2a0406908a1644f5684105ffab8a925.jpg  \n",
            " extracting: train/-162-14---fire_jpg.rf.14f35d494bbc073e8378346bbb2e5f4c.jpg  \n",
            " extracting: train/-162-14---fire_jpg.rf.4a32aeb86bab8b431e487021be7fd5c2.jpg  \n",
            " extracting: train/-162-14---fire_jpg.rf.9fb91e63f6197e53374ee3aa3640dcbd.jpg  \n",
            " extracting: train/-162-15---fire_jpg.rf.2e8f3cdb83026d372b95c882f528d981.jpg  \n",
            " extracting: train/-162-15---fire_jpg.rf.7807c8018c89d123496eb240f0a654e2.jpg  \n",
            " extracting: train/-162-15---fire_jpg.rf.d34c14acf5db27149608baf466c40ac0.jpg  \n",
            " extracting: train/-162-17---fire_jpg.rf.5bdded21de3e2e894163c419cb55bda3.jpg  \n",
            " extracting: train/-162-17---fire_jpg.rf.6cc3486f858cbc4e5b534162aa6858ef.jpg  \n",
            " extracting: train/-162-17---fire_jpg.rf.8aa4a033207e0bd637ef6ad3af51666d.jpg  \n",
            " extracting: train/-162-18---fire_jpg.rf.106a57fec2f05bf323287fa9a7060759.jpg  \n",
            " extracting: train/-162-18---fire_jpg.rf.bbdcc569486a25688cb3d30e1ca89a09.jpg  \n",
            " extracting: train/-162-18---fire_jpg.rf.ccd16a73830d959436aa43e5645a17c5.jpg  \n",
            " extracting: train/-162-19---fire_jpg.rf.7b0c876beea087c99cf639304207efff.jpg  \n",
            " extracting: train/-162-19---fire_jpg.rf.eeeccf6dce0302364402ca29c8675c16.jpg  \n",
            " extracting: train/-162-19---fire_jpg.rf.f2d1f44175efe22c9afbfc85fc96375e.jpg  \n",
            " extracting: train/-162-2---fire_jpg.rf.1676abd07ff8e881333efccd0c5c9e4b.jpg  \n",
            " extracting: train/-162-2---fire_jpg.rf.bae56bcebf74f7108851d50bb64f92de.jpg  \n",
            " extracting: train/-162-2---fire_jpg.rf.d1a8fb37b12461bcd04528a0feea9c83.jpg  \n",
            " extracting: train/-162-20---fire_jpg.rf.5d4f67c4598d22b7d4280f8b752dcb3d.jpg  \n",
            " extracting: train/-162-20---fire_jpg.rf.978a4b578fff13d997b1040d5a1526af.jpg  \n",
            " extracting: train/-162-20---fire_jpg.rf.bfcea8a78739d71f2ce48080138a1e42.jpg  \n",
            " extracting: train/-162-21---fire_jpg.rf.01d1eb78bd8792af771ff5d8dbbec292.jpg  \n",
            " extracting: train/-162-21---fire_jpg.rf.3d14e400b3bede2283bd61e15b212f0d.jpg  \n",
            " extracting: train/-162-21---fire_jpg.rf.4070707fc616a6c708087b1cc22c4a69.jpg  \n",
            " extracting: train/-162-22---fire_jpg.rf.7151d08c3493f6fdc3848d24e4931e62.jpg  \n",
            " extracting: train/-162-22---fire_jpg.rf.c83efcc29317552eb6781f8b40f0f0e9.jpg  \n",
            " extracting: train/-162-22---fire_jpg.rf.d4c185f4e4093bab550e3d224ca5f1e9.jpg  \n",
            " extracting: train/-162-23---fire_jpg.rf.4fcdf99b1987f170d680a67e8d47fcb8.jpg  \n",
            " extracting: train/-162-23---fire_jpg.rf.5bf5a4f20d944c205b117b679a6fd7d7.jpg  \n",
            " extracting: train/-162-23---fire_jpg.rf.b683152130b5991676d8f41519090b91.jpg  \n",
            " extracting: train/-162-24---fire_jpg.rf.15d537dae9bd055fb4c78132fbc6b217.jpg  \n",
            " extracting: train/-162-24---fire_jpg.rf.245814be64d1af56ed9f9cdffb37202c.jpg  \n",
            " extracting: train/-162-24---fire_jpg.rf.b218fb306d977e88c6b1ce009456aed0.jpg  \n",
            " extracting: train/-162-25---fire_jpg.rf.2107b86dbd5c1a0f2412f164570a0f5e.jpg  \n",
            " extracting: train/-162-25---fire_jpg.rf.29a3587bed8e0dd8dbd5a29483d0a67d.jpg  \n",
            " extracting: train/-162-25---fire_jpg.rf.ed44a9f0baf981c18bca599cd253b505.jpg  \n",
            " extracting: train/-162-26---fire_jpg.rf.07ac07b17bbd19187ea43135faa75cfa.jpg  \n",
            " extracting: train/-162-26---fire_jpg.rf.5c3e99f6d0dc040c9d97e7cb85dfa71e.jpg  \n",
            " extracting: train/-162-26---fire_jpg.rf.6851baa4bcd498c9b419bb31869c387a.jpg  \n",
            " extracting: train/-162-27---fire_jpg.rf.004c490d9bb0795108d7e5aeff019a14.jpg  \n",
            " extracting: train/-162-27---fire_jpg.rf.5db0d963efb2ea2ab4abab30f5c5e17f.jpg  \n",
            " extracting: train/-162-27---fire_jpg.rf.f480225b5416c64818b254623400715a.jpg  \n",
            " extracting: train/-162-28---fire_jpg.rf.07b40490d260230d43e03a45471a7da0.jpg  \n",
            " extracting: train/-162-28---fire_jpg.rf.6d9ac0b0200e490cd64869f29d803549.jpg  \n",
            " extracting: train/-162-28---fire_jpg.rf.784613577ea6b6918304f3035ca7622a.jpg  \n",
            " extracting: train/-162-29---fire_jpg.rf.a88231fd4e29fa5ea5343f564cc5e22c.jpg  \n",
            " extracting: train/-162-29---fire_jpg.rf.eb1141af59cce6e05f094c309e0b03e6.jpg  \n",
            " extracting: train/-162-29---fire_jpg.rf.f3516f35416cf87d521279e448fe58ba.jpg  \n",
            " extracting: train/-162-30---fire_jpg.rf.11841ac275825094e81c4b420768af94.jpg  \n",
            " extracting: train/-162-30---fire_jpg.rf.3b113732d01bed39730fc5b82aa2c359.jpg  \n",
            " extracting: train/-162-30---fire_jpg.rf.cb1d00ea42dc84629f61d87c33bcd206.jpg  \n",
            " extracting: train/-162-31---fire_jpg.rf.a8b8607460e5a7bc75c02224cf122b8e.jpg  \n",
            " extracting: train/-162-31---fire_jpg.rf.b291560761b0ecb039b3ba24b467d9f7.jpg  \n",
            " extracting: train/-162-31---fire_jpg.rf.f4f0bc68dea71ca05cbcde8dcd662551.jpg  \n",
            " extracting: train/-162-33---fire_jpg.rf.71977ba51c2d1f38c84e811b5b09016f.jpg  \n",
            " extracting: train/-162-33---fire_jpg.rf.996b8bdcaa95c9cb1b19111ccdb36391.jpg  \n",
            " extracting: train/-162-33---fire_jpg.rf.f51405fae861703f2d015f5d01a56a42.jpg  \n",
            " extracting: train/-162-34---fire_jpg.rf.4e5071410add8d751b37316a4ba90714.jpg  \n",
            " extracting: train/-162-34---fire_jpg.rf.820430a52084ef13fd5ba6e58756be06.jpg  \n",
            " extracting: train/-162-34---fire_jpg.rf.dbdfd9992109150e3bdeb149cce74ccb.jpg  \n",
            " extracting: train/-162-35---fire_jpg.rf.85d1e39c202e474c27de79acdb706b0b.jpg  \n",
            " extracting: train/-162-35---fire_jpg.rf.af89435a292a93dca1de8acfaa2817d9.jpg  \n",
            " extracting: train/-162-35---fire_jpg.rf.f4fdb46ee4c93954c05e0664aeec841d.jpg  \n",
            " extracting: train/-162-36---fire_jpg.rf.251237e37e02fe9dca5c27b66f6959b2.jpg  \n",
            " extracting: train/-162-36---fire_jpg.rf.8d39a8655c03912b315e92fca5838ff4.jpg  \n",
            " extracting: train/-162-36---fire_jpg.rf.b582dcc7793b593cbd3ab20df7f0fbc9.jpg  \n",
            " extracting: train/-162-37---fire_jpg.rf.70a239780539139161c5af79e36f86d0.jpg  \n",
            " extracting: train/-162-37---fire_jpg.rf.91557da6fa7eb53612e183ffba8f3e15.jpg  \n",
            " extracting: train/-162-37---fire_jpg.rf.ac5700ed280e1eeb6b67d7bcf07ca978.jpg  \n",
            " extracting: train/-162-38---fire_jpg.rf.3875005269b2fe0bc6ce0ccb72652684.jpg  \n",
            " extracting: train/-162-38---fire_jpg.rf.6dd410aa160fdf200fcc294bfce42a41.jpg  \n",
            " extracting: train/-162-38---fire_jpg.rf.ef321829fe1cf4eac991e78417d37545.jpg  \n",
            " extracting: train/-162-39---fire_jpg.rf.7a22154e09032257daa1ef680c7522d4.jpg  \n",
            " extracting: train/-162-39---fire_jpg.rf.af5a65096fe5665554bd9eee9b79adf6.jpg  \n",
            " extracting: train/-162-39---fire_jpg.rf.c33938b894c4b54977401e668e3fac23.jpg  \n",
            " extracting: train/-162-4---fire_jpg.rf.12bcb51bfad4e9a3ee34848b50c11588.jpg  \n",
            " extracting: train/-162-4---fire_jpg.rf.668b2bdfe09184c3df97bf22902e8f2e.jpg  \n",
            " extracting: train/-162-4---fire_jpg.rf.83b7a6013820d87b8e959475695fe114.jpg  \n",
            " extracting: train/-162-41---fire_jpg.rf.62caa5d31b866d1c7d604a17f6b20cc9.jpg  \n",
            " extracting: train/-162-41---fire_jpg.rf.bd20783bd83cf820702ab53208b347cf.jpg  \n",
            " extracting: train/-162-41---fire_jpg.rf.f0455e470529199cb45e335f42bcdfe8.jpg  \n",
            " extracting: train/-162-42---fire_jpg.rf.00dee0405abbff3adf6bfea1f978807b.jpg  \n",
            " extracting: train/-162-42---fire_jpg.rf.ceef9da852414f43cabc7bf2479eb92a.jpg  \n",
            " extracting: train/-162-42---fire_jpg.rf.eaed56d189d7f648a4de62202a2e9ddf.jpg  \n",
            " extracting: train/-162-43---fire_jpg.rf.50eb0a3ab87ad56443993db9d7d720df.jpg  \n",
            " extracting: train/-162-43---fire_jpg.rf.d7074d865ddb1d50fba1a1a12c298a7e.jpg  \n",
            " extracting: train/-162-43---fire_jpg.rf.f7efe9cd7bdd9f7a94c5090cbedd6bbe.jpg  \n",
            " extracting: train/-162-45---fire_jpg.rf.9773afa1511f803f7a2d93ff2cbe62a9.jpg  \n",
            " extracting: train/-162-45---fire_jpg.rf.9d8402179995f4ef3f97a64501f08a9d.jpg  \n",
            " extracting: train/-162-45---fire_jpg.rf.d4f1a47eae8995817698fa552333c8d5.jpg  \n",
            " extracting: train/-162-46---fire_jpg.rf.7f5a493d0d26172f88cc3e11ae4df46a.jpg  \n",
            " extracting: train/-162-46---fire_jpg.rf.b69b7905f2980c1f5d671fcb791972f3.jpg  \n",
            " extracting: train/-162-46---fire_jpg.rf.b6f29e91fed757e32ca6cc780aa7ed8f.jpg  \n",
            " extracting: train/-162-5---fire_jpg.rf.469a53d04c90c0b44aedf114a590d4d7.jpg  \n",
            " extracting: train/-162-5---fire_jpg.rf.6aa96131cecc4fff86a6215f02441a36.jpg  \n",
            " extracting: train/-162-5---fire_jpg.rf.e3e3d16674ffc2e4d9400e33108d22a9.jpg  \n",
            " extracting: train/-162-53---fire_jpg.rf.4e24dd24e2b782c2bc75f4ded2d732f0.jpg  \n",
            " extracting: train/-162-53---fire_jpg.rf.66203a578e6d6b658f248e983123151b.jpg  \n",
            " extracting: train/-162-53---fire_jpg.rf.66ca171aada2473054f9bc72c79201b0.jpg  \n",
            " extracting: train/-162-54---fire_jpg.rf.53eb870b2d59bde88056aa30aab63913.jpg  \n",
            " extracting: train/-162-54---fire_jpg.rf.a3cd51ed909a9ff5b0bb41b3cf20d5fb.jpg  \n",
            " extracting: train/-162-54---fire_jpg.rf.eb902826909da9c88ff0938ce35ccb0b.jpg  \n",
            " extracting: train/-162-55---fire_jpg.rf.63c53cd29e3a9ddfd58a29e4e18d9eef.jpg  \n",
            " extracting: train/-162-55---fire_jpg.rf.9d900ef8d3dae565371335d9f2c3078f.jpg  \n",
            " extracting: train/-162-55---fire_jpg.rf.e25cceecc8ed51ae0df10b46dd3c6135.jpg  \n",
            " extracting: train/-162-56---fire_jpg.rf.02881e22adaeb6a5a03a36925536ce29.jpg  \n",
            " extracting: train/-162-56---fire_jpg.rf.1e53dd69e2a2684b2dee06097a6369c3.jpg  \n",
            " extracting: train/-162-56---fire_jpg.rf.5768469a0365568d28d33502bf782933.jpg  \n",
            " extracting: train/-162-58---fire_jpg.rf.3b95cc7019a371bd908f8cb72d2b8a37.jpg  \n",
            " extracting: train/-162-58---fire_jpg.rf.f190703153965ef9a605370732503baa.jpg  \n",
            " extracting: train/-162-58---fire_jpg.rf.f72f38174b529a90777a25579feaf129.jpg  \n",
            " extracting: train/-162-59---fire_jpg.rf.46a5a4a2ed897546600323317e5bb6a3.jpg  \n",
            " extracting: train/-162-59---fire_jpg.rf.8f67525ff3f46968421c140820d8eef6.jpg  \n",
            " extracting: train/-162-59---fire_jpg.rf.e1f5b1e03ce4a45d69fdedf960d83df5.jpg  \n",
            " extracting: train/-162-6---fire_jpg.rf.020c3333106e61c97bf7151d51f67573.jpg  \n",
            " extracting: train/-162-6---fire_jpg.rf.455e010fb36d673b77c95e040114c266.jpg  \n",
            " extracting: train/-162-6---fire_jpg.rf.9bf918bfa47a6db9440003d22544dada.jpg  \n",
            " extracting: train/-162-63---fire_jpg.rf.ad9df4af99a7262e668c2946385cfbce.jpg  \n",
            " extracting: train/-162-64---fire_jpg.rf.ababb4a56c270e854a92d1723bc58bc4.jpg  \n",
            " extracting: train/-162-64---fire_jpg.rf.e9a87b8fdc82101b01530709c5826e00.jpg  \n",
            " extracting: train/-162-64---fire_jpg.rf.fd748fa08d9795486ff5dba51fb91759.jpg  \n",
            " extracting: train/-162-69---fire_jpg.rf.4f44bf70e0efc07cf5d57065fb396b02.jpg  \n",
            " extracting: train/-162-69---fire_jpg.rf.4f673ee43840e15924eb3c5b9997866f.jpg  \n",
            " extracting: train/-162-7---fire_jpg.rf.06121241871c476545f597d65a51e74e.jpg  \n",
            " extracting: train/-162-7---fire_jpg.rf.6204854f97bc18cc867c0afa80e12480.jpg  \n",
            " extracting: train/-162-7---fire_jpg.rf.b62bc8a1dfeac27e9468309885dfb4a0.jpg  \n",
            " extracting: train/-162-73---fire_jpg.rf.b39bd143e20c2e5f31a15d7f10e4f62d.jpg  \n",
            " extracting: train/-162-73---fire_jpg.rf.bc401b329f48b64a14726c33ed23c8b2.jpg  \n",
            " extracting: train/-162-73---fire_jpg.rf.eae0937e2266a0ca6d444f216b98f78b.jpg  \n",
            " extracting: train/-162-75---fire_jpg.rf.67c69e4ca9428e800148ade766928d60.jpg  \n",
            " extracting: train/-162-75---fire_jpg.rf.68b0ffec7e8041f07870683e77f32c41.jpg  \n",
            " extracting: train/-162-75---fire_jpg.rf.c18f3bd9ea1f6c92d5c95da1e9c82b4e.jpg  \n",
            " extracting: train/-162-76---fire_jpg.rf.1c6bc627fa0068c0be5f3a555c91aa86.jpg  \n",
            " extracting: train/-162-76---fire_jpg.rf.70d272b84acb519045a01178b22e41da.jpg  \n",
            " extracting: train/-162-76---fire_jpg.rf.760e263d64381543612d35dd58bc8ffa.jpg  \n",
            " extracting: train/-162-78---fire_jpg.rf.7e655eb75d91b26acb440f295425e825.jpg  \n",
            " extracting: train/-162-78---fire_jpg.rf.9a9f04cd4ce419fce3678ccc46f6e2fa.jpg  \n",
            " extracting: train/-162-78---fire_jpg.rf.f80c099bdf3bab158911ed1a84d604f1.jpg  \n",
            " extracting: train/-162-8---fire_jpg.rf.33aa0e768ee61d32817ba3be5e65631c.jpg  \n",
            " extracting: train/-162-8---fire_jpg.rf.cc6afb4474c27948203466e5eb00ccf9.jpg  \n",
            " extracting: train/-162-8---fire_jpg.rf.eff134d3812caaed24e4cf9c00520157.jpg  \n",
            " extracting: train/-162-80---fire_jpg.rf.6934abbddafe543d21958c912b664293.jpg  \n",
            " extracting: train/-162-80---fire_jpg.rf.8d4bcd9f8800e4b5c458cec7cfc00404.jpg  \n",
            " extracting: train/-162-80---fire_jpg.rf.eac56264a0696972c5963b8543f9d8a2.jpg  \n",
            " extracting: train/-162-81---fire_jpg.rf.026ad3c1a2acf4fa709a46e028ebef37.jpg  \n",
            " extracting: train/-162-81---fire_jpg.rf.2c0e294b2740a23cfae1929f9fa28c1e.jpg  \n",
            " extracting: train/-162-81---fire_jpg.rf.ca8a74e0e74f5ce9def9926b498b3057.jpg  \n",
            " extracting: train/-162-82---fire_jpg.rf.41fcdc1a18dc751735a2f32247763871.jpg  \n",
            " extracting: train/-162-82---fire_jpg.rf.a65667491f77d6b4ec8f668a9354fa3d.jpg  \n",
            " extracting: train/-162-82---fire_jpg.rf.ab094228a6d28e8509dd1d1696a2c189.jpg  \n",
            " extracting: train/-162-9---fire_jpg.rf.7a68f996a87f090f0728033d72516af0.jpg  \n",
            " extracting: train/-162-9---fire_jpg.rf.b4d5fde49ce8ceaec0bcb2ddc381c127.jpg  \n",
            " extracting: train/-162-9---fire_jpg.rf.d4ae794bc6103b736dd1f3e8db02187e.jpg  \n",
            " extracting: train/-164-108---fire_jpg.rf.a4399643dc369d54651cbc1093f810b1.jpg  \n",
            " extracting: train/-164-108---fire_jpg.rf.cfef852f12c5e665687f432121bec02a.jpg  \n",
            " extracting: train/-164-108---fire_jpg.rf.feff772d9f8dc7bc6dd7f6450cb9551c.jpg  \n",
            " extracting: train/-164-109---fire_jpg.rf.2dee56f084c92980541ae08d4ae32319.jpg  \n",
            " extracting: train/-164-109---fire_jpg.rf.9965b5f0aae3ba321f24bc80c20f7d5d.jpg  \n",
            " extracting: train/-164-109---fire_jpg.rf.cec8d88d2c385745f1b42474cc8cada8.jpg  \n",
            " extracting: train/-164-110---fire_jpg.rf.10556315bf1f30e6e63d14c923b2e482.jpg  \n",
            " extracting: train/-164-110---fire_jpg.rf.85f20b302287cbfe7c29a66f15d579a3.jpg  \n",
            " extracting: train/-164-110---fire_jpg.rf.91fffae1d6060bd6b7463feb010a904e.jpg  \n",
            " extracting: train/-164-111---fire_jpg.rf.2027e849bd044b5bae585fa466d79a14.jpg  \n",
            " extracting: train/-164-111---fire_jpg.rf.6cb856548a282499daecc65791b74558.jpg  \n",
            " extracting: train/-164-111---fire_jpg.rf.bf68e7552209e94db212e021fce46062.jpg  \n",
            " extracting: train/-164-112---fire_jpg.rf.34e8886b9ff0e8245409a62f8f654ca2.jpg  \n",
            " extracting: train/-164-112---fire_jpg.rf.446371bcd24c3b7085aa65a1fe8d7743.jpg  \n",
            " extracting: train/-164-112---fire_jpg.rf.7f91bcb0f9f234fabda17b6324ede293.jpg  \n",
            " extracting: train/-164-113---fire_jpg.rf.365e3a652ad95ae5e39dbb5841d6072f.jpg  \n",
            " extracting: train/-164-113---fire_jpg.rf.4669c89a3825db620ebf5b1235342ad0.jpg  \n",
            " extracting: train/-164-113---fire_jpg.rf.bcd1cc47a136ef85d9809c1c35765c37.jpg  \n",
            " extracting: train/-164-114---fire_jpg.rf.b09649ef9c0efee5afbdf77ed0a17ae8.jpg  \n",
            " extracting: train/-164-114---fire_jpg.rf.c88d25fa9f0feae74daf983f986b141d.jpg  \n",
            " extracting: train/-164-114---fire_jpg.rf.ea271ce6873528340449d21d88dcd23e.jpg  \n",
            " extracting: train/-165-64---fire_jpg.rf.73219a32f70ae835c06dd07f9e5c8a4a.jpg  \n",
            " extracting: train/-165-64---fire_jpg.rf.9cf975d033a011005c7ee53f61aebbd3.jpg  \n",
            " extracting: train/-165-64---fire_jpg.rf.d1a9a407957e8e1034e3175e4dc0d45c.jpg  \n",
            " extracting: train/-165-65---fire_jpg.rf.2d176747e96f538229a2adabf58a039f.jpg  \n",
            " extracting: train/-165-65---fire_jpg.rf.9e6b3a3b40956e4c6aec4e3617396be0.jpg  \n",
            " extracting: train/-165-65---fire_jpg.rf.b4507067f20646f3d6c8360439e8a194.jpg  \n",
            " extracting: train/-165-66---fire_jpg.rf.28cdd200218cac863e22a67717ce0d25.jpg  \n",
            " extracting: train/-165-66---fire_jpg.rf.cc13c8d37ec60b9c9cf5359ac835cb9d.jpg  \n",
            " extracting: train/-165-66---fire_jpg.rf.d573d5927ca8d72574af50da94715f40.jpg  \n",
            " extracting: train/-165-67---fire_jpg.rf.01dd4859b287260e68c47e6b710a9e0e.jpg  \n",
            " extracting: train/-165-67---fire_jpg.rf.31b355e28e50cc6103b87e59caf347a6.jpg  \n",
            " extracting: train/-165-67---fire_jpg.rf.880d4c5c1f6bcce60acf25e5be5ae51e.jpg  \n",
            " extracting: train/-165-69---fire_jpg.rf.434b5d1e220f2da9c9065cc1eeb9f653.jpg  \n",
            " extracting: train/-165-69---fire_jpg.rf.4d71a28ad27100a7c45a51797a7ddb07.jpg  \n",
            " extracting: train/-165-69---fire_jpg.rf.ef50430e434b03a10c999f6e8081db54.jpg  \n",
            " extracting: train/-166-19---fire_jpg.rf.337c3437324093828402151e836525d0.jpg  \n",
            " extracting: train/-166-19---fire_jpg.rf.8767022d1fcae3d62e257c083bab4421.jpg  \n",
            " extracting: train/-166-19---fire_jpg.rf.be4c6cf87d27ac80201c05e7fe0761ee.jpg  \n",
            " extracting: train/-166-21---fire_jpg.rf.68bd06580c401e6f2ea46223227dcc73.jpg  \n",
            " extracting: train/-166-21---fire_jpg.rf.7630babc50dd5284a4fdc8332f386fbe.jpg  \n",
            " extracting: train/-166-21---fire_jpg.rf.f8ed7e1d751551bf9844f47929902029.jpg  \n",
            " extracting: train/-168-104---fire_jpg.rf.6b64bd705e00b68252e13105634cdbb3.jpg  \n",
            " extracting: train/-168-104---fire_jpg.rf.9034be6b69846433212e26658adc36e9.jpg  \n",
            " extracting: train/-168-104---fire_jpg.rf.e92b7b0c54b1d954eabef557459757e6.jpg  \n",
            " extracting: train/-168-106---fire_jpg.rf.00648a196fdd10040f28822e76160c67.jpg  \n",
            " extracting: train/-168-106---fire_jpg.rf.1349cdab400bf604e852fedad9d060a5.jpg  \n",
            " extracting: train/-168-106---fire_jpg.rf.a635f1fa5ce52b1feb1f934a56996574.jpg  \n",
            " extracting: train/-168-107---fire_jpg.rf.3b490cfca5de13a62c3b7ec68d29c821.jpg  \n",
            " extracting: train/-168-107---fire_jpg.rf.405e6c68aebbc12334619be316d404aa.jpg  \n",
            " extracting: train/-168-107---fire_jpg.rf.874f82c81199d2840b0bcc705670c200.jpg  \n",
            " extracting: train/-168-108---fire_jpg.rf.47f28264a335a239d2e3a06a3209c430.jpg  \n",
            " extracting: train/-168-108---fire_jpg.rf.4eb158422c0f982c355b5785c57b2a6c.jpg  \n",
            " extracting: train/-168-108---fire_jpg.rf.ec85579a65206ecffb36de1e632ea7d3.jpg  \n",
            " extracting: train/-168-109---fire_jpg.rf.6b360d873d7bd8946a3055ec345bf077.jpg  \n",
            " extracting: train/-168-109---fire_jpg.rf.ba0b8af5bb6a9068fcc888edfce1832b.jpg  \n",
            " extracting: train/-168-109---fire_jpg.rf.f30ff6d6772265fe4d7a4287de57786d.jpg  \n",
            " extracting: train/-168-66---fire_jpg.rf.ceae10723dca2ed48bd3cbcfa2275e2e.jpg  \n",
            " extracting: train/-168-66---fire_jpg.rf.da44d108470854c423354a43b1adda0f.jpg  \n",
            " extracting: train/-168-66---fire_jpg.rf.f61c5a818f55521ec14c9b2686ad1fe3.jpg  \n",
            " extracting: train/-168-67---fire_jpg.rf.29b73e1cb8d458f5190887542eea2bcf.jpg  \n",
            " extracting: train/-168-67---fire_jpg.rf.8e3170f682224558348a08052e68739a.jpg  \n",
            " extracting: train/-168-67---fire_jpg.rf.fecbf26280cc61d91a869119d3818c24.jpg  \n",
            " extracting: train/-168-68---fire_jpg.rf.213fea1af02f1223368d18be27bc38fd.jpg  \n",
            " extracting: train/-168-68---fire_jpg.rf.c4d8687b8494f3e7ab3077b0a5ec9bc1.jpg  \n",
            " extracting: train/-168-68---fire_jpg.rf.fcbaafc7304a51d32b66146a87334a80.jpg  \n",
            " extracting: train/-168-69---fire_jpg.rf.2ca9bc37e9fba0d078c4fd4078c52866.jpg  \n",
            " extracting: train/-168-69---fire_jpg.rf.636d66327cef0424a5137d563fa6a0de.jpg  \n",
            " extracting: train/-168-69---fire_jpg.rf.71c8c52d506b8d53b0367503b1928f94.jpg  \n",
            " extracting: train/-168-70---fire_jpg.rf.0d684b1ca21b8ef720180e75b408dd1c.jpg  \n",
            " extracting: train/-168-70---fire_jpg.rf.6a6affe3f8e533da8022d3aed1a2e7fa.jpg  \n",
            " extracting: train/-168-70---fire_jpg.rf.eb30694bfe9639b69332596533ab6694.jpg  \n",
            " extracting: train/-168-71---fire_jpg.rf.6066b448f96a7b430fe3f931ee9697ab.jpg  \n",
            " extracting: train/-168-71---fire_jpg.rf.789670eca5e626d55c8b558e27151b47.jpg  \n",
            " extracting: train/-168-71---fire_jpg.rf.7ecff3351d6e2fc285d9f8798bcdcb1b.jpg  \n",
            " extracting: train/-168-72---fire_jpg.rf.5d9e281e5f52769f83389a12aebb54a0.jpg  \n",
            " extracting: train/-168-72---fire_jpg.rf.6a1742df12fbf83784c9474ae0f58bae.jpg  \n",
            " extracting: train/-168-72---fire_jpg.rf.8e30eb25e67c5a5ac0df7891b26daee1.jpg  \n",
            " extracting: train/-169-0---fire_jpg.rf.0a66aa04d1d24740d363ce0a2253ce93.jpg  \n",
            " extracting: train/-169-0---fire_jpg.rf.8565091aad611e7d185a4448d366e4a8.jpg  \n",
            " extracting: train/-169-0---fire_jpg.rf.f7efc2134ac6ea9e6d1cf6b9ffe2cbe1.jpg  \n",
            " extracting: train/-169-1---fire_jpg.rf.125e95c08cc00c5eae221d079d28b7cc.jpg  \n",
            " extracting: train/-169-1---fire_jpg.rf.b78d19734023b74d01e3973e208313be.jpg  \n",
            " extracting: train/-169-1---fire_jpg.rf.c783dc7d52f0ac9f53c96f01c21956fb.jpg  \n",
            " extracting: train/-169-10---fire_jpg.rf.6097076c0ffe65cc6b0a358acd992c31.jpg  \n",
            " extracting: train/-169-10---fire_jpg.rf.98da69f38a6fecb04ff8516a4ca1de27.jpg  \n",
            " extracting: train/-169-10---fire_jpg.rf.f80439f89a91fc58a7e87cb48ff329f0.jpg  \n",
            " extracting: train/-169-11---fire_jpg.rf.24f2d1e771b30c2d0621f5de18a77829.jpg  \n",
            " extracting: train/-169-11---fire_jpg.rf.735418ac1771aad4d39f04d8a34057bc.jpg  \n",
            " extracting: train/-169-11---fire_jpg.rf.eb2f531a7e25a223f90eb18673561150.jpg  \n",
            " extracting: train/-169-12---fire_jpg.rf.15cb7336b1ddf475e6408ab3660cbef8.jpg  \n",
            " extracting: train/-169-12---fire_jpg.rf.e8354d1d6accd34fc2c1eeffb7bede1e.jpg  \n",
            " extracting: train/-169-12---fire_jpg.rf.f607d64620fd2488e56794f5da92c9cd.jpg  \n",
            " extracting: train/-169-13---fire_jpg.rf.00b328c3135b272fdc6f7eee4877cb5e.jpg  \n",
            " extracting: train/-169-13---fire_jpg.rf.2e91e52b22b65b45fa08364a6fc97408.jpg  \n",
            " extracting: train/-169-13---fire_jpg.rf.542ea8694c48cd1fda85d2e49763ec68.jpg  \n",
            " extracting: train/-169-15---fire_jpg.rf.335c011a6dfe0fb605eced3ecf4c70e8.jpg  \n",
            " extracting: train/-169-15---fire_jpg.rf.3cc4014bd645eae2738455324ba3ca89.jpg  \n",
            " extracting: train/-169-15---fire_jpg.rf.7961cde50494e10f385c4c52c29d0e47.jpg  \n",
            " extracting: train/-169-16---fire_jpg.rf.5f9a8c1df439b0f731c7b50ef6b69d41.jpg  \n",
            " extracting: train/-169-16---fire_jpg.rf.a80dd357d214da7e4f099a8d689523c6.jpg  \n",
            " extracting: train/-169-16---fire_jpg.rf.cacb0c853fb6fe047e43a28dd2013182.jpg  \n",
            " extracting: train/-169-25---fire_jpg.rf.c80161d9ef7a6f3b6747264f2e8f5a7e.jpg  \n",
            " extracting: train/-169-25---fire_jpg.rf.e57cbcd51e34e1da51ce53f85e1047b4.jpg  \n",
            " extracting: train/-169-25---fire_jpg.rf.f6e3a3decce4cfdd4407ad231c6dd971.jpg  \n",
            " extracting: train/-169-31---fire_jpg.rf.1c015f14e6fb063bd0e65790f4f0e76d.jpg  \n",
            " extracting: train/-169-31---fire_jpg.rf.6405cd88286d546b73ef71583f973f73.jpg  \n",
            " extracting: train/-169-31---fire_jpg.rf.f05762c9eb2c640f103d7d29c0becb40.jpg  \n",
            " extracting: train/-169-32---fire_jpg.rf.14799580b62b7f87841058dd875fc580.jpg  \n",
            " extracting: train/-169-32---fire_jpg.rf.849f949d76ffe2b2eb12867424a48676.jpg  \n",
            " extracting: train/-169-32---fire_jpg.rf.fdff59d51f4bf6eeea072bf2ada19560.jpg  \n",
            " extracting: train/-169-33---fire_jpg.rf.2f618a8e98973d23a6f2b0f214a85af1.jpg  \n",
            " extracting: train/-169-33---fire_jpg.rf.30fa8a58ca341dc96312651559ac83ca.jpg  \n",
            " extracting: train/-169-33---fire_jpg.rf.b22ae5a6bfce4d8206b4bcc72b16bf18.jpg  \n",
            " extracting: train/-169-34---fire_jpg.rf.28a016f16fbe8e318a5c181433ce7fca.jpg  \n",
            " extracting: train/-169-34---fire_jpg.rf.2e6a330e96630479bc10814157cd5bf9.jpg  \n",
            " extracting: train/-169-34---fire_jpg.rf.a719d5c460257ae1d36145c5e5aacdf9.jpg  \n",
            " extracting: train/-169-35---fire_jpg.rf.55c04ebbcc3be47c56bc81ba7a298773.jpg  \n",
            " extracting: train/-169-35---fire_jpg.rf.9ab9d9401363137aaaa743b3055b4745.jpg  \n",
            " extracting: train/-169-35---fire_jpg.rf.9ead25072da87507fec01628c17b55ff.jpg  \n",
            " extracting: train/-169-36---fire_jpg.rf.84b783cbb9819077d104f43534b72205.jpg  \n",
            " extracting: train/-169-36---fire_jpg.rf.ea4632452f598889c002182363723958.jpg  \n",
            " extracting: train/-169-36---fire_jpg.rf.f0fcde8e9d22ec2fd52af955b41c5cb1.jpg  \n",
            " extracting: train/-169-37---fire_jpg.rf.4121b6b8f06cd93cbe63d2983145fca0.jpg  \n",
            " extracting: train/-169-37---fire_jpg.rf.8f0e9bd59d0fb839b610ba18814356a7.jpg  \n",
            " extracting: train/-169-37---fire_jpg.rf.aa53e44989225bddcff257ac62a6f428.jpg  \n",
            " extracting: train/-169-38---fire_jpg.rf.74cb7392faaa418a34d8cd2a95c92f85.jpg  \n",
            " extracting: train/-169-38---fire_jpg.rf.e4da761db493892d0cb2c6fa6c085039.jpg  \n",
            " extracting: train/-169-38---fire_jpg.rf.efaf666f8e0a9a03b7181302e3568383.jpg  \n",
            " extracting: train/-169-5---fire_jpg.rf.7030fa2b2c7d03570549e5b9329b6116.jpg  \n",
            " extracting: train/-169-5---fire_jpg.rf.821857290f2cb991acc43fc2e68962e1.jpg  \n",
            " extracting: train/-169-5---fire_jpg.rf.9de33e94e1b596d5f9ba92ac1e79f2d2.jpg  \n",
            " extracting: train/-169-7---fire_jpg.rf.5174c46a90778b7e781b7f2ae932e18e.jpg  \n",
            " extracting: train/-169-7---fire_jpg.rf.6dffe794ebc9b113d1c44879de241635.jpg  \n",
            " extracting: train/-169-7---fire_jpg.rf.7341a4351896ad09504e32f8ac5152b8.jpg  \n",
            " extracting: train/-169-8---fire_jpg.rf.4526ab0e1171362fd7b2a888c39cabab.jpg  \n",
            " extracting: train/-169-8---fire_jpg.rf.a1465ee143fd74cc01636a8c4a0ec43e.jpg  \n",
            " extracting: train/-169-8---fire_jpg.rf.c90714013d7520d853a08785b9d03697.jpg  \n",
            " extracting: train/-169-9---fire_jpg.rf.277623d00ef205d7e742b3e126756490.jpg  \n",
            " extracting: train/-169-9---fire_jpg.rf.c76a3fcd3f0558d31737b15207c5385a.jpg  \n",
            " extracting: train/-169-9---fire_jpg.rf.cb4b2964f13f059b5bb8b51ce24cc8a5.jpg  \n",
            " extracting: train/-17-10---fire_jpg.rf.1b11865592a50a862572d055b80139a4.jpg  \n",
            " extracting: train/-17-10---fire_jpg.rf.1d8b23560370e95d12f08c1a3bcae758.jpg  \n",
            " extracting: train/-17-10---fire_jpg.rf.6a91e56f6701513ec943110578cfec15.jpg  \n",
            " extracting: train/-17-100---fire_jpg.rf.188b9836ee5c7db8a318cfefb8b87b4d.jpg  \n",
            " extracting: train/-17-100---fire_jpg.rf.30f114624496f309e6682e5aefc7160c.jpg  \n",
            " extracting: train/-17-100---fire_jpg.rf.9c9cc0da66c7f20a3d8faa882170e710.jpg  \n",
            " extracting: train/-17-101---fire_jpg.rf.61024519b60229a05531ca001007ce53.jpg  \n",
            " extracting: train/-17-101---fire_jpg.rf.65f9e5d921319b4c1446e9a7fe7a99e9.jpg  \n",
            " extracting: train/-17-101---fire_jpg.rf.c1ae817f5021dd30829cbbf7e66dbdfe.jpg  \n",
            " extracting: train/-17-103---fire_jpg.rf.0ddc683e2c795574df83d834ffae1cf2.jpg  \n",
            " extracting: train/-17-103---fire_jpg.rf.0eba69e2ec3053fd97b40e9d220b8b77.jpg  \n",
            " extracting: train/-17-103---fire_jpg.rf.9aca5c0effed367cae587199cf7288e1.jpg  \n",
            " extracting: train/-17-11---fire_jpg.rf.1de805e38222f64d76c9ea918e86e9e5.jpg  \n",
            " extracting: train/-17-11---fire_jpg.rf.2332a492a0511a6a7121add9dc81468d.jpg  \n",
            " extracting: train/-17-11---fire_jpg.rf.4c7aaa39df700bc60bab908d7b6be689.jpg  \n",
            " extracting: train/-17-13---fire_jpg.rf.a333ff1053f65ea77667613fbff5c019.jpg  \n",
            " extracting: train/-17-13---fire_jpg.rf.d067b06bd5b571bfe8f9d9e9192ded8b.jpg  \n",
            " extracting: train/-17-13---fire_jpg.rf.e53b34163a6676dff269cf5979373240.jpg  \n",
            " extracting: train/-17-15---fire_jpg.rf.b238514cd6c74835b97759458f8308d6.jpg  \n",
            " extracting: train/-17-15---fire_jpg.rf.e0f4fdb616a1067a1e9da116e4cc83e0.jpg  \n",
            " extracting: train/-17-15---fire_jpg.rf.f35216b783b1e77328eae236947ba3c4.jpg  \n",
            " extracting: train/-17-16---fire_jpg.rf.99a7149917eff9c6a349873decea2102.jpg  \n",
            " extracting: train/-17-16---fire_jpg.rf.9c4637efb76d8a7b8b301701aba8f57a.jpg  \n",
            " extracting: train/-17-16---fire_jpg.rf.cb4000acda98edee922f1109696c5ee2.jpg  \n",
            " extracting: train/-17-17---fire_jpg.rf.91c0aee85e475c71ac84e4ee10629ad7.jpg  \n",
            " extracting: train/-17-17---fire_jpg.rf.985840aaa679b0b998637455abdb950e.jpg  \n",
            " extracting: train/-17-17---fire_jpg.rf.f7448978b4147ea4cd62a0ea26b3cd3a.jpg  \n",
            " extracting: train/-17-18---fire_jpg.rf.832dd66fdd5032d39daf9eb484530a0e.jpg  \n",
            " extracting: train/-17-18---fire_jpg.rf.8f13af47f6a0c7e65efbb26a3f6a045d.jpg  \n",
            " extracting: train/-17-18---fire_jpg.rf.d245d87a144cb00f7e9e7356b62a54d7.jpg  \n",
            " extracting: train/-17-19---fire_jpg.rf.7e9536f5eff60fe67a5abb7a5bb2c65e.jpg  \n",
            " extracting: train/-17-19---fire_jpg.rf.cca786d9a51c5a62d56119bed2f0c89f.jpg  \n",
            " extracting: train/-17-19---fire_jpg.rf.df89700609b8ba64841a0c32461c5b39.jpg  \n",
            " extracting: train/-17-20---fire_jpg.rf.710ffd22c83838a24aa44960966f4af8.jpg  \n",
            " extracting: train/-17-20---fire_jpg.rf.a46e1006a62774c918ccc337569480f8.jpg  \n",
            " extracting: train/-17-20---fire_jpg.rf.f39caea2c407dded8f70e1e57d9af33e.jpg  \n",
            " extracting: train/-17-21---fire_jpg.rf.1436488cba53e2d9460cf444ee3c4973.jpg  \n",
            " extracting: train/-17-21---fire_jpg.rf.4114d7e90da28aa10ac95f7c0bd86eb8.jpg  \n",
            " extracting: train/-17-21---fire_jpg.rf.5a03e6dd46d6ff0bebdc19eeb027d7b3.jpg  \n",
            " extracting: train/-17-22---fire_jpg.rf.561c6f449d44863b4af2eaa5ce1fb253.jpg  \n",
            " extracting: train/-17-22---fire_jpg.rf.a49f20cc45074ba6426aa8678a885a94.jpg  \n",
            " extracting: train/-17-22---fire_jpg.rf.c395a45b634c277ebb4ee7f67bc45f36.jpg  \n",
            " extracting: train/-17-23---fire_jpg.rf.72d84e9871ba70c4bd12f251b8e01e71.jpg  \n",
            " extracting: train/-17-23---fire_jpg.rf.a84568df4a7c10431b0b16ea9b4a3b8e.jpg  \n",
            " extracting: train/-17-23---fire_jpg.rf.d40c379167169a3475859e6ac6de8c18.jpg  \n",
            " extracting: train/-17-24---fire_jpg.rf.06d1db324af30c152b9829543dccc620.jpg  \n",
            " extracting: train/-17-24---fire_jpg.rf.1d2e4d2abb9d564867c58db111177d7a.jpg  \n",
            " extracting: train/-17-24---fire_jpg.rf.e03c1eb37797fb8ced748d5fa24b3ae6.jpg  \n",
            " extracting: train/-17-25---fire_jpg.rf.836eed3aa9de86f79951308584008034.jpg  \n",
            " extracting: train/-17-25---fire_jpg.rf.d0fdf1835f143831cbeb39dd3d7ad1f0.jpg  \n",
            " extracting: train/-17-25---fire_jpg.rf.ea4f929b7742bf52a03a1836c87af535.jpg  \n",
            " extracting: train/-17-26---fire_jpg.rf.81b1f7c2cf20ffe2589bfb99e77c397d.jpg  \n",
            " extracting: train/-17-26---fire_jpg.rf.97310a6cc285a1aa7d73e1670aa0e41e.jpg  \n",
            " extracting: train/-17-26---fire_jpg.rf.cd428807953916577c88ec7056cab33e.jpg  \n",
            " extracting: train/-17-27---fire_jpg.rf.1516feb36d02c2f9ebcc5cda5bfe6c60.jpg  \n",
            " extracting: train/-17-27---fire_jpg.rf.777b6181fe3a2d37a840fdc8e79f1e19.jpg  \n",
            " extracting: train/-17-27---fire_jpg.rf.8ce4496ba22729ceea81f4917cac0c13.jpg  \n",
            " extracting: train/-17-28---fire_jpg.rf.599aa4bd77affff12f8456dad4982c4d.jpg  \n",
            " extracting: train/-17-28---fire_jpg.rf.ceb8e6b89e59c7e073ea26884022c8a6.jpg  \n",
            " extracting: train/-17-28---fire_jpg.rf.f4c19ec6439505f6013a75b889e20489.jpg  \n",
            " extracting: train/-17-30---fire_jpg.rf.0a5d5d3aa897119b09520c5e02981df0.jpg  \n",
            " extracting: train/-17-30---fire_jpg.rf.18477a2163caa10474567b142e6af30f.jpg  \n",
            " extracting: train/-17-30---fire_jpg.rf.91a4878aefa17c022644284c7b0256d9.jpg  \n",
            " extracting: train/-17-31---fire_jpg.rf.3841158feaa354139175f9a395a57c12.jpg  \n",
            " extracting: train/-17-31---fire_jpg.rf.c978f86d0200228835b648a2d1568122.jpg  \n",
            " extracting: train/-17-31---fire_jpg.rf.eae8c5b7ebb1c43826b79e35b7e1f1c0.jpg  \n",
            " extracting: train/-17-32---fire_jpg.rf.564c63dcd9c39c8e25cf62732ed21280.jpg  \n",
            " extracting: train/-17-32---fire_jpg.rf.60baef739b8f63c4bd5264e10ee76b5b.jpg  \n",
            " extracting: train/-17-32---fire_jpg.rf.673644d0aa58317bfc7fdaa6539a0ddc.jpg  \n",
            " extracting: train/-17-33---fire_jpg.rf.3751ef879dc930f6fcbd5ba5d8b8723e.jpg  \n",
            " extracting: train/-17-33---fire_jpg.rf.adec11c864fa45a1bfa6a3e33b55c328.jpg  \n",
            " extracting: train/-17-33---fire_jpg.rf.fa5e0120c7cf61f4cbcdd325f63925a7.jpg  \n",
            " extracting: train/-17-34---fire_jpg.rf.0e5b021e28e5a699a9681b7f99514d7d.jpg  \n",
            " extracting: train/-17-34---fire_jpg.rf.44da4abddb37b48d2d9ac358836a0cae.jpg  \n",
            " extracting: train/-17-34---fire_jpg.rf.9a5adf1517952e619a6185fed6f32ae7.jpg  \n",
            " extracting: train/-17-35---fire_jpg.rf.5c97d7f597d0d948b9c363b683207f4f.jpg  \n",
            " extracting: train/-17-35---fire_jpg.rf.6d23e7bb400090960aa67c5b0aa01170.jpg  \n",
            " extracting: train/-17-35---fire_jpg.rf.e1cf7d0f92d0c2ae3b8677f2bb0cbd6a.jpg  \n",
            " extracting: train/-17-36---fire_jpg.rf.2ebe9d234ad9b648e2f3ae208d7b441a.jpg  \n",
            " extracting: train/-17-36---fire_jpg.rf.40c9a26266663ce34fe9ebf424d3e1d4.jpg  \n",
            " extracting: train/-17-36---fire_jpg.rf.e3482a9a6020a4404c4160856cf907ce.jpg  \n",
            " extracting: train/-17-37---fire_jpg.rf.87cf7e807f6a34e0e523cbcf343a3b2f.jpg  \n",
            " extracting: train/-17-37---fire_jpg.rf.89c0bbafc957ef90c5755a645556ad47.jpg  \n",
            " extracting: train/-17-37---fire_jpg.rf.cb83452096e84b0918c4aa199be1bc94.jpg  \n",
            " extracting: train/-17-38---fire_jpg.rf.15d2b734bd8a67d2ebe14b0b6d366a98.jpg  \n",
            " extracting: train/-17-38---fire_jpg.rf.6d7fdc143dd52b7969f000dc349a4981.jpg  \n",
            " extracting: train/-17-38---fire_jpg.rf.ead3a73028e8a409f2523d244b816570.jpg  \n",
            " extracting: train/-17-39---fire_jpg.rf.69650193ddad7d2fafcbcd6d0088da7b.jpg  \n",
            " extracting: train/-17-39---fire_jpg.rf.6b9502753f46de7a2e306746fb2bf807.jpg  \n",
            " extracting: train/-17-39---fire_jpg.rf.b151646dad9b9ff8c3981ae0c6d9b39c.jpg  \n",
            " extracting: train/-17-46---fire_jpg.rf.22614c2ad87cb15cfacd8222c07770c7.jpg  \n",
            " extracting: train/-17-46---fire_jpg.rf.30926a9b6fc905fe2cc5b05e138a988e.jpg  \n",
            " extracting: train/-17-46---fire_jpg.rf.f26baa481beb3ddfbf357c7f56686049.jpg  \n",
            " extracting: train/-17-47---fire_jpg.rf.40ee242bcda68d1a1d360a866cf8929a.jpg  \n",
            " extracting: train/-17-47---fire_jpg.rf.997a01ee5dd4dbf2c30320c257069b6f.jpg  \n",
            " extracting: train/-17-47---fire_jpg.rf.bada01c6544efc252c0be8dc6aea8b95.jpg  \n",
            " extracting: train/-17-49---fire_jpg.rf.1794a1af4f7b9f08d62409a3f69d9467.jpg  \n",
            " extracting: train/-17-49---fire_jpg.rf.3a7ccd4f921bb1ba4e7c0eb9b85bd78e.jpg  \n",
            " extracting: train/-17-49---fire_jpg.rf.53656c1e1d9327ca3236322cf240d53b.jpg  \n",
            " extracting: train/-17-5---fire_jpg.rf.2eadd3f8bfc7b1740e0604e1a1b7548c.jpg  \n",
            " extracting: train/-17-5---fire_jpg.rf.bac79104ddeac135ca4cf023f0f23c9a.jpg  \n",
            " extracting: train/-17-5---fire_jpg.rf.bd170afe3fbd980a6f3fe69bcca1f3f2.jpg  \n",
            " extracting: train/-17-51---fire_jpg.rf.5a38db3d18d6d58836cde4588d386aed.jpg  \n",
            " extracting: train/-17-51---fire_jpg.rf.7302aefe34f39a52e0d129643055c762.jpg  \n",
            " extracting: train/-17-51---fire_jpg.rf.86d23199a90b8c5b1ce6072140f1fae9.jpg  \n",
            " extracting: train/-17-52---fire_jpg.rf.4ab1d26a362218859bcc85610dc4a608.jpg  \n",
            " extracting: train/-17-52---fire_jpg.rf.5f9efecc8266e42ea641f9e4f01212e0.jpg  \n",
            " extracting: train/-17-52---fire_jpg.rf.c88edf23ca7b8b84492a8a49b4442880.jpg  \n",
            " extracting: train/-17-53---fire_jpg.rf.8551e9e9eb2524ff5d07672005ca4a22.jpg  \n",
            " extracting: train/-17-53---fire_jpg.rf.a5433dc3a103c96172924809ae1703b9.jpg  \n",
            " extracting: train/-17-53---fire_jpg.rf.cf37ee0d9fa993e2cb9144885307bcf1.jpg  \n",
            " extracting: train/-17-54---fire_jpg.rf.05f453151f4b0a3d67c05a2b10b1081b.jpg  \n",
            " extracting: train/-17-54---fire_jpg.rf.14f64ccf4b07a7238df03b20c68c1a29.jpg  \n",
            " extracting: train/-17-54---fire_jpg.rf.c99489b0ea008a553c9e5a097c0612a1.jpg  \n",
            " extracting: train/-17-55---fire_jpg.rf.0423cf18fc38f0cbe68e1b4a35828a27.jpg  \n",
            " extracting: train/-17-55---fire_jpg.rf.35ed6f2785767afb9ad5ceb1e893e695.jpg  \n",
            " extracting: train/-17-55---fire_jpg.rf.4798120c5263e6b53684522726c8d2d1.jpg  \n",
            " extracting: train/-17-56---fire_jpg.rf.14e6a5b5349ac03d91e5d3bc0dc2c61d.jpg  \n",
            " extracting: train/-17-56---fire_jpg.rf.c27374376679e3e2af0aae4d894ba425.jpg  \n",
            " extracting: train/-17-56---fire_jpg.rf.fd4fb577434e3cafff697ff3a30f36ad.jpg  \n",
            " extracting: train/-17-57---fire_jpg.rf.47cfdcee2ab3b5edebaa1fda029a3c82.jpg  \n",
            " extracting: train/-17-57---fire_jpg.rf.a78a112fec599311f6ad9ef06533b07c.jpg  \n",
            " extracting: train/-17-57---fire_jpg.rf.af181fde9dca68bb5b4b58d5c6abfbb6.jpg  \n",
            " extracting: train/-17-58---fire_jpg.rf.74526f3bc4b09ff993d402be2bd850b9.jpg  \n",
            " extracting: train/-17-58---fire_jpg.rf.c5334d6558b3647fee7bb363703ecb57.jpg  \n",
            " extracting: train/-17-58---fire_jpg.rf.cf6ae5da9ef53c6e6ffcc78244ded433.jpg  \n",
            " extracting: train/-17-6---fire_jpg.rf.1b12272021384a757b7adf0bf6d43aa9.jpg  \n",
            " extracting: train/-17-6---fire_jpg.rf.7142334e8767138adb6770cf11b233c9.jpg  \n",
            " extracting: train/-17-6---fire_jpg.rf.8803d2bfdd50023eb063faac90030910.jpg  \n",
            " extracting: train/-17-60---fire_jpg.rf.707196758f72c0a54eba665a87aea2eb.jpg  \n",
            " extracting: train/-17-60---fire_jpg.rf.86a1fa404ba4a51ae1ea9596422a6886.jpg  \n",
            " extracting: train/-17-60---fire_jpg.rf.ff05404f9fe3b722be2cd540b6f09ca3.jpg  \n",
            " extracting: train/-17-61---fire_jpg.rf.101439e466424f1c039747e2ffde6b98.jpg  \n",
            " extracting: train/-17-61---fire_jpg.rf.83149b67d342aca4b3d7cd16a78eaf8d.jpg  \n",
            " extracting: train/-17-61---fire_jpg.rf.d426ac2d770890fc260a1c7dcb18890e.jpg  \n",
            " extracting: train/-17-62---fire_jpg.rf.578eb760de2f5085a525ac722568b7d2.jpg  \n",
            " extracting: train/-17-62---fire_jpg.rf.7247f6378b873bcd16c5d325f9f33e40.jpg  \n",
            " extracting: train/-17-62---fire_jpg.rf.7945820bf9340022ae6ba030a724dfaf.jpg  \n",
            " extracting: train/-17-63---fire_jpg.rf.59b7c37f7d0bdfba45e3a76c0bf92eb9.jpg  \n",
            " extracting: train/-17-63---fire_jpg.rf.8c8df2d0d75385ad84c64b90b7927547.jpg  \n",
            " extracting: train/-17-63---fire_jpg.rf.a0c69713b62ccde6ef3cf80181cc97b8.jpg  \n",
            " extracting: train/-17-64---fire_jpg.rf.07af3f08f965df33f3b0efebd3fefdbe.jpg  \n",
            " extracting: train/-17-64---fire_jpg.rf.6c2ba0a29d4c8ca37644290322b8f25f.jpg  \n",
            " extracting: train/-17-64---fire_jpg.rf.a5f38ab31f61feebf45133503801423c.jpg  \n",
            " extracting: train/-17-65---fire_jpg.rf.32ffcf8757ba27a1662bf67c8001bf47.jpg  \n",
            " extracting: train/-17-65---fire_jpg.rf.6228ce90cbd749a8b1afbb52ce15e169.jpg  \n",
            " extracting: train/-17-65---fire_jpg.rf.8bc8506a0ac64b3db31d93b8ce2c624f.jpg  \n",
            " extracting: train/-17-66---fire_jpg.rf.2a1a90f6a354167cd8582f8db5dd261d.jpg  \n",
            " extracting: train/-17-66---fire_jpg.rf.7478b74814d6a4fd8f5ef69785dec0db.jpg  \n",
            " extracting: train/-17-66---fire_jpg.rf.79a4b9600a28bef5ccdffe9898f3a40f.jpg  \n",
            " extracting: train/-17-67---fire_jpg.rf.1b042ddad5e0ebd07d703456f8a05f16.jpg  \n",
            " extracting: train/-17-67---fire_jpg.rf.509c8620c51198b76cdc7973bd02cccd.jpg  \n",
            " extracting: train/-17-67---fire_jpg.rf.f5ef892a41ba05d92c1c3106f7031c88.jpg  \n",
            " extracting: train/-17-68---fire_jpg.rf.05f05412eca8afdce1f76139211b584b.jpg  \n",
            " extracting: train/-17-68---fire_jpg.rf.55e890b47000635cb8b8eac2010d5f4a.jpg  \n",
            " extracting: train/-17-68---fire_jpg.rf.56bb24bb3713fd639ec45e49ef8ebfd9.jpg  \n",
            " extracting: train/-17-69---fire_jpg.rf.7e0c136eae3177e5e012dd82a7f21adb.jpg  \n",
            " extracting: train/-17-69---fire_jpg.rf.a4678ae37ddf6d9f1aaf1eb818a3cb57.jpg  \n",
            " extracting: train/-17-69---fire_jpg.rf.be26961793fe8de46ed8e2d73830f03f.jpg  \n",
            " extracting: train/-17-7---fire_jpg.rf.6ba55c001e7201b1f5ad1a060835f8b8.jpg  \n",
            " extracting: train/-17-7---fire_jpg.rf.99526689cbeff8ac3157b8e19ad3f461.jpg  \n",
            " extracting: train/-17-7---fire_jpg.rf.a7497e513036839a4c8c6223345b8af6.jpg  \n",
            " extracting: train/-17-70---fire_jpg.rf.2d149dd83d4728644507187ed5fb5335.jpg  \n",
            " extracting: train/-17-70---fire_jpg.rf.a48be75ce4864fcc650d427809e8b39e.jpg  \n",
            " extracting: train/-17-70---fire_jpg.rf.c0c13392bf71c2baab27fc35079534cc.jpg  \n",
            " extracting: train/-17-71---fire_jpg.rf.1b68b8c19b7d57a65a6ab6b3392999d7.jpg  \n",
            " extracting: train/-17-71---fire_jpg.rf.89c6b3b87c5fcac8567f4a5b78632592.jpg  \n",
            " extracting: train/-17-71---fire_jpg.rf.d2c087386e37de337c90e3af5af3efcf.jpg  \n",
            " extracting: train/-17-72---fire_jpg.rf.90b1859bdcd8198f3b8144df7bd80b56.jpg  \n",
            " extracting: train/-17-72---fire_jpg.rf.9660bb78698ed6fd9910653cc8eab420.jpg  \n",
            " extracting: train/-17-72---fire_jpg.rf.b40fc88358ff1a36bdc5c2610623d692.jpg  \n",
            " extracting: train/-17-73---fire_jpg.rf.0e1c83d6f45308db5ecec1b4c962ef70.jpg  \n",
            " extracting: train/-17-73---fire_jpg.rf.13eab0b067debd559b8ae09395417284.jpg  \n",
            " extracting: train/-17-73---fire_jpg.rf.5d7fe2288884dbb795c333ccad424f0f.jpg  \n",
            " extracting: train/-17-74---fire_jpg.rf.38f9284dc26d9e30033d45b05d2b550e.jpg  \n",
            " extracting: train/-17-74---fire_jpg.rf.57f69edbaeb65f95dbf80db6ef6ffe93.jpg  \n",
            " extracting: train/-17-74---fire_jpg.rf.7d73394323adee73cc1de299cb260dc9.jpg  \n",
            " extracting: train/-17-75---fire_jpg.rf.2e639dac32bfaf0f0640adae3ec1b11a.jpg  \n",
            " extracting: train/-17-75---fire_jpg.rf.2fc3df638df8ec6698cc594cfd879016.jpg  \n",
            " extracting: train/-17-75---fire_jpg.rf.8af40644a1cfef56f6cde548e5e601a7.jpg  \n",
            " extracting: train/-17-77---fire_jpg.rf.1293a0d66fcc1c78d4a5eb56e05eb71f.jpg  \n",
            " extracting: train/-17-77---fire_jpg.rf.4664ca40ca1d68b43ab5d9d825c6f92a.jpg  \n",
            " extracting: train/-17-77---fire_jpg.rf.d353a8c6a48fb1a94ed43b7f54c71301.jpg  \n",
            " extracting: train/-17-78---fire_jpg.rf.035e44df15e1bc2c516ebe6cf0abb1ad.jpg  \n",
            " extracting: train/-17-78---fire_jpg.rf.856603cd3b63e7dfd194324d248cd216.jpg  \n",
            " extracting: train/-17-78---fire_jpg.rf.e2292ab8da88af65693fcf034d0a2cb0.jpg  \n",
            " extracting: train/-17-79---fire_jpg.rf.18721d598d9175504e39a95b08f1352f.jpg  \n",
            " extracting: train/-17-79---fire_jpg.rf.1fb1f9339cdc036b43881b6ca8ddac57.jpg  \n",
            " extracting: train/-17-79---fire_jpg.rf.e7c18705af051136501839373eedeb85.jpg  \n",
            " extracting: train/-17-8---fire_jpg.rf.1ff328c0e92e14b8f78dc8fc6389f78b.jpg  \n",
            " extracting: train/-17-8---fire_jpg.rf.54a5677415c4dd65b70460650e71bfb2.jpg  \n",
            " extracting: train/-17-8---fire_jpg.rf.c2c81de6aec8d6b9b4a7638dc6143cc9.jpg  \n",
            " extracting: train/-17-80---fire_jpg.rf.04c2258025282bf28f3c3384e8034c2a.jpg  \n",
            " extracting: train/-17-80---fire_jpg.rf.3ccde82472de618a45c799f6a0a19a79.jpg  \n",
            " extracting: train/-17-80---fire_jpg.rf.f0348671ba0723e549a05eea801e10fd.jpg  \n",
            " extracting: train/-17-81---fire_jpg.rf.4955e8c904cc63f2d7fced801d5002c0.jpg  \n",
            " extracting: train/-17-81---fire_jpg.rf.c88ccc21b43484c68d84882afcb18d9b.jpg  \n",
            " extracting: train/-17-81---fire_jpg.rf.dcfd5191261e7103d62b92fdb3599733.jpg  \n",
            " extracting: train/-17-82---fire_jpg.rf.226c49a449f4a7323421f60a677da3aa.jpg  \n",
            " extracting: train/-17-82---fire_jpg.rf.bf7c39d7731781ede607cf35fcd9332e.jpg  \n",
            " extracting: train/-17-82---fire_jpg.rf.df064abe370e6720225af1e6601905fe.jpg  \n",
            " extracting: train/-17-83---fire_jpg.rf.078d6dff77ace2f44ac6bf9cc8adf4ff.jpg  \n",
            " extracting: train/-17-83---fire_jpg.rf.7f8b7716650057306687182f977f2097.jpg  \n",
            " extracting: train/-17-83---fire_jpg.rf.964b483919edd91ffb5ec8a335e20962.jpg  \n",
            " extracting: train/-17-84---fire_jpg.rf.337c5d389d811bee2321a4df9fbc6ad6.jpg  \n",
            " extracting: train/-17-84---fire_jpg.rf.cec207a4f3aa7d58876de97b7c82deb3.jpg  \n",
            " extracting: train/-17-84---fire_jpg.rf.ea9a3b7e100e7b9be4f701d3266b4bb5.jpg  \n",
            " extracting: train/-17-85---fire_jpg.rf.c09e7c7c2bb40a6a4ad08e47159350e3.jpg  \n",
            " extracting: train/-17-85---fire_jpg.rf.c40f98981fb539b5d71b7d0d4f168b87.jpg  \n",
            " extracting: train/-17-85---fire_jpg.rf.cd06f0db67cc531e649be0ef7463b408.jpg  \n",
            " extracting: train/-17-86---fire_jpg.rf.a91d9c75dc85b7eb979ac055b5be8f92.jpg  \n",
            " extracting: train/-17-86---fire_jpg.rf.f9b6c2dd62ba50614bd6860d107282bb.jpg  \n",
            " extracting: train/-17-86---fire_jpg.rf.fc42377a971128f6e89693e78109288b.jpg  \n",
            " extracting: train/-17-87---fire_jpg.rf.1e4f5aeb455442d4b0769022bd1b05d1.jpg  \n",
            " extracting: train/-17-87---fire_jpg.rf.27055d3d32116a5b3dae63b1f4709b5a.jpg  \n",
            " extracting: train/-17-87---fire_jpg.rf.f70a6742a9edd1f865bd42ce3aeba1f2.jpg  \n",
            " extracting: train/-17-89---fire_jpg.rf.43cb499fe9ce90e11efcde3468dafd2e.jpg  \n",
            " extracting: train/-17-89---fire_jpg.rf.7b17719c7c835cec1e6af833b6b4da90.jpg  \n",
            " extracting: train/-17-89---fire_jpg.rf.cf10a3b8fce8bf72721b23cd69b483f9.jpg  \n",
            " extracting: train/-17-90---fire_jpg.rf.88ea3025a18c2783ab3f0e3218906a55.jpg  \n",
            " extracting: train/-17-90---fire_jpg.rf.d952f10090988e3cc3864da3e0a66127.jpg  \n",
            " extracting: train/-17-90---fire_jpg.rf.e2424a3f4428b30d1de95e39f1df46c2.jpg  \n",
            " extracting: train/-17-91---fire_jpg.rf.1dfd8d6de91e48f487a3564b4c423bce.jpg  \n",
            " extracting: train/-17-91---fire_jpg.rf.c5a859eb088ba1e4c91d981af82ec3eb.jpg  \n",
            " extracting: train/-17-91---fire_jpg.rf.c78f00f5a23e7345f771584a062d487e.jpg  \n",
            " extracting: train/-17-92---fire_jpg.rf.0514973ad2a054975a6e0d67f6dffd71.jpg  \n",
            " extracting: train/-17-92---fire_jpg.rf.7669cafa061b60db79fe1a5bb9f65bec.jpg  \n",
            " extracting: train/-17-92---fire_jpg.rf.93175422153864f305babfb65f0aed55.jpg  \n",
            " extracting: train/-17-93---fire_jpg.rf.2d3461e56d9ccb416b38c85be6ab824a.jpg  \n",
            " extracting: train/-17-93---fire_jpg.rf.9c96e81fbe317e6ed69738875c6a1707.jpg  \n",
            " extracting: train/-17-93---fire_jpg.rf.b3dd267266e1dfe2b4dcaf1f5eda3326.jpg  \n",
            " extracting: train/-17-96---fire_jpg.rf.710a36be742dbda0d475314e9c18f5c1.jpg  \n",
            " extracting: train/-17-96---fire_jpg.rf.ad5911932ec77b397bded9e9fe02b110.jpg  \n",
            " extracting: train/-17-96---fire_jpg.rf.d1c09e5db9f2ffcb4fa6b818a37cbf61.jpg  \n",
            " extracting: train/-17-97---fire_jpg.rf.446efd54b87d995345fb26fddd02b605.jpg  \n",
            " extracting: train/-17-97---fire_jpg.rf.6040daf8d9bd6298912b7a3d91c91b3e.jpg  \n",
            " extracting: train/-17-97---fire_jpg.rf.6ca28c3389486ae1748957f02c38af32.jpg  \n",
            " extracting: train/-17-98---fire_jpg.rf.aa2aa09ed73ac0395471c9994e28514d.jpg  \n",
            " extracting: train/-17-98---fire_jpg.rf.c47c58db789bf84c7e2c4c4b915389c8.jpg  \n",
            " extracting: train/-17-98---fire_jpg.rf.e1567876a767c3f621a0c3e73df2aceb.jpg  \n",
            " extracting: train/-17-99---fire_jpg.rf.1187e7d373f84494fbd92635d4e2300a.jpg  \n",
            " extracting: train/-17-99---fire_jpg.rf.36c4b55dc7c006a4c0e470c21634340f.jpg  \n",
            " extracting: train/-17-99---fire_jpg.rf.831caff2dc531fe3734766985e3c1ca5.jpg  \n",
            " extracting: train/-171-14---fire_jpg.rf.cb1dcbc76bb01eea5221b127254e4d8d.jpg  \n",
            " extracting: train/-171-14---fire_jpg.rf.e1cf2dd6fcfd96b59a2af8a5e15e7719.jpg  \n",
            " extracting: train/-171-14---fire_jpg.rf.f5d9558f69eba6bd8d1b5e835014f8f7.jpg  \n",
            " extracting: train/-171-15---fire_jpg.rf.0b797d37a91779ea2d0e0d85fa69b132.jpg  \n",
            " extracting: train/-171-15---fire_jpg.rf.4ccdf2215a11d8af4dd1a6e3d6f4824a.jpg  \n",
            " extracting: train/-171-15---fire_jpg.rf.cb2249d19582c9dafde0a17cea1d0a4d.jpg  \n",
            " extracting: train/-171-16---fire_jpg.rf.09b04588449a1f1082562e4851727347.jpg  \n",
            " extracting: train/-171-16---fire_jpg.rf.3ad4bd6b747bbd3022972e467810b910.jpg  \n",
            " extracting: train/-171-16---fire_jpg.rf.508fed28129002a53ff6d94b02ba83ba.jpg  \n",
            " extracting: train/-171-17---fire_jpg.rf.3b0ffb4ed318416b5abea35b52e27e23.jpg  \n",
            " extracting: train/-171-17---fire_jpg.rf.92513a8cd5a8ac15bd12616fe9eadf67.jpg  \n",
            " extracting: train/-171-17---fire_jpg.rf.e998db262737a1f64a3f3713733341fd.jpg  \n",
            " extracting: train/-171-18---fire_jpg.rf.1411440e875ab5a30a6da5d082189367.jpg  \n",
            " extracting: train/-171-18---fire_jpg.rf.1a4bd8a189bae57bdca470f0ccbf3dea.jpg  \n",
            " extracting: train/-171-18---fire_jpg.rf.465e88b3bb0e6db2a66d78d09affdef5.jpg  \n",
            " extracting: train/-171-19---fire_jpg.rf.33be28c6aa845f5a71bf191dae43064b.jpg  \n",
            " extracting: train/-171-19---fire_jpg.rf.8fb3118c7bc20df91159fd2da64ea211.jpg  \n",
            " extracting: train/-171-19---fire_jpg.rf.e6de759488d606b97a134992c23c3f12.jpg  \n",
            " extracting: train/-171-21---fire_jpg.rf.29087e13b14b364bc67383603b8c5a74.jpg  \n",
            " extracting: train/-171-21---fire_jpg.rf.571fefaf749485206cf3015eeef95b3c.jpg  \n",
            " extracting: train/-171-21---fire_jpg.rf.c6d704fc32230b8c863e45ff851eeeb3.jpg  \n",
            " extracting: train/-171-22---fire_jpg.rf.14749cd932f9236180bb1663234830fa.jpg  \n",
            " extracting: train/-171-22---fire_jpg.rf.16fd72ac86b9af7751cd6f769d84422f.jpg  \n",
            " extracting: train/-171-22---fire_jpg.rf.54729e15178aab0d097cbb7fa92b3fb4.jpg  \n",
            " extracting: train/-171-23---fire_jpg.rf.27bcf0b50cedc3d99ae35142d524f3af.jpg  \n",
            " extracting: train/-171-23---fire_jpg.rf.a3eaeab69f86bf64fcd50a4e82ed7f6f.jpg  \n",
            " extracting: train/-171-23---fire_jpg.rf.c97f880165810aae92ef75ec901da117.jpg  \n",
            " extracting: train/-171-24---fire_jpg.rf.398484a089f3f8930111661c356a776b.jpg  \n",
            " extracting: train/-171-24---fire_jpg.rf.875ca815c609de904a3115e38d0eb2b4.jpg  \n",
            " extracting: train/-171-24---fire_jpg.rf.9bddb23b332ac8f96062b88af5182a43.jpg  \n",
            " extracting: train/-171-25---fire_jpg.rf.721be12fa49d2eaad88ca499c8bb3901.jpg  \n",
            " extracting: train/-171-25---fire_jpg.rf.b5693ec6e15288fc7e68cde6875c25a4.jpg  \n",
            " extracting: train/-171-25---fire_jpg.rf.bc3d54b0c3f91ab404bf029b26c4a4da.jpg  \n",
            " extracting: train/-171-26---fire_jpg.rf.0374adbed1750d140f2165a0dffa1bbe.jpg  \n",
            " extracting: train/-171-26---fire_jpg.rf.135b9833f23f38d01ca49520692b9664.jpg  \n",
            " extracting: train/-171-26---fire_jpg.rf.f65a6590e5f402c2484bfdda7e57a367.jpg  \n",
            " extracting: train/-171-30---fire_jpg.rf.46e7f61c8fa1341462e867e7e3d03d4a.jpg  \n",
            " extracting: train/-171-30---fire_jpg.rf.5343cf1759c6b6cfe238aab42097344a.jpg  \n",
            " extracting: train/-171-30---fire_jpg.rf.69095ac525895d0fc2cbce8a82385dd5.jpg  \n",
            " extracting: train/-171-31---fire_jpg.rf.4e1583c628643bd5b37c0d9a073f819c.jpg  \n",
            " extracting: train/-171-31---fire_jpg.rf.607e26e3dba20a93214ba415c266a1a7.jpg  \n",
            " extracting: train/-171-31---fire_jpg.rf.f9d635966eb16f75f376d4d394717d0a.jpg  \n",
            " extracting: train/-171-33---fire_jpg.rf.0b96ce5b710640bc974e5dbf68bd93e7.jpg  \n",
            " extracting: train/-171-33---fire_jpg.rf.7eff450fd893ed1fce18ee8b4a2aebe9.jpg  \n",
            " extracting: train/-171-33---fire_jpg.rf.f80f9b7facb33a5deff741071ac79235.jpg  \n",
            " extracting: train/-171-34---fire_jpg.rf.ba31c2149623544359a35340a878cad7.jpg  \n",
            " extracting: train/-171-34---fire_jpg.rf.e507b1645eb25666c92e9f6dec2552ff.jpg  \n",
            " extracting: train/-171-34---fire_jpg.rf.e80ac795460af796b5cbcfcaa7fc0dde.jpg  \n",
            " extracting: train/-171-35---fire_jpg.rf.34b16473e0bcc28e7c6bc16e8803751f.jpg  \n",
            " extracting: train/-171-35---fire_jpg.rf.6233a0c6647b53417c67d2addec10274.jpg  \n",
            " extracting: train/-171-35---fire_jpg.rf.b0c54e42d314955660271aa1aa1ec709.jpg  \n",
            " extracting: train/-171-36---fire_jpg.rf.14a444a01ec062ce71e9f62bd32cf75c.jpg  \n",
            " extracting: train/-171-36---fire_jpg.rf.6990e99b3833bba8bcba72a39581d31e.jpg  \n",
            " extracting: train/-171-36---fire_jpg.rf.7b1e91107e63142a51749e6df31e4b0a.jpg  \n",
            " extracting: train/-171-37---fire_jpg.rf.451da7ae1311011c26a4a63485645f64.jpg  \n",
            " extracting: train/-171-37---fire_jpg.rf.85ac0ea50209a2a755bcf1abf5acfe28.jpg  \n",
            " extracting: train/-171-37---fire_jpg.rf.c27adb18edaa798f4f554f11a75e6c30.jpg  \n",
            " extracting: train/-171-38---fire_jpg.rf.3fd5bd77bb4c08b7dcaf9554f1803ab6.jpg  \n",
            " extracting: train/-171-38---fire_jpg.rf.725ffae79e18ce6c9f7ef9604a26fe5c.jpg  \n",
            " extracting: train/-171-38---fire_jpg.rf.f4cfa420c5fe276600dbb59b939f9c6b.jpg  \n",
            " extracting: train/-171-41---fire_jpg.rf.4614eeab050529d2a08a0df198b0c96a.jpg  \n",
            " extracting: train/-171-41---fire_jpg.rf.af221a2e08f44fb34b8da930220f87ad.jpg  \n",
            " extracting: train/-171-41---fire_jpg.rf.da1f1ab14af0c2cabb976c6f75e3b58b.jpg  \n",
            " extracting: train/-173-18---fire_jpg.rf.77c7d5926ec33a3387810d27a7623cb0.jpg  \n",
            " extracting: train/-173-18---fire_jpg.rf.e40d8b80b032552e66284aa6b01989d0.jpg  \n",
            " extracting: train/-173-18---fire_jpg.rf.ef89279347e83cb364d6036e65e35d38.jpg  \n",
            " extracting: train/-173-19---fire_jpg.rf.bd2b2af38e7cd524c153a1c26327ce82.jpg  \n",
            " extracting: train/-173-19---fire_jpg.rf.c13be6351fd0c846a6c87f86fcf75aa2.jpg  \n",
            " extracting: train/-173-19---fire_jpg.rf.cb2cc1920cf4a46bebd178490f679f82.jpg  \n",
            " extracting: train/-173-20---fire_jpg.rf.162c8098ce22aa119534ddf422ac5ed6.jpg  \n",
            " extracting: train/-173-20---fire_jpg.rf.4cdfa21bdfc9a84ca6b72ea025718a12.jpg  \n",
            " extracting: train/-173-20---fire_jpg.rf.d27c22aeb36891c0e0da26857855b6dd.jpg  \n",
            " extracting: train/-174-41---fire_jpg.rf.0c24de0eb3f13164308aec41dce7a102.jpg  \n",
            " extracting: train/-174-41---fire_jpg.rf.8ce9260dcb1c40171598bc595ea4d420.jpg  \n",
            " extracting: train/-174-41---fire_jpg.rf.9851fedc05a3a851ea3714f91df6dcdb.jpg  \n",
            " extracting: train/-174-42---fire_jpg.rf.097002e3d3a74fa1f72dade2b2cc1052.jpg  \n",
            " extracting: train/-174-42---fire_jpg.rf.48e4dd024eb16142a982c2cedb7a58ea.jpg  \n",
            " extracting: train/-174-42---fire_jpg.rf.7ed69511f0ad1eaaf1b08f4805b0a29e.jpg  \n",
            " extracting: train/-174-43---fire_jpg.rf.2e327b62a6747a780598f3c2e662fede.jpg  \n",
            " extracting: train/-174-43---fire_jpg.rf.84e06c07f567e3d462a9d0465cbdf9ce.jpg  \n",
            " extracting: train/-174-43---fire_jpg.rf.c565aea5f4e612fe26b74782c610386e.jpg  \n",
            " extracting: train/-174-44---fire_jpg.rf.3230ba47e84f37892cb449403880ac6d.jpg  \n",
            " extracting: train/-174-44---fire_jpg.rf.bb1bcba0b26a0946a902ccf7d2c6d3d9.jpg  \n",
            " extracting: train/-174-44---fire_jpg.rf.bffe1333793c541816987cf755befc3d.jpg  \n",
            " extracting: train/-174-45---fire_jpg.rf.3f68bd5710b46fce27d425ce86b2e2d1.jpg  \n",
            " extracting: train/-174-45---fire_jpg.rf.8bf4a04b23425337836a204f47f22f9d.jpg  \n",
            " extracting: train/-174-45---fire_jpg.rf.a372b47bca5f8150bf06f3533872bd94.jpg  \n",
            " extracting: train/-174-46---fire_jpg.rf.561b4eb500c75fae9de10d0b4cbedbe2.jpg  \n",
            " extracting: train/-174-46---fire_jpg.rf.8461963bad727ee78c8a15c63d7931f5.jpg  \n",
            " extracting: train/-174-46---fire_jpg.rf.b5fa298f11f76d67f09e7100e972e4ab.jpg  \n",
            " extracting: train/-174-48---fire_jpg.rf.7f89268a857de800443eab561a9733be.jpg  \n",
            " extracting: train/-174-48---fire_jpg.rf.8aa05651baf0a5a8538bf19fc0b05204.jpg  \n",
            " extracting: train/-174-48---fire_jpg.rf.a77cbef35c37e50bb38ae94664b953ac.jpg  \n",
            " extracting: train/-174-49---fire_jpg.rf.5d3227d5ca59c87f13dd66423b7427a9.jpg  \n",
            " extracting: train/-174-49---fire_jpg.rf.8d2276eddf792ae50192d15326d84073.jpg  \n",
            " extracting: train/-174-49---fire_jpg.rf.ebd3aaf7b4cb0ac16f5c50f84a6684ac.jpg  \n",
            " extracting: train/-174-50---fire_jpg.rf.1477dbd50bb1f34433d41126718f5c8a.jpg  \n",
            " extracting: train/-174-50---fire_jpg.rf.5fda0e9e78ea98c7b1da5963fd586bec.jpg  \n",
            " extracting: train/-174-50---fire_jpg.rf.6440b6a97521369da1e2e6af8663590f.jpg  \n",
            " extracting: train/-174-51---fire_jpg.rf.8455387cf5bd0467468a3b669eb2597b.jpg  \n",
            " extracting: train/-174-51---fire_jpg.rf.91532891c07a1ee64d56b3635bc922e9.jpg  \n",
            " extracting: train/-174-51---fire_jpg.rf.d5a3466ef471b6b2eaf4352cb65b177c.jpg  \n",
            " extracting: train/-175-13---fire_jpg.rf.062fc6cfe37b7df8032f3e5182bafb08.jpg  \n",
            " extracting: train/-175-13---fire_jpg.rf.4a2a2406642b801cefd0f8d8e0d0af5d.jpg  \n",
            " extracting: train/-175-13---fire_jpg.rf.5f6badcf59e8a8e72661358f633fcb42.jpg  \n",
            " extracting: train/-175-14---fire_jpg.rf.64b2036de908183b85d718b234a8064d.jpg  \n",
            " extracting: train/-175-14---fire_jpg.rf.80e11ec12de4aaa354a67b0488259312.jpg  \n",
            " extracting: train/-175-14---fire_jpg.rf.f9b85c6bb3f67aea78ef485a10ac6ffd.jpg  \n",
            " extracting: train/-175-16---fire_jpg.rf.84bb1b2aa2c5653f1edae5775f85f10d.jpg  \n",
            " extracting: train/-175-16---fire_jpg.rf.ee5418d8a6b5b6e00a8b1bfb3b02f267.jpg  \n",
            " extracting: train/-175-16---fire_jpg.rf.f574996a44013f060cbcb0e003668f53.jpg  \n",
            " extracting: train/-175-17---fire_jpg.rf.6f327fe3a17d2f10941868b254ae435a.jpg  \n",
            " extracting: train/-175-17---fire_jpg.rf.761b5b0926f35ff22d6633677e51b724.jpg  \n",
            " extracting: train/-175-17---fire_jpg.rf.92d7cefb6970484e0f732ad488f95301.jpg  \n",
            " extracting: train/-175-25---fire_jpg.rf.2603d6f116067931c1a56f9296bdf0e0.jpg  \n",
            " extracting: train/-175-25---fire_jpg.rf.6a61a71d77f923dac1ca6b5c1265ed2a.jpg  \n",
            " extracting: train/-175-25---fire_jpg.rf.b8c080fe4c8800f5d5d247f911294ca9.jpg  \n",
            " extracting: train/-175-26---fire_jpg.rf.202bb2bc4de2a1c7dc2a509c9f986b6e.jpg  \n",
            " extracting: train/-175-26---fire_jpg.rf.8aa9c8ce17e90005f1b99852a72c78f9.jpg  \n",
            " extracting: train/-175-26---fire_jpg.rf.a0cdc3dd5ae01828489eb24bfca084ce.jpg  \n",
            " extracting: train/-175-28---fire_jpg.rf.d2d20825578669e0782ca348fa527a9f.jpg  \n",
            " extracting: train/-175-28---fire_jpg.rf.dcc21f90ea03eb42261f19164613011f.jpg  \n",
            " extracting: train/-175-28---fire_jpg.rf.fdb31168f797906545ae84e438f10c9a.jpg  \n",
            " extracting: train/-175-29---fire_jpg.rf.46cadf49100c55c91b616b965ea680f3.jpg  \n",
            " extracting: train/-175-29---fire_jpg.rf.5abd2f6ac5e9a5f784c270960cc1e3d3.jpg  \n",
            " extracting: train/-175-29---fire_jpg.rf.7aa372f45964826970697ba9b79d2339.jpg  \n",
            " extracting: train/-175-31---fire_jpg.rf.5a5a0f3729bab8a84f936b360c5ae3d8.jpg  \n",
            " extracting: train/-175-31---fire_jpg.rf.71fcff73255e4eebb9a415e26ccd831f.jpg  \n",
            " extracting: train/-175-31---fire_jpg.rf.f691586b684a6580a31f60ac6f7ebdd6.jpg  \n",
            " extracting: train/-175-32---fire_jpg.rf.224fe6d8ef5dd794014204e90662a45a.jpg  \n",
            " extracting: train/-175-32---fire_jpg.rf.54fad5c782b91f876245368bdd79e7a4.jpg  \n",
            " extracting: train/-175-32---fire_jpg.rf.8e5c7387da8c559c75c2be3a1368ea7a.jpg  \n",
            " extracting: train/-175-33---fire_jpg.rf.be8037843df366a125bcc0e4ed339e5e.jpg  \n",
            " extracting: train/-175-33---fire_jpg.rf.c45f710531fbe78f792603f85b6c12c5.jpg  \n",
            " extracting: train/-175-33---fire_jpg.rf.dc8feb06aaf8590df6bc9f7f5081215b.jpg  \n",
            " extracting: train/-176-100---fire_jpg.rf.c89fe31e4f3b421a5dc9f241bc1025f9.jpg  \n",
            " extracting: train/-176-100---fire_jpg.rf.d01c0652b8f25c046fca7cec5767cd92.jpg  \n",
            " extracting: train/-176-100---fire_jpg.rf.e0db50f83debfc01b2418e1013569d88.jpg  \n",
            " extracting: train/-176-101---fire_jpg.rf.66147ad6208184943cf0464f45dd6c22.jpg  \n",
            " extracting: train/-176-101---fire_jpg.rf.8c8b418f52b09eef6a21984610284213.jpg  \n",
            " extracting: train/-176-101---fire_jpg.rf.c9331105842f60a9945dd7ee8645da95.jpg  \n",
            " extracting: train/-176-102---fire_jpg.rf.0d7089bc859e467c82b9ebdd727ef1ac.jpg  \n",
            " extracting: train/-176-102---fire_jpg.rf.2da237ba39214e2ad9d2f74eefee79a8.jpg  \n",
            " extracting: train/-176-102---fire_jpg.rf.ba86d34f98c7f36b346ac79d699010a5.jpg  \n",
            " extracting: train/-176-109---fire_jpg.rf.26caa39226140c672fb6b30fa2bb966e.jpg  \n",
            " extracting: train/-176-109---fire_jpg.rf.80a865032c49f03ed41b489f969ee58f.jpg  \n",
            " extracting: train/-176-109---fire_jpg.rf.ff5e73ed9ecbfc657cf50d67a03c903e.jpg  \n",
            " extracting: train/-176-110---fire_jpg.rf.7dcc8cf03bf788110fbd3c382facccff.jpg  \n",
            " extracting: train/-176-110---fire_jpg.rf.8898b25db119fe9c558ae32d474db82b.jpg  \n",
            " extracting: train/-176-110---fire_jpg.rf.c330c8934a265026c78ec53801c75e94.jpg  \n",
            " extracting: train/-176-111---fire_jpg.rf.26c7a19634f8b18816548d6c917b487f.jpg  \n",
            " extracting: train/-176-111---fire_jpg.rf.37c4a940b2accb2d2868fca04b80c10e.jpg  \n",
            " extracting: train/-176-111---fire_jpg.rf.ac60c32a2845c0789c17efe52ad140c6.jpg  \n",
            " extracting: train/-176-112---fire_jpg.rf.0ac46db3f211603b676399eaec0764e6.jpg  \n",
            " extracting: train/-176-112---fire_jpg.rf.43b86092ec216d20863303d34d614d44.jpg  \n",
            " extracting: train/-176-112---fire_jpg.rf.acf30b3ba7db3e237b0cab8480190692.jpg  \n",
            " extracting: train/-176-113---fire_jpg.rf.069e1701f526fc90e93396abaa1fc311.jpg  \n",
            " extracting: train/-176-113---fire_jpg.rf.44dbff962e230f0e4374e08556da4258.jpg  \n",
            " extracting: train/-176-113---fire_jpg.rf.b15afbf5c5c2a2b0d38ac2f258885da0.jpg  \n",
            " extracting: train/-176-114---fire_jpg.rf.333f0857bfdbd042506f54b1cf3f2a5c.jpg  \n",
            " extracting: train/-176-114---fire_jpg.rf.7296e0d11cbf0a4cbbede6bc14377047.jpg  \n",
            " extracting: train/-176-114---fire_jpg.rf.e76bff94a7f4018079cf8397158fd9b1.jpg  \n",
            " extracting: train/-176-16---fire_jpg.rf.76b2c2d759a4e06193b9dc7250850df9.jpg  \n",
            " extracting: train/-176-16---fire_jpg.rf.9132b30674b9df0c42c144862af18899.jpg  \n",
            " extracting: train/-176-16---fire_jpg.rf.b15ccef804269e11f9d02ba9871d43b4.jpg  \n",
            " extracting: train/-176-17---fire_jpg.rf.220d648d6c7ff54397c4a741eded1102.jpg  \n",
            " extracting: train/-176-17---fire_jpg.rf.580936cd70736bfdf384a5a4bb170538.jpg  \n",
            " extracting: train/-176-17---fire_jpg.rf.beefe259a30b40175372abeaa1bd875c.jpg  \n",
            " extracting: train/-176-18---fire_jpg.rf.8de6c51dfbd5435d479e0c827bf02561.jpg  \n",
            " extracting: train/-176-18---fire_jpg.rf.cc8dea7095863ba9d0f049e8c25e6bea.jpg  \n",
            " extracting: train/-176-18---fire_jpg.rf.cdde38267be22770e8f912ac093d6012.jpg  \n",
            " extracting: train/-176-19---fire_jpg.rf.19ecddf5dafccc6383bc024a3405c925.jpg  \n",
            " extracting: train/-176-19---fire_jpg.rf.76780f059bd39a468d50dce00b76a77f.jpg  \n",
            " extracting: train/-176-19---fire_jpg.rf.ce4a8bb58f66e1372167e9fef80f2152.jpg  \n",
            " extracting: train/-176-21---fire_jpg.rf.21cb7e151bcfeb4b0cde0dd8eff27781.jpg  \n",
            " extracting: train/-176-21---fire_jpg.rf.8966ee8271600031b5b12584a78f9499.jpg  \n",
            " extracting: train/-176-21---fire_jpg.rf.a43168e80047af4724f637ac5998beaa.jpg  \n",
            " extracting: train/-176-23---fire_jpg.rf.03cc41571af6696bb9969923a6675ca6.jpg  \n",
            " extracting: train/-176-23---fire_jpg.rf.967f54ad29f72d50561a6aada08e6ff7.jpg  \n",
            " extracting: train/-176-23---fire_jpg.rf.f181b8971607f2d52b6faef0f924888f.jpg  \n",
            " extracting: train/-176-24---fire_jpg.rf.04df70f38ee8df306c78c9e8c0e08e80.jpg  \n",
            " extracting: train/-176-24---fire_jpg.rf.48af39570cc625fdcd4e1caff36c688c.jpg  \n",
            " extracting: train/-176-24---fire_jpg.rf.c582aae1bb8d8992f5f6e06988952dc3.jpg  \n",
            " extracting: train/-176-25---fire_jpg.rf.01fba23f7b3ee6b8bb131dc00212eac4.jpg  \n",
            " extracting: train/-176-25---fire_jpg.rf.28aefe9b77702d4d6d2e3d306848b22b.jpg  \n",
            " extracting: train/-176-25---fire_jpg.rf.6bc6746e94c2d2af45f8d085b342a634.jpg  \n",
            " extracting: train/-176-26---fire_jpg.rf.1b81c81eee246cec16b449e7949f459a.jpg  \n",
            " extracting: train/-176-26---fire_jpg.rf.8a6446a2844b9b11b2fb8e8633ea7a5c.jpg  \n",
            " extracting: train/-176-26---fire_jpg.rf.cb5264ce5e1c0f4b11a393c40c11b2f4.jpg  \n",
            " extracting: train/-176-27---fire_jpg.rf.a01ef88be47616d15ffd0fa0a6ecae7c.jpg  \n",
            " extracting: train/-176-27---fire_jpg.rf.ce9f7cb5c37248564d6c3788c981ebc2.jpg  \n",
            " extracting: train/-176-27---fire_jpg.rf.d7cc36e781dd1196f69a5864bd9a3154.jpg  \n",
            " extracting: train/-176-28---fire_jpg.rf.32505ff958a46873d427b511aad2f2e2.jpg  \n",
            " extracting: train/-176-28---fire_jpg.rf.e286536c4d1aed633929c7774a1fa03d.jpg  \n",
            " extracting: train/-176-28---fire_jpg.rf.eef159501adeb93d3fc39a887f4494da.jpg  \n",
            " extracting: train/-176-29---fire_jpg.rf.e3b0e9430f850ef1a78090c2937bed54.jpg  \n",
            " extracting: train/-176-29---fire_jpg.rf.e9e5b85b5d8fa54f9adc64abfa5c0395.jpg  \n",
            " extracting: train/-176-29---fire_jpg.rf.f234441f7b1a092fa636822651cba8e9.jpg  \n",
            " extracting: train/-176-31---fire_jpg.rf.3d1497256ef0e8b1325f3eb0498ec686.jpg  \n",
            " extracting: train/-176-31---fire_jpg.rf.acc0e42b273fb4a39de003b24c5b784d.jpg  \n",
            " extracting: train/-176-31---fire_jpg.rf.c8b87e780cccf33758191fb688a3122e.jpg  \n",
            " extracting: train/-176-32---fire_jpg.rf.2820b021ffe5912c9a431a52c7d9cd9e.jpg  \n",
            " extracting: train/-176-32---fire_jpg.rf.6319210e332a9efa7e1a12fb00a1a168.jpg  \n",
            " extracting: train/-176-32---fire_jpg.rf.67faf3472af6ad830d71c2209957740c.jpg  \n",
            " extracting: train/-176-33---fire_jpg.rf.4c9fccdf3edb0b708f59e5d93a11456d.jpg  \n",
            " extracting: train/-176-33---fire_jpg.rf.782e5ffbd2f5bb8d260de494bdd28ff4.jpg  \n",
            " extracting: train/-176-33---fire_jpg.rf.bae20a277c1fa12e007d0a5ea87f2aef.jpg  \n",
            " extracting: train/-176-34---fire_jpg.rf.4ede0df01a961ea286cfba9bffdeecd8.jpg  \n",
            " extracting: train/-176-34---fire_jpg.rf.509d526c0a68d58b244b4f39e2ec06ef.jpg  \n",
            " extracting: train/-176-34---fire_jpg.rf.b6ed31aed532415bc2b1fe7c8f28f03c.jpg  \n",
            " extracting: train/-176-35---fire_jpg.rf.4cc1ab0a09e014e005c61d74b24ba787.jpg  \n",
            " extracting: train/-176-35---fire_jpg.rf.af7bc2a30deec36081698b1bb8e60526.jpg  \n",
            " extracting: train/-176-35---fire_jpg.rf.df8e7967428b52a6363a563ddf9f505a.jpg  \n",
            " extracting: train/-176-40---fire_jpg.rf.9a4e7dec3917a469eacf7a4329501f98.jpg  \n",
            " extracting: train/-176-40---fire_jpg.rf.be5fd621a1bcf22ab9ed68bd28d06f3c.jpg  \n",
            " extracting: train/-176-40---fire_jpg.rf.f08f7d27d86978e92683f08f0a4124c3.jpg  \n",
            " extracting: train/-176-49---fire_jpg.rf.0059d3ba468f525e7c1b4d241c91033d.jpg  \n",
            " extracting: train/-176-49---fire_jpg.rf.189854ba772121dc4ab8a05bc9cd5c21.jpg  \n",
            " extracting: train/-176-49---fire_jpg.rf.def725b00e4bdd0eb239b79eed841f86.jpg  \n",
            " extracting: train/-176-50---fire_jpg.rf.118a151d1719a3f52c7f95a6ebf6e8f1.jpg  \n",
            " extracting: train/-176-50---fire_jpg.rf.4b242af45266407a058d59c571766588.jpg  \n",
            " extracting: train/-176-50---fire_jpg.rf.afaab267405d992fd31ef6552756e831.jpg  \n",
            " extracting: train/-176-52---fire_jpg.rf.0279237adef8ce2533ec5e72efb1aac0.jpg  \n",
            " extracting: train/-176-52---fire_jpg.rf.1337d49f6b41d42111e30ebb25f67289.jpg  \n",
            " extracting: train/-176-52---fire_jpg.rf.f9029c9c2fa251ac498564566d5f5f99.jpg  \n",
            " extracting: train/-176-54---fire_jpg.rf.3e764e8d49e5e54a52dd51fa5687809b.jpg  \n",
            " extracting: train/-176-54---fire_jpg.rf.8a780894fd6b80aa21e29a9e88ccf08b.jpg  \n",
            " extracting: train/-176-54---fire_jpg.rf.bf77af5124988f2df2bf9946129ec5ef.jpg  \n",
            " extracting: train/-176-55---fire_jpg.rf.3d3a942070d0832c5b619e25d747171e.jpg  \n",
            " extracting: train/-176-55---fire_jpg.rf.ce144814b37e0f7836c8b562ece5efa4.jpg  \n",
            " extracting: train/-176-55---fire_jpg.rf.f3493fe870022472c5dbd391f3e3ac7f.jpg  \n",
            " extracting: train/-176-57---fire_jpg.rf.148616efbac3f6c0f1d177a7e86b3ea5.jpg  \n",
            " extracting: train/-176-57---fire_jpg.rf.37593c1d2616b691d5d7c4dc4f2212ff.jpg  \n",
            " extracting: train/-176-57---fire_jpg.rf.ad1f6948603d35b1060df9a0d26adacb.jpg  \n",
            " extracting: train/-176-58---fire_jpg.rf.1565cb53231be517292e9cbe4588b1c3.jpg  \n",
            " extracting: train/-176-58---fire_jpg.rf.1b3c686b67d7fe5718644a6a6120847c.jpg  \n",
            " extracting: train/-176-58---fire_jpg.rf.305b7af99e27731846415358baa1766b.jpg  \n",
            " extracting: train/-176-59---fire_jpg.rf.0846d2ffb59ebbeb9ce652206b0f52e0.jpg  \n",
            " extracting: train/-176-59---fire_jpg.rf.795941a5f14840abbf374977d75e072e.jpg  \n",
            " extracting: train/-176-60---fire_jpg.rf.0190070d6de0d5f0f26a678aa4f90d58.jpg  \n",
            " extracting: train/-176-60---fire_jpg.rf.3d998d2c3c5e40237da736a472cd380c.jpg  \n",
            " extracting: train/-176-60---fire_jpg.rf.d7a2089615b0c2619467903c2002911b.jpg  \n",
            " extracting: train/-176-63---fire_jpg.rf.246ccc183b1859d2c795fa7009268e8a.jpg  \n",
            " extracting: train/-176-63---fire_jpg.rf.35ce3f485df7706c31b5fc14fabc549e.jpg  \n",
            " extracting: train/-176-63---fire_jpg.rf.81560b91b480aace19138570eb519265.jpg  \n",
            " extracting: train/-176-64---fire_jpg.rf.0b6ff692faa9f674603db03e248afc5a.jpg  \n",
            " extracting: train/-176-64---fire_jpg.rf.8472ac18c3e6a7ed12a10be120741aab.jpg  \n",
            " extracting: train/-176-64---fire_jpg.rf.b18c0925e8eaca661aae10b3300b89db.jpg  \n",
            " extracting: train/-176-65---fire_jpg.rf.8fc5ae26c053465939ea731d2454901e.jpg  \n",
            " extracting: train/-176-65---fire_jpg.rf.d187d5b9c912df7999043f18d4eca4e2.jpg  \n",
            " extracting: train/-176-65---fire_jpg.rf.eaa792abbd3221d8acdf9b110b607c71.jpg  \n",
            " extracting: train/-176-66---fire_jpg.rf.3a5d20eeecbee1471e8873f81538d5b6.jpg  \n",
            " extracting: train/-176-66---fire_jpg.rf.558b6b92aef0803441417af4bdbd3d38.jpg  \n",
            " extracting: train/-176-66---fire_jpg.rf.7aa9776f8b2c8a6734153257b1613b2e.jpg  \n",
            " extracting: train/-176-68---fire_jpg.rf.6cdeb58fdcdc002489c13a071e8c7215.jpg  \n",
            " extracting: train/-176-68---fire_jpg.rf.819a2c563ec38a5cb7e25f0d2474c6cb.jpg  \n",
            " extracting: train/-176-68---fire_jpg.rf.92356b9f0dfcc9bf19e90ce2dd58c046.jpg  \n",
            " extracting: train/-176-83---fire_jpg.rf.099a3e0082c2ab458b5dcceed38952be.jpg  \n",
            " extracting: train/-176-83---fire_jpg.rf.1cb66578a0435b28805b1771848e5e2f.jpg  \n",
            " extracting: train/-176-83---fire_jpg.rf.6904975359f50c0ccaa9ac5ce93a0599.jpg  \n",
            " extracting: train/-176-84---fire_jpg.rf.260b2cf6dd7a3c3c56174095042cf167.jpg  \n",
            " extracting: train/-176-84---fire_jpg.rf.76459f2244bdffc5586f8fcde147e17d.jpg  \n",
            " extracting: train/-176-84---fire_jpg.rf.f36c9b4be8fe928882a893989bacdd85.jpg  \n",
            " extracting: train/-176-85---fire_jpg.rf.1f01d44fd3fc4c1077434b3fbe5a449b.jpg  \n",
            " extracting: train/-176-85---fire_jpg.rf.2d0bdc8892f7e1951997c0572087fb75.jpg  \n",
            " extracting: train/-176-85---fire_jpg.rf.adc9d26a1b3ae4f307b332becdd1e0c3.jpg  \n",
            " extracting: train/-176-86---fire_jpg.rf.253166cdd35f58a6cfc28f6daf555a24.jpg  \n",
            " extracting: train/-176-86---fire_jpg.rf.2b514b6f91d5ab6ec09fc27313dae361.jpg  \n",
            " extracting: train/-176-86---fire_jpg.rf.a12ae6b4d623dcb2b0c34b21b02138d9.jpg  \n",
            " extracting: train/-176-87---fire_jpg.rf.5dff2b1bc83af1f99b5256a8abbab5ab.jpg  \n",
            " extracting: train/-176-87---fire_jpg.rf.d42adc8a409670415b56c64f1470fbf6.jpg  \n",
            " extracting: train/-176-87---fire_jpg.rf.e1f6f8a0496e176c2a77ff2b62dffb8f.jpg  \n",
            " extracting: train/-176-95---fire_jpg.rf.12a67efbba8da61468d87931bf489f02.jpg  \n",
            " extracting: train/-176-95---fire_jpg.rf.a1a11cbf6e82b66927ebf5da23207fcb.jpg  \n",
            " extracting: train/-176-95---fire_jpg.rf.ea09b50a8f9f07c2caf853e0289ae767.jpg  \n",
            " extracting: train/-176-96---fire_jpg.rf.aedf721e52e470b5ab9197d5783c7075.jpg  \n",
            " extracting: train/-176-96---fire_jpg.rf.dc02329b40e5679dbfecc5cc20312810.jpg  \n",
            " extracting: train/-176-96---fire_jpg.rf.e0478328bdf094af9a77d70a39e5d818.jpg  \n",
            " extracting: train/-176-97---fire_jpg.rf.052088e0ec80e536735e1573db6ff5a6.jpg  \n",
            " extracting: train/-176-97---fire_jpg.rf.19c35d312b638bd40fc2408633acd45d.jpg  \n",
            " extracting: train/-176-97---fire_jpg.rf.cdace2b0345c95b82e771489f3a0ddcc.jpg  \n",
            " extracting: train/-176-98---fire_jpg.rf.083df0b2663c4ca3aaf0a795a4e059f5.jpg  \n",
            " extracting: train/-176-98---fire_jpg.rf.15b400fcb928e8a8057d6a242529f552.jpg  \n",
            " extracting: train/-176-98---fire_jpg.rf.af39756184c955d9a9e6c0ccb055e301.jpg  \n",
            " extracting: train/-176-99---fire_jpg.rf.13a3372cbb992004922f590af801ba51.jpg  \n",
            " extracting: train/-176-99---fire_jpg.rf.706dbe9254ecab387fe366fd166786d2.jpg  \n",
            " extracting: train/-176-99---fire_jpg.rf.a1411b99494b2f6334de51c641c9a08c.jpg  \n",
            " extracting: train/-177-0---fire_jpg.rf.05117739110ad98975daff0b11619e59.jpg  \n",
            " extracting: train/-177-0---fire_jpg.rf.53bbce26baa4456555a2fb240eb1e7eb.jpg  \n",
            " extracting: train/-177-0---fire_jpg.rf.5e9898fe46bac8d9eca6ca9cfca99a30.jpg  \n",
            " extracting: train/-177-1---fire_jpg.rf.1487564fa6e9d5a896de3503d4daa795.jpg  \n",
            " extracting: train/-177-1---fire_jpg.rf.36a19726052cae71983d778b19ebed2d.jpg  \n",
            " extracting: train/-177-1---fire_jpg.rf.dd140ee2572f0596992f32d7ab9bb794.jpg  \n",
            " extracting: train/-177-14---fire_jpg.rf.a000de8a1481b9af66c25f40c732831b.jpg  \n",
            " extracting: train/-177-14---fire_jpg.rf.c47ba510ca5a2035b4649c63c49588a7.jpg  \n",
            " extracting: train/-177-14---fire_jpg.rf.da4a638f54a42bdd50412072a4ca0d99.jpg  \n",
            " extracting: train/-177-15---fire_jpg.rf.5dddba7a785e524d0295fba256c343a2.jpg  \n",
            " extracting: train/-177-15---fire_jpg.rf.85f7cfc5adbb572bdf277a2c486c77f9.jpg  \n",
            " extracting: train/-177-15---fire_jpg.rf.ed68e8024658588fbdcc4fc8dbbfe171.jpg  \n",
            " extracting: train/-177-16---fire_jpg.rf.709424326c86b17951271d786ef3f4fc.jpg  \n",
            " extracting: train/-177-16---fire_jpg.rf.8c8ce76b2389c1e6fbe9a9259519a183.jpg  \n",
            " extracting: train/-177-16---fire_jpg.rf.cb6d4a239adb7f19b966969dad45f397.jpg  \n",
            " extracting: train/-177-17---fire_jpg.rf.b194c32f062bfa633aeef9b165ac9b1b.jpg  \n",
            " extracting: train/-177-17---fire_jpg.rf.f4e593ba0cf68b13e655eb865a8e20f0.jpg  \n",
            " extracting: train/-177-17---fire_jpg.rf.f90f45c48c68bd71df103e82210d6bdc.jpg  \n",
            " extracting: train/-177-18---fire_jpg.rf.a1c00e89be6ebcde9990a11dd93c7c52.jpg  \n",
            " extracting: train/-177-18---fire_jpg.rf.f1e5dc70e36f9871066866727d0eb574.jpg  \n",
            " extracting: train/-177-18---fire_jpg.rf.fddc5969a2ca699b3396b61f413bc217.jpg  \n",
            " extracting: train/-177-19---fire_jpg.rf.39a5eab212e920bfd9750c6c64b109b4.jpg  \n",
            " extracting: train/-177-19---fire_jpg.rf.6a71962bcf6049de9651fe40aa1659f1.jpg  \n",
            " extracting: train/-177-19---fire_jpg.rf.cd22a6f4e1a84b886e234c5955df8ac2.jpg  \n",
            " extracting: train/-177-21---fire_jpg.rf.c01248e6eff937731ab40d14883b5e89.jpg  \n",
            " extracting: train/-177-21---fire_jpg.rf.de3260c7f5b704c5b12992d7b32c4591.jpg  \n",
            " extracting: train/-177-21---fire_jpg.rf.f52b40ba149a09111a3e7ab22dbbc7b4.jpg  \n",
            " extracting: train/-177-25---fire_jpg.rf.0b175d3afd8298581fdb0025f69218de.jpg  \n",
            " extracting: train/-177-25---fire_jpg.rf.145ed0dfc82052509dc294992ac3e330.jpg  \n",
            " extracting: train/-177-25---fire_jpg.rf.6ea8624b068ffa7f6158257c326f152c.jpg  \n",
            " extracting: train/-177-26---fire_jpg.rf.15ecd075f75c384f35889eec068392a9.jpg  \n",
            " extracting: train/-177-26---fire_jpg.rf.6309df21358bca9181233d9f199e99b6.jpg  \n",
            " extracting: train/-177-26---fire_jpg.rf.a2c407966540612d3a4d2faa4de04efb.jpg  \n",
            " extracting: train/-177-27---fire_jpg.rf.21111affbe6e84e6004b6ccdde170504.jpg  \n",
            " extracting: train/-177-27---fire_jpg.rf.23bb054f4aed14bec1bfd4f7702eb0d1.jpg  \n",
            " extracting: train/-177-27---fire_jpg.rf.733deee6674181b950ab1ecb4fc742b3.jpg  \n",
            " extracting: train/-177-29---fire_jpg.rf.04b42cf03a2437a25fbbf00d9b8aee48.jpg  \n",
            " extracting: train/-177-29---fire_jpg.rf.71d32c7532ab67785c3cf7b2bf0fa5af.jpg  \n",
            " extracting: train/-177-29---fire_jpg.rf.e237ce49037290cbd6916a2c6c9c82bc.jpg  \n",
            " extracting: train/-177-31---fire_jpg.rf.51ca50701b3fcf0db1c93592c6c7b17a.jpg  \n",
            " extracting: train/-177-31---fire_jpg.rf.5e9eef0cd6a7b0b84aeed20979328250.jpg  \n",
            " extracting: train/-177-31---fire_jpg.rf.e9f1f06c13184b17e7e3d830d741efa4.jpg  \n",
            " extracting: train/-177-32---fire_jpg.rf.707f00909d7eb84c3f475a8c9aa1c17e.jpg  \n",
            " extracting: train/-177-32---fire_jpg.rf.cc58a48a7b039645a018b41619a3dce7.jpg  \n",
            " extracting: train/-177-32---fire_jpg.rf.e0cee7080bb8386c1b8620d03f0e09cb.jpg  \n",
            " extracting: train/-177-33---fire_jpg.rf.25bb8746e0077e07042922b13f396a5a.jpg  \n",
            " extracting: train/-177-33---fire_jpg.rf.489c2531aa9356b629dde32b90a69323.jpg  \n",
            " extracting: train/-177-33---fire_jpg.rf.6b2e10bb3beafb29bf71c6b0cad343fd.jpg  \n",
            " extracting: train/-177-34---fire_jpg.rf.06a0c2939dce14f987a2e3c437ce2bdd.jpg  \n",
            " extracting: train/-177-34---fire_jpg.rf.522c5b4b054b07bb5e45153f6f60cfae.jpg  \n",
            " extracting: train/-177-34---fire_jpg.rf.ac0e5a50a9d039fe1ee468620942f7a9.jpg  \n",
            " extracting: train/-177-35---fire_jpg.rf.c5b2275720c01f1746c251d61bdf0b1f.jpg  \n",
            " extracting: train/-177-35---fire_jpg.rf.cb3a811505e5077d5afa0be0a8ee7cc1.jpg  \n",
            " extracting: train/-177-35---fire_jpg.rf.f7fdde32c421e47054125fc906406ae2.jpg  \n",
            " extracting: train/-177-37---fire_jpg.rf.267da98a111086ed77fffed4a092462d.jpg  \n",
            " extracting: train/-177-37---fire_jpg.rf.7cf003dda400b3cbf2702ff7522ae91e.jpg  \n",
            " extracting: train/-177-37---fire_jpg.rf.bac07834caab4e4f7bd4cc66644c2397.jpg  \n",
            " extracting: train/-177-39---fire_jpg.rf.94d96e33a9d72a9e663f8eff0ab92a96.jpg  \n",
            " extracting: train/-177-39---fire_jpg.rf.e5e374d7ed3b9db586ce44f1e2a99237.jpg  \n",
            " extracting: train/-177-39---fire_jpg.rf.eb4f0988c5140a1dd44b38f7ec7f24f6.jpg  \n",
            " extracting: train/-177-4---fire_jpg.rf.d2f9fd167671e5733c7544112536d731.jpg  \n",
            " extracting: train/-177-4---fire_jpg.rf.ddff21f8a6d49752da5691eff888185f.jpg  \n",
            " extracting: train/-177-4---fire_jpg.rf.dffd4fed7a4e41f035a8412d15d76ba5.jpg  \n",
            " extracting: train/-177-40---fire_jpg.rf.a5c8df751eaa36b5ba343db8e00de3a5.jpg  \n",
            " extracting: train/-177-40---fire_jpg.rf.cc3e866dd2c7521f956ace1983911e6a.jpg  \n",
            " extracting: train/-177-40---fire_jpg.rf.da6d87dcbdd52d2fde15c6645a7a7d7a.jpg  \n",
            " extracting: train/-177-41---fire_jpg.rf.02ba96edb10b1b3847d2047a6ba972c5.jpg  \n",
            " extracting: train/-177-41---fire_jpg.rf.115f88ce3e787a9a786c9844c8f1d73d.jpg  \n",
            " extracting: train/-177-41---fire_jpg.rf.ed3ab7c5851e070728e2fc3aa8eff6f7.jpg  \n",
            " extracting: train/-177-42---fire_jpg.rf.7cb52dcc098a5c303009ff37435bcf6d.jpg  \n",
            " extracting: train/-177-42---fire_jpg.rf.acedb727813a47d35dca178635f3d5be.jpg  \n",
            " extracting: train/-177-42---fire_jpg.rf.b821f2ab8f1b494f81b333c9af489478.jpg  \n",
            " extracting: train/-177-43---fire_jpg.rf.4a21a1e26897f91782d70e970c4abd75.jpg  \n",
            " extracting: train/-177-43---fire_jpg.rf.69659beb76eedff20069d14039a0f901.jpg  \n",
            " extracting: train/-177-43---fire_jpg.rf.df900d976c200634a00ced90f3bb59c4.jpg  \n",
            " extracting: train/-177-44---fire_jpg.rf.2d19b57db0da42ed69c0c14c0e68509b.jpg  \n",
            " extracting: train/-177-44---fire_jpg.rf.e27ec5fa2d450f567d58daf3efe5b433.jpg  \n",
            " extracting: train/-177-5---fire_jpg.rf.457f90148209ad28a58cdee938186e0d.jpg  \n",
            " extracting: train/-177-5---fire_jpg.rf.5a86df82937e573cb483d569d6525738.jpg  \n",
            " extracting: train/-177-5---fire_jpg.rf.855736d54db5b77c1e0d9d9c4198984e.jpg  \n",
            " extracting: train/-177-86---fire_jpg.rf.17e7b9149f6e8109013324b8ea01e17f.jpg  \n",
            " extracting: train/-177-86---fire_jpg.rf.c0f4efc5c00b46a3345764bbd89c8e99.jpg  \n",
            " extracting: train/-177-86---fire_jpg.rf.e0917572c3b5a309e5bc8f0d4d57709a.jpg  \n",
            " extracting: train/-177-87---fire_jpg.rf.7644bc14b1793ecc714e11d48435f193.jpg  \n",
            " extracting: train/-177-87---fire_jpg.rf.9bcd5d50aceebcce32a9fc73463777fa.jpg  \n",
            " extracting: train/-177-87---fire_jpg.rf.a6f0c254366cdf235a467d9c295931da.jpg  \n",
            " extracting: train/-177-88---fire_jpg.rf.35cfd64a1a831dc9ddaccdbf07487922.jpg  \n",
            " extracting: train/-177-88---fire_jpg.rf.abb8e2985400c698e00f19b08babf82a.jpg  \n",
            " extracting: train/-177-88---fire_jpg.rf.c9df356f38431e73bede89d004053d4c.jpg  \n",
            " extracting: train/-178-36---fire_jpg.rf.181e762eff27a54de379cc4704d67efe.jpg  \n",
            " extracting: train/-178-36---fire_jpg.rf.1e009e6d68762982c5346c77b6bbf2e0.jpg  \n",
            " extracting: train/-178-36---fire_jpg.rf.b99b010f250d3ebfeaafafc713868b26.jpg  \n",
            " extracting: train/-178-37---fire_jpg.rf.6a8902b407788b4cb95898250fcc5aa3.jpg  \n",
            " extracting: train/-178-37---fire_jpg.rf.82aa8717543a4a460caf26572b8b249a.jpg  \n",
            " extracting: train/-178-37---fire_jpg.rf.9b3f963f02be2dc493075a34896fb98c.jpg  \n",
            " extracting: train/-178-38---fire_jpg.rf.3324e0e8111c3d01def871109fab539d.jpg  \n",
            " extracting: train/-178-38---fire_jpg.rf.c1f2f48a15ad56622768167270e92e00.jpg  \n",
            " extracting: train/-178-38---fire_jpg.rf.e36caa7f5dddbd1dbb30bf8ed04f1531.jpg  \n",
            " extracting: train/-178-41---fire_jpg.rf.5c808f306221c6533e789d65a67cf1f2.jpg  \n",
            " extracting: train/-178-41---fire_jpg.rf.8318dd5e310d01e7630032e4f114e551.jpg  \n",
            " extracting: train/-178-41---fire_jpg.rf.bc5400027bf445d420d25e58db1c64a6.jpg  \n",
            " extracting: train/-178-42---fire_jpg.rf.4d554c439a3fbaded9e77da3ecd305ee.jpg  \n",
            " extracting: train/-178-42---fire_jpg.rf.6f0f3106af050bb14716c63247c8af9f.jpg  \n",
            " extracting: train/-178-42---fire_jpg.rf.ec5331158f559ad0a4f30dd31c639580.jpg  \n",
            " extracting: train/-179-66---fire_jpg.rf.698a5af2560afcb0a7f292f0ac69a0bd.jpg  \n",
            " extracting: train/-179-66---fire_jpg.rf.8a394c0a77614774b3202733ae5a890d.jpg  \n",
            " extracting: train/-179-66---fire_jpg.rf.b28600c01d6c1524898c10a0cb2eb520.jpg  \n",
            " extracting: train/-179-67---fire_jpg.rf.00dcfa8c7e8d63f359b146d0be023059.jpg  \n",
            " extracting: train/-179-67---fire_jpg.rf.3359bf8253a9a9435ed2dccbac07446f.jpg  \n",
            " extracting: train/-179-67---fire_jpg.rf.9442d0ccd4e18e072bf0a26b1179fc49.jpg  \n",
            " extracting: train/-179-68---fire_jpg.rf.34d524342c3bacabecef2e647b65207f.jpg  \n",
            " extracting: train/-179-68---fire_jpg.rf.78c5e9eb0428cfefb71a7b8b582e2b13.jpg  \n",
            " extracting: train/-179-68---fire_jpg.rf.9764aa8a70965dbda27c9427349f1180.jpg  \n",
            " extracting: train/-179-70---fire_jpg.rf.95faa1ef8f5de5442867ac3c281748c2.jpg  \n",
            " extracting: train/-179-70---fire_jpg.rf.a895a1a5041a29fc269e84df45a1f913.jpg  \n",
            " extracting: train/-179-70---fire_jpg.rf.c72e66a2ed08c952e62af0c183296310.jpg  \n",
            " extracting: train/-179-71---fire_jpg.rf.1ec986a43682f40f3b05bbc53302eebe.jpg  \n",
            " extracting: train/-179-71---fire_jpg.rf.2c0852509c57576cd460424dc4abe363.jpg  \n",
            " extracting: train/-179-71---fire_jpg.rf.7303d18254d9a44582e197c711a381f6.jpg  \n",
            " extracting: train/-179-72---fire_jpg.rf.abb48844162fa0ccc09286b11205848f.jpg  \n",
            " extracting: train/-179-72---fire_jpg.rf.baef5b30c7b8958b57f9783ab36e4bf7.jpg  \n",
            " extracting: train/-179-72---fire_jpg.rf.f627cebe9baaee1df6ff469e0a64d370.jpg  \n",
            " extracting: train/-179-73---fire_jpg.rf.18ef355015b6741a5c9b82ffd52a0b6c.jpg  \n",
            " extracting: train/-179-73---fire_jpg.rf.87f028a826860d4959a24a5e19a35835.jpg  \n",
            " extracting: train/-179-73---fire_jpg.rf.b2caa5fab698f279cf590f49f703ed0a.jpg  \n",
            " extracting: train/-179-74---fire_jpg.rf.0ea991d7c99be8e74552daf67b49938d.jpg  \n",
            " extracting: train/-179-74---fire_jpg.rf.128425b2218f9817e5ef14906b2b3063.jpg  \n",
            " extracting: train/-179-74---fire_jpg.rf.e03ed87151e7df5e2c33e32d54dd7730.jpg  \n",
            " extracting: train/-179-75---fire_jpg.rf.215d9ecabdb0e77c997bce8f03625612.jpg  \n",
            " extracting: train/-179-75---fire_jpg.rf.a037bfb6740e2565d631e594ed5c64b3.jpg  \n",
            " extracting: train/-179-75---fire_jpg.rf.b72fc7523a92c005f6caf6bdfe897a51.jpg  \n",
            " extracting: train/-179-76---fire_jpg.rf.440ffec9aadf3b86cbbed620ce32affd.jpg  \n",
            " extracting: train/-179-76---fire_jpg.rf.a7110af3ee6cf76db9258470bb8d9bd4.jpg  \n",
            " extracting: train/-179-76---fire_jpg.rf.bf0e71986b9bd8e8451565a2ef9da3df.jpg  \n",
            " extracting: train/-179-77---fire_jpg.rf.7410b60813a6263749bd0d382b9ea7a4.jpg  \n",
            " extracting: train/-179-77---fire_jpg.rf.c26d5e4e7b1daca7501b13adb870a1ec.jpg  \n",
            " extracting: train/-179-77---fire_jpg.rf.c59f7ca6f74e8eec0d05520ef8397458.jpg  \n",
            " extracting: train/-179-78---fire_jpg.rf.09af774886bec411b5f1af1a2f90e776.jpg  \n",
            " extracting: train/-179-78---fire_jpg.rf.19e5d810289274815df42d06b2ca55b9.jpg  \n",
            " extracting: train/-179-78---fire_jpg.rf.e32a32793cc511f3f079eae75cb46e55.jpg  \n",
            " extracting: train/-18-0---fire_jpg.rf.5d936585de46f9957dce1f0138f23a7c.jpg  \n",
            " extracting: train/-18-0---fire_jpg.rf.b06911195ca9d16342358a7366f5dc30.jpg  \n",
            " extracting: train/-18-0---fire_jpg.rf.c8b783d674d6be592660cf9bb8b8617d.jpg  \n",
            " extracting: train/-18-2---fire_jpg.rf.2510a9e97176f41c9884ef2ae1998e31.jpg  \n",
            " extracting: train/-18-2---fire_jpg.rf.995512a6e0dc3ef6b4ed4dbb3b8e8b94.jpg  \n",
            " extracting: train/-18-2---fire_jpg.rf.b2c4dcd9da8b31f880c063679c5d0c0b.jpg  \n",
            " extracting: train/-18-4---fire_jpg.rf.240fc496c8a4a1930d011384059270cc.jpg  \n",
            " extracting: train/-18-4---fire_jpg.rf.4c52f734664075da235dde233dd3d352.jpg  \n",
            " extracting: train/-18-4---fire_jpg.rf.9f5d4fd8485fad3274a27723c7ffba6e.jpg  \n",
            " extracting: train/-18-5---fire_jpg.rf.2cc8fd905b7f14a62ff91d280dca9885.jpg  \n",
            " extracting: train/-18-5---fire_jpg.rf.7ae97d90814faf61299156f1e307650e.jpg  \n",
            " extracting: train/-18-5---fire_jpg.rf.fb47cf22c64f1d96ba755d4d78f606e6.jpg  \n",
            " extracting: train/-18-54---fire_jpg.rf.37778843d8556848efc80a0ec57b4165.jpg  \n",
            " extracting: train/-18-54---fire_jpg.rf.95c8fa098a6c658265aae6650a7a92da.jpg  \n",
            " extracting: train/-18-54---fire_jpg.rf.c9b097a505ef8306f700977302888bf6.jpg  \n",
            " extracting: train/-18-57---fire_jpg.rf.44d2bedf7e0d4218c688c02e522d9df3.jpg  \n",
            " extracting: train/-18-57---fire_jpg.rf.68b1e641b346350e9a9a85c219dc5f48.jpg  \n",
            " extracting: train/-18-57---fire_jpg.rf.b7e0ed8b496d8bbb1c8c88fc48e37eaa.jpg  \n",
            " extracting: train/-18-73---fire_jpg.rf.532fb3c799b97d03c57d8bd78e7b7558.jpg  \n",
            " extracting: train/-18-73---fire_jpg.rf.9de5ce84f17db1f9b444f0da71619cec.jpg  \n",
            " extracting: train/-18-73---fire_jpg.rf.a98e04d16bc9396edd1e69ca85549f50.jpg  \n",
            " extracting: train/-18-80---fire_jpg.rf.0c5f629cceb1b46340ad0abbcf03e662.jpg  \n",
            " extracting: train/-18-80---fire_jpg.rf.1b5e34072f0cff24c6d035f65103950d.jpg  \n",
            " extracting: train/-18-80---fire_jpg.rf.58d1ed64c2c797e34e8125e0f246fa14.jpg  \n",
            " extracting: train/-18-81---fire_jpg.rf.8a6f80c4d7d3eff76032e27a8c22b670.jpg  \n",
            " extracting: train/-18-81---fire_jpg.rf.ab18a956f13ce06406144edb88544429.jpg  \n",
            " extracting: train/-18-81---fire_jpg.rf.ec10df7c073baa6cc4240eb018da2c46.jpg  \n",
            " extracting: train/-18-82---fire_jpg.rf.03005d8457f8811e4bc50148dd01c17d.jpg  \n",
            " extracting: train/-18-82---fire_jpg.rf.2fc110980ac6d3764c1eef89788d5057.jpg  \n",
            " extracting: train/-18-82---fire_jpg.rf.719b4112af3435596cbf1f375dc9cb92.jpg  \n",
            " extracting: train/-18-84---fire_jpg.rf.0dd558e0f05d31d53bcf134784afe5cb.jpg  \n",
            " extracting: train/-18-84---fire_jpg.rf.6fd67221f26f3a173669efde87e3ee9b.jpg  \n",
            " extracting: train/-18-84---fire_jpg.rf.910159185c436c38fb650b73dae350b7.jpg  \n",
            " extracting: train/-18-85---fire_jpg.rf.259663b6a2b2e43a1512e6ed094dc9bf.jpg  \n",
            " extracting: train/-18-85---fire_jpg.rf.37e8eca186e601a48c637ca6f5bc461a.jpg  \n",
            " extracting: train/-18-85---fire_jpg.rf.5408ee165dfb9192c24a8c68501f6674.jpg  \n",
            " extracting: train/-18-86---fire_jpg.rf.098cdc57c94768198827e62b64f9408d.jpg  \n",
            " extracting: train/-18-86---fire_jpg.rf.47690f9777341a88b359788abe5ad251.jpg  \n",
            " extracting: train/-18-86---fire_jpg.rf.b5e4ae97e211d0fed634eb00f9a2b8a3.jpg  \n",
            " extracting: train/-18-87---fire_jpg.rf.b20430ecbae4fea628adf3ba43b05503.jpg  \n",
            " extracting: train/-18-87---fire_jpg.rf.bbaaae4eb312e2c3c3a900527c87b5b1.jpg  \n",
            " extracting: train/-18-87---fire_jpg.rf.e4306a0486d5ce834f2b76841b3215f0.jpg  \n",
            " extracting: train/-181-12---fire_jpg.rf.054cfb46d1a655da4935f7e6bc80794c.jpg  \n",
            " extracting: train/-181-12---fire_jpg.rf.417558f708b8ca06ceb1f9fdb8e246e9.jpg  \n",
            " extracting: train/-181-12---fire_jpg.rf.e0b5d8d30138110428173720b64fef2b.jpg  \n",
            " extracting: train/-181-13---fire_jpg.rf.8031b408a88421d9a237b730f97d1bf1.jpg  \n",
            " extracting: train/-181-13---fire_jpg.rf.82d09588851bdd642d9d7260079cab25.jpg  \n",
            " extracting: train/-181-13---fire_jpg.rf.b6c4dc5e5a6da4dae5fbf6c97d2df694.jpg  \n",
            " extracting: train/-181-14---fire_jpg.rf.058abb57be680098cc3cba23b82d47b5.jpg  \n",
            " extracting: train/-181-14---fire_jpg.rf.70219965517462bbd565e187364b45db.jpg  \n",
            " extracting: train/-181-14---fire_jpg.rf.a9cba5a427e6d35ac0f1d5e9d95b2501.jpg  \n",
            " extracting: train/-181-15---fire_jpg.rf.4b29368bde70ae850d70f77bf24c46cd.jpg  \n",
            " extracting: train/-181-15---fire_jpg.rf.4e47ab38076a1e609c63c20731d8ea57.jpg  \n",
            " extracting: train/-181-15---fire_jpg.rf.f8dea4a0de96a699cd1c110029d687b4.jpg  \n",
            " extracting: train/-181-17---fire_jpg.rf.6c46310a5dd02e0262b761425b0447cf.jpg  \n",
            " extracting: train/-181-17---fire_jpg.rf.dd070631341f4a643acd2cd629cd45e7.jpg  \n",
            " extracting: train/-181-17---fire_jpg.rf.ea4195bef964e254e432b8eebc2e9f3e.jpg  \n",
            " extracting: train/-181-19---fire_jpg.rf.6288dbd2a8cd770a7a6133f5f22d2e84.jpg  \n",
            " extracting: train/-181-19---fire_jpg.rf.9983fbc4a61e71b5ee89c0a6d84c5a2e.jpg  \n",
            " extracting: train/-181-19---fire_jpg.rf.df8c08b086d7dbab9baf09e42b9b60b8.jpg  \n",
            " extracting: train/-181-20---fire_jpg.rf.6bdabe0bbac08e98e60dd57b726923b5.jpg  \n",
            " extracting: train/-181-20---fire_jpg.rf.ed05a94b0358599cf6b2bb07ed7a58c9.jpg  \n",
            " extracting: train/-181-20---fire_jpg.rf.f529260d443cb6257f4671d52bd72430.jpg  \n",
            " extracting: train/-181-30---fire_jpg.rf.154b1c472ec13a6709a63bc7e28c82d4.jpg  \n",
            " extracting: train/-181-30---fire_jpg.rf.8781b2415edbe3ff2d9287aa57cd400b.jpg  \n",
            " extracting: train/-181-30---fire_jpg.rf.e8534dd9632bff4b398f003f79522125.jpg  \n",
            " extracting: train/-181-33---fire_jpg.rf.6c5fe38392e10c5aa5a93f79cda4ee59.jpg  \n",
            " extracting: train/-181-33---fire_jpg.rf.ba8ae04f04f55517829ed1a357d68b92.jpg  \n",
            " extracting: train/-181-33---fire_jpg.rf.cea4217e3f10ec761095dc1b814dde39.jpg  \n",
            " extracting: train/-181-34---fire_jpg.rf.59efc71d35859983692e139a9141cbce.jpg  \n",
            " extracting: train/-181-34---fire_jpg.rf.64fe592c2fe826f2d75ca2d9cefc6b2f.jpg  \n",
            " extracting: train/-181-34---fire_jpg.rf.66d72e509e2c53bbfdd2e4960dbe2dc1.jpg  \n",
            " extracting: train/-181-35---fire_jpg.rf.4986a409ded436f5dc487da7b399a5e8.jpg  \n",
            " extracting: train/-181-35---fire_jpg.rf.69339cc6e0a861f8abd55fc5b7b8d16b.jpg  \n",
            " extracting: train/-181-35---fire_jpg.rf.c6631737108ec9f060ec2bed04ea9299.jpg  \n",
            " extracting: train/-181-36---fire_jpg.rf.16ceebe8e7214306bcc81ab27560364f.jpg  \n",
            " extracting: train/-181-36---fire_jpg.rf.ac3794ebf5a49d8b8860052bdc919e93.jpg  \n",
            " extracting: train/-181-36---fire_jpg.rf.d8a6d44e01fedf19bde286b816e56203.jpg  \n",
            " extracting: train/-181-37---fire_jpg.rf.4bad0cd37052f6a8aaa3608b1e07d815.jpg  \n",
            " extracting: train/-181-37---fire_jpg.rf.b1dc2e3e1a78d5e1bd8b6a746b6524ff.jpg  \n",
            " extracting: train/-181-37---fire_jpg.rf.ec5766abd03627cb7f10045a6d2d065c.jpg  \n",
            " extracting: train/-181-38---fire_jpg.rf.1b3bc0388fc569b7ed8db23e72f6e889.jpg  \n",
            " extracting: train/-181-38---fire_jpg.rf.829661115def5f899300c3724fd73c24.jpg  \n",
            " extracting: train/-181-38---fire_jpg.rf.f287f1c5ae0ffb922fbd05fea7411f28.jpg  \n",
            " extracting: train/-181-39---fire_jpg.rf.08db37b1bfaabbc1aa57fc048459cf9f.jpg  \n",
            " extracting: train/-181-39---fire_jpg.rf.45b31a71f266298c9a8969cf6439faf0.jpg  \n",
            " extracting: train/-181-39---fire_jpg.rf.d9e6285db52b57b36bcba845b271bb64.jpg  \n",
            " extracting: train/-181-40---fire_jpg.rf.993713a3a719231937796e35c3177e20.jpg  \n",
            " extracting: train/-181-40---fire_jpg.rf.b4f98a275958734fd818182ce5524e19.jpg  \n",
            " extracting: train/-181-40---fire_jpg.rf.c1539ef0ac917bd92cd95beec45367c6.jpg  \n",
            " extracting: train/-181-41---fire_jpg.rf.0a507c9b0abba67b20da6165b358793d.jpg  \n",
            " extracting: train/-181-41---fire_jpg.rf.4ac5e84b776811e08d0da7f23ad6163e.jpg  \n",
            " extracting: train/-181-41---fire_jpg.rf.e1c67af59d03ca39d4c11eff30974abb.jpg  \n",
            " extracting: train/-182-27---fire_jpg.rf.136e59809c163e0aff297ff797890d3e.jpg  \n",
            " extracting: train/-182-27---fire_jpg.rf.9abb20d1016c0afd04f57f0060a38a93.jpg  \n",
            " extracting: train/-182-27---fire_jpg.rf.eb3403b560932676c377164a7324a3f5.jpg  \n",
            " extracting: train/-182-29---fire_jpg.rf.1ac0ac11a862f76d10cb591ad1e5916a.jpg  \n",
            " extracting: train/-182-29---fire_jpg.rf.913c840d9c82d65c32a7fef34c5d0836.jpg  \n",
            " extracting: train/-182-29---fire_jpg.rf.ee375a78cc9785893350ce1ecea287ba.jpg  \n",
            " extracting: train/-182-30---fire_jpg.rf.99f7b9ad4a9b98c4d9e4afacb82f29d4.jpg  \n",
            " extracting: train/-182-30---fire_jpg.rf.a42689140bf9b6ed558c14c10c926504.jpg  \n",
            " extracting: train/-182-30---fire_jpg.rf.c6c0b9dc76c77d8ad2b275564a4cb1e9.jpg  \n",
            " extracting: train/-182-31---fire_jpg.rf.42a172b4a5c94b2467d0d0d2760bad64.jpg  \n",
            " extracting: train/-182-31---fire_jpg.rf.5813b041bea12eca863962880e71ff74.jpg  \n",
            " extracting: train/-182-31---fire_jpg.rf.b05ba32068bad61db3a1de4bfa71204d.jpg  \n",
            " extracting: train/-182-32---fire_jpg.rf.3ee4751742180217a889b10b97fa8671.jpg  \n",
            " extracting: train/-182-32---fire_jpg.rf.ab462c354e4416004e0da176509db4c1.jpg  \n",
            " extracting: train/-182-32---fire_jpg.rf.c63b7f350e347f1855ed0c4ae6ff1741.jpg  \n",
            " extracting: train/-182-33---fire_jpg.rf.0dd861d4dd598bb78c1d386716d52e2c.jpg  \n",
            " extracting: train/-182-33---fire_jpg.rf.467242d5e914a2b2b37b2f6970da5dae.jpg  \n",
            " extracting: train/-182-33---fire_jpg.rf.83deaf699020df1a4a6c6b98445f1449.jpg  \n",
            " extracting: train/-182-34---fire_jpg.rf.34b006b684f4028e60ffd522b654feda.jpg  \n",
            " extracting: train/-182-34---fire_jpg.rf.887ab8223f0447cc8f83d624fc6665f5.jpg  \n",
            " extracting: train/-182-34---fire_jpg.rf.b7af6c084fac0d8d101ae6771376f523.jpg  \n",
            " extracting: train/-182-35---fire_jpg.rf.42a5c3676aa04902f28b67534e551cb3.jpg  \n",
            " extracting: train/-182-35---fire_jpg.rf.553810ab05d009272380a8f208ca28d4.jpg  \n",
            " extracting: train/-182-35---fire_jpg.rf.a8d543b705e02dec0eb48d2decaa9f42.jpg  \n",
            " extracting: train/-182-36---fire_jpg.rf.a08662d39f1eab8123d430a3e749b183.jpg  \n",
            " extracting: train/-182-36---fire_jpg.rf.d4471b42731e455f538486a78224ba7d.jpg  \n",
            " extracting: train/-182-36---fire_jpg.rf.f13b6be6a60026318aa531ffa0036df2.jpg  \n",
            " extracting: train/-182-37---fire_jpg.rf.4d4f21bee53bde9de7bb55ae6e47ecc4.jpg  \n",
            " extracting: train/-182-37---fire_jpg.rf.de594cfedab2b2cfc6907222c850216f.jpg  \n",
            " extracting: train/-182-37---fire_jpg.rf.f3a5c7c445653834be9cb81b3b94636b.jpg  \n",
            " extracting: train/-182-38---fire_jpg.rf.39201d2b6b40050978f2c2c29e0a4a52.jpg  \n",
            " extracting: train/-182-38---fire_jpg.rf.4dd081c80d6ac32a04c75b4acb69ecd6.jpg  \n",
            " extracting: train/-182-38---fire_jpg.rf.9a2fc860e8669fa77749d43eebcb303a.jpg  \n",
            " extracting: train/-182-39---fire_jpg.rf.5e0d8b1d035bf212f2ab60ae2c78c48c.jpg  \n",
            " extracting: train/-182-39---fire_jpg.rf.9041f58fa5648ece7af5bf3b28099edf.jpg  \n",
            " extracting: train/-182-39---fire_jpg.rf.dca36a2119811b5ae0caa0fb3bf47fa9.jpg  \n",
            " extracting: train/-182-41---fire_jpg.rf.43984786440ec3def8cf9f9a305c70b3.jpg  \n",
            " extracting: train/-182-41---fire_jpg.rf.5fc07ed0386d7dacaa8af899337ea252.jpg  \n",
            " extracting: train/-182-41---fire_jpg.rf.9226dea62662254c568f61b97d117db1.jpg  \n",
            " extracting: train/-182-43---fire_jpg.rf.3dde20ab71e1283af1ce8eb6039f8a76.jpg  \n",
            " extracting: train/-182-43---fire_jpg.rf.6eff90b765340aab364b30c1e864f75e.jpg  \n",
            " extracting: train/-182-43---fire_jpg.rf.c5fee0448c98b2d903dd0c727843d923.jpg  \n",
            " extracting: train/-182-45---fire_jpg.rf.1eb2e0e5c5a9976a2efd665f8d872bb7.jpg  \n",
            " extracting: train/-182-45---fire_jpg.rf.4e874dd2aa6a55d671660a1ea44a0bb2.jpg  \n",
            " extracting: train/-182-45---fire_jpg.rf.c7661471740636ec0723ab393e0313a5.jpg  \n",
            " extracting: train/-182-46---fire_jpg.rf.3eb0304df058e3ff697d2868b8580b16.jpg  \n",
            " extracting: train/-182-46---fire_jpg.rf.4543a013a0e322a8398f043d41468c46.jpg  \n",
            " extracting: train/-182-46---fire_jpg.rf.48e20b10b269fbf27c6d744e5e09eb8c.jpg  \n",
            " extracting: train/-182-47---fire_jpg.rf.27951bb5aa2739ebeab1f0d62500246d.jpg  \n",
            " extracting: train/-182-47---fire_jpg.rf.4c3ffbcd6a9f3311ada404086f34b86d.jpg  \n",
            " extracting: train/-182-47---fire_jpg.rf.60611ff9d92899f14cc27f9a2c394b8f.jpg  \n",
            " extracting: train/-182-48---fire_jpg.rf.53abc07ad05291c0d21ec0789bd65e21.jpg  \n",
            " extracting: train/-182-48---fire_jpg.rf.d488289ee16c5d8969bf34c93239e900.jpg  \n",
            " extracting: train/-182-48---fire_jpg.rf.dffdcd1ea1e0d03b96c8aaa9a52051d1.jpg  \n",
            " extracting: train/-182-49---fire_jpg.rf.a06e2be002b10517e29f1b85df3dde9f.jpg  \n",
            " extracting: train/-182-49---fire_jpg.rf.cc4581c14dd251292dff1d5d5d8e89f5.jpg  \n",
            " extracting: train/-182-49---fire_jpg.rf.f63a1b1c2d99a824780737d8f4ad7812.jpg  \n",
            " extracting: train/-182-50---fire_jpg.rf.324782d9e938536ce7b29c9e7d37612a.jpg  \n",
            " extracting: train/-182-50---fire_jpg.rf.3bee3ac9377c3f3c003f506c4934bf18.jpg  \n",
            " extracting: train/-182-50---fire_jpg.rf.421c9f2457439b2107c1e4baf81fb215.jpg  \n",
            " extracting: train/-182-51---fire_jpg.rf.5c8ef8f8547ebe4cf2ad87daeea829da.jpg  \n",
            " extracting: train/-182-51---fire_jpg.rf.c36228799d5eb3062e0d2cc2af2382f6.jpg  \n",
            " extracting: train/-182-51---fire_jpg.rf.da0d2d32675de237576a32ca378f2cf1.jpg  \n",
            " extracting: train/-182-52---fire_jpg.rf.64f93875fe8f1511881db29691d2b1ca.jpg  \n",
            " extracting: train/-182-52---fire_jpg.rf.ac4873da2d0e28e2808ead65ecee2134.jpg  \n",
            " extracting: train/-182-52---fire_jpg.rf.fdffe40aa49145fd8e215d14a0c29bdd.jpg  \n",
            " extracting: train/-182-53---fire_jpg.rf.a3f43fbb5c2ad925b76f1b286418d934.jpg  \n",
            " extracting: train/-182-53---fire_jpg.rf.b2cf273abd85706fc32bb73f8fc75500.jpg  \n",
            " extracting: train/-182-53---fire_jpg.rf.d1ba7d89a55602132d21eedc2551b595.jpg  \n",
            " extracting: train/-182-55---fire_jpg.rf.355541e88ff6ce5433450f533d78d165.jpg  \n",
            " extracting: train/-182-55---fire_jpg.rf.dada7b0fa72be34ac0f51d87e776852e.jpg  \n",
            " extracting: train/-182-55---fire_jpg.rf.fbc06a3aa975151c042c006126148174.jpg  \n",
            " extracting: train/-182-56---fire_jpg.rf.2e877c40283b7abf4c5b2c76225f780b.jpg  \n",
            " extracting: train/-182-56---fire_jpg.rf.d45dbee8fee402421778785b0482bc77.jpg  \n",
            " extracting: train/-182-56---fire_jpg.rf.e639100f3cfc9c0b1d71213d585679c4.jpg  \n",
            " extracting: train/-182-57---fire_jpg.rf.02f1ec5c1970b134396c3880c12bc9f2.jpg  \n",
            " extracting: train/-182-57---fire_jpg.rf.6f723f0b1bc30efaea3c182a76af5785.jpg  \n",
            " extracting: train/-182-57---fire_jpg.rf.b3ee4978a19a56d24514ed39fbcb9711.jpg  \n",
            " extracting: train/-182-58---fire_jpg.rf.11b74c4936321e8aa28e4dcb47c62286.jpg  \n",
            " extracting: train/-182-58---fire_jpg.rf.a9686750cc15d46ba8ff626aa7b223b5.jpg  \n",
            " extracting: train/-182-58---fire_jpg.rf.d71f839a32b12ede43e9f54958831ddf.jpg  \n",
            " extracting: train/-182-59---fire_jpg.rf.2dac45846ca81423afc33eba49b889b9.jpg  \n",
            " extracting: train/-182-59---fire_jpg.rf.f2c7a58619c71f207b49637e55093c68.jpg  \n",
            " extracting: train/-182-59---fire_jpg.rf.fe3fef9aa9a68ce84f4d02e23db59d4f.jpg  \n",
            " extracting: train/-183-40---fire_jpg.rf.1090b2b4229810defa399a921720c8a5.jpg  \n",
            " extracting: train/-183-40---fire_jpg.rf.64049c984b537cd9b14c837a3397a35f.jpg  \n",
            " extracting: train/-183-40---fire_jpg.rf.e9dfc0fac1b46ffae88c0afa419f0925.jpg  \n",
            " extracting: train/-183-41---fire_jpg.rf.2d9925fd582b96d01ef6e34746a50aea.jpg  \n",
            " extracting: train/-183-41---fire_jpg.rf.ca336d0bd35402710a4d7394a905590d.jpg  \n",
            " extracting: train/-183-41---fire_jpg.rf.e7b2e20d3938f8ec6dafde2a1b773806.jpg  \n",
            " extracting: train/-183-42---fire_jpg.rf.1d0b9bdfc10c2e1e867d7c1218db257a.jpg  \n",
            " extracting: train/-183-42---fire_jpg.rf.7234869ae7af6d1d9438f940dbefc19a.jpg  \n",
            " extracting: train/-183-42---fire_jpg.rf.c037ec9fec1c1689a6c731e7000c1e8e.jpg  \n",
            " extracting: train/-183-43---fire_jpg.rf.119fbcfafa03bb92be03164de3108fd3.jpg  \n",
            " extracting: train/-183-43---fire_jpg.rf.93ac43af0fb87e74218b8ace7341a8a9.jpg  \n",
            " extracting: train/-183-43---fire_jpg.rf.e30b666be6b95fd6f50aadde3a2e24c7.jpg  \n",
            " extracting: train/-183-45---fire_jpg.rf.626d73a27e7d0a57f864fc54fdc68852.jpg  \n",
            " extracting: train/-183-45---fire_jpg.rf.7c88217235b3fa1104f1b57b81b0bfc0.jpg  \n",
            " extracting: train/-183-45---fire_jpg.rf.acb14ed6638f3ae22aa92247a24e3c58.jpg  \n",
            " extracting: train/-183-46---fire_jpg.rf.017dc96a49dfd7906f656ec9cec12f26.jpg  \n",
            " extracting: train/-183-46---fire_jpg.rf.14c3f5bacce78482035b4580c96ad408.jpg  \n",
            " extracting: train/-183-46---fire_jpg.rf.b64f59da42ee7e9ef3da0d255cbacc8c.jpg  \n",
            " extracting: train/-183-47---fire_jpg.rf.a2e0ad4d84774849d214adae990829eb.jpg  \n",
            " extracting: train/-183-47---fire_jpg.rf.e74579932fb29194b11c91cc15b6e793.jpg  \n",
            " extracting: train/-183-47---fire_jpg.rf.f98124b4f6d564f93d37bdeca11b7676.jpg  \n",
            " extracting: train/-183-48---fire_jpg.rf.00dc99c5ca1042619430496237c9a9e9.jpg  \n",
            " extracting: train/-183-48---fire_jpg.rf.6baa5ba8095843dac0082cdef1f323ee.jpg  \n",
            " extracting: train/-183-48---fire_jpg.rf.8a07785e19f0e84701d7f093d16ca109.jpg  \n",
            " extracting: train/-183-60---fire_jpg.rf.4645164c27e41899fbcd06e1285d221f.jpg  \n",
            " extracting: train/-183-60---fire_jpg.rf.94d189eb7a52d98a5b2e11a3aa02a625.jpg  \n",
            " extracting: train/-183-60---fire_jpg.rf.bea85010db706a5755427e29d35e53aa.jpg  \n",
            " extracting: train/-183-61---fire_jpg.rf.002bbb8c89fc7a1457085281540a74ee.jpg  \n",
            " extracting: train/-183-61---fire_jpg.rf.005442aafbb117a5b130e417a4c81bb4.jpg  \n",
            " extracting: train/-183-61---fire_jpg.rf.2a6d9a4287d20325c3c19e6528b948d8.jpg  \n",
            " extracting: train/-183-63---fire_jpg.rf.2e443ea5db339cee00b452fcd18fa046.jpg  \n",
            " extracting: train/-183-63---fire_jpg.rf.b24ae6b3dac3bb0e6c7c7e8551b49628.jpg  \n",
            " extracting: train/-183-63---fire_jpg.rf.ded576d3affb03ec08324dc5d1ea00a6.jpg  \n",
            " extracting: train/-183-73---fire_jpg.rf.0557cb2ec68fd774938e7f5916f65777.jpg  \n",
            " extracting: train/-183-73---fire_jpg.rf.1bddf43990881473b377a45927f6064c.jpg  \n",
            " extracting: train/-183-73---fire_jpg.rf.df670f8b25e94574d47c74d40212ed17.jpg  \n",
            " extracting: train/-183-74---fire_jpg.rf.154775ae68babb7b3b6f279f983c3f87.jpg  \n",
            " extracting: train/-183-74---fire_jpg.rf.7e802acde2b2f4a3bff5803ade7282a0.jpg  \n",
            " extracting: train/-183-74---fire_jpg.rf.d1e9c557d9c61d50b97316fd1e12f173.jpg  \n",
            " extracting: train/-183-75---fire_jpg.rf.d1f5125573479ab23d14a8a3708bff01.jpg  \n",
            " extracting: train/-183-75---fire_jpg.rf.df7ad04e09a2158dd862c0665ccf98e1.jpg  \n",
            " extracting: train/-183-75---fire_jpg.rf.f65cb635a32975c561a52198e064a4e6.jpg  \n",
            " extracting: train/-184-0---fire_jpg.rf.281c13614b006c3b54f64577c3ceb8d2.jpg  \n",
            " extracting: train/-184-0---fire_jpg.rf.a1694fdbfb4ce109a4f73dac7c5f52d7.jpg  \n",
            " extracting: train/-184-0---fire_jpg.rf.dc5e5dceb32ded685e7082d81b007447.jpg  \n",
            " extracting: train/-184-1---fire_jpg.rf.07135409dc09486918bd22b142478f2f.jpg  \n",
            " extracting: train/-184-1---fire_jpg.rf.51dbfc90f2e36c0a758f0269822c6416.jpg  \n",
            " extracting: train/-184-1---fire_jpg.rf.b82b759b228268656a89cb6f35c5dd36.jpg  \n",
            " extracting: train/-184-18---fire_jpg.rf.27e08455d3afcd9c9f9607c468a9f243.jpg  \n",
            " extracting: train/-184-18---fire_jpg.rf.7e2c55b22af269ba91c5a7ec6bff403e.jpg  \n",
            " extracting: train/-184-18---fire_jpg.rf.f01c9d0079406d51646c1f65f95ad8b0.jpg  \n",
            " extracting: train/-184-19---fire_jpg.rf.1c6a87357f892e12f91599ef9e02b350.jpg  \n",
            " extracting: train/-184-19---fire_jpg.rf.a83bb2009e20f70b74a08c7263e08472.jpg  \n",
            " extracting: train/-184-19---fire_jpg.rf.fdb3499db69b8d722b8ac8c7c05fdc4b.jpg  \n",
            " extracting: train/-184-2---fire_jpg.rf.21501d33cb3786685c4e8629c9bce0b9.jpg  \n",
            " extracting: train/-184-2---fire_jpg.rf.284b367906e1dc1640cb727db7b23b0e.jpg  \n",
            " extracting: train/-184-2---fire_jpg.rf.2e8b56167eac0364da9ae3106c8a04c2.jpg  \n",
            " extracting: train/-184-22---fire_jpg.rf.57e66f235bfde2c6e002b41c14378cb6.jpg  \n",
            " extracting: train/-184-22---fire_jpg.rf.96cd01ec6682a5a516dba93a4c723df0.jpg  \n",
            " extracting: train/-184-22---fire_jpg.rf.972e0158ac867fb60ab14693b7394f55.jpg  \n",
            " extracting: train/-184-24---fire_jpg.rf.72b91e9ca2274b4608a02157fe3091f6.jpg  \n",
            " extracting: train/-184-24---fire_jpg.rf.a03fdbf63f33b1979614c0f63c46922c.jpg  \n",
            " extracting: train/-184-24---fire_jpg.rf.cee1b6104e897058bca767f72caadf0b.jpg  \n",
            " extracting: train/-184-25---fire_jpg.rf.171b7292b07fe5a737712de4a6ed4b72.jpg  \n",
            " extracting: train/-184-25---fire_jpg.rf.1d38fd94b052e70c87453f6ed7baaed3.jpg  \n",
            " extracting: train/-184-25---fire_jpg.rf.828efa17554449edaa11cf99e91fc7c9.jpg  \n",
            " extracting: train/-184-3---fire_jpg.rf.cffd07c18da5ba6fa84fc4a86b8dcf6f.jpg  \n",
            " extracting: train/-184-3---fire_jpg.rf.e4038e46859cd522477f7ea48b8dbe33.jpg  \n",
            " extracting: train/-184-3---fire_jpg.rf.f60d992d1ef5460f4a5ab5ed78d95889.jpg  \n",
            " extracting: train/-184-34---fire_jpg.rf.3aac7b540c40885a73382a2df3f46481.jpg  \n",
            " extracting: train/-184-34---fire_jpg.rf.c3f986f867fe37420d0aa640c0dd944d.jpg  \n",
            " extracting: train/-184-34---fire_jpg.rf.d47e253a42c8f13cebfe8aa7aae5119b.jpg  \n",
            " extracting: train/-184-35---fire_jpg.rf.033fdffc8fdafff94089a030dc661c21.jpg  \n",
            " extracting: train/-184-35---fire_jpg.rf.b9ca31837e8d9601084fa7ae3f707e9c.jpg  \n",
            " extracting: train/-184-35---fire_jpg.rf.e888c398ee60a97a2258cbd2179eebbe.jpg  \n",
            " extracting: train/-184-36---fire_jpg.rf.a939f373c57f48717c3271b49aab3128.jpg  \n",
            " extracting: train/-184-36---fire_jpg.rf.bdcf8481e511a4b0f3ec9f348a4301f3.jpg  \n",
            " extracting: train/-184-36---fire_jpg.rf.fd160bc8d2ce6886fdf34922da7af3c3.jpg  \n",
            " extracting: train/-184-38---fire_jpg.rf.35207a50fc28ee029dd91e6af1e81466.jpg  \n",
            " extracting: train/-184-38---fire_jpg.rf.63f60e0640af79e25d2b8b1a60d15886.jpg  \n",
            " extracting: train/-184-38---fire_jpg.rf.8c5262bbf0ee5ab62447bbbb82dc64b3.jpg  \n",
            " extracting: train/-184-39---fire_jpg.rf.49325ff9ad519a51febbebf034a629c3.jpg  \n",
            " extracting: train/-184-39---fire_jpg.rf.897bd425ec39a648a5233380fdb6fa52.jpg  \n",
            " extracting: train/-184-39---fire_jpg.rf.fd7b1e3b829c2c4ea641d6c46a33e013.jpg  \n",
            " extracting: train/-184-41---fire_jpg.rf.7eb85fe01b891c5e8acbc876c0f407ce.jpg  \n",
            " extracting: train/-184-41---fire_jpg.rf.90521d915e672a11fa1a711804652f0c.jpg  \n",
            " extracting: train/-184-41---fire_jpg.rf.b58c155e600579a6c8a1e7ddd2190d8a.jpg  \n",
            " extracting: train/-184-42---fire_jpg.rf.6313ba4213e911b1926b58ef7c4672ba.jpg  \n",
            " extracting: train/-184-42---fire_jpg.rf.7f8ebb9ea107119c869bb1caaebb19d1.jpg  \n",
            " extracting: train/-184-42---fire_jpg.rf.c51542bd071eea5e2e737f8954d451de.jpg  \n",
            " extracting: train/-184-44---fire_jpg.rf.37ad6cdaf77ff9422f26fd0d69c55b26.jpg  \n",
            " extracting: train/-184-44---fire_jpg.rf.8baebc65c13ea7a5604c737dac3aafa8.jpg  \n",
            " extracting: train/-184-44---fire_jpg.rf.d3a977d77fee10dccdc812040a4d976a.jpg  \n",
            " extracting: train/-184-53---fire_jpg.rf.2de2321f69b81448984790110925cf24.jpg  \n",
            " extracting: train/-184-53---fire_jpg.rf.5b1e3b5c078310a0d2ca5438af2ec7d9.jpg  \n",
            " extracting: train/-184-53---fire_jpg.rf.7721e30a9982f6434e872115ae962d64.jpg  \n",
            " extracting: train/-184-54---fire_jpg.rf.7d62fa462948272c0e3017f553c3d1bf.jpg  \n",
            " extracting: train/-184-54---fire_jpg.rf.a46603dad56d61e5691df63a43dd21ce.jpg  \n",
            " extracting: train/-184-54---fire_jpg.rf.ef20b5b162fa2a1a9a899782064025f4.jpg  \n",
            " extracting: train/-184-55---fire_jpg.rf.242d3b3694c2009871465035758b9bce.jpg  \n",
            " extracting: train/-184-55---fire_jpg.rf.71ebdb2bff5de82253b19feb735770cb.jpg  \n",
            " extracting: train/-184-55---fire_jpg.rf.c0b5ac75e02f8d8c078cfcb04a529589.jpg  \n",
            " extracting: train/-184-59---fire_jpg.rf.6042e77950898329623576855116f9f1.jpg  \n",
            " extracting: train/-184-59---fire_jpg.rf.66b1aaafe9254939cbd4dd23be749461.jpg  \n",
            " extracting: train/-184-59---fire_jpg.rf.a3d76012b407cbfc7f9b4cd67ef89f08.jpg  \n",
            " extracting: train/-184-60---fire_jpg.rf.1ea77ac323f1e0da451c5791c570f268.jpg  \n",
            " extracting: train/-184-60---fire_jpg.rf.22984b1c3846f17741c4ef903b3092e7.jpg  \n",
            " extracting: train/-184-60---fire_jpg.rf.e349a7b8de6faeeb5b817b89a75a2ca4.jpg  \n",
            " extracting: train/-184-61---fire_jpg.rf.1f1cbe086de15ab1fbfc596f01d11fc1.jpg  \n",
            " extracting: train/-184-61---fire_jpg.rf.619b1dc0c4d216dcc969d459dfb8d936.jpg  \n",
            " extracting: train/-184-61---fire_jpg.rf.99417cf4d6e9f65883a0399f05ae0870.jpg  \n",
            " extracting: train/-184-63---fire_jpg.rf.7adb183f95f68b70ac5409e14e1e5bf9.jpg  \n",
            " extracting: train/-184-63---fire_jpg.rf.f8131d90410594084b7a59cc0cff8e23.jpg  \n",
            " extracting: train/-184-63---fire_jpg.rf.fd1b0445891ab698d5c3ef6338e3c279.jpg  \n",
            " extracting: train/-186-78---fire_jpg.rf.f0d86006ac7c05e4d8e507e2bca8dca1.jpg  \n",
            " extracting: train/-186-78---fire_jpg.rf.f6f54025773f9e507437316467d47f3c.jpg  \n",
            " extracting: train/-186-78---fire_jpg.rf.f7906e0ee8ae766db363057008cdf83b.jpg  \n",
            " extracting: train/-186-79---fire_jpg.rf.626163c17f15940dd60257b61ff108da.jpg  \n",
            " extracting: train/-186-79---fire_jpg.rf.e9afa2b5bef4872920caf90d83e73a7f.jpg  \n",
            " extracting: train/-186-79---fire_jpg.rf.f4c08a6c7849143c09592689e0fe5a37.jpg  \n",
            " extracting: train/-186-80---fire_jpg.rf.8d59a5e767f877ed3e537c7de1dbb76e.jpg  \n",
            " extracting: train/-186-80---fire_jpg.rf.ad6396afcd42d71016ac865f4a4491e3.jpg  \n",
            " extracting: train/-186-80---fire_jpg.rf.d1f0ec82242976f59c7dbb74535c5460.jpg  \n",
            " extracting: train/-187-48---fire_jpg.rf.ad3bf2bc27239240a8f9945582dcc018.jpg  \n",
            " extracting: train/-187-48---fire_jpg.rf.c516ba3354c5a7774ca9786f4304d25a.jpg  \n",
            " extracting: train/-187-48---fire_jpg.rf.d570dffa8528bf3c7cd6bd2d92f5bc4b.jpg  \n",
            " extracting: train/-2-14---fire_jpg.rf.5275e617c4617ca68da85dfa36aa0eb0.jpg  \n",
            " extracting: train/-2-14---fire_jpg.rf.b3e292f404703c2e2a43511570570ebf.jpg  \n",
            " extracting: train/-2-14---fire_jpg.rf.c49fe5f44811db0a08a0554f35931818.jpg  \n",
            " extracting: train/-2-15---fire_jpg.rf.3a59ec5dc8e1115f8282b7a5c5b75e0f.jpg  \n",
            " extracting: train/-2-15---fire_jpg.rf.940e8afcb29ac86d0055ddcb9002bf37.jpg  \n",
            " extracting: train/-2-15---fire_jpg.rf.9ca92d4a0eae38605ac9c99209c54d20.jpg  \n",
            " extracting: train/-2-16---fire_jpg.rf.672b0d4dc2169e926008656f1549934f.jpg  \n",
            " extracting: train/-2-16---fire_jpg.rf.aaa9d9e42ee2c307e1bdb02450b1e3c3.jpg  \n",
            " extracting: train/-2-16---fire_jpg.rf.d810ea09852053f4953259715d4b4b0d.jpg  \n",
            " extracting: train/-2-17---fire_jpg.rf.1d56534e502603832f0dfaf2a278c431.jpg  \n",
            " extracting: train/-2-17---fire_jpg.rf.f0409e98de834ac5cb607d858373bfc1.jpg  \n",
            " extracting: train/-2-17---fire_jpg.rf.f197efacd1ef93bbde0dde930d04a479.jpg  \n",
            " extracting: train/-2-18---fire_jpg.rf.0d6ed924e11e2aeb159342e903f800d7.jpg  \n",
            " extracting: train/-2-18---fire_jpg.rf.807c0db22ca23d2788d1d8757e33cd7a.jpg  \n",
            " extracting: train/-2-18---fire_jpg.rf.dade8e2102a3d56f43a6affc830bbcd2.jpg  \n",
            " extracting: train/-2-20---fire_jpg.rf.8b5ea5cb4f2414e90724a3fd55091cb6.jpg  \n",
            " extracting: train/-2-20---fire_jpg.rf.d48a779612d0a0f3803b1dafd007c650.jpg  \n",
            " extracting: train/-2-20---fire_jpg.rf.fbcace3ab44e3b868d9c3376441d4639.jpg  \n",
            " extracting: train/-2-21---fire_jpg.rf.058ae521ca47e56799fda4cf4e01bffa.jpg  \n",
            " extracting: train/-2-21---fire_jpg.rf.1be4291c87ee1b4c6f7840ef4da56fbf.jpg  \n",
            " extracting: train/-2-21---fire_jpg.rf.aa2de34e9652340ab8a5a86f4ff10c84.jpg  \n",
            " extracting: train/-2-24---fire_jpg.rf.83724e88410f22c04db10775d57b16d8.jpg  \n",
            " extracting: train/-2-24---fire_jpg.rf.c26296ed24d0a1b5a5bf450bf267621b.jpg  \n",
            " extracting: train/-2-24---fire_jpg.rf.d2a5f540818f3301e0e1cdac8ab847af.jpg  \n",
            " extracting: train/-2-25---fire_jpg.rf.6fcb5beb1014442ba892d1870be26667.jpg  \n",
            " extracting: train/-2-25---fire_jpg.rf.99064f36434320f6bd3793b85bde201d.jpg  \n",
            " extracting: train/-2-25---fire_jpg.rf.db080603d8a8a46aa7fd80554e1d7859.jpg  \n",
            " extracting: train/-2-27---fire_jpg.rf.7ba73a8670a9ab558f41fe18eebcd654.jpg  \n",
            " extracting: train/-2-27---fire_jpg.rf.a16e4a0b0611487bce0235ee8610b5e9.jpg  \n",
            " extracting: train/-2-27---fire_jpg.rf.dd2b7ff72136fee5e7a2eae9d600b584.jpg  \n",
            " extracting: train/-2-28---fire_jpg.rf.6f6d5f75a9cbe22d4be4fcd515daecda.jpg  \n",
            " extracting: train/-2-28---fire_jpg.rf.90f494b76ab3450322657e3caf543b8a.jpg  \n",
            " extracting: train/-2-28---fire_jpg.rf.c015dd2713ebc9d020eb8e188a0bd3b5.jpg  \n",
            " extracting: train/-2-31---fire_jpg.rf.23971ecb2be974bf446f5fd5b911ad93.jpg  \n",
            " extracting: train/-2-31---fire_jpg.rf.752f774de629eec397e3b58e6e1613b3.jpg  \n",
            " extracting: train/-2-31---fire_jpg.rf.cbbf96ceae3d8653a756b2fb3f329edb.jpg  \n",
            " extracting: train/-2-33---fire_jpg.rf.319910fa21288477b6ed8fae7e5ebd23.jpg  \n",
            " extracting: train/-2-33---fire_jpg.rf.a8f1fe5dc1f0b19e12e3e306b0628d26.jpg  \n",
            " extracting: train/-2-33---fire_jpg.rf.b4963e82b0f5b8df1bd5dc07a52a2090.jpg  \n",
            " extracting: train/-2-34---fire_jpg.rf.0d2965975590d838cfde572d8513888f.jpg  \n",
            " extracting: train/-2-34---fire_jpg.rf.16b3932418db04fc0d1141fb1ff8dcf2.jpg  \n",
            " extracting: train/-2-34---fire_jpg.rf.7b93637bfbf1728fe5f402426bfe4ce7.jpg  \n",
            " extracting: train/-2-35---fire_jpg.rf.2d56cf1d706e2ad7193d52f103eb2ffe.jpg  \n",
            " extracting: train/-2-35---fire_jpg.rf.d195ec66a3820dceef1007442fc6ae13.jpg  \n",
            " extracting: train/-2-35---fire_jpg.rf.ee2cf4a83c61ff2ecc17fea8aaaea545.jpg  \n",
            " extracting: train/-2-38---fire_jpg.rf.12bfabef7791545d970d959b846a6c9b.jpg  \n",
            " extracting: train/-2-38---fire_jpg.rf.90b4274c7ac806439198ce097ed3cc94.jpg  \n",
            " extracting: train/-2-38---fire_jpg.rf.ebf4c7711d413a571261cab83b46f088.jpg  \n",
            " extracting: train/-2-39---fire_jpg.rf.4907ddc7d3cb9a3d41568540eb87e703.jpg  \n",
            " extracting: train/-2-39---fire_jpg.rf.5f815543ed1025f1ef5dd5b287441ded.jpg  \n",
            " extracting: train/-2-39---fire_jpg.rf.cc1c36a19853667d83c0f817e6522658.jpg  \n",
            " extracting: train/-2-42---fire_jpg.rf.c3bee2536ab70a1381d34dfb6976652d.jpg  \n",
            " extracting: train/-2-42---fire_jpg.rf.ed305b0296fb63b95e531e2e8a46475a.jpg  \n",
            " extracting: train/-2-42---fire_jpg.rf.ffdc70e19ac49d45539aad623ec1a713.jpg  \n",
            " extracting: train/-2-44---fire_jpg.rf.6fdf3db4d31b5868977aa8b6de497e01.jpg  \n",
            " extracting: train/-2-44---fire_jpg.rf.d7818d4fec5b722d47bd31722c33cf83.jpg  \n",
            " extracting: train/-2-44---fire_jpg.rf.e68165d11d3ce3055c8cd0f09b63da75.jpg  \n",
            " extracting: train/-2-46---fire_jpg.rf.077de272cb1aeccfc3a069f9a5f48c63.jpg  \n",
            " extracting: train/-2-46---fire_jpg.rf.136efda8f631fc582b2d01e84da39c7b.jpg  \n",
            " extracting: train/-2-46---fire_jpg.rf.5235d15701e93195c15ca4eb8ae09600.jpg  \n",
            " extracting: train/-2-90---fire_jpg.rf.72b42c8bdf61d8779d64eef3cc3a87ba.jpg  \n",
            " extracting: train/-2-90---fire_jpg.rf.b6afe0bdd47dad4c65732fb48f922a15.jpg  \n",
            " extracting: train/-2-90---fire_jpg.rf.b9b44789d424087f4bdc1b373cf9fca2.jpg  \n",
            " extracting: train/-2-92---fire_jpg.rf.4a74bcfb87c3b9128a4bac891735e80e.jpg  \n",
            " extracting: train/-2-92---fire_jpg.rf.7b08b97e393136302a658b78eae4fa78.jpg  \n",
            " extracting: train/-2-92---fire_jpg.rf.aa023bb5c6127d52fe2ea38510d66b19.jpg  \n",
            " extracting: train/-2-93---fire_jpg.rf.8db7b5374588c3f369e8816ac8686f0c.jpg  \n",
            " extracting: train/-2-93---fire_jpg.rf.c2cbc56fc0a612267e6f9d3d9b3d7538.jpg  \n",
            " extracting: train/-2-93---fire_jpg.rf.d7c65895684daa59c2adf291fe68e1bc.jpg  \n",
            " extracting: train/-2-95---fire_jpg.rf.58ad2683347b063dbdce71c220e5b242.jpg  \n",
            " extracting: train/-2-95---fire_jpg.rf.c5622ad948fd86d21a1b724010d48962.jpg  \n",
            " extracting: train/-2-95---fire_jpg.rf.c83c83c5cab7ba72b326f173358a1220.jpg  \n",
            " extracting: train/-2-96---fire_jpg.rf.6140c43f470dbcc6ec733b9bf1e2caaa.jpg  \n",
            " extracting: train/-2-96---fire_jpg.rf.954f79a1fc929db5acc10b319a72e0e8.jpg  \n",
            " extracting: train/-2-96---fire_jpg.rf.f9f02067359605cff6317a166f280c38.jpg  \n",
            " extracting: train/-2-97---fire_jpg.rf.6c3b1499fa881230379684922b73b3ce.jpg  \n",
            " extracting: train/-2-97---fire_jpg.rf.b26a42978023901a8e3c3661965e2064.jpg  \n",
            " extracting: train/-2-97---fire_jpg.rf.c3d31619efc73cfa0b6fc42efc73bedb.jpg  \n",
            " extracting: train/-20-0---fire_jpg.rf.92ec3c53e07f8e5e36534b6e66abc9d2.jpg  \n",
            " extracting: train/-20-0---fire_jpg.rf.96a8daadcd76274b5d15ebd992fe9e74.jpg  \n",
            " extracting: train/-20-0---fire_jpg.rf.c1cd1b153ad4b4374cacb25e233f7c3b.jpg  \n",
            " extracting: train/-20-1---fire_jpg.rf.402186f744b83aa6fca58ad641c41092.jpg  \n",
            " extracting: train/-20-1---fire_jpg.rf.ce2ef0cd17ab5b061e5ae4b210e675f6.jpg  \n",
            " extracting: train/-20-1---fire_jpg.rf.d1ad8c07a1d616c268e2bb39e3c6ed5c.jpg  \n",
            " extracting: train/-20-2---fire_jpg.rf.40b51149402c4067226ecf09e20faf94.jpg  \n",
            " extracting: train/-20-2---fire_jpg.rf.439c8ccb95a757e3e1dec4ed967261ba.jpg  \n",
            " extracting: train/-20-2---fire_jpg.rf.6b86b3227159f85935fcd04308c02fbe.jpg  \n",
            " extracting: train/-20-3---fire_jpg.rf.78480d4b100dd56165d60cc3186912d3.jpg  \n",
            " extracting: train/-20-3---fire_jpg.rf.bf17a042951f7ca2483fd2de8f9eb3a7.jpg  \n",
            " extracting: train/-20-3---fire_jpg.rf.eb03bcf2372049b7bb2413b70d4f0177.jpg  \n",
            " extracting: train/-20-4---fire_jpg.rf.805ebe31eb2c2488faf8dc22eafb5bb1.jpg  \n",
            " extracting: train/-20-4---fire_jpg.rf.98e1b202dd493cc08966c8962b0e8fc0.jpg  \n",
            " extracting: train/-20-4---fire_jpg.rf.cb1e4fff5ae03806b3a5a81bdcba0b35.jpg  \n",
            " extracting: train/-20-5---fire_jpg.rf.b5164a0dcab70193878f5f42850d0e2d.jpg  \n",
            " extracting: train/-20-5---fire_jpg.rf.eb0aa84040c4b5a839a9aeff1188e055.jpg  \n",
            " extracting: train/-20-5---fire_jpg.rf.f508c6c4c6ad69c6dcdab07175c8bceb.jpg  \n",
            " extracting: train/-21-65---fire_jpg.rf.01c9da3a9ae80d67e3e4c8b4c9c606f4.jpg  \n",
            " extracting: train/-21-65---fire_jpg.rf.ad3b7f0c658490b937fd7a96b5abda82.jpg  \n",
            " extracting: train/-21-65---fire_jpg.rf.cf33959256fae5bfb7f302214dfba149.jpg  \n",
            " extracting: train/-21-66---fire_jpg.rf.54cddf8bdc32b46f2443f8fa55ddc759.jpg  \n",
            " extracting: train/-21-66---fire_jpg.rf.7f314839e10c3000e2f6e37124bb7d2f.jpg  \n",
            " extracting: train/-21-66---fire_jpg.rf.eaca25734c2a8530a3001e8fc850ae32.jpg  \n",
            " extracting: train/-21-67---fire_jpg.rf.08d65aaf35d681e09b2aa7edab9af7bc.jpg  \n",
            " extracting: train/-21-67---fire_jpg.rf.22f21504b7875e45afb7d13a5496ca78.jpg  \n",
            " extracting: train/-21-67---fire_jpg.rf.29c87a2bc06498a0c59a5a2803a3e670.jpg  \n",
            " extracting: train/-21-68---fire_jpg.rf.23b902f223183a926e9e9001102e2a14.jpg  \n",
            " extracting: train/-21-68---fire_jpg.rf.25f5da220f9e5c0760aa033228008edb.jpg  \n",
            " extracting: train/-21-68---fire_jpg.rf.710968b3354d94750d779531ce4db0c8.jpg  \n",
            " extracting: train/-21-69---fire_jpg.rf.71a8679e2881215b60283c1fe4d16ea0.jpg  \n",
            " extracting: train/-21-69---fire_jpg.rf.b730fbdab27611876a0afc809d12739b.jpg  \n",
            " extracting: train/-21-69---fire_jpg.rf.e64018264975ec2d51c3aea6ff2c1a80.jpg  \n",
            " extracting: train/-21-70---fire_jpg.rf.07ba4cced957260eafd7190199207d41.jpg  \n",
            " extracting: train/-21-70---fire_jpg.rf.1a78e9ba2fb1562351e6f466686cfb0f.jpg  \n",
            " extracting: train/-21-70---fire_jpg.rf.9b17047612a4c5bfa4f81aa93765f2dc.jpg  \n",
            " extracting: train/-21-71---fire_jpg.rf.817d3897badd9cbfc7ab4df3bcfb83ef.jpg  \n",
            " extracting: train/-21-71---fire_jpg.rf.cc3ec3d83f23f3ce0419564774fc537c.jpg  \n",
            " extracting: train/-21-71---fire_jpg.rf.cc5fd1f685d00f5784dacabc33989943.jpg  \n",
            " extracting: train/-21-72---fire_jpg.rf.2d9948758c989531786638932e14dfc8.jpg  \n",
            " extracting: train/-21-72---fire_jpg.rf.55922c64e324a4d15f0b465f5f6094b5.jpg  \n",
            " extracting: train/-21-72---fire_jpg.rf.7a94f04a5c019c5099f4df90a9c16c5d.jpg  \n",
            " extracting: train/-21-73---fire_jpg.rf.a4e1b7e9f31ca25a5dbd040782175a56.jpg  \n",
            " extracting: train/-21-73---fire_jpg.rf.db5ee4481c5722d7bebd2fc8b84269dc.jpg  \n",
            " extracting: train/-21-73---fire_jpg.rf.f2032338e68e86a3320a3def0c263c3f.jpg  \n",
            " extracting: train/-21-74---fire_jpg.rf.6ddb0631e598e11288542cf4cdfcef63.jpg  \n",
            " extracting: train/-21-74---fire_jpg.rf.e14e685a47d5ed3fb0d50a73cfb614d3.jpg  \n",
            " extracting: train/-21-74---fire_jpg.rf.e73d37c4103d3293cd4aea683119a1d0.jpg  \n",
            " extracting: train/-21-75---fire_jpg.rf.6f36507c4949d85e6e6696accf21aa96.jpg  \n",
            " extracting: train/-21-75---fire_jpg.rf.fcecf588a27a66c837bc21a18bd4bae3.jpg  \n",
            " extracting: train/-21-75---fire_jpg.rf.fd8af802e2b7748caf1ff0ff08b64a03.jpg  \n",
            " extracting: train/-21-76---fire_jpg.rf.193eb3d33bd123268ab21c6fe029baaf.jpg  \n",
            " extracting: train/-21-76---fire_jpg.rf.5abfb581cf246bccf4d20b341dae3fbb.jpg  \n",
            " extracting: train/-21-76---fire_jpg.rf.8dc7c5dce7db3d6cff0a6d30f4a7918b.jpg  \n",
            " extracting: train/-21-77---fire_jpg.rf.4c9870f0b5216e2ab06f6b9719c14e32.jpg  \n",
            " extracting: train/-21-77---fire_jpg.rf.63a2fffbc28af4722d77de0d044d439a.jpg  \n",
            " extracting: train/-21-77---fire_jpg.rf.d94a39b053351d13f12dadbc8d174d89.jpg  \n",
            " extracting: train/-21-78---fire_jpg.rf.44a247c6844a77e851c6c4888d7ec421.jpg  \n",
            " extracting: train/-21-78---fire_jpg.rf.5a58543bdb4514c4bbb0e986e199e5de.jpg  \n",
            " extracting: train/-21-78---fire_jpg.rf.85bb7b9cbe87f8e8cc1851769f70f184.jpg  \n",
            " extracting: train/-21-79---fire_jpg.rf.3264b07c5ae1ad26b2ea7601ada29180.jpg  \n",
            " extracting: train/-21-79---fire_jpg.rf.67c7e797fb5b3819027a657006c06772.jpg  \n",
            " extracting: train/-21-79---fire_jpg.rf.e0d4b6ae36c75230deb507308344ebac.jpg  \n",
            " extracting: train/-23-46---fire_jpg.rf.155da1b016336c4edda0fef730448e9d.jpg  \n",
            " extracting: train/-23-46---fire_jpg.rf.38d44f60965b63278c621359266cc837.jpg  \n",
            " extracting: train/-23-46---fire_jpg.rf.633984730dcde26fd8a438e717b1ea70.jpg  \n",
            " extracting: train/-23-47---fire_jpg.rf.4594c4f0d8f555404f4507736d168c71.jpg  \n",
            " extracting: train/-23-47---fire_jpg.rf.5675ca137f7e154063297ef829104c03.jpg  \n",
            " extracting: train/-23-47---fire_jpg.rf.e50a775f0aff4fc7a3d66ff8d506f728.jpg  \n",
            " extracting: train/-23-48---fire_jpg.rf.06d87c39cd1fce9b18a226fd68366b16.jpg  \n",
            " extracting: train/-23-48---fire_jpg.rf.9c9bb5672a5952178cf04a708ab721d0.jpg  \n",
            " extracting: train/-23-48---fire_jpg.rf.b64530879e34fac659ca6812c3f9803d.jpg  \n",
            " extracting: train/-23-49---fire_jpg.rf.23e331dc4843892c45f3cc5c48baef0c.jpg  \n",
            " extracting: train/-23-49---fire_jpg.rf.273a0ff6d5c24b1420c684dae99949b2.jpg  \n",
            " extracting: train/-23-49---fire_jpg.rf.8e1aa9dcb96e8b02076812e0303fb918.jpg  \n",
            " extracting: train/-23-62---fire_jpg.rf.75858f57f8466fc51cff9cb7a27a427d.jpg  \n",
            " extracting: train/-23-62---fire_jpg.rf.af29e0235afeb2e07eedc7d038fe88ce.jpg  \n",
            " extracting: train/-23-62---fire_jpg.rf.dda8b0063564094e40935c5f9a84dc78.jpg  \n",
            " extracting: train/-23-63---fire_jpg.rf.27b46a6f1218ecd7ef1a70cc6d4a7906.jpg  \n",
            " extracting: train/-23-63---fire_jpg.rf.7777f7a1941750252b8eb6b6168d6e46.jpg  \n",
            " extracting: train/-23-63---fire_jpg.rf.ac57f96e23f917529f390197b178fb5d.jpg  \n",
            " extracting: train/-23-64---fire_jpg.rf.74bd70245bd48dfc5330d19286aaee79.jpg  \n",
            " extracting: train/-23-64---fire_jpg.rf.82f10f4526c887f95e47340dab5f1f6a.jpg  \n",
            " extracting: train/-23-64---fire_jpg.rf.e8fe8d18b19146f7c6e35a5c71ae50d8.jpg  \n",
            " extracting: train/-26-100---fire_jpg.rf.05b59375aa7d2bf8496b4eb81eccedc6.jpg  \n",
            " extracting: train/-26-100---fire_jpg.rf.52c6cc2a26587ee1be54ef6f2b7a2cb0.jpg  \n",
            " extracting: train/-26-100---fire_jpg.rf.e3552f56345263660163f517407c422a.jpg  \n",
            " extracting: train/-26-101---fire_jpg.rf.2cf43c4c34c56f018c558c22139a83ac.jpg  \n",
            " extracting: train/-26-101---fire_jpg.rf.2d6a57bf233822186e79385725bcd72a.jpg  \n",
            " extracting: train/-26-101---fire_jpg.rf.c8d23fce00c050fec723bd4255ba65d0.jpg  \n",
            " extracting: train/-26-102---fire_jpg.rf.723bc1bc13358b1aeb2792da88f2ae68.jpg  \n",
            " extracting: train/-26-102---fire_jpg.rf.8a1b758b4a5dc660930f61ae98135676.jpg  \n",
            " extracting: train/-26-102---fire_jpg.rf.cea873667ed7d2465a1da53481106f81.jpg  \n",
            " extracting: train/-26-104---fire_jpg.rf.4acdecb806735972e0100d8b6478f7f5.jpg  \n",
            " extracting: train/-26-104---fire_jpg.rf.5c045e11a5de11063a637f3d87ea36c0.jpg  \n",
            " extracting: train/-26-104---fire_jpg.rf.771bf7780a242e9842fc1c797520f3a5.jpg  \n",
            " extracting: train/-26-105---fire_jpg.rf.27c1e73e786bc83914950a451689a258.jpg  \n",
            " extracting: train/-26-105---fire_jpg.rf.3b542999d68f7f0d4f605bce4207cbfa.jpg  \n",
            " extracting: train/-26-105---fire_jpg.rf.a3c18fc74ba29fd0d3cd1f0ef91d0457.jpg  \n",
            " extracting: train/-26-106---fire_jpg.rf.4a744f3b23c938194bcc833910d88157.jpg  \n",
            " extracting: train/-26-106---fire_jpg.rf.8afef5f546805cdfc639b7a71d29980d.jpg  \n",
            " extracting: train/-26-106---fire_jpg.rf.babfcf621decf37df2e10bc6434c723a.jpg  \n",
            " extracting: train/-26-107---fire_jpg.rf.7d87bfd7f6c5bcc66d00b06dad8f1267.jpg  \n",
            " extracting: train/-26-107---fire_jpg.rf.9106c575d3b014ab2b10eb7c93e67ef0.jpg  \n",
            " extracting: train/-26-107---fire_jpg.rf.c5d25f338aba9877ce872c8b5e30923b.jpg  \n",
            " extracting: train/-26-108---fire_jpg.rf.5655cdac688e86307eb0adbbfb75f089.jpg  \n",
            " extracting: train/-26-108---fire_jpg.rf.70c6c78fb41513cb099f5f93a42c3638.jpg  \n",
            " extracting: train/-26-108---fire_jpg.rf.dcd4685156e5a53a2457ac05ff380a1c.jpg  \n",
            " extracting: train/-26-20---fire_jpg.rf.06bc1d4650e82c613dd7bb7d727e03d5.jpg  \n",
            " extracting: train/-26-20---fire_jpg.rf.2bff1a85518e8644226616aeb16ecd26.jpg  \n",
            " extracting: train/-26-20---fire_jpg.rf.aaefe85d22c6cec3f347ccdf019eaced.jpg  \n",
            " extracting: train/-26-21---fire_jpg.rf.5837b2cf23b792ee04249eaee042e304.jpg  \n",
            " extracting: train/-26-21---fire_jpg.rf.652e866a417161ff9352f6ddb251ac00.jpg  \n",
            " extracting: train/-26-21---fire_jpg.rf.87546e7f150a96ea91f3ab7e71a13f82.jpg  \n",
            " extracting: train/-26-24---fire_jpg.rf.6e44a84a0e8f4e770c109a3a8815123c.jpg  \n",
            " extracting: train/-26-24---fire_jpg.rf.97bfcd01a78c985eae696cae49ba5d6d.jpg  \n",
            " extracting: train/-26-24---fire_jpg.rf.d535098d3d9238ec487cc85250b0a637.jpg  \n",
            " extracting: train/-26-25---fire_jpg.rf.2ef4905e783eba65d7eda80b8e223566.jpg  \n",
            " extracting: train/-26-25---fire_jpg.rf.cc9b240408243475da3386d51bbb1e3a.jpg  \n",
            " extracting: train/-26-25---fire_jpg.rf.f04a6ce79960e3ba1355e94a592a9ae4.jpg  \n",
            " extracting: train/-26-26---fire_jpg.rf.bf26a6f2588a79d23dcb2414318ee92d.jpg  \n",
            " extracting: train/-26-26---fire_jpg.rf.c6fa204f439d65807f94ba8db50eea0d.jpg  \n",
            " extracting: train/-26-26---fire_jpg.rf.ee05598882e0d397694585f1b4270f35.jpg  \n",
            " extracting: train/-26-27---fire_jpg.rf.2d21de718600c866d3f86a2061dd692a.jpg  \n",
            " extracting: train/-26-27---fire_jpg.rf.906d398e37718671a2a845ed17d02778.jpg  \n",
            " extracting: train/-26-27---fire_jpg.rf.f40706f294b558e65b4a4c49db62364d.jpg  \n",
            " extracting: train/-26-28---fire_jpg.rf.64a824e9dd18989acd4f0b93a29f1ec7.jpg  \n",
            " extracting: train/-26-28---fire_jpg.rf.6d8c256f132cfb173127cb85710dcb36.jpg  \n",
            " extracting: train/-26-28---fire_jpg.rf.fc1bfe27176d6e03b0c6cba6cec79b77.jpg  \n",
            " extracting: train/-26-29---fire_jpg.rf.22aa4c5b77db76252e7b668dc9423aec.jpg  \n",
            " extracting: train/-26-29---fire_jpg.rf.7cbdcdf8698c2b115fe657d344a91454.jpg  \n",
            " extracting: train/-26-29---fire_jpg.rf.90b0bd070bfffb08c6db297bf1067137.jpg  \n",
            " extracting: train/-26-30---fire_jpg.rf.2d6f92e8b24b5fa17d166b6db287be17.jpg  \n",
            " extracting: train/-26-30---fire_jpg.rf.650292b04cda101d0d32c8f247409e9e.jpg  \n",
            " extracting: train/-26-30---fire_jpg.rf.e3b980f5874e191b6f1467504fd167b9.jpg  \n",
            " extracting: train/-26-32---fire_jpg.rf.4046bda6af00a733e826152e8e45c0c4.jpg  \n",
            " extracting: train/-26-32---fire_jpg.rf.61cb13ce36f5ad589b0f09bbf2a6f691.jpg  \n",
            " extracting: train/-26-32---fire_jpg.rf.8e7b62efca4576e9e031385deed9b429.jpg  \n",
            " extracting: train/-26-33---fire_jpg.rf.5e9a2c0b69686db341dbd5ff85d87417.jpg  \n",
            " extracting: train/-26-33---fire_jpg.rf.7cc279103098175027dcbe687fe98be8.jpg  \n",
            " extracting: train/-26-33---fire_jpg.rf.d315c093bb60d650c48060c4fa2bae49.jpg  \n",
            " extracting: train/-26-34---fire_jpg.rf.489f6a55b1b7b7e791191cc86b0c794f.jpg  \n",
            " extracting: train/-26-34---fire_jpg.rf.62757314691fd79cd42c8428857e4683.jpg  \n",
            " extracting: train/-26-34---fire_jpg.rf.a7e9b0c9a6b1c282c171702e9e5b37a5.jpg  \n",
            " extracting: train/-26-44---fire_jpg.rf.324336d30bc9665e5f0a39f186056fe2.jpg  \n",
            " extracting: train/-26-44---fire_jpg.rf.cfae2af57b40de0e69002ecafeb6cea9.jpg  \n",
            " extracting: train/-26-44---fire_jpg.rf.fe4a90938c7da2949868e12e7e5a39ca.jpg  \n",
            " extracting: train/-26-45---fire_jpg.rf.40d5dfc33c9ce9020ce96fe788935930.jpg  \n",
            " extracting: train/-26-45---fire_jpg.rf.e6d14d7268494a4ec040de1f20b0896b.jpg  \n",
            " extracting: train/-26-45---fire_jpg.rf.efdcdee073b78536332e30bba0549be0.jpg  \n",
            " extracting: train/-26-49---fire_jpg.rf.87f2900a74d1c5ca71505c3581cb842b.jpg  \n",
            " extracting: train/-26-49---fire_jpg.rf.a39f3cca4d1607fc4237f85408c34eb6.jpg  \n",
            " extracting: train/-26-49---fire_jpg.rf.b2a73f72de2e376c4a06c61c7302ee6c.jpg  \n",
            " extracting: train/-26-50---fire_jpg.rf.d05303e485542cd7711c96ec97faa61e.jpg  \n",
            " extracting: train/-26-50---fire_jpg.rf.e91989d29d0ff226b0b3e437523a0fc2.jpg  \n",
            " extracting: train/-26-50---fire_jpg.rf.f875de20a9dedb6c3de1499d8a251ba5.jpg  \n",
            " extracting: train/-26-51---fire_jpg.rf.4411231a803be9cc99d6ef1ba4fcccd7.jpg  \n",
            " extracting: train/-26-51---fire_jpg.rf.672d8c342a8891a721bb9bd8d79e979f.jpg  \n",
            " extracting: train/-26-51---fire_jpg.rf.b1a19e2dd2edebc19a301cc4b63b0e34.jpg  \n",
            " extracting: train/-26-52---fire_jpg.rf.27a28dbf23b79953cafb2a4df63bd1e3.jpg  \n",
            " extracting: train/-26-52---fire_jpg.rf.84374eb9e9395f532f737a36e3e5528b.jpg  \n",
            " extracting: train/-26-52---fire_jpg.rf.a9297839942ff129c70e89d5f36a74dd.jpg  \n",
            " extracting: train/-26-53---fire_jpg.rf.b0d745b8ce1ff06e429c602c7fb1add1.jpg  \n",
            " extracting: train/-26-53---fire_jpg.rf.c532322c41eed681ac22dfe0f45258b6.jpg  \n",
            " extracting: train/-26-53---fire_jpg.rf.ecc9707b51809881275f7b2972002985.jpg  \n",
            " extracting: train/-26-54---fire_jpg.rf.5efac3abc6ef2c92cb69595a48faf0d0.jpg  \n",
            " extracting: train/-26-54---fire_jpg.rf.b4cbce91f8365edb9a4da58742c9b914.jpg  \n",
            " extracting: train/-26-54---fire_jpg.rf.eafe0ae9fa3c2c451faf7717323017ea.jpg  \n",
            " extracting: train/-26-57---fire_jpg.rf.02bc556f8d23a42d0b556410a03b9b91.jpg  \n",
            " extracting: train/-26-57---fire_jpg.rf.722945b9ed981b04e0af5b88c27302ec.jpg  \n",
            " extracting: train/-26-57---fire_jpg.rf.cfd7cf744f893a328745a1fb4213d011.jpg  \n",
            " extracting: train/-26-58---fire_jpg.rf.24697c2d934ab8a5ddc98c69417297a8.jpg  \n",
            " extracting: train/-26-58---fire_jpg.rf.943d029735054caa29daf16f9fa2be1c.jpg  \n",
            " extracting: train/-26-58---fire_jpg.rf.f81090fbcd97bce1428e3bc3e42abede.jpg  \n",
            " extracting: train/-26-59---fire_jpg.rf.2587c06251af20a7916eb09bf94a38f2.jpg  \n",
            " extracting: train/-26-59---fire_jpg.rf.c4da7705b188aa622177e72d109cfa99.jpg  \n",
            " extracting: train/-26-59---fire_jpg.rf.c7f09be06a33e377361b6c0b0a9d1b8e.jpg  \n",
            " extracting: train/-26-60---fire_jpg.rf.23e20a061a6ec21df9349c49d8ce632a.jpg  \n",
            " extracting: train/-26-60---fire_jpg.rf.7548f9b3cccd93060270243314bba1f5.jpg  \n",
            " extracting: train/-26-60---fire_jpg.rf.ff31605eb033688ba79b7a2338b12942.jpg  \n",
            " extracting: train/-26-61---fire_jpg.rf.59ea7b795a6b76d1986c4fffeb541b11.jpg  \n",
            " extracting: train/-26-61---fire_jpg.rf.d0f469882449bcae9141bb5f8490e56a.jpg  \n",
            " extracting: train/-26-61---fire_jpg.rf.e9ca9f86b2dad80a3f2e154fefec3e15.jpg  \n",
            " extracting: train/-26-62---fire_jpg.rf.06b46208ab11e9b7cf281d0ede3c5733.jpg  \n",
            " extracting: train/-26-62---fire_jpg.rf.265db029ef901428b276f3bd6e1afc3a.jpg  \n",
            " extracting: train/-26-62---fire_jpg.rf.eb9b7cfde39f704adc66664c06ef5b2e.jpg  \n",
            " extracting: train/-26-63---fire_jpg.rf.56365ff03cc57d3233efb555341564f3.jpg  \n",
            " extracting: train/-26-63---fire_jpg.rf.c583d9a1cc165f69f177f25266c300cd.jpg  \n",
            " extracting: train/-26-63---fire_jpg.rf.e538d0387ff74f40b8f89d4a042d9d9e.jpg  \n",
            " extracting: train/-26-64---fire_jpg.rf.a86871ce5fb2b4c273f4110a480b7b81.jpg  \n",
            " extracting: train/-26-64---fire_jpg.rf.d5106d9704b389b9710e68f1505de306.jpg  \n",
            " extracting: train/-26-64---fire_jpg.rf.d9d55f9840a3639f7b13da438603fe65.jpg  \n",
            " extracting: train/-26-65---fire_jpg.rf.357f5254dfd27d71d0f71e48ba227058.jpg  \n",
            " extracting: train/-26-65---fire_jpg.rf.640cf2bf797c18ffe0f7dd68d97565a9.jpg  \n",
            " extracting: train/-26-65---fire_jpg.rf.cc857518c5d473b2eb32e9cf6adc3d5a.jpg  \n",
            " extracting: train/-26-66---fire_jpg.rf.7e395e217e738df99f2335f0ad1ba059.jpg  \n",
            " extracting: train/-26-66---fire_jpg.rf.c5cc89d1b90482a73fed7cb99d2365aa.jpg  \n",
            " extracting: train/-26-66---fire_jpg.rf.d7d0506dc1da22769008951166af304d.jpg  \n",
            " extracting: train/-26-79---fire_jpg.rf.008ecd89ef21a370a32615228b22f2b3.jpg  \n",
            " extracting: train/-26-79---fire_jpg.rf.6ed470981c4a70d775082c4b3f168ac3.jpg  \n",
            " extracting: train/-26-79---fire_jpg.rf.8664953d76036ad31355c19bb89f3a63.jpg  \n",
            " extracting: train/-26-80---fire_jpg.rf.1a9b7e7ffec02f1d7718337154906597.jpg  \n",
            " extracting: train/-26-80---fire_jpg.rf.2ede2eb53260147e300f0bae25280a02.jpg  \n",
            " extracting: train/-26-80---fire_jpg.rf.4c01c001ef36c412891058d9c2cedf16.jpg  \n",
            " extracting: train/-26-81---fire_jpg.rf.07e5344498c1caa95f6fced27a2d6be2.jpg  \n",
            " extracting: train/-26-81---fire_jpg.rf.94dc3728c70779b1c4fbc5952ad02565.jpg  \n",
            " extracting: train/-26-81---fire_jpg.rf.f91a818273deeaf0662ae667f853c0d0.jpg  \n",
            " extracting: train/-26-82---fire_jpg.rf.1299839574a064fd4327dcd320f561d5.jpg  \n",
            " extracting: train/-26-82---fire_jpg.rf.12c2a6182b4783b9a612f2fb161ccea9.jpg  \n",
            " extracting: train/-26-82---fire_jpg.rf.3830e35a711d2da5d2ed70ab99c0e376.jpg  \n",
            " extracting: train/-26-98---fire_jpg.rf.37caab40937e8e812ccfe2831d531ea3.jpg  \n",
            " extracting: train/-26-98---fire_jpg.rf.5229754b6da42ef0fdef8ae11eb9531f.jpg  \n",
            " extracting: train/-26-98---fire_jpg.rf.7204d5c5d92645cdf66ecb39abc1ded9.jpg  \n",
            " extracting: train/-26-99---fire_jpg.rf.0dceafab5d8fcac4ad4797a72697b463.jpg  \n",
            " extracting: train/-26-99---fire_jpg.rf.1a2c24b7c3a0d8cb175f4f88eb382825.jpg  \n",
            " extracting: train/-26-99---fire_jpg.rf.8eafde7c07c9df7fc271785a64b28e49.jpg  \n",
            " extracting: train/-27-14---fire_jpg.rf.13accd9c1cdb7d17ccb2a89b9230f581.jpg  \n",
            " extracting: train/-27-14---fire_jpg.rf.27b3b39bf8dbb1b46b6e4aadb406e8f0.jpg  \n",
            " extracting: train/-27-14---fire_jpg.rf.72ae5c21b7feddc0ee2de1427f5fb03e.jpg  \n",
            " extracting: train/-27-15---fire_jpg.rf.6b27e07545f07e92c62b337c454f725f.jpg  \n",
            " extracting: train/-27-15---fire_jpg.rf.8e1682bf1915ec8d0a1325fb19717111.jpg  \n",
            " extracting: train/-27-15---fire_jpg.rf.f0771457173917dd9285dc3a2a27486d.jpg  \n",
            " extracting: train/-27-17---fire_jpg.rf.1ff6e9b11abae8af697b85aeb0508f2b.jpg  \n",
            " extracting: train/-27-17---fire_jpg.rf.b823b9b20a96c1209126e756303ebf61.jpg  \n",
            " extracting: train/-27-17---fire_jpg.rf.feac7683c5ff0fe450111b6e77a15eac.jpg  \n",
            " extracting: train/-27-18---fire_jpg.rf.615ad00e715f4de30409e002576cf378.jpg  \n",
            " extracting: train/-27-18---fire_jpg.rf.c2e291e4f656a69f625d3c81eb26a018.jpg  \n",
            " extracting: train/-27-18---fire_jpg.rf.fe26a0595edb424ac6b7cc0c3a68d51d.jpg  \n",
            " extracting: train/-27-19---fire_jpg.rf.469fae9115886e832b5a11502db7ccf2.jpg  \n",
            " extracting: train/-27-19---fire_jpg.rf.a9652b78d359c5075abe77105c45f689.jpg  \n",
            " extracting: train/-27-19---fire_jpg.rf.e9fc9dd39ce7ff9900b1b8a792506675.jpg  \n",
            " extracting: train/-27-20---fire_jpg.rf.0bc0c217fc621efe5e50701e3dd457e6.jpg  \n",
            " extracting: train/-27-20---fire_jpg.rf.18099d6917bf1429ce1b1ccfd0446ac4.jpg  \n",
            " extracting: train/-27-20---fire_jpg.rf.dcff64a772a6a1473cf2d4c0369e0df8.jpg  \n",
            " extracting: train/-27-21---fire_jpg.rf.6092215cd1be5e0cbbdefe401ad0d91b.jpg  \n",
            " extracting: train/-27-21---fire_jpg.rf.9c2bc48b280bcd2310dfec22fb7aef4d.jpg  \n",
            " extracting: train/-27-21---fire_jpg.rf.bdc5b947e5d2a08aea2d00089b8d8552.jpg  \n",
            " extracting: train/-27-22---fire_jpg.rf.04e9d061f48a25a5d27cd8fdcd9476ca.jpg  \n",
            " extracting: train/-27-22---fire_jpg.rf.2d24f169f58419500048c033256371cb.jpg  \n",
            " extracting: train/-27-22---fire_jpg.rf.320cd1c9f59a37b811c4ea3f840922b3.jpg  \n",
            " extracting: train/-27-23---fire_jpg.rf.3017ad7618046d6164b559e3bedf4364.jpg  \n",
            " extracting: train/-27-23---fire_jpg.rf.eb253174e34b0138bc11473c9ed9073e.jpg  \n",
            " extracting: train/-27-23---fire_jpg.rf.f81fddf456a1499a7edddba4cc53d34c.jpg  \n",
            " extracting: train/-27-24---fire_jpg.rf.159650672b48b684f3c3ec13d8e4560c.jpg  \n",
            " extracting: train/-27-24---fire_jpg.rf.5aba357f1d725fb529a7c928f0ae8a68.jpg  \n",
            " extracting: train/-27-24---fire_jpg.rf.e2ea62578c982346078538c2d0076d74.jpg  \n",
            " extracting: train/-27-26---fire_jpg.rf.83e060de1fdf213367f7986432822acb.jpg  \n",
            " extracting: train/-27-26---fire_jpg.rf.87c32d3b7cd152a5516e582a1698bbc8.jpg  \n",
            " extracting: train/-27-26---fire_jpg.rf.ea0402a6ce25033eaa6ac5a507fa70ed.jpg  \n",
            " extracting: train/-27-27---fire_jpg.rf.134542d9b906d58703d0bff86ac3d8c9.jpg  \n",
            " extracting: train/-27-27---fire_jpg.rf.4254a237d39016ad0b4d898ff9258661.jpg  \n",
            " extracting: train/-27-27---fire_jpg.rf.bb34279692c116127a6a4f963824fbb8.jpg  \n",
            " extracting: train/-27-28---fire_jpg.rf.73b681362bcbee344db54eca6de899e0.jpg  \n",
            " extracting: train/-27-28---fire_jpg.rf.845090d31f47574065ddbe37efdf5648.jpg  \n",
            " extracting: train/-27-28---fire_jpg.rf.b4188ea8bf588923d36a5e43185cddad.jpg  \n",
            " extracting: train/-27-29---fire_jpg.rf.1bb34e12c56ad19f00da37eaa3ebcf22.jpg  \n",
            " extracting: train/-27-29---fire_jpg.rf.53b10cfc77cdc888ff74868b590789c0.jpg  \n",
            " extracting: train/-27-29---fire_jpg.rf.b6a2a4364bec91e47724cceb19eae653.jpg  \n",
            " extracting: train/-27-30---fire_jpg.rf.5e0edd5e218fcbb7d422918163047ed4.jpg  \n",
            " extracting: train/-27-30---fire_jpg.rf.604b74c2f69d20168eada7bbbe10bf42.jpg  \n",
            " extracting: train/-27-30---fire_jpg.rf.f0c151557dc9492f23543e9d0a753665.jpg  \n",
            " extracting: train/-27-31---fire_jpg.rf.602083d420e30cc5ae10e1fe954d0ae1.jpg  \n",
            " extracting: train/-27-31---fire_jpg.rf.c76964bf9f359aef59b35880193299fb.jpg  \n",
            " extracting: train/-27-31---fire_jpg.rf.e3727a4167ac95ab874e19ec1e9f1abf.jpg  \n",
            " extracting: train/-27-32---fire_jpg.rf.33217cc0f2bd8b8420780e2dd5d3896b.jpg  \n",
            " extracting: train/-27-32---fire_jpg.rf.4ff21fb238882c6c01269ca18337ef4a.jpg  \n",
            " extracting: train/-27-32---fire_jpg.rf.6e7cfc9b45761e7aa84d3c8975d86fda.jpg  \n",
            " extracting: train/-27-36---fire_jpg.rf.215aeaed3c0eb596243e87c1077c161d.jpg  \n",
            " extracting: train/-27-36---fire_jpg.rf.52b1c2d37f191d2cc5dbc424926cedb0.jpg  \n",
            " extracting: train/-27-36---fire_jpg.rf.ca7bde6f5aed08b7c12cabb6c6ebd8f2.jpg  \n",
            " extracting: train/-27-38---fire_jpg.rf.3daae712f62bd5c52bb6c8f53fb233b9.jpg  \n",
            " extracting: train/-27-38---fire_jpg.rf.ad278352142b6ffea5bf418215cec7ff.jpg  \n",
            " extracting: train/-27-38---fire_jpg.rf.bec851ee91bea25939f84b3e67d477f5.jpg  \n",
            " extracting: train/-27-39---fire_jpg.rf.2e0246140b098e78beb5a7d69ac754cd.jpg  \n",
            " extracting: train/-27-39---fire_jpg.rf.836f9bed611beb954732df50b2125f17.jpg  \n",
            " extracting: train/-27-39---fire_jpg.rf.a5400838151c9920ecda0927db01d01a.jpg  \n",
            " extracting: train/-27-47---fire_jpg.rf.c3e2dfa42ef902f1091e992ac387e54a.jpg  \n",
            " extracting: train/-27-47---fire_jpg.rf.df4c770a957721b6a49f887beac15961.jpg  \n",
            " extracting: train/-27-47---fire_jpg.rf.e1cecc5d6208e6693b93d78d06309abb.jpg  \n",
            " extracting: train/-27-48---fire_jpg.rf.ce1cc4fd788028aa3baa220afef2c1d4.jpg  \n",
            " extracting: train/-27-48---fire_jpg.rf.efce9e88b2882ad3f99ece7695af5a87.jpg  \n",
            " extracting: train/-27-48---fire_jpg.rf.fb6a34c3a501d5b7711f2d4d742fa0df.jpg  \n",
            " extracting: train/-27-49---fire_jpg.rf.53e534735412265db4428b52b34a80f6.jpg  \n",
            " extracting: train/-27-49---fire_jpg.rf.ba70aeb6edbda6bb34111cd5cbf490ab.jpg  \n",
            " extracting: train/-27-49---fire_jpg.rf.cddd2c327c508f310b205b25067593a4.jpg  \n",
            " extracting: train/-27-51---fire_jpg.rf.5eac409f43c5b88bd10087f32f5a5c13.jpg  \n",
            " extracting: train/-27-51---fire_jpg.rf.6cc43346f48159bc57c0d81d4cecfabc.jpg  \n",
            " extracting: train/-27-51---fire_jpg.rf.eb173ce8972e1ddd696e6dfb8697bc34.jpg  \n",
            " extracting: train/-27-66---fire_jpg.rf.2f05835842522cefd770b5652dfab1e4.jpg  \n",
            " extracting: train/-27-66---fire_jpg.rf.5c2512a735ddd5a20fdebf78b72b3851.jpg  \n",
            " extracting: train/-27-66---fire_jpg.rf.bf684ae8bfc9c5ebad6604056c975434.jpg  \n",
            " extracting: train/-27-67---fire_jpg.rf.4a173432f068e0a4f0c016471eeb2c02.jpg  \n",
            " extracting: train/-27-67---fire_jpg.rf.96f95fa8a87d667ea27c6e49c59e8a83.jpg  \n",
            " extracting: train/-27-67---fire_jpg.rf.9d749cb60753f792472decf8a910667c.jpg  \n",
            " extracting: train/-27-68---fire_jpg.rf.4a5fbac494d35d33ebebd19d4ebf52d7.jpg  \n",
            " extracting: train/-27-68---fire_jpg.rf.813285e98da37aeba555c0ef8aa4e28e.jpg  \n",
            " extracting: train/-27-68---fire_jpg.rf.b15c26ab3f770663590b796b839e7b84.jpg  \n",
            " extracting: train/-27-69---fire_jpg.rf.0a4510ee0dacafbba021b3c55c628380.jpg  \n",
            " extracting: train/-27-69---fire_jpg.rf.20111d5cc89ea9ea4fccbcab198449f4.jpg  \n",
            " extracting: train/-27-69---fire_jpg.rf.2465157017e34b12c524a2b905914234.jpg  \n",
            " extracting: train/-27-70---fire_jpg.rf.0508843fc915fcf775ab1289d11f3f0d.jpg  \n",
            " extracting: train/-27-70---fire_jpg.rf.618c3a40f5024dc6306082661c78d17e.jpg  \n",
            " extracting: train/-27-70---fire_jpg.rf.6c63dc2157e062a1dfdbfeffa40bc1a9.jpg  \n",
            " extracting: train/-27-71---fire_jpg.rf.2cc84451cae140c21b778456f4c6cbb3.jpg  \n",
            " extracting: train/-27-71---fire_jpg.rf.a181b2b86cb23bb214e20d34f6a4ab5c.jpg  \n",
            " extracting: train/-27-71---fire_jpg.rf.d92fc569695ccd91c07cb7c542e69da0.jpg  \n",
            " extracting: train/-27-72---fire_jpg.rf.9a33f5f7252fd2ad72dd31936af59990.jpg  \n",
            " extracting: train/-27-72---fire_jpg.rf.e0906fe45a0db916431e15e99034fb73.jpg  \n",
            " extracting: train/-27-72---fire_jpg.rf.ea871c745181aa06fd3a9d3073dd0a3f.jpg  \n",
            " extracting: train/-27-75---fire_jpg.rf.b0149653df199b765b0e03e1e9178832.jpg  \n",
            " extracting: train/-27-75---fire_jpg.rf.b5455b1b51253737755ad848f57f2638.jpg  \n",
            " extracting: train/-27-75---fire_jpg.rf.c0a6446f48d54d15bb7729d13825a085.jpg  \n",
            " extracting: train/-27-76---fire_jpg.rf.757b054fcb0a6a5767e9dbb2cd25e293.jpg  \n",
            " extracting: train/-27-76---fire_jpg.rf.82b960557bf874cfd2c41ff5d21e17b9.jpg  \n",
            " extracting: train/-27-76---fire_jpg.rf.c936c6564bb40a6599e5c66e86b0dd19.jpg  \n",
            " extracting: train/-27-77---fire_jpg.rf.0067c3fafa2406edc131c1b3457b0250.jpg  \n",
            " extracting: train/-27-77---fire_jpg.rf.906670819583bcb99463fe43f3bd790e.jpg  \n",
            " extracting: train/-27-77---fire_jpg.rf.b8a0b8c052e1edd5bbedfdabf7c33917.jpg  \n",
            " extracting: train/-27-78---fire_jpg.rf.34eac083916a6f98fcc69ac4a302be95.jpg  \n",
            " extracting: train/-27-78---fire_jpg.rf.462a24df347ad3e0db08a49965d4d725.jpg  \n",
            " extracting: train/-27-78---fire_jpg.rf.6ef7dc734afcd7a8980e813a26cd9c33.jpg  \n",
            " extracting: train/-27-79---fire_jpg.rf.016927a9046691a2ef4f7311e27eb5b3.jpg  \n",
            " extracting: train/-27-79---fire_jpg.rf.2a78da9264d2ea3b0a23f260e9d648a8.jpg  \n",
            " extracting: train/-27-79---fire_jpg.rf.8c5231d8d127f0686e4db6e9f888260e.jpg  \n",
            " extracting: train/-27-81---fire_jpg.rf.29a36a868597bdf8ebe90a04eda946a1.jpg  \n",
            " extracting: train/-27-81---fire_jpg.rf.6ab43814c1cc8b1d33a7af0f9f0246c0.jpg  \n",
            " extracting: train/-27-81---fire_jpg.rf.7c6b0fee229c6cdcb1e5a3ffb7a97200.jpg  \n",
            " extracting: train/-27-82---fire_jpg.rf.51235586086bb39641da9b0d071b25a3.jpg  \n",
            " extracting: train/-27-82---fire_jpg.rf.8a41306590c29bd9f76ccc2ce0788bc6.jpg  \n",
            " extracting: train/-27-82---fire_jpg.rf.94bcf2cd9d6d2282a4e64c96ae8ff653.jpg  \n",
            " extracting: train/-27-84---fire_jpg.rf.54e5f245910a142ea623d0555dc9533e.jpg  \n",
            " extracting: train/-27-84---fire_jpg.rf.55f378e7fa2451bdb630fa2bfba9cc2e.jpg  \n",
            " extracting: train/-27-84---fire_jpg.rf.a307c3fee7b3ea7298bafadc6adaf104.jpg  \n",
            " extracting: train/-28-14---fire_jpg.rf.38a84af78a164542e512963b301eb5df.jpg  \n",
            " extracting: train/-28-14---fire_jpg.rf.a0850002a7f184f05875c9b065205295.jpg  \n",
            " extracting: train/-28-14---fire_jpg.rf.ea44092aec5ad99b6c97469dbd98ef68.jpg  \n",
            " extracting: train/-28-15---fire_jpg.rf.8108eb98f5647d053f96fa7d2ad5ad70.jpg  \n",
            " extracting: train/-28-15---fire_jpg.rf.aa1a053f682b01d95c48adf414f0b50b.jpg  \n",
            " extracting: train/-28-15---fire_jpg.rf.fa8c0e509865380cb1d6710b430e9252.jpg  \n",
            " extracting: train/-28-16---fire_jpg.rf.3374e2e6c08519beb6fb19884145a6b6.jpg  \n",
            " extracting: train/-28-16---fire_jpg.rf.3c93ecd8556008956b42efdb27bf8d86.jpg  \n",
            " extracting: train/-28-16---fire_jpg.rf.7b644f9520f3e2969988448147dcbcb4.jpg  \n",
            " extracting: train/-28-17---fire_jpg.rf.075590aa340b20a46da948b19c62a898.jpg  \n",
            " extracting: train/-28-17---fire_jpg.rf.385ec24898234453fe762f61d02c2c9f.jpg  \n",
            " extracting: train/-28-17---fire_jpg.rf.879b1cf05dd47c75f01a2ca7872d2384.jpg  \n",
            " extracting: train/-28-19---fire_jpg.rf.49dd5b92469c27d026a28f6750d75623.jpg  \n",
            " extracting: train/-28-19---fire_jpg.rf.94d3e269a44c52e3c0d25b1fab6ed6b2.jpg  \n",
            " extracting: train/-28-19---fire_jpg.rf.ce170b1a6f173968f21a2661555f0d94.jpg  \n",
            " extracting: train/-28-20---fire_jpg.rf.a1e0ae73427233991d70cc338d5d1eee.jpg  \n",
            " extracting: train/-28-20---fire_jpg.rf.b88057d0556ba0194bd5bee6635db4a9.jpg  \n",
            " extracting: train/-28-20---fire_jpg.rf.ee55d2896ae0af1110e78f51a9c2698c.jpg  \n",
            " extracting: train/-28-22---fire_jpg.rf.7ea8cf4b015d005777f1ce467eb80a31.jpg  \n",
            " extracting: train/-28-22---fire_jpg.rf.cac09bf9ec754282bba38b58654e1700.jpg  \n",
            " extracting: train/-28-22---fire_jpg.rf.d7873b67be0a6d96b8dab84decae99db.jpg  \n",
            " extracting: train/-28-46---fire_jpg.rf.60586c9e8b9100fe044eefd832aa9595.jpg  \n",
            " extracting: train/-28-46---fire_jpg.rf.cbe0054733c7e48113c50341a67a3e01.jpg  \n",
            " extracting: train/-28-46---fire_jpg.rf.e35155c469156bf64208ee853f5804e9.jpg  \n",
            " extracting: train/-28-47---fire_jpg.rf.04a51e3dae1fbe47faed6d60c410fed0.jpg  \n",
            " extracting: train/-28-47---fire_jpg.rf.3e3519be525432ba21df34bfc40ddaeb.jpg  \n",
            " extracting: train/-28-47---fire_jpg.rf.a52a9bf1f22f2b338ce592f29745c290.jpg  \n",
            " extracting: train/-28-48---fire_jpg.rf.1f75499a3b7bf2120efc1278234386ef.jpg  \n",
            " extracting: train/-28-48---fire_jpg.rf.3e2957e2f66ba1dcb19022d4df3b2221.jpg  \n",
            " extracting: train/-28-48---fire_jpg.rf.cc1c172b01fc67c872b1ed7c626a6a58.jpg  \n",
            " extracting: train/-28-49---fire_jpg.rf.0f0a663385805fae79c289a570a4b3c2.jpg  \n",
            " extracting: train/-28-49---fire_jpg.rf.6711e14cf614348081b4b9a4c675ef62.jpg  \n",
            " extracting: train/-28-49---fire_jpg.rf.b982a04f50fa104e8ae04945f274eb9f.jpg  \n",
            " extracting: train/-28-50---fire_jpg.rf.1d1af0f4d94315d7d48b00c3e0ed57b3.jpg  \n",
            " extracting: train/-28-50---fire_jpg.rf.51d83568f418100cc7c22599afddadb9.jpg  \n",
            " extracting: train/-28-50---fire_jpg.rf.c3eac1dd5489dc0059136d4802cac81d.jpg  \n",
            " extracting: train/-28-51---fire_jpg.rf.d5bed5f35e86c8d404f5ad343c547761.jpg  \n",
            " extracting: train/-28-51---fire_jpg.rf.f99479f8f68c56bf0540daf7b1684a3a.jpg  \n",
            " extracting: train/-28-51---fire_jpg.rf.ffa8f149ae7bd695cee8b9977678d396.jpg  \n",
            " extracting: train/-28-52---fire_jpg.rf.33075778e4c827b637f9b183c38bb971.jpg  \n",
            " extracting: train/-28-52---fire_jpg.rf.e4d3ce8ac7e11be8467f45634502f1f7.jpg  \n",
            " extracting: train/-28-52---fire_jpg.rf.ede1b0c4e74a399c09b32e950bf07829.jpg  \n",
            " extracting: train/-28-53---fire_jpg.rf.848ecceb524f8487aa6a2108ebe1a6b1.jpg  \n",
            " extracting: train/-28-53---fire_jpg.rf.9b20cb95ec73ba047c5fd6a8370f152c.jpg  \n",
            " extracting: train/-28-53---fire_jpg.rf.a77278318a30d8bf548146658d422462.jpg  \n",
            " extracting: train/-28-55---fire_jpg.rf.2cd7cfb893d23f37aded11e94d806da7.jpg  \n",
            " extracting: train/-28-55---fire_jpg.rf.a2e1f072c3dd1e75fca33ccf7bd510e4.jpg  \n",
            " extracting: train/-28-55---fire_jpg.rf.dbfe379548371bb4f84b67a4a59ff4eb.jpg  \n",
            " extracting: train/-28-57---fire_jpg.rf.0396061537a0597376f169f3b61f5380.jpg  \n",
            " extracting: train/-28-57---fire_jpg.rf.cebd1dcc3c654379f38a8fd7b1fc3fae.jpg  \n",
            " extracting: train/-28-57---fire_jpg.rf.fb9c06a4ef66794f2977c1ac7bb52a13.jpg  \n",
            " extracting: train/-28-58---fire_jpg.rf.206098a23794bac7045f0a9f8ff664b3.jpg  \n",
            " extracting: train/-28-58---fire_jpg.rf.2bef2a657095ca49c5e78fc6326dd0e0.jpg  \n",
            " extracting: train/-28-58---fire_jpg.rf.b8dee98490dd20ed512d06ba9633f4ab.jpg  \n",
            " extracting: train/-28-59---fire_jpg.rf.25da6d090067b702ff427db9d5dd5144.jpg  \n",
            " extracting: train/-28-59---fire_jpg.rf.65315c1050e484b7acbafb782d94d645.jpg  \n",
            " extracting: train/-28-59---fire_jpg.rf.b94c8269e7c351805cdded9aaee37688.jpg  \n",
            " extracting: train/-28-60---fire_jpg.rf.2bede4d3ce796b3a23646ddd989da43e.jpg  \n",
            " extracting: train/-28-60---fire_jpg.rf.4b4a32de9dad67ffe765105eaca5ca62.jpg  \n",
            " extracting: train/-28-60---fire_jpg.rf.fb495005456c381cb5133b4d41a088d0.jpg  \n",
            " extracting: train/-28-62---fire_jpg.rf.0566caab432648758b79cc6eab607ae1.jpg  \n",
            " extracting: train/-28-62---fire_jpg.rf.5bf7d7d23c6c08a24011d8632c774a4f.jpg  \n",
            " extracting: train/-28-62---fire_jpg.rf.da038f4839e0cd892bf69d409bd4f2ce.jpg  \n",
            " extracting: train/-28-64---fire_jpg.rf.bfe9036a730c41f8f9958d4f6c457b43.jpg  \n",
            " extracting: train/-28-64---fire_jpg.rf.daa719f0544b2a105674e88275ae6536.jpg  \n",
            " extracting: train/-28-64---fire_jpg.rf.f59c5bdc8d76ea353d97cc6225e14db3.jpg  \n",
            " extracting: train/-28-65---fire_jpg.rf.5f4e96f7c0af1c7bfe4a1ed0eb0c3cab.jpg  \n",
            " extracting: train/-28-65---fire_jpg.rf.8d01bc8f0d30384b41006c028f7cd820.jpg  \n",
            " extracting: train/-28-65---fire_jpg.rf.da8e02584c656b533580c14586666891.jpg  \n",
            " extracting: train/-28-66---fire_jpg.rf.21e2827eba22a5070bd5290a23ae8658.jpg  \n",
            " extracting: train/-28-66---fire_jpg.rf.ac2943dfb532d18f67857e48c1b0402f.jpg  \n",
            " extracting: train/-28-66---fire_jpg.rf.f37ec4ff88ae945d0868b224e09fcadb.jpg  \n",
            " extracting: train/-28-67---fire_jpg.rf.16f634b262df2e31437e8b1e48e1e050.jpg  \n",
            " extracting: train/-28-67---fire_jpg.rf.22f1975d9bfc14f29b2ffc0e1a3a51bd.jpg  \n",
            " extracting: train/-28-67---fire_jpg.rf.cb38a469bbc0ca4dfbae9ee0480303a3.jpg  \n",
            " extracting: train/-28-68---fire_jpg.rf.674a33568bd84346a5ea4b51ffc93573.jpg  \n",
            " extracting: train/-28-68---fire_jpg.rf.7f51d9a4d634c3bb0f8a651241b7590a.jpg  \n",
            " extracting: train/-28-68---fire_jpg.rf.bb8bd0d3f19b10038c55be1a02913587.jpg  \n",
            " extracting: train/-28-69---fire_jpg.rf.4ffd792c5741ca82ace418cfb00b7747.jpg  \n",
            " extracting: train/-28-69---fire_jpg.rf.e5f37a9b61857d8d862450cfc2a2bd7d.jpg  \n",
            " extracting: train/-28-69---fire_jpg.rf.f57e1974aaf0a6d7831d5c0b1873ed4a.jpg  \n",
            " extracting: train/-28-70---fire_jpg.rf.782acc595bcdad8fb9532db0067536ba.jpg  \n",
            " extracting: train/-28-70---fire_jpg.rf.b1b68ceb416533fc6474c3eb84db2b00.jpg  \n",
            " extracting: train/-28-70---fire_jpg.rf.d3253077151b3fe5da6998ea1cc19abf.jpg  \n",
            " extracting: train/-28-71---fire_jpg.rf.17de80193280ab0f2a2e05f79c556b42.jpg  \n",
            " extracting: train/-28-71---fire_jpg.rf.1bd7c1d9a1e860cc541786e11218396c.jpg  \n",
            " extracting: train/-28-71---fire_jpg.rf.c6b6497b1d0a0c2f8fd27a52e2db25ed.jpg  \n",
            " extracting: train/-28-72---fire_jpg.rf.88bf2aadb2c26695d73ae78d239dd006.jpg  \n",
            " extracting: train/-28-72---fire_jpg.rf.a0df26f2c3d37e9ef00a112d2dfa6c72.jpg  \n",
            " extracting: train/-28-72---fire_jpg.rf.aa6bd4d65cd3309c3dbee96e0f30b88f.jpg  \n",
            " extracting: train/-28-73---fire_jpg.rf.131c87e92e3494f8b321428282bbdc72.jpg  \n",
            " extracting: train/-28-73---fire_jpg.rf.acb65af7c641700d2f76cbc20d201c46.jpg  \n",
            " extracting: train/-28-73---fire_jpg.rf.fba242090946aa2e5fab5b4682417643.jpg  \n",
            " extracting: train/-29-101---fire_jpg.rf.4b30da6672ca1d037ff48268fe491512.jpg  \n",
            " extracting: train/-29-101---fire_jpg.rf.768ff661168353a2ef88ac95aba3114e.jpg  \n",
            " extracting: train/-29-101---fire_jpg.rf.f5b79d47f859e6f1037ebb5743a0c63c.jpg  \n",
            " extracting: train/-29-104---fire_jpg.rf.c6e9c8b70c902939d7299e275673cc4d.jpg  \n",
            " extracting: train/-29-104---fire_jpg.rf.d888ae7a3e53471412a93d3bf67ff30d.jpg  \n",
            " extracting: train/-29-104---fire_jpg.rf.eb983a16e169bd9e1445cd505047c328.jpg  \n",
            " extracting: train/-29-105---fire_jpg.rf.187eb8f441e5dd9510c0d262f713cf68.jpg  \n",
            " extracting: train/-29-105---fire_jpg.rf.375585aa828d65e77ede1d808b024f35.jpg  \n",
            " extracting: train/-29-105---fire_jpg.rf.ec6516c1d745d879eb2f124f8bc76d7e.jpg  \n",
            " extracting: train/-29-21---fire_jpg.rf.118015680304464052277fadfadd7506.jpg  \n",
            " extracting: train/-29-21---fire_jpg.rf.8212b9f6da9fb29754abd73fc6014546.jpg  \n",
            " extracting: train/-29-21---fire_jpg.rf.d5450e0ab68ba9131096e09292c6e013.jpg  \n",
            " extracting: train/-29-22---fire_jpg.rf.49ba044c075f535a45f5051f722cf086.jpg  \n",
            " extracting: train/-29-22---fire_jpg.rf.500cb7010d9b8ea1a1060cb18e0c1fd2.jpg  \n",
            " extracting: train/-29-22---fire_jpg.rf.ff3cae31257e4b2013e3bb1c5adc034b.jpg  \n",
            " extracting: train/-29-23---fire_jpg.rf.9d55f6a63db09fa569aec4b3b847a181.jpg  \n",
            " extracting: train/-29-23---fire_jpg.rf.ed3810cc9b9857d90d196986b058a901.jpg  \n",
            " extracting: train/-29-23---fire_jpg.rf.fb62f3cbe75b87ca10f778db7ba8262b.jpg  \n",
            " extracting: train/-29-24---fire_jpg.rf.30dfcca2db3104e23a819773a50b5fdf.jpg  \n",
            " extracting: train/-29-24---fire_jpg.rf.ba3e82a9dd5774229f6646db1e47a54a.jpg  \n",
            " extracting: train/-29-24---fire_jpg.rf.ca28bc7f3227558eac57af7210886f44.jpg  \n",
            " extracting: train/-29-25---fire_jpg.rf.148666ea86f202403a3cd9a1fdf7e818.jpg  \n",
            " extracting: train/-29-25---fire_jpg.rf.64941284410b0423ae4f17d8e4c59138.jpg  \n",
            " extracting: train/-29-25---fire_jpg.rf.f7652397183b9c24e43d4e2d7b96821a.jpg  \n",
            " extracting: train/-29-26---fire_jpg.rf.17dad3c27d049dbd6517a8c1d85a7aa1.jpg  \n",
            " extracting: train/-29-26---fire_jpg.rf.a053f1253f292c4eaed3656c31c8eea0.jpg  \n",
            " extracting: train/-29-26---fire_jpg.rf.b4bdee44e396ee809e7be108748dc776.jpg  \n",
            " extracting: train/-29-27---fire_jpg.rf.3d62fd899b21aeeabe2c3f3df3de1c3b.jpg  \n",
            " extracting: train/-29-27---fire_jpg.rf.a4a761a392a27d7e523188d64f0c7ce0.jpg  \n",
            " extracting: train/-29-27---fire_jpg.rf.d1b8710fd513bc29db0c0693b41dd3a8.jpg  \n",
            " extracting: train/-29-28---fire_jpg.rf.24aec70ddf2e3268d471e516c5067da1.jpg  \n",
            " extracting: train/-29-28---fire_jpg.rf.733554a7b6b35bde7cd5b365d15160e2.jpg  \n",
            " extracting: train/-29-28---fire_jpg.rf.a6e36792669a55553979f66f7c5016c3.jpg  \n",
            " extracting: train/-29-29---fire_jpg.rf.6ef5bc92ad49c0de387d7067aae3553f.jpg  \n",
            " extracting: train/-29-29---fire_jpg.rf.ca7974218aeec6bc9e22ab4594842c38.jpg  \n",
            " extracting: train/-29-29---fire_jpg.rf.d042aedba54fabc0f72bc65f776e6867.jpg  \n",
            " extracting: train/-29-42---fire_jpg.rf.46b1a35fb226fdd9b73a4d59d1cd05a1.jpg  \n",
            " extracting: train/-29-42---fire_jpg.rf.61eb87a97bf94411b0faecb2ec8b13dc.jpg  \n",
            " extracting: train/-29-42---fire_jpg.rf.7b24063436acc124fc475aaedb7e2dd0.jpg  \n",
            " extracting: train/-29-43---fire_jpg.rf.582f2668bb6f23876fe31d4ab28bacdc.jpg  \n",
            " extracting: train/-29-43---fire_jpg.rf.5fd9c583d92c27432a401b29fe564045.jpg  \n",
            " extracting: train/-29-43---fire_jpg.rf.ff59808b518a06ff8eabf1f83a5ab084.jpg  \n",
            " extracting: train/-29-44---fire_jpg.rf.4e30dd0e78d42bc8c2cae84240b19cf8.jpg  \n",
            " extracting: train/-29-44---fire_jpg.rf.8a396d197c84e940a479076f6e0482db.jpg  \n",
            " extracting: train/-29-44---fire_jpg.rf.ea4c52378c64c4f63061ebb5b93d8c8a.jpg  \n",
            " extracting: train/-29-45---fire_jpg.rf.3de4360fb66e2b7a3e695a898098d76e.jpg  \n",
            " extracting: train/-29-45---fire_jpg.rf.494247bfca2890eeefc3682388cc9c01.jpg  \n",
            " extracting: train/-29-45---fire_jpg.rf.ff6b5de411d078538b43a9873c12a3a6.jpg  \n",
            " extracting: train/-29-46---fire_jpg.rf.8997847da01991d68c2bed617293b2bd.jpg  \n",
            " extracting: train/-29-46---fire_jpg.rf.8ee543c3f906e77af627a5eb23c80d53.jpg  \n",
            " extracting: train/-29-46---fire_jpg.rf.b2aa130cb2824d7b6841e2df4cd3d61f.jpg  \n",
            " extracting: train/-29-48---fire_jpg.rf.15510c4567365a962518c7f7e1067bc4.jpg  \n",
            " extracting: train/-29-48---fire_jpg.rf.e22ed389ed3254a6493231f6adac834d.jpg  \n",
            " extracting: train/-29-48---fire_jpg.rf.e76d0dbcbbd014002367101b7f081228.jpg  \n",
            " extracting: train/-29-49---fire_jpg.rf.292b5a7e5c587ab3659eac7413b33c2f.jpg  \n",
            " extracting: train/-29-49---fire_jpg.rf.9029540531311c79c36b24df56978e85.jpg  \n",
            " extracting: train/-29-49---fire_jpg.rf.afdd3f0a421e74cd73d077e80c0c61c2.jpg  \n",
            " extracting: train/-29-50---fire_jpg.rf.263ccb82d8164eabf09ab9aa709445ca.jpg  \n",
            " extracting: train/-29-50---fire_jpg.rf.4a56a1bd24d41522ac5d53cffdbf5a9d.jpg  \n",
            " extracting: train/-29-50---fire_jpg.rf.d2b085827598fc4c1ccd9a8d4cf22954.jpg  \n",
            " extracting: train/-29-55---fire_jpg.rf.e074109a5006dee28b4a1436778e6eab.jpg  \n",
            " extracting: train/-29-55---fire_jpg.rf.e8be8473a4c1caaa56f60ceae06c0c41.jpg  \n",
            " extracting: train/-29-55---fire_jpg.rf.fc0bfccc99d9526b3d3cfaa562a74d40.jpg  \n",
            " extracting: train/-29-56---fire_jpg.rf.02bd7fdc0b2ac2b3612682f26d0ede4c.jpg  \n",
            " extracting: train/-29-56---fire_jpg.rf.29c3cbff7f66c468f762fe69d8c96fb3.jpg  \n",
            " extracting: train/-29-56---fire_jpg.rf.f74593e1cafd49870c675cab79d91150.jpg  \n",
            " extracting: train/-29-57---fire_jpg.rf.2893a85cec22366c154c74e890250e32.jpg  \n",
            " extracting: train/-29-57---fire_jpg.rf.3d1c918331c2b56d16a4a69bd1e8a147.jpg  \n",
            " extracting: train/-29-57---fire_jpg.rf.be8931b6de55e74ddee7610f7c173068.jpg  \n",
            " extracting: train/-29-58---fire_jpg.rf.2c647f8c0c64345f384a12b5739519b2.jpg  \n",
            " extracting: train/-29-58---fire_jpg.rf.71f9013f2314444e3ad9ce30156c18d6.jpg  \n",
            " extracting: train/-29-58---fire_jpg.rf.b227c9ad0bd67f993fc62cb454bd8c39.jpg  \n",
            " extracting: train/-29-73---fire_jpg.rf.2fd1de67dcf2478f3bd6277e05b10209.jpg  \n",
            " extracting: train/-29-73---fire_jpg.rf.35ac869d3e00db9ec4c9a5f870a0ad5a.jpg  \n",
            " extracting: train/-29-73---fire_jpg.rf.a00e4fd48f2ae5d38f60a732b197829b.jpg  \n",
            " extracting: train/-29-74---fire_jpg.rf.3cba9e1e9e7dfef7ab1c8e01b9f9f679.jpg  \n",
            " extracting: train/-29-74---fire_jpg.rf.87ca29629f4bb108731d91afc4c87717.jpg  \n",
            " extracting: train/-29-74---fire_jpg.rf.c55252f68889fb6fe1ddb7f7a265a6cf.jpg  \n",
            " extracting: train/-29-75---fire_jpg.rf.36e3f82fbe0429416d0f392519985ecb.jpg  \n",
            " extracting: train/-29-75---fire_jpg.rf.845b5e8043cd097d3be4130bb23637f6.jpg  \n",
            " extracting: train/-29-75---fire_jpg.rf.acbf0d9465a6493540071184a65c3bdb.jpg  \n",
            " extracting: train/-29-76---fire_jpg.rf.63a7a9ee81ab639ef2826e89d8cb4442.jpg  \n",
            " extracting: train/-29-76---fire_jpg.rf.8aa68400570ffa12a35837d75d3d7834.jpg  \n",
            " extracting: train/-29-76---fire_jpg.rf.bcd5f03961db7b7c1888dac456d8f6c4.jpg  \n",
            " extracting: train/-29-77---fire_jpg.rf.1af867745e61a194fe4b91dffdc7c39f.jpg  \n",
            " extracting: train/-29-77---fire_jpg.rf.2258379f3f7ca03936cdeb4e07dbd93e.jpg  \n",
            " extracting: train/-29-77---fire_jpg.rf.b811cd16e3a695dcb8bc4ccef998e35f.jpg  \n",
            " extracting: train/-29-78---fire_jpg.rf.23f1066ced3cf01a3f41cdb538163aa2.jpg  \n",
            " extracting: train/-29-78---fire_jpg.rf.76dfc08ed8c0fcb0dea5e2196a97d9ba.jpg  \n",
            " extracting: train/-29-78---fire_jpg.rf.f3bef971e7e01fd81fcd11e949b8aaed.jpg  \n",
            " extracting: train/-29-79---fire_jpg.rf.01c31cbea887e4965eb771865f531ef7.jpg  \n",
            " extracting: train/-29-79---fire_jpg.rf.ab644f5af8edd662e08e1ada0c37e898.jpg  \n",
            " extracting: train/-29-79---fire_jpg.rf.d7257973d909e1da17aa2897e797e5f9.jpg  \n",
            " extracting: train/-29-80---fire_jpg.rf.0b334212d13b72ae6cb50c5c4a749a7b.jpg  \n",
            " extracting: train/-29-80---fire_jpg.rf.bfdedbecdf26dca3f1644905fee0f15c.jpg  \n",
            " extracting: train/-29-80---fire_jpg.rf.ea6fc6273dbfaeed90d0b8be7e758be2.jpg  \n",
            " extracting: train/-29-81---fire_jpg.rf.9a80846b6e987380e1483a55be5f4738.jpg  \n",
            " extracting: train/-29-81---fire_jpg.rf.9f27ea39c16f9885eba6cec083b1227c.jpg  \n",
            " extracting: train/-29-81---fire_jpg.rf.a6bea661b23b7fb5cade4efe248471f1.jpg  \n",
            " extracting: train/-3-10---fire_jpg.rf.2f6bd8a683894ca930e5e0762dc8a98a.jpg  \n",
            " extracting: train/-3-10---fire_jpg.rf.3b9ffbd22053ca3a3bf08556a0b094c1.jpg  \n",
            " extracting: train/-3-10---fire_jpg.rf.bc298aa1685e41981094ecd37879679c.jpg  \n",
            " extracting: train/-3-11---fire_jpg.rf.5c41acf752fd6dab75949d45a2910f9d.jpg  \n",
            " extracting: train/-3-11---fire_jpg.rf.60646fb11f24f639f93118a530628030.jpg  \n",
            " extracting: train/-3-11---fire_jpg.rf.689cd238b5b10b38a3e3deca8d0546b2.jpg  \n",
            " extracting: train/-3-13---fire_jpg.rf.37a6251d748fbb90cae3f1aeb16c9145.jpg  \n",
            " extracting: train/-3-13---fire_jpg.rf.384e3978e2688ec238ecfc8739669c7a.jpg  \n",
            " extracting: train/-3-13---fire_jpg.rf.3b2df74dc07b332a3cdeadb40d1d8785.jpg  \n",
            " extracting: train/-3-17---fire_jpg.rf.a6e7b9e607beeab4030cc29c9eda3f3f.jpg  \n",
            " extracting: train/-3-17---fire_jpg.rf.d223e5433897b48d3b67d7070d809619.jpg  \n",
            " extracting: train/-3-17---fire_jpg.rf.f880c0ad7b0df1a07e8933f540d975e0.jpg  \n",
            " extracting: train/-3-18---fire_jpg.rf.4199a6c10a2d8014e062c554075a24ce.jpg  \n",
            " extracting: train/-3-18---fire_jpg.rf.73664feed6fd269584be2a7d05dc2467.jpg  \n",
            " extracting: train/-3-18---fire_jpg.rf.90e6648e0c28eee58f83d17539bf17ef.jpg  \n",
            " extracting: train/-3-19---fire_jpg.rf.530583972abaaa08f301083214eda52d.jpg  \n",
            " extracting: train/-3-19---fire_jpg.rf.bd7f177c6cd00b0d5098137a74ae9571.jpg  \n",
            " extracting: train/-3-19---fire_jpg.rf.ce23e214a598113185698f9379812531.jpg  \n",
            " extracting: train/-3-21---fire_jpg.rf.5c910a29bc80ac8f34f329754ffcbe36.jpg  \n",
            " extracting: train/-3-21---fire_jpg.rf.a8bb270a5c46819034c8ed18a80d0db3.jpg  \n",
            " extracting: train/-3-21---fire_jpg.rf.b6497c1011eaf8ab1af92a72938ffac8.jpg  \n",
            " extracting: train/-3-22---fire_jpg.rf.55b652921ed52519c96d4807bd31c74c.jpg  \n",
            " extracting: train/-3-22---fire_jpg.rf.801a60c77761ba6eb56860accf2a88d1.jpg  \n",
            " extracting: train/-3-22---fire_jpg.rf.9a7d829fd81189088b2992b0eff7d83b.jpg  \n",
            " extracting: train/-3-23---fire_jpg.rf.5fde6f4b7e644ebd5623047f9e14df6d.jpg  \n",
            " extracting: train/-3-23---fire_jpg.rf.a65bdea07e8317522ec43fa6e112ef56.jpg  \n",
            " extracting: train/-3-23---fire_jpg.rf.cc1807b6bf98dc4adb6384ecbbcb12bb.jpg  \n",
            " extracting: train/-3-24---fire_jpg.rf.1556d2b6365ee5b822ea0c5cf989a822.jpg  \n",
            " extracting: train/-3-24---fire_jpg.rf.3669e638bd83bb090593ae2e6a1c105f.jpg  \n",
            " extracting: train/-3-24---fire_jpg.rf.ecbe0c08505135678fd985d887958117.jpg  \n",
            " extracting: train/-3-25---fire_jpg.rf.1eef46e437078110305554f83f0e547f.jpg  \n",
            " extracting: train/-3-25---fire_jpg.rf.34776c162ae666ca9e5fd64c5d2b5a73.jpg  \n",
            " extracting: train/-3-25---fire_jpg.rf.5f8933e897d3f8a7202edd36a11116fc.jpg  \n",
            " extracting: train/-3-29---fire_jpg.rf.02b52a2fe473b3752c0da73b6551171e.jpg  \n",
            " extracting: train/-3-29---fire_jpg.rf.2f21f8a690638a8eefa9407801f20e24.jpg  \n",
            " extracting: train/-3-29---fire_jpg.rf.774517953221de9fadfd8435323b5fe1.jpg  \n",
            " extracting: train/-3-31---fire_jpg.rf.05ee325cc03d12686b291ede1b71ff32.jpg  \n",
            " extracting: train/-3-31---fire_jpg.rf.9930818cf80e6bf46c4d5a7698d00725.jpg  \n",
            " extracting: train/-3-31---fire_jpg.rf.ffe823742b057732278b3559d09a9cf2.jpg  \n",
            " extracting: train/-3-32---fire_jpg.rf.104d486fb9f4989b528d3c8825cd4b09.jpg  \n",
            " extracting: train/-3-32---fire_jpg.rf.2c59705fff5748cf0cbd7fd60750bc09.jpg  \n",
            " extracting: train/-3-32---fire_jpg.rf.639ce7f5b91a817e4b71db4d7a6e50fd.jpg  \n",
            " extracting: train/-3-33---fire_jpg.rf.1e397d2c80f184af6feab96b8ef9baae.jpg  \n",
            " extracting: train/-3-33---fire_jpg.rf.2496435a168be33ee3dd100f841145ab.jpg  \n",
            " extracting: train/-3-33---fire_jpg.rf.8b1a4259a14d789434ad569f284b1934.jpg  \n",
            " extracting: train/-3-34---fire_jpg.rf.3a7b2cbbfb8d7bdae2543247e647564e.jpg  \n",
            " extracting: train/-3-34---fire_jpg.rf.5dc603acf76d1577698a13c46cb65184.jpg  \n",
            " extracting: train/-3-34---fire_jpg.rf.71920e7f218fe526537d4db377c67b33.jpg  \n",
            " extracting: train/-3-36---fire_jpg.rf.0979d03fa211d80f8922e66f686e8c7b.jpg  \n",
            " extracting: train/-3-36---fire_jpg.rf.1cc27a4378c9357428d16b4eb7d3832c.jpg  \n",
            " extracting: train/-3-36---fire_jpg.rf.4334f1761e97288278779db9ee552b45.jpg  \n",
            " extracting: train/-3-37---fire_jpg.rf.abf36cb7777d37b29946f2bd79b8d50c.jpg  \n",
            " extracting: train/-3-37---fire_jpg.rf.c1accd2e8fffcf7efa4b783ccf0cbaa5.jpg  \n",
            " extracting: train/-3-37---fire_jpg.rf.f561aa0662995b64f5192640f9817264.jpg  \n",
            " extracting: train/-3-38---fire_jpg.rf.1b4ec55bbc43d993d1faa3ef8bb05554.jpg  \n",
            " extracting: train/-3-38---fire_jpg.rf.6cb8b9af7db010995948c963bd963108.jpg  \n",
            " extracting: train/-3-38---fire_jpg.rf.c083ff7ac45e8f1e762f790ed530b80b.jpg  \n",
            " extracting: train/-3-43---fire_jpg.rf.083e21be9dee7d208b71b6fa6da05947.jpg  \n",
            " extracting: train/-3-43---fire_jpg.rf.52fdb9db0bc51b6247e34aa6203b7ad8.jpg  \n",
            " extracting: train/-3-43---fire_jpg.rf.cc7057d99b59edc3baecaeb6f4161f77.jpg  \n",
            " extracting: train/-3-44---fire_jpg.rf.38c0b1be6d8884a35b11eac380f91746.jpg  \n",
            " extracting: train/-3-44---fire_jpg.rf.54b45f35901aa1b71111c07ed5235b24.jpg  \n",
            " extracting: train/-3-44---fire_jpg.rf.bfd8bfbf64b31aad9b8109b1f1d0fdf2.jpg  \n",
            " extracting: train/-3-45---fire_jpg.rf.6ebfb76f6f1debe480018839e2ed9ce1.jpg  \n",
            " extracting: train/-3-45---fire_jpg.rf.8a03810767a6e0358c68fce159557eaa.jpg  \n",
            " extracting: train/-3-45---fire_jpg.rf.a8ae490524c7bf283df727e754ce9956.jpg  \n",
            " extracting: train/-3-46---fire_jpg.rf.0e7c6936773e2d93d99846da519fa9cc.jpg  \n",
            " extracting: train/-3-46---fire_jpg.rf.2108a097aece285d95e60263679e0a79.jpg  \n",
            " extracting: train/-3-46---fire_jpg.rf.8ef59d75b3b278240e936961895f9284.jpg  \n",
            " extracting: train/-3-48---fire_jpg.rf.0f98c6fe2bb762e843ee48a86c6ea4bf.jpg  \n",
            " extracting: train/-3-48---fire_jpg.rf.29eb2f86e2abe9cb15cab913a0550f19.jpg  \n",
            " extracting: train/-3-48---fire_jpg.rf.42edbed012d177761a0e449833bbc468.jpg  \n",
            " extracting: train/-3-49---fire_jpg.rf.75e8fa4c1339c65150c006431942266f.jpg  \n",
            " extracting: train/-3-49---fire_jpg.rf.82a50945cfa29ef3a40c4cf121ee5b4c.jpg  \n",
            " extracting: train/-3-49---fire_jpg.rf.f59fe4567a50026c9a3483996d6ca49c.jpg  \n",
            " extracting: train/-3-50---fire_jpg.rf.1874024408580a1681ca00b833d4c439.jpg  \n",
            " extracting: train/-3-50---fire_jpg.rf.854e99095c9dd9b215959bc94fcc09ad.jpg  \n",
            " extracting: train/-3-50---fire_jpg.rf.eaee6a5a2270fadf5f28baeee14e98c8.jpg  \n",
            " extracting: train/-3-51---fire_jpg.rf.2769e6744742e99e2e76fff87961a442.jpg  \n",
            " extracting: train/-3-51---fire_jpg.rf.34331860d0ad9cb3e06782512d290c82.jpg  \n",
            " extracting: train/-3-51---fire_jpg.rf.4b4559266362146ea04807895448bcb6.jpg  \n",
            " extracting: train/-3-52---fire_jpg.rf.24c85b25e469b9855badfb8de9693bda.jpg  \n",
            " extracting: train/-3-52---fire_jpg.rf.590208a8a9a685fb17612eb4a4d8f9a5.jpg  \n",
            " extracting: train/-3-52---fire_jpg.rf.9b7479e98786bc0b2320493751208186.jpg  \n",
            " extracting: train/-3-53---fire_jpg.rf.50e39d1adb0b6d1786fcbc0786c5ae68.jpg  \n",
            " extracting: train/-3-53---fire_jpg.rf.742cdce1b093f0ee0a4d6838428392a4.jpg  \n",
            " extracting: train/-3-53---fire_jpg.rf.8375ccc64c6201b186709d3d1ffbcc25.jpg  \n",
            " extracting: train/-3-54---fire_jpg.rf.16da6f3fc323e5a29f6403d6357065a0.jpg  \n",
            " extracting: train/-3-54---fire_jpg.rf.3560a04e25fe46be6d8733cbe6be2f58.jpg  \n",
            " extracting: train/-3-54---fire_jpg.rf.84dcb35355bb883ee1810905e4a31f09.jpg  \n",
            " extracting: train/-3-55---fire_jpg.rf.84cead44738d3777af8b0c4befcd396d.jpg  \n",
            " extracting: train/-3-55---fire_jpg.rf.a85bbe54fa3a6361ec50a77e8ce7de81.jpg  \n",
            " extracting: train/-3-55---fire_jpg.rf.c8d35ed9a051050f2bc52f7b9449fa60.jpg  \n",
            " extracting: train/-3-58---fire_jpg.rf.08fa65daea612b58aeda3305c3141786.jpg  \n",
            " extracting: train/-3-58---fire_jpg.rf.8bdec6cc6af1c3b64059cc8d607a2a1d.jpg  \n",
            " extracting: train/-3-58---fire_jpg.rf.f166b5661ff7631d3fd041dd86fb5cc7.jpg  \n",
            " extracting: train/-3-59---fire_jpg.rf.2cc898a09ccfeab77d151c55cf6ad8f7.jpg  \n",
            " extracting: train/-3-59---fire_jpg.rf.59908a9a58ce353491129b90433b3829.jpg  \n",
            " extracting: train/-3-59---fire_jpg.rf.7bb857eec2d9ac40654aab15378bfa59.jpg  \n",
            " extracting: train/-3-9---fire_jpg.rf.09e49bff99d7741bbd0931783e19e398.jpg  \n",
            " extracting: train/-3-9---fire_jpg.rf.1aa95450751e33a3457442cd96b298ad.jpg  \n",
            " extracting: train/-3-9---fire_jpg.rf.2fed2af73685f4de45184be88f4b27bd.jpg  \n",
            " extracting: train/-30-14---fire_jpg.rf.60edecd3bec1379f0865f5bb35e072f8.jpg  \n",
            " extracting: train/-30-14---fire_jpg.rf.b3963cc87108392251b6b96517792ca7.jpg  \n",
            " extracting: train/-30-14---fire_jpg.rf.df1bfc8d97385b22fdf46ce033c757e8.jpg  \n",
            " extracting: train/-30-15---fire_jpg.rf.434b67eaa38b34cdad4558731c23f191.jpg  \n",
            " extracting: train/-30-15---fire_jpg.rf.765fd6b9f3fd901b67b56f94ad19c819.jpg  \n",
            " extracting: train/-30-15---fire_jpg.rf.ab415359ab0f401ba7d61d4b522c3530.jpg  \n",
            " extracting: train/-30-16---fire_jpg.rf.4568f3683559c94ee3dc4dfb02cc29c2.jpg  \n",
            " extracting: train/-30-16---fire_jpg.rf.572ef872bc18f3c83e6280e21d61ee5e.jpg  \n",
            " extracting: train/-30-16---fire_jpg.rf.b010f28c1acb9a1e081b6b8fcf8d491a.jpg  \n",
            " extracting: train/-30-17---fire_jpg.rf.232eefc8654d005518f03755d44cb29f.jpg  \n",
            " extracting: train/-30-17---fire_jpg.rf.29a6e40906aaee9f3b9792f78b1045c0.jpg  \n",
            " extracting: train/-30-17---fire_jpg.rf.be6fe07fed44645d4f9564a04ed5ea9b.jpg  \n",
            " extracting: train/-30-18---fire_jpg.rf.1d57b14ec60db74db6723c3c19563c1a.jpg  \n",
            " extracting: train/-30-18---fire_jpg.rf.9568a2757f20f0e748dd0339cef2c787.jpg  \n",
            " extracting: train/-30-18---fire_jpg.rf.98993235a731a224dc43e757baf026e0.jpg  \n",
            " extracting: train/-30-19---fire_jpg.rf.0579cb2900765a97e125be8eb65f6f71.jpg  \n",
            " extracting: train/-30-19---fire_jpg.rf.2b55e07287304441d3b64cff1fe8d068.jpg  \n",
            " extracting: train/-30-19---fire_jpg.rf.64baa798a00818cc9c8611d71cae0686.jpg  \n",
            " extracting: train/-30-20---fire_jpg.rf.07f28e4d6e9acf408aab52a382d7da6d.jpg  \n",
            " extracting: train/-30-20---fire_jpg.rf.842a63a18e4a3a69685c6007270f7d9f.jpg  \n",
            " extracting: train/-30-20---fire_jpg.rf.e727bf1193da964871dbcb6ec2cdbd6f.jpg  \n",
            " extracting: train/-30-21---fire_jpg.rf.09a8aa7ebbe4ea1290fa127fad952a5a.jpg  \n",
            " extracting: train/-30-21---fire_jpg.rf.4f9e6221e69b56044833665a8b1c7632.jpg  \n",
            " extracting: train/-30-21---fire_jpg.rf.e7d3c3fa7f1a6ce4639a55897e021282.jpg  \n",
            " extracting: train/-30-23---fire_jpg.rf.7a5cb6bf3d28873bd140cda9c1710cd4.jpg  \n",
            " extracting: train/-30-23---fire_jpg.rf.c04070ac6ef4a906791e2b67ca0c2dc2.jpg  \n",
            " extracting: train/-30-23---fire_jpg.rf.f29fe5fed920bc5b7ed8e6cc2b01f300.jpg  \n",
            " extracting: train/-30-24---fire_jpg.rf.27dac404604fbc15b853a323c9c3e07a.jpg  \n",
            " extracting: train/-30-24---fire_jpg.rf.34d1bc858b602eedf410a68417e2945c.jpg  \n",
            " extracting: train/-30-24---fire_jpg.rf.673b03c08a63ab4be99bac0e8bf38bf3.jpg  \n",
            " extracting: train/-30-25---fire_jpg.rf.5735af102e7b261144142c5ab6a030e0.jpg  \n",
            " extracting: train/-30-25---fire_jpg.rf.76a70dfa8f89bf9e218bc4d24425b3ae.jpg  \n",
            " extracting: train/-30-25---fire_jpg.rf.fba94e4e3e2e7faf166a3964ed639321.jpg  \n",
            " extracting: train/-30-26---fire_jpg.rf.566c724da381e606393d242ca9468a2b.jpg  \n",
            " extracting: train/-30-26---fire_jpg.rf.84d1869e026787e30123d57c5b0ae9c3.jpg  \n",
            " extracting: train/-30-26---fire_jpg.rf.8ab9fb4fdfa5038761f2f124c38bf586.jpg  \n",
            " extracting: train/-30-27---fire_jpg.rf.3a8087c0a1fd802b8c8acc8ad24050f3.jpg  \n",
            " extracting: train/-30-27---fire_jpg.rf.b935b7ae2557ee5904b1e6dbc9ef9f84.jpg  \n",
            " extracting: train/-30-27---fire_jpg.rf.e0e99a237acf7add446b0355f1cb7699.jpg  \n",
            " extracting: train/-30-28---fire_jpg.rf.1122a59239fbefa1445d77ecbe0b21cc.jpg  \n",
            " extracting: train/-30-28---fire_jpg.rf.3d91a9c9a8f18941e9a8eca83c0a61f3.jpg  \n",
            " extracting: train/-30-28---fire_jpg.rf.aaa414833eac0dc5e9cbb2867bbbcd68.jpg  \n",
            " extracting: train/-30-29---fire_jpg.rf.59a0846d473ada3a881c9297914ad76d.jpg  \n",
            " extracting: train/-30-29---fire_jpg.rf.65ae231ad45c2e896bde467050ac63d9.jpg  \n",
            " extracting: train/-30-29---fire_jpg.rf.8a9eb6ac8e4d5d57a290ff771fc543d8.jpg  \n",
            " extracting: train/-30-30---fire_jpg.rf.6c0ba47a5fd78ecb17715cd5b7afa1dd.jpg  \n",
            " extracting: train/-30-30---fire_jpg.rf.6fddc2f14616a38ab7ecd7eacd0fbbb5.jpg  \n",
            " extracting: train/-30-30---fire_jpg.rf.c934676c438db769fd3d7d2a8e4a05d3.jpg  \n",
            " extracting: train/-30-48---fire_jpg.rf.30f4057ebb704a68332951cab7edf628.jpg  \n",
            " extracting: train/-30-48---fire_jpg.rf.f82f7db969a620dbc12a8a7e4798ca4c.jpg  \n",
            " extracting: train/-30-48---fire_jpg.rf.fe36d7a1aecce70b9c3dd631f917b9ab.jpg  \n",
            " extracting: train/-30-49---fire_jpg.rf.b87b939067027d881e49a552f04eab82.jpg  \n",
            " extracting: train/-30-49---fire_jpg.rf.dfe877cc8506dd784cac86212f9c2819.jpg  \n",
            " extracting: train/-30-49---fire_jpg.rf.f37d83098dca9406dbf7a4420e579e15.jpg  \n",
            " extracting: train/-30-50---fire_jpg.rf.3d3c68a10a9addef2ddbdd168cba1b69.jpg  \n",
            " extracting: train/-30-50---fire_jpg.rf.4535928e1c45d5544fba37efdab6fae9.jpg  \n",
            " extracting: train/-30-50---fire_jpg.rf.de6d86ce145424a74f89e3c03aa59168.jpg  \n",
            " extracting: train/-30-51---fire_jpg.rf.44d6fbde1cb5d7e57293e201159f589d.jpg  \n",
            " extracting: train/-30-51---fire_jpg.rf.cdcb17b7c86da73ec081a125ef6d2e27.jpg  \n",
            " extracting: train/-30-51---fire_jpg.rf.f1f1e4fa36e5efd9d84400f4b9159356.jpg  \n",
            " extracting: train/-30-52---fire_jpg.rf.1841716b9be0e6168e4cba5dfe940b45.jpg  \n",
            " extracting: train/-30-52---fire_jpg.rf.27fa04ccd4ce03c6a775d1a42900f658.jpg  \n",
            " extracting: train/-30-52---fire_jpg.rf.45018c9baa847af39324f768fd0c4092.jpg  \n",
            " extracting: train/-30-53---fire_jpg.rf.6e336029835a1d59b2b69600bc0bafa7.jpg  \n",
            " extracting: train/-30-53---fire_jpg.rf.897a5c887d8b0ea459736b0fe624a24a.jpg  \n",
            " extracting: train/-30-53---fire_jpg.rf.c6249bb42e6ad84f7b7c55e63a27c735.jpg  \n",
            " extracting: train/-31-13---fire_jpg.rf.0a37b87eb053486a85137c1811615e7c.jpg  \n",
            " extracting: train/-31-13---fire_jpg.rf.73318a5284eb9f0c4691145318121ff2.jpg  \n",
            " extracting: train/-31-13---fire_jpg.rf.ca186988a963308ed4e3cfd8be2eb10b.jpg  \n",
            " extracting: train/-31-15---fire_jpg.rf.5f70608d1a4f17b9655194af2958580c.jpg  \n",
            " extracting: train/-31-15---fire_jpg.rf.8f58d5524a054705654e6f859d7371e3.jpg  \n",
            " extracting: train/-31-15---fire_jpg.rf.aa924252f455024af2f6cd8c9d8ec591.jpg  \n",
            " extracting: train/-31-17---fire_jpg.rf.5452a63e07a1e20ad070bec29d78d44f.jpg  \n",
            " extracting: train/-31-17---fire_jpg.rf.54d796631e89db99c69f68da9993e759.jpg  \n",
            " extracting: train/-31-17---fire_jpg.rf.e96e9aa8bb6caec61aa2247e0f88cbb3.jpg  \n",
            " extracting: train/-31-18---fire_jpg.rf.0b5f1ec4cef954b83d355f75dad71f17.jpg  \n",
            " extracting: train/-31-18---fire_jpg.rf.84ab35d49bcc6b6e0e1fa450f09b353d.jpg  \n",
            " extracting: train/-31-18---fire_jpg.rf.9072cd4ed8702955c5e320592404b5bc.jpg  \n",
            " extracting: train/-31-19---fire_jpg.rf.3a0e513d113d4e25f763b356fa503735.jpg  \n",
            " extracting: train/-31-19---fire_jpg.rf.9e450573bc418d122a4e1dd9ec4c63de.jpg  \n",
            " extracting: train/-31-19---fire_jpg.rf.aae574b104c39fa56ea68dbdbc68b9f7.jpg  \n",
            " extracting: train/-31-20---fire_jpg.rf.2d9de880f7fa829714bd911442377dac.jpg  \n",
            " extracting: train/-31-20---fire_jpg.rf.c0b2442eda85e4adf7ee49fdb4c9b52b.jpg  \n",
            " extracting: train/-31-20---fire_jpg.rf.d3d3594997cb86ac4f0646a191ff9a31.jpg  \n",
            " extracting: train/-32-53---fire_jpg.rf.5a9ddc4708cbe3886520157c7dc89609.jpg  \n",
            " extracting: train/-32-53---fire_jpg.rf.cae4cda3ddc2f11392d072e5918733e7.jpg  \n",
            " extracting: train/-32-53---fire_jpg.rf.ceb65eb3f8f0e8193ff6e7baa00b59ea.jpg  \n",
            " extracting: train/-32-55---fire_jpg.rf.13dd36f9fa682a071df2177b238160a1.jpg  \n",
            " extracting: train/-32-55---fire_jpg.rf.2832d07df960d40b186ce7df7f1f80b0.jpg  \n",
            " extracting: train/-32-55---fire_jpg.rf.7c51e1ed7672d3d266c135a6045a57b6.jpg  \n",
            " extracting: train/-32-56---fire_jpg.rf.65851a25bea46e732377065949f86b2a.jpg  \n",
            " extracting: train/-32-56---fire_jpg.rf.6ace3298f3724c3c25cc26ffe81c8562.jpg  \n",
            " extracting: train/-32-56---fire_jpg.rf.9fee7b6c9dbb776cf823c900f3b20122.jpg  \n",
            " extracting: train/-32-57---fire_jpg.rf.3733150539d1f779de9d60fd2c7ad10d.jpg  \n",
            " extracting: train/-32-57---fire_jpg.rf.3e47e55ef4815ff2d6cbfa5b26472366.jpg  \n",
            " extracting: train/-32-57---fire_jpg.rf.3f2a385be9ff7d38c603b0224ca2f13d.jpg  \n",
            " extracting: train/-32-58---fire_jpg.rf.19b2d8eda20bb09a48d15ccb4cfb5ac1.jpg  \n",
            " extracting: train/-32-58---fire_jpg.rf.a38f98645f55649934fa5535ce6a51f2.jpg  \n",
            " extracting: train/-32-58---fire_jpg.rf.f8c32fbbc4d5d5d73373c3514c1d78be.jpg  \n",
            " extracting: train/-32-59---fire_jpg.rf.1d70decb8de439987abc1ac3c94c9868.jpg  \n",
            " extracting: train/-32-59---fire_jpg.rf.98b2c77e4a6032d33d26637d9a2ddaf9.jpg  \n",
            " extracting: train/-32-59---fire_jpg.rf.c622a4e6b77084d15ad52d1b6282b6ad.jpg  \n",
            " extracting: train/-32-60---fire_jpg.rf.23621bd213514cd83bedd13573cf20b2.jpg  \n",
            " extracting: train/-32-60---fire_jpg.rf.b5ea8024fc32891ae009c0da2a4890c6.jpg  \n",
            " extracting: train/-32-60---fire_jpg.rf.f0738c1e327c55f1c37315b8bb48b131.jpg  \n",
            " extracting: train/-32-61---fire_jpg.rf.1eb467d1ae0fdc299c0b81f3f57f5006.jpg  \n",
            " extracting: train/-32-61---fire_jpg.rf.4e866824ac81e531c5175cd2f3dbfc38.jpg  \n",
            " extracting: train/-32-61---fire_jpg.rf.a85aabd0bc7d4443636ed76d585630f0.jpg  \n",
            " extracting: train/-32-63---fire_jpg.rf.350ccffe79e085e89b0c81636a94ca93.jpg  \n",
            " extracting: train/-32-63---fire_jpg.rf.708ee19e744c052c0c8817c25396037b.jpg  \n",
            " extracting: train/-32-63---fire_jpg.rf.f9b991a19849a9d5084de905f06dba35.jpg  \n",
            " extracting: train/-32-64---fire_jpg.rf.147b94cb25464f86b8e5f12edc6e868b.jpg  \n",
            " extracting: train/-32-64---fire_jpg.rf.1580bf346a45037d124bb79f72d0027d.jpg  \n",
            " extracting: train/-32-64---fire_jpg.rf.ffd6c736d8c5a4af6bd1683901dd91e9.jpg  \n",
            " extracting: train/-32-65---fire_jpg.rf.1821df6f16da924284eee9d383fe0f20.jpg  \n",
            " extracting: train/-32-65---fire_jpg.rf.34fccfec0f0ab5185120198c75c46c35.jpg  \n",
            " extracting: train/-32-65---fire_jpg.rf.6ac76b5a2862a27ad9345b1cc557d53d.jpg  \n",
            " extracting: train/-32-66---fire_jpg.rf.119e010d039f5ba91d280cb842ca915f.jpg  \n",
            " extracting: train/-32-66---fire_jpg.rf.58a90844a86f71f852c53074418d59b2.jpg  \n",
            " extracting: train/-32-66---fire_jpg.rf.e668e2a54080af97661a690f66247ca6.jpg  \n",
            " extracting: train/-32-68---fire_jpg.rf.1e9c9ba63b0be4272e46afa8b3584bf2.jpg  \n",
            " extracting: train/-32-68---fire_jpg.rf.61cf356ccc9d19e0e0b5a63240d1bac1.jpg  \n",
            " extracting: train/-32-68---fire_jpg.rf.b9d9409f129e284341e1bca0c4e36302.jpg  \n",
            " extracting: train/-32-69---fire_jpg.rf.4d9c23312b4645271056f31ff217231a.jpg  \n",
            " extracting: train/-32-69---fire_jpg.rf.81006dc344c6260874a6b78f065d77ba.jpg  \n",
            " extracting: train/-32-69---fire_jpg.rf.cb0d8939582929a9c515e236fc22fa38.jpg  \n",
            " extracting: train/-32-70---fire_jpg.rf.b3970da86fb5a9cb701ed98eabcd5393.jpg  \n",
            " extracting: train/-32-70---fire_jpg.rf.da747e829a46973e1902d98ebdfa34fb.jpg  \n",
            " extracting: train/-32-70---fire_jpg.rf.fd1c71adb1309cb0773a4fc990c00baf.jpg  \n",
            " extracting: train/-32-72---fire_jpg.rf.17879b7b72ece49caca6a0a1add8f3eb.jpg  \n",
            " extracting: train/-32-72---fire_jpg.rf.49b6f4a884e4fd5eccb77d5cd23fd370.jpg  \n",
            " extracting: train/-32-72---fire_jpg.rf.5dabdc7dd48e6e2f9f0827768de1a568.jpg  \n",
            " extracting: train/-32-73---fire_jpg.rf.2d6b0ce4d73a852b3eecb0f44268c1d2.jpg  \n",
            " extracting: train/-32-73---fire_jpg.rf.5354341893517aa416bddb73408c0762.jpg  \n",
            " extracting: train/-32-73---fire_jpg.rf.86acc0670c1790bef7d64a2c4ebe36e9.jpg  \n",
            " extracting: train/-32-74---fire_jpg.rf.ae5e84fcb20584209024384add797425.jpg  \n",
            " extracting: train/-32-74---fire_jpg.rf.c8265681c92a8c0f93b5fdc7b760c23b.jpg  \n",
            " extracting: train/-32-74---fire_jpg.rf.f16be8f049da2ed85977a407a6722797.jpg  \n",
            " extracting: train/-33-17---fire_jpg.rf.10808517e7aa9aaab867844123062f92.jpg  \n",
            " extracting: train/-33-17---fire_jpg.rf.2a7d8492606f6ce1ba108c83eee5241b.jpg  \n",
            " extracting: train/-33-17---fire_jpg.rf.4f8599aa83284b5cab758412f5af002d.jpg  \n",
            " extracting: train/-33-18---fire_jpg.rf.2fe74caa498d3f8f7ed01d939270b92a.jpg  \n",
            " extracting: train/-33-18---fire_jpg.rf.4654484416af4b0dc19ea6317e24e73b.jpg  \n",
            " extracting: train/-33-18---fire_jpg.rf.ffbad962871346ca3059ac2a481eb842.jpg  \n",
            " extracting: train/-33-19---fire_jpg.rf.43b9d7d19eb836e43fa0d92b09b1a307.jpg  \n",
            " extracting: train/-33-19---fire_jpg.rf.d354d0e6b6968d47bb3e2524ef83d5d2.jpg  \n",
            " extracting: train/-33-19---fire_jpg.rf.ef3317337757d24b5436b92017250f22.jpg  \n",
            " extracting: train/-33-21---fire_jpg.rf.05aeab9dcde7dfd079a39ceb25b706f6.jpg  \n",
            " extracting: train/-33-21---fire_jpg.rf.078a96b1211a4e9f4046616c37e67f7e.jpg  \n",
            " extracting: train/-33-21---fire_jpg.rf.d27e2c2257fc8270c00c7c8c85130f55.jpg  \n",
            " extracting: train/-33-22---fire_jpg.rf.8fc0ee9413b1258804996b8923240a08.jpg  \n",
            " extracting: train/-33-22---fire_jpg.rf.ac8768febf47df98865457c8fb7d3d7e.jpg  \n",
            " extracting: train/-33-22---fire_jpg.rf.d16903b7848bd6b9f8377f16f0c42446.jpg  \n",
            " extracting: train/-33-23---fire_jpg.rf.3b668b20ea1079543405cad50659a932.jpg  \n",
            " extracting: train/-33-23---fire_jpg.rf.87cd5ad5973a54de63deb624f882b1ac.jpg  \n",
            " extracting: train/-33-23---fire_jpg.rf.c950a16a2df3f59b6fe41123849ae614.jpg  \n",
            " extracting: train/-33-24---fire_jpg.rf.1af581a19be42a8f4ce620eaf837f6ee.jpg  \n",
            " extracting: train/-33-24---fire_jpg.rf.aa38a07021f92a51a838dd46d868bd06.jpg  \n",
            " extracting: train/-33-24---fire_jpg.rf.b31f6a46b215b3b5860b3be1fb790fb6.jpg  \n",
            " extracting: train/-33-33---fire_jpg.rf.2228f379a7b079d0d2f93fb7697a212f.jpg  \n",
            " extracting: train/-33-33---fire_jpg.rf.40b853ff758b6b3db55c11ba1a9148a0.jpg  \n",
            " extracting: train/-33-33---fire_jpg.rf.b10068da94b30b00472301f0c9cc31df.jpg  \n",
            " extracting: train/-33-34---fire_jpg.rf.5c45f9b2481a7bcda0af2725b2b248fb.jpg  \n",
            " extracting: train/-33-34---fire_jpg.rf.b57937d4f2d0de5421ada1ca61315644.jpg  \n",
            " extracting: train/-33-34---fire_jpg.rf.d68ebd16e8c9b041f6f2e92887ec722c.jpg  \n",
            " extracting: train/-33-35---fire_jpg.rf.68607864ac19baba3208c8f547d58b9a.jpg  \n",
            " extracting: train/-33-35---fire_jpg.rf.70dfd1cece62b219dac477ae82812c94.jpg  \n",
            " extracting: train/-33-35---fire_jpg.rf.dae5dc8547ea0b95bd1832590c644114.jpg  \n",
            " extracting: train/-33-36---fire_jpg.rf.279f4a7638ab025b9a9ce26c61ff1146.jpg  \n",
            " extracting: train/-33-36---fire_jpg.rf.47d56ac53d71f36bf518f78fd30bf24d.jpg  \n",
            " extracting: train/-33-36---fire_jpg.rf.d03519d701ecacf749fa42cf780fe6ec.jpg  \n",
            " extracting: train/-33-37---fire_jpg.rf.3c6c3161dd54ae413bb59579ac41ce2b.jpg  \n",
            " extracting: train/-33-37---fire_jpg.rf.44b5381fd1869a0666f1b79e6e127d8f.jpg  \n",
            " extracting: train/-33-37---fire_jpg.rf.d3775520109201d14db79db68da0ed88.jpg  \n",
            " extracting: train/-33-38---fire_jpg.rf.0def720417c65ebf1f355938dd4f08ab.jpg  \n",
            " extracting: train/-33-38---fire_jpg.rf.671224a4f3ba8ed826c43921c5df253f.jpg  \n",
            " extracting: train/-33-38---fire_jpg.rf.6fe228000b68e0783d10230353da2817.jpg  \n",
            " extracting: train/-33-40---fire_jpg.rf.0d923f50a77bd252176c221feabb2584.jpg  \n",
            " extracting: train/-33-40---fire_jpg.rf.63219f81ff15181e86af6a1d268b4a5a.jpg  \n",
            " extracting: train/-33-40---fire_jpg.rf.826b0f305ea39692d2c37fd8b562974f.jpg  \n",
            " extracting: train/-33-50---fire_jpg.rf.33dff7e5c00746366b46fcc377fdbad3.jpg  \n",
            " extracting: train/-33-50---fire_jpg.rf.3458a539c6dbefdbb076982b01149a7c.jpg  \n",
            " extracting: train/-33-50---fire_jpg.rf.d18d9ac4e7ee2b88ac9825212e5959de.jpg  \n",
            " extracting: train/-33-52---fire_jpg.rf.81ef154818878fdafbba8d586d9d77da.jpg  \n",
            " extracting: train/-33-52---fire_jpg.rf.a1a52a0418a6c3d4420f06bd5fb6dc26.jpg  \n",
            " extracting: train/-33-52---fire_jpg.rf.acbd861affeb1f458abd4967b4c83ea8.jpg  \n",
            " extracting: train/-33-55---fire_jpg.rf.15b4c0fadff2d4085b311f42634889f9.jpg  \n",
            " extracting: train/-33-55---fire_jpg.rf.7df003ead8477ddd03964aefceac84f9.jpg  \n",
            " extracting: train/-33-55---fire_jpg.rf.df46b155c2bebe7a33bcd076a4322096.jpg  \n",
            " extracting: train/-33-56---fire_jpg.rf.06ee86bbc6d9790b2dcc29f30a3565bb.jpg  \n",
            " extracting: train/-33-56---fire_jpg.rf.818a4def0af9a2e0602faca55c7c0289.jpg  \n",
            " extracting: train/-33-56---fire_jpg.rf.a0fd998489bc808dee01de81fb2fc0de.jpg  \n",
            " extracting: train/-33-57---fire_jpg.rf.37c3a17c33ed29a2e442680f508bed9d.jpg  \n",
            " extracting: train/-33-57---fire_jpg.rf.7efa07896e5abf2dc46836415867c94a.jpg  \n",
            " extracting: train/-33-57---fire_jpg.rf.afc74aeda7396bbad5b9f2d26c0e7a25.jpg  \n",
            " extracting: train/-33-58---fire_jpg.rf.4c53face0f7bfc2597d5b09ad19da8ce.jpg  \n",
            " extracting: train/-33-58---fire_jpg.rf.d3f9c9439ca2811dce565fd81aacc02a.jpg  \n",
            " extracting: train/-33-58---fire_jpg.rf.dfcf8941bf193d31c2d6db70cc437a96.jpg  \n",
            " extracting: train/-33-59---fire_jpg.rf.1b3c8add610d1d3b072556e4b922241f.jpg  \n",
            " extracting: train/-33-59---fire_jpg.rf.4e4ac2e92d42fce22d2d866dbdbd22c2.jpg  \n",
            " extracting: train/-33-59---fire_jpg.rf.8b5393d5fabeebb2d8e3b5645fd98dff.jpg  \n",
            " extracting: train/-33-60---fire_jpg.rf.6ffdbeb1a6b174e360a5215da7e76045.jpg  \n",
            " extracting: train/-33-60---fire_jpg.rf.9a8ded301a895c92e08c9024ba3a9fd2.jpg  \n",
            " extracting: train/-33-60---fire_jpg.rf.e385cedf45bf5be565b6e87e064222c4.jpg  \n",
            " extracting: train/-33-61---fire_jpg.rf.529b93eaca5215623c72aefd8ebb9b98.jpg  \n",
            " extracting: train/-33-61---fire_jpg.rf.7173dc3c2338211c74c6ad7610316e70.jpg  \n",
            " extracting: train/-33-61---fire_jpg.rf.8ff3a15f65baf3a1f0bbc0e798c43a7b.jpg  \n",
            " extracting: train/-33-63---fire_jpg.rf.0658928ea1506f563c85c1493c3e1014.jpg  \n",
            " extracting: train/-33-63---fire_jpg.rf.59e687c878b41bd81c1bb6d748355936.jpg  \n",
            " extracting: train/-33-63---fire_jpg.rf.63f2508bddf6c13a7ce7b7130b64339b.jpg  \n",
            " extracting: train/-33-64---fire_jpg.rf.250f98bbdf9138d2e05421c010884c6c.jpg  \n",
            " extracting: train/-33-64---fire_jpg.rf.9920df19161355b619a9f9232b20e1c7.jpg  \n",
            " extracting: train/-33-64---fire_jpg.rf.af6871bb0a13cfd5100be273b999ca3e.jpg  \n",
            " extracting: train/-33-65---fire_jpg.rf.3d887b1787284e972200765e897ee6df.jpg  \n",
            " extracting: train/-33-65---fire_jpg.rf.9ab74e101061ec41021ae3ec68e97c23.jpg  \n",
            " extracting: train/-33-65---fire_jpg.rf.fba4f498ba229ff9669bb27b9483e5b8.jpg  \n",
            " extracting: train/-33-66---fire_jpg.rf.522e103f1ac26a5ec5ac7c55dcf0154e.jpg  \n",
            " extracting: train/-33-66---fire_jpg.rf.a7baa12a29105f6fa4c746dda5b879b2.jpg  \n",
            " extracting: train/-33-66---fire_jpg.rf.d1dc73f09f731cff2383d36400254c0e.jpg  \n",
            " extracting: train/-34-73---fire_jpg.rf.43528ca8cee101d3f9cef7f6b40b22de.jpg  \n",
            " extracting: train/-34-73---fire_jpg.rf.9a4679d3d130bedc5651e496f1da4932.jpg  \n",
            " extracting: train/-34-73---fire_jpg.rf.c422d5f6cc833b8e542aa5a54d3426ba.jpg  \n",
            " extracting: train/-34-74---fire_jpg.rf.7b37eefc4ed24c01405d49304bd78c99.jpg  \n",
            " extracting: train/-34-74---fire_jpg.rf.88ebafa527cba22416cee2cea6abb183.jpg  \n",
            " extracting: train/-34-74---fire_jpg.rf.d79dac2d57a4be7cb0792edf94647578.jpg  \n",
            " extracting: train/-34-75---fire_jpg.rf.2116c514df55103fa0b13f1bb8cae812.jpg  \n",
            " extracting: train/-34-75---fire_jpg.rf.39b5cf0bd7f154f85807c244198d1cfd.jpg  \n",
            " extracting: train/-34-75---fire_jpg.rf.aaeb4cf45dfc6415994cc57f859a05e0.jpg  \n",
            " extracting: train/-35-27---fire_jpg.rf.a655df2542f7fee32308395ad75cb804.jpg  \n",
            " extracting: train/-35-27---fire_jpg.rf.efa6e159ec8286e7df2728c44c18ecc6.jpg  \n",
            " extracting: train/-35-27---fire_jpg.rf.fa8cb67c4cfc86a89fc837e1bc30f6fa.jpg  \n",
            " extracting: train/-35-31---fire_jpg.rf.e93b0e45dbf2ff97925c10ac4c353cfc.jpg  \n",
            " extracting: train/-35-31---fire_jpg.rf.f820ac08e6d7592cfc2f305a1591a478.jpg  \n",
            " extracting: train/-35-31---fire_jpg.rf.fca464015291c9503dc71e94391e5861.jpg  \n",
            " extracting: train/-35-32---fire_jpg.rf.102520b7b3650633492788c767ea003a.jpg  \n",
            " extracting: train/-35-32---fire_jpg.rf.aa26c96d7a88062be2cb5d195c88fc41.jpg  \n",
            " extracting: train/-35-32---fire_jpg.rf.b7d2d29287ad546dd9b99aaa4c781d26.jpg  \n",
            " extracting: train/-35-33---fire_jpg.rf.21bcdd03e5c58b1fe244d31b40af8f87.jpg  \n",
            " extracting: train/-35-33---fire_jpg.rf.5733d4f6d5668617bf24789670a15588.jpg  \n",
            " extracting: train/-35-33---fire_jpg.rf.a4d10af09a73b9103644734730bbf96e.jpg  \n",
            " extracting: train/-36-10---fire_jpg.rf.5b47e3a3dc8a32275c1ef7883e1e4c1a.jpg  \n",
            " extracting: train/-36-10---fire_jpg.rf.7b89e2775932055561c52c85e2120250.jpg  \n",
            " extracting: train/-36-10---fire_jpg.rf.de949807f7c71ecf0ab3a30880312d2b.jpg  \n",
            " extracting: train/-36-11---fire_jpg.rf.4babc0bdefaca44136c086390ecd70a1.jpg  \n",
            " extracting: train/-36-11---fire_jpg.rf.56dcf54571a0e2d200239d93374d96f9.jpg  \n",
            " extracting: train/-36-11---fire_jpg.rf.f8a1f0a702b10ab73cd816384137a265.jpg  \n",
            " extracting: train/-36-13---fire_jpg.rf.50f10d1a26a4e5ebf41ac348dc78e95b.jpg  \n",
            " extracting: train/-36-13---fire_jpg.rf.59adad5e427ac525d9a9769c61081b95.jpg  \n",
            " extracting: train/-36-13---fire_jpg.rf.fb1056131b912ea01c98ca51d8001756.jpg  \n",
            " extracting: train/-36-15---fire_jpg.rf.2c7181c862cd619a8135d4f449f054cd.jpg  \n",
            " extracting: train/-36-15---fire_jpg.rf.90ad353ce27b9baccaa62c7ad27350a6.jpg  \n",
            " extracting: train/-36-15---fire_jpg.rf.fb7f0c733c29f3b79f59f45430240456.jpg  \n",
            " extracting: train/-36-16---fire_jpg.rf.4611c6c0f5334b361c80e68b92388884.jpg  \n",
            " extracting: train/-36-16---fire_jpg.rf.7453b30b1fe849468f5aecf6fa32267c.jpg  \n",
            " extracting: train/-36-16---fire_jpg.rf.cd1849b0c48e11d5fced797980b79d0b.jpg  \n",
            " extracting: train/-36-4---fire_jpg.rf.153c625b37f80687531059a1d2fd52c5.jpg  \n",
            " extracting: train/-36-4---fire_jpg.rf.40c5510673b51390e68f1df1681cde81.jpg  \n",
            " extracting: train/-36-4---fire_jpg.rf.d189823fea9dbce742dfa498dffdc16a.jpg  \n",
            " extracting: train/-36-5---fire_jpg.rf.3fdc6abdab21bc5d12e6ea989f66c15f.jpg  \n",
            " extracting: train/-36-5---fire_jpg.rf.9bf1b22bfb526697bab172025daba90e.jpg  \n",
            " extracting: train/-36-5---fire_jpg.rf.a404de1d1d9beade46e3d5f52b5a684d.jpg  \n",
            " extracting: train/-36-7---fire_jpg.rf.35ed2023d7024f8ea9c6bbc98480e6ec.jpg  \n",
            " extracting: train/-36-7---fire_jpg.rf.4edb213d8535cace143d89c2f7491208.jpg  \n",
            " extracting: train/-36-7---fire_jpg.rf.8e87969c8253c5587bf7f3d8454e8365.jpg  \n",
            " extracting: train/-36-8---fire_jpg.rf.bd468e21809ccc53e80aa174cd6689de.jpg  \n",
            " extracting: train/-36-8---fire_jpg.rf.df450ba7ea4c842df1a01c944fbb6e78.jpg  \n",
            " extracting: train/-36-8---fire_jpg.rf.ed093bf78e78e5d16ad115d447bc2337.jpg  \n",
            " extracting: train/-38-23---fire_jpg.rf.077f87b5c38fa2af6ce34c51f9f7b567.jpg  \n",
            " extracting: train/-38-23---fire_jpg.rf.47054339d59c9dcab778dfa4be59d87e.jpg  \n",
            " extracting: train/-38-23---fire_jpg.rf.c34bd9ca5fb326522de77bb8de74556f.jpg  \n",
            " extracting: train/-38-24---fire_jpg.rf.070caf48eb3027bfc5bf86f3b85cbbe5.jpg  \n",
            " extracting: train/-38-24---fire_jpg.rf.852325d8f61838fb641f919cf7fd96dc.jpg  \n",
            " extracting: train/-38-24---fire_jpg.rf.b850aea8cb85edbd9884bdd2d8c4fca5.jpg  \n",
            " extracting: train/-38-25---fire_jpg.rf.474c6f1cd10f9474d1627ccd66be3ec1.jpg  \n",
            " extracting: train/-38-25---fire_jpg.rf.4b544b4adc5454916147635d3e2de9de.jpg  \n",
            " extracting: train/-38-25---fire_jpg.rf.d0484b4661a26c2787f76742c128f8d5.jpg  \n",
            " extracting: train/-38-26---fire_jpg.rf.29ad02e25dada64fa1e6b0e0cd41f1e2.jpg  \n",
            " extracting: train/-38-26---fire_jpg.rf.3529e45d2c10a952716fd7d50e1ba096.jpg  \n",
            " extracting: train/-38-26---fire_jpg.rf.5dcc8f0c045ba8445d97bae73217a47d.jpg  \n",
            " extracting: train/-38-27---fire_jpg.rf.675eb062794f4a334bfd486b643fb76d.jpg  \n",
            " extracting: train/-38-27---fire_jpg.rf.6c0e07d5bddcfbfd8b90135784ba0bfb.jpg  \n",
            " extracting: train/-38-27---fire_jpg.rf.9364719fe21c7e7979a5a496e0e6c6ad.jpg  \n",
            " extracting: train/-38-28---fire_jpg.rf.17855dfe244d48f10692a5895290cf36.jpg  \n",
            " extracting: train/-38-28---fire_jpg.rf.8dd9d984f94380388bfc8a58be508dc0.jpg  \n",
            " extracting: train/-38-28---fire_jpg.rf.ec3406be00396c4ad084cba77f4c2dff.jpg  \n",
            " extracting: train/-38-29---fire_jpg.rf.5d9f65a6f24ac3e1a5fc97b64997b028.jpg  \n",
            " extracting: train/-38-29---fire_jpg.rf.60b15f4e98929697bc063356672f515a.jpg  \n",
            " extracting: train/-38-29---fire_jpg.rf.d9e9c24a6517e4efb92abaa75d99e657.jpg  \n",
            " extracting: train/-38-30---fire_jpg.rf.5a98372694ed68a31aa5dc3457c9734c.jpg  \n",
            " extracting: train/-38-30---fire_jpg.rf.9e6c742fded6dc214530c5a67abd9b5e.jpg  \n",
            " extracting: train/-38-30---fire_jpg.rf.af0e0e27ada44bb55154c82e50014d72.jpg  \n",
            " extracting: train/-38-31---fire_jpg.rf.911fca4899a4498ee237c169727fcb91.jpg  \n",
            " extracting: train/-38-31---fire_jpg.rf.a2f1155e93f3510e3c5ca95f854502d3.jpg  \n",
            " extracting: train/-38-31---fire_jpg.rf.c60b7e8fe6a4d07e612a135e726a45b4.jpg  \n",
            " extracting: train/-38-32---fire_jpg.rf.041ad88db7198e5d441a407e2a16ffd2.jpg  \n",
            " extracting: train/-38-32---fire_jpg.rf.9d3b687adcb868884317f74497216bd2.jpg  \n",
            " extracting: train/-38-32---fire_jpg.rf.f6d4578d41f94513e9a7026084a7b841.jpg  \n",
            " extracting: train/-38-33---fire_jpg.rf.68789be70f2a5f19e1ef5f104b7d7640.jpg  \n",
            " extracting: train/-38-33---fire_jpg.rf.6bf3ec71870f6a008b161db514279619.jpg  \n",
            " extracting: train/-38-33---fire_jpg.rf.99226e9bb8dbb889b8f4dcc98f43d76c.jpg  \n",
            " extracting: train/-38-34---fire_jpg.rf.18f81ed7c2dc2f8ef61a629288682460.jpg  \n",
            " extracting: train/-38-34---fire_jpg.rf.70823f3e3bcce232e424b0f302db11df.jpg  \n",
            " extracting: train/-38-34---fire_jpg.rf.a3ce3f018dc2f689212c2ec235cf9f4f.jpg  \n",
            " extracting: train/-38-35---fire_jpg.rf.3724e63918124c375dce50f2ea2b9211.jpg  \n",
            " extracting: train/-38-35---fire_jpg.rf.3db059a181af9b7682f49e1c47d2e596.jpg  \n",
            " extracting: train/-38-35---fire_jpg.rf.73ac0e971817c6813ca3f6fa6416e08a.jpg  \n",
            " extracting: train/-38-36---fire_jpg.rf.b75504c7a86a3fc2d21e7139bdf346d1.jpg  \n",
            " extracting: train/-38-36---fire_jpg.rf.da7cf90136584b7f9cac76d38900b52d.jpg  \n",
            " extracting: train/-38-36---fire_jpg.rf.e4e81fed93c71569a73fce36d4b58235.jpg  \n",
            " extracting: train/-38-37---fire_jpg.rf.0c629fe0a3c285dcfefa01a735fb66a2.jpg  \n",
            " extracting: train/-38-37---fire_jpg.rf.4b8d20de4dbc692c021d5b4263cb4f85.jpg  \n",
            " extracting: train/-38-37---fire_jpg.rf.fba84447e26788fc4bf17cbf4ca9c306.jpg  \n",
            " extracting: train/-38-38---fire_jpg.rf.ba70b44bdc05b59d4e50ee103c17edcc.jpg  \n",
            " extracting: train/-38-38---fire_jpg.rf.bf2ed2394e3157fda74afd38f490df0e.jpg  \n",
            " extracting: train/-38-38---fire_jpg.rf.cb12b21908851d9739565e524607b440.jpg  \n",
            " extracting: train/-38-40---fire_jpg.rf.5bffcbca1993f7075f6c1959b520823b.jpg  \n",
            " extracting: train/-38-40---fire_jpg.rf.c7963b1f6043984f03c5b337e54583d3.jpg  \n",
            " extracting: train/-38-40---fire_jpg.rf.de35d290872840b3919aac1deb7ea1b0.jpg  \n",
            " extracting: train/-38-41---fire_jpg.rf.28b57b192dfc31afa3c1512636c40857.jpg  \n",
            " extracting: train/-38-41---fire_jpg.rf.73e15333a85e0314c29f5dbbe6ed1ba7.jpg  \n",
            " extracting: train/-38-41---fire_jpg.rf.e62ae07cef2e9ef0d5d38af7404449ff.jpg  \n",
            " extracting: train/-38-43---fire_jpg.rf.1f5df57a520db4dcc20d970faefa5f10.jpg  \n",
            " extracting: train/-38-43---fire_jpg.rf.35e7f129eb1d54c5c8b13ead6f44e6ea.jpg  \n",
            " extracting: train/-38-43---fire_jpg.rf.e5091b1951b9ff6d57d5be62dd2ea9ff.jpg  \n",
            " extracting: train/-38-44---fire_jpg.rf.46cb5f1e67fb50eea842f83c44725383.jpg  \n",
            " extracting: train/-38-44---fire_jpg.rf.5538c09ea6415e99a8feace239be5f77.jpg  \n",
            " extracting: train/-38-44---fire_jpg.rf.5b80427149b99399228b1bdcfab12bbe.jpg  \n",
            " extracting: train/-38-45---fire_jpg.rf.3827a138c540da47c9a6d6bc0b135552.jpg  \n",
            " extracting: train/-38-45---fire_jpg.rf.dc70b4c98e1fdc8794ee41ef54b8a929.jpg  \n",
            " extracting: train/-38-45---fire_jpg.rf.e687c69190dc6ee3f3fab7b93c16632a.jpg  \n",
            " extracting: train/-38-47---fire_jpg.rf.5cc1f9e6f4b34f2a4591355c78f4ce42.jpg  \n",
            " extracting: train/-38-47---fire_jpg.rf.966db783b436ebfe3b15ca8d6b52faa7.jpg  \n",
            " extracting: train/-38-47---fire_jpg.rf.b9849eb81000a35ee19b970d57a53472.jpg  \n",
            " extracting: train/-38-48---fire_jpg.rf.2d2504bd7669705b4b02eaf90e1f6594.jpg  \n",
            " extracting: train/-38-48---fire_jpg.rf.786d1a951c76cdd1453b7e147dbed0b7.jpg  \n",
            " extracting: train/-38-48---fire_jpg.rf.e0cb72dd44bf4501b8eb37299342ffc3.jpg  \n",
            " extracting: train/-38-49---fire_jpg.rf.4390ab1b5b941b1a93692f3b0bcd60f0.jpg  \n",
            " extracting: train/-38-49---fire_jpg.rf.a906745bfee099a9a91a0e21b013bd7f.jpg  \n",
            " extracting: train/-38-49---fire_jpg.rf.c5e6b008d85c27d036d20cd775a36a20.jpg  \n",
            " extracting: train/-38-50---fire_jpg.rf.4ac5d26cd68a0495548783c53c384232.jpg  \n",
            " extracting: train/-38-50---fire_jpg.rf.f023e9a5acc8ea178211869679c60ea9.jpg  \n",
            " extracting: train/-38-50---fire_jpg.rf.fe95411b902a79cfb701150bc45c5a9b.jpg  \n",
            " extracting: train/-38-51---fire_jpg.rf.3d73b94755d2ee118f2490bbb1af39bd.jpg  \n",
            " extracting: train/-38-51---fire_jpg.rf.48472a3379613bfe7efefd56d86ea2c8.jpg  \n",
            " extracting: train/-38-51---fire_jpg.rf.9c6202c58d954805c6ec305fc775568e.jpg  \n",
            " extracting: train/-38-52---fire_jpg.rf.14e6b812e132a3122085714fa818be72.jpg  \n",
            " extracting: train/-38-52---fire_jpg.rf.457ed8f9ef350cdbc324bab8c247f929.jpg  \n",
            " extracting: train/-38-52---fire_jpg.rf.f70e63272c4b0958f8040f4613ab0d1f.jpg  \n",
            " extracting: train/-38-53---fire_jpg.rf.4527ddcc3410d44bcabbe48b372f70b9.jpg  \n",
            " extracting: train/-38-53---fire_jpg.rf.ac2d9d46e4da3923dbeb539ce8900e8c.jpg  \n",
            " extracting: train/-38-53---fire_jpg.rf.b3a5278f3f9dbae22c75084f7417eb06.jpg  \n",
            " extracting: train/-38-54---fire_jpg.rf.180dfe9784ff3309b4d40ce014282591.jpg  \n",
            " extracting: train/-38-54---fire_jpg.rf.638566ca5535ac81a9c606f90f08d1f5.jpg  \n",
            " extracting: train/-38-54---fire_jpg.rf.9a8fae959b22a99013036795c42681ec.jpg  \n",
            " extracting: train/-38-82---fire_jpg.rf.334823df95086b984752a8c4a139a25e.jpg  \n",
            " extracting: train/-38-82---fire_jpg.rf.4dd16d33a714aaeb2cef6dc88925915e.jpg  \n",
            " extracting: train/-38-82---fire_jpg.rf.502496d66c44135925198ac313b44128.jpg  \n",
            " extracting: train/-38-85---fire_jpg.rf.1029d5c5f944afb3be6e5739b055f0ec.jpg  \n",
            " extracting: train/-38-85---fire_jpg.rf.b8dd63ac91e69a4c5ce75486b4533c8d.jpg  \n",
            " extracting: train/-38-85---fire_jpg.rf.c7670f0fdd0efef9eac813678a7d9731.jpg  \n",
            " extracting: train/-38-86---fire_jpg.rf.891666638d7de5486717dc76b2f35cad.jpg  \n",
            " extracting: train/-38-86---fire_jpg.rf.9af4a703fd64b2b749a6b5dd300ed47a.jpg  \n",
            " extracting: train/-38-86---fire_jpg.rf.a38f146dfd37943721f524159e5cf5d6.jpg  \n",
            " extracting: train/-38-87---fire_jpg.rf.29b369e1ba864c649251f35a6b353984.jpg  \n",
            " extracting: train/-38-87---fire_jpg.rf.4767fb14c0c451b8d6835c0858e6475b.jpg  \n",
            " extracting: train/-38-87---fire_jpg.rf.8be35d0f308ab53e3a2afc0f53836b23.jpg  \n",
            " extracting: train/-38-88---fire_jpg.rf.9fb47a6335c526b3c78cd0623301553d.jpg  \n",
            " extracting: train/-38-88---fire_jpg.rf.b134adffce037e13b3cbc13395fcf351.jpg  \n",
            " extracting: train/-38-88---fire_jpg.rf.b3c79d378e2508c4994c626cfdf78e87.jpg  \n",
            " extracting: train/-38-89---fire_jpg.rf.5f0f446c7593eca6ecbb2e18077d34f2.jpg  \n",
            " extracting: train/-38-89---fire_jpg.rf.99967959273bf59dbdf7bb2c54475b30.jpg  \n",
            " extracting: train/-38-89---fire_jpg.rf.e20862045685b245686c770d02017dbf.jpg  \n",
            " extracting: train/-38-90---fire_jpg.rf.3668f7fab0f9a1167641780bc23d94b0.jpg  \n",
            " extracting: train/-38-90---fire_jpg.rf.3fe240c200db9377b3816b89f54d0f8a.jpg  \n",
            " extracting: train/-38-90---fire_jpg.rf.b103ecf28532b58f071be975c79bfe1c.jpg  \n",
            " extracting: train/-39-29---fire_jpg.rf.6485e84660b79794e2ef705beabeefdf.jpg  \n",
            " extracting: train/-39-29---fire_jpg.rf.7ef0ce6e3bcdc267c83a5bf80ac1afb9.jpg  \n",
            " extracting: train/-39-29---fire_jpg.rf.a228e0b9a421f5e2b788f6633b7d7326.jpg  \n",
            " extracting: train/-39-30---fire_jpg.rf.abf8a350819fbc3fb0bbf34c44a8b541.jpg  \n",
            " extracting: train/-39-30---fire_jpg.rf.c9f20e39c830c1e01128456401c9d044.jpg  \n",
            " extracting: train/-39-30---fire_jpg.rf.d241fcb3eee6629546c02f6ba73cb308.jpg  \n",
            " extracting: train/-39-31---fire_jpg.rf.9d71b1b6accdbb796d4225482edfd85e.jpg  \n",
            " extracting: train/-39-31---fire_jpg.rf.b556b86843971e3cb37278ea3680e356.jpg  \n",
            " extracting: train/-39-31---fire_jpg.rf.fe1dcb2e02215670ef2d13c33d5797ad.jpg  \n",
            " extracting: train/-39-32---fire_jpg.rf.c768f7ef6a8a3b326444841fc2b1e97f.jpg  \n",
            " extracting: train/-39-32---fire_jpg.rf.d47e5113a125b2ccdc112bc0e9302fc8.jpg  \n",
            " extracting: train/-39-32---fire_jpg.rf.f8b9e9cb177b038b6c40381b65d47e29.jpg  \n",
            " extracting: train/-39-34---fire_jpg.rf.0c99ec709fc8bc5b465776acf6c527a4.jpg  \n",
            " extracting: train/-39-34---fire_jpg.rf.7802e9b4ebfb46fe76791464cc2d30ba.jpg  \n",
            " extracting: train/-39-34---fire_jpg.rf.c946ae8289652e1f183016ecec3f260d.jpg  \n",
            " extracting: train/-39-35---fire_jpg.rf.75baa7cf15587603bc2168a07f477930.jpg  \n",
            " extracting: train/-39-35---fire_jpg.rf.882e82020c714e2e07e6f3e63669a970.jpg  \n",
            " extracting: train/-39-35---fire_jpg.rf.d63d5b3abea205e6f665c92c21210ba7.jpg  \n",
            " extracting: train/-39-37---fire_jpg.rf.0b8850740148338825f7d66a63ffc053.jpg  \n",
            " extracting: train/-39-37---fire_jpg.rf.aa22acb21a9630a18945dc8cd2ab9177.jpg  \n",
            " extracting: train/-39-37---fire_jpg.rf.c213626e6f2e3c4c419de4d7c5115a00.jpg  \n",
            " extracting: train/-39-39---fire_jpg.rf.69acd7d7119472cf18ecdebc7e053e85.jpg  \n",
            " extracting: train/-39-39---fire_jpg.rf.79b7627a66178ba9e72c85de9bbbd5c7.jpg  \n",
            " extracting: train/-39-39---fire_jpg.rf.d76735e70f327a6cb7b4ef771aefc3e1.jpg  \n",
            " extracting: train/-39-40---fire_jpg.rf.0e1b394a7a17e78a4251bfda77fc380a.jpg  \n",
            " extracting: train/-39-40---fire_jpg.rf.26b72e42d12e629c5279e8abb1271662.jpg  \n",
            " extracting: train/-39-40---fire_jpg.rf.fc3145425e90c2e974b9829c6cef0444.jpg  \n",
            " extracting: train/-39-41---fire_jpg.rf.2421235f3561429480fa4cc694987864.jpg  \n",
            " extracting: train/-39-41---fire_jpg.rf.b3e706e3a8b0de2ec376c52d91f11937.jpg  \n",
            " extracting: train/-39-41---fire_jpg.rf.dce8011dd9f48480c80af19aa104befb.jpg  \n",
            " extracting: train/-39-42---fire_jpg.rf.24bd5b9989eeb33d75543a7803a6feb5.jpg  \n",
            " extracting: train/-39-42---fire_jpg.rf.7a366a5f535ef119c0df409b2049b69b.jpg  \n",
            " extracting: train/-39-42---fire_jpg.rf.8d851d12467af5996f1027a90d004b55.jpg  \n",
            " extracting: train/-39-43---fire_jpg.rf.966c5b12624c3b88b096e66a648c9c8b.jpg  \n",
            " extracting: train/-39-43---fire_jpg.rf.b0016b1be2509296cd32c358ff090bab.jpg  \n",
            " extracting: train/-39-43---fire_jpg.rf.fc1052f2d4edfde52c6e8bd51a580790.jpg  \n",
            " extracting: train/-4-70---fire_jpg.rf.6d2ae36eb7fae5f7028bba454ad13e4a.jpg  \n",
            " extracting: train/-4-70---fire_jpg.rf.b3233fa9a25c09d16275d55cc26820a9.jpg  \n",
            " extracting: train/-4-70---fire_jpg.rf.eb9b5f25cf09c9ffe545cd6c515eab13.jpg  \n",
            " extracting: train/-4-72---fire_jpg.rf.00c7b7afa3a71121c65b149bd01840c9.jpg  \n",
            " extracting: train/-4-72---fire_jpg.rf.74229572997c12777b76b6aa5d872904.jpg  \n",
            " extracting: train/-4-72---fire_jpg.rf.8f709797f78e718875ddbf39f1395e6e.jpg  \n",
            " extracting: train/-4-73---fire_jpg.rf.099158df68446a4c4edbe30466b8e649.jpg  \n",
            " extracting: train/-4-73---fire_jpg.rf.3e0dd56591f3d156fc6b9e4c480508b9.jpg  \n",
            " extracting: train/-4-73---fire_jpg.rf.8d1f2b7692d35ca089db4f3113d99a1f.jpg  \n",
            " extracting: train/-4-74---fire_jpg.rf.28c32cb3dc80f799ed19b16e931a9f01.jpg  \n",
            " extracting: train/-4-74---fire_jpg.rf.ad82b3f9e40f1b2c754662be27c575ec.jpg  \n",
            " extracting: train/-4-74---fire_jpg.rf.f4dbef2c0b3444fb3371b0a6e06e22bd.jpg  \n",
            " extracting: train/-4-75---fire_jpg.rf.709e2ee86cdc85583d19ceb7774cec87.jpg  \n",
            " extracting: train/-4-75---fire_jpg.rf.b510781a101539781a0ab1afc7356c6b.jpg  \n",
            " extracting: train/-4-75---fire_jpg.rf.e1c52f88c48f1ee31fb4ff63e2620c9a.jpg  \n",
            " extracting: train/-4-78---fire_jpg.rf.015aa9273fd3d73a8229ff9f67156537.jpg  \n",
            " extracting: train/-4-78---fire_jpg.rf.0db83af1953db28a8b23ed7b6ae69b8b.jpg  \n",
            " extracting: train/-4-78---fire_jpg.rf.d1c450b4f7c5a5ee60fac635c1b52fbd.jpg  \n",
            " extracting: train/-4-80---fire_jpg.rf.484fbda2ef8ad2624fcc53cf108a76d0.jpg  \n",
            " extracting: train/-4-80---fire_jpg.rf.6f6dad3f33c51d6bb93c97400ceed8c8.jpg  \n",
            " extracting: train/-4-80---fire_jpg.rf.ae490ebb2d82f80cab3314442216284f.jpg  \n",
            " extracting: train/-4-81---fire_jpg.rf.3bf00ebfb51f42149c09c826f48826d1.jpg  \n",
            " extracting: train/-4-81---fire_jpg.rf.88990ad981928c072722983556b66b86.jpg  \n",
            " extracting: train/-4-81---fire_jpg.rf.e1ff1f60a0cb3f736422f5ee01c24f2e.jpg  \n",
            " extracting: train/-4-82---fire_jpg.rf.1506339d2a2ec4549fd2dec4411cdd1d.jpg  \n",
            " extracting: train/-4-82---fire_jpg.rf.453fad93f698e03ef73dbaa2cc885c56.jpg  \n",
            " extracting: train/-4-82---fire_jpg.rf.d10b4eaccaa5995c90abc9f47f37980a.jpg  \n",
            " extracting: train/-4-83---fire_jpg.rf.36609bfc24addae050afe6204799e066.jpg  \n",
            " extracting: train/-4-83---fire_jpg.rf.77f2f2809939fa37c4047f148abfa350.jpg  \n",
            " extracting: train/-4-83---fire_jpg.rf.ee91bc6346b358f458363b371004e6ed.jpg  \n",
            " extracting: train/-4-84---fire_jpg.rf.29010433396bfb61ab4a3513e6be3c9a.jpg  \n",
            " extracting: train/-4-84---fire_jpg.rf.336bd59001afee1c1d03b2f295adf1b7.jpg  \n",
            " extracting: train/-4-84---fire_jpg.rf.9327b4a2b0b5e293dfe46f24405d8f5e.jpg  \n",
            " extracting: train/-4-87---fire_jpg.rf.2a3579e0365cb7e4b4a0d1171d16398b.jpg  \n",
            " extracting: train/-4-87---fire_jpg.rf.c8d3e35cb972aa4cfdc108be22dbbdfc.jpg  \n",
            " extracting: train/-4-87---fire_jpg.rf.f145dec8747ffe0388e2bbf4ea0d529b.jpg  \n",
            " extracting: train/-4-88---fire_jpg.rf.bfd1cfaf2654462febe133ff688288fc.jpg  \n",
            " extracting: train/-4-88---fire_jpg.rf.ca2c9c85c43bcf3119a8d6f8cf3cc844.jpg  \n",
            " extracting: train/-4-88---fire_jpg.rf.f381300cee574c6fdc592ae381264ba4.jpg  \n",
            " extracting: train/-4-89---fire_jpg.rf.b7ebf479c522ac009712845f68c64fab.jpg  \n",
            " extracting: train/-4-89---fire_jpg.rf.b8f57888ef6b499ee951b9aeb85c1684.jpg  \n",
            " extracting: train/-4-89---fire_jpg.rf.e6021169f29b8fa52e72d1c09bfae1f8.jpg  \n",
            " extracting: train/-4-90---fire_jpg.rf.7664337651875298e335820de1298c6f.jpg  \n",
            " extracting: train/-4-90---fire_jpg.rf.c93bf5859aaa11a62f3b40bc768e22be.jpg  \n",
            " extracting: train/-4-90---fire_jpg.rf.c9cc8a342f8b17b8f78c52571d402891.jpg  \n",
            " extracting: train/-4-91---fire_jpg.rf.43b4d6668a53d110b52f9aa9f722d9b3.jpg  \n",
            " extracting: train/-4-91---fire_jpg.rf.572747b7a2711f25109677b1b24961b7.jpg  \n",
            " extracting: train/-4-91---fire_jpg.rf.f87e24dcd57088d1bf074de8c311f532.jpg  \n",
            " extracting: train/-4-92---fire_jpg.rf.430439e346c24ea26560251e47c8c6b0.jpg  \n",
            " extracting: train/-4-92---fire_jpg.rf.ba5194d27078a7057374cec6f7643bd7.jpg  \n",
            " extracting: train/-4-92---fire_jpg.rf.e7c120c6abb509ad418d02afda3d9fc3.jpg  \n",
            " extracting: train/-4-93---fire_jpg.rf.9d78b2e1bb2c66f945585570f9e606eb.jpg  \n",
            " extracting: train/-4-93---fire_jpg.rf.f377df878d2d7d8a6b1d0e281246dcf6.jpg  \n",
            " extracting: train/-4-93---fire_jpg.rf.fc3b81cc45b674f1931c4d986bd3681c.jpg  \n",
            " extracting: train/-43-8---fire_jpg.rf.37b321883501a0fed9dfe42766c028f1.jpg  \n",
            " extracting: train/-43-8---fire_jpg.rf.40b12f233d477c9f5a4b36fad19ee13a.jpg  \n",
            " extracting: train/-43-8---fire_jpg.rf.fb6c14e38b103c2f43d352764f93c0f5.jpg  \n",
            " extracting: train/-46-26---fire_jpg.rf.18feb39309aaf14580eeda59e42e0858.jpg  \n",
            " extracting: train/-46-26---fire_jpg.rf.76d108287df64c6094eec16d3ede9f99.jpg  \n",
            " extracting: train/-46-26---fire_jpg.rf.e0312b4f6c22ef4529b9db067e5ce5c1.jpg  \n",
            " extracting: train/-46-27---fire_jpg.rf.4dfd1582c4357d2372fef676566acb59.jpg  \n",
            " extracting: train/-46-27---fire_jpg.rf.af71d699b44839aacff42cd2cd4469d6.jpg  \n",
            " extracting: train/-46-27---fire_jpg.rf.e5822753fa31ab19fbaa57d281b12fac.jpg  \n",
            " extracting: train/-46-29---fire_jpg.rf.3750d54c7dd9ba557da9ecaeb7f95f01.jpg  \n",
            " extracting: train/-46-29---fire_jpg.rf.eda84e010e491efb594fe092c3a5e635.jpg  \n",
            " extracting: train/-46-29---fire_jpg.rf.f34fa35bc704846ef144b18a5bdf9c71.jpg  \n",
            " extracting: train/-46-34---fire_jpg.rf.038c5bb84db8a775b830a9716c40b297.jpg  \n",
            " extracting: train/-46-34---fire_jpg.rf.325fbe4055bcae5785033e8986fccc1a.jpg  \n",
            " extracting: train/-46-34---fire_jpg.rf.7697560b4a1691bb0ca2e24df22f3c2a.jpg  \n",
            " extracting: train/-46-35---fire_jpg.rf.420064aec9741b14e4341c736f9f2c0a.jpg  \n",
            " extracting: train/-46-35---fire_jpg.rf.5d9f52403b448ff1c2e068d408ea78aa.jpg  \n",
            " extracting: train/-46-35---fire_jpg.rf.66d12ef6a936671899ee8dc232b6071e.jpg  \n",
            " extracting: train/-49-49---fire_jpg.rf.00cc6cf072e8c22b5d11f11ca72113f5.jpg  \n",
            " extracting: train/-49-49---fire_jpg.rf.4096c5c4dc7a0b116e1179a26091d495.jpg  \n",
            " extracting: train/-49-49---fire_jpg.rf.fe4698bbb6d242d18053800f81d7d35d.jpg  \n",
            " extracting: train/-49-50---fire_jpg.rf.787ebbf35729ef436877bf03e5ebdd9f.jpg  \n",
            " extracting: train/-49-50---fire_jpg.rf.8dc2e809211e05f57cc164c40d34b452.jpg  \n",
            " extracting: train/-49-50---fire_jpg.rf.f2e91fdb5b60978066937e615c78f0ff.jpg  \n",
            " extracting: train/-49-51---fire_jpg.rf.4ade646cd8783816725cc5cef460a49c.jpg  \n",
            " extracting: train/-49-51---fire_jpg.rf.77e0368e9e097b211c5a076e5372d5f0.jpg  \n",
            " extracting: train/-49-51---fire_jpg.rf.924265c3587e2c177f4adb37363e5ad8.jpg  \n",
            " extracting: train/-49-53---fire_jpg.rf.09f7870590080f760e47d8fd62498023.jpg  \n",
            " extracting: train/-49-53---fire_jpg.rf.95a5caf31d1e9be4dc1f3d6c5e142dd9.jpg  \n",
            " extracting: train/-49-53---fire_jpg.rf.a1ac6206b80b722d3283e76762aa43a1.jpg  \n",
            " extracting: train/-49-56---fire_jpg.rf.13adfaa03a19bf1ce9a3b2b8aa359e65.jpg  \n",
            " extracting: train/-49-56---fire_jpg.rf.a4060d6db2119fe3d023c67a54faa2ed.jpg  \n",
            " extracting: train/-49-56---fire_jpg.rf.e51ce8cf74748eead6e23806b5667abf.jpg  \n",
            " extracting: train/-49-57---fire_jpg.rf.52460159304312bbcee5c3999fb9874e.jpg  \n",
            " extracting: train/-49-57---fire_jpg.rf.bc028689b25a4767aef47198054205e5.jpg  \n",
            " extracting: train/-49-57---fire_jpg.rf.e03e7f56298666eef686a599693b1d1f.jpg  \n",
            " extracting: train/-49-59---fire_jpg.rf.1347372b139d8a6339151e28ad478681.jpg  \n",
            " extracting: train/-49-59---fire_jpg.rf.755a16db5829a95bc126058dc6ab52c5.jpg  \n",
            " extracting: train/-49-59---fire_jpg.rf.bc5a9e64bc43fe0ec85c425aec319485.jpg  \n",
            " extracting: train/-49-60---fire_jpg.rf.89a4ccb7aa194437a5c0ce8638f77fb5.jpg  \n",
            " extracting: train/-49-60---fire_jpg.rf.a3867e66d66ed75a65bcd62020a84356.jpg  \n",
            " extracting: train/-49-60---fire_jpg.rf.f6543c83ce9116ec8c2d75341da04646.jpg  \n",
            " extracting: train/-49-63---fire_jpg.rf.12ec075f0db440295ef5982357a157b8.jpg  \n",
            " extracting: train/-49-63---fire_jpg.rf.252b9e44b7cc4ae7adf47c5b0797e5f4.jpg  \n",
            " extracting: train/-49-63---fire_jpg.rf.7438f3d9dcd020ee10d3e3a81c6b8e89.jpg  \n",
            " extracting: train/-49-64---fire_jpg.rf.9760a56967ecb4a3322099e891a80ab3.jpg  \n",
            " extracting: train/-49-64---fire_jpg.rf.de8e72fad92e4abe9e6b973a2cd7f097.jpg  \n",
            " extracting: train/-49-64---fire_jpg.rf.ee3d009fe1329b074e647c94c7a416ef.jpg  \n",
            " extracting: train/-49-65---fire_jpg.rf.24d188daf826db0963747db16a04d4ea.jpg  \n",
            " extracting: train/-49-65---fire_jpg.rf.83975d8717ed6228d4d5da444151e5be.jpg  \n",
            " extracting: train/-49-65---fire_jpg.rf.ebd983b907e779fe30dab1e1f7dd4e4f.jpg  \n",
            " extracting: train/-49-66---fire_jpg.rf.788137d90bd529dad0b453d2676d9874.jpg  \n",
            " extracting: train/-49-66---fire_jpg.rf.9d01ddca015330b8bbc8d76ac6b1cb99.jpg  \n",
            " extracting: train/-49-66---fire_jpg.rf.ae6301d13789ccded941706117d5bc3c.jpg  \n",
            " extracting: train/-49-67---fire_jpg.rf.5782003b5585badec7499ab06876db08.jpg  \n",
            " extracting: train/-49-67---fire_jpg.rf.649ce6623c715fbcabb1bd31de528a68.jpg  \n",
            " extracting: train/-49-67---fire_jpg.rf.f8f5de9f1782c80f5fcdbdda3614d353.jpg  \n",
            " extracting: train/-49-68---fire_jpg.rf.25cad85c85e4d8bc2fb94fc7e73f0a3c.jpg  \n",
            " extracting: train/-49-68---fire_jpg.rf.b1c6055f5ce78eeb4fa266bc979ae0dc.jpg  \n",
            " extracting: train/-49-68---fire_jpg.rf.cb6ed2396ee2d7b9c93955cff5c56762.jpg  \n",
            " extracting: train/-49-69---fire_jpg.rf.0db0aefaa316f92727b5a289e01bbd12.jpg  \n",
            " extracting: train/-49-69---fire_jpg.rf.44e3f3250ef9a47fc6cf7d24fb507358.jpg  \n",
            " extracting: train/-49-69---fire_jpg.rf.a08e498a11323d592b7195cb124dd74f.jpg  \n",
            " extracting: train/-49-70---fire_jpg.rf.2fa6ba16a8c993c3d46d14ad5353460a.jpg  \n",
            " extracting: train/-49-70---fire_jpg.rf.7e0ce8474796962ff1b375ea6b12a974.jpg  \n",
            " extracting: train/-49-70---fire_jpg.rf.d6c159b472a60ab732880231be64af96.jpg  \n",
            " extracting: train/-49-71---fire_jpg.rf.7ed2b12034029ade24445b5c98a6edd4.jpg  \n",
            " extracting: train/-49-71---fire_jpg.rf.8b4a51120c3a78ceecf12200f603a57a.jpg  \n",
            " extracting: train/-49-71---fire_jpg.rf.e550a1d0ebfa9fde19b8e28be9216d28.jpg  \n",
            " extracting: train/-49-73---fire_jpg.rf.0540cde7a040c2dad5e0734874b3b7f3.jpg  \n",
            " extracting: train/-49-73---fire_jpg.rf.9af67560ed004316a2348d8853320f34.jpg  \n",
            " extracting: train/-49-73---fire_jpg.rf.bf4d20bb3b80b6b732cb98753051e245.jpg  \n",
            " extracting: train/-49-74---fire_jpg.rf.206be0a4bb4017930b67d362f7ef765a.jpg  \n",
            " extracting: train/-49-74---fire_jpg.rf.627f97e469e04dbb79c6a59e2050529f.jpg  \n",
            " extracting: train/-49-74---fire_jpg.rf.c66400141c79f2c13a5c0362fcb585ef.jpg  \n",
            " extracting: train/-49-75---fire_jpg.rf.00d0133f541435433f701a0ccfec03c3.jpg  \n",
            " extracting: train/-49-75---fire_jpg.rf.277d8a71f31a97720197c192964b82d7.jpg  \n",
            " extracting: train/-49-75---fire_jpg.rf.4e63ef7e766bba20c433d3ef1b0b282b.jpg  \n",
            " extracting: train/-49-76---fire_jpg.rf.3770f9cd41b3d3a3eaf25ea9530628b2.jpg  \n",
            " extracting: train/-49-76---fire_jpg.rf.679e6592600a4473084b73fa1debde31.jpg  \n",
            " extracting: train/-49-76---fire_jpg.rf.70a76b513c2e46e3e7b339cc0f6c930e.jpg  \n",
            " extracting: train/-49-77---fire_jpg.rf.241c7c78ca5f9323c6bf1874cbfe452e.jpg  \n",
            " extracting: train/-49-77---fire_jpg.rf.631be48ec87df15ffe0a7af9ae1f89c6.jpg  \n",
            " extracting: train/-49-77---fire_jpg.rf.961040e23fda8943c9a89775666bc35b.jpg  \n",
            " extracting: train/-49-79---fire_jpg.rf.b4e720ccf387f802ebe843b3a085a5d1.jpg  \n",
            " extracting: train/-49-79---fire_jpg.rf.d52cb1efeb32766e19370716b4c4b4d4.jpg  \n",
            " extracting: train/-49-79---fire_jpg.rf.f8b4e600a336974aa41b4021a041114f.jpg  \n",
            " extracting: train/-49-80---fire_jpg.rf.941b8c3c99d9ef41cc5e55922c2db11c.jpg  \n",
            " extracting: train/-49-80---fire_jpg.rf.b57088ffd1389158945b9fe59697d202.jpg  \n",
            " extracting: train/-49-80---fire_jpg.rf.feed52128984304e1e1cf0654632f07f.jpg  \n",
            " extracting: train/-49-81---fire_jpg.rf.8a87fa899e5f503bd084b100f9e00ac5.jpg  \n",
            " extracting: train/-49-81---fire_jpg.rf.b081a6d4dad73c3ca5f87053dcc4f804.jpg  \n",
            " extracting: train/-49-81---fire_jpg.rf.eed8b26be1b58ca9b9f7ecbbc84ebe8d.jpg  \n",
            " extracting: train/-49-82---fire_jpg.rf.1c3f04a2264924124571bc93c9946251.jpg  \n",
            " extracting: train/-49-82---fire_jpg.rf.2a8431b7bb7f9436fa4da0688fcabb58.jpg  \n",
            " extracting: train/-49-82---fire_jpg.rf.b19c4d07cb0ed95f62d53fcde7c250f3.jpg  \n",
            " extracting: train/-49-83---fire_jpg.rf.465175e5e1629ec51c347ed3aabce86e.jpg  \n",
            " extracting: train/-49-83---fire_jpg.rf.c5b9bd967f36f3f5417e096a1dfc5461.jpg  \n",
            " extracting: train/-49-83---fire_jpg.rf.e8fa2033115cb30e3e1f3df995ba8af7.jpg  \n",
            " extracting: train/-49-84---fire_jpg.rf.a444be862126d570983600ba3f0ac464.jpg  \n",
            " extracting: train/-49-84---fire_jpg.rf.abc71ffb3c806148abde4b3955a53376.jpg  \n",
            " extracting: train/-49-84---fire_jpg.rf.f6f20718c8117fede8bfa81ee5fca75c.jpg  \n",
            " extracting: train/-49-88---fire_jpg.rf.394b44acbea51a6ecb78533fda826d1d.jpg  \n",
            " extracting: train/-49-88---fire_jpg.rf.713a317d52e128efa41da77fb4badc53.jpg  \n",
            " extracting: train/-49-88---fire_jpg.rf.cfaa0e0852507b8619c99beae0834c9d.jpg  \n",
            " extracting: train/-49-89---fire_jpg.rf.0b22f81815ef8be42342412a7e68c68d.jpg  \n",
            " extracting: train/-49-89---fire_jpg.rf.4c242d98abd6afe04f83e3177e886157.jpg  \n",
            " extracting: train/-49-89---fire_jpg.rf.bca1fc50f25a2160563873710ff63e40.jpg  \n",
            " extracting: train/-49-90---fire_jpg.rf.48ea2e1c3b4de484ae529b2cb9428607.jpg  \n",
            " extracting: train/-49-90---fire_jpg.rf.ee1e5a894702aea12f803943b2a63d41.jpg  \n",
            " extracting: train/-49-90---fire_jpg.rf.f8be9ae28ade8d7d00da007543539a90.jpg  \n",
            " extracting: train/-49-91---fire_jpg.rf.46a12bb7152347dc99a8bd711edc5bbf.jpg  \n",
            " extracting: train/-49-91---fire_jpg.rf.b73605f6a65af0a133d67910d141baac.jpg  \n",
            " extracting: train/-49-91---fire_jpg.rf.c837d089de2709341c759047278a94a1.jpg  \n",
            " extracting: train/-5-19---fire_jpg.rf.0347d395925c000032d085858b237132.jpg  \n",
            " extracting: train/-5-19---fire_jpg.rf.1af45dfea090b3d6a7f503d85310c089.jpg  \n",
            " extracting: train/-5-19---fire_jpg.rf.36fde89b6063e110ef05f7ebe459047c.jpg  \n",
            " extracting: train/-5-20---fire_jpg.rf.05c4f5666605b5b5f6d7c9d6a847d5fb.jpg  \n",
            " extracting: train/-5-20---fire_jpg.rf.ec501f53dc3948de98a1aa13f37cf5c4.jpg  \n",
            " extracting: train/-5-20---fire_jpg.rf.f9b5f35aeb3c3740a32b23989b34ada1.jpg  \n",
            " extracting: train/-5-21---fire_jpg.rf.894a49c847b9e25eb346d37dec64fb7e.jpg  \n",
            " extracting: train/-5-21---fire_jpg.rf.960d11c9eb6b63ea3ed1d9a54fc97393.jpg  \n",
            " extracting: train/-5-21---fire_jpg.rf.c0ddad0a2b51c3511512627c37050bbd.jpg  \n",
            " extracting: train/-5-22---fire_jpg.rf.560797ca2f520761415c776d60eb52b5.jpg  \n",
            " extracting: train/-5-22---fire_jpg.rf.65a19ed4a593d24bbf6cc1c5c8a1873c.jpg  \n",
            " extracting: train/-5-22---fire_jpg.rf.698aa172fe9b6584ef805034f0a832ad.jpg  \n",
            " extracting: train/-5-23---fire_jpg.rf.064167eb3c25ca1791329ba42f281329.jpg  \n",
            " extracting: train/-5-23---fire_jpg.rf.23fa7cf0112207dd209152a03297c6e3.jpg  \n",
            " extracting: train/-5-23---fire_jpg.rf.d708d35f6d56cd40faef1ec95b7a8e7c.jpg  \n",
            " extracting: train/-5-24---fire_jpg.rf.2fc85f591f35b9776c6d10b96d5660a9.jpg  \n",
            " extracting: train/-5-24---fire_jpg.rf.7367a8b47db852c48f95f597988ecc1f.jpg  \n",
            " extracting: train/-5-24---fire_jpg.rf.b2842622e976610560ad64b5fb0c052a.jpg  \n",
            " extracting: train/-5-25---fire_jpg.rf.478537f1527fc1358ce2369087b3b3ed.jpg  \n",
            " extracting: train/-5-25---fire_jpg.rf.afa4079db731e168de8a0b6c6edba1b1.jpg  \n",
            " extracting: train/-5-25---fire_jpg.rf.e8aec14e41d159cef3404b97f0439634.jpg  \n",
            " extracting: train/-5-26---fire_jpg.rf.21d2194e15e6714381f887aebbb886e5.jpg  \n",
            " extracting: train/-5-26---fire_jpg.rf.7f36f9f67778229a2b6cf4cf982aac9f.jpg  \n",
            " extracting: train/-5-26---fire_jpg.rf.d882da7394eaed38679e1714825561b6.jpg  \n",
            " extracting: train/-5-27---fire_jpg.rf.13dd19ede720377182be2efb45eef8ba.jpg  \n",
            " extracting: train/-5-27---fire_jpg.rf.22fc25f9a6ac4301756b9c0cabf1cd20.jpg  \n",
            " extracting: train/-5-27---fire_jpg.rf.bcaa491bf45868f4561b63701344e257.jpg  \n",
            " extracting: train/-5-28---fire_jpg.rf.6b01a5a10710f2dc612eeb2168ab4481.jpg  \n",
            " extracting: train/-5-28---fire_jpg.rf.dc7d5b8a0ef1dfe00cb412a6b3b849e8.jpg  \n",
            " extracting: train/-5-28---fire_jpg.rf.f9b42939250814159c20376fdd86e57c.jpg  \n",
            " extracting: train/-5-29---fire_jpg.rf.9cbc9cc96098ebc4fdd625dfc7073811.jpg  \n",
            " extracting: train/-5-29---fire_jpg.rf.b0a06055a4f9ba8f98dfed81aee86355.jpg  \n",
            " extracting: train/-5-29---fire_jpg.rf.b1909a18b731673262c801c7bab5ea3a.jpg  \n",
            " extracting: train/-5-31---fire_jpg.rf.7ccf6d9c378ddacc78757abea7e0ea1f.jpg  \n",
            " extracting: train/-5-31---fire_jpg.rf.ad1c24fdc2a15346832dc83fb963ab35.jpg  \n",
            " extracting: train/-5-31---fire_jpg.rf.bb55cfaa0a23471a94e20eb4b3d0e9c0.jpg  \n",
            " extracting: train/-5-32---fire_jpg.rf.4a9f7737ff17421b5acb7d78bbfbc14d.jpg  \n",
            " extracting: train/-5-32---fire_jpg.rf.5a2fd56f3d474a4795fd3edd6d9edd74.jpg  \n",
            " extracting: train/-5-32---fire_jpg.rf.ac4319563ba08da0f50c0848d964baea.jpg  \n",
            " extracting: train/-5-33---fire_jpg.rf.7ceb48181cc334c5468da5c3415cd357.jpg  \n",
            " extracting: train/-5-33---fire_jpg.rf.8dbc85ead7c37d5d4dd8fefcb774c665.jpg  \n",
            " extracting: train/-5-33---fire_jpg.rf.9ec52810fad93412fd2bc14f5088caf4.jpg  \n",
            " extracting: train/-5-34---fire_jpg.rf.24c7014061818d660dfae92fbdaced75.jpg  \n",
            " extracting: train/-5-34---fire_jpg.rf.4528b543725d68fa9fa6cd72c76d6239.jpg  \n",
            " extracting: train/-5-34---fire_jpg.rf.8424d30095fc3a71abdb19adfc57e2ab.jpg  \n",
            " extracting: train/-50-17---fire_jpg.rf.854fb48e36bfc88e88ee986cd8402c2e.jpg  \n",
            " extracting: train/-50-17---fire_jpg.rf.95275fa095221878ee2ca7cf2d98af6b.jpg  \n",
            " extracting: train/-50-17---fire_jpg.rf.ff554793e4fcedc325b0e5e2a83c96e9.jpg  \n",
            " extracting: train/-50-18---fire_jpg.rf.585edfda4b777941c3edf1f12d971eec.jpg  \n",
            " extracting: train/-50-18---fire_jpg.rf.c8204fb89c948c2e7e5d7e5482ee7ab4.jpg  \n",
            " extracting: train/-50-18---fire_jpg.rf.f87e8bb59b00f86d3313d122734955a9.jpg  \n",
            " extracting: train/-50-19---fire_jpg.rf.9849a09a6210f2a4a32fd0c7e8483f84.jpg  \n",
            " extracting: train/-50-19---fire_jpg.rf.cded340cdd978c68015843835c631321.jpg  \n",
            " extracting: train/-50-19---fire_jpg.rf.e57adf11f4b3ccdcae81d2b725da74fd.jpg  \n",
            " extracting: train/-50-20---fire_jpg.rf.34df0a8174da60f022256b20dfa91dfd.jpg  \n",
            " extracting: train/-50-20---fire_jpg.rf.73a25a569e041093b87ea48085f8591e.jpg  \n",
            " extracting: train/-50-20---fire_jpg.rf.e77e082b255be02ab6d888a13baa40f1.jpg  \n",
            " extracting: train/-50-21---fire_jpg.rf.11f907a2f5ea65b34ff6266e59c0ecb8.jpg  \n",
            " extracting: train/-50-21---fire_jpg.rf.3e88fd265c9dfe01ed1aebc846935c7f.jpg  \n",
            " extracting: train/-50-21---fire_jpg.rf.9cfb55af579bc1fdf13d5dc14e5c962e.jpg  \n",
            " extracting: train/-50-23---fire_jpg.rf.355eee366741ff89f4fc85a496aab453.jpg  \n",
            " extracting: train/-50-23---fire_jpg.rf.59c022d280dd8f57eeb166d0cddc386b.jpg  \n",
            " extracting: train/-50-23---fire_jpg.rf.fe723fceaf873e36291238368d4a957f.jpg  \n",
            " extracting: train/-50-25---fire_jpg.rf.24bbeebb7bd1198a49e2543297f63814.jpg  \n",
            " extracting: train/-50-25---fire_jpg.rf.85df3dd17c54887b862575a5b4e6fdb0.jpg  \n",
            " extracting: train/-50-25---fire_jpg.rf.ec9e981a471069f9a6ca4c337f6bd1d8.jpg  \n",
            " extracting: train/-50-27---fire_jpg.rf.4fc4f10bbdaef3ed914ca2e8d673b8bf.jpg  \n",
            " extracting: train/-50-27---fire_jpg.rf.566c21f644f270ec032cbf94094491d1.jpg  \n",
            " extracting: train/-50-27---fire_jpg.rf.ccb8a999498a099c642d7e98c9edfda2.jpg  \n",
            " extracting: train/-50-28---fire_jpg.rf.9cca5276b14c702dfdfde29c2e8f33f5.jpg  \n",
            " extracting: train/-50-28---fire_jpg.rf.f4baa7fc47a92768b18f3b3d92047996.jpg  \n",
            " extracting: train/-50-28---fire_jpg.rf.f88258038b84207e0e525ec58854ffc0.jpg  \n",
            " extracting: train/-50-29---fire_jpg.rf.37a28a9e6bd2750d42c6bcb773c59aee.jpg  \n",
            " extracting: train/-50-29---fire_jpg.rf.b66396f7ebab18311e59908ba23ca2ec.jpg  \n",
            " extracting: train/-50-29---fire_jpg.rf.d36ba903d42e9fbbe0dd1dbbfa8f946e.jpg  \n",
            " extracting: train/-50-30---fire_jpg.rf.3ba1406e7a3b8373f7f1896584a7b619.jpg  \n",
            " extracting: train/-50-30---fire_jpg.rf.6e837acb33b9b270eb06809988bb6ed2.jpg  \n",
            " extracting: train/-50-30---fire_jpg.rf.bc44d90d9e6e6467de66c72cd69b0e8f.jpg  \n",
            " extracting: train/-50-31---fire_jpg.rf.736abd58ebca5092b2eb352fdef03890.jpg  \n",
            " extracting: train/-50-31---fire_jpg.rf.ae8fb2d9fe998b927af49826273627b2.jpg  \n",
            " extracting: train/-50-31---fire_jpg.rf.d9b2879a7636088c9c6ac85963b36ad0.jpg  \n",
            " extracting: train/-50-32---fire_jpg.rf.216c045eb58acd28c1149450dc842b0d.jpg  \n",
            " extracting: train/-50-32---fire_jpg.rf.be5f6aba59eaf2a39f1d5e80b4e1e511.jpg  \n",
            " extracting: train/-50-32---fire_jpg.rf.d6a9a651f828507fd8634e76b9d0fe0d.jpg  \n",
            " extracting: train/-50-33---fire_jpg.rf.090b53fb45c3c9f8f5cc9c0e36cb4352.jpg  \n",
            " extracting: train/-50-33---fire_jpg.rf.6019887b9cd374124b1906948eda2bf4.jpg  \n",
            " extracting: train/-50-33---fire_jpg.rf.834b13d6c3f9409097ff02f5beee0f49.jpg  \n",
            " extracting: train/-50-34---fire_jpg.rf.5d7fb3107c6a38b63e01e2156be42bee.jpg  \n",
            " extracting: train/-50-34---fire_jpg.rf.c23390f720269691e22442fbc48f8f31.jpg  \n",
            " extracting: train/-50-34---fire_jpg.rf.d80bd18124aa1b68a25cc951f8caf001.jpg  \n",
            " extracting: train/-50-35---fire_jpg.rf.21862194b0ec34875a8828ec87c832ae.jpg  \n",
            " extracting: train/-50-35---fire_jpg.rf.a516e33351f32dea10af7b6213435d2d.jpg  \n",
            " extracting: train/-50-35---fire_jpg.rf.c366c60da95373cefb65968b362918a2.jpg  \n",
            " extracting: train/-50-36---fire_jpg.rf.1b366ab0dd6014691ff9db494fad597c.jpg  \n",
            " extracting: train/-50-36---fire_jpg.rf.1e5dc82ed8d3cbe5c5630600aeb68171.jpg  \n",
            " extracting: train/-50-36---fire_jpg.rf.3040b6a9dbd3a38696ada39a09f588d0.jpg  \n",
            " extracting: train/-50-37---fire_jpg.rf.58e71bf27987a7cd1ccbc44689bf60de.jpg  \n",
            " extracting: train/-50-37---fire_jpg.rf.bf247fde1c66908ab084cd6cb2fa108c.jpg  \n",
            " extracting: train/-50-37---fire_jpg.rf.c5b1f37477de9c2373de69f453ae7114.jpg  \n",
            " extracting: train/-50-38---fire_jpg.rf.3d12a62415573d33a2ca7ba1caf729f4.jpg  \n",
            " extracting: train/-50-38---fire_jpg.rf.45dd07ab2b9c1e1a85c985294fe09669.jpg  \n",
            " extracting: train/-50-38---fire_jpg.rf.f8e002ed0e6ca312bffdf5216abc9ee9.jpg  \n",
            " extracting: train/-50-39---fire_jpg.rf.1ddfda608220625712fc872235a3fae8.jpg  \n",
            " extracting: train/-50-39---fire_jpg.rf.42430da11e5b05459f8a92cc7a13ae15.jpg  \n",
            " extracting: train/-50-39---fire_jpg.rf.457e6c168433aed7d7f9cf8aa8d4507c.jpg  \n",
            " extracting: train/-50-41---fire_jpg.rf.255f6b56a98a77bafaaa07a6a6be93b1.jpg  \n",
            " extracting: train/-50-41---fire_jpg.rf.547fe9c3b79529ca9fa4844667409490.jpg  \n",
            " extracting: train/-50-41---fire_jpg.rf.8d847b83a62540d00cf38c875b10f9ab.jpg  \n",
            " extracting: train/-50-42---fire_jpg.rf.925d0d6383e78ce5c60ffe0774f248d2.jpg  \n",
            " extracting: train/-50-42---fire_jpg.rf.a77e07292cc145ab19bc39a10e767776.jpg  \n",
            " extracting: train/-50-42---fire_jpg.rf.c519d90dbe8e027683a954866a9dc920.jpg  \n",
            " extracting: train/-50-43---fire_jpg.rf.6b8115b3b86d4481ca32cfa65c9b11dd.jpg  \n",
            " extracting: train/-50-43---fire_jpg.rf.b2017cd24db64ad847287cb940250628.jpg  \n",
            " extracting: train/-50-43---fire_jpg.rf.c514e45a8dbdc38bb9b394c9329badaf.jpg  \n",
            " extracting: train/-50-44---fire_jpg.rf.42a51768603535c8f562a049eb955c9d.jpg  \n",
            " extracting: train/-50-44---fire_jpg.rf.473fc1ccef80c4982837f2108cfffc16.jpg  \n",
            " extracting: train/-50-44---fire_jpg.rf.9dbfdd80103a418997d7a5d97e9afb38.jpg  \n",
            " extracting: train/-50-45---fire_jpg.rf.2e9ce814ec998f65e449d5cbb01e9f17.jpg  \n",
            " extracting: train/-50-45---fire_jpg.rf.98cd75b4fb3298d4dd5baa0720626f68.jpg  \n",
            " extracting: train/-50-45---fire_jpg.rf.ef689492c542387eb98f3172c33e7ad7.jpg  \n",
            " extracting: train/-50-46---fire_jpg.rf.5a62bc6a369b854328a9d0bc16b158a2.jpg  \n",
            " extracting: train/-50-46---fire_jpg.rf.71c088fbb05ed450de7b020450bd93f4.jpg  \n",
            " extracting: train/-50-46---fire_jpg.rf.9895033d64ee74eeadfc662a946fa528.jpg  \n",
            " extracting: train/-50-47---fire_jpg.rf.65dd807787973ac79b9404acdfa106f0.jpg  \n",
            " extracting: train/-50-47---fire_jpg.rf.69819dad0cccc00b330994ee90265ae5.jpg  \n",
            " extracting: train/-50-47---fire_jpg.rf.a3dbd0414e89be30fdace20bcb60213a.jpg  \n",
            " extracting: train/-50-48---fire_jpg.rf.3f100c056ac3b45651c8f57c2b02133f.jpg  \n",
            " extracting: train/-50-48---fire_jpg.rf.78a7cb06ef598d82b04e39ee957aaa69.jpg  \n",
            " extracting: train/-50-48---fire_jpg.rf.92650e7c3cbba26969fa47e173490529.jpg  \n",
            " extracting: train/-50-49---fire_jpg.rf.4d941e34586fef1094417a9a65658e62.jpg  \n",
            " extracting: train/-50-49---fire_jpg.rf.c833724b4575dcb97203898eeaaf7b53.jpg  \n",
            " extracting: train/-50-49---fire_jpg.rf.d48aaf3263988fa31147cfa489e66e23.jpg  \n",
            " extracting: train/-50-50---fire_jpg.rf.a69e82a2b4368a16b8c7fb2738c1dc5e.jpg  \n",
            " extracting: train/-50-50---fire_jpg.rf.a86261a5ffe0f3b5b49a53631e37019c.jpg  \n",
            " extracting: train/-50-50---fire_jpg.rf.a9706610759962f33255c8babafe6e01.jpg  \n",
            " extracting: train/-50-51---fire_jpg.rf.0bd8004d3a4ee154febc2c1d85d39157.jpg  \n",
            " extracting: train/-50-51---fire_jpg.rf.95cc077339a7567c436f69991a08abec.jpg  \n",
            " extracting: train/-50-51---fire_jpg.rf.b78c5dd41db095984b66b6a6d42e1b33.jpg  \n",
            " extracting: train/-50-53---fire_jpg.rf.219917bd980e3c5dfa2a2cb47cb229e4.jpg  \n",
            " extracting: train/-50-53---fire_jpg.rf.51f0b2d0d2b29ff3e2bcbb3c35b6f7cf.jpg  \n",
            " extracting: train/-50-53---fire_jpg.rf.ac53730b9ad3ee53594f9cda8b6edb29.jpg  \n",
            " extracting: train/-50-54---fire_jpg.rf.03dcb979bed81f38ac59571c8b870e5c.jpg  \n",
            " extracting: train/-50-54---fire_jpg.rf.156868f93148cdba474591e62c993abf.jpg  \n",
            " extracting: train/-50-54---fire_jpg.rf.bb0d782627bab5167b22f2ac3e944397.jpg  \n",
            " extracting: train/-50-55---fire_jpg.rf.10a5d5e640e2d777701d2c705f4042c9.jpg  \n",
            " extracting: train/-50-55---fire_jpg.rf.1d9e9f7e6a18596bd574544d79b0b174.jpg  \n",
            " extracting: train/-50-55---fire_jpg.rf.4fac96b1455fb6c4b1340bd207981b79.jpg  \n",
            " extracting: train/-50-56---fire_jpg.rf.5051c029e119995b066a8a00e517f0aa.jpg  \n",
            " extracting: train/-50-56---fire_jpg.rf.c13aa054f97ae895c76bdaf4aff6ad46.jpg  \n",
            " extracting: train/-50-56---fire_jpg.rf.d6090a379ed900a8332da1c80c4d0304.jpg  \n",
            " extracting: train/-50-58---fire_jpg.rf.24711ce56d553d45599a2a3e010cc145.jpg  \n",
            " extracting: train/-50-58---fire_jpg.rf.b128b105903431250f024fa0a6a7e197.jpg  \n",
            " extracting: train/-50-58---fire_jpg.rf.cb2ee9555ce1f437e415d9527a39f1e4.jpg  \n",
            " extracting: train/-50-59---fire_jpg.rf.06e9504f296f2699fb5957f17e5b34e2.jpg  \n",
            " extracting: train/-50-59---fire_jpg.rf.73fb84d85c92c9b47852a2d04c5a2e6d.jpg  \n",
            " extracting: train/-50-59---fire_jpg.rf.b8603ef374f8a41a133351dbf085f43b.jpg  \n",
            " extracting: train/-50-61---fire_jpg.rf.57cfcb9a04566872d7b88b216473f268.jpg  \n",
            " extracting: train/-50-61---fire_jpg.rf.b1ce306b541623ae8f1a597f25ac5bc9.jpg  \n",
            " extracting: train/-50-61---fire_jpg.rf.ec02b02df231b04a31fdd8315153b0fd.jpg  \n",
            " extracting: train/-50-63---fire_jpg.rf.829504d66a5d87072e57150a521fd2ce.jpg  \n",
            " extracting: train/-50-63---fire_jpg.rf.ad2902962fa76896ec6fdf0683b26bc5.jpg  \n",
            " extracting: train/-50-63---fire_jpg.rf.d93f25941112192fd7d83abd8d772f15.jpg  \n",
            " extracting: train/-50-64---fire_jpg.rf.35ff2a60c09eedc3179fd0f38aecda4c.jpg  \n",
            " extracting: train/-50-64---fire_jpg.rf.3c1cc14234e1a7e4eb4171a5b069fb12.jpg  \n",
            " extracting: train/-50-64---fire_jpg.rf.afc6e84ac80ea80de9fc69eb306b0698.jpg  \n",
            " extracting: train/-50-65---fire_jpg.rf.43eb5c0c77b7c62187ac0570fc05be63.jpg  \n",
            " extracting: train/-50-65---fire_jpg.rf.5770feea1d7ef26eb3bbd58da4bd5552.jpg  \n",
            " extracting: train/-50-65---fire_jpg.rf.61279b0eaca64bdb46be944c905be913.jpg  \n",
            " extracting: train/-52-49---fire_jpg.rf.00c7832017627aa2235ad08f24f9bb88.jpg  \n",
            " extracting: train/-52-49---fire_jpg.rf.15a2231cce8342e7286c4000609c4fc6.jpg  \n",
            " extracting: train/-52-49---fire_jpg.rf.fa961c3fb600c108f6beefaa99837856.jpg  \n",
            " extracting: train/-52-50---fire_jpg.rf.358af52db269bc81828d2f96eb5c2064.jpg  \n",
            " extracting: train/-52-50---fire_jpg.rf.a5ae4a730f606165215e1ea436a8313f.jpg  \n",
            " extracting: train/-52-50---fire_jpg.rf.fa3c40cd9c63a76ec5e4fe8c3604a3f5.jpg  \n",
            " extracting: train/-52-51---fire_jpg.rf.91e71f8e7e63e64285522d7e27201f4c.jpg  \n",
            " extracting: train/-52-51---fire_jpg.rf.adbc17af109c8f1887f4d7f555841ebc.jpg  \n",
            " extracting: train/-52-51---fire_jpg.rf.efc7a6f286ba2e5b37431f74564b73f8.jpg  \n",
            " extracting: train/-52-52---fire_jpg.rf.25bfbb5c4e34d335922545da66b68a43.jpg  \n",
            " extracting: train/-52-52---fire_jpg.rf.6a7e31698c6589d7c249b7abb6517229.jpg  \n",
            " extracting: train/-52-52---fire_jpg.rf.b15af3cd33d221e0837c39520673772a.jpg  \n",
            " extracting: train/-52-53---fire_jpg.rf.7587224db111c3a22d058df870225729.jpg  \n",
            " extracting: train/-52-53---fire_jpg.rf.a73fae477a19fb42ccb1063994be7cb3.jpg  \n",
            " extracting: train/-52-53---fire_jpg.rf.e6d36c3b6717c62189751f47630aa765.jpg  \n",
            " extracting: train/-52-55---fire_jpg.rf.4f59b3a375c96c919b40eadd88b5cef8.jpg  \n",
            " extracting: train/-52-55---fire_jpg.rf.a37b22790dd4ff6038ebda526f77ba03.jpg  \n",
            " extracting: train/-52-55---fire_jpg.rf.cadbfdd39309cbe8b2908c41156bba68.jpg  \n",
            " extracting: train/-52-57---fire_jpg.rf.433c9acedf1bb9ddb43ad41ceadff81b.jpg  \n",
            " extracting: train/-52-57---fire_jpg.rf.945422fd0bb24a15f8aad73a435122cc.jpg  \n",
            " extracting: train/-52-57---fire_jpg.rf.9a5bec7d06e8bd7c35f7596452612233.jpg  \n",
            " extracting: train/-53-23---fire_jpg.rf.4d770264fd1f8a767f07e3631479ae8f.jpg  \n",
            " extracting: train/-53-23---fire_jpg.rf.720ca4eb848f7bc812222f2e9b56ab76.jpg  \n",
            " extracting: train/-53-23---fire_jpg.rf.86c7eff4aad78ff3b7e8bfadb14aa612.jpg  \n",
            " extracting: train/-53-24---fire_jpg.rf.2f8f4bb394ca06f4505607411e62553f.jpg  \n",
            " extracting: train/-53-24---fire_jpg.rf.5e7166555d7deeaf099bdf43296c505b.jpg  \n",
            " extracting: train/-53-24---fire_jpg.rf.f8162a93a5f6d34cb0519e3088c75d89.jpg  \n",
            " extracting: train/-53-25---fire_jpg.rf.027ccd4c2151efc66be675b4060c22c9.jpg  \n",
            " extracting: train/-53-25---fire_jpg.rf.46c3d4054b8e8b19057a20b094e11897.jpg  \n",
            " extracting: train/-53-25---fire_jpg.rf.c7d7db8ffe8e315fc110920c22d103d5.jpg  \n",
            " extracting: train/-53-27---fire_jpg.rf.4dc7ea2a4713086df39f5576d1f2f355.jpg  \n",
            " extracting: train/-53-27---fire_jpg.rf.585f2246d88ce4417e256a6a8807ac2e.jpg  \n",
            " extracting: train/-53-27---fire_jpg.rf.e7877dc94aa24c3a04f283da3cbb2d97.jpg  \n",
            " extracting: train/-53-28---fire_jpg.rf.2519951d4da94b569c80beb22590d813.jpg  \n",
            " extracting: train/-53-28---fire_jpg.rf.3cf3444d9bc9cdc96aa8391dc86d05ae.jpg  \n",
            " extracting: train/-53-28---fire_jpg.rf.ccc50b74ffe05ce75b115e2e22a643e4.jpg  \n",
            " extracting: train/-53-30---fire_jpg.rf.7bbcac42f629aa60686ae0db5e6e6de9.jpg  \n",
            " extracting: train/-53-30---fire_jpg.rf.af947df94a831b775b6f0ad754c03a45.jpg  \n",
            " extracting: train/-53-30---fire_jpg.rf.e16b97af6ba9a958bf289beba662f86d.jpg  \n",
            " extracting: train/-53-31---fire_jpg.rf.5df1de4eba0536fd9ca8b1d64fea22b2.jpg  \n",
            " extracting: train/-53-31---fire_jpg.rf.8b815a0860bc8fad7b205a066eb2f053.jpg  \n",
            " extracting: train/-53-31---fire_jpg.rf.ff2c220b245e62b905ef57696e2a75db.jpg  \n",
            " extracting: train/-53-32---fire_jpg.rf.0177f8267b462ad7ee8a770ba4ae9e28.jpg  \n",
            " extracting: train/-53-32---fire_jpg.rf.353799aa43c9cf778432ed56aefb130a.jpg  \n",
            " extracting: train/-53-32---fire_jpg.rf.940d41c30893b37e33c7a28fccb335a4.jpg  \n",
            " extracting: train/-53-33---fire_jpg.rf.0c042cbf0245ccf8dab21d79ad08eead.jpg  \n",
            " extracting: train/-53-33---fire_jpg.rf.c99d741e0f734d61e425e53e7171f08b.jpg  \n",
            " extracting: train/-53-33---fire_jpg.rf.f9957576dd301b3b41e176d217ba0874.jpg  \n",
            " extracting: train/-53-34---fire_jpg.rf.5acd6157bb1c21d9702cda2ae3f6755f.jpg  \n",
            " extracting: train/-53-34---fire_jpg.rf.b8e54602942e48dffc76e1b8df4191a6.jpg  \n",
            " extracting: train/-53-34---fire_jpg.rf.c3e4755eca2716a36eee8e7fb28be274.jpg  \n",
            " extracting: train/-54-46---fire_jpg.rf.261adbff8cd9547326db05d817376652.jpg  \n",
            " extracting: train/-54-46---fire_jpg.rf.34cfd9c11bd2258f4bb55622bd1b5084.jpg  \n",
            " extracting: train/-54-46---fire_jpg.rf.df99f3d8481ab51c39abf438fb584f7f.jpg  \n",
            " extracting: train/-54-47---fire_jpg.rf.2c71960420f2e37611d3ecd1dcb2fdc0.jpg  \n",
            " extracting: train/-54-47---fire_jpg.rf.788cb5419c20d4f93d94fb64f2811c8e.jpg  \n",
            " extracting: train/-54-47---fire_jpg.rf.8c5a6dcc1bd1e435f2613d7bd6e1632c.jpg  \n",
            " extracting: train/-54-48---fire_jpg.rf.c13683719fee0e177f4ddf9c38591aaf.jpg  \n",
            " extracting: train/-54-48---fire_jpg.rf.dee835e4549d313ad9ecb6b80049332d.jpg  \n",
            " extracting: train/-54-48---fire_jpg.rf.f20f2e1ae42d27e329ddc400df49a2ac.jpg  \n",
            " extracting: train/-54-49---fire_jpg.rf.08de173e533f838cb8edbbc5de44c6a9.jpg  \n",
            " extracting: train/-54-49---fire_jpg.rf.1b89c1431c29d0127ddfc0b03747a321.jpg  \n",
            " extracting: train/-54-49---fire_jpg.rf.5459723cfbf67036aabecad1e62bbb1e.jpg  \n",
            " extracting: train/-54-50---fire_jpg.rf.1da882a16161577388955035da97bf4a.jpg  \n",
            " extracting: train/-54-50---fire_jpg.rf.f488303d2e32d83f4693a620738531f4.jpg  \n",
            " extracting: train/-54-50---fire_jpg.rf.f9f8274e74d23b2709fe0c739c96e735.jpg  \n",
            " extracting: train/-54-51---fire_jpg.rf.7ee88e45a89f08d270f436d996487ad1.jpg  \n",
            " extracting: train/-54-51---fire_jpg.rf.b35c664003dce731480783606b7a2b9b.jpg  \n",
            " extracting: train/-54-51---fire_jpg.rf.d9d655174de0d9e481ade4313514b494.jpg  \n",
            " extracting: train/-54-59---fire_jpg.rf.46ddbd4e1be25c359b4e71d6f0470323.jpg  \n",
            " extracting: train/-54-59---fire_jpg.rf.b9b3f5cef1f6479c8276e54290abf9cf.jpg  \n",
            " extracting: train/-54-59---fire_jpg.rf.d8161a34b622e6038dfa332180a1aa6c.jpg  \n",
            " extracting: train/-54-60---fire_jpg.rf.066ee826fc10ded9a396de224d2b9875.jpg  \n",
            " extracting: train/-54-60---fire_jpg.rf.28318438fd97714e2c88509a09d17693.jpg  \n",
            " extracting: train/-54-60---fire_jpg.rf.7d9ffe7c3e21404efa205fc3928d15bb.jpg  \n",
            " extracting: train/-54-63---fire_jpg.rf.91616c0ad4a1271937fe8dc212943944.jpg  \n",
            " extracting: train/-54-63---fire_jpg.rf.b8f1c2c81c5ce2670357a8e1e3918e90.jpg  \n",
            " extracting: train/-54-63---fire_jpg.rf.e4fd9278e30b8bef207a54547886652d.jpg  \n",
            " extracting: train/-54-64---fire_jpg.rf.095bf45c92f69f28a790739edf6a95d4.jpg  \n",
            " extracting: train/-54-64---fire_jpg.rf.7adf4e0b12757954385857438d11cc5e.jpg  \n",
            " extracting: train/-54-64---fire_jpg.rf.b7cea506319abe77f048d8e4870eee49.jpg  \n",
            " extracting: train/-54-65---fire_jpg.rf.29ccd07a522f4f183b250721ace04fe4.jpg  \n",
            " extracting: train/-54-65---fire_jpg.rf.42befd1c7e75a1dd751515cfebd7a97a.jpg  \n",
            " extracting: train/-54-65---fire_jpg.rf.d56d7bd57e9fed7f159e8dc829d9a8c1.jpg  \n",
            " extracting: train/-54-66---fire_jpg.rf.574f9126b3c1d474214910cf0b8224a0.jpg  \n",
            " extracting: train/-54-66---fire_jpg.rf.7933bdb045cc30ba8df1d6e26fec9b5b.jpg  \n",
            " extracting: train/-54-66---fire_jpg.rf.a7a6be7d15126b1ec796ad19d878b492.jpg  \n",
            " extracting: train/-54-67---fire_jpg.rf.319f175be12586c0a5607175aaeb1640.jpg  \n",
            " extracting: train/-54-67---fire_jpg.rf.3c19c57605188520a50155543b117401.jpg  \n",
            " extracting: train/-54-67---fire_jpg.rf.ee47cf27ba899c2674bbd67aa6567f3b.jpg  \n",
            " extracting: train/-8-21---fire_jpg.rf.1d8fdb94e9105286c8e77bd5b789dd33.jpg  \n",
            " extracting: train/-8-21---fire_jpg.rf.22ec517de65c3b9ce76485f363e1abf1.jpg  \n",
            " extracting: train/-8-21---fire_jpg.rf.59524a79708f5a061572667f584ddc35.jpg  \n",
            " extracting: train/-8-22---fire_jpg.rf.34ea3808e90247ee0c366af046d3adcc.jpg  \n",
            " extracting: train/-8-22---fire_jpg.rf.5e2ac2da89657947b95afd4910a13eab.jpg  \n",
            " extracting: train/-8-22---fire_jpg.rf.b838b9aa251794f7b741cddaba9c16d1.jpg  \n",
            " extracting: train/-8-23---fire_jpg.rf.3bd45080b83569968648ef81151652f2.jpg  \n",
            " extracting: train/-8-23---fire_jpg.rf.b8a7e68282c325b669f723c03015aafd.jpg  \n",
            " extracting: train/-8-23---fire_jpg.rf.eb7b957c854edc7d1d43a50afce513c9.jpg  \n",
            " extracting: train/-8-24---fire_jpg.rf.0b1da2a691e147353ef62f2fdc4ec4f2.jpg  \n",
            " extracting: train/-8-24---fire_jpg.rf.2acf58a92b0a9b321b17c7733c37bcb5.jpg  \n",
            " extracting: train/-8-24---fire_jpg.rf.936d585aa9ed2b16c1c9d36a32073704.jpg  \n",
            " extracting: train/-8-25---fire_jpg.rf.86129739f06e7bbaaadf0f2812266f8b.jpg  \n",
            " extracting: train/-8-25---fire_jpg.rf.b1ef03e02a9b772ded842ba88452c16f.jpg  \n",
            " extracting: train/-8-25---fire_jpg.rf.d2701428f935c1891bb86c858b4ee144.jpg  \n",
            " extracting: train/-8-28---fire_jpg.rf.19deb95e93c4465f6b567b9e2ab60134.jpg  \n",
            " extracting: train/-8-28---fire_jpg.rf.78ba12fbee4e811f151313360ff9b5a6.jpg  \n",
            " extracting: train/-8-28---fire_jpg.rf.e2ac8e21a38559d7c74ee1a4bf183641.jpg  \n",
            " extracting: train/-8-29---fire_jpg.rf.0fb7a9d1f7564d5634d7bf8ca21fc63c.jpg  \n",
            " extracting: train/-8-29---fire_jpg.rf.bbe41a1ffdb7363abaf89f7f663cab11.jpg  \n",
            " extracting: train/-8-29---fire_jpg.rf.d91b06f6791ec6ef3f83fd8005974993.jpg  \n",
            " extracting: train/-8-30---fire_jpg.rf.ce555f57a0df32684f2780fbe49765b7.jpg  \n",
            " extracting: train/-8-30---fire_jpg.rf.ed79bee290e485d4d6ea8a50ce910b99.jpg  \n",
            " extracting: train/-8-30---fire_jpg.rf.f251c054a6970094d6637e746abdbb16.jpg  \n",
            " extracting: train/-8-36---fire_jpg.rf.6ba717a35aa591c2ab6b80c221138c72.jpg  \n",
            " extracting: train/-8-36---fire_jpg.rf.ae410da5c77396c86f298ec4bcfde7e0.jpg  \n",
            " extracting: train/-8-36---fire_jpg.rf.d1e953050c788fa24bffd97fb95c622f.jpg  \n",
            " extracting: train/-8-37---fire_jpg.rf.31f5bbb1baa828f3602ba96edc267612.jpg  \n",
            " extracting: train/-8-37---fire_jpg.rf.4ed4cfc9e3f13ce9cbcfad1974ea70d5.jpg  \n",
            " extracting: train/-8-37---fire_jpg.rf.dadec932964701adb9d313793096d5fc.jpg  \n",
            " extracting: train/-8-38---fire_jpg.rf.2f602917a232b23529ca9d176753f232.jpg  \n",
            " extracting: train/-8-38---fire_jpg.rf.614b3f90e67ff246b0b75a79343871d6.jpg  \n",
            " extracting: train/-8-38---fire_jpg.rf.6881369e769f1118ecccfd481c68eb37.jpg  \n",
            " extracting: train/-8-41---fire_jpg.rf.8fa20e4ef7fffc57d256ad876e7408fa.jpg  \n",
            " extracting: train/-8-41---fire_jpg.rf.93711c17124a9a1a7b90273a53093387.jpg  \n",
            " extracting: train/-8-41---fire_jpg.rf.f3ce4b0550050a4a048385e40194c426.jpg  \n",
            " extracting: train/-8-42---fire_jpg.rf.53090919f7dd95d63013836a7a29b50f.jpg  \n",
            " extracting: train/-8-42---fire_jpg.rf.b3ec6b542d81174aa06003fe695a32f5.jpg  \n",
            " extracting: train/-8-42---fire_jpg.rf.e76c1966ab6ca0fb088ac6078fb67c5a.jpg  \n",
            " extracting: train/-8-48---fire_jpg.rf.30560360872a3a8ae475078d4a7b8b79.jpg  \n",
            " extracting: train/-8-48---fire_jpg.rf.3ca5c80f5aff681edf32453e8ccf8d04.jpg  \n",
            " extracting: train/-8-48---fire_jpg.rf.623b5eec21865ec8dc1b125c3d95a5a7.jpg  \n",
            " extracting: train/-8-86---fire_jpg.rf.356347ef40db85925390685ef173be94.jpg  \n",
            " extracting: train/-8-86---fire_jpg.rf.37713eb4ea27c0746ed5768d68188bb7.jpg  \n",
            " extracting: train/-8-86---fire_jpg.rf.e97251461dd71ccb3818bea64ee35587.jpg  \n",
            " extracting: train/-8-87---fire_jpg.rf.3785599bed6429e6317a0a1ad6645913.jpg  \n",
            " extracting: train/-8-87---fire_jpg.rf.b8cc0ad44a990814f739beb2469335dc.jpg  \n",
            " extracting: train/-8-87---fire_jpg.rf.d61493ed0457a6fd1f92421e41f2522b.jpg  \n",
            " extracting: train/-8-88---fire_jpg.rf.46a264ffc973e47e7cae1497439a6172.jpg  \n",
            " extracting: train/-8-88---fire_jpg.rf.d1c3867c89bce88010630ddc99883d3c.jpg  \n",
            " extracting: train/-8-88---fire_jpg.rf.d6e386343ac02e57fbb8c085a81a6fd0.jpg  \n",
            " extracting: train/-8-89---fire_jpg.rf.69c7ccb0c773688c841dc12b0efff5a9.jpg  \n",
            " extracting: train/-8-89---fire_jpg.rf.974f70a5f62969995ec532948b937668.jpg  \n",
            " extracting: train/-8-89---fire_jpg.rf.ae2fc522baa7813b824af8ce608ebe2a.jpg  \n",
            " extracting: train/-8-90---fire_jpg.rf.0a571c79455af47d9a5529067a37bddf.jpg  \n",
            " extracting: train/-8-90---fire_jpg.rf.91113576bff5ebf186129839e4f4ad97.jpg  \n",
            " extracting: train/-8-90---fire_jpg.rf.cf71dfe5953923eb40f4e8896971c09b.jpg  \n",
            " extracting: train/-9-10---fire_jpg.rf.13fd322ce24346b0e7fa3818ef561aaf.jpg  \n",
            " extracting: train/-9-10---fire_jpg.rf.30e6dda437693d562a717e89285b08e1.jpg  \n",
            " extracting: train/-9-10---fire_jpg.rf.d9b89024c1ff0661fcbf71d2d37fa10a.jpg  \n",
            " extracting: train/-9-11---fire_jpg.rf.24e1086d65a1664382c110a12b3a0577.jpg  \n",
            " extracting: train/-9-11---fire_jpg.rf.a547fc821f70903511b32851fb20d6e0.jpg  \n",
            " extracting: train/-9-11---fire_jpg.rf.ba66c81d4a904012a165bdfb2b3d139d.jpg  \n",
            " extracting: train/-9-12---fire_jpg.rf.01000cfa15b73fef18a76288ac8632e5.jpg  \n",
            " extracting: train/-9-12---fire_jpg.rf.d6e4e732b6e80f151d8e88599e5878a2.jpg  \n",
            " extracting: train/-9-12---fire_jpg.rf.dfcd7d25d65476fc31a593191253d0a0.jpg  \n",
            " extracting: train/-9-14---fire_jpg.rf.4d62ff4627b3ab8777f3e396b1a286b5.jpg  \n",
            " extracting: train/-9-14---fire_jpg.rf.c8dc7f009086f84af750f25d7f9b3ec7.jpg  \n",
            " extracting: train/-9-14---fire_jpg.rf.ebc477d58e90a404f4bc8c99cfebdb60.jpg  \n",
            " extracting: train/-9-16---fire_jpg.rf.2cd1d34352550ef6b3bc8b610567f576.jpg  \n",
            " extracting: train/-9-16---fire_jpg.rf.6d03dd53515bf16adbf0c8bffeba5620.jpg  \n",
            " extracting: train/-9-16---fire_jpg.rf.db793e6361aced333865d8664c9e14b9.jpg  \n",
            " extracting: train/-9-17---fire_jpg.rf.1d5f2a6434335fafe9a63acb299488c1.jpg  \n",
            " extracting: train/-9-17---fire_jpg.rf.931cbf91b656740978c56d6246976f4c.jpg  \n",
            " extracting: train/-9-17---fire_jpg.rf.d8aa8d68480877cd0231fbf3557a2c3f.jpg  \n",
            " extracting: train/-9-21---fire_jpg.rf.21517c825dd534ee1b962de0de1c216f.jpg  \n",
            " extracting: train/-9-21---fire_jpg.rf.592b91c573c77b055299d7bd88d2f74f.jpg  \n",
            " extracting: train/-9-21---fire_jpg.rf.b925090167df33df3a5723ad61033ad3.jpg  \n",
            " extracting: train/-9-22---fire_jpg.rf.0d1be0eb1ea72734c3eed5f45b65096d.jpg  \n",
            " extracting: train/-9-22---fire_jpg.rf.4c1c6fdb62c5efdc26d9a3750b67b4bb.jpg  \n",
            " extracting: train/-9-22---fire_jpg.rf.be4cb62b41c44761069577507b1ce118.jpg  \n",
            " extracting: train/-9-24---fire_jpg.rf.46734c8a6307605e71f3d1b67adb4bd6.jpg  \n",
            " extracting: train/-9-24---fire_jpg.rf.70fe617fbafc20cd6942f3452cdc1eb5.jpg  \n",
            " extracting: train/-9-24---fire_jpg.rf.ff8b7913d412807ce62e57c3de0cdc03.jpg  \n",
            " extracting: train/-9-26---fire_jpg.rf.547a6efc89c15ff98a33fccde7ee48af.jpg  \n",
            " extracting: train/-9-26---fire_jpg.rf.54ce26c06d842f1c7cd742127e62d138.jpg  \n",
            " extracting: train/-9-26---fire_jpg.rf.90a7d0f6c4d57307f5a66ae43b5dff75.jpg  \n",
            " extracting: train/-9-27---fire_jpg.rf.55a4f4dc43c838784c7afcbee1df4220.jpg  \n",
            " extracting: train/-9-27---fire_jpg.rf.860ae36f70905b51a3f0783088bc43e4.jpg  \n",
            " extracting: train/-9-27---fire_jpg.rf.a83e151f165d13e53b248a3cc95c1df7.jpg  \n",
            " extracting: train/-9-28---fire_jpg.rf.31946b57eef84af1637ab4e9fd234b72.jpg  \n",
            " extracting: train/-9-28---fire_jpg.rf.5b7531392825a3bde448f5a272c850d6.jpg  \n",
            " extracting: train/-9-28---fire_jpg.rf.8159041808ca05f12795e44701265614.jpg  \n",
            " extracting: train/-9-29---fire_jpg.rf.3355b3f77db3b347a627e6cb26328c39.jpg  \n",
            " extracting: train/-9-29---fire_jpg.rf.34e47aa446fe4c9d9893e91d8a14ad1c.jpg  \n",
            " extracting: train/-9-29---fire_jpg.rf.dac394237cf02928b8a657153bdb6f8d.jpg  \n",
            " extracting: train/-9-31---fire_jpg.rf.13a87066c4bea9fb65d3655f6cb889ef.jpg  \n",
            " extracting: train/-9-31---fire_jpg.rf.2c34ce3a767dfb35de36d7d3d40904cb.jpg  \n",
            " extracting: train/-9-31---fire_jpg.rf.82df3c2b2d097c6d03f04355476f7329.jpg  \n",
            " extracting: train/-9-33---fire_jpg.rf.37bd44127306deda8c2488c57aef5d11.jpg  \n",
            " extracting: train/-9-33---fire_jpg.rf.b0dd7b02c100c7fb3fd892513408fed5.jpg  \n",
            " extracting: train/-9-33---fire_jpg.rf.eb55be96b178e439e1cd112bf9fe3393.jpg  \n",
            " extracting: train/-9-34---fire_jpg.rf.5ce3b74acc3e3159b186cc7ee5171589.jpg  \n",
            " extracting: train/-9-34---fire_jpg.rf.688ab3947d83079a4043ed532c9f5b1f.jpg  \n",
            " extracting: train/-9-34---fire_jpg.rf.ad96b33fb5a8a08410fde08b890209ab.jpg  \n",
            " extracting: train/-9-36---fire_jpg.rf.2d0af71f622c363c0523a5d548738278.jpg  \n",
            " extracting: train/-9-36---fire_jpg.rf.3273d631c0b3162744458a80c9ac29d4.jpg  \n",
            " extracting: train/-9-36---fire_jpg.rf.c52e99908dd41e994e5933810de7f089.jpg  \n",
            " extracting: train/-9-37---fire_jpg.rf.1b2dc70c599412a26db5bbc74c71c1bc.jpg  \n",
            " extracting: train/-9-37---fire_jpg.rf.a3c5622873f5f71363ce64b1e0f9557e.jpg  \n",
            " extracting: train/-9-37---fire_jpg.rf.d3dca93232e6571a74846a1f42f585d1.jpg  \n",
            " extracting: train/-9-38---fire_jpg.rf.0eeaa04aed53dadfbb9e396e33c2b46a.jpg  \n",
            " extracting: train/-9-38---fire_jpg.rf.71e80460ce9f1a3bcf669928f202fda6.jpg  \n",
            " extracting: train/-9-38---fire_jpg.rf.ba6a476ad63dd41953da9804c591aa5d.jpg  \n",
            " extracting: train/-9-40---fire_jpg.rf.1631a33ccd182cb1847c1824e9bdabf7.jpg  \n",
            " extracting: train/-9-40---fire_jpg.rf.4f3801c58ac7b3f99257104cf8cdf244.jpg  \n",
            " extracting: train/-9-40---fire_jpg.rf.f15ada03a7087f09d2cef46204b542c7.jpg  \n",
            " extracting: train/-9-41---fire_jpg.rf.76eebfbd67779a50bc7155bfddc5a57d.jpg  \n",
            " extracting: train/-9-41---fire_jpg.rf.8db870a1898ee729b9c7ae924292c955.jpg  \n",
            " extracting: train/-9-43---fire_jpg.rf.4abbe3f3aadcbfe848e6b9fbbc197eea.jpg  \n",
            " extracting: train/-9-43---fire_jpg.rf.4c80e9695365de08d24ffc8243bbfb1a.jpg  \n",
            " extracting: train/-9-43---fire_jpg.rf.c0aed165dd519fc3613354e55e2822c3.jpg  \n",
            " extracting: train/-9-44---fire_jpg.rf.42b1880a7aa8187c9eba47a805e72bb6.jpg  \n",
            " extracting: train/-9-44---fire_jpg.rf.5ff455817af2ba7ff34e8e1e11df80c9.jpg  \n",
            " extracting: train/-9-44---fire_jpg.rf.bb06eb96e099dea87e661891041183d3.jpg  \n",
            " extracting: train/-9-45---fire_jpg.rf.9b6c81502b52fbcc442747636920f8a6.jpg  \n",
            " extracting: train/-9-45---fire_jpg.rf.baf83c8241dc814d8ea1ede27069cfc7.jpg  \n",
            " extracting: train/-9-45---fire_jpg.rf.e7c53a22e18cf73f3703f0e5c4c42022.jpg  \n",
            " extracting: train/-9-46---fire_jpg.rf.66c0c83aecdf620d952d620b0bc98fa1.jpg  \n",
            " extracting: train/-9-46---fire_jpg.rf.8a600f58e06c57513abfc8bf6a7e86d7.jpg  \n",
            " extracting: train/-9-46---fire_jpg.rf.a18b8b3a0edd8560f21cad3f9a5dc446.jpg  \n",
            " extracting: train/-9-47---fire_jpg.rf.51039f5a546b4eff7a34bc780de099b2.jpg  \n",
            " extracting: train/-9-47---fire_jpg.rf.c79efe5b81ee9c9e5dcb3dca2a502911.jpg  \n",
            " extracting: train/-9-47---fire_jpg.rf.c8142ddad9b88f72daf00743e876eb5a.jpg  \n",
            " extracting: train/-9-48---fire_jpg.rf.343d52f91c60ec59813b40e8e774ad21.jpg  \n",
            " extracting: train/-9-48---fire_jpg.rf.ba8ea572a29f7b13a036c5fcaf61e276.jpg  \n",
            " extracting: train/-9-48---fire_jpg.rf.ef4db6704afd17e2ad9a3ef3982f09de.jpg  \n",
            " extracting: train/-9-49---fire_jpg.rf.01d04d0ce1e15d80c296744278af81e9.jpg  \n",
            " extracting: train/-9-49---fire_jpg.rf.1082256a9ee7293c5a929b2eb4f85e96.jpg  \n",
            " extracting: train/-9-49---fire_jpg.rf.59c216061a3d8c9d584b93daa200685f.jpg  \n",
            " extracting: train/-9-50---fire_jpg.rf.a2f0a23272b667b9a20eccfc19911f0b.jpg  \n",
            " extracting: train/-9-50---fire_jpg.rf.b9ac6fc6bf3ffafdd5444717555f5715.jpg  \n",
            " extracting: train/-9-50---fire_jpg.rf.eb79ecaabe399d634d91bfb99d13dc87.jpg  \n",
            " extracting: train/-9-51---fire_jpg.rf.52bbd3f173219cfe4e35adfc2372c845.jpg  \n",
            " extracting: train/-9-51---fire_jpg.rf.b5a1bc7fd608c1d1cf3b2b9c5d18751d.jpg  \n",
            " extracting: train/-9-51---fire_jpg.rf.fe4df9d2b8b8eacbd030b465f80d7a96.jpg  \n",
            " extracting: train/-9-52---fire_jpg.rf.80ba2f3f10168e3607580c46de22f8ba.jpg  \n",
            " extracting: train/-9-52---fire_jpg.rf.9c29f600d78f23988a7aa98a453dc4a0.jpg  \n",
            " extracting: train/-9-52---fire_jpg.rf.e23504715d1a367dacc204496cd24271.jpg  \n",
            " extracting: train/-9-53---fire_jpg.rf.a87e0f4e2541a2da553954190bddf836.jpg  \n",
            " extracting: train/-9-53---fire_jpg.rf.a9a94c5e1e47f0d52733f34d563985e2.jpg  \n",
            " extracting: train/-9-53---fire_jpg.rf.f0d735cc7f5a5d08a17d140c8e0ed4c9.jpg  \n",
            " extracting: train/-9-54---fire_jpg.rf.4cecda34b498056f17e8107ca56b4bca.jpg  \n",
            " extracting: train/-9-54---fire_jpg.rf.b2cdd396352861ad579229b2e9edcac0.jpg  \n",
            " extracting: train/-9-54---fire_jpg.rf.fd0384c6e9cb861b41d7e9935a19ef5e.jpg  \n",
            " extracting: train/-9-55---fire_jpg.rf.6cbb99ef39f5c36d095cd5541d863a10.jpg  \n",
            " extracting: train/-9-55---fire_jpg.rf.6e505c4aa149d4a81f3efb0f417c582f.jpg  \n",
            " extracting: train/-9-55---fire_jpg.rf.d827ce898013c3b304ce25e48def5088.jpg  \n",
            " extracting: train/-9-57---fire_jpg.rf.1839fff859ecbc762214966eb4896f5d.jpg  \n",
            " extracting: train/-9-57---fire_jpg.rf.3194987d673ef3a269676ee27052b88d.jpg  \n",
            " extracting: train/-9-57---fire_jpg.rf.ebeed86f4602cd2f8f706117fcd9f6a2.jpg  \n",
            " extracting: train/-9-58---fire_jpg.rf.51f4f8ca9fff1b5a84ed38f96e9e06c5.jpg  \n",
            " extracting: train/-9-58---fire_jpg.rf.66ad1ebd135aca99babd874ac91ebfd6.jpg  \n",
            " extracting: train/-9-58---fire_jpg.rf.ccc280f0cb82a260c12a70ea9cf8014e.jpg  \n",
            " extracting: train/-9-59---fire_jpg.rf.888cef00df8d5001706c04ef508d8273.jpg  \n",
            " extracting: train/-9-59---fire_jpg.rf.9e0cbdc7c5c9e32f2dcd30bb45a79dc1.jpg  \n",
            " extracting: train/-9-59---fire_jpg.rf.d1661a14b003a048fa28f437942aca0a.jpg  \n",
            " extracting: train/-9-60---fire_jpg.rf.241b4335fe4e3dd7a337590d5a414c95.jpg  \n",
            " extracting: train/-9-60---fire_jpg.rf.743320d2b390dd3827ac84ea7a6376ed.jpg  \n",
            " extracting: train/-9-60---fire_jpg.rf.7ed3eb1b9e1c8185a536c99adf452daf.jpg  \n",
            " extracting: train/-9-61---fire_jpg.rf.1a8f8937e965573c2a27bee2236e1d14.jpg  \n",
            " extracting: train/-9-61---fire_jpg.rf.2b9470d6e6606b787b76119c5df9b48f.jpg  \n",
            " extracting: train/-9-61---fire_jpg.rf.718d4609eef53753476563559b892cef.jpg  \n",
            " extracting: train/-9-62---fire_jpg.rf.441981d3d5df1bcbc1ce2e65f17cea7f.jpg  \n",
            " extracting: train/-9-62---fire_jpg.rf.4c948ecfe5ab3a5217b86c9ac54274d7.jpg  \n",
            " extracting: train/-9-62---fire_jpg.rf.a83f009e9df9cc3021cba8a3591c71a5.jpg  \n",
            " extracting: train/-9-64---fire_jpg.rf.60e8a47101ede72ffea9ea0b1c08244a.jpg  \n",
            " extracting: train/-9-64---fire_jpg.rf.dab4d3eab86008cd9a1edd694e4c7ab1.jpg  \n",
            " extracting: train/-9-64---fire_jpg.rf.f91df54245c616cb96d819d7b6ba3376.jpg  \n",
            " extracting: train/-9-65---fire_jpg.rf.3a078fd98cf8c7ec8bd367558a16efcd.jpg  \n",
            " extracting: train/-9-65---fire_jpg.rf.7c82b897d5114b80d0f14eff92566f94.jpg  \n",
            " extracting: train/-9-65---fire_jpg.rf.f4b08c9d2cf4dc6fffee3020e1276985.jpg  \n",
            " extracting: train/-9-66---fire_jpg.rf.400ce87a582f5e5b24357743bc968503.jpg  \n",
            " extracting: train/-9-66---fire_jpg.rf.af2552abff70f293e8cf8b7a0853c2a5.jpg  \n",
            " extracting: train/-9-66---fire_jpg.rf.d140d3f440f3fc8f619ab3b0e2a12507.jpg  \n",
            " extracting: train/-9-82---fire_jpg.rf.138ccbb91e088ca3b149eb3465f91a92.jpg  \n",
            " extracting: train/-9-82---fire_jpg.rf.4322145e9ca88f0102edb8c1e2d9c8e4.jpg  \n",
            " extracting: train/-9-82---fire_jpg.rf.556ab61480e8d9ebd78f3bfb0528da89.jpg  \n",
            " extracting: train/-9-83---fire_jpg.rf.249d5f056cc8c2973182fecc66ba94fa.jpg  \n",
            " extracting: train/-9-83---fire_jpg.rf.75c1253fb630c9a5ccb526f27fe8ba6a.jpg  \n",
            " extracting: train/-9-83---fire_jpg.rf.d0b4e6d9ff1c754a0b10358cc1a62532.jpg  \n",
            " extracting: train/-9-85---fire_jpg.rf.601311c2ad1388878d9fc1ba9fbef149.jpg  \n",
            " extracting: train/-9-85---fire_jpg.rf.850e2b95d99cedeefccb427995199ebf.jpg  \n",
            " extracting: train/-9-85---fire_jpg.rf.f1165850f16de8e207294803140b3cca.jpg  \n",
            " extracting: train/-9-87---fire_jpg.rf.0c1f3afa4ec269c32a1d82790eb58863.jpg  \n",
            " extracting: train/-9-87---fire_jpg.rf.1a853fd1242892843dfdd6a976e1c1ae.jpg  \n",
            " extracting: train/-9-87---fire_jpg.rf.a62cfdcba6f864a8a845c002d335c3b8.jpg  \n",
            " extracting: train/-9-88---fire_jpg.rf.0afcaeb4775ab0e6531faaa92b8a89fa.jpg  \n",
            " extracting: train/-9-88---fire_jpg.rf.13f507d95dda3a1e12c79a48bc854891.jpg  \n",
            " extracting: train/-9-88---fire_jpg.rf.4825c15f497fc2952f96d8eade31da19.jpg  \n",
            " extracting: train/-9-90---fire_jpg.rf.2d626e130ff06eaa5bc239d99f395c1a.jpg  \n",
            " extracting: train/-9-90---fire_jpg.rf.2f2f32d5869dbd2f9452a28cf9fd6d2c.jpg  \n",
            " extracting: train/-9-90---fire_jpg.rf.9bb990caa7efe46f26f3055096681d04.jpg  \n",
            " extracting: train/-9-91---fire_jpg.rf.29671138b0aa1d9f640892a5856da1d2.jpg  \n",
            " extracting: train/-9-91---fire_jpg.rf.b7215e0390b3672344577560fe25d662.jpg  \n",
            " extracting: train/-9-91---fire_jpg.rf.c6401d81f97487e64993bc16f21bce99.jpg  \n",
            " extracting: train/-9-92---fire_jpg.rf.3db2a71c91996ce191bfb416d1fd3798.jpg  \n",
            " extracting: train/-9-92---fire_jpg.rf.4ddba10000714405969d287795251978.jpg  \n",
            " extracting: train/-9-92---fire_jpg.rf.c77df9dd40c162ea89105b5d156e89ba.jpg  \n",
            " extracting: train/-92-34---fire_jpg.rf.08ace2c17ed33c4994a435cea57502aa.jpg  \n",
            " extracting: train/-92-34---fire_jpg.rf.a649d61cf06656d068c488f354b6336a.jpg  \n",
            " extracting: train/-92-34---fire_jpg.rf.ecdf30cf18cf243d8afc50dd62697d07.jpg  \n",
            " extracting: train/-92-35---fire_jpg.rf.23cd4f9752eee23be3d9d0a0e23a48ef.jpg  \n",
            " extracting: train/-92-35---fire_jpg.rf.6d972e3cafe000116c3aa2dd8e46d5d7.jpg  \n",
            " extracting: train/-92-35---fire_jpg.rf.a003146f636b83dc4a62a348fc356b43.jpg  \n",
            " extracting: train/-92-37---fire_jpg.rf.28dab2c9563656d8e09ea599ae956aa4.jpg  \n",
            " extracting: train/-92-37---fire_jpg.rf.8e16d11e8bf64a519ad4ce48cf477010.jpg  \n",
            " extracting: train/-92-37---fire_jpg.rf.98a24df0de7b4573b51e365bb1dd132a.jpg  \n",
            " extracting: train/-92-38---fire_jpg.rf.0d00afb2fe0b30878b9864df1ea6bb41.jpg  \n",
            " extracting: train/-92-38---fire_jpg.rf.51cc27a2203e6c645ea8a589384d8b3b.jpg  \n",
            " extracting: train/-92-38---fire_jpg.rf.fc0b47dda3b5af3c3dbf2323cf06c683.jpg  \n",
            " extracting: train/-92-39---fire_jpg.rf.3437bb42724fed00fb3032d5462f04bf.jpg  \n",
            " extracting: train/-92-39---fire_jpg.rf.3f782c05ce58e9222b5dfe700f630395.jpg  \n",
            " extracting: train/-92-39---fire_jpg.rf.80226573186aba1e675fc8734143589c.jpg  \n",
            " extracting: train/-92-41---fire_jpg.rf.289fa41a478eb9a1be616be0d75a51a6.jpg  \n",
            " extracting: train/-92-41---fire_jpg.rf.3da583e2f8793163c099a7d891f69805.jpg  \n",
            " extracting: train/-92-41---fire_jpg.rf.e55b215cc7b12c2765de264440874782.jpg  \n",
            " extracting: train/-92-43---fire_jpg.rf.07db81d67e6c5fbe88c0e5cc4ba1c8f6.jpg  \n",
            " extracting: train/-92-43---fire_jpg.rf.193cbcc99420c5c4e2d7679963578763.jpg  \n",
            " extracting: train/-92-43---fire_jpg.rf.ba8d7b0a44a73f4b0bcc4ad35ecba4c5.jpg  \n",
            " extracting: train/-92-45---fire_jpg.rf.128f8eb96d30a8a21e176d4e3a6cd670.jpg  \n",
            " extracting: train/-92-45---fire_jpg.rf.58b81d2a16c412f2368efd015e283013.jpg  \n",
            " extracting: train/-92-45---fire_jpg.rf.76a950a48e81c4db74d982841a33d9f1.jpg  \n",
            " extracting: train/-92-46---fire_jpg.rf.8b5ae1b44814c6bd50b2d5b6404ce860.jpg  \n",
            " extracting: train/-92-46---fire_jpg.rf.ba2a0179718252535b3c57c2e39be833.jpg  \n",
            " extracting: train/-92-46---fire_jpg.rf.bd85a0324c84a5109894afee34d829ba.jpg  \n",
            " extracting: train/-92-47---fire_jpg.rf.67d03eccc7e3c7ef60a413cc9070c43c.jpg  \n",
            " extracting: train/-92-47---fire_jpg.rf.6cccf10a209cb6c092048d87c1528f3e.jpg  \n",
            " extracting: train/-92-47---fire_jpg.rf.c693f6d4676bb3fce3ec52587a5f9de0.jpg  \n",
            " extracting: train/-92-48---fire_jpg.rf.1cceeaae2dc4384699ed9d8eb519e1ee.jpg  \n",
            " extracting: train/-92-48---fire_jpg.rf.70bf5adf4012984d5152d9ac8ff4b56d.jpg  \n",
            " extracting: train/-92-48---fire_jpg.rf.ab2ea9115d630188bae88e7bd1d09df0.jpg  \n",
            " extracting: train/-92-49---fire_jpg.rf.1dd19f8448d1b46fdc3ca2d42c105feb.jpg  \n",
            " extracting: train/-92-49---fire_jpg.rf.4f7c6cea9c58cf2c438273b4ad9469fa.jpg  \n",
            " extracting: train/-92-49---fire_jpg.rf.66619e2b761d28108c158aa014660171.jpg  \n",
            " extracting: train/-92-50---fire_jpg.rf.469f5f71efb3ffdb0aeb2bfacd290bae.jpg  \n",
            " extracting: train/-92-50---fire_jpg.rf.70433012586590c98d6b5754d23db74d.jpg  \n",
            " extracting: train/-92-50---fire_jpg.rf.fbae2fcf84a9a34786ffd73b35bac98a.jpg  \n",
            " extracting: train/-92-51---fire_jpg.rf.184715760eb769e8ca972a7764c8f738.jpg  \n",
            " extracting: train/-92-51---fire_jpg.rf.483a3fc855a06a58b933f4556aacbd24.jpg  \n",
            " extracting: train/-92-51---fire_jpg.rf.c25fefbe74e12a36df371d529f39ec04.jpg  \n",
            " extracting: train/-92-52---fire_jpg.rf.6ece8501a33f2d7d429bbf221ea04732.jpg  \n",
            " extracting: train/-92-52---fire_jpg.rf.8aba4752d3bf04880b12bb047f0ae332.jpg  \n",
            " extracting: train/-92-52---fire_jpg.rf.f4c516c198ecd6fc60638d7c19b57d2a.jpg  \n",
            " extracting: train/-92-53---fire_jpg.rf.28b9ea2dfc17469a442b6bbd0f2b55a0.jpg  \n",
            " extracting: train/-92-53---fire_jpg.rf.7cc4411c03f0d28dd16ee05a2b8537b4.jpg  \n",
            " extracting: train/-92-53---fire_jpg.rf.82ab1006b85954e7f90af67d6062b303.jpg  \n",
            " extracting: train/-92-54---fire_jpg.rf.1d225145a4e77b3510c252c787d052df.jpg  \n",
            " extracting: train/-92-54---fire_jpg.rf.2e5def921fb66345bbc5e84572c40892.jpg  \n",
            " extracting: train/-92-54---fire_jpg.rf.aa5f2fd454e5f150094881143618fc7a.jpg  \n",
            " extracting: train/-92-55---fire_jpg.rf.112b8de1a341e191ce044e164d272e2f.jpg  \n",
            " extracting: train/-92-55---fire_jpg.rf.5455cb39f92eb713bdfe0ce67b42f46c.jpg  \n",
            " extracting: train/-92-55---fire_jpg.rf.e8a11720991f149d3798bf21c93c91cf.jpg  \n",
            " extracting: train/-92-56---fire_jpg.rf.0c10fc8867807ba7dcd5ce5d8e1aac00.jpg  \n",
            " extracting: train/-92-56---fire_jpg.rf.54f040c94214e43c51b5cbf30ffa50a8.jpg  \n",
            " extracting: train/-92-56---fire_jpg.rf.8b21345357d9c4713203b51bb0f15b78.jpg  \n",
            " extracting: train/-92-57---fire_jpg.rf.039c0845bcbc249008d46988d08304ff.jpg  \n",
            " extracting: train/-92-57---fire_jpg.rf.13d88ef830621b5c009da3394ecb5965.jpg  \n",
            " extracting: train/-92-57---fire_jpg.rf.44048fd2e65ac53323be8372d163e8a8.jpg  \n",
            " extracting: train/-92-58---fire_jpg.rf.2d9039fc03743b6a778e6e701a985f40.jpg  \n",
            " extracting: train/-92-58---fire_jpg.rf.a277ed59034f7d1200c0e1c3205e4be4.jpg  \n",
            " extracting: train/-92-58---fire_jpg.rf.d96a4b21dcc861002284a7583c4e9cf7.jpg  \n",
            " extracting: train/-92-59---fire_jpg.rf.7cf33f0e4d9343b8a03a6704a1334548.jpg  \n",
            " extracting: train/-92-59---fire_jpg.rf.e25d200247344f68dd2287b482986223.jpg  \n",
            " extracting: train/-92-59---fire_jpg.rf.fb4267ebbef21672d8a36dff65a9f2d1.jpg  \n",
            " extracting: train/-92-60---fire_jpg.rf.02a2f888183a62f92079863b69442b04.jpg  \n",
            " extracting: train/-92-60---fire_jpg.rf.cbcabd4eaa7e983ea693ce6a99ba5942.jpg  \n",
            " extracting: train/-92-60---fire_jpg.rf.e4a6b357ecdb834aa772b22ec9c41477.jpg  \n",
            " extracting: train/-93-34---fire_jpg.rf.13ace91692d00dce01a9ed94e01af28e.jpg  \n",
            " extracting: train/-93-34---fire_jpg.rf.64dc67c0cb5870ed3edf4c36b9f228cd.jpg  \n",
            " extracting: train/-93-34---fire_jpg.rf.759e9906e4737eaa709f59c7b7284be6.jpg  \n",
            " extracting: train/-93-35---fire_jpg.rf.108b241fcd7b5cbc5e7f43bdad6b7ddb.jpg  \n",
            " extracting: train/-93-35---fire_jpg.rf.27ee97d14939a6139eff44a3dc7abd7b.jpg  \n",
            " extracting: train/-93-35---fire_jpg.rf.a44612ff3ea2147fc04c706c528c393b.jpg  \n",
            " extracting: train/-93-36---fire_jpg.rf.2af476a8189357274bacd580d56b9c75.jpg  \n",
            " extracting: train/-93-36---fire_jpg.rf.3340d193160a27dadbcd69da29a59b4f.jpg  \n",
            " extracting: train/-93-36---fire_jpg.rf.af03f8f3ba9b6148c7cfc3b51e64e283.jpg  \n",
            " extracting: train/-93-37---fire_jpg.rf.511ec83ef431956f2f929b1cb6ae53c1.jpg  \n",
            " extracting: train/-93-37---fire_jpg.rf.7de271e605efe60fd4aa0fa8c4f4f558.jpg  \n",
            " extracting: train/-93-37---fire_jpg.rf.e0d192d666f607cccb730cc02b98bd2c.jpg  \n",
            " extracting: train/-93-44---fire_jpg.rf.3adbfbc60b6d6863335f7a0a58b5f9c2.jpg  \n",
            " extracting: train/-93-44---fire_jpg.rf.d1cc66deb6e145f756abeff45ede6cb1.jpg  \n",
            " extracting: train/-93-44---fire_jpg.rf.e91800f084df352b1899d368d8d3bc58.jpg  \n",
            " extracting: train/-93-45---fire_jpg.rf.4699da98b0eccf3c0e8e6047f6070ce4.jpg  \n",
            " extracting: train/-93-45---fire_jpg.rf.72aca30e601cca3232a07f01cd3495f1.jpg  \n",
            " extracting: train/-93-45---fire_jpg.rf.cd30871d84eebc564dd75424003e70e4.jpg  \n",
            " extracting: train/-93-46---fire_jpg.rf.5e689df19cd3b8c6e911d23ac408cfe6.jpg  \n",
            " extracting: train/-93-46---fire_jpg.rf.98ca1862ca384272cce92ec4a54b3405.jpg  \n",
            " extracting: train/-93-46---fire_jpg.rf.dfc7530721b528cf4c5c6620ffcd2093.jpg  \n",
            " extracting: train/-93-47---fire_jpg.rf.1803845ec172a67cf8a073eefee39455.jpg  \n",
            " extracting: train/-93-47---fire_jpg.rf.ce4b98f519d20106a1349ad575323a12.jpg  \n",
            " extracting: train/-93-47---fire_jpg.rf.fabd2e2ce37e43a6ff1c65d8f5a0958a.jpg  \n",
            " extracting: train/-93-48---fire_jpg.rf.3da5df95c8bf458b573af18ce508ef6d.jpg  \n",
            " extracting: train/-93-48---fire_jpg.rf.426dfbb149065b7bb445aa8ae0adc030.jpg  \n",
            " extracting: train/-93-48---fire_jpg.rf.b748ba0424a00fb1a96c3ab563f8c5b4.jpg  \n",
            " extracting: train/-93-49---fire_jpg.rf.946a6167ace20085080e261ac9c89525.jpg  \n",
            " extracting: train/-93-49---fire_jpg.rf.a9a95dd42b0c6224b217dc0ae4a02f5b.jpg  \n",
            " extracting: train/-93-49---fire_jpg.rf.c910c3e0f65fd7a706d7f54f0e0847b1.jpg  \n",
            " extracting: train/-95-5---fire_jpg.rf.96590250d43fc49598b79f6da24aeeab.jpg  \n",
            " extracting: train/-95-5---fire_jpg.rf.9d70e2c60d535b9bee24db9b6d46f490.jpg  \n",
            " extracting: train/-95-5---fire_jpg.rf.b702f8add27ceee8b194ecf96309013a.jpg  \n",
            " extracting: train/-95-6---fire_jpg.rf.43bfb0f795ac2953cf2ccbb33b2cd3b8.jpg  \n",
            " extracting: train/-95-6---fire_jpg.rf.88d2df41957a7f148d9abeaf20ba51e9.jpg  \n",
            " extracting: train/-95-6---fire_jpg.rf.955a334800be8acd2a465eae7b39f8a9.jpg  \n",
            " extracting: train/-95-7---fire_jpg.rf.2c6b3670ce6dbd201f6cb9bae1ad6d0c.jpg  \n",
            " extracting: train/-95-7---fire_jpg.rf.7daab627cfc9fb67954ec718f52d68d7.jpg  \n",
            " extracting: train/-95-7---fire_jpg.rf.d2889e28b661b76295aca6d61db5eedc.jpg  \n",
            " extracting: train/-95-8---fire_jpg.rf.4fa07e4e8aeca6f0671b401beeee33d9.jpg  \n",
            " extracting: train/-95-8---fire_jpg.rf.6631f0cb2f218ad095c5292e9d6081fa.jpg  \n",
            " extracting: train/-95-8---fire_jpg.rf.b7199121056f5a0ebb0f24608e23a452.jpg  \n",
            " extracting: train/-95-9---fire_jpg.rf.44833abfd8c64bd39fc4f9e4d425ddc2.jpg  \n",
            " extracting: train/-95-9---fire_jpg.rf.d10177eaf82b2d5c3b4b666ee2e0e536.jpg  \n",
            " extracting: train/-95-9---fire_jpg.rf.f6663e6ecaba12b26a0245cd1d1752aa.jpg  \n",
            " extracting: train/-97-53---fire_jpg.rf.0fb7994c06f4032a386f9ac0736dabca.jpg  \n",
            " extracting: train/-97-53---fire_jpg.rf.7ac26dced566cbfd77a2531a07130348.jpg  \n",
            " extracting: train/-97-53---fire_jpg.rf.7ce68ba28ee6f84b42e15bee29e2c9eb.jpg  \n",
            " extracting: train/-97-54---fire_jpg.rf.22092b163888d8c4ea7499a58e0cbf17.jpg  \n",
            " extracting: train/-97-54---fire_jpg.rf.908165cb1acdddc1f1e5c6745b5b723e.jpg  \n",
            " extracting: train/-97-54---fire_jpg.rf.c9bf165d30dcf7d3d3cc20e9385a95e8.jpg  \n",
            " extracting: train/-97-55---fire_jpg.rf.8c2fca769e4b50aa603961cb3fee12b9.jpg  \n",
            " extracting: train/-97-55---fire_jpg.rf.8c7064f6783866d6c599dbb412d03c42.jpg  \n",
            " extracting: train/-97-55---fire_jpg.rf.b8aef8977be11d15f618e02f29739dd7.jpg  \n",
            " extracting: train/-97-56---fire_jpg.rf.29ab741960669e48c572d6b13ac277e9.jpg  \n",
            " extracting: train/-97-56---fire_jpg.rf.557ee861dda19f0803403ff67c69efe2.jpg  \n",
            " extracting: train/-97-56---fire_jpg.rf.7373e5a0a732ca7e169204c3648cb7d3.jpg  \n",
            " extracting: train/-97-57---fire_jpg.rf.1722b065b33f7eaa3237c7c6a2303fff.jpg  \n",
            " extracting: train/-97-57---fire_jpg.rf.349aae5229a23ce44e3dc715884716dd.jpg  \n",
            " extracting: train/-97-57---fire_jpg.rf.ba87477cd7e3598575a94839eb79f618.jpg  \n",
            " extracting: train/-97-91---fire_jpg.rf.4bee4e6e184521626a28891130aac290.jpg  \n",
            " extracting: train/-97-91---fire_jpg.rf.778fb8ee0582d92697270965441e2a59.jpg  \n",
            " extracting: train/-97-91---fire_jpg.rf.efbda458bd219c73f13dcf6785afde4c.jpg  \n",
            " extracting: train/-97-92---fire_jpg.rf.633ea690a40ce67b4572baa21c5c176b.jpg  \n",
            " extracting: train/-97-92---fire_jpg.rf.9eb4450b66636798eaa1b1a5a881ac02.jpg  \n",
            " extracting: train/-97-92---fire_jpg.rf.f2bdfca8f46ff3f301084788c3a98356.jpg  \n",
            " extracting: train/-98-39---fire_jpg.rf.2266fce42540100d79f2134fab59c754.jpg  \n",
            " extracting: train/-98-39---fire_jpg.rf.64df9c893f2731a89730764cf0dd1f66.jpg  \n",
            " extracting: train/-98-39---fire_jpg.rf.73b0c0ee476ab773eebce06a8a2ef28e.jpg  \n",
            " extracting: train/-98-40---fire_jpg.rf.3c71af3d89451b53463ee326729c0338.jpg  \n",
            " extracting: train/-98-40---fire_jpg.rf.a9028237d3f332de8242ad0a6c98d600.jpg  \n",
            " extracting: train/-98-40---fire_jpg.rf.daeeedde5fecf63eb6b2a3a066ab4d66.jpg  \n",
            " extracting: train/-98-41---fire_jpg.rf.5d15a744e43bc87964685681495e4b2a.jpg  \n",
            " extracting: train/-98-41---fire_jpg.rf.c1faa2cf0798f2050829dd1d386eacf2.jpg  \n",
            " extracting: train/-98-41---fire_jpg.rf.cdbf8a83a78c62287ff1d5f87119762e.jpg  \n",
            " extracting: train/-98-42---fire_jpg.rf.b5b694490477f174ece4433a8d46e780.jpg  \n",
            " extracting: train/-98-42---fire_jpg.rf.bcc34fdd3ece7211cbda4204a2192872.jpg  \n",
            " extracting: train/-98-42---fire_jpg.rf.d9bfecaf2b8e18898339a895c7e3b294.jpg  \n",
            " extracting: train/-98-44---fire_jpg.rf.db91eb51d0518a295bb78a8e70232f51.jpg  \n",
            " extracting: train/-98-44---fire_jpg.rf.dd0b32f111fe33e6575a9d9c43429106.jpg  \n",
            " extracting: train/-98-44---fire_jpg.rf.e5106ece491aacb1d2e06240800fbabd.jpg  \n",
            " extracting: train/-98-45---fire_jpg.rf.b51367dfb73b624d66c758a24fb5ac51.jpg  \n",
            " extracting: train/-98-45---fire_jpg.rf.c283d82e2b75ab49600694cc1cd24e17.jpg  \n",
            " extracting: train/-98-45---fire_jpg.rf.d9dcad79ef9896ef9031038e756d6525.jpg  \n",
            " extracting: train/-98-46---fire_jpg.rf.0030faad4a7910078d8b73ace805da45.jpg  \n",
            " extracting: train/-98-46---fire_jpg.rf.7b45b11dc2fa03f78577e13a11ff66ba.jpg  \n",
            " extracting: train/-98-46---fire_jpg.rf.7bd9c1a8894e9df39bd22f818e613915.jpg  \n",
            " extracting: train/-99-14---fire_jpg.rf.2fe800f3e83da88a33e50d34d9775d24.jpg  \n",
            " extracting: train/-99-14---fire_jpg.rf.f078ae2b5e30c286eea563b1ea78549f.jpg  \n",
            " extracting: train/-99-14---fire_jpg.rf.fa47d6d0f72f3fca8145cd41b022231f.jpg  \n",
            " extracting: train/-99-15---fire_jpg.rf.1aa8ffd0b29a44fafa3434e28e85bc3a.jpg  \n",
            " extracting: train/-99-15---fire_jpg.rf.947c00820b2b6bad3b893e73c1845ff8.jpg  \n",
            " extracting: train/-99-15---fire_jpg.rf.bd6db8bce9552e1d670f0363fa03da0c.jpg  \n",
            " extracting: train/-99-16---fire_jpg.rf.162cfae231c3c67b551618458818cd46.jpg  \n",
            " extracting: train/-99-16---fire_jpg.rf.c808ec5fcc098c9adb51ad30254277a9.jpg  \n",
            " extracting: train/-99-16---fire_jpg.rf.f21166e9eb417554fe13b845746a015b.jpg  \n",
            " extracting: train/-99-17---fire_jpg.rf.559a5a101db456e624b9a1da5d70fbb3.jpg  \n",
            " extracting: train/-99-17---fire_jpg.rf.9f17909123f885de7a3ee9a673d19658.jpg  \n",
            " extracting: train/-99-17---fire_jpg.rf.b5831cfefe8d1cf8cb51c8f03dba2956.jpg  \n",
            " extracting: train/-99-18---fire_jpg.rf.67eb59e8e26b01772bdadc1e23005d80.jpg  \n",
            " extracting: train/-99-18---fire_jpg.rf.8358f01f636eeced7fb47aa9a0d507f9.jpg  \n",
            " extracting: train/-99-18---fire_jpg.rf.bff8d2e977c295abb3dee20f3808c250.jpg  \n",
            " extracting: train/-99-19---fire_jpg.rf.307cda08dc1338c70c6c4c46cf3228f1.jpg  \n",
            " extracting: train/-99-19---fire_jpg.rf.76aa806a27d0551e7b37343eb97e92db.jpg  \n",
            " extracting: train/-99-19---fire_jpg.rf.7db60057238b7439f5b49f8708589306.jpg  \n",
            " extracting: train/-99-20---fire_jpg.rf.14c0d4dee642dd37f56f1cfe43f9b65c.jpg  \n",
            " extracting: train/-99-20---fire_jpg.rf.db7477c59fda73150f439081112ec54a.jpg  \n",
            " extracting: train/-99-20---fire_jpg.rf.f6d2d1da16a913785691207c9b2ff327.jpg  \n",
            " extracting: train/-99-21---fire_jpg.rf.d369afab30f3c3a3570594d2f2848d95.jpg  \n",
            " extracting: train/-99-21---fire_jpg.rf.dcb1495f54bb8b8912cdb0ccaa0a507e.jpg  \n",
            " extracting: train/-99-21---fire_jpg.rf.f023ca088e3f3bb0de6ab7305f74a7d9.jpg  \n",
            " extracting: train/-99-22---fire_jpg.rf.92284998c46858ff52375ba544f5d283.jpg  \n",
            " extracting: train/-99-22---fire_jpg.rf.d56100b6e4ed6b270afd301e3677543d.jpg  \n",
            " extracting: train/-99-22---fire_jpg.rf.de98edcea9d600f76481a2cea417fa0e.jpg  \n",
            " extracting: train/-99-24---fire_jpg.rf.67f56625fdbe4d9ed7e9caaefa3d4f30.jpg  \n",
            " extracting: train/-99-24---fire_jpg.rf.ee54c02b80d63b16902983ea16e07fc6.jpg  \n",
            " extracting: train/-99-24---fire_jpg.rf.f22c2d5018638f051ed5635ee27bb080.jpg  \n",
            " extracting: train/-99-25---fire_jpg.rf.516e9113fb43451f804b29e5152703af.jpg  \n",
            " extracting: train/-99-25---fire_jpg.rf.98aded8bf492093fc164eeb318cfab22.jpg  \n",
            " extracting: train/-99-25---fire_jpg.rf.ed74be2502920e036c25310e5349e868.jpg  \n",
            " extracting: train/-99-26---fire_jpg.rf.5cbde5d0efd1d278bf6f5b7e134347aa.jpg  \n",
            " extracting: train/-99-26---fire_jpg.rf.64de7985f9ec57e1a90dfd6e775810a7.jpg  \n",
            " extracting: train/-99-26---fire_jpg.rf.c066c5663d166b788ba6e77736e4908d.jpg  \n",
            " extracting: train/-99-27---fire_jpg.rf.6508c5abc9b084dbad7321b8c510e3f9.jpg  \n",
            " extracting: train/-99-27---fire_jpg.rf.88e9ab651bc0b32ad7bcf488cf56d878.jpg  \n",
            " extracting: train/-99-27---fire_jpg.rf.d549df13bf2e807b88531b70941d042c.jpg  \n",
            " extracting: train/-99-28---fire_jpg.rf.dcf0e974ffa18607f708e90e75d0bd2a.jpg  \n",
            " extracting: train/-99-28---fire_jpg.rf.e67949de357050d0e22db7ed5291a981.jpg  \n",
            " extracting: train/-99-28---fire_jpg.rf.f1e1f3ad1b365602b75783ab8eba829b.jpg  \n",
            " extracting: train/-99-29---fire_jpg.rf.cf8c3fb44005df8697b3ca534fefd204.jpg  \n",
            " extracting: train/-99-29---fire_jpg.rf.d4c9b98d05e101fdd9c263ebf301185d.jpg  \n",
            " extracting: train/-99-29---fire_jpg.rf.d5b9de0d19ad704b334380927fc1cb55.jpg  \n",
            " extracting: train/-99-32---fire_jpg.rf.5456105601e06375af1d71f8bf3a72af.jpg  \n",
            " extracting: train/-99-32---fire_jpg.rf.afc828c517632c32ee529440675327d3.jpg  \n",
            " extracting: train/-99-32---fire_jpg.rf.d7944f97b3d9c3226ad04f134bf3f623.jpg  \n",
            " extracting: train/-99-33---fire_jpg.rf.25292f4905f0d461dc38f263dcb160d2.jpg  \n",
            " extracting: train/-99-33---fire_jpg.rf.2cffb6cae95a297a168053cfa0e7fbd0.jpg  \n",
            " extracting: train/-99-33---fire_jpg.rf.6bca86c882b8e15f1d3409e0f53cecc7.jpg  \n",
            " extracting: train/-99-34---fire_jpg.rf.0bc8e20c03ca03e60783cbbf6d4a2dda.jpg  \n",
            " extracting: train/-99-34---fire_jpg.rf.aeecfbcdef78a583307c3507a9279969.jpg  \n",
            " extracting: train/-99-34---fire_jpg.rf.f241e4f7b8a727f742baee5a4087160c.jpg  \n",
            " extracting: train/-99-35---fire_jpg.rf.4932e133d41479ccbc503d6c2d8661e5.jpg  \n",
            " extracting: train/-99-35---fire_jpg.rf.605a9b2381f838aaa5fa10f59baa60b0.jpg  \n",
            " extracting: train/-99-35---fire_jpg.rf.ed24c7c734a0a267dfb8ab01ee1694f4.jpg  \n",
            " extracting: train/-99-36---fire_jpg.rf.4b9380855051d62874978f4c0bdc205d.jpg  \n",
            " extracting: train/-99-36---fire_jpg.rf.56b140e97abe43874abf17a836e5d5ee.jpg  \n",
            " extracting: train/-99-36---fire_jpg.rf.bf9bbdb428b17ee4614b0d9267a0423b.jpg  \n",
            " extracting: train/-99-38---fire_jpg.rf.82265bb37c7a1d0fcd39b904da3c12c4.jpg  \n",
            " extracting: train/-99-38---fire_jpg.rf.f1ac75fe7c652b2faba1b1e8322688ba.jpg  \n",
            " extracting: train/-99-38---fire_jpg.rf.ff9136bdb6ff636224125f8bd891954e.jpg  \n",
            " extracting: train/-99-39---fire_jpg.rf.3e7c1f38734991d2a6f89798fcf77da8.jpg  \n",
            " extracting: train/-99-39---fire_jpg.rf.bea864546eec9c07acd7ec0078b20924.jpg  \n",
            " extracting: train/-99-39---fire_jpg.rf.c0cfd9ffc8d6f9151b19a6337d17325a.jpg  \n",
            " extracting: train/-99-40---fire_jpg.rf.466517ab84ab5c6f84d7a1c80aa79b12.jpg  \n",
            " extracting: train/-99-40---fire_jpg.rf.cd712f8e32a6e903b869717b87773940.jpg  \n",
            " extracting: train/-99-40---fire_jpg.rf.e98195949e38e91dad046b058feb8367.jpg  \n",
            " extracting: train/-99-41---fire_jpg.rf.2f6e9da8abd99b4e0fed600784aa7a5f.jpg  \n",
            " extracting: train/-99-41---fire_jpg.rf.5ec871b9103189eed54e18ca5bc5c1bb.jpg  \n",
            " extracting: train/-99-41---fire_jpg.rf.7ddf1edf86d4044d10ed823eed86b3e4.jpg  \n",
            " extracting: train/-99-42---fire_jpg.rf.18d35eb7faa9cdc861f2238f0176c14e.jpg  \n",
            " extracting: train/-99-42---fire_jpg.rf.4af9bf1b07acdc1bc3dca06a4cbde7cd.jpg  \n",
            " extracting: train/-99-42---fire_jpg.rf.90338b423b42432963655039d3f0db6d.jpg  \n",
            " extracting: train/-99-43---fire_jpg.rf.4c978cd0af8b91441eaf37014f2c329b.jpg  \n",
            " extracting: train/-99-43---fire_jpg.rf.a50f56a12db86f6803a3d7756fae50d9.jpg  \n",
            " extracting: train/-99-43---fire_jpg.rf.c8d481acd7b5912467303a13861edf41.jpg  \n",
            " extracting: train/-99-45---fire_jpg.rf.781c3aa738a7d30081b24cfdb0cdc75d.jpg  \n",
            " extracting: train/-99-45---fire_jpg.rf.8cf8aad5c435cd19e0e2ad1ca3e445ad.jpg  \n",
            " extracting: train/-99-45---fire_jpg.rf.e7df7a0f0bb595a73ac3fabc5159ef2e.jpg  \n",
            " extracting: train/-99-46---fire_jpg.rf.8b28e1751657a9f126758bf4924544fb.jpg  \n",
            " extracting: train/-99-46---fire_jpg.rf.be06006f8db436f3243d4471efe1c391.jpg  \n",
            " extracting: train/-99-46---fire_jpg.rf.dbc6eaad9257cdd4fd35dfd799e06f35.jpg  \n",
            " extracting: train/-99-47---fire_jpg.rf.4231a49a178f5bfce2fc06bca52208ee.jpg  \n",
            " extracting: train/-99-47---fire_jpg.rf.9979e98368caac977d9db1ba379e88b0.jpg  \n",
            " extracting: train/-99-47---fire_jpg.rf.ced8053a96efb733f9877aea28f0ee39.jpg  \n",
            " extracting: train/-99-49---fire_jpg.rf.50d8605e45c51dc4b5f643111520d8ec.jpg  \n",
            " extracting: train/-99-49---fire_jpg.rf.77ebfbe04e0a0e484a5ab5225ea416b1.jpg  \n",
            " extracting: train/-99-49---fire_jpg.rf.d6fa93ae522e0c99f6168cb80da7fbb5.jpg  \n",
            " extracting: train/-99-50---fire_jpg.rf.4db8bbd7074df119c17530ebeb87fd0f.jpg  \n",
            " extracting: train/-99-50---fire_jpg.rf.79abcb12e1892da4b58acc2980251399.jpg  \n",
            " extracting: train/-99-50---fire_jpg.rf.84feeb9a14f2da2564d204b27c4d6639.jpg  \n",
            " extracting: train/-99-53---fire_jpg.rf.3a9613fb65555c26265d7496b5893cf1.jpg  \n",
            " extracting: train/-99-53---fire_jpg.rf.88ea2e332cfb298cd5a10980b91ab7ad.jpg  \n",
            " extracting: train/-99-53---fire_jpg.rf.fdbb0b38dd1120b1a1a2ff04f10aac81.jpg  \n",
            " extracting: train/-99-54---fire_jpg.rf.57c8536744b388b39112aba8a35ee123.jpg  \n",
            " extracting: train/-99-54---fire_jpg.rf.6b60b2a3a1fe94f54b773589979b26ee.jpg  \n",
            " extracting: train/-99-54---fire_jpg.rf.85bca17dbf9796fe425c78b5d2c845ac.jpg  \n",
            " extracting: train/-99-55---fire_jpg.rf.29713b199f21486bbae589adc9e2d500.jpg  \n",
            " extracting: train/-99-55---fire_jpg.rf.992984d1d6754f3dc402ee59f68f0b03.jpg  \n",
            " extracting: train/-99-55---fire_jpg.rf.afafc4f5fa978255f998874303347b19.jpg  \n",
            " extracting: train/-99-56---fire_jpg.rf.4db90a3dd560e7fd54e3536af68cef01.jpg  \n",
            " extracting: train/-99-56---fire_jpg.rf.6eb1754d3eaef739a9b04576abe9b71b.jpg  \n",
            " extracting: train/-99-56---fire_jpg.rf.7a867786e9dc367b859ca6e2c83ce633.jpg  \n",
            " extracting: train/-99-57---fire_jpg.rf.3545d2085bcb1754051396b2a7d4f521.jpg  \n",
            " extracting: train/-99-57---fire_jpg.rf.9960ff9a9aafbdd46c78fd269fe48389.jpg  \n",
            " extracting: train/-99-57---fire_jpg.rf.c471d1013c6afaa79cc8fdcf706ffcad.jpg  \n",
            " extracting: train/-99-58---fire_jpg.rf.28260e00d95b3801426325fdd0e7f608.jpg  \n",
            " extracting: train/-99-58---fire_jpg.rf.879a16c26d4eba7f4b64decfb7d9028a.jpg  \n",
            " extracting: train/-99-58---fire_jpg.rf.ea7a921386dcad2561354bb9a3d2abff.jpg  \n",
            " extracting: train/-99-60---fire_jpg.rf.32670e8b46571b3982d17428929bb1af.jpg  \n",
            " extracting: train/-99-60---fire_jpg.rf.3e2fadf138b9d1e8258b0cec67e7788a.jpg  \n",
            " extracting: train/-99-60---fire_jpg.rf.b415d417dd0bf2e87570e10925d8f4bb.jpg  \n",
            " extracting: train/-99-61---fire_jpg.rf.0073e7fa2fc2f18128adbbf52a7a8868.jpg  \n",
            " extracting: train/-99-61---fire_jpg.rf.99e8fa379e3b44128807746fbb955f3d.jpg  \n",
            " extracting: train/-99-61---fire_jpg.rf.9eb396bcaa2ced20b40f07950ee1a4d1.jpg  \n",
            " extracting: train/-99-62---fire_jpg.rf.01cf999c5e6c77c920a55cebd63647da.jpg  \n",
            " extracting: train/-99-62---fire_jpg.rf.0b0aa7eff19c2ae90bedc820bf670ffe.jpg  \n",
            " extracting: train/-99-62---fire_jpg.rf.923b0c0e51975255a9587bad1ca5d527.jpg  \n",
            " extracting: train/_annotations.coco.json  \n",
            "   creating: valid/\n",
            " extracting: valid/-10-108---fire_jpg.rf.0dea2fef0a0741a9754319464aa6603c.jpg  \n",
            " extracting: valid/-10-23---fire_jpg.rf.82b5b94b54945c46b9360fec5d3eb61b.jpg  \n",
            " extracting: valid/-10-32---fire_jpg.rf.6342d62758c607319d58092bf0f25e6b.jpg  \n",
            " extracting: valid/-10-36---fire_jpg.rf.c3f527cb646a8385ef8e5cffe1d3f563.jpg  \n",
            " extracting: valid/-10-39---fire_jpg.rf.6faac6797f6ce97d8b9fcec6c0e5d0ee.jpg  \n",
            " extracting: valid/-10-43---fire_jpg.rf.a606160402f75523881ad5991ca8902b.jpg  \n",
            " extracting: valid/-10-44---fire_jpg.rf.822c7270fcebd049870599d1396029aa.jpg  \n",
            " extracting: valid/-101-16---fire_jpg.rf.5eb882599c2a5f644ea84e292e933e08.jpg  \n",
            " extracting: valid/-101-17---fire_jpg.rf.526ad5ddf64b225e78df61c2613ea4f4.jpg  \n",
            " extracting: valid/-101-28---fire_jpg.rf.90e263478f60ced159f90e4b110e3b68.jpg  \n",
            " extracting: valid/-101-30---fire_jpg.rf.cf88d9fab8846e903da4af74851042d8.jpg  \n",
            " extracting: valid/-101-36---fire_jpg.rf.3577d9f913a551589652afdded18bc33.jpg  \n",
            " extracting: valid/-101-38---fire_jpg.rf.5fc8390cc630dc707107e4659ab08d2c.jpg  \n",
            " extracting: valid/-101-43---fire_jpg.rf.ce677d248554d9c5e3e642000034a897.jpg  \n",
            " extracting: valid/-101-45---fire_jpg.rf.75ef641fb9f6618c71aaeebe2d593cea.jpg  \n",
            " extracting: valid/-101-47---fire_jpg.rf.84225b415b0724d1024723ab00bcb996.jpg  \n",
            " extracting: valid/-101-70---fire_jpg.rf.b9e18fb7c4fb8c795883ef55051bf458.jpg  \n",
            " extracting: valid/-101-71---fire_jpg.rf.24840da063171749c81b1e9e6f686d61.jpg  \n",
            " extracting: valid/-101-73---fire_jpg.rf.939b0e51cbf94a270006ec5e95a27333.jpg  \n",
            " extracting: valid/-101-75---fire_jpg.rf.9a48490bc8fb433457927f8df7bdedcf.jpg  \n",
            " extracting: valid/-102-20---fire_jpg.rf.fe4a4489598b6cf2d24014c1c23db1d1.jpg  \n",
            " extracting: valid/-102-21---fire_jpg.rf.ee13b054d9888f8b5c7c057e8c01d392.jpg  \n",
            " extracting: valid/-102-27---fire_jpg.rf.14a2791ab0d9b703bcfa298b695a62f7.jpg  \n",
            " extracting: valid/-102-33---fire_jpg.rf.6436e94dcfde5c5696b2f0a2f013352e.jpg  \n",
            " extracting: valid/-102-34---fire_jpg.rf.9d9f8bd275135123a7c6cb7ec603d04f.jpg  \n",
            " extracting: valid/-102-36---fire_jpg.rf.b0e8d6d1cb1354a32fe65e00b23e9d25.jpg  \n",
            " extracting: valid/-102-40---fire_jpg.rf.cae4436fec704192d946ef119adcccae.jpg  \n",
            " extracting: valid/-102-61---fire_jpg.rf.c5278454aa232f023654db61748ca40b.jpg  \n",
            " extracting: valid/-102-63---fire_jpg.rf.7fbe245f5b4c64a8b1b0d43e3fecc6ac.jpg  \n",
            " extracting: valid/-102-64---fire_jpg.rf.e9e87564986b3f172b543aa167d6c7b9.jpg  \n",
            " extracting: valid/-102-65---fire_jpg.rf.25d5fdd1d3ac68053fdfeaa2bc4b48c0.jpg  \n",
            " extracting: valid/-102-67---fire_jpg.rf.cfa3bd6f016f2504b1f2e5ee1d7d0264.jpg  \n",
            " extracting: valid/-102-68---fire_jpg.rf.3cd5722e9593248e311f14679924fa28.jpg  \n",
            " extracting: valid/-102-71---fire_jpg.rf.0ae66a2e964ce77a58cf7bdc656c7203.jpg  \n",
            " extracting: valid/-102-72---fire_jpg.rf.521a4dbca8fec94eb41f4de10747f0c8.jpg  \n",
            " extracting: valid/-105-67---fire_jpg.rf.7539ee3ab0acb6b9a32a73bcdcf4ac06.jpg  \n",
            " extracting: valid/-105-69---fire_jpg.rf.1556a4ce5582ffdea51c0ac58d9439f7.jpg  \n",
            " extracting: valid/-105-70---fire_jpg.rf.918e1d1c6944be65606bdf48f916c682.jpg  \n",
            " extracting: valid/-106-83---fire_jpg.rf.ada6b887a24de7f0a0b1aeffebad494f.jpg  \n",
            " extracting: valid/-109-100---fire_jpg.rf.9779f8d95d5835877f541d7607316fdd.jpg  \n",
            " extracting: valid/-109-79---fire_jpg.rf.2689a217add448d4478659f6000d315a.jpg  \n",
            " extracting: valid/-109-87---fire_jpg.rf.77076e4a9af7091c800a47923f882236.jpg  \n",
            " extracting: valid/-11-33---fire_jpg.rf.772fa1baec578d866313b142b70fb1da.jpg  \n",
            " extracting: valid/-11-39---fire_jpg.rf.36084721caa6489c48178d5bd4094e6d.jpg  \n",
            " extracting: valid/-110-65---fire_jpg.rf.78e9917d370a840e96b05e53e950cc3f.jpg  \n",
            " extracting: valid/-110-67---fire_jpg.rf.a0d65eff6ab3dc37270c20ff5dd26e30.jpg  \n",
            " extracting: valid/-110-88---fire_jpg.rf.775c1d9cba2b49f0493785f1ab62afa1.jpg  \n",
            " extracting: valid/-112-29---fire_jpg.rf.1cf34582240162c9113a44a3c2fe4aa3.jpg  \n",
            " extracting: valid/-112-32---fire_jpg.rf.4ebc0f6efd9476e9d366194c8057b9fa.jpg  \n",
            " extracting: valid/-112-35---fire_jpg.rf.a40f5efc46f5493b7beed31d322f520b.jpg  \n",
            " extracting: valid/-112-56---fire_jpg.rf.63d2b8da5ce494192d9e53455028c140.jpg  \n",
            " extracting: valid/-115-34---fire_jpg.rf.a7eab5430bd7e43e25acf17c1504f198.jpg  \n",
            " extracting: valid/-115-36---fire_jpg.rf.41178738bed419135ff905f04da4ac88.jpg  \n",
            " extracting: valid/-116-16---fire_jpg.rf.19bf700c6237c5868566a30d911c7acb.jpg  \n",
            " extracting: valid/-116-20---fire_jpg.rf.e88ab41dacfe8298a812ba8bdab300b5.jpg  \n",
            " extracting: valid/-116-32---fire_jpg.rf.71619cd436f1ce1da212ef02448834eb.jpg  \n",
            " extracting: valid/-117-72---fire_jpg.rf.52040f3dd8c4e80ec6d0d54567b64745.jpg  \n",
            " extracting: valid/-117-74---fire_jpg.rf.9a9229be30fcdf8cde367a1c4f5caa8b.jpg  \n",
            " extracting: valid/-117-76---fire_jpg.rf.3eed0b4ddb0c007253b335ab29250b14.jpg  \n",
            " extracting: valid/-117-78---fire_jpg.rf.5fb7174dd40170fac23acd03a7a6cd48.jpg  \n",
            " extracting: valid/-118-64---fire_jpg.rf.0c34cc83c4b3849f3253c557ece17f90.jpg  \n",
            " extracting: valid/-118-70---fire_jpg.rf.78a3901996ee43ae7fde823c7e6aede5.jpg  \n",
            " extracting: valid/-12-44---fire_jpg.rf.5a340baec852c678e421d4980b8e2be1.jpg  \n",
            " extracting: valid/-12-45---fire_jpg.rf.6ccead828ce6c7ef7aa9f7e4f598b08b.jpg  \n",
            " extracting: valid/-12-52---fire_jpg.rf.886237f261ba404c2baf943560f4e764.jpg  \n",
            " extracting: valid/-12-53---fire_jpg.rf.b15a440d528724f3e7774bdc873c4c50.jpg  \n",
            " extracting: valid/-12-54---fire_jpg.rf.9bdfee58199c343dbbad897e985172c7.jpg  \n",
            " extracting: valid/-120-15---fire_jpg.rf.54ff158c906cbf5359bac892c881282f.jpg  \n",
            " extracting: valid/-122-51---fire_jpg.rf.3d89f1dcfc086d8423c8eb377cde9fe6.jpg  \n",
            " extracting: valid/-122-54---fire_jpg.rf.74819a1e4400c18da6fe4eb9dfe26cf9.jpg  \n",
            " extracting: valid/-122-55---fire_jpg.rf.325016c3f889b335e3fb4f4776e0fc70.jpg  \n",
            " extracting: valid/-124-21---fire_jpg.rf.372e760331ea43dfb48a0ce9954b288c.jpg  \n",
            " extracting: valid/-124-63---fire_jpg.rf.2edd148fe38a42f0b031d577e6601cc1.jpg  \n",
            " extracting: valid/-124-67---fire_jpg.rf.69d5b92329a1254b57cd88b5384a65b7.jpg  \n",
            " extracting: valid/-124-68---fire_jpg.rf.66dda1aebe1cc47dbbd87eff7bb5baa8.jpg  \n",
            " extracting: valid/-127-38---fire_jpg.rf.ef30869b9758af018085ff3fe9d3abc2.jpg  \n",
            " extracting: valid/-127-40---fire_jpg.rf.593cbda6410641f5b41e521364079ace.jpg  \n",
            " extracting: valid/-129-13---fire_jpg.rf.23ca9f581d2efe1f79b1e84a0b4df1a1.jpg  \n",
            " extracting: valid/-129-21---fire_jpg.rf.51f2ab668d6fb8f0d40581be76cb029c.jpg  \n",
            " extracting: valid/-129-22---fire_jpg.rf.230d66db692f602073607184ea1433e8.jpg  \n",
            " extracting: valid/-129-24---fire_jpg.rf.4e72c2e9433b75afce5306de1c987ecf.jpg  \n",
            " extracting: valid/-129-26---fire_jpg.rf.6d5bc4d798c62705289e855a6e68ae31.jpg  \n",
            " extracting: valid/-129-31---fire_jpg.rf.a060f0f50d4ae7493374098004e0eebc.jpg  \n",
            " extracting: valid/-129-36---fire_jpg.rf.da4387c925056bf34addac69cb53734d.jpg  \n",
            " extracting: valid/-129-48---fire_jpg.rf.ef194004429a1fcb56ee0ec739585eb2.jpg  \n",
            " extracting: valid/-129-49---fire_jpg.rf.5fb183a7adad5e2c347912f1e8a82b9e.jpg  \n",
            " extracting: valid/-129-50---fire_jpg.rf.361bcce56513a6bec2cdfd6f236ec7b3.jpg  \n",
            " extracting: valid/-129-52---fire_jpg.rf.7ba3901d62c7d0ecb728d4b2ddcf3979.jpg  \n",
            " extracting: valid/-129-53---fire_jpg.rf.021811363828732612376f3559a90595.jpg  \n",
            " extracting: valid/-129-56---fire_jpg.rf.8d65ffc0f763321c36d2045d261c9bb3.jpg  \n",
            " extracting: valid/-129-59---fire_jpg.rf.1f94d0eb95a0eb73129b097440b81099.jpg  \n",
            " extracting: valid/-129-60---fire_jpg.rf.f9561e08ab3a624c795b3200f01e378d.jpg  \n",
            " extracting: valid/-129-62---fire_jpg.rf.b3caab41c6b141b7f536c1f43930542e.jpg  \n",
            " extracting: valid/-131-79---fire_jpg.rf.89cf9c9bd93345b7861352df99c8d7d1.jpg  \n",
            " extracting: valid/-131-88---fire_jpg.rf.f36a47d531a620091e2ad66630201610.jpg  \n",
            " extracting: valid/-132-69---fire_jpg.rf.8e330b4c7e2d721061829c22702d8890.jpg  \n",
            " extracting: valid/-133-1043---fire_jpg.rf.14a7db0fd1ee8e63d6559f49c5adcbe2.jpg  \n",
            " extracting: valid/-133-1175---fire_jpg.rf.98688e8e56ab228e4d156e43a03c29a4.jpg  \n",
            " extracting: valid/-133-1234---fire_jpg.rf.b477c8d2511dcf81200d056b6b318a2b.jpg  \n",
            " extracting: valid/-133-1236---fire_jpg.rf.3aad4bee293325c4e1866dbe02c3d139.jpg  \n",
            " extracting: valid/-133-1246---fire_jpg.rf.4dcbeb44ff6c0059a47945550b6d0b3a.jpg  \n",
            " extracting: valid/-133-1259---fire_jpg.rf.41d45b2992254bd128f6318b07a3d3b4.jpg  \n",
            " extracting: valid/-133-1260---fire_jpg.rf.5321341b6a70bf3ddecea5bf1bd2d27a.jpg  \n",
            " extracting: valid/-133-1268---fire_jpg.rf.a300cde0bf83c9ec9e8d0b0202518fc9.jpg  \n",
            " extracting: valid/-133-1286---fire_jpg.rf.15d5a0d473514840f851494dc7d7241c.jpg  \n",
            " extracting: valid/-133-1295---fire_jpg.rf.e6860cc2ac59b81b82c61e3c89944997.jpg  \n",
            " extracting: valid/-133-1296---fire_jpg.rf.3324108efe9fadadd03a09315c8326e1.jpg  \n",
            " extracting: valid/-133-1305---fire_jpg.rf.20aed0a6697cb7818383609bde7372e2.jpg  \n",
            " extracting: valid/-133-1339---fire_jpg.rf.24ba7e66eb89e57dc8e18de58562ec27.jpg  \n",
            " extracting: valid/-133-1341---fire_jpg.rf.4c443f13c20ab2f8b9649853d98daab8.jpg  \n",
            " extracting: valid/-133-1354---fire_jpg.rf.7cb3c8c63d5ba6f3b74050650d663b5a.jpg  \n",
            " extracting: valid/-133-1356---fire_jpg.rf.c67cc8c3368cf6b7d36ad812b72668fa.jpg  \n",
            " extracting: valid/-133-1357---fire_jpg.rf.b9d14b2b32fda45ca76839a0bb0aa681.jpg  \n",
            " extracting: valid/-133-1358---fire_jpg.rf.905edfdf23fc01dfa4fc3820c139ca39.jpg  \n",
            " extracting: valid/-133-1485---fire_jpg.rf.22c7bea12e2b8274df9a26cc4bb44068.jpg  \n",
            " extracting: valid/-133-149---fire_jpg.rf.7b2ab4eecca85f87a12f4f90213c2ab3.jpg  \n",
            " extracting: valid/-133-1648---fire_jpg.rf.85bc5439e8e8c6f45adc3fc9c86f4882.jpg  \n",
            " extracting: valid/-133-1649---fire_jpg.rf.ac9bbcee34e7516ab435e9627e8281c4.jpg  \n",
            " extracting: valid/-133-1711---fire_jpg.rf.9c5d39bd24d31d1aad5012d4a47b7b82.jpg  \n",
            " extracting: valid/-133-180---fire_jpg.rf.cde793c5f598a1ef8c616e05c855df83.jpg  \n",
            " extracting: valid/-133-183---fire_jpg.rf.8b926772369b9430c5b98fe47682509c.jpg  \n",
            " extracting: valid/-133-830---fire_jpg.rf.bc53693727fbeeec24a9a7186b38d625.jpg  \n",
            " extracting: valid/-133-833---fire_jpg.rf.e1e4481eaa410bd3d6345198db68ca0a.jpg  \n",
            " extracting: valid/-133-994---fire_jpg.rf.2f5cd5956ce63ca95b7f6a02d4ef5acf.jpg  \n",
            " extracting: valid/-133-996---fire_jpg.rf.647ad34fa3c1fbdb108208d9149b7801.jpg  \n",
            " extracting: valid/-135-19---fire_jpg.rf.8cbe57d2b662cb84cb3a1c669fb91c26.jpg  \n",
            " extracting: valid/-135-22---fire_jpg.rf.d2ab116a88052b3b81da9ff8b825260e.jpg  \n",
            " extracting: valid/-135-23---fire_jpg.rf.861b26c04f6d1e16cfc1246a80b43798.jpg  \n",
            " extracting: valid/-135-25---fire_jpg.rf.105ca5089c2df8f80541cb7b758e9b6d.jpg  \n",
            " extracting: valid/-135-26---fire_jpg.rf.61e2a27d807c2d98bdca9cd772d7f729.jpg  \n",
            " extracting: valid/-135-32---fire_jpg.rf.136d0f2e6670bcc123c06800e00ec91a.jpg  \n",
            " extracting: valid/-135-33---fire_jpg.rf.4d59074b9470b0d0a37382493cdf1cd6.jpg  \n",
            " extracting: valid/-135-38---fire_jpg.rf.8855bb5bdf8effdac8e2961e60eedf9a.jpg  \n",
            " extracting: valid/-135-54---fire_jpg.rf.cefc70b50c23f08a5f316430618e40a4.jpg  \n",
            " extracting: valid/-135-57---fire_jpg.rf.379ef2a1cf5902de15aeb7efc54ab666.jpg  \n",
            " extracting: valid/-135-59---fire_jpg.rf.e97ae87fba4fbe2bb70f83d66a852280.jpg  \n",
            " extracting: valid/-135-64---fire_jpg.rf.0c7f17e24c1a03e5621f0d6592738e46.jpg  \n",
            " extracting: valid/-135-65---fire_jpg.rf.b809695e3731b2424a658ebfaa94f98f.jpg  \n",
            " extracting: valid/-135-74---fire_jpg.rf.11a0b80ac5353f75efb075e814a3c96d.jpg  \n",
            " extracting: valid/-136-44---fire_jpg.rf.839580faf4b8fafc52f027aece3306ed.jpg  \n",
            " extracting: valid/-136-47---fire_jpg.rf.36dc0a3a83f17bca0c3563116e93aec8.jpg  \n",
            " extracting: valid/-136-49---fire_jpg.rf.9f2f701e0a133579108598290ced51be.jpg  \n",
            " extracting: valid/-136-52---fire_jpg.rf.731e8b399465216db8112de2e4f8f4a4.jpg  \n",
            " extracting: valid/-136-57---fire_jpg.rf.cfa342f86761315b1ff5eee48e5d6122.jpg  \n",
            " extracting: valid/-136-58---fire_jpg.rf.845ae8948040576c92a280142c2d673f.jpg  \n",
            " extracting: valid/-136-63---fire_jpg.rf.7cccc18abec9eeeca65e937f46e615bd.jpg  \n",
            " extracting: valid/-136-65---fire_jpg.rf.d5c41eb967461a0ebe872163dafc5861.jpg  \n",
            " extracting: valid/-139-14---fire_jpg.rf.b8c0a0d3a12781aff297d9459877050a.jpg  \n",
            " extracting: valid/-139-16---fire_jpg.rf.77bd4c8e7ea76f82aa1d14a7bd8b47e6.jpg  \n",
            " extracting: valid/-139-17---fire_jpg.rf.c10a2c675b1e180d07ee0b60c86349b4.jpg  \n",
            " extracting: valid/-139-25---fire_jpg.rf.055a8b8035c147035f65599dbf91c4c4.jpg  \n",
            " extracting: valid/-139-28---fire_jpg.rf.1750685dbd8b8eb651eb6613d48028a1.jpg  \n",
            " extracting: valid/-139-30---fire_jpg.rf.cce7ef973c94ff78daae983bd9b9b1e9.jpg  \n",
            " extracting: valid/-140-49---fire_jpg.rf.a638dfffdfdce3c1de8c8e83b6641506.jpg  \n",
            " extracting: valid/-140-55---fire_jpg.rf.e952f1878f9db6b05df131bb076db156.jpg  \n",
            " extracting: valid/-140-68---fire_jpg.rf.9eaba12954030d3af3a3691df8769867.jpg  \n",
            " extracting: valid/-141-64---fire_jpg.rf.a35e74fe62354a44a6ae53de19cf003b.jpg  \n",
            " extracting: valid/-142-17---fire_jpg.rf.6af3e4f1b052e36a74926e7f0440a83d.jpg  \n",
            " extracting: valid/-142-23---fire_jpg.rf.23cb5bca3b82d9851887a34c2491082d.jpg  \n",
            " extracting: valid/-142-33---fire_jpg.rf.b00edc553840b50dcaf6f48149f6e9e0.jpg  \n",
            " extracting: valid/-145-66---fire_jpg.rf.2e45ff824b89fdfaa120432a8da92e7b.jpg  \n",
            " extracting: valid/-145-67---fire_jpg.rf.0190cdf42f316dbafb7607362b30c792.jpg  \n",
            " extracting: valid/-148-20---fire_jpg.rf.d6d437c5e493fcc6a3bb61da5e4f3738.jpg  \n",
            " extracting: valid/-149-13---fire_jpg.rf.bd88108c3b847a0b97573881b271ebdc.jpg  \n",
            " extracting: valid/-15-66---fire_jpg.rf.1cc0e9a151cf335ced70ce30099de3ee.jpg  \n",
            " extracting: valid/-15-69---fire_jpg.rf.2d045332600111ad3cfe13978eed381e.jpg  \n",
            " extracting: valid/-15-75---fire_jpg.rf.6f971566bd4c0f540b995449953e752c.jpg  \n",
            " extracting: valid/-15-81---fire_jpg.rf.34494530bd8ff85e222fb14879d4a51d.jpg  \n",
            " extracting: valid/-15-83---fire_jpg.rf.7299c63a6ba99f29e500417fe3d2fce6.jpg  \n",
            " extracting: valid/-150-15---fire_jpg.rf.012ea482f3a720f6095cd8a1a9763c85.jpg  \n",
            " extracting: valid/-151-17---fire_jpg.rf.c03f395031e67f9cb48c31506dcb5c04.jpg  \n",
            " extracting: valid/-151-27---fire_jpg.rf.e2310dc283b75a907b367ee40d85fc10.jpg  \n",
            " extracting: valid/-151-32---fire_jpg.rf.ffff3b6a2d552890ab230ba1c74e54f2.jpg  \n",
            " extracting: valid/-151-51---fire_jpg.rf.8565b55efd661d1a2226848f69868c85.jpg  \n",
            " extracting: valid/-152-16---fire_jpg.rf.8c05da8809afe903034d62a8a9d77342.jpg  \n",
            " extracting: valid/-152-25---fire_jpg.rf.25a53910e7f5581047ab8a3be455941e.jpg  \n",
            " extracting: valid/-152-31---fire_jpg.rf.9b344507654ecc6950b8660e9a6372cf.jpg  \n",
            " extracting: valid/-152-32---fire_jpg.rf.8aa844af955ecc4b79d4478f2f0aa697.jpg  \n",
            " extracting: valid/-152-43---fire_jpg.rf.444904e7caf8e31e07443cccb340a5c4.jpg  \n",
            " extracting: valid/-152-50---fire_jpg.rf.139b85bfb0d3516a6fdf6edc1f8b44ed.jpg  \n",
            " extracting: valid/-152-87---fire_jpg.rf.b5fca0400bb9b31ce248d183a37e41e8.jpg  \n",
            " extracting: valid/-152-91---fire_jpg.rf.28511e1009ce3e721cc4ff6be8f6f9e5.jpg  \n",
            " extracting: valid/-152-95---fire_jpg.rf.f266cea2e0e3220c34cf3e1044dea031.jpg  \n",
            " extracting: valid/-153-14---fire_jpg.rf.b4e6f9673a53d4607833dfbd00ab52ee.jpg  \n",
            " extracting: valid/-153-26---fire_jpg.rf.966d6f6466171378aee0145c3a16434f.jpg  \n",
            " extracting: valid/-153-28---fire_jpg.rf.b136454b752c1367646b03b6259730e5.jpg  \n",
            " extracting: valid/-153-30---fire_jpg.rf.e3fe3ce6a7b53ae669e063ccf470e93c.jpg  \n",
            " extracting: valid/-156-67---fire_jpg.rf.2027faf8896233fe096e8533220dbd34.jpg  \n",
            " extracting: valid/-156-70---fire_jpg.rf.0a7cab6e844fe2c6870595ce2e4bc0da.jpg  \n",
            " extracting: valid/-156-89---fire_jpg.rf.4bbe8f58fc66cdb4265e5d3e48ddcd5f.jpg  \n",
            " extracting: valid/-156-90---fire_jpg.rf.c9a0aed1fc95f2110e8edddfc2366a47.jpg  \n",
            " extracting: valid/-156-92---fire_jpg.rf.c6d9c92525a8b3cccdfef0afaf0f6386.jpg  \n",
            " extracting: valid/-158-49---fire_jpg.rf.d7e546402ba088e0034a3a5bee6eb79b.jpg  \n",
            " extracting: valid/-158-50---fire_jpg.rf.d5323d5c60f32f7c3c657480437ad220.jpg  \n",
            " extracting: valid/-158-60---fire_jpg.rf.614773cfef5c3342656b8fad196ecd27.jpg  \n",
            " extracting: valid/-158-65---fire_jpg.rf.38f8d272d2367aa9b6b354dcfea78077.jpg  \n",
            " extracting: valid/-158-76---fire_jpg.rf.f0e2af7a252ae928597f1f4f0a203a39.jpg  \n",
            " extracting: valid/-158-83---fire_jpg.rf.161e6f8ca1694bfc230de370dd2d52b1.jpg  \n",
            " extracting: valid/-158-85---fire_jpg.rf.8aafc496326e634960ba13b6f8657f4f.jpg  \n",
            " extracting: valid/-159-19---fire_jpg.rf.eeec4995cc01cd8ef3e90a394db51746.jpg  \n",
            " extracting: valid/-159-27---fire_jpg.rf.590aed704f70ec82c4a71620231dc01a.jpg  \n",
            " extracting: valid/-159-61---fire_jpg.rf.88d54c6b2ea540cfd4689209f6295ef3.jpg  \n",
            " extracting: valid/-159-72---fire_jpg.rf.497070cc6f635e42e411eee31e1f2679.jpg  \n",
            " extracting: valid/-16-15---fire_jpg.rf.780a2480b33fc408cb46db45e458fc0f.jpg  \n",
            " extracting: valid/-16-20---fire_jpg.rf.dc0b5fed528a3433ec3c94be277d81f3.jpg  \n",
            " extracting: valid/-16-39---fire_jpg.rf.d2b320c7722e39c2091fe98cc97f14a5.jpg  \n",
            " extracting: valid/-16-41---fire_jpg.rf.95e78ee71dbc944b30eb7be2a95dee41.jpg  \n",
            " extracting: valid/-16-42---fire_jpg.rf.ab8e212aa6bbd91c77d7efb6ad7c2713.jpg  \n",
            " extracting: valid/-16-45---fire_jpg.rf.fcfde0471cd2fcd1ec98d9de7fc4a65b.jpg  \n",
            " extracting: valid/-16-49---fire_jpg.rf.b0960cd56cb613ae57ee2e51edb913bc.jpg  \n",
            " extracting: valid/-160-15---fire_jpg.rf.dd7ee8d6853a368459d7701955ec42a5.jpg  \n",
            " extracting: valid/-160-24---fire_jpg.rf.3e331474fa2c68ae0df9d60e5376968a.jpg  \n",
            " extracting: valid/-161-24---fire_jpg.rf.865602101fdab15d7474562c962fed03.jpg  \n",
            " extracting: valid/-161-25---fire_jpg.rf.b23c62de1aea7ef445701aef8e784a79.jpg  \n",
            " extracting: valid/-161-26---fire_jpg.rf.37c18e8f3ceaea0b432246b9d5c29740.jpg  \n",
            " extracting: valid/-161-81---fire_jpg.rf.c165807011a792ae68ccc95285cf2374.jpg  \n",
            " extracting: valid/-161-84---fire_jpg.rf.c645033a1b11b90dfdeed664c39247f0.jpg  \n",
            " extracting: valid/-161-85---fire_jpg.rf.f852a128b62f016d5356fc5d6a8c0e54.jpg  \n",
            " extracting: valid/-162-0---fire_jpg.rf.fe8f539f80b5957ec825a65f6e17286c.jpg  \n",
            " extracting: valid/-162-13---fire_jpg.rf.1ca644f1ed97743c03e007a6ab387f20.jpg  \n",
            " extracting: valid/-162-3---fire_jpg.rf.e3f326d5a4ab89c896091480d8a311f5.jpg  \n",
            " extracting: valid/-162-32---fire_jpg.rf.9030253c2df02a71ea3dcf4d896077b5.jpg  \n",
            " extracting: valid/-162-44---fire_jpg.rf.5fafdcca64df085718703c52897f690d.jpg  \n",
            " extracting: valid/-162-47---fire_jpg.rf.08ea564e619ff1cbe69b1ce20fe0e0e7.jpg  \n",
            " extracting: valid/-162-57---fire_jpg.rf.be25a2163d1aa873de1a0abe9085bcca.jpg  \n",
            " extracting: valid/-162-70---fire_jpg.rf.272478a48e15f22d45eeb6f182bd2fb0.jpg  \n",
            " extracting: valid/-162-74---fire_jpg.rf.76a2927a12efbaf76c73cc4b06d2c85d.jpg  \n",
            " extracting: valid/-162-77---fire_jpg.rf.4462d90d02875aca2cfe2882c736cd7d.jpg  \n",
            " extracting: valid/-162-79---fire_jpg.rf.d49a98599a21bac591f382842c80811f.jpg  \n",
            " extracting: valid/-165-68---fire_jpg.rf.abc1b6adb4f48b3046cf7c3b42f7ca06.jpg  \n",
            " extracting: valid/-166-20---fire_jpg.rf.f42ab4701509eab8f834bcc907c637d8.jpg  \n",
            " extracting: valid/-168-103---fire_jpg.rf.00bcd2906142531cc00e50e84a0b9543.jpg  \n",
            " extracting: valid/-168-105---fire_jpg.rf.b71b4588724572f7c9d0efb486085924.jpg  \n",
            " extracting: valid/-168-64---fire_jpg.rf.e342912cde4201720093e0ae9d670cba.jpg  \n",
            " extracting: valid/-168-65---fire_jpg.rf.294e307f8a25bf4c5aea57a523184347.jpg  \n",
            " extracting: valid/-169-14---fire_jpg.rf.398b95c8f637cd0828c6d825641a3edd.jpg  \n",
            " extracting: valid/-169-17---fire_jpg.rf.b3c927e8bb6ece935bbe8861ac20c6d9.jpg  \n",
            " extracting: valid/-169-23---fire_jpg.rf.78e1aac7c4c7ef23e056a08cd8b84f15.jpg  \n",
            " extracting: valid/-169-24---fire_jpg.rf.f5eb32849fc685bc69fc1c2b21e71b51.jpg  \n",
            " extracting: valid/-169-4---fire_jpg.rf.92f51da7db72bc8b608fa8ff804b48ca.jpg  \n",
            " extracting: valid/-169-6---fire_jpg.rf.4033331286932da0a1e057c0e4479b8d.jpg  \n",
            " extracting: valid/-17-102---fire_jpg.rf.9897cbdb7eb20581ae66e7f95a210f2c.jpg  \n",
            " extracting: valid/-17-12---fire_jpg.rf.b1efc078b06cfb1a244e497ffb4bf6f2.jpg  \n",
            " extracting: valid/-17-14---fire_jpg.rf.dbc654e841b30f47b746e7b7512b1213.jpg  \n",
            " extracting: valid/-17-29---fire_jpg.rf.3623c9fc95a6ef235040e6e34ba33681.jpg  \n",
            " extracting: valid/-17-48---fire_jpg.rf.eb1b711226fad151d3238d3e9c9b61f9.jpg  \n",
            " extracting: valid/-17-50---fire_jpg.rf.b85934292921dcfafc109e6291c7a18c.jpg  \n",
            " extracting: valid/-17-59---fire_jpg.rf.a732ea695848440b9500990452ae72f6.jpg  \n",
            " extracting: valid/-17-76---fire_jpg.rf.fb380e4aa2c9021bbcdfe4158307055b.jpg  \n",
            " extracting: valid/-17-88---fire_jpg.rf.4b1b60daa66f5744d57ab6b0d9060c82.jpg  \n",
            " extracting: valid/-17-9---fire_jpg.rf.0c46f85ee493de5eb478da778308fe44.jpg  \n",
            " extracting: valid/-171-20---fire_jpg.rf.70c12428d263e67d0efdcccb68f0fd6e.jpg  \n",
            " extracting: valid/-171-27---fire_jpg.rf.be9f41dc2b93119357d6c5e2d1a4a04e.jpg  \n",
            " extracting: valid/-171-28---fire_jpg.rf.523649289ca94b28e10f15fa09b9d6d4.jpg  \n",
            " extracting: valid/-171-29---fire_jpg.rf.2fd6eb5d9f388a6a03a503019da2674a.jpg  \n",
            " extracting: valid/-171-32---fire_jpg.rf.3c8ed7602b0618c2d025ba1f5b32fb5b.jpg  \n",
            " extracting: valid/-171-40---fire_jpg.rf.a81b55a56ece60a228f5f0c297ee15ff.jpg  \n",
            " extracting: valid/-173-16---fire_jpg.rf.104ac4a6fce4d811c68d4d53f9c5cfd0.jpg  \n",
            " extracting: valid/-173-17---fire_jpg.rf.2c4667fd9b097528142168326b6b8a46.jpg  \n",
            " extracting: valid/-174-47---fire_jpg.rf.d00db42c4d79e0deb95e885e8f4756d3.jpg  \n",
            " extracting: valid/-175-15---fire_jpg.rf.9ce2713b6c19a5f81932be9ca97c2aee.jpg  \n",
            " extracting: valid/-175-27---fire_jpg.rf.c4e176c46a79172ab339fe773b5f99ec.jpg  \n",
            " extracting: valid/-175-30---fire_jpg.rf.201ac61f40bf2eefafac17903d609031.jpg  \n",
            " extracting: valid/-176-20---fire_jpg.rf.06f6d9aa4ec6ec7df99a98367d2f91af.jpg  \n",
            " extracting: valid/-176-22---fire_jpg.rf.5f10024da63daafdb876c98b479bc029.jpg  \n",
            " extracting: valid/-176-39---fire_jpg.rf.3f914e99a0ea0307261bbd8449852726.jpg  \n",
            " extracting: valid/-176-41---fire_jpg.rf.0f5b77b037b2af70198f21f8e607bf65.jpg  \n",
            " extracting: valid/-176-51---fire_jpg.rf.abccce0ab2243ed0c192ab126bdfbeaf.jpg  \n",
            " extracting: valid/-176-53---fire_jpg.rf.5e0989999b5eeb824a503522c05f5b4d.jpg  \n",
            " extracting: valid/-176-56---fire_jpg.rf.1121faf4cf2692c2e29ce745597447a9.jpg  \n",
            " extracting: valid/-176-62---fire_jpg.rf.e0ed0445c73faa59dea5d1fe9dc3b445.jpg  \n",
            " extracting: valid/-176-67---fire_jpg.rf.60264a76659e9f4aa334d50b939d1452.jpg  \n",
            " extracting: valid/-176-93---fire_jpg.rf.bc47f9b399ab81bd5a0955ee62231605.jpg  \n",
            " extracting: valid/-176-94---fire_jpg.rf.ef0ef3c1acc7ff291cb9c509f170f521.jpg  \n",
            " extracting: valid/-177-2---fire_jpg.rf.86e9e6d213a97e194412c5b16ea62490.jpg  \n",
            " extracting: valid/-177-20---fire_jpg.rf.60eb35afa64d1be22bf47fe2eaf36914.jpg  \n",
            " extracting: valid/-177-22---fire_jpg.rf.9a58a478894543e062c01ebd639d3de6.jpg  \n",
            " extracting: valid/-177-28---fire_jpg.rf.b59f4f293c1c3cc115652b8a34ea457d.jpg  \n",
            " extracting: valid/-177-3---fire_jpg.rf.64ad4610de05903fdeb3906b1b269124.jpg  \n",
            " extracting: valid/-177-30---fire_jpg.rf.fa1152f7252e186f08dcf6c35ccda4e4.jpg  \n",
            " extracting: valid/-177-36---fire_jpg.rf.0adec98ddb45c6b4554d9e631d7d75c7.jpg  \n",
            " extracting: valid/-177-38---fire_jpg.rf.644df90282c9c862fb608134423f7233.jpg  \n",
            " extracting: valid/-177-6---fire_jpg.rf.46f5d732fe27e6d74d9aea3530c24746.jpg  \n",
            " extracting: valid/-178-27---fire_jpg.rf.f97b8dd84351a752b330d87cbfe117f0.jpg  \n",
            " extracting: valid/-178-28---fire_jpg.rf.eb6fed0e69feef87146b8e8fd130fc15.jpg  \n",
            " extracting: valid/-179-65---fire_jpg.rf.4f86e33f0f97173b33ebd195acc10682.jpg  \n",
            " extracting: valid/-179-69---fire_jpg.rf.2e671f6dfae8634e731e08e41a79d0ae.jpg  \n",
            " extracting: valid/-18-1---fire_jpg.rf.53fc80fd7e0271f91d2647490fa233d4.jpg  \n",
            " extracting: valid/-18-3---fire_jpg.rf.8a2432c6296d759ccc0dea52c2b645d3.jpg  \n",
            " extracting: valid/-18-53---fire_jpg.rf.7a257aecc31ba06eb85a8371aa3e9df9.jpg  \n",
            " extracting: valid/-18-55---fire_jpg.rf.86132eeb1675f8af034e06976f4573a3.jpg  \n",
            " extracting: valid/-18-56---fire_jpg.rf.6100a40930aafb124648db5f772ef23f.jpg  \n",
            " extracting: valid/-18-71---fire_jpg.rf.87b98bda11e66d89f941edd93457955a.jpg  \n",
            " extracting: valid/-18-72---fire_jpg.rf.fd867a350e7b7ccfdec013da6bfd9791.jpg  \n",
            " extracting: valid/-18-83---fire_jpg.rf.7ee1535d728dcab1faaa3bc99fe0633c.jpg  \n",
            " extracting: valid/-18-88---fire_jpg.rf.9473195eded13f9f600bc2eea83e5fcf.jpg  \n",
            " extracting: valid/-181-16---fire_jpg.rf.a60573d99f56a8dd1f4e6154b7eaf6e2.jpg  \n",
            " extracting: valid/-181-18---fire_jpg.rf.5970c68e4461e43390dcc169f06fca1e.jpg  \n",
            " extracting: valid/-181-21---fire_jpg.rf.451807f8d24dcb8cc086ef3b17a3b796.jpg  \n",
            " extracting: valid/-181-22---fire_jpg.rf.16666e8d75bca4e09e776c4d696a50cb.jpg  \n",
            " extracting: valid/-181-29---fire_jpg.rf.b8b940974d1cfa35bad4c42e7cfc163f.jpg  \n",
            " extracting: valid/-181-31---fire_jpg.rf.c80b712d02ffde64531740c4aa41f1ff.jpg  \n",
            " extracting: valid/-181-32---fire_jpg.rf.387a706c772e139057d1e997d22f6bc3.jpg  \n",
            " extracting: valid/-182-28---fire_jpg.rf.7974a839852893b635d10675da5eb014.jpg  \n",
            " extracting: valid/-182-40---fire_jpg.rf.7f4194378ef27e68fe6782f9c243f6dc.jpg  \n",
            " extracting: valid/-182-42---fire_jpg.rf.cdce828033766728d983a1ce3169ee3b.jpg  \n",
            " extracting: valid/-182-44---fire_jpg.rf.172ac0122a86bcfc5e2f11b20b48741e.jpg  \n",
            " extracting: valid/-182-54---fire_jpg.rf.b4b85aa3ebdbd2e6b30cd3ee3c3a367d.jpg  \n",
            " extracting: valid/-183-39---fire_jpg.rf.e27b57b90884577f3820bc000e06e3d6.jpg  \n",
            " extracting: valid/-183-44---fire_jpg.rf.d1deec39031571bcdb27b798e17a2eda.jpg  \n",
            " extracting: valid/-183-59---fire_jpg.rf.8031fdd6f834551a67733ac85cf0167f.jpg  \n",
            " extracting: valid/-183-62---fire_jpg.rf.d035258ebd5fb91add608c36e85555f7.jpg  \n",
            " extracting: valid/-184-20---fire_jpg.rf.439014bacdc9ae752e6588b1419b88fa.jpg  \n",
            " extracting: valid/-184-21---fire_jpg.rf.c8f0beddd39f4772d27fc0cd55faf3fc.jpg  \n",
            " extracting: valid/-184-23---fire_jpg.rf.105f7bf16ac679e8c0a7281aafca59a0.jpg  \n",
            " extracting: valid/-184-33---fire_jpg.rf.ff60b352dbfdf4599721ee663e990421.jpg  \n",
            " extracting: valid/-184-37---fire_jpg.rf.de76090456729024205f021f71088611.jpg  \n",
            " extracting: valid/-184-4---fire_jpg.rf.744402e954f2f0c5c2d022414356ba94.jpg  \n",
            " extracting: valid/-184-40---fire_jpg.rf.31b0d243f14f4fb6a0f43709f704d92c.jpg  \n",
            " extracting: valid/-184-43---fire_jpg.rf.3a96aeeb084faee6e9f60d12c3ece09a.jpg  \n",
            " extracting: valid/-184-5---fire_jpg.rf.57316517abc4e99f632503ae1d7c676a.jpg  \n",
            " extracting: valid/-184-62---fire_jpg.rf.eef10ee80bdf9c5a965820e9f5171ac8.jpg  \n",
            " extracting: valid/-186-77---fire_jpg.rf.32aa0536099c93b5aa479c9ae8a30ac6.jpg  \n",
            " extracting: valid/-2-19---fire_jpg.rf.237fbc1e56071e01286d3c4474daec76.jpg  \n",
            " extracting: valid/-2-22---fire_jpg.rf.cb2ff8356e415d5f4c220a32417d11bd.jpg  \n",
            " extracting: valid/-2-23---fire_jpg.rf.41cf8f3c0be296e9fa5106a6b0ba2136.jpg  \n",
            " extracting: valid/-2-26---fire_jpg.rf.0451e59fbeb35dc3740ca794d64acc01.jpg  \n",
            " extracting: valid/-2-29---fire_jpg.rf.4f1dd7a71505baa48d3907193de83eb6.jpg  \n",
            " extracting: valid/-2-30---fire_jpg.rf.084163698ee5e323dfd1687e888b35e3.jpg  \n",
            " extracting: valid/-2-32---fire_jpg.rf.4e135e2b3c22a98cd94193db8014cbb8.jpg  \n",
            " extracting: valid/-2-36---fire_jpg.rf.bec92452d847a825f0b50fe7cc8b9da8.jpg  \n",
            " extracting: valid/-2-37---fire_jpg.rf.3817d45656662637d8833ccd199b2d71.jpg  \n",
            " extracting: valid/-2-40---fire_jpg.rf.0e90a2cb84f39e5142f69e679cbda79a.jpg  \n",
            " extracting: valid/-2-41---fire_jpg.rf.43b4bf5caa1c1575378c16053f6c4726.jpg  \n",
            " extracting: valid/-2-43---fire_jpg.rf.832f7a321fe2524062a8ff336d4db308.jpg  \n",
            " extracting: valid/-2-45---fire_jpg.rf.d2a9bc147d109af1aea266b72530292d.jpg  \n",
            " extracting: valid/-2-91---fire_jpg.rf.53784d8d7513c0e4519310c1b49cf613.jpg  \n",
            " extracting: valid/-2-94---fire_jpg.rf.e9cad89e78d0bc9de0d306385fae84a0.jpg  \n",
            " extracting: valid/-23-45---fire_jpg.rf.b29c0b7d164650a447a89e7ae45d6f44.jpg  \n",
            " extracting: valid/-26-103---fire_jpg.rf.237c6710f414fa82932e6fa645d15c11.jpg  \n",
            " extracting: valid/-26-109---fire_jpg.rf.17ea4cd346ae0c10c0200f09518432ea.jpg  \n",
            " extracting: valid/-26-19---fire_jpg.rf.e6137444ea73e025d6662bcb0f953186.jpg  \n",
            " extracting: valid/-26-22---fire_jpg.rf.19d048e85198cb3f6067fd60aa4ab233.jpg  \n",
            " extracting: valid/-26-23---fire_jpg.rf.be5ac929dcf1ece655fe393e973ce8a3.jpg  \n",
            " extracting: valid/-26-31---fire_jpg.rf.60a6b4620a1be30b4b1fd8238b774557.jpg  \n",
            " extracting: valid/-26-46---fire_jpg.rf.2d24f9a5b7cf0a2d8be78d0a83b4f2ee.jpg  \n",
            " extracting: valid/-26-47---fire_jpg.rf.33d713e4b89c82d8c70dd9852f39b0a4.jpg  \n",
            " extracting: valid/-26-48---fire_jpg.rf.71846865423b77fed9d76822a0383316.jpg  \n",
            " extracting: valid/-26-83---fire_jpg.rf.dc8564833cfe13d6e077c8ca3ec62893.jpg  \n",
            " extracting: valid/-26-84---fire_jpg.rf.6819ffb22299a7b7b85d824bca9a3012.jpg  \n",
            " extracting: valid/-27-16---fire_jpg.rf.f56df8d69ad21545179d714baf540618.jpg  \n",
            " extracting: valid/-27-25---fire_jpg.rf.b4e955bb7f98059a355c5090da568c43.jpg  \n",
            " extracting: valid/-27-33---fire_jpg.rf.eb6e2adbe318570c917d1b5bcb1bf582.jpg  \n",
            " extracting: valid/-27-34---fire_jpg.rf.70c08bfb7384dde6eeb5f26c34376812.jpg  \n",
            " extracting: valid/-27-35---fire_jpg.rf.4ea91bbb440cde999d6e49b53a2309df.jpg  \n",
            " extracting: valid/-27-37---fire_jpg.rf.2497c6397bd38830a3fa3bbfd0ee8f9c.jpg  \n",
            " extracting: valid/-27-50---fire_jpg.rf.294be655903508c019cda7b44f186c6e.jpg  \n",
            " extracting: valid/-27-73---fire_jpg.rf.914e1d3d2ed0239c14f01daa780c87c8.jpg  \n",
            " extracting: valid/-27-74---fire_jpg.rf.a269c2be58a5c299cf62a564a642be13.jpg  \n",
            " extracting: valid/-27-80---fire_jpg.rf.c1845ac05e457f780933b87686af851e.jpg  \n",
            " extracting: valid/-27-83---fire_jpg.rf.084e705f6acc2f3870a568b5f198a7f9.jpg  \n",
            " extracting: valid/-27-85---fire_jpg.rf.f8d6d14c8ee6134d0ef10ecf3ab1434f.jpg  \n",
            " extracting: valid/-28-18---fire_jpg.rf.75d3c2d0b6d83259b68df462ecf159b7.jpg  \n",
            " extracting: valid/-28-21---fire_jpg.rf.851072f25151a71da1b96ed12a071610.jpg  \n",
            " extracting: valid/-28-23---fire_jpg.rf.428b80a1315e14ead255d3d4082fb0cc.jpg  \n",
            " extracting: valid/-28-24---fire_jpg.rf.05b756060057318f39eab59c027a519c.jpg  \n",
            " extracting: valid/-28-54---fire_jpg.rf.a21d333c49bc04db06192cc222dc374c.jpg  \n",
            " extracting: valid/-28-56---fire_jpg.rf.97d280077d284ad6e8f7b5ebe0790c0d.jpg  \n",
            " extracting: valid/-28-61---fire_jpg.rf.7888bc40b68562d46bd8fdc3bd9b6ea4.jpg  \n",
            " extracting: valid/-28-63---fire_jpg.rf.241fd49260051600192f94138eef2b80.jpg  \n",
            " extracting: valid/-29-102---fire_jpg.rf.12110c6babef238443fad1cbe7e4333d.jpg  \n",
            " extracting: valid/-29-103---fire_jpg.rf.69fb838dcd6a4335b85ca83b129d5777.jpg  \n",
            " extracting: valid/-29-47---fire_jpg.rf.faac2d59934981d0aadedb3c222388a3.jpg  \n",
            " extracting: valid/-29-51---fire_jpg.rf.7bf784c75535983509664248c020a1d6.jpg  \n",
            " extracting: valid/-3-12---fire_jpg.rf.ef12c0761fcbd74e7f5b986a28a37cc1.jpg  \n",
            " extracting: valid/-3-16---fire_jpg.rf.297e2abc54a4970ed4672a7b6750a15b.jpg  \n",
            " extracting: valid/-3-20---fire_jpg.rf.f692e53c2bba728b89b7a31c9af1b6f6.jpg  \n",
            " extracting: valid/-3-26---fire_jpg.rf.288b1f3882c6b11ff03d91f29206e65b.jpg  \n",
            " extracting: valid/-3-30---fire_jpg.rf.d88244761b0a11152684b86f2e790351.jpg  \n",
            " extracting: valid/-3-35---fire_jpg.rf.9a6a28a3d88d43c68b92ea6acf403364.jpg  \n",
            " extracting: valid/-3-42---fire_jpg.rf.bd79ab32793bf6b6d5389943e616785f.jpg  \n",
            " extracting: valid/-3-47---fire_jpg.rf.ba23faed56ff2ad9c01b7b0edf422ccc.jpg  \n",
            " extracting: valid/-3-56---fire_jpg.rf.9b22ac06a0ec8159dfc1a191d635c912.jpg  \n",
            " extracting: valid/-3-57---fire_jpg.rf.c238b1b6b91cde0d8517b195b7b827c5.jpg  \n",
            " extracting: valid/-3-60---fire_jpg.rf.6137c67fd0f0fc29b874ef6e05a22c3f.jpg  \n",
            " extracting: valid/-30-22---fire_jpg.rf.3b28ce120c1d71de43616772eb643937.jpg  \n",
            " extracting: valid/-31-14---fire_jpg.rf.95635df615e7c6ba4789c9abbfa27dee.jpg  \n",
            " extracting: valid/-31-16---fire_jpg.rf.90e1d793bbcff2b68e95dcdfc9e8ef25.jpg  \n",
            " extracting: valid/-31-21---fire_jpg.rf.d065c2807da640245b042af3faedddb9.jpg  \n",
            " extracting: valid/-31-22---fire_jpg.rf.e1819cc63dcfae835a977cd0a08d284c.jpg  \n",
            " extracting: valid/-32-52---fire_jpg.rf.ecd5d1125f2441b0948e00469e3c233f.jpg  \n",
            " extracting: valid/-32-54---fire_jpg.rf.036bbdc49dbc11f580a1cd3dc3b3fc1a.jpg  \n",
            " extracting: valid/-32-62---fire_jpg.rf.b9340bb4c86a58b0052e7c0a1aa1d75b.jpg  \n",
            " extracting: valid/-32-67---fire_jpg.rf.806394114dcf33938566d97c2e2f658a.jpg  \n",
            " extracting: valid/-32-71---fire_jpg.rf.4d4b093bd27d0f6e2102b63eb8de089c.jpg  \n",
            " extracting: valid/-33-20---fire_jpg.rf.99f60f6b7c5ca156d924ab86f4bce6b2.jpg  \n",
            " extracting: valid/-33-39---fire_jpg.rf.9ad8f1eb023c1657ed0ff399dba8d09d.jpg  \n",
            " extracting: valid/-33-51---fire_jpg.rf.547c340c30a1b88885f60b3efe3d49fc.jpg  \n",
            " extracting: valid/-33-53---fire_jpg.rf.372187e91db26751bd2753c2d938efbe.jpg  \n",
            " extracting: valid/-33-54---fire_jpg.rf.45acbfbb0c09b22fe2c6c006e2d26036.jpg  \n",
            " extracting: valid/-33-62---fire_jpg.rf.6131c098821ab35ce1272778c683010b.jpg  \n",
            " extracting: valid/-35-28---fire_jpg.rf.57769070b685c79bcc1805fddf24546d.jpg  \n",
            " extracting: valid/-35-29---fire_jpg.rf.180965a2fb821e9d4f342fd6db87e2af.jpg  \n",
            " extracting: valid/-35-30---fire_jpg.rf.190a947529f47fb780f6ae4689878995.jpg  \n",
            " extracting: valid/-36-12---fire_jpg.rf.185395007712f5081649ff99f3384dca.jpg  \n",
            " extracting: valid/-36-14---fire_jpg.rf.1d268bef875b88c8d80605d47c3cea9c.jpg  \n",
            " extracting: valid/-36-6---fire_jpg.rf.6babbdc8282788d0183be7641792f20a.jpg  \n",
            " extracting: valid/-36-9---fire_jpg.rf.e37b4fadb019d7a4e4f6d062497da4e8.jpg  \n",
            " extracting: valid/-38-39---fire_jpg.rf.fa35de2d605b0430c69739f105e865b2.jpg  \n",
            " extracting: valid/-38-42---fire_jpg.rf.e19d4d207cc71113238f9709756833e4.jpg  \n",
            " extracting: valid/-38-46---fire_jpg.rf.6212fc6a236d0c32302cd9a454b82626.jpg  \n",
            " extracting: valid/-38-81---fire_jpg.rf.d8eff4091a58d00aa2a389310a733734.jpg  \n",
            " extracting: valid/-38-83---fire_jpg.rf.62b52e0ef5738e83cbc3d2544c4ed570.jpg  \n",
            " extracting: valid/-38-84---fire_jpg.rf.e08f6ab4ac03d1cfe0c98f1159f696f9.jpg  \n",
            " extracting: valid/-39-28---fire_jpg.rf.a56d692e837329839c81365a9e053709.jpg  \n",
            " extracting: valid/-39-33---fire_jpg.rf.6bade3b5be74d2ea71a87bd6757a2c7f.jpg  \n",
            " extracting: valid/-39-36---fire_jpg.rf.ae0c7e96c2cee119d14929e3ae871444.jpg  \n",
            " extracting: valid/-39-38---fire_jpg.rf.e45abb7a4a88921a5d59797bf433be98.jpg  \n",
            " extracting: valid/-4-71---fire_jpg.rf.6f753e9da54b70092126bfcc4d6db863.jpg  \n",
            " extracting: valid/-4-79---fire_jpg.rf.6f7ff4c004959204e1ddf11b06a12f99.jpg  \n",
            " extracting: valid/-4-85---fire_jpg.rf.c81d8b14ee7b5dc5aca7a0da435f0b2d.jpg  \n",
            " extracting: valid/-4-86---fire_jpg.rf.d30ab7b8abca8b17791718232ef5cf88.jpg  \n",
            " extracting: valid/-43-5---fire_jpg.rf.59eac170189197ff20a6cc4b88b80ffb.jpg  \n",
            " extracting: valid/-43-6---fire_jpg.rf.ce43c1cf6aa311fb2517dcd589115efe.jpg  \n",
            " extracting: valid/-43-7---fire_jpg.rf.ecbd2017cc9c960abda7802285c4706e.jpg  \n",
            " extracting: valid/-46-28---fire_jpg.rf.103487351a9a56da4811fe7fc0abcf70.jpg  \n",
            " extracting: valid/-46-33---fire_jpg.rf.2024039b02253f4875c78f687ecc2270.jpg  \n",
            " extracting: valid/-49-52---fire_jpg.rf.11a9d33f958d5bef9900f3de30b9c069.jpg  \n",
            " extracting: valid/-49-54---fire_jpg.rf.9ad6be5380aa7f9567f126e7796be4fc.jpg  \n",
            " extracting: valid/-49-55---fire_jpg.rf.4ea4df0036a05517ce33e1c10c4722af.jpg  \n",
            " extracting: valid/-49-58---fire_jpg.rf.d9c03e8308c0325a7b8eb965e89b20cc.jpg  \n",
            " extracting: valid/-49-61---fire_jpg.rf.d1b3cf14e73c6b103c37fb1f3519276f.jpg  \n",
            " extracting: valid/-49-62---fire_jpg.rf.384accda40acf97b34bb2db220656fc4.jpg  \n",
            " extracting: valid/-49-72---fire_jpg.rf.3e3e5ba96c2b3f4bc2d879258de0b3cc.jpg  \n",
            " extracting: valid/-49-78---fire_jpg.rf.e67f1ffdd533552ccf3402c45da3f996.jpg  \n",
            " extracting: valid/-49-85---fire_jpg.rf.b0c0d6c24f175cb8f2a0cf263470ed00.jpg  \n",
            " extracting: valid/-49-86---fire_jpg.rf.654301ee30c93def7b6d438aadbd9c9a.jpg  \n",
            " extracting: valid/-49-87---fire_jpg.rf.89a8f096453d81bac488d3af3b49b457.jpg  \n",
            " extracting: valid/-5-30---fire_jpg.rf.05ec8e1d9d5069e614b88891bb95c7c9.jpg  \n",
            " extracting: valid/-50-16---fire_jpg.rf.a211af0c8e20cfa47a7351fe05e76114.jpg  \n",
            " extracting: valid/-50-22---fire_jpg.rf.8a3464765e779ae5e7e4f5a3f5d7d0c4.jpg  \n",
            " extracting: valid/-50-24---fire_jpg.rf.65e9f102c7e6970d8df39650d123a4e3.jpg  \n",
            " extracting: valid/-50-26---fire_jpg.rf.090c4b702667e140dda2d62450c08a92.jpg  \n",
            " extracting: valid/-50-40---fire_jpg.rf.abae4863638a8a8ec3ea5d2f1f1fe9b0.jpg  \n",
            " extracting: valid/-50-52---fire_jpg.rf.79d37f9eb4977899b9a9d3f80cf11e00.jpg  \n",
            " extracting: valid/-50-57---fire_jpg.rf.38034e0348e773e51492c5e941bf62c4.jpg  \n",
            " extracting: valid/-50-60---fire_jpg.rf.55877ac1b592948ef9f2d61a799268b7.jpg  \n",
            " extracting: valid/-50-62---fire_jpg.rf.9d66f176b757ae1665acea478fe70628.jpg  \n",
            " extracting: valid/-52-48---fire_jpg.rf.e3be2c553003506cfa42597f91247167.jpg  \n",
            " extracting: valid/-52-54---fire_jpg.rf.3bec156709f56c159968adddbc2a863e.jpg  \n",
            " extracting: valid/-52-56---fire_jpg.rf.48afe06046a1f180882b805c1d344cc8.jpg  \n",
            " extracting: valid/-53-26---fire_jpg.rf.6a287faffe9508815be7c8691512d18e.jpg  \n",
            " extracting: valid/-53-29---fire_jpg.rf.685cc2ba57de525ec9ac3bc0855423cd.jpg  \n",
            " extracting: valid/-54-52---fire_jpg.rf.ac7f00e819dd213a3b370af33fd8a85c.jpg  \n",
            " extracting: valid/-54-58---fire_jpg.rf.c8a295360216ef0383a4b0772a175e64.jpg  \n",
            " extracting: valid/-54-61---fire_jpg.rf.2687badca4341b3517f98029592deb04.jpg  \n",
            " extracting: valid/-54-62---fire_jpg.rf.98be77eec20674b8bbdc9a09894fbd08.jpg  \n",
            " extracting: valid/-8-39---fire_jpg.rf.f46abe5f5b88f9cf505ea4260c467c2d.jpg  \n",
            " extracting: valid/-8-40---fire_jpg.rf.484cfd84c483fc1a3c0afbdf096dfd68.jpg  \n",
            " extracting: valid/-8-46---fire_jpg.rf.11b1507282fb59857e11dce17a7fe61b.jpg  \n",
            " extracting: valid/-8-47---fire_jpg.rf.c362f113ef43581782f9b8a6fbd86c38.jpg  \n",
            " extracting: valid/-8-84---fire_jpg.rf.311bd6b4b6f6b78da955f1ece6427a33.jpg  \n",
            " extracting: valid/-8-85---fire_jpg.rf.6003a8f75bd608ee5c5387282b223e5b.jpg  \n",
            " extracting: valid/-9-13---fire_jpg.rf.3fe41b381337d7cc1266c5d5d3a365ec.jpg  \n",
            " extracting: valid/-9-15---fire_jpg.rf.78cc5ef14770fe03fcf4e1d063145208.jpg  \n",
            " extracting: valid/-9-18---fire_jpg.rf.3b58e04b84c93dbf4ed3c804be8757f8.jpg  \n",
            " extracting: valid/-9-19---fire_jpg.rf.99288ae0028135f50d486077a12a9517.jpg  \n",
            " extracting: valid/-9-20---fire_jpg.rf.ab7e3bba55c8f089de1408b8a68cd630.jpg  \n",
            " extracting: valid/-9-23---fire_jpg.rf.33c2081621dcd71c1f60f38a6cd62c69.jpg  \n",
            " extracting: valid/-9-25---fire_jpg.rf.241e24fc113a82b27141764d9382c718.jpg  \n",
            " extracting: valid/-9-30---fire_jpg.rf.bc06161a6fad84bf3716b5dd6aa89c83.jpg  \n",
            " extracting: valid/-9-32---fire_jpg.rf.13d76cb18135f95f64bf9ca39805ec41.jpg  \n",
            " extracting: valid/-9-35---fire_jpg.rf.4e0afd76106f5485f3ca195969e7e746.jpg  \n",
            " extracting: valid/-9-39---fire_jpg.rf.35c11af099ee67cefafd9d603d936aa1.jpg  \n",
            " extracting: valid/-9-42---fire_jpg.rf.d054c1027aa30ff44ac4967efcf15540.jpg  \n",
            " extracting: valid/-9-56---fire_jpg.rf.2fa216dfeabe0c19dcc12b77286e4431.jpg  \n",
            " extracting: valid/-9-63---fire_jpg.rf.6f569c29848929b51c07547cc553c800.jpg  \n",
            " extracting: valid/-9-84---fire_jpg.rf.6bb7c69c493475c573b9288ba36075b3.jpg  \n",
            " extracting: valid/-9-86---fire_jpg.rf.85a0ae8bbbc6cff346a5ee04b15dfc83.jpg  \n",
            " extracting: valid/-9-89---fire_jpg.rf.1457e3f9761352e1e8e3eb0167849471.jpg  \n",
            " extracting: valid/-92-36---fire_jpg.rf.c246fa6d80ed68df66ade0ad5cd5dba3.jpg  \n",
            " extracting: valid/-92-40---fire_jpg.rf.381c75f0151b30977f40e0f7ccfe74f5.jpg  \n",
            " extracting: valid/-92-42---fire_jpg.rf.0d07ca29eb3fffef642dcd9c6bb583d3.jpg  \n",
            " extracting: valid/-92-44---fire_jpg.rf.90a2404932a6c0f964d1444cdcb1157f.jpg  \n",
            " extracting: valid/-92-61---fire_jpg.rf.aadce6174474d2043b1bc59fdd621ff2.jpg  \n",
            " extracting: valid/-95-10---fire_jpg.rf.9591eaa150620bf4b8176d16f33e3c40.jpg  \n",
            " extracting: valid/-98-43---fire_jpg.rf.da03d3bb3f085ba2282b5bc065c6a1d4.jpg  \n",
            " extracting: valid/-99-13---fire_jpg.rf.dd9df1a8eb06c09b4690ca018fc559a4.jpg  \n",
            " extracting: valid/-99-23---fire_jpg.rf.7fcd39433a354fb9154e8dea3c46eb5b.jpg  \n",
            " extracting: valid/-99-30---fire_jpg.rf.f89b3ad4ba2661947a49edfd38a2552e.jpg  \n",
            " extracting: valid/-99-31---fire_jpg.rf.466216f5cbc2f1a1695071122c8238ca.jpg  \n",
            " extracting: valid/-99-37---fire_jpg.rf.6856c4cdbbc02068303463483d475f91.jpg  \n",
            " extracting: valid/-99-44---fire_jpg.rf.8037be7c6bca310b631c85ceb35e416f.jpg  \n",
            " extracting: valid/-99-48---fire_jpg.rf.c7756f67f67c1385570424430b96d2bf.jpg  \n",
            " extracting: valid/-99-51---fire_jpg.rf.e11bbe61de319961d488030c7a3f728f.jpg  \n",
            " extracting: valid/-99-52---fire_jpg.rf.4151739b44d197953a512336f954e6f2.jpg  \n",
            " extracting: valid/-99-59---fire_jpg.rf.650fb5079c342e87dbb54e3fa0c03fb5.jpg  \n",
            " extracting: valid/_annotations.coco.json  \n"
          ]
        }
      ],
      "source": [
        "# Augmentation이 적용된 데이터셋 다운로드\n",
        "!curl -L \"https://app.roboflow.com/ds/D6ipNcT3p5?key=dPqULorgrb\" > roboflow.zip; unzip roboflow.zip; rm roboflow.zip\n",
        "\n",
        "!mkdir Fire\n",
        "!mkdir Fire/annotations\n",
        "!mkdir Fire/Images\n",
        "%cp train/_annotations.coco.json Fire/annotations/instances_Images.json\n",
        "%cp train/*.jpg Fire/Images/"
      ]
    },
    {
      "cell_type": "markdown",
      "metadata": {
        "id": "kwv7AatyHX3l"
      },
      "source": [
        "# 2. 데이터셋 및 GPU 설정"
      ]
    },
    {
      "cell_type": "code",
      "execution_count": null,
      "metadata": {
        "colab": {
          "base_uri": "https://localhost:8080/"
        },
        "id": "xBOiKUTQs_3s",
        "outputId": "6af9b003-5259-4776-befe-631fb75ed866"
      },
      "outputs": [
        {
          "name": "stdout",
          "output_type": "stream",
          "text": [
            "GPU\n",
            "1\n",
            "loading annotations into memory...\n",
            "Done (t=0.04s)\n",
            "creating index...\n",
            "index created!\n"
          ]
        }
      ],
      "source": [
        "# 모델선언\n",
        "aics = Detector()\n",
        "\n",
        "root_dir = \"./\";\n",
        "coco_dir = \"Fire\";\n",
        "img_dir = \"./\";\n",
        "set_dir = \"Images\";\n",
        "\n",
        "# 데이터셋 정의\n",
        "aics.Train_Dataset(root_dir, coco_dir, img_dir, set_dir, batch_size=16, image_size=512, use_gpu=True)"
      ]
    },
    {
      "cell_type": "markdown",
      "metadata": {
        "id": "FA4XjR3oHgd6"
      },
      "source": [
        "# 3. 훈련"
      ]
    },
    {
      "cell_type": "code",
      "execution_count": null,
      "metadata": {
        "id": "hMVsyCKgqiOT"
      },
      "outputs": [],
      "source": [
        "def weight_reset(m):\n",
        "    reset_parameters = getattr(m, \"reset_parameters\", None)\n",
        "    if callable(reset_parameters):\n",
        "        m.reset_parameters()"
      ]
    },
    {
      "cell_type": "code",
      "execution_count": null,
      "metadata": {
        "colab": {
          "base_uri": "https://localhost:8080/",
          "height": 1000
        },
        "id": "B9mmp758tNlV",
        "outputId": "e151e9ce-39ac-4c44-ed22-e8591644f774"
      },
      "outputs": [
        {
          "name": "stderr",
          "output_type": "stream",
          "text": [
            "Downloading: \"https://github.com/lukemelas/EfficientNet-PyTorch/releases/download/1.0/efficientnet-b0-355c32eb.pth\" to /root/.cache/torch/hub/checkpoints/efficientnet-b0-355c32eb.pth\n"
          ]
        },
        {
          "data": {
            "text/html": [
              "<div style=\"display:flex;flex-direction:row;\"><span></span><progress style='margin:2px 4px;' max='21388428' value='21388428'></progress>100% 20.4M/20.4M [00:00&lt;00:00, 35.9MB/s]</div>"
            ],
            "text/plain": [
              "<tqdm._fake_ipywidgets.HBox object>"
            ]
          },
          "metadata": {},
          "output_type": "display_data"
        },
        {
          "name": "stdout",
          "output_type": "stream",
          "text": [
            "\n",
            "Loaded pretrained weights for efficientnet-b0\n"
          ]
        },
        {
          "data": {
            "text/plain": [
              "DataParallel(\n",
              "  (module): EfficientDet(\n",
              "    (conv3): Conv2d(40, 64, kernel_size=(1, 1), stride=(1, 1))\n",
              "    (conv4): Conv2d(80, 64, kernel_size=(1, 1), stride=(1, 1))\n",
              "    (conv5): Conv2d(192, 64, kernel_size=(1, 1), stride=(1, 1))\n",
              "    (conv6): Conv2d(192, 64, kernel_size=(3, 3), stride=(2, 2), padding=(1, 1))\n",
              "    (conv7): Sequential(\n",
              "      (0): ReLU()\n",
              "      (1): Conv2d(64, 64, kernel_size=(3, 3), stride=(2, 2), padding=(1, 1))\n",
              "    )\n",
              "    (bifpn): Sequential(\n",
              "      (0): BiFPN(\n",
              "        (conv6_up): ConvBlock(\n",
              "          (conv): Sequential(\n",
              "            (0): Conv2d(64, 64, kernel_size=(3, 3), stride=(1, 1), padding=(1, 1), groups=64)\n",
              "            (1): Conv2d(64, 64, kernel_size=(1, 1), stride=(1, 1))\n",
              "            (2): BatchNorm2d(64, eps=4e-05, momentum=0.9997, affine=True, track_running_stats=True)\n",
              "            (3): ReLU()\n",
              "          )\n",
              "        )\n",
              "        (conv5_up): ConvBlock(\n",
              "          (conv): Sequential(\n",
              "            (0): Conv2d(64, 64, kernel_size=(3, 3), stride=(1, 1), padding=(1, 1), groups=64)\n",
              "            (1): Conv2d(64, 64, kernel_size=(1, 1), stride=(1, 1))\n",
              "            (2): BatchNorm2d(64, eps=4e-05, momentum=0.9997, affine=True, track_running_stats=True)\n",
              "            (3): ReLU()\n",
              "          )\n",
              "        )\n",
              "        (conv4_up): ConvBlock(\n",
              "          (conv): Sequential(\n",
              "            (0): Conv2d(64, 64, kernel_size=(3, 3), stride=(1, 1), padding=(1, 1), groups=64)\n",
              "            (1): Conv2d(64, 64, kernel_size=(1, 1), stride=(1, 1))\n",
              "            (2): BatchNorm2d(64, eps=4e-05, momentum=0.9997, affine=True, track_running_stats=True)\n",
              "            (3): ReLU()\n",
              "          )\n",
              "        )\n",
              "        (conv3_up): ConvBlock(\n",
              "          (conv): Sequential(\n",
              "            (0): Conv2d(64, 64, kernel_size=(3, 3), stride=(1, 1), padding=(1, 1), groups=64)\n",
              "            (1): Conv2d(64, 64, kernel_size=(1, 1), stride=(1, 1))\n",
              "            (2): BatchNorm2d(64, eps=4e-05, momentum=0.9997, affine=True, track_running_stats=True)\n",
              "            (3): ReLU()\n",
              "          )\n",
              "        )\n",
              "        (conv4_down): ConvBlock(\n",
              "          (conv): Sequential(\n",
              "            (0): Conv2d(64, 64, kernel_size=(3, 3), stride=(1, 1), padding=(1, 1), groups=64)\n",
              "            (1): Conv2d(64, 64, kernel_size=(1, 1), stride=(1, 1))\n",
              "            (2): BatchNorm2d(64, eps=4e-05, momentum=0.9997, affine=True, track_running_stats=True)\n",
              "            (3): ReLU()\n",
              "          )\n",
              "        )\n",
              "        (conv5_down): ConvBlock(\n",
              "          (conv): Sequential(\n",
              "            (0): Conv2d(64, 64, kernel_size=(3, 3), stride=(1, 1), padding=(1, 1), groups=64)\n",
              "            (1): Conv2d(64, 64, kernel_size=(1, 1), stride=(1, 1))\n",
              "            (2): BatchNorm2d(64, eps=4e-05, momentum=0.9997, affine=True, track_running_stats=True)\n",
              "            (3): ReLU()\n",
              "          )\n",
              "        )\n",
              "        (conv6_down): ConvBlock(\n",
              "          (conv): Sequential(\n",
              "            (0): Conv2d(64, 64, kernel_size=(3, 3), stride=(1, 1), padding=(1, 1), groups=64)\n",
              "            (1): Conv2d(64, 64, kernel_size=(1, 1), stride=(1, 1))\n",
              "            (2): BatchNorm2d(64, eps=4e-05, momentum=0.9997, affine=True, track_running_stats=True)\n",
              "            (3): ReLU()\n",
              "          )\n",
              "        )\n",
              "        (conv7_down): ConvBlock(\n",
              "          (conv): Sequential(\n",
              "            (0): Conv2d(64, 64, kernel_size=(3, 3), stride=(1, 1), padding=(1, 1), groups=64)\n",
              "            (1): Conv2d(64, 64, kernel_size=(1, 1), stride=(1, 1))\n",
              "            (2): BatchNorm2d(64, eps=4e-05, momentum=0.9997, affine=True, track_running_stats=True)\n",
              "            (3): ReLU()\n",
              "          )\n",
              "        )\n",
              "        (p6_upsample): Upsample(scale_factor=2.0, mode=nearest)\n",
              "        (p5_upsample): Upsample(scale_factor=2.0, mode=nearest)\n",
              "        (p4_upsample): Upsample(scale_factor=2.0, mode=nearest)\n",
              "        (p3_upsample): Upsample(scale_factor=2.0, mode=nearest)\n",
              "        (p4_downsample): MaxPool2d(kernel_size=2, stride=2, padding=0, dilation=1, ceil_mode=False)\n",
              "        (p5_downsample): MaxPool2d(kernel_size=2, stride=2, padding=0, dilation=1, ceil_mode=False)\n",
              "        (p6_downsample): MaxPool2d(kernel_size=2, stride=2, padding=0, dilation=1, ceil_mode=False)\n",
              "        (p7_downsample): MaxPool2d(kernel_size=2, stride=2, padding=0, dilation=1, ceil_mode=False)\n",
              "        (p6_w1_relu): ReLU()\n",
              "        (p5_w1_relu): ReLU()\n",
              "        (p4_w1_relu): ReLU()\n",
              "        (p3_w1_relu): ReLU()\n",
              "        (p4_w2_relu): ReLU()\n",
              "        (p5_w2_relu): ReLU()\n",
              "        (p6_w2_relu): ReLU()\n",
              "        (p7_w2_relu): ReLU()\n",
              "      )\n",
              "      (1): BiFPN(\n",
              "        (conv6_up): ConvBlock(\n",
              "          (conv): Sequential(\n",
              "            (0): Conv2d(64, 64, kernel_size=(3, 3), stride=(1, 1), padding=(1, 1), groups=64)\n",
              "            (1): Conv2d(64, 64, kernel_size=(1, 1), stride=(1, 1))\n",
              "            (2): BatchNorm2d(64, eps=4e-05, momentum=0.9997, affine=True, track_running_stats=True)\n",
              "            (3): ReLU()\n",
              "          )\n",
              "        )\n",
              "        (conv5_up): ConvBlock(\n",
              "          (conv): Sequential(\n",
              "            (0): Conv2d(64, 64, kernel_size=(3, 3), stride=(1, 1), padding=(1, 1), groups=64)\n",
              "            (1): Conv2d(64, 64, kernel_size=(1, 1), stride=(1, 1))\n",
              "            (2): BatchNorm2d(64, eps=4e-05, momentum=0.9997, affine=True, track_running_stats=True)\n",
              "            (3): ReLU()\n",
              "          )\n",
              "        )\n",
              "        (conv4_up): ConvBlock(\n",
              "          (conv): Sequential(\n",
              "            (0): Conv2d(64, 64, kernel_size=(3, 3), stride=(1, 1), padding=(1, 1), groups=64)\n",
              "            (1): Conv2d(64, 64, kernel_size=(1, 1), stride=(1, 1))\n",
              "            (2): BatchNorm2d(64, eps=4e-05, momentum=0.9997, affine=True, track_running_stats=True)\n",
              "            (3): ReLU()\n",
              "          )\n",
              "        )\n",
              "        (conv3_up): ConvBlock(\n",
              "          (conv): Sequential(\n",
              "            (0): Conv2d(64, 64, kernel_size=(3, 3), stride=(1, 1), padding=(1, 1), groups=64)\n",
              "            (1): Conv2d(64, 64, kernel_size=(1, 1), stride=(1, 1))\n",
              "            (2): BatchNorm2d(64, eps=4e-05, momentum=0.9997, affine=True, track_running_stats=True)\n",
              "            (3): ReLU()\n",
              "          )\n",
              "        )\n",
              "        (conv4_down): ConvBlock(\n",
              "          (conv): Sequential(\n",
              "            (0): Conv2d(64, 64, kernel_size=(3, 3), stride=(1, 1), padding=(1, 1), groups=64)\n",
              "            (1): Conv2d(64, 64, kernel_size=(1, 1), stride=(1, 1))\n",
              "            (2): BatchNorm2d(64, eps=4e-05, momentum=0.9997, affine=True, track_running_stats=True)\n",
              "            (3): ReLU()\n",
              "          )\n",
              "        )\n",
              "        (conv5_down): ConvBlock(\n",
              "          (conv): Sequential(\n",
              "            (0): Conv2d(64, 64, kernel_size=(3, 3), stride=(1, 1), padding=(1, 1), groups=64)\n",
              "            (1): Conv2d(64, 64, kernel_size=(1, 1), stride=(1, 1))\n",
              "            (2): BatchNorm2d(64, eps=4e-05, momentum=0.9997, affine=True, track_running_stats=True)\n",
              "            (3): ReLU()\n",
              "          )\n",
              "        )\n",
              "        (conv6_down): ConvBlock(\n",
              "          (conv): Sequential(\n",
              "            (0): Conv2d(64, 64, kernel_size=(3, 3), stride=(1, 1), padding=(1, 1), groups=64)\n",
              "            (1): Conv2d(64, 64, kernel_size=(1, 1), stride=(1, 1))\n",
              "            (2): BatchNorm2d(64, eps=4e-05, momentum=0.9997, affine=True, track_running_stats=True)\n",
              "            (3): ReLU()\n",
              "          )\n",
              "        )\n",
              "        (conv7_down): ConvBlock(\n",
              "          (conv): Sequential(\n",
              "            (0): Conv2d(64, 64, kernel_size=(3, 3), stride=(1, 1), padding=(1, 1), groups=64)\n",
              "            (1): Conv2d(64, 64, kernel_size=(1, 1), stride=(1, 1))\n",
              "            (2): BatchNorm2d(64, eps=4e-05, momentum=0.9997, affine=True, track_running_stats=True)\n",
              "            (3): ReLU()\n",
              "          )\n",
              "        )\n",
              "        (p6_upsample): Upsample(scale_factor=2.0, mode=nearest)\n",
              "        (p5_upsample): Upsample(scale_factor=2.0, mode=nearest)\n",
              "        (p4_upsample): Upsample(scale_factor=2.0, mode=nearest)\n",
              "        (p3_upsample): Upsample(scale_factor=2.0, mode=nearest)\n",
              "        (p4_downsample): MaxPool2d(kernel_size=2, stride=2, padding=0, dilation=1, ceil_mode=False)\n",
              "        (p5_downsample): MaxPool2d(kernel_size=2, stride=2, padding=0, dilation=1, ceil_mode=False)\n",
              "        (p6_downsample): MaxPool2d(kernel_size=2, stride=2, padding=0, dilation=1, ceil_mode=False)\n",
              "        (p7_downsample): MaxPool2d(kernel_size=2, stride=2, padding=0, dilation=1, ceil_mode=False)\n",
              "        (p6_w1_relu): ReLU()\n",
              "        (p5_w1_relu): ReLU()\n",
              "        (p4_w1_relu): ReLU()\n",
              "        (p3_w1_relu): ReLU()\n",
              "        (p4_w2_relu): ReLU()\n",
              "        (p5_w2_relu): ReLU()\n",
              "        (p6_w2_relu): ReLU()\n",
              "        (p7_w2_relu): ReLU()\n",
              "      )\n",
              "    )\n",
              "    (regressor): Regressor(\n",
              "      (layers): Sequential(\n",
              "        (0): Conv2d(64, 64, kernel_size=(3, 3), stride=(1, 1), padding=(1, 1))\n",
              "        (1): ReLU(inplace=True)\n",
              "        (2): Conv2d(64, 64, kernel_size=(3, 3), stride=(1, 1), padding=(1, 1))\n",
              "        (3): ReLU(inplace=True)\n",
              "        (4): Conv2d(64, 64, kernel_size=(3, 3), stride=(1, 1), padding=(1, 1))\n",
              "        (5): ReLU(inplace=True)\n",
              "      )\n",
              "      (header): Conv2d(64, 36, kernel_size=(3, 3), stride=(1, 1), padding=(1, 1))\n",
              "    )\n",
              "    (classifier): Classifier(\n",
              "      (layers): Sequential(\n",
              "        (0): Conv2d(64, 64, kernel_size=(3, 3), stride=(1, 1), padding=(1, 1))\n",
              "        (1): ReLU(inplace=True)\n",
              "        (2): Conv2d(64, 64, kernel_size=(3, 3), stride=(1, 1), padding=(1, 1))\n",
              "        (3): ReLU(inplace=True)\n",
              "        (4): Conv2d(64, 64, kernel_size=(3, 3), stride=(1, 1), padding=(1, 1))\n",
              "        (5): ReLU(inplace=True)\n",
              "      )\n",
              "      (header): Conv2d(64, 27, kernel_size=(3, 3), stride=(1, 1), padding=(1, 1))\n",
              "      (act): Sigmoid()\n",
              "    )\n",
              "    (anchors): Anchors()\n",
              "    (regressBoxes): BBoxTransform()\n",
              "    (clipBoxes): ClipBoxes()\n",
              "    (focalLoss): FocalLoss()\n",
              "    (backbone_net): EfficientNet(\n",
              "      (model): EfficientNet(\n",
              "        (_conv_stem): Conv2dStaticSamePadding(\n",
              "          3, 32, kernel_size=(3, 3), stride=(2, 2), bias=False\n",
              "          (static_padding): ZeroPad2d(padding=(0, 1, 0, 1), value=0.0)\n",
              "        )\n",
              "        (_bn0): BatchNorm2d(32, eps=0.001, momentum=0.010000000000000009, affine=True, track_running_stats=True)\n",
              "        (_blocks): ModuleList(\n",
              "          (0): MBConvBlock(\n",
              "            (_depthwise_conv): Conv2dStaticSamePadding(\n",
              "              32, 32, kernel_size=(3, 3), stride=[1, 1], groups=32, bias=False\n",
              "              (static_padding): ZeroPad2d(padding=(1, 1, 1, 1), value=0.0)\n",
              "            )\n",
              "            (_bn1): BatchNorm2d(32, eps=0.001, momentum=0.010000000000000009, affine=True, track_running_stats=True)\n",
              "            (_se_reduce): Conv2dStaticSamePadding(\n",
              "              32, 8, kernel_size=(1, 1), stride=(1, 1)\n",
              "              (static_padding): Identity()\n",
              "            )\n",
              "            (_se_expand): Conv2dStaticSamePadding(\n",
              "              8, 32, kernel_size=(1, 1), stride=(1, 1)\n",
              "              (static_padding): Identity()\n",
              "            )\n",
              "            (_project_conv): Conv2dStaticSamePadding(\n",
              "              32, 16, kernel_size=(1, 1), stride=(1, 1), bias=False\n",
              "              (static_padding): Identity()\n",
              "            )\n",
              "            (_bn2): BatchNorm2d(16, eps=0.001, momentum=0.010000000000000009, affine=True, track_running_stats=True)\n",
              "            (_swish): MemoryEfficientSwish()\n",
              "          )\n",
              "          (1): MBConvBlock(\n",
              "            (_expand_conv): Conv2dStaticSamePadding(\n",
              "              16, 96, kernel_size=(1, 1), stride=(1, 1), bias=False\n",
              "              (static_padding): Identity()\n",
              "            )\n",
              "            (_bn0): BatchNorm2d(96, eps=0.001, momentum=0.010000000000000009, affine=True, track_running_stats=True)\n",
              "            (_depthwise_conv): Conv2dStaticSamePadding(\n",
              "              96, 96, kernel_size=(3, 3), stride=[2, 2], groups=96, bias=False\n",
              "              (static_padding): ZeroPad2d(padding=(0, 1, 0, 1), value=0.0)\n",
              "            )\n",
              "            (_bn1): BatchNorm2d(96, eps=0.001, momentum=0.010000000000000009, affine=True, track_running_stats=True)\n",
              "            (_se_reduce): Conv2dStaticSamePadding(\n",
              "              96, 4, kernel_size=(1, 1), stride=(1, 1)\n",
              "              (static_padding): Identity()\n",
              "            )\n",
              "            (_se_expand): Conv2dStaticSamePadding(\n",
              "              4, 96, kernel_size=(1, 1), stride=(1, 1)\n",
              "              (static_padding): Identity()\n",
              "            )\n",
              "            (_project_conv): Conv2dStaticSamePadding(\n",
              "              96, 24, kernel_size=(1, 1), stride=(1, 1), bias=False\n",
              "              (static_padding): Identity()\n",
              "            )\n",
              "            (_bn2): BatchNorm2d(24, eps=0.001, momentum=0.010000000000000009, affine=True, track_running_stats=True)\n",
              "            (_swish): MemoryEfficientSwish()\n",
              "          )\n",
              "          (2): MBConvBlock(\n",
              "            (_expand_conv): Conv2dStaticSamePadding(\n",
              "              24, 144, kernel_size=(1, 1), stride=(1, 1), bias=False\n",
              "              (static_padding): Identity()\n",
              "            )\n",
              "            (_bn0): BatchNorm2d(144, eps=0.001, momentum=0.010000000000000009, affine=True, track_running_stats=True)\n",
              "            (_depthwise_conv): Conv2dStaticSamePadding(\n",
              "              144, 144, kernel_size=(3, 3), stride=(1, 1), groups=144, bias=False\n",
              "              (static_padding): ZeroPad2d(padding=(1, 1, 1, 1), value=0.0)\n",
              "            )\n",
              "            (_bn1): BatchNorm2d(144, eps=0.001, momentum=0.010000000000000009, affine=True, track_running_stats=True)\n",
              "            (_se_reduce): Conv2dStaticSamePadding(\n",
              "              144, 6, kernel_size=(1, 1), stride=(1, 1)\n",
              "              (static_padding): Identity()\n",
              "            )\n",
              "            (_se_expand): Conv2dStaticSamePadding(\n",
              "              6, 144, kernel_size=(1, 1), stride=(1, 1)\n",
              "              (static_padding): Identity()\n",
              "            )\n",
              "            (_project_conv): Conv2dStaticSamePadding(\n",
              "              144, 24, kernel_size=(1, 1), stride=(1, 1), bias=False\n",
              "              (static_padding): Identity()\n",
              "            )\n",
              "            (_bn2): BatchNorm2d(24, eps=0.001, momentum=0.010000000000000009, affine=True, track_running_stats=True)\n",
              "            (_swish): MemoryEfficientSwish()\n",
              "          )\n",
              "          (3): MBConvBlock(\n",
              "            (_expand_conv): Conv2dStaticSamePadding(\n",
              "              24, 144, kernel_size=(1, 1), stride=(1, 1), bias=False\n",
              "              (static_padding): Identity()\n",
              "            )\n",
              "            (_bn0): BatchNorm2d(144, eps=0.001, momentum=0.010000000000000009, affine=True, track_running_stats=True)\n",
              "            (_depthwise_conv): Conv2dStaticSamePadding(\n",
              "              144, 144, kernel_size=(5, 5), stride=[2, 2], groups=144, bias=False\n",
              "              (static_padding): ZeroPad2d(padding=(1, 2, 1, 2), value=0.0)\n",
              "            )\n",
              "            (_bn1): BatchNorm2d(144, eps=0.001, momentum=0.010000000000000009, affine=True, track_running_stats=True)\n",
              "            (_se_reduce): Conv2dStaticSamePadding(\n",
              "              144, 6, kernel_size=(1, 1), stride=(1, 1)\n",
              "              (static_padding): Identity()\n",
              "            )\n",
              "            (_se_expand): Conv2dStaticSamePadding(\n",
              "              6, 144, kernel_size=(1, 1), stride=(1, 1)\n",
              "              (static_padding): Identity()\n",
              "            )\n",
              "            (_project_conv): Conv2dStaticSamePadding(\n",
              "              144, 40, kernel_size=(1, 1), stride=(1, 1), bias=False\n",
              "              (static_padding): Identity()\n",
              "            )\n",
              "            (_bn2): BatchNorm2d(40, eps=0.001, momentum=0.010000000000000009, affine=True, track_running_stats=True)\n",
              "            (_swish): MemoryEfficientSwish()\n",
              "          )\n",
              "          (4): MBConvBlock(\n",
              "            (_expand_conv): Conv2dStaticSamePadding(\n",
              "              40, 240, kernel_size=(1, 1), stride=(1, 1), bias=False\n",
              "              (static_padding): Identity()\n",
              "            )\n",
              "            (_bn0): BatchNorm2d(240, eps=0.001, momentum=0.010000000000000009, affine=True, track_running_stats=True)\n",
              "            (_depthwise_conv): Conv2dStaticSamePadding(\n",
              "              240, 240, kernel_size=(5, 5), stride=(1, 1), groups=240, bias=False\n",
              "              (static_padding): ZeroPad2d(padding=(2, 2, 2, 2), value=0.0)\n",
              "            )\n",
              "            (_bn1): BatchNorm2d(240, eps=0.001, momentum=0.010000000000000009, affine=True, track_running_stats=True)\n",
              "            (_se_reduce): Conv2dStaticSamePadding(\n",
              "              240, 10, kernel_size=(1, 1), stride=(1, 1)\n",
              "              (static_padding): Identity()\n",
              "            )\n",
              "            (_se_expand): Conv2dStaticSamePadding(\n",
              "              10, 240, kernel_size=(1, 1), stride=(1, 1)\n",
              "              (static_padding): Identity()\n",
              "            )\n",
              "            (_project_conv): Conv2dStaticSamePadding(\n",
              "              240, 40, kernel_size=(1, 1), stride=(1, 1), bias=False\n",
              "              (static_padding): Identity()\n",
              "            )\n",
              "            (_bn2): BatchNorm2d(40, eps=0.001, momentum=0.010000000000000009, affine=True, track_running_stats=True)\n",
              "            (_swish): MemoryEfficientSwish()\n",
              "          )\n",
              "          (5): MBConvBlock(\n",
              "            (_expand_conv): Conv2dStaticSamePadding(\n",
              "              40, 240, kernel_size=(1, 1), stride=(1, 1), bias=False\n",
              "              (static_padding): Identity()\n",
              "            )\n",
              "            (_bn0): BatchNorm2d(240, eps=0.001, momentum=0.010000000000000009, affine=True, track_running_stats=True)\n",
              "            (_depthwise_conv): Conv2dStaticSamePadding(\n",
              "              240, 240, kernel_size=(3, 3), stride=[2, 2], groups=240, bias=False\n",
              "              (static_padding): ZeroPad2d(padding=(0, 1, 0, 1), value=0.0)\n",
              "            )\n",
              "            (_bn1): BatchNorm2d(240, eps=0.001, momentum=0.010000000000000009, affine=True, track_running_stats=True)\n",
              "            (_se_reduce): Conv2dStaticSamePadding(\n",
              "              240, 10, kernel_size=(1, 1), stride=(1, 1)\n",
              "              (static_padding): Identity()\n",
              "            )\n",
              "            (_se_expand): Conv2dStaticSamePadding(\n",
              "              10, 240, kernel_size=(1, 1), stride=(1, 1)\n",
              "              (static_padding): Identity()\n",
              "            )\n",
              "            (_project_conv): Conv2dStaticSamePadding(\n",
              "              240, 80, kernel_size=(1, 1), stride=(1, 1), bias=False\n",
              "              (static_padding): Identity()\n",
              "            )\n",
              "            (_bn2): BatchNorm2d(80, eps=0.001, momentum=0.010000000000000009, affine=True, track_running_stats=True)\n",
              "            (_swish): MemoryEfficientSwish()\n",
              "          )\n",
              "          (6): MBConvBlock(\n",
              "            (_expand_conv): Conv2dStaticSamePadding(\n",
              "              80, 480, kernel_size=(1, 1), stride=(1, 1), bias=False\n",
              "              (static_padding): Identity()\n",
              "            )\n",
              "            (_bn0): BatchNorm2d(480, eps=0.001, momentum=0.010000000000000009, affine=True, track_running_stats=True)\n",
              "            (_depthwise_conv): Conv2dStaticSamePadding(\n",
              "              480, 480, kernel_size=(3, 3), stride=(1, 1), groups=480, bias=False\n",
              "              (static_padding): ZeroPad2d(padding=(1, 1, 1, 1), value=0.0)\n",
              "            )\n",
              "            (_bn1): BatchNorm2d(480, eps=0.001, momentum=0.010000000000000009, affine=True, track_running_stats=True)\n",
              "            (_se_reduce): Conv2dStaticSamePadding(\n",
              "              480, 20, kernel_size=(1, 1), stride=(1, 1)\n",
              "              (static_padding): Identity()\n",
              "            )\n",
              "            (_se_expand): Conv2dStaticSamePadding(\n",
              "              20, 480, kernel_size=(1, 1), stride=(1, 1)\n",
              "              (static_padding): Identity()\n",
              "            )\n",
              "            (_project_conv): Conv2dStaticSamePadding(\n",
              "              480, 80, kernel_size=(1, 1), stride=(1, 1), bias=False\n",
              "              (static_padding): Identity()\n",
              "            )\n",
              "            (_bn2): BatchNorm2d(80, eps=0.001, momentum=0.010000000000000009, affine=True, track_running_stats=True)\n",
              "            (_swish): MemoryEfficientSwish()\n",
              "          )\n",
              "          (7): MBConvBlock(\n",
              "            (_expand_conv): Conv2dStaticSamePadding(\n",
              "              80, 480, kernel_size=(1, 1), stride=(1, 1), bias=False\n",
              "              (static_padding): Identity()\n",
              "            )\n",
              "            (_bn0): BatchNorm2d(480, eps=0.001, momentum=0.010000000000000009, affine=True, track_running_stats=True)\n",
              "            (_depthwise_conv): Conv2dStaticSamePadding(\n",
              "              480, 480, kernel_size=(3, 3), stride=(1, 1), groups=480, bias=False\n",
              "              (static_padding): ZeroPad2d(padding=(1, 1, 1, 1), value=0.0)\n",
              "            )\n",
              "            (_bn1): BatchNorm2d(480, eps=0.001, momentum=0.010000000000000009, affine=True, track_running_stats=True)\n",
              "            (_se_reduce): Conv2dStaticSamePadding(\n",
              "              480, 20, kernel_size=(1, 1), stride=(1, 1)\n",
              "              (static_padding): Identity()\n",
              "            )\n",
              "            (_se_expand): Conv2dStaticSamePadding(\n",
              "              20, 480, kernel_size=(1, 1), stride=(1, 1)\n",
              "              (static_padding): Identity()\n",
              "            )\n",
              "            (_project_conv): Conv2dStaticSamePadding(\n",
              "              480, 80, kernel_size=(1, 1), stride=(1, 1), bias=False\n",
              "              (static_padding): Identity()\n",
              "            )\n",
              "            (_bn2): BatchNorm2d(80, eps=0.001, momentum=0.010000000000000009, affine=True, track_running_stats=True)\n",
              "            (_swish): MemoryEfficientSwish()\n",
              "          )\n",
              "          (8): MBConvBlock(\n",
              "            (_expand_conv): Conv2dStaticSamePadding(\n",
              "              80, 480, kernel_size=(1, 1), stride=(1, 1), bias=False\n",
              "              (static_padding): Identity()\n",
              "            )\n",
              "            (_bn0): BatchNorm2d(480, eps=0.001, momentum=0.010000000000000009, affine=True, track_running_stats=True)\n",
              "            (_depthwise_conv): Conv2dStaticSamePadding(\n",
              "              480, 480, kernel_size=(5, 5), stride=[1, 1], groups=480, bias=False\n",
              "              (static_padding): ZeroPad2d(padding=(2, 2, 2, 2), value=0.0)\n",
              "            )\n",
              "            (_bn1): BatchNorm2d(480, eps=0.001, momentum=0.010000000000000009, affine=True, track_running_stats=True)\n",
              "            (_se_reduce): Conv2dStaticSamePadding(\n",
              "              480, 20, kernel_size=(1, 1), stride=(1, 1)\n",
              "              (static_padding): Identity()\n",
              "            )\n",
              "            (_se_expand): Conv2dStaticSamePadding(\n",
              "              20, 480, kernel_size=(1, 1), stride=(1, 1)\n",
              "              (static_padding): Identity()\n",
              "            )\n",
              "            (_project_conv): Conv2dStaticSamePadding(\n",
              "              480, 112, kernel_size=(1, 1), stride=(1, 1), bias=False\n",
              "              (static_padding): Identity()\n",
              "            )\n",
              "            (_bn2): BatchNorm2d(112, eps=0.001, momentum=0.010000000000000009, affine=True, track_running_stats=True)\n",
              "            (_swish): MemoryEfficientSwish()\n",
              "          )\n",
              "          (9): MBConvBlock(\n",
              "            (_expand_conv): Conv2dStaticSamePadding(\n",
              "              112, 672, kernel_size=(1, 1), stride=(1, 1), bias=False\n",
              "              (static_padding): Identity()\n",
              "            )\n",
              "            (_bn0): BatchNorm2d(672, eps=0.001, momentum=0.010000000000000009, affine=True, track_running_stats=True)\n",
              "            (_depthwise_conv): Conv2dStaticSamePadding(\n",
              "              672, 672, kernel_size=(5, 5), stride=(1, 1), groups=672, bias=False\n",
              "              (static_padding): ZeroPad2d(padding=(2, 2, 2, 2), value=0.0)\n",
              "            )\n",
              "            (_bn1): BatchNorm2d(672, eps=0.001, momentum=0.010000000000000009, affine=True, track_running_stats=True)\n",
              "            (_se_reduce): Conv2dStaticSamePadding(\n",
              "              672, 28, kernel_size=(1, 1), stride=(1, 1)\n",
              "              (static_padding): Identity()\n",
              "            )\n",
              "            (_se_expand): Conv2dStaticSamePadding(\n",
              "              28, 672, kernel_size=(1, 1), stride=(1, 1)\n",
              "              (static_padding): Identity()\n",
              "            )\n",
              "            (_project_conv): Conv2dStaticSamePadding(\n",
              "              672, 112, kernel_size=(1, 1), stride=(1, 1), bias=False\n",
              "              (static_padding): Identity()\n",
              "            )\n",
              "            (_bn2): BatchNorm2d(112, eps=0.001, momentum=0.010000000000000009, affine=True, track_running_stats=True)\n",
              "            (_swish): MemoryEfficientSwish()\n",
              "          )\n",
              "          (10): MBConvBlock(\n",
              "            (_expand_conv): Conv2dStaticSamePadding(\n",
              "              112, 672, kernel_size=(1, 1), stride=(1, 1), bias=False\n",
              "              (static_padding): Identity()\n",
              "            )\n",
              "            (_bn0): BatchNorm2d(672, eps=0.001, momentum=0.010000000000000009, affine=True, track_running_stats=True)\n",
              "            (_depthwise_conv): Conv2dStaticSamePadding(\n",
              "              672, 672, kernel_size=(5, 5), stride=(1, 1), groups=672, bias=False\n",
              "              (static_padding): ZeroPad2d(padding=(2, 2, 2, 2), value=0.0)\n",
              "            )\n",
              "            (_bn1): BatchNorm2d(672, eps=0.001, momentum=0.010000000000000009, affine=True, track_running_stats=True)\n",
              "            (_se_reduce): Conv2dStaticSamePadding(\n",
              "              672, 28, kernel_size=(1, 1), stride=(1, 1)\n",
              "              (static_padding): Identity()\n",
              "            )\n",
              "            (_se_expand): Conv2dStaticSamePadding(\n",
              "              28, 672, kernel_size=(1, 1), stride=(1, 1)\n",
              "              (static_padding): Identity()\n",
              "            )\n",
              "            (_project_conv): Conv2dStaticSamePadding(\n",
              "              672, 112, kernel_size=(1, 1), stride=(1, 1), bias=False\n",
              "              (static_padding): Identity()\n",
              "            )\n",
              "            (_bn2): BatchNorm2d(112, eps=0.001, momentum=0.010000000000000009, affine=True, track_running_stats=True)\n",
              "            (_swish): MemoryEfficientSwish()\n",
              "          )\n",
              "          (11): MBConvBlock(\n",
              "            (_expand_conv): Conv2dStaticSamePadding(\n",
              "              112, 672, kernel_size=(1, 1), stride=(1, 1), bias=False\n",
              "              (static_padding): Identity()\n",
              "            )\n",
              "            (_bn0): BatchNorm2d(672, eps=0.001, momentum=0.010000000000000009, affine=True, track_running_stats=True)\n",
              "            (_depthwise_conv): Conv2dStaticSamePadding(\n",
              "              672, 672, kernel_size=(5, 5), stride=[2, 2], groups=672, bias=False\n",
              "              (static_padding): ZeroPad2d(padding=(1, 2, 1, 2), value=0.0)\n",
              "            )\n",
              "            (_bn1): BatchNorm2d(672, eps=0.001, momentum=0.010000000000000009, affine=True, track_running_stats=True)\n",
              "            (_se_reduce): Conv2dStaticSamePadding(\n",
              "              672, 28, kernel_size=(1, 1), stride=(1, 1)\n",
              "              (static_padding): Identity()\n",
              "            )\n",
              "            (_se_expand): Conv2dStaticSamePadding(\n",
              "              28, 672, kernel_size=(1, 1), stride=(1, 1)\n",
              "              (static_padding): Identity()\n",
              "            )\n",
              "            (_project_conv): Conv2dStaticSamePadding(\n",
              "              672, 192, kernel_size=(1, 1), stride=(1, 1), bias=False\n",
              "              (static_padding): Identity()\n",
              "            )\n",
              "            (_bn2): BatchNorm2d(192, eps=0.001, momentum=0.010000000000000009, affine=True, track_running_stats=True)\n",
              "            (_swish): MemoryEfficientSwish()\n",
              "          )\n",
              "          (12): MBConvBlock(\n",
              "            (_expand_conv): Conv2dStaticSamePadding(\n",
              "              192, 1152, kernel_size=(1, 1), stride=(1, 1), bias=False\n",
              "              (static_padding): Identity()\n",
              "            )\n",
              "            (_bn0): BatchNorm2d(1152, eps=0.001, momentum=0.010000000000000009, affine=True, track_running_stats=True)\n",
              "            (_depthwise_conv): Conv2dStaticSamePadding(\n",
              "              1152, 1152, kernel_size=(5, 5), stride=(1, 1), groups=1152, bias=False\n",
              "              (static_padding): ZeroPad2d(padding=(2, 2, 2, 2), value=0.0)\n",
              "            )\n",
              "            (_bn1): BatchNorm2d(1152, eps=0.001, momentum=0.010000000000000009, affine=True, track_running_stats=True)\n",
              "            (_se_reduce): Conv2dStaticSamePadding(\n",
              "              1152, 48, kernel_size=(1, 1), stride=(1, 1)\n",
              "              (static_padding): Identity()\n",
              "            )\n",
              "            (_se_expand): Conv2dStaticSamePadding(\n",
              "              48, 1152, kernel_size=(1, 1), stride=(1, 1)\n",
              "              (static_padding): Identity()\n",
              "            )\n",
              "            (_project_conv): Conv2dStaticSamePadding(\n",
              "              1152, 192, kernel_size=(1, 1), stride=(1, 1), bias=False\n",
              "              (static_padding): Identity()\n",
              "            )\n",
              "            (_bn2): BatchNorm2d(192, eps=0.001, momentum=0.010000000000000009, affine=True, track_running_stats=True)\n",
              "            (_swish): MemoryEfficientSwish()\n",
              "          )\n",
              "          (13): MBConvBlock(\n",
              "            (_expand_conv): Conv2dStaticSamePadding(\n",
              "              192, 1152, kernel_size=(1, 1), stride=(1, 1), bias=False\n",
              "              (static_padding): Identity()\n",
              "            )\n",
              "            (_bn0): BatchNorm2d(1152, eps=0.001, momentum=0.010000000000000009, affine=True, track_running_stats=True)\n",
              "            (_depthwise_conv): Conv2dStaticSamePadding(\n",
              "              1152, 1152, kernel_size=(5, 5), stride=(1, 1), groups=1152, bias=False\n",
              "              (static_padding): ZeroPad2d(padding=(2, 2, 2, 2), value=0.0)\n",
              "            )\n",
              "            (_bn1): BatchNorm2d(1152, eps=0.001, momentum=0.010000000000000009, affine=True, track_running_stats=True)\n",
              "            (_se_reduce): Conv2dStaticSamePadding(\n",
              "              1152, 48, kernel_size=(1, 1), stride=(1, 1)\n",
              "              (static_padding): Identity()\n",
              "            )\n",
              "            (_se_expand): Conv2dStaticSamePadding(\n",
              "              48, 1152, kernel_size=(1, 1), stride=(1, 1)\n",
              "              (static_padding): Identity()\n",
              "            )\n",
              "            (_project_conv): Conv2dStaticSamePadding(\n",
              "              1152, 192, kernel_size=(1, 1), stride=(1, 1), bias=False\n",
              "              (static_padding): Identity()\n",
              "            )\n",
              "            (_bn2): BatchNorm2d(192, eps=0.001, momentum=0.010000000000000009, affine=True, track_running_stats=True)\n",
              "            (_swish): MemoryEfficientSwish()\n",
              "          )\n",
              "          (14): MBConvBlock(\n",
              "            (_expand_conv): Conv2dStaticSamePadding(\n",
              "              192, 1152, kernel_size=(1, 1), stride=(1, 1), bias=False\n",
              "              (static_padding): Identity()\n",
              "            )\n",
              "            (_bn0): BatchNorm2d(1152, eps=0.001, momentum=0.010000000000000009, affine=True, track_running_stats=True)\n",
              "            (_depthwise_conv): Conv2dStaticSamePadding(\n",
              "              1152, 1152, kernel_size=(5, 5), stride=(1, 1), groups=1152, bias=False\n",
              "              (static_padding): ZeroPad2d(padding=(2, 2, 2, 2), value=0.0)\n",
              "            )\n",
              "            (_bn1): BatchNorm2d(1152, eps=0.001, momentum=0.010000000000000009, affine=True, track_running_stats=True)\n",
              "            (_se_reduce): Conv2dStaticSamePadding(\n",
              "              1152, 48, kernel_size=(1, 1), stride=(1, 1)\n",
              "              (static_padding): Identity()\n",
              "            )\n",
              "            (_se_expand): Conv2dStaticSamePadding(\n",
              "              48, 1152, kernel_size=(1, 1), stride=(1, 1)\n",
              "              (static_padding): Identity()\n",
              "            )\n",
              "            (_project_conv): Conv2dStaticSamePadding(\n",
              "              1152, 192, kernel_size=(1, 1), stride=(1, 1), bias=False\n",
              "              (static_padding): Identity()\n",
              "            )\n",
              "            (_bn2): BatchNorm2d(192, eps=0.001, momentum=0.010000000000000009, affine=True, track_running_stats=True)\n",
              "            (_swish): MemoryEfficientSwish()\n",
              "          )\n",
              "          (15): MBConvBlock(\n",
              "            (_expand_conv): Conv2dStaticSamePadding(\n",
              "              192, 1152, kernel_size=(1, 1), stride=(1, 1), bias=False\n",
              "              (static_padding): Identity()\n",
              "            )\n",
              "            (_bn0): BatchNorm2d(1152, eps=0.001, momentum=0.010000000000000009, affine=True, track_running_stats=True)\n",
              "            (_depthwise_conv): Conv2dStaticSamePadding(\n",
              "              1152, 1152, kernel_size=(3, 3), stride=[1, 1], groups=1152, bias=False\n",
              "              (static_padding): ZeroPad2d(padding=(1, 1, 1, 1), value=0.0)\n",
              "            )\n",
              "            (_bn1): BatchNorm2d(1152, eps=0.001, momentum=0.010000000000000009, affine=True, track_running_stats=True)\n",
              "            (_se_reduce): Conv2dStaticSamePadding(\n",
              "              1152, 48, kernel_size=(1, 1), stride=(1, 1)\n",
              "              (static_padding): Identity()\n",
              "            )\n",
              "            (_se_expand): Conv2dStaticSamePadding(\n",
              "              48, 1152, kernel_size=(1, 1), stride=(1, 1)\n",
              "              (static_padding): Identity()\n",
              "            )\n",
              "            (_project_conv): Conv2dStaticSamePadding(\n",
              "              1152, 320, kernel_size=(1, 1), stride=(1, 1), bias=False\n",
              "              (static_padding): Identity()\n",
              "            )\n",
              "            (_bn2): BatchNorm2d(320, eps=0.001, momentum=0.010000000000000009, affine=True, track_running_stats=True)\n",
              "            (_swish): MemoryEfficientSwish()\n",
              "          )\n",
              "        )\n",
              "        (_swish): MemoryEfficientSwish()\n",
              "      )\n",
              "    )\n",
              "  )\n",
              ")"
            ]
          },
          "execution_count": 5,
          "metadata": {},
          "output_type": "execute_result"
        }
      ],
      "source": [
        "#모델 불러오기(Efficinet-b0)\n",
        "aics.Model()\n",
        "\n",
        "#옵티마이저 셋팅, Optimizer는 Adam, learning rate는 0.01, 3 epochs 마다 loss drop이 없을경우 learning_rate는 lr * 0.1로 감소, Early Stop은 껐음\n",
        "aics.Set_Hyperparams(lr=0.0001, val_interval=10, es_min_delta=0.0, es_patience=0)\n",
        "aics.system_dict['local']['model'].apply(weight_reset)"
      ]
    },
    {
      "cell_type": "code",
      "execution_count": null,
      "metadata": {
        "colab": {
          "base_uri": "https://localhost:8080/"
        },
        "id": "zS5bbxij_5xO",
        "outputId": "2ac3fd50-d7a0-4b34-9aeb-c66c7f6882ca"
      },
      "outputs": [
        {
          "name": "stdout",
          "output_type": "stream",
          "text": [
            "2021-10-22 01:05:01 UTC\n"
          ]
        }
      ],
      "source": [
        "birthdate = datetime.datetime.now(datetime.timezone.utc)\n",
        "weight_save_path = birthdate.astimezone().strftime('%Y-%m-%d %H:%M:%S %Z')\n",
        "print(weight_save_path)"
      ]
    },
    {
      "cell_type": "code",
      "execution_count": null,
      "metadata": {
        "colab": {
          "background_save": true,
          "base_uri": "https://localhost:8080/",
          "height": 758
        },
        "id": "MFhXNyhPHoNw",
        "outputId": "156e05f9-e3eb-49ab-ebe3-b03e2cb93ee4"
      },
      "outputs": [
        {
          "data": {
            "text/html": [
              "<div style=\"display:flex;flex-direction:row;\"><span>Epoch: 1/500. Iteration: 374/374. Cls loss: 0.19244. Reg loss: 0.33473. Batch loss: 0.52716 Total loss: 50.84111</span><progress style='margin:2px 4px;description_width:initial;' max='374' value='374'></progress>100% 374/374 [09:05&lt;00:00,  1.45s/it]</div>"
            ],
            "text/plain": [
              "<tqdm._fake_ipywidgets.HBox object>"
            ]
          },
          "metadata": {},
          "output_type": "display_data"
        },
        {
          "name": "stderr",
          "output_type": "stream",
          "text": [
            "/usr/local/lib/python3.7/dist-packages/torch/nn/functional.py:718: UserWarning: Named tensors and all their associated APIs are an experimental feature and subject to change. Please do not use them for anything important until they are released as stable. (Triggered internally at  /pytorch/c10/core/TensorImpl.h:1156.)\n",
            "  return torch.max_pool2d(input, kernel_size, stride, padding, dilation, ceil_mode)\n"
          ]
        },
        {
          "name": "stdout",
          "output_type": "stream",
          "text": [
            "\n"
          ]
        },
        {
          "name": "stderr",
          "output_type": "stream",
          "text": [
            "/content/drive/MyDrive/Colab/AI_ChampionShip/EfficientDet/src/model.py:251: TracerWarning: Using len to get tensor shape might cause the trace to be incorrect. Recommended usage would be tensor.shape[0]. Passing a tensor of different shape might lead to errors or silently give incorrect results.\n",
            "  if len(inputs) == 2:\n",
            "/content/drive/MyDrive/Colab/AI_ChampionShip/EfficientDet/src/utils.py:84: TracerWarning: Converting a tensor to a Python integer might cause the trace to be incorrect. We can't record the data flow of Python values, so this value will be treated as a constant in the future. This means that the trace might not generalize to other inputs!\n",
            "  image_shape = np.array(image_shape)\n",
            "/content/drive/MyDrive/Colab/AI_ChampionShip/EfficientDet/src/utils.py:96: TracerWarning: torch.from_numpy results are registered as constants in the trace. You can safely ignore this warning if you use this function to create tensors out of constant variables that would be the same every time you call this function. In any other case, this might cause the trace to be incorrect.\n",
            "  anchors = torch.from_numpy(all_anchors.astype(np.float32))\n",
            "/content/drive/MyDrive/Colab/AI_ChampionShip/EfficientDet/src/model.py:282: TracerWarning: Converting a tensor to a Python boolean might cause the trace to be incorrect. We can't record the data flow of Python values, so this value will be treated as a constant in the future. This means that the trace might not generalize to other inputs!\n",
            "  if scores_over_thresh.sum() == 0:\n",
            "/usr/local/lib/python3.7/dist-packages/torch/onnx/symbolic_opset9.py:2720: UserWarning: Exporting aten::index operator with indices of type Byte. Only 1-D indices are supported. In any other case, this will produce an incorrect ONNX graph.\n",
            "  warnings.warn(\"Exporting aten::index operator with indices of type Byte. \"\n"
          ]
        },
        {
          "name": "stdout",
          "output_type": "stream",
          "text": [
            "faild onnx export\n"
          ]
        },
        {
          "name": "stderr",
          "output_type": "stream",
          "text": [
            "/usr/local/lib/python3.7/dist-packages/torch/onnx/symbolic_opset9.py:701: UserWarning: This model contains a squeeze operation on dimension 1 on an input with unknown shape. Note that if the size of dimension 1 of the input is not 1, the ONNX model will return an error. Opset version 11 supports squeezing on non-singleton dimensions, it is recommended to export this model using opset version 11 or higher.\n",
            "  \"version 11 or higher.\")\n"
          ]
        },
        {
          "data": {
            "text/html": [
              "<div style=\"display:flex;flex-direction:row;\"><span>Epoch: 2/500. Iteration: 374/374. Cls loss: 0.52549. Reg loss: 0.74086. Batch loss: 1.26635 Total loss: 0.86597</span><progress style='margin:2px 4px;description_width:initial;' max='374' value='374'></progress>100% 374/374 [08:52&lt;00:00,  1.43s/it]</div>"
            ],
            "text/plain": [
              "<tqdm._fake_ipywidgets.HBox object>"
            ]
          },
          "metadata": {},
          "output_type": "display_data"
        },
        {
          "name": "stdout",
          "output_type": "stream",
          "text": [
            "\n"
          ]
        },
        {
          "data": {
            "text/html": [
              "<div style=\"display:flex;flex-direction:row;\"><span>Epoch: 3/500. Iteration: 374/374. Cls loss: 0.36227. Reg loss: 0.43813. Batch loss: 0.80040 Total loss: 0.79961</span><progress style='margin:2px 4px;description_width:initial;' max='374' value='374'></progress>100% 374/374 [09:06&lt;00:00,  1.46s/it]</div>"
            ],
            "text/plain": [
              "<tqdm._fake_ipywidgets.HBox object>"
            ]
          },
          "metadata": {},
          "output_type": "display_data"
        },
        {
          "name": "stdout",
          "output_type": "stream",
          "text": [
            "\n"
          ]
        },
        {
          "data": {
            "text/html": [
              "<div style=\"display:flex;flex-direction:row;\"><span>Epoch: 4/500. Iteration: 374/374. Cls loss: 0.31295. Reg loss: 0.42051. Batch loss: 0.73346 Total loss: 0.74952</span><progress style='margin:2px 4px;description_width:initial;' max='374' value='374'></progress>100% 374/374 [09:06&lt;00:00,  1.46s/it]</div>"
            ],
            "text/plain": [
              "<tqdm._fake_ipywidgets.HBox object>"
            ]
          },
          "metadata": {},
          "output_type": "display_data"
        },
        {
          "name": "stdout",
          "output_type": "stream",
          "text": [
            "\n"
          ]
        },
        {
          "data": {
            "text/html": [
              "<div style=\"display:flex;flex-direction:row;\"><span>Epoch: 5/500. Iteration: 374/374. Cls loss: 0.26961. Reg loss: 0.46874. Batch loss: 0.73834 Total loss: 0.71588</span><progress style='margin:2px 4px;description_width:initial;' max='374' value='374'></progress>100% 374/374 [09:07&lt;00:00,  1.45s/it]</div>"
            ],
            "text/plain": [
              "<tqdm._fake_ipywidgets.HBox object>"
            ]
          },
          "metadata": {},
          "output_type": "display_data"
        },
        {
          "name": "stdout",
          "output_type": "stream",
          "text": [
            "\n"
          ]
        },
        {
          "data": {
            "text/html": [
              "<div style=\"display:flex;flex-direction:row;\"><span>Epoch: 6/500. Iteration: 374/374. Cls loss: 0.22201. Reg loss: 0.39525. Batch loss: 0.61725 Total loss: 0.69134</span><progress style='margin:2px 4px;description_width:initial;' max='374' value='374'></progress>100% 374/374 [09:06&lt;00:00,  1.45s/it]</div>"
            ],
            "text/plain": [
              "<tqdm._fake_ipywidgets.HBox object>"
            ]
          },
          "metadata": {},
          "output_type": "display_data"
        },
        {
          "name": "stdout",
          "output_type": "stream",
          "text": [
            "\n"
          ]
        },
        {
          "data": {
            "text/html": [
              "<div style=\"display:flex;flex-direction:row;\"><span>Epoch: 7/500. Iteration: 374/374. Cls loss: 0.25042. Reg loss: 0.43291. Batch loss: 0.68333 Total loss: 0.66955</span><progress style='margin:2px 4px;description_width:initial;' max='374' value='374'></progress>100% 374/374 [09:07&lt;00:00,  1.46s/it]</div>"
            ],
            "text/plain": [
              "<tqdm._fake_ipywidgets.HBox object>"
            ]
          },
          "metadata": {},
          "output_type": "display_data"
        },
        {
          "name": "stdout",
          "output_type": "stream",
          "text": [
            "\n"
          ]
        },
        {
          "data": {
            "text/html": [
              "<div style=\"display:flex;flex-direction:row;\"><span>Epoch: 8/500. Iteration: 374/374. Cls loss: 0.24403. Reg loss: 0.38408. Batch loss: 0.62812 Total loss: 0.64826</span><progress style='margin:2px 4px;description_width:initial;' max='374' value='374'></progress>100% 374/374 [09:07&lt;00:00,  1.46s/it]</div>"
            ],
            "text/plain": [
              "<tqdm._fake_ipywidgets.HBox object>"
            ]
          },
          "metadata": {},
          "output_type": "display_data"
        },
        {
          "name": "stdout",
          "output_type": "stream",
          "text": [
            "\n"
          ]
        },
        {
          "data": {
            "text/html": [
              "<div style=\"display:flex;flex-direction:row;\"><span>Epoch: 9/500. Iteration: 374/374. Cls loss: 0.26161. Reg loss: 0.46432. Batch loss: 0.72593 Total loss: 0.63490</span><progress style='margin:2px 4px;description_width:initial;' max='374' value='374'></progress>100% 374/374 [09:07&lt;00:00,  1.46s/it]</div>"
            ],
            "text/plain": [
              "<tqdm._fake_ipywidgets.HBox object>"
            ]
          },
          "metadata": {},
          "output_type": "display_data"
        },
        {
          "name": "stdout",
          "output_type": "stream",
          "text": [
            "\n"
          ]
        },
        {
          "data": {
            "text/html": [
              "<div style=\"display:flex;flex-direction:row;\"><span>Epoch: 10/500. Iteration: 374/374. Cls loss: 0.18787. Reg loss: 0.36714. Batch loss: 0.55501 Total loss: 0.61506</span><progress style='margin:2px 4px;description_width:initial;' max='374' value='374'></progress>100% 374/374 [09:07&lt;00:00,  1.46s/it]</div>"
            ],
            "text/plain": [
              "<tqdm._fake_ipywidgets.HBox object>"
            ]
          },
          "metadata": {},
          "output_type": "display_data"
        },
        {
          "name": "stdout",
          "output_type": "stream",
          "text": [
            "\n"
          ]
        },
        {
          "data": {
            "text/html": [
              "<div style=\"display:flex;flex-direction:row;\"><span>Epoch: 11/500. Iteration: 374/374. Cls loss: 0.18430. Reg loss: 0.32697. Batch loss: 0.51127 Total loss: 0.59632</span><progress style='margin:2px 4px;description_width:initial;' max='374' value='374'></progress>100% 374/374 [09:07&lt;00:00,  1.47s/it]</div>"
            ],
            "text/plain": [
              "<tqdm._fake_ipywidgets.HBox object>"
            ]
          },
          "metadata": {},
          "output_type": "display_data"
        },
        {
          "name": "stdout",
          "output_type": "stream",
          "text": [
            "\n"
          ]
        },
        {
          "data": {
            "text/html": [
              "<div style=\"display:flex;flex-direction:row;\"><span>Epoch: 12/500. Iteration: 374/374. Cls loss: 0.34389. Reg loss: 0.53044. Batch loss: 0.87433 Total loss: 0.57694</span><progress style='margin:2px 4px;description_width:initial;' max='374' value='374'></progress>100% 374/374 [09:07&lt;00:00,  1.46s/it]</div>"
            ],
            "text/plain": [
              "<tqdm._fake_ipywidgets.HBox object>"
            ]
          },
          "metadata": {},
          "output_type": "display_data"
        },
        {
          "name": "stdout",
          "output_type": "stream",
          "text": [
            "\n"
          ]
        },
        {
          "data": {
            "text/html": [
              "<div style=\"display:flex;flex-direction:row;\"><span>Epoch: 13/500. Iteration: 374/374. Cls loss: 0.25167. Reg loss: 0.51492. Batch loss: 0.76658 Total loss: 0.56401</span><progress style='margin:2px 4px;description_width:initial;' max='374' value='374'></progress>100% 374/374 [09:07&lt;00:00,  1.47s/it]</div>"
            ],
            "text/plain": [
              "<tqdm._fake_ipywidgets.HBox object>"
            ]
          },
          "metadata": {},
          "output_type": "display_data"
        },
        {
          "name": "stdout",
          "output_type": "stream",
          "text": [
            "\n"
          ]
        },
        {
          "data": {
            "text/html": [
              "<div style=\"display:flex;flex-direction:row;\"><span>Epoch: 14/500. Iteration: 374/374. Cls loss: 0.16998. Reg loss: 0.28510. Batch loss: 0.45508 Total loss: 0.54635</span><progress style='margin:2px 4px;description_width:initial;' max='374' value='374'></progress>100% 374/374 [09:07&lt;00:00,  1.47s/it]</div>"
            ],
            "text/plain": [
              "<tqdm._fake_ipywidgets.HBox object>"
            ]
          },
          "metadata": {},
          "output_type": "display_data"
        },
        {
          "name": "stdout",
          "output_type": "stream",
          "text": [
            "\n"
          ]
        },
        {
          "data": {
            "text/html": [
              "<div style=\"display:flex;flex-direction:row;\"><span>Epoch: 15/500. Iteration: 374/374. Cls loss: 0.17810. Reg loss: 0.27968. Batch loss: 0.45778 Total loss: 0.53407</span><progress style='margin:2px 4px;description_width:initial;' max='374' value='374'></progress>100% 374/374 [09:07&lt;00:00,  1.46s/it]</div>"
            ],
            "text/plain": [
              "<tqdm._fake_ipywidgets.HBox object>"
            ]
          },
          "metadata": {},
          "output_type": "display_data"
        },
        {
          "name": "stdout",
          "output_type": "stream",
          "text": [
            "\n"
          ]
        },
        {
          "data": {
            "text/html": [
              "<div style=\"display:flex;flex-direction:row;\"><span>Epoch: 16/500. Iteration: 374/374. Cls loss: 0.14217. Reg loss: 0.26274. Batch loss: 0.40491 Total loss: 0.51899</span><progress style='margin:2px 4px;description_width:initial;' max='374' value='374'></progress>100% 374/374 [09:08&lt;00:00,  1.46s/it]</div>"
            ],
            "text/plain": [
              "<tqdm._fake_ipywidgets.HBox object>"
            ]
          },
          "metadata": {},
          "output_type": "display_data"
        },
        {
          "name": "stdout",
          "output_type": "stream",
          "text": [
            "\n"
          ]
        },
        {
          "data": {
            "text/html": [
              "<div style=\"display:flex;flex-direction:row;\"><span>Epoch: 17/500. Iteration: 374/374. Cls loss: 0.23275. Reg loss: 0.40444. Batch loss: 0.63719 Total loss: 0.50546</span><progress style='margin:2px 4px;description_width:initial;' max='374' value='374'></progress>100% 374/374 [09:08&lt;00:00,  1.46s/it]</div>"
            ],
            "text/plain": [
              "<tqdm._fake_ipywidgets.HBox object>"
            ]
          },
          "metadata": {},
          "output_type": "display_data"
        },
        {
          "name": "stdout",
          "output_type": "stream",
          "text": [
            "\n"
          ]
        },
        {
          "data": {
            "text/html": [
              "<div style=\"display:flex;flex-direction:row;\"><span>Epoch: 18/500. Iteration: 374/374. Cls loss: 0.17556. Reg loss: 0.36015. Batch loss: 0.53571 Total loss: 0.49788</span><progress style='margin:2px 4px;description_width:initial;' max='374' value='374'></progress>100% 374/374 [09:07&lt;00:00,  1.46s/it]</div>"
            ],
            "text/plain": [
              "<tqdm._fake_ipywidgets.HBox object>"
            ]
          },
          "metadata": {},
          "output_type": "display_data"
        },
        {
          "name": "stdout",
          "output_type": "stream",
          "text": [
            "\n"
          ]
        },
        {
          "data": {
            "text/html": [
              "<div style=\"display:flex;flex-direction:row;\"><span>Epoch: 19/500. Iteration: 374/374. Cls loss: 0.17576. Reg loss: 0.35788. Batch loss: 0.53364 Total loss: 0.48434</span><progress style='margin:2px 4px;description_width:initial;' max='374' value='374'></progress>100% 374/374 [09:07&lt;00:00,  1.46s/it]</div>"
            ],
            "text/plain": [
              "<tqdm._fake_ipywidgets.HBox object>"
            ]
          },
          "metadata": {},
          "output_type": "display_data"
        },
        {
          "name": "stdout",
          "output_type": "stream",
          "text": [
            "\n"
          ]
        },
        {
          "data": {
            "text/html": [
              "<div style=\"display:flex;flex-direction:row;\"><span>Epoch: 20/500. Iteration: 374/374. Cls loss: 0.19829. Reg loss: 0.34874. Batch loss: 0.54703 Total loss: 0.47608</span><progress style='margin:2px 4px;description_width:initial;' max='374' value='374'></progress>100% 374/374 [09:07&lt;00:00,  1.46s/it]</div>"
            ],
            "text/plain": [
              "<tqdm._fake_ipywidgets.HBox object>"
            ]
          },
          "metadata": {},
          "output_type": "display_data"
        },
        {
          "name": "stdout",
          "output_type": "stream",
          "text": [
            "\n"
          ]
        },
        {
          "data": {
            "text/html": [
              "<div style=\"display:flex;flex-direction:row;\"><span>Epoch: 21/500. Iteration: 374/374. Cls loss: 0.19376. Reg loss: 0.39118. Batch loss: 0.58495 Total loss: 0.46204</span><progress style='margin:2px 4px;description_width:initial;' max='374' value='374'></progress>100% 374/374 [09:08&lt;00:00,  1.46s/it]</div>"
            ],
            "text/plain": [
              "<tqdm._fake_ipywidgets.HBox object>"
            ]
          },
          "metadata": {},
          "output_type": "display_data"
        },
        {
          "name": "stdout",
          "output_type": "stream",
          "text": [
            "\n"
          ]
        },
        {
          "data": {
            "text/html": [
              "<div style=\"display:flex;flex-direction:row;\"><span>Epoch: 22/500. Iteration: 374/374. Cls loss: 0.12831. Reg loss: 0.28678. Batch loss: 0.41509 Total loss: 0.45494</span><progress style='margin:2px 4px;description_width:initial;' max='374' value='374'></progress>100% 374/374 [09:08&lt;00:00,  1.47s/it]</div>"
            ],
            "text/plain": [
              "<tqdm._fake_ipywidgets.HBox object>"
            ]
          },
          "metadata": {},
          "output_type": "display_data"
        },
        {
          "name": "stdout",
          "output_type": "stream",
          "text": [
            "\n"
          ]
        },
        {
          "data": {
            "text/html": [
              "<div style=\"display:flex;flex-direction:row;\"><span>Epoch: 23/500. Iteration: 374/374. Cls loss: 0.22392. Reg loss: 0.37987. Batch loss: 0.60379 Total loss: 0.44714</span><progress style='margin:2px 4px;description_width:initial;' max='374' value='374'></progress>100% 374/374 [09:08&lt;00:00,  1.48s/it]</div>"
            ],
            "text/plain": [
              "<tqdm._fake_ipywidgets.HBox object>"
            ]
          },
          "metadata": {},
          "output_type": "display_data"
        },
        {
          "name": "stdout",
          "output_type": "stream",
          "text": [
            "\n"
          ]
        },
        {
          "data": {
            "text/html": [
              "<div style=\"display:flex;flex-direction:row;\"><span>Epoch: 24/500. Iteration: 374/374. Cls loss: 0.17115. Reg loss: 0.31149. Batch loss: 0.48265 Total loss: 0.43924</span><progress style='margin:2px 4px;description_width:initial;' max='374' value='374'></progress>100% 374/374 [09:09&lt;00:00,  1.47s/it]</div>"
            ],
            "text/plain": [
              "<tqdm._fake_ipywidgets.HBox object>"
            ]
          },
          "metadata": {},
          "output_type": "display_data"
        },
        {
          "name": "stdout",
          "output_type": "stream",
          "text": [
            "\n"
          ]
        },
        {
          "data": {
            "text/html": [
              "<div style=\"display:flex;flex-direction:row;\"><span>Epoch: 25/500. Iteration: 374/374. Cls loss: 0.16859. Reg loss: 0.30917. Batch loss: 0.47776 Total loss: 0.42610</span><progress style='margin:2px 4px;description_width:initial;' max='374' value='374'></progress>100% 374/374 [09:08&lt;00:00,  1.47s/it]</div>"
            ],
            "text/plain": [
              "<tqdm._fake_ipywidgets.HBox object>"
            ]
          },
          "metadata": {},
          "output_type": "display_data"
        },
        {
          "name": "stdout",
          "output_type": "stream",
          "text": [
            "\n"
          ]
        },
        {
          "data": {
            "text/html": [
              "<div style=\"display:flex;flex-direction:row;\"><span>Epoch: 26/500. Iteration: 374/374. Cls loss: 0.15906. Reg loss: 0.26798. Batch loss: 0.42704 Total loss: 0.41799</span><progress style='margin:2px 4px;description_width:initial;' max='374' value='374'></progress>100% 374/374 [09:09&lt;00:00,  1.46s/it]</div>"
            ],
            "text/plain": [
              "<tqdm._fake_ipywidgets.HBox object>"
            ]
          },
          "metadata": {},
          "output_type": "display_data"
        },
        {
          "name": "stdout",
          "output_type": "stream",
          "text": [
            "\n"
          ]
        },
        {
          "data": {
            "text/html": [
              "<div style=\"display:flex;flex-direction:row;\"><span>Epoch: 27/500. Iteration: 374/374. Cls loss: 0.16566. Reg loss: 0.32957. Batch loss: 0.49523 Total loss: 0.41107</span><progress style='margin:2px 4px;description_width:initial;' max='374' value='374'></progress>100% 374/374 [09:09&lt;00:00,  1.47s/it]</div>"
            ],
            "text/plain": [
              "<tqdm._fake_ipywidgets.HBox object>"
            ]
          },
          "metadata": {},
          "output_type": "display_data"
        },
        {
          "name": "stdout",
          "output_type": "stream",
          "text": [
            "\n"
          ]
        },
        {
          "data": {
            "text/html": [
              "<div style=\"display:flex;flex-direction:row;\"><span>Epoch: 28/500. Iteration: 374/374. Cls loss: 0.10554. Reg loss: 0.25295. Batch loss: 0.35849 Total loss: 0.40542</span><progress style='margin:2px 4px;description_width:initial;' max='374' value='374'></progress>100% 374/374 [09:08&lt;00:00,  1.46s/it]</div>"
            ],
            "text/plain": [
              "<tqdm._fake_ipywidgets.HBox object>"
            ]
          },
          "metadata": {},
          "output_type": "display_data"
        },
        {
          "name": "stdout",
          "output_type": "stream",
          "text": [
            "\n"
          ]
        },
        {
          "data": {
            "text/html": [
              "<div style=\"display:flex;flex-direction:row;\"><span>Epoch: 29/500. Iteration: 374/374. Cls loss: 0.19188. Reg loss: 0.31470. Batch loss: 0.50658 Total loss: 0.40285</span><progress style='margin:2px 4px;description_width:initial;' max='374' value='374'></progress>100% 374/374 [09:09&lt;00:00,  1.47s/it]</div>"
            ],
            "text/plain": [
              "<tqdm._fake_ipywidgets.HBox object>"
            ]
          },
          "metadata": {},
          "output_type": "display_data"
        },
        {
          "name": "stdout",
          "output_type": "stream",
          "text": [
            "\n"
          ]
        },
        {
          "data": {
            "text/html": [
              "<div style=\"display:flex;flex-direction:row;\"><span>Epoch: 30/500. Iteration: 374/374. Cls loss: 0.15699. Reg loss: 0.28502. Batch loss: 0.44200 Total loss: 0.39077</span><progress style='margin:2px 4px;description_width:initial;' max='374' value='374'></progress>100% 374/374 [09:09&lt;00:00,  1.46s/it]</div>"
            ],
            "text/plain": [
              "<tqdm._fake_ipywidgets.HBox object>"
            ]
          },
          "metadata": {},
          "output_type": "display_data"
        },
        {
          "name": "stdout",
          "output_type": "stream",
          "text": [
            "\n"
          ]
        },
        {
          "data": {
            "text/html": [
              "<div style=\"display:flex;flex-direction:row;\"><span>Epoch: 31/500. Iteration: 374/374. Cls loss: 0.14766. Reg loss: 0.29058. Batch loss: 0.43824 Total loss: 0.38092</span><progress style='margin:2px 4px;description_width:initial;' max='374' value='374'></progress>100% 374/374 [09:09&lt;00:00,  1.47s/it]</div>"
            ],
            "text/plain": [
              "<tqdm._fake_ipywidgets.HBox object>"
            ]
          },
          "metadata": {},
          "output_type": "display_data"
        },
        {
          "name": "stdout",
          "output_type": "stream",
          "text": [
            "\n"
          ]
        },
        {
          "data": {
            "text/html": [
              "<div style=\"display:flex;flex-direction:row;\"><span>Epoch: 32/500. Iteration: 374/374. Cls loss: 0.12189. Reg loss: 0.26750. Batch loss: 0.38939 Total loss: 0.37498</span><progress style='margin:2px 4px;description_width:initial;' max='374' value='374'></progress>100% 374/374 [09:08&lt;00:00,  1.46s/it]</div>"
            ],
            "text/plain": [
              "<tqdm._fake_ipywidgets.HBox object>"
            ]
          },
          "metadata": {},
          "output_type": "display_data"
        },
        {
          "name": "stdout",
          "output_type": "stream",
          "text": [
            "\n"
          ]
        },
        {
          "data": {
            "text/html": [
              "<div style=\"display:flex;flex-direction:row;\"><span>Epoch: 33/500. Iteration: 374/374. Cls loss: 0.12272. Reg loss: 0.29375. Batch loss: 0.41646 Total loss: 0.37003</span><progress style='margin:2px 4px;description_width:initial;' max='374' value='374'></progress>100% 374/374 [09:09&lt;00:00,  1.47s/it]</div>"
            ],
            "text/plain": [
              "<tqdm._fake_ipywidgets.HBox object>"
            ]
          },
          "metadata": {},
          "output_type": "display_data"
        },
        {
          "name": "stdout",
          "output_type": "stream",
          "text": [
            "\n"
          ]
        },
        {
          "data": {
            "text/html": [
              "<div style=\"display:flex;flex-direction:row;\"><span>Epoch: 34/500. Iteration: 374/374. Cls loss: 0.10295. Reg loss: 0.19979. Batch loss: 0.30274 Total loss: 0.35837</span><progress style='margin:2px 4px;description_width:initial;' max='374' value='374'></progress>100% 374/374 [09:08&lt;00:00,  1.47s/it]</div>"
            ],
            "text/plain": [
              "<tqdm._fake_ipywidgets.HBox object>"
            ]
          },
          "metadata": {},
          "output_type": "display_data"
        },
        {
          "name": "stdout",
          "output_type": "stream",
          "text": [
            "\n"
          ]
        },
        {
          "data": {
            "text/html": [
              "<div style=\"display:flex;flex-direction:row;\"><span>Epoch: 35/500. Iteration: 374/374. Cls loss: 0.14933. Reg loss: 0.32613. Batch loss: 0.47546 Total loss: 0.36051</span><progress style='margin:2px 4px;description_width:initial;' max='374' value='374'></progress>100% 374/374 [09:08&lt;00:00,  1.48s/it]</div>"
            ],
            "text/plain": [
              "<tqdm._fake_ipywidgets.HBox object>"
            ]
          },
          "metadata": {},
          "output_type": "display_data"
        },
        {
          "name": "stdout",
          "output_type": "stream",
          "text": [
            "\n"
          ]
        },
        {
          "data": {
            "text/html": [
              "<div style=\"display:flex;flex-direction:row;\"><span>Epoch: 36/500. Iteration: 374/374. Cls loss: 0.16172. Reg loss: 0.34253. Batch loss: 0.50424 Total loss: 0.35067</span><progress style='margin:2px 4px;description_width:initial;' max='374' value='374'></progress>100% 374/374 [09:08&lt;00:00,  1.46s/it]</div>"
            ],
            "text/plain": [
              "<tqdm._fake_ipywidgets.HBox object>"
            ]
          },
          "metadata": {},
          "output_type": "display_data"
        },
        {
          "name": "stdout",
          "output_type": "stream",
          "text": [
            "\n"
          ]
        },
        {
          "data": {
            "text/html": [
              "<div style=\"display:flex;flex-direction:row;\"><span>Epoch: 37/500. Iteration: 374/374. Cls loss: 0.10160. Reg loss: 0.23731. Batch loss: 0.33891 Total loss: 0.34839</span><progress style='margin:2px 4px;description_width:initial;' max='374' value='374'></progress>100% 374/374 [09:08&lt;00:00,  1.46s/it]</div>"
            ],
            "text/plain": [
              "<tqdm._fake_ipywidgets.HBox object>"
            ]
          },
          "metadata": {},
          "output_type": "display_data"
        },
        {
          "name": "stdout",
          "output_type": "stream",
          "text": [
            "\n"
          ]
        },
        {
          "data": {
            "text/html": [
              "<div style=\"display:flex;flex-direction:row;\"><span>Epoch: 38/500. Iteration: 374/374. Cls loss: 0.10722. Reg loss: 0.18564. Batch loss: 0.29286 Total loss: 0.34227</span><progress style='margin:2px 4px;description_width:initial;' max='374' value='374'></progress>100% 374/374 [09:08&lt;00:00,  1.46s/it]</div>"
            ],
            "text/plain": [
              "<tqdm._fake_ipywidgets.HBox object>"
            ]
          },
          "metadata": {},
          "output_type": "display_data"
        },
        {
          "name": "stdout",
          "output_type": "stream",
          "text": [
            "\n"
          ]
        },
        {
          "data": {
            "text/html": [
              "<div style=\"display:flex;flex-direction:row;\"><span>Epoch: 39/500. Iteration: 374/374. Cls loss: 0.11635. Reg loss: 0.26716. Batch loss: 0.38351 Total loss: 0.33766</span><progress style='margin:2px 4px;description_width:initial;' max='374' value='374'></progress>100% 374/374 [09:08&lt;00:00,  1.47s/it]</div>"
            ],
            "text/plain": [
              "<tqdm._fake_ipywidgets.HBox object>"
            ]
          },
          "metadata": {},
          "output_type": "display_data"
        },
        {
          "name": "stdout",
          "output_type": "stream",
          "text": [
            "\n"
          ]
        },
        {
          "data": {
            "text/html": [
              "<div style=\"display:flex;flex-direction:row;\"><span>Epoch: 40/500. Iteration: 374/374. Cls loss: 0.07404. Reg loss: 0.17882. Batch loss: 0.25286 Total loss: 0.32990</span><progress style='margin:2px 4px;description_width:initial;' max='374' value='374'></progress>100% 374/374 [09:08&lt;00:00,  1.47s/it]</div>"
            ],
            "text/plain": [
              "<tqdm._fake_ipywidgets.HBox object>"
            ]
          },
          "metadata": {},
          "output_type": "display_data"
        },
        {
          "name": "stdout",
          "output_type": "stream",
          "text": [
            "\n"
          ]
        },
        {
          "data": {
            "text/html": [
              "<div style=\"display:flex;flex-direction:row;\"><span>Epoch: 41/500. Iteration: 374/374. Cls loss: 0.09437. Reg loss: 0.19960. Batch loss: 0.29397 Total loss: 0.32622</span><progress style='margin:2px 4px;description_width:initial;' max='374' value='374'></progress>100% 374/374 [09:08&lt;00:00,  1.46s/it]</div>"
            ],
            "text/plain": [
              "<tqdm._fake_ipywidgets.HBox object>"
            ]
          },
          "metadata": {},
          "output_type": "display_data"
        },
        {
          "name": "stdout",
          "output_type": "stream",
          "text": [
            "\n"
          ]
        },
        {
          "data": {
            "text/html": [
              "<div style=\"display:flex;flex-direction:row;\"><span>Epoch: 42/500. Iteration: 374/374. Cls loss: 0.09137. Reg loss: 0.21221. Batch loss: 0.30357 Total loss: 0.32217</span><progress style='margin:2px 4px;description_width:initial;' max='374' value='374'></progress>100% 374/374 [09:08&lt;00:00,  1.46s/it]</div>"
            ],
            "text/plain": [
              "<tqdm._fake_ipywidgets.HBox object>"
            ]
          },
          "metadata": {},
          "output_type": "display_data"
        },
        {
          "name": "stdout",
          "output_type": "stream",
          "text": [
            "\n"
          ]
        },
        {
          "data": {
            "text/html": [
              "<div style=\"display:flex;flex-direction:row;\"><span>Epoch: 43/500. Iteration: 374/374. Cls loss: 0.16902. Reg loss: 0.27656. Batch loss: 0.44557 Total loss: 0.31403</span><progress style='margin:2px 4px;description_width:initial;' max='374' value='374'></progress>100% 374/374 [09:08&lt;00:00,  1.47s/it]</div>"
            ],
            "text/plain": [
              "<tqdm._fake_ipywidgets.HBox object>"
            ]
          },
          "metadata": {},
          "output_type": "display_data"
        },
        {
          "name": "stdout",
          "output_type": "stream",
          "text": [
            "\n"
          ]
        },
        {
          "data": {
            "text/html": [
              "<div style=\"display:flex;flex-direction:row;\"><span>Epoch: 44/500. Iteration: 374/374. Cls loss: 0.08778. Reg loss: 0.25091. Batch loss: 0.33870 Total loss: 0.31296</span><progress style='margin:2px 4px;description_width:initial;' max='374' value='374'></progress>100% 374/374 [09:08&lt;00:00,  1.46s/it]</div>"
            ],
            "text/plain": [
              "<tqdm._fake_ipywidgets.HBox object>"
            ]
          },
          "metadata": {},
          "output_type": "display_data"
        },
        {
          "name": "stdout",
          "output_type": "stream",
          "text": [
            "\n"
          ]
        },
        {
          "data": {
            "text/html": [
              "<div style=\"display:flex;flex-direction:row;\"><span>Epoch: 45/500. Iteration: 374/374. Cls loss: 0.10140. Reg loss: 0.17937. Batch loss: 0.28078 Total loss: 0.30667</span><progress style='margin:2px 4px;description_width:initial;' max='374' value='374'></progress>100% 374/374 [09:08&lt;00:00,  1.46s/it]</div>"
            ],
            "text/plain": [
              "<tqdm._fake_ipywidgets.HBox object>"
            ]
          },
          "metadata": {},
          "output_type": "display_data"
        },
        {
          "name": "stdout",
          "output_type": "stream",
          "text": [
            "\n"
          ]
        },
        {
          "data": {
            "text/html": [
              "<div style=\"display:flex;flex-direction:row;\"><span>Epoch: 46/500. Iteration: 374/374. Cls loss: 0.52584. Reg loss: 0.19086. Batch loss: 0.71670 Total loss: 0.30395</span><progress style='margin:2px 4px;description_width:initial;' max='374' value='374'></progress>100% 374/374 [09:08&lt;00:00,  1.47s/it]</div>"
            ],
            "text/plain": [
              "<tqdm._fake_ipywidgets.HBox object>"
            ]
          },
          "metadata": {},
          "output_type": "display_data"
        },
        {
          "name": "stdout",
          "output_type": "stream",
          "text": [
            "\n"
          ]
        },
        {
          "data": {
            "text/html": [
              "<div style=\"display:flex;flex-direction:row;\"><span>Epoch: 47/500. Iteration: 374/374. Cls loss: 0.13750. Reg loss: 0.29229. Batch loss: 0.42979 Total loss: 0.29846</span><progress style='margin:2px 4px;description_width:initial;' max='374' value='374'></progress>100% 374/374 [09:08&lt;00:00,  1.46s/it]</div>"
            ],
            "text/plain": [
              "<tqdm._fake_ipywidgets.HBox object>"
            ]
          },
          "metadata": {},
          "output_type": "display_data"
        },
        {
          "name": "stdout",
          "output_type": "stream",
          "text": [
            "\n"
          ]
        },
        {
          "data": {
            "text/html": [
              "<div style=\"display:flex;flex-direction:row;\"><span>Epoch: 48/500. Iteration: 374/374. Cls loss: 0.05466. Reg loss: 0.14769. Batch loss: 0.20235 Total loss: 0.29736</span><progress style='margin:2px 4px;description_width:initial;' max='374' value='374'></progress>100% 374/374 [09:08&lt;00:00,  1.47s/it]</div>"
            ],
            "text/plain": [
              "<tqdm._fake_ipywidgets.HBox object>"
            ]
          },
          "metadata": {},
          "output_type": "display_data"
        },
        {
          "name": "stdout",
          "output_type": "stream",
          "text": [
            "\n"
          ]
        },
        {
          "data": {
            "text/html": [
              "<div style=\"display:flex;flex-direction:row;\"><span>Epoch: 49/500. Iteration: 374/374. Cls loss: 0.04980. Reg loss: 0.11923. Batch loss: 0.16903 Total loss: 0.28945</span><progress style='margin:2px 4px;description_width:initial;' max='374' value='374'></progress>100% 374/374 [09:08&lt;00:00,  1.47s/it]</div>"
            ],
            "text/plain": [
              "<tqdm._fake_ipywidgets.HBox object>"
            ]
          },
          "metadata": {},
          "output_type": "display_data"
        },
        {
          "name": "stdout",
          "output_type": "stream",
          "text": [
            "\n"
          ]
        },
        {
          "data": {
            "text/html": [
              "<div style=\"display:flex;flex-direction:row;\"><span>Epoch: 50/500. Iteration: 374/374. Cls loss: 0.06952. Reg loss: 0.14354. Batch loss: 0.21307 Total loss: 0.28623</span><progress style='margin:2px 4px;description_width:initial;' max='374' value='374'></progress>100% 374/374 [09:09&lt;00:00,  1.47s/it]</div>"
            ],
            "text/plain": [
              "<tqdm._fake_ipywidgets.HBox object>"
            ]
          },
          "metadata": {},
          "output_type": "display_data"
        },
        {
          "name": "stdout",
          "output_type": "stream",
          "text": [
            "\n"
          ]
        },
        {
          "data": {
            "text/html": [
              "<div style=\"display:flex;flex-direction:row;\"><span>Epoch: 51/500. Iteration: 374/374. Cls loss: 0.08270. Reg loss: 0.19909. Batch loss: 0.28179 Total loss: 0.28296</span><progress style='margin:2px 4px;description_width:initial;' max='374' value='374'></progress>100% 374/374 [09:08&lt;00:00,  1.46s/it]</div>"
            ],
            "text/plain": [
              "<tqdm._fake_ipywidgets.HBox object>"
            ]
          },
          "metadata": {},
          "output_type": "display_data"
        },
        {
          "name": "stdout",
          "output_type": "stream",
          "text": [
            "\n"
          ]
        },
        {
          "data": {
            "text/html": [
              "<div style=\"display:flex;flex-direction:row;\"><span>Epoch: 52/500. Iteration: 374/374. Cls loss: 0.13270. Reg loss: 0.20485. Batch loss: 0.33755 Total loss: 0.28275</span><progress style='margin:2px 4px;description_width:initial;' max='374' value='374'></progress>100% 374/374 [09:08&lt;00:00,  1.47s/it]</div>"
            ],
            "text/plain": [
              "<tqdm._fake_ipywidgets.HBox object>"
            ]
          },
          "metadata": {},
          "output_type": "display_data"
        },
        {
          "name": "stdout",
          "output_type": "stream",
          "text": [
            "\n"
          ]
        },
        {
          "data": {
            "text/html": [
              "<div style=\"display:flex;flex-direction:row;\"><span>Epoch: 53/500. Iteration: 374/374. Cls loss: 0.10106. Reg loss: 0.28750. Batch loss: 0.38856 Total loss: 0.27469</span><progress style='margin:2px 4px;description_width:initial;' max='374' value='374'></progress>100% 374/374 [09:08&lt;00:00,  1.47s/it]</div>"
            ],
            "text/plain": [
              "<tqdm._fake_ipywidgets.HBox object>"
            ]
          },
          "metadata": {},
          "output_type": "display_data"
        },
        {
          "name": "stdout",
          "output_type": "stream",
          "text": [
            "\n"
          ]
        },
        {
          "data": {
            "text/html": [
              "<div style=\"display:flex;flex-direction:row;\"><span>Epoch: 54/500. Iteration: 374/374. Cls loss: 0.12008. Reg loss: 0.17986. Batch loss: 0.29994 Total loss: 0.27463</span><progress style='margin:2px 4px;description_width:initial;' max='374' value='374'></progress>100% 374/374 [09:08&lt;00:00,  1.46s/it]</div>"
            ],
            "text/plain": [
              "<tqdm._fake_ipywidgets.HBox object>"
            ]
          },
          "metadata": {},
          "output_type": "display_data"
        },
        {
          "name": "stdout",
          "output_type": "stream",
          "text": [
            "\n"
          ]
        },
        {
          "data": {
            "text/html": [
              "<div style=\"display:flex;flex-direction:row;\"><span>Epoch: 55/500. Iteration: 374/374. Cls loss: 0.08047. Reg loss: 0.20265. Batch loss: 0.28312 Total loss: 0.27050</span><progress style='margin:2px 4px;description_width:initial;' max='374' value='374'></progress>100% 374/374 [09:08&lt;00:00,  1.47s/it]</div>"
            ],
            "text/plain": [
              "<tqdm._fake_ipywidgets.HBox object>"
            ]
          },
          "metadata": {},
          "output_type": "display_data"
        },
        {
          "name": "stdout",
          "output_type": "stream",
          "text": [
            "\n"
          ]
        },
        {
          "data": {
            "text/html": [
              "<div style=\"display:flex;flex-direction:row;\"><span>Epoch: 56/500. Iteration: 374/374. Cls loss: 0.02985. Reg loss: 0.13251. Batch loss: 0.16235 Total loss: 0.26390</span><progress style='margin:2px 4px;description_width:initial;' max='374' value='374'></progress>100% 374/374 [09:08&lt;00:00,  1.46s/it]</div>"
            ],
            "text/plain": [
              "<tqdm._fake_ipywidgets.HBox object>"
            ]
          },
          "metadata": {},
          "output_type": "display_data"
        },
        {
          "name": "stdout",
          "output_type": "stream",
          "text": [
            "\n"
          ]
        },
        {
          "data": {
            "text/html": [
              "<div style=\"display:flex;flex-direction:row;\"><span>Epoch: 57/500. Iteration: 374/374. Cls loss: 0.07059. Reg loss: 0.15611. Batch loss: 0.22670 Total loss: 0.26264</span><progress style='margin:2px 4px;description_width:initial;' max='374' value='374'></progress>100% 374/374 [09:08&lt;00:00,  1.46s/it]</div>"
            ],
            "text/plain": [
              "<tqdm._fake_ipywidgets.HBox object>"
            ]
          },
          "metadata": {},
          "output_type": "display_data"
        },
        {
          "name": "stdout",
          "output_type": "stream",
          "text": [
            "\n"
          ]
        },
        {
          "data": {
            "text/html": [
              "<div style=\"display:flex;flex-direction:row;\"><span>Epoch: 58/500. Iteration: 374/374. Cls loss: 0.08745. Reg loss: 0.24180. Batch loss: 0.32925 Total loss: 0.25951</span><progress style='margin:2px 4px;description_width:initial;' max='374' value='374'></progress>100% 374/374 [09:08&lt;00:00,  1.47s/it]</div>"
            ],
            "text/plain": [
              "<tqdm._fake_ipywidgets.HBox object>"
            ]
          },
          "metadata": {},
          "output_type": "display_data"
        },
        {
          "name": "stdout",
          "output_type": "stream",
          "text": [
            "\n"
          ]
        },
        {
          "data": {
            "text/html": [
              "<div style=\"display:flex;flex-direction:row;\"><span>Epoch: 59/500. Iteration: 374/374. Cls loss: 0.07795. Reg loss: 0.19076. Batch loss: 0.26871 Total loss: 0.25558</span><progress style='margin:2px 4px;description_width:initial;' max='374' value='374'></progress>100% 374/374 [09:08&lt;00:00,  1.46s/it]</div>"
            ],
            "text/plain": [
              "<tqdm._fake_ipywidgets.HBox object>"
            ]
          },
          "metadata": {},
          "output_type": "display_data"
        },
        {
          "name": "stdout",
          "output_type": "stream",
          "text": [
            "\n"
          ]
        },
        {
          "data": {
            "text/html": [
              "<div style=\"display:flex;flex-direction:row;\"><span>Epoch: 60/500. Iteration: 374/374. Cls loss: 0.06424. Reg loss: 0.17969. Batch loss: 0.24393 Total loss: 0.25408</span><progress style='margin:2px 4px;description_width:initial;' max='374' value='374'></progress>100% 374/374 [09:08&lt;00:00,  1.47s/it]</div>"
            ],
            "text/plain": [
              "<tqdm._fake_ipywidgets.HBox object>"
            ]
          },
          "metadata": {},
          "output_type": "display_data"
        },
        {
          "name": "stdout",
          "output_type": "stream",
          "text": [
            "\n"
          ]
        },
        {
          "data": {
            "text/html": [
              "<div style=\"display:flex;flex-direction:row;\"><span>Epoch: 61/500. Iteration: 374/374. Cls loss: 0.04844. Reg loss: 0.12721. Batch loss: 0.17566 Total loss: 0.25305</span><progress style='margin:2px 4px;description_width:initial;' max='374' value='374'></progress>100% 374/374 [09:08&lt;00:00,  1.46s/it]</div>"
            ],
            "text/plain": [
              "<tqdm._fake_ipywidgets.HBox object>"
            ]
          },
          "metadata": {},
          "output_type": "display_data"
        },
        {
          "name": "stdout",
          "output_type": "stream",
          "text": [
            "\n"
          ]
        },
        {
          "data": {
            "text/html": [
              "<div style=\"display:flex;flex-direction:row;\"><span>Epoch: 62/500. Iteration: 374/374. Cls loss: 0.07576. Reg loss: 0.17604. Batch loss: 0.25180 Total loss: 0.25110</span><progress style='margin:2px 4px;description_width:initial;' max='374' value='374'></progress>100% 374/374 [09:08&lt;00:00,  1.46s/it]</div>"
            ],
            "text/plain": [
              "<tqdm._fake_ipywidgets.HBox object>"
            ]
          },
          "metadata": {},
          "output_type": "display_data"
        },
        {
          "name": "stdout",
          "output_type": "stream",
          "text": [
            "\n"
          ]
        },
        {
          "data": {
            "text/html": [
              "<div style=\"display:flex;flex-direction:row;\"><span>Epoch: 63/500. Iteration: 374/374. Cls loss: 0.01005. Reg loss: 0.05336. Batch loss: 0.06341 Total loss: 0.25194</span><progress style='margin:2px 4px;description_width:initial;' max='374' value='374'></progress>100% 374/374 [09:08&lt;00:00,  1.46s/it]</div>"
            ],
            "text/plain": [
              "<tqdm._fake_ipywidgets.HBox object>"
            ]
          },
          "metadata": {},
          "output_type": "display_data"
        },
        {
          "name": "stdout",
          "output_type": "stream",
          "text": [
            "\n"
          ]
        },
        {
          "data": {
            "text/html": [
              "<div style=\"display:flex;flex-direction:row;\"><span>Epoch: 64/500. Iteration: 374/374. Cls loss: 0.10061. Reg loss: 0.21866. Batch loss: 0.31928 Total loss: 0.24469</span><progress style='margin:2px 4px;description_width:initial;' max='374' value='374'></progress>100% 374/374 [09:08&lt;00:00,  1.46s/it]</div>"
            ],
            "text/plain": [
              "<tqdm._fake_ipywidgets.HBox object>"
            ]
          },
          "metadata": {},
          "output_type": "display_data"
        },
        {
          "name": "stdout",
          "output_type": "stream",
          "text": [
            "\n"
          ]
        },
        {
          "data": {
            "text/html": [
              "<div style=\"display:flex;flex-direction:row;\"><span>Epoch: 65/500. Iteration: 374/374. Cls loss: 0.14223. Reg loss: 0.32016. Batch loss: 0.46239 Total loss: 0.24072</span><progress style='margin:2px 4px;description_width:initial;' max='374' value='374'></progress>100% 374/374 [09:08&lt;00:00,  1.47s/it]</div>"
            ],
            "text/plain": [
              "<tqdm._fake_ipywidgets.HBox object>"
            ]
          },
          "metadata": {},
          "output_type": "display_data"
        },
        {
          "name": "stdout",
          "output_type": "stream",
          "text": [
            "\n"
          ]
        },
        {
          "data": {
            "text/html": [
              "<div style=\"display:flex;flex-direction:row;\"><span>Epoch: 66/500. Iteration: 374/374. Cls loss: 0.08455. Reg loss: 0.17461. Batch loss: 0.25916 Total loss: 0.23754</span><progress style='margin:2px 4px;description_width:initial;' max='374' value='374'></progress>100% 374/374 [09:08&lt;00:00,  1.46s/it]</div>"
            ],
            "text/plain": [
              "<tqdm._fake_ipywidgets.HBox object>"
            ]
          },
          "metadata": {},
          "output_type": "display_data"
        },
        {
          "name": "stdout",
          "output_type": "stream",
          "text": [
            "\n"
          ]
        },
        {
          "data": {
            "text/html": [
              "<div style=\"display:flex;flex-direction:row;\"><span>Epoch: 67/500. Iteration: 374/374. Cls loss: 0.08243. Reg loss: 0.20171. Batch loss: 0.28415 Total loss: 0.23602</span><progress style='margin:2px 4px;description_width:initial;' max='374' value='374'></progress>100% 374/374 [09:08&lt;00:00,  1.47s/it]</div>"
            ],
            "text/plain": [
              "<tqdm._fake_ipywidgets.HBox object>"
            ]
          },
          "metadata": {},
          "output_type": "display_data"
        },
        {
          "name": "stdout",
          "output_type": "stream",
          "text": [
            "\n"
          ]
        },
        {
          "data": {
            "text/html": [
              "<div style=\"display:flex;flex-direction:row;\"><span>Epoch: 68/500. Iteration: 374/374. Cls loss: 0.08989. Reg loss: 0.22828. Batch loss: 0.31817 Total loss: 0.23702</span><progress style='margin:2px 4px;description_width:initial;' max='374' value='374'></progress>100% 374/374 [09:08&lt;00:00,  1.47s/it]</div>"
            ],
            "text/plain": [
              "<tqdm._fake_ipywidgets.HBox object>"
            ]
          },
          "metadata": {},
          "output_type": "display_data"
        },
        {
          "name": "stdout",
          "output_type": "stream",
          "text": [
            "\n"
          ]
        },
        {
          "data": {
            "text/html": [
              "<div style=\"display:flex;flex-direction:row;\"><span>Epoch: 69/500. Iteration: 374/374. Cls loss: 0.03306. Reg loss: 0.12722. Batch loss: 0.16028 Total loss: 0.23302</span><progress style='margin:2px 4px;description_width:initial;' max='374' value='374'></progress>100% 374/374 [09:08&lt;00:00,  1.46s/it]</div>"
            ],
            "text/plain": [
              "<tqdm._fake_ipywidgets.HBox object>"
            ]
          },
          "metadata": {},
          "output_type": "display_data"
        },
        {
          "name": "stdout",
          "output_type": "stream",
          "text": [
            "\n"
          ]
        },
        {
          "data": {
            "text/html": [
              "<div style=\"display:flex;flex-direction:row;\"><span>Epoch: 70/500. Iteration: 374/374. Cls loss: 0.08118. Reg loss: 0.21752. Batch loss: 0.29870 Total loss: 0.22774</span><progress style='margin:2px 4px;description_width:initial;' max='374' value='374'></progress>100% 374/374 [09:08&lt;00:00,  1.46s/it]</div>"
            ],
            "text/plain": [
              "<tqdm._fake_ipywidgets.HBox object>"
            ]
          },
          "metadata": {},
          "output_type": "display_data"
        },
        {
          "name": "stdout",
          "output_type": "stream",
          "text": [
            "\n"
          ]
        },
        {
          "data": {
            "text/html": [
              "<div style=\"display:flex;flex-direction:row;\"><span>Epoch: 71/500. Iteration: 374/374. Cls loss: 0.04522. Reg loss: 0.16116. Batch loss: 0.20638 Total loss: 0.22519</span><progress style='margin:2px 4px;description_width:initial;' max='374' value='374'></progress>100% 374/374 [09:08&lt;00:00,  1.47s/it]</div>"
            ],
            "text/plain": [
              "<tqdm._fake_ipywidgets.HBox object>"
            ]
          },
          "metadata": {},
          "output_type": "display_data"
        },
        {
          "name": "stdout",
          "output_type": "stream",
          "text": [
            "\n"
          ]
        },
        {
          "data": {
            "text/html": [
              "<div style=\"display:flex;flex-direction:row;\"><span>Epoch: 72/500. Iteration: 374/374. Cls loss: 0.07782. Reg loss: 0.24277. Batch loss: 0.32058 Total loss: 0.22782</span><progress style='margin:2px 4px;description_width:initial;' max='374' value='374'></progress>100% 374/374 [09:08&lt;00:00,  1.46s/it]</div>"
            ],
            "text/plain": [
              "<tqdm._fake_ipywidgets.HBox object>"
            ]
          },
          "metadata": {},
          "output_type": "display_data"
        },
        {
          "name": "stdout",
          "output_type": "stream",
          "text": [
            "\n"
          ]
        },
        {
          "data": {
            "text/html": [
              "<div style=\"display:flex;flex-direction:row;\"><span>Epoch: 73/500. Iteration: 374/374. Cls loss: 0.04009. Reg loss: 0.11038. Batch loss: 0.15047 Total loss: 0.22166</span><progress style='margin:2px 4px;description_width:initial;' max='374' value='374'></progress>100% 374/374 [09:08&lt;00:00,  1.46s/it]</div>"
            ],
            "text/plain": [
              "<tqdm._fake_ipywidgets.HBox object>"
            ]
          },
          "metadata": {},
          "output_type": "display_data"
        },
        {
          "name": "stdout",
          "output_type": "stream",
          "text": [
            "\n"
          ]
        },
        {
          "data": {
            "text/html": [
              "<div style=\"display:flex;flex-direction:row;\"><span>Epoch: 74/500. Iteration: 374/374. Cls loss: 0.07049. Reg loss: 0.16285. Batch loss: 0.23334 Total loss: 0.21817</span><progress style='margin:2px 4px;description_width:initial;' max='374' value='374'></progress>100% 374/374 [09:08&lt;00:00,  1.47s/it]</div>"
            ],
            "text/plain": [
              "<tqdm._fake_ipywidgets.HBox object>"
            ]
          },
          "metadata": {},
          "output_type": "display_data"
        },
        {
          "name": "stdout",
          "output_type": "stream",
          "text": [
            "\n"
          ]
        },
        {
          "data": {
            "text/html": [
              "<div style=\"display:flex;flex-direction:row;\"><span>Epoch: 75/500. Iteration: 374/374. Cls loss: 0.07551. Reg loss: 0.16752. Batch loss: 0.24303 Total loss: 0.21816</span><progress style='margin:2px 4px;description_width:initial;' max='374' value='374'></progress>100% 374/374 [09:08&lt;00:00,  1.46s/it]</div>"
            ],
            "text/plain": [
              "<tqdm._fake_ipywidgets.HBox object>"
            ]
          },
          "metadata": {},
          "output_type": "display_data"
        },
        {
          "name": "stdout",
          "output_type": "stream",
          "text": [
            "\n"
          ]
        },
        {
          "data": {
            "text/html": [
              "<div style=\"display:flex;flex-direction:row;\"><span>Epoch: 76/500. Iteration: 374/374. Cls loss: 0.12048. Reg loss: 0.26350. Batch loss: 0.38398 Total loss: 0.21644</span><progress style='margin:2px 4px;description_width:initial;' max='374' value='374'></progress>100% 374/374 [09:09&lt;00:00,  1.47s/it]</div>"
            ],
            "text/plain": [
              "<tqdm._fake_ipywidgets.HBox object>"
            ]
          },
          "metadata": {},
          "output_type": "display_data"
        },
        {
          "name": "stdout",
          "output_type": "stream",
          "text": [
            "\n"
          ]
        },
        {
          "data": {
            "text/html": [
              "<div style=\"display:flex;flex-direction:row;\"><span>Epoch: 77/500. Iteration: 374/374. Cls loss: 0.05885. Reg loss: 0.16657. Batch loss: 0.22542 Total loss: 0.21232</span><progress style='margin:2px 4px;description_width:initial;' max='374' value='374'></progress>100% 374/374 [09:09&lt;00:00,  1.46s/it]</div>"
            ],
            "text/plain": [
              "<tqdm._fake_ipywidgets.HBox object>"
            ]
          },
          "metadata": {},
          "output_type": "display_data"
        },
        {
          "name": "stdout",
          "output_type": "stream",
          "text": [
            "\n"
          ]
        },
        {
          "data": {
            "text/html": [
              "<div style=\"display:flex;flex-direction:row;\"><span>Epoch: 78/500. Iteration: 374/374. Cls loss: 0.02994. Reg loss: 0.12900. Batch loss: 0.15894 Total loss: 0.21361</span><progress style='margin:2px 4px;description_width:initial;' max='374' value='374'></progress>100% 374/374 [09:09&lt;00:00,  1.46s/it]</div>"
            ],
            "text/plain": [
              "<tqdm._fake_ipywidgets.HBox object>"
            ]
          },
          "metadata": {},
          "output_type": "display_data"
        },
        {
          "name": "stdout",
          "output_type": "stream",
          "text": [
            "\n"
          ]
        },
        {
          "data": {
            "text/html": [
              "<div style=\"display:flex;flex-direction:row;\"><span>Epoch: 79/500. Iteration: 374/374. Cls loss: 0.02585. Reg loss: 0.08119. Batch loss: 0.10703 Total loss: 0.20566</span><progress style='margin:2px 4px;description_width:initial;' max='374' value='374'></progress>100% 374/374 [09:09&lt;00:00,  1.45s/it]</div>"
            ],
            "text/plain": [
              "<tqdm._fake_ipywidgets.HBox object>"
            ]
          },
          "metadata": {},
          "output_type": "display_data"
        },
        {
          "name": "stdout",
          "output_type": "stream",
          "text": [
            "\n"
          ]
        },
        {
          "data": {
            "text/html": [
              "<div style=\"display:flex;flex-direction:row;\"><span>Epoch: 80/500. Iteration: 374/374. Cls loss: 0.04031. Reg loss: 0.12489. Batch loss: 0.16520 Total loss: 0.20949</span><progress style='margin:2px 4px;description_width:initial;' max='374' value='374'></progress>100% 374/374 [09:09&lt;00:00,  1.46s/it]</div>"
            ],
            "text/plain": [
              "<tqdm._fake_ipywidgets.HBox object>"
            ]
          },
          "metadata": {},
          "output_type": "display_data"
        },
        {
          "name": "stdout",
          "output_type": "stream",
          "text": [
            "\n"
          ]
        },
        {
          "data": {
            "text/html": [
              "<div style=\"display:flex;flex-direction:row;\"><span>Epoch: 81/500. Iteration: 374/374. Cls loss: 0.03637. Reg loss: 0.12213. Batch loss: 0.15850 Total loss: 0.20298</span><progress style='margin:2px 4px;description_width:initial;' max='374' value='374'></progress>100% 374/374 [09:09&lt;00:00,  1.47s/it]</div>"
            ],
            "text/plain": [
              "<tqdm._fake_ipywidgets.HBox object>"
            ]
          },
          "metadata": {},
          "output_type": "display_data"
        },
        {
          "name": "stdout",
          "output_type": "stream",
          "text": [
            "\n"
          ]
        },
        {
          "data": {
            "text/html": [
              "<div style=\"display:flex;flex-direction:row;\"><span>Epoch: 82/500. Iteration: 374/374. Cls loss: 0.05061. Reg loss: 0.12959. Batch loss: 0.18020 Total loss: 0.20461</span><progress style='margin:2px 4px;description_width:initial;' max='374' value='374'></progress>100% 374/374 [09:09&lt;00:00,  1.47s/it]</div>"
            ],
            "text/plain": [
              "<tqdm._fake_ipywidgets.HBox object>"
            ]
          },
          "metadata": {},
          "output_type": "display_data"
        },
        {
          "name": "stdout",
          "output_type": "stream",
          "text": [
            "\n"
          ]
        },
        {
          "data": {
            "text/html": [
              "<div style=\"display:flex;flex-direction:row;\"><span>Epoch: 83/500. Iteration: 374/374. Cls loss: 0.04964. Reg loss: 0.19682. Batch loss: 0.24646 Total loss: 0.19955</span><progress style='margin:2px 4px;description_width:initial;' max='374' value='374'></progress>100% 374/374 [09:09&lt;00:00,  1.47s/it]</div>"
            ],
            "text/plain": [
              "<tqdm._fake_ipywidgets.HBox object>"
            ]
          },
          "metadata": {},
          "output_type": "display_data"
        },
        {
          "name": "stdout",
          "output_type": "stream",
          "text": [
            "\n"
          ]
        },
        {
          "data": {
            "text/html": [
              "<div style=\"display:flex;flex-direction:row;\"><span>Epoch: 84/500. Iteration: 374/374. Cls loss: 0.06201. Reg loss: 0.17321. Batch loss: 0.23522 Total loss: 0.19920</span><progress style='margin:2px 4px;description_width:initial;' max='374' value='374'></progress>100% 374/374 [09:09&lt;00:00,  1.46s/it]</div>"
            ],
            "text/plain": [
              "<tqdm._fake_ipywidgets.HBox object>"
            ]
          },
          "metadata": {},
          "output_type": "display_data"
        },
        {
          "name": "stdout",
          "output_type": "stream",
          "text": [
            "\n"
          ]
        },
        {
          "data": {
            "text/html": [
              "<div style=\"display:flex;flex-direction:row;\"><span>Epoch: 85/500. Iteration: 374/374. Cls loss: 0.02981. Reg loss: 0.13357. Batch loss: 0.16338 Total loss: 0.20304</span><progress style='margin:2px 4px;description_width:initial;' max='374' value='374'></progress>100% 374/374 [09:09&lt;00:00,  1.46s/it]</div>"
            ],
            "text/plain": [
              "<tqdm._fake_ipywidgets.HBox object>"
            ]
          },
          "metadata": {},
          "output_type": "display_data"
        },
        {
          "name": "stdout",
          "output_type": "stream",
          "text": [
            "\n"
          ]
        },
        {
          "data": {
            "text/html": [
              "<div style=\"display:flex;flex-direction:row;\"><span>Epoch: 86/500. Iteration: 374/374. Cls loss: 0.08265. Reg loss: 0.21771. Batch loss: 0.30036 Total loss: 0.19368</span><progress style='margin:2px 4px;description_width:initial;' max='374' value='374'></progress>100% 374/374 [09:09&lt;00:00,  1.47s/it]</div>"
            ],
            "text/plain": [
              "<tqdm._fake_ipywidgets.HBox object>"
            ]
          },
          "metadata": {},
          "output_type": "display_data"
        },
        {
          "name": "stdout",
          "output_type": "stream",
          "text": [
            "\n"
          ]
        },
        {
          "data": {
            "text/html": [
              "<div style=\"display:flex;flex-direction:row;\"><span>Epoch: 87/500. Iteration: 374/374. Cls loss: 0.03519. Reg loss: 0.10509. Batch loss: 0.14029 Total loss: 0.19665</span><progress style='margin:2px 4px;description_width:initial;' max='374' value='374'></progress>100% 374/374 [09:09&lt;00:00,  1.46s/it]</div>"
            ],
            "text/plain": [
              "<tqdm._fake_ipywidgets.HBox object>"
            ]
          },
          "metadata": {},
          "output_type": "display_data"
        },
        {
          "name": "stdout",
          "output_type": "stream",
          "text": [
            "\n"
          ]
        },
        {
          "data": {
            "text/html": [
              "<div style=\"display:flex;flex-direction:row;\"><span>Epoch: 88/500. Iteration: 374/374. Cls loss: 0.02609. Reg loss: 0.12594. Batch loss: 0.15203 Total loss: 0.19069</span><progress style='margin:2px 4px;description_width:initial;' max='374' value='374'></progress>100% 374/374 [09:08&lt;00:00,  1.47s/it]</div>"
            ],
            "text/plain": [
              "<tqdm._fake_ipywidgets.HBox object>"
            ]
          },
          "metadata": {},
          "output_type": "display_data"
        },
        {
          "name": "stdout",
          "output_type": "stream",
          "text": [
            "\n"
          ]
        },
        {
          "data": {
            "text/html": [
              "<div style=\"display:flex;flex-direction:row;\"><span>Epoch: 89/500. Iteration: 374/374. Cls loss: 0.08203. Reg loss: 0.16693. Batch loss: 0.24896 Total loss: 0.19102</span><progress style='margin:2px 4px;description_width:initial;' max='374' value='374'></progress>100% 374/374 [09:09&lt;00:00,  1.46s/it]</div>"
            ],
            "text/plain": [
              "<tqdm._fake_ipywidgets.HBox object>"
            ]
          },
          "metadata": {},
          "output_type": "display_data"
        },
        {
          "name": "stdout",
          "output_type": "stream",
          "text": [
            "\n"
          ]
        },
        {
          "data": {
            "text/html": [
              "<div style=\"display:flex;flex-direction:row;\"><span>Epoch: 90/500. Iteration: 374/374. Cls loss: 0.02653. Reg loss: 0.10117. Batch loss: 0.12769 Total loss: 0.18657</span><progress style='margin:2px 4px;description_width:initial;' max='374' value='374'></progress>100% 374/374 [09:08&lt;00:00,  1.47s/it]</div>"
            ],
            "text/plain": [
              "<tqdm._fake_ipywidgets.HBox object>"
            ]
          },
          "metadata": {},
          "output_type": "display_data"
        },
        {
          "name": "stdout",
          "output_type": "stream",
          "text": [
            "\n"
          ]
        },
        {
          "data": {
            "text/html": [
              "<div style=\"display:flex;flex-direction:row;\"><span>Epoch: 91/500. Iteration: 374/374. Cls loss: 0.02930. Reg loss: 0.14529. Batch loss: 0.17459 Total loss: 0.18688</span><progress style='margin:2px 4px;description_width:initial;' max='374' value='374'></progress>100% 374/374 [09:08&lt;00:00,  1.47s/it]</div>"
            ],
            "text/plain": [
              "<tqdm._fake_ipywidgets.HBox object>"
            ]
          },
          "metadata": {},
          "output_type": "display_data"
        },
        {
          "name": "stdout",
          "output_type": "stream",
          "text": [
            "\n"
          ]
        },
        {
          "data": {
            "text/html": [
              "<div style=\"display:flex;flex-direction:row;\"><span>Epoch: 92/500. Iteration: 374/374. Cls loss: 0.04320. Reg loss: 0.13746. Batch loss: 0.18065 Total loss: 0.18586</span><progress style='margin:2px 4px;description_width:initial;' max='374' value='374'></progress>100% 374/374 [09:08&lt;00:00,  1.46s/it]</div>"
            ],
            "text/plain": [
              "<tqdm._fake_ipywidgets.HBox object>"
            ]
          },
          "metadata": {},
          "output_type": "display_data"
        },
        {
          "name": "stdout",
          "output_type": "stream",
          "text": [
            "\n"
          ]
        },
        {
          "data": {
            "text/html": [
              "<div style=\"display:flex;flex-direction:row;\"><span>Epoch: 93/500. Iteration: 374/374. Cls loss: 0.01825. Reg loss: 0.08498. Batch loss: 0.10322 Total loss: 0.18401</span><progress style='margin:2px 4px;description_width:initial;' max='374' value='374'></progress>100% 374/374 [09:09&lt;00:00,  1.46s/it]</div>"
            ],
            "text/plain": [
              "<tqdm._fake_ipywidgets.HBox object>"
            ]
          },
          "metadata": {},
          "output_type": "display_data"
        },
        {
          "name": "stdout",
          "output_type": "stream",
          "text": [
            "\n"
          ]
        },
        {
          "data": {
            "text/html": [
              "<div style=\"display:flex;flex-direction:row;\"><span>Epoch: 94/500. Iteration: 374/374. Cls loss: 0.02073. Reg loss: 0.08558. Batch loss: 0.10630 Total loss: 0.18220</span><progress style='margin:2px 4px;description_width:initial;' max='374' value='374'></progress>100% 374/374 [09:08&lt;00:00,  1.46s/it]</div>"
            ],
            "text/plain": [
              "<tqdm._fake_ipywidgets.HBox object>"
            ]
          },
          "metadata": {},
          "output_type": "display_data"
        },
        {
          "name": "stdout",
          "output_type": "stream",
          "text": [
            "\n"
          ]
        },
        {
          "data": {
            "text/html": [
              "<div style=\"display:flex;flex-direction:row;\"><span>Epoch: 95/500. Iteration: 374/374. Cls loss: 0.02919. Reg loss: 0.12461. Batch loss: 0.15379 Total loss: 0.17947</span><progress style='margin:2px 4px;description_width:initial;' max='374' value='374'></progress>100% 374/374 [09:08&lt;00:00,  1.46s/it]</div>"
            ],
            "text/plain": [
              "<tqdm._fake_ipywidgets.HBox object>"
            ]
          },
          "metadata": {},
          "output_type": "display_data"
        },
        {
          "name": "stdout",
          "output_type": "stream",
          "text": [
            "\n"
          ]
        },
        {
          "data": {
            "text/html": [
              "<div style=\"display:flex;flex-direction:row;\"><span>Epoch: 96/500. Iteration: 374/374. Cls loss: 0.03363. Reg loss: 0.13437. Batch loss: 0.16799 Total loss: 0.17779</span><progress style='margin:2px 4px;description_width:initial;' max='374' value='374'></progress>100% 374/374 [09:08&lt;00:00,  1.47s/it]</div>"
            ],
            "text/plain": [
              "<tqdm._fake_ipywidgets.HBox object>"
            ]
          },
          "metadata": {},
          "output_type": "display_data"
        },
        {
          "name": "stdout",
          "output_type": "stream",
          "text": [
            "\n"
          ]
        },
        {
          "data": {
            "text/html": [
              "<div style=\"display:flex;flex-direction:row;\"><span>Epoch: 97/500. Iteration: 374/374. Cls loss: 0.03757. Reg loss: 0.16244. Batch loss: 0.20001 Total loss: 0.17628</span><progress style='margin:2px 4px;description_width:initial;' max='374' value='374'></progress>100% 374/374 [09:08&lt;00:00,  1.47s/it]</div>"
            ],
            "text/plain": [
              "<tqdm._fake_ipywidgets.HBox object>"
            ]
          },
          "metadata": {},
          "output_type": "display_data"
        },
        {
          "name": "stdout",
          "output_type": "stream",
          "text": [
            "\n"
          ]
        },
        {
          "data": {
            "text/html": [
              "<div style=\"display:flex;flex-direction:row;\"><span>Epoch: 98/500. Iteration: 374/374. Cls loss: 0.02141. Reg loss: 0.12767. Batch loss: 0.14907 Total loss: 0.17564</span><progress style='margin:2px 4px;description_width:initial;' max='374' value='374'></progress>100% 374/374 [09:08&lt;00:00,  1.47s/it]</div>"
            ],
            "text/plain": [
              "<tqdm._fake_ipywidgets.HBox object>"
            ]
          },
          "metadata": {},
          "output_type": "display_data"
        },
        {
          "name": "stdout",
          "output_type": "stream",
          "text": [
            "\n"
          ]
        },
        {
          "data": {
            "text/html": [
              "<div style=\"display:flex;flex-direction:row;\"><span>Epoch: 99/500. Iteration: 374/374. Cls loss: 0.05908. Reg loss: 0.08045. Batch loss: 0.13953 Total loss: 0.17267</span><progress style='margin:2px 4px;description_width:initial;' max='374' value='374'></progress>100% 374/374 [09:09&lt;00:00,  1.47s/it]</div>"
            ],
            "text/plain": [
              "<tqdm._fake_ipywidgets.HBox object>"
            ]
          },
          "metadata": {},
          "output_type": "display_data"
        },
        {
          "name": "stdout",
          "output_type": "stream",
          "text": [
            "\n"
          ]
        },
        {
          "data": {
            "text/html": [
              "<div style=\"display:flex;flex-direction:row;\"><span>Epoch: 100/500. Iteration: 374/374. Cls loss: 0.05562. Reg loss: 0.14822. Batch loss: 0.20384 Total loss: 0.17391</span><progress style='margin:2px 4px;description_width:initial;' max='374' value='374'></progress>100% 374/374 [09:09&lt;00:00,  1.47s/it]</div>"
            ],
            "text/plain": [
              "<tqdm._fake_ipywidgets.HBox object>"
            ]
          },
          "metadata": {},
          "output_type": "display_data"
        },
        {
          "name": "stdout",
          "output_type": "stream",
          "text": [
            "\n"
          ]
        },
        {
          "data": {
            "text/html": [
              "<div style=\"display:flex;flex-direction:row;\"><span>Epoch: 101/500. Iteration: 374/374. Cls loss: 0.03048. Reg loss: 0.11024. Batch loss: 0.14072 Total loss: 0.17664</span><progress style='margin:2px 4px;description_width:initial;' max='374' value='374'></progress>100% 374/374 [09:08&lt;00:00,  1.46s/it]</div>"
            ],
            "text/plain": [
              "<tqdm._fake_ipywidgets.HBox object>"
            ]
          },
          "metadata": {},
          "output_type": "display_data"
        },
        {
          "name": "stdout",
          "output_type": "stream",
          "text": [
            "\n"
          ]
        },
        {
          "data": {
            "text/html": [
              "<div style=\"display:flex;flex-direction:row;\"><span>Epoch: 102/500. Iteration: 374/374. Cls loss: 0.03021. Reg loss: 0.15042. Batch loss: 0.18063 Total loss: 0.17155</span><progress style='margin:2px 4px;description_width:initial;' max='374' value='374'></progress>100% 374/374 [09:08&lt;00:00,  1.46s/it]</div>"
            ],
            "text/plain": [
              "<tqdm._fake_ipywidgets.HBox object>"
            ]
          },
          "metadata": {},
          "output_type": "display_data"
        },
        {
          "name": "stdout",
          "output_type": "stream",
          "text": [
            "\n"
          ]
        },
        {
          "data": {
            "text/html": [
              "<div style=\"display:flex;flex-direction:row;\"><span>Epoch: 103/500. Iteration: 374/374. Cls loss: 0.02653. Reg loss: 0.16058. Batch loss: 0.18711 Total loss: 0.16734</span><progress style='margin:2px 4px;description_width:initial;' max='374' value='374'></progress>100% 374/374 [09:08&lt;00:00,  1.47s/it]</div>"
            ],
            "text/plain": [
              "<tqdm._fake_ipywidgets.HBox object>"
            ]
          },
          "metadata": {},
          "output_type": "display_data"
        },
        {
          "name": "stdout",
          "output_type": "stream",
          "text": [
            "\n"
          ]
        },
        {
          "data": {
            "text/html": [
              "<div style=\"display:flex;flex-direction:row;\"><span>Epoch: 104/500. Iteration: 374/374. Cls loss: 0.02264. Reg loss: 0.11794. Batch loss: 0.14058 Total loss: 0.16801</span><progress style='margin:2px 4px;description_width:initial;' max='374' value='374'></progress>100% 374/374 [09:08&lt;00:00,  1.47s/it]</div>"
            ],
            "text/plain": [
              "<tqdm._fake_ipywidgets.HBox object>"
            ]
          },
          "metadata": {},
          "output_type": "display_data"
        },
        {
          "name": "stdout",
          "output_type": "stream",
          "text": [
            "\n"
          ]
        },
        {
          "data": {
            "text/html": [
              "<div style=\"display:flex;flex-direction:row;\"><span>Epoch: 105/500. Iteration: 374/374. Cls loss: 0.01982. Reg loss: 0.11526. Batch loss: 0.13508 Total loss: 0.16315</span><progress style='margin:2px 4px;description_width:initial;' max='374' value='374'></progress>100% 374/374 [09:08&lt;00:00,  1.46s/it]</div>"
            ],
            "text/plain": [
              "<tqdm._fake_ipywidgets.HBox object>"
            ]
          },
          "metadata": {},
          "output_type": "display_data"
        },
        {
          "name": "stdout",
          "output_type": "stream",
          "text": [
            "\n"
          ]
        },
        {
          "data": {
            "text/html": [
              "<div style=\"display:flex;flex-direction:row;\"><span>Epoch: 106/500. Iteration: 374/374. Cls loss: 0.05561. Reg loss: 0.20277. Batch loss: 0.25838 Total loss: 0.16765</span><progress style='margin:2px 4px;description_width:initial;' max='374' value='374'></progress>100% 374/374 [09:08&lt;00:00,  1.47s/it]</div>"
            ],
            "text/plain": [
              "<tqdm._fake_ipywidgets.HBox object>"
            ]
          },
          "metadata": {},
          "output_type": "display_data"
        },
        {
          "name": "stdout",
          "output_type": "stream",
          "text": [
            "\n"
          ]
        },
        {
          "data": {
            "text/html": [
              "<div style=\"display:flex;flex-direction:row;\"><span>Epoch: 107/500. Iteration: 374/374. Cls loss: 0.02741. Reg loss: 0.09837. Batch loss: 0.12578 Total loss: 0.16420</span><progress style='margin:2px 4px;description_width:initial;' max='374' value='374'></progress>100% 374/374 [09:08&lt;00:00,  1.46s/it]</div>"
            ],
            "text/plain": [
              "<tqdm._fake_ipywidgets.HBox object>"
            ]
          },
          "metadata": {},
          "output_type": "display_data"
        },
        {
          "name": "stdout",
          "output_type": "stream",
          "text": [
            "\n"
          ]
        },
        {
          "data": {
            "text/html": [
              "<div style=\"display:flex;flex-direction:row;\"><span>Epoch: 108/500. Iteration: 374/374. Cls loss: 0.06715. Reg loss: 0.22290. Batch loss: 0.29004 Total loss: 0.16392</span><progress style='margin:2px 4px;description_width:initial;' max='374' value='374'></progress>100% 374/374 [09:08&lt;00:00,  1.48s/it]</div>"
            ],
            "text/plain": [
              "<tqdm._fake_ipywidgets.HBox object>"
            ]
          },
          "metadata": {},
          "output_type": "display_data"
        },
        {
          "name": "stdout",
          "output_type": "stream",
          "text": [
            "\n"
          ]
        },
        {
          "data": {
            "text/html": [
              "<div style=\"display:flex;flex-direction:row;\"><span>Epoch: 109/500. Iteration: 374/374. Cls loss: 0.03435. Reg loss: 0.15331. Batch loss: 0.18766 Total loss: 0.16374</span><progress style='margin:2px 4px;description_width:initial;' max='374' value='374'></progress>100% 374/374 [09:08&lt;00:00,  1.46s/it]</div>"
            ],
            "text/plain": [
              "<tqdm._fake_ipywidgets.HBox object>"
            ]
          },
          "metadata": {},
          "output_type": "display_data"
        },
        {
          "name": "stdout",
          "output_type": "stream",
          "text": [
            "\n",
            "Epoch   109: reducing learning rate of group 0 to 1.0000e-05.\n"
          ]
        },
        {
          "data": {
            "text/html": [
              "<div style=\"display:flex;flex-direction:row;\"><span>Epoch: 110/500. Iteration: 374/374. Cls loss: 0.03909. Reg loss: 0.13344. Batch loss: 0.17253 Total loss: 0.14821</span><progress style='margin:2px 4px;description_width:initial;' max='374' value='374'></progress>100% 374/374 [09:09&lt;00:00,  1.47s/it]</div>"
            ],
            "text/plain": [
              "<tqdm._fake_ipywidgets.HBox object>"
            ]
          },
          "metadata": {},
          "output_type": "display_data"
        },
        {
          "name": "stdout",
          "output_type": "stream",
          "text": [
            "\n"
          ]
        },
        {
          "data": {
            "text/html": [
              "<div style=\"display:flex;flex-direction:row;\"><span>Epoch: 111/500. Iteration: 374/374. Cls loss: 0.02243. Reg loss: 0.11746. Batch loss: 0.13990 Total loss: 0.13598</span><progress style='margin:2px 4px;description_width:initial;' max='374' value='374'></progress>100% 374/374 [09:09&lt;00:00,  1.47s/it]</div>"
            ],
            "text/plain": [
              "<tqdm._fake_ipywidgets.HBox object>"
            ]
          },
          "metadata": {},
          "output_type": "display_data"
        },
        {
          "name": "stdout",
          "output_type": "stream",
          "text": [
            "\n"
          ]
        },
        {
          "data": {
            "text/html": [
              "<div style=\"display:flex;flex-direction:row;\"><span>Epoch: 112/500. Iteration: 374/374. Cls loss: 0.02250. Reg loss: 0.12197. Batch loss: 0.14446 Total loss: 0.13263</span><progress style='margin:2px 4px;description_width:initial;' max='374' value='374'></progress>100% 374/374 [09:08&lt;00:00,  1.47s/it]</div>"
            ],
            "text/plain": [
              "<tqdm._fake_ipywidgets.HBox object>"
            ]
          },
          "metadata": {},
          "output_type": "display_data"
        },
        {
          "name": "stdout",
          "output_type": "stream",
          "text": [
            "\n"
          ]
        },
        {
          "data": {
            "text/html": [
              "<div style=\"display:flex;flex-direction:row;\"><span>Epoch: 113/500. Iteration: 374/374. Cls loss: 0.00540. Reg loss: 0.04335. Batch loss: 0.04875 Total loss: 0.12691</span><progress style='margin:2px 4px;description_width:initial;' max='374' value='374'></progress>100% 374/374 [09:08&lt;00:00,  1.46s/it]</div>"
            ],
            "text/plain": [
              "<tqdm._fake_ipywidgets.HBox object>"
            ]
          },
          "metadata": {},
          "output_type": "display_data"
        },
        {
          "name": "stdout",
          "output_type": "stream",
          "text": [
            "\n"
          ]
        },
        {
          "data": {
            "text/html": [
              "<div style=\"display:flex;flex-direction:row;\"><span>Epoch: 114/500. Iteration: 374/374. Cls loss: 0.02035. Reg loss: 0.13762. Batch loss: 0.15797 Total loss: 0.12509</span><progress style='margin:2px 4px;description_width:initial;' max='374' value='374'></progress>100% 374/374 [09:09&lt;00:00,  1.48s/it]</div>"
            ],
            "text/plain": [
              "<tqdm._fake_ipywidgets.HBox object>"
            ]
          },
          "metadata": {},
          "output_type": "display_data"
        },
        {
          "name": "stdout",
          "output_type": "stream",
          "text": [
            "\n"
          ]
        },
        {
          "data": {
            "text/html": [
              "<div style=\"display:flex;flex-direction:row;\"><span>Epoch: 115/500. Iteration: 374/374. Cls loss: 0.01594. Reg loss: 0.07361. Batch loss: 0.08955 Total loss: 0.12112</span><progress style='margin:2px 4px;description_width:initial;' max='374' value='374'></progress>100% 374/374 [09:09&lt;00:00,  1.46s/it]</div>"
            ],
            "text/plain": [
              "<tqdm._fake_ipywidgets.HBox object>"
            ]
          },
          "metadata": {},
          "output_type": "display_data"
        },
        {
          "name": "stdout",
          "output_type": "stream",
          "text": [
            "\n"
          ]
        },
        {
          "data": {
            "text/html": [
              "<div style=\"display:flex;flex-direction:row;\"><span>Epoch: 116/500. Iteration: 374/374. Cls loss: 0.01180. Reg loss: 0.08431. Batch loss: 0.09611 Total loss: 0.11879</span><progress style='margin:2px 4px;description_width:initial;' max='374' value='374'></progress>100% 374/374 [09:09&lt;00:00,  1.46s/it]</div>"
            ],
            "text/plain": [
              "<tqdm._fake_ipywidgets.HBox object>"
            ]
          },
          "metadata": {},
          "output_type": "display_data"
        },
        {
          "name": "stdout",
          "output_type": "stream",
          "text": [
            "\n"
          ]
        },
        {
          "data": {
            "text/html": [
              "<div style=\"display:flex;flex-direction:row;\"><span>Epoch: 117/500. Iteration: 374/374. Cls loss: 0.01621. Reg loss: 0.09132. Batch loss: 0.10753 Total loss: 0.11714</span><progress style='margin:2px 4px;description_width:initial;' max='374' value='374'></progress>100% 374/374 [09:08&lt;00:00,  1.47s/it]</div>"
            ],
            "text/plain": [
              "<tqdm._fake_ipywidgets.HBox object>"
            ]
          },
          "metadata": {},
          "output_type": "display_data"
        },
        {
          "name": "stdout",
          "output_type": "stream",
          "text": [
            "\n"
          ]
        },
        {
          "data": {
            "text/html": [
              "<div style=\"display:flex;flex-direction:row;\"><span>Epoch: 118/500. Iteration: 374/374. Cls loss: 0.01264. Reg loss: 0.08159. Batch loss: 0.09423 Total loss: 0.11372</span><progress style='margin:2px 4px;description_width:initial;' max='374' value='374'></progress>100% 374/374 [09:09&lt;00:00,  1.46s/it]</div>"
            ],
            "text/plain": [
              "<tqdm._fake_ipywidgets.HBox object>"
            ]
          },
          "metadata": {},
          "output_type": "display_data"
        },
        {
          "name": "stdout",
          "output_type": "stream",
          "text": [
            "\n"
          ]
        },
        {
          "data": {
            "text/html": [
              "<div style=\"display:flex;flex-direction:row;\"><span>Epoch: 119/500. Iteration: 374/374. Cls loss: 0.02564. Reg loss: 0.09162. Batch loss: 0.11726 Total loss: 0.11117</span><progress style='margin:2px 4px;description_width:initial;' max='374' value='374'></progress>100% 374/374 [09:09&lt;00:00,  1.46s/it]</div>"
            ],
            "text/plain": [
              "<tqdm._fake_ipywidgets.HBox object>"
            ]
          },
          "metadata": {},
          "output_type": "display_data"
        },
        {
          "name": "stdout",
          "output_type": "stream",
          "text": [
            "\n"
          ]
        },
        {
          "data": {
            "text/html": [
              "<div style=\"display:flex;flex-direction:row;\"><span>Epoch: 120/500. Iteration: 374/374. Cls loss: 0.01353. Reg loss: 0.06385. Batch loss: 0.07738 Total loss: 0.11238</span><progress style='margin:2px 4px;description_width:initial;' max='374' value='374'></progress>100% 374/374 [09:09&lt;00:00,  1.46s/it]</div>"
            ],
            "text/plain": [
              "<tqdm._fake_ipywidgets.HBox object>"
            ]
          },
          "metadata": {},
          "output_type": "display_data"
        },
        {
          "name": "stdout",
          "output_type": "stream",
          "text": [
            "\n"
          ]
        },
        {
          "data": {
            "text/html": [
              "<div style=\"display:flex;flex-direction:row;\"><span>Epoch: 121/500. Iteration: 374/374. Cls loss: 0.01151. Reg loss: 0.09999. Batch loss: 0.11151 Total loss: 0.10936</span><progress style='margin:2px 4px;description_width:initial;' max='374' value='374'></progress>100% 374/374 [09:09&lt;00:00,  1.47s/it]</div>"
            ],
            "text/plain": [
              "<tqdm._fake_ipywidgets.HBox object>"
            ]
          },
          "metadata": {},
          "output_type": "display_data"
        },
        {
          "name": "stdout",
          "output_type": "stream",
          "text": [
            "\n"
          ]
        },
        {
          "data": {
            "text/html": [
              "<div style=\"display:flex;flex-direction:row;\"><span>Epoch: 122/500. Iteration: 374/374. Cls loss: 0.01951. Reg loss: 0.11724. Batch loss: 0.13675 Total loss: 0.10959</span><progress style='margin:2px 4px;description_width:initial;' max='374' value='374'></progress>100% 374/374 [09:09&lt;00:00,  1.47s/it]</div>"
            ],
            "text/plain": [
              "<tqdm._fake_ipywidgets.HBox object>"
            ]
          },
          "metadata": {},
          "output_type": "display_data"
        },
        {
          "name": "stdout",
          "output_type": "stream",
          "text": [
            "\n"
          ]
        },
        {
          "data": {
            "text/html": [
              "<div style=\"display:flex;flex-direction:row;\"><span>Epoch: 123/500. Iteration: 374/374. Cls loss: 0.03455. Reg loss: 0.13233. Batch loss: 0.16688 Total loss: 0.10686</span><progress style='margin:2px 4px;description_width:initial;' max='374' value='374'></progress>100% 374/374 [09:09&lt;00:00,  1.46s/it]</div>"
            ],
            "text/plain": [
              "<tqdm._fake_ipywidgets.HBox object>"
            ]
          },
          "metadata": {},
          "output_type": "display_data"
        },
        {
          "name": "stdout",
          "output_type": "stream",
          "text": [
            "\n"
          ]
        },
        {
          "data": {
            "text/html": [
              "<div style=\"display:flex;flex-direction:row;\"><span>Epoch: 124/500. Iteration: 374/374. Cls loss: 0.01707. Reg loss: 0.09860. Batch loss: 0.11567 Total loss: 0.10640</span><progress style='margin:2px 4px;description_width:initial;' max='374' value='374'></progress>100% 374/374 [09:09&lt;00:00,  1.47s/it]</div>"
            ],
            "text/plain": [
              "<tqdm._fake_ipywidgets.HBox object>"
            ]
          },
          "metadata": {},
          "output_type": "display_data"
        },
        {
          "name": "stdout",
          "output_type": "stream",
          "text": [
            "\n"
          ]
        },
        {
          "data": {
            "text/html": [
              "<div style=\"display:flex;flex-direction:row;\"><span>Epoch: 125/500. Iteration: 374/374. Cls loss: 0.01839. Reg loss: 0.08027. Batch loss: 0.09866 Total loss: 0.10639</span><progress style='margin:2px 4px;description_width:initial;' max='374' value='374'></progress>100% 374/374 [09:09&lt;00:00,  1.46s/it]</div>"
            ],
            "text/plain": [
              "<tqdm._fake_ipywidgets.HBox object>"
            ]
          },
          "metadata": {},
          "output_type": "display_data"
        },
        {
          "name": "stdout",
          "output_type": "stream",
          "text": [
            "\n"
          ]
        },
        {
          "data": {
            "text/html": [
              "<div style=\"display:flex;flex-direction:row;\"><span>Epoch: 126/500. Iteration: 374/374. Cls loss: 0.00288. Reg loss: 0.03330. Batch loss: 0.03618 Total loss: 0.10693</span><progress style='margin:2px 4px;description_width:initial;' max='374' value='374'></progress>100% 374/374 [09:08&lt;00:00,  1.47s/it]</div>"
            ],
            "text/plain": [
              "<tqdm._fake_ipywidgets.HBox object>"
            ]
          },
          "metadata": {},
          "output_type": "display_data"
        },
        {
          "name": "stdout",
          "output_type": "stream",
          "text": [
            "\n"
          ]
        },
        {
          "data": {
            "text/html": [
              "<div style=\"display:flex;flex-direction:row;\"><span>Epoch: 127/500. Iteration: 374/374. Cls loss: 0.02059. Reg loss: 0.09008. Batch loss: 0.11067 Total loss: 0.10345</span><progress style='margin:2px 4px;description_width:initial;' max='374' value='374'></progress>100% 374/374 [09:08&lt;00:00,  1.46s/it]</div>"
            ],
            "text/plain": [
              "<tqdm._fake_ipywidgets.HBox object>"
            ]
          },
          "metadata": {},
          "output_type": "display_data"
        },
        {
          "name": "stdout",
          "output_type": "stream",
          "text": [
            "\n"
          ]
        },
        {
          "data": {
            "text/html": [
              "<div style=\"display:flex;flex-direction:row;\"><span>Epoch: 128/500. Iteration: 374/374. Cls loss: 0.04236. Reg loss: 0.15723. Batch loss: 0.19959 Total loss: 0.10218</span><progress style='margin:2px 4px;description_width:initial;' max='374' value='374'></progress>100% 374/374 [09:08&lt;00:00,  1.47s/it]</div>"
            ],
            "text/plain": [
              "<tqdm._fake_ipywidgets.HBox object>"
            ]
          },
          "metadata": {},
          "output_type": "display_data"
        },
        {
          "name": "stdout",
          "output_type": "stream",
          "text": [
            "\n"
          ]
        },
        {
          "data": {
            "text/html": [
              "<div style=\"display:flex;flex-direction:row;\"><span>Epoch: 129/500. Iteration: 374/374. Cls loss: 0.05425. Reg loss: 0.12603. Batch loss: 0.18027 Total loss: 0.10337</span><progress style='margin:2px 4px;description_width:initial;' max='374' value='374'></progress>100% 374/374 [09:08&lt;00:00,  1.46s/it]</div>"
            ],
            "text/plain": [
              "<tqdm._fake_ipywidgets.HBox object>"
            ]
          },
          "metadata": {},
          "output_type": "display_data"
        },
        {
          "name": "stdout",
          "output_type": "stream",
          "text": [
            "\n"
          ]
        },
        {
          "data": {
            "text/html": [
              "<div style=\"display:flex;flex-direction:row;\"><span>Epoch: 130/500. Iteration: 374/374. Cls loss: 0.04044. Reg loss: 0.16736. Batch loss: 0.20780 Total loss: 0.09958</span><progress style='margin:2px 4px;description_width:initial;' max='374' value='374'></progress>100% 374/374 [09:08&lt;00:00,  1.47s/it]</div>"
            ],
            "text/plain": [
              "<tqdm._fake_ipywidgets.HBox object>"
            ]
          },
          "metadata": {},
          "output_type": "display_data"
        },
        {
          "name": "stdout",
          "output_type": "stream",
          "text": [
            "\n"
          ]
        },
        {
          "data": {
            "text/html": [
              "<div style=\"display:flex;flex-direction:row;\"><span>Epoch: 131/500. Iteration: 374/374. Cls loss: 0.01129. Reg loss: 0.07044. Batch loss: 0.08173 Total loss: 0.10214</span><progress style='margin:2px 4px;description_width:initial;' max='374' value='374'></progress>100% 374/374 [09:08&lt;00:00,  1.46s/it]</div>"
            ],
            "text/plain": [
              "<tqdm._fake_ipywidgets.HBox object>"
            ]
          },
          "metadata": {},
          "output_type": "display_data"
        },
        {
          "name": "stdout",
          "output_type": "stream",
          "text": [
            "\n"
          ]
        },
        {
          "data": {
            "text/html": [
              "<div style=\"display:flex;flex-direction:row;\"><span>Epoch: 132/500. Iteration: 374/374. Cls loss: 0.01805. Reg loss: 0.09198. Batch loss: 0.11003 Total loss: 0.09994</span><progress style='margin:2px 4px;description_width:initial;' max='374' value='374'></progress>100% 374/374 [09:08&lt;00:00,  1.46s/it]</div>"
            ],
            "text/plain": [
              "<tqdm._fake_ipywidgets.HBox object>"
            ]
          },
          "metadata": {},
          "output_type": "display_data"
        },
        {
          "name": "stdout",
          "output_type": "stream",
          "text": [
            "\n"
          ]
        },
        {
          "data": {
            "text/html": [
              "<div style=\"display:flex;flex-direction:row;\"><span>Epoch: 133/500. Iteration: 374/374. Cls loss: 0.02321. Reg loss: 0.07500. Batch loss: 0.09821 Total loss: 0.10089</span><progress style='margin:2px 4px;description_width:initial;' max='374' value='374'></progress>100% 374/374 [09:08&lt;00:00,  1.46s/it]</div>"
            ],
            "text/plain": [
              "<tqdm._fake_ipywidgets.HBox object>"
            ]
          },
          "metadata": {},
          "output_type": "display_data"
        },
        {
          "name": "stdout",
          "output_type": "stream",
          "text": [
            "\n"
          ]
        },
        {
          "data": {
            "text/html": [
              "<div style=\"display:flex;flex-direction:row;\"><span>Epoch: 134/500. Iteration: 374/374. Cls loss: 0.02530. Reg loss: 0.08277. Batch loss: 0.10806 Total loss: 0.09815</span><progress style='margin:2px 4px;description_width:initial;' max='374' value='374'></progress>100% 374/374 [09:09&lt;00:00,  1.46s/it]</div>"
            ],
            "text/plain": [
              "<tqdm._fake_ipywidgets.HBox object>"
            ]
          },
          "metadata": {},
          "output_type": "display_data"
        },
        {
          "name": "stdout",
          "output_type": "stream",
          "text": [
            "\n"
          ]
        },
        {
          "data": {
            "text/html": [
              "<div style=\"display:flex;flex-direction:row;\"><span>Epoch: 135/500. Iteration: 374/374. Cls loss: 0.01524. Reg loss: 0.08621. Batch loss: 0.10145 Total loss: 0.09792</span><progress style='margin:2px 4px;description_width:initial;' max='374' value='374'></progress>100% 374/374 [09:08&lt;00:00,  1.46s/it]</div>"
            ],
            "text/plain": [
              "<tqdm._fake_ipywidgets.HBox object>"
            ]
          },
          "metadata": {},
          "output_type": "display_data"
        },
        {
          "name": "stdout",
          "output_type": "stream",
          "text": [
            "\n"
          ]
        },
        {
          "data": {
            "text/html": [
              "<div style=\"display:flex;flex-direction:row;\"><span>Epoch: 136/500. Iteration: 374/374. Cls loss: 0.02844. Reg loss: 0.11989. Batch loss: 0.14833 Total loss: 0.09814</span><progress style='margin:2px 4px;description_width:initial;' max='374' value='374'></progress>100% 374/374 [09:08&lt;00:00,  1.47s/it]</div>"
            ],
            "text/plain": [
              "<tqdm._fake_ipywidgets.HBox object>"
            ]
          },
          "metadata": {},
          "output_type": "display_data"
        },
        {
          "name": "stdout",
          "output_type": "stream",
          "text": [
            "\n"
          ]
        },
        {
          "data": {
            "text/html": [
              "<div style=\"display:flex;flex-direction:row;\"><span>Epoch: 137/500. Iteration: 374/374. Cls loss: 0.03190. Reg loss: 0.10335. Batch loss: 0.13525 Total loss: 0.09491</span><progress style='margin:2px 4px;description_width:initial;' max='374' value='374'></progress>100% 374/374 [09:08&lt;00:00,  1.46s/it]</div>"
            ],
            "text/plain": [
              "<tqdm._fake_ipywidgets.HBox object>"
            ]
          },
          "metadata": {},
          "output_type": "display_data"
        },
        {
          "name": "stdout",
          "output_type": "stream",
          "text": [
            "\n"
          ]
        },
        {
          "data": {
            "text/html": [
              "<div style=\"display:flex;flex-direction:row;\"><span>Epoch: 138/500. Iteration: 374/374. Cls loss: 0.02107. Reg loss: 0.08223. Batch loss: 0.10329 Total loss: 0.09457</span><progress style='margin:2px 4px;description_width:initial;' max='374' value='374'></progress>100% 374/374 [09:08&lt;00:00,  1.46s/it]</div>"
            ],
            "text/plain": [
              "<tqdm._fake_ipywidgets.HBox object>"
            ]
          },
          "metadata": {},
          "output_type": "display_data"
        },
        {
          "name": "stdout",
          "output_type": "stream",
          "text": [
            "\n"
          ]
        },
        {
          "data": {
            "text/html": [
              "<div style=\"display:flex;flex-direction:row;\"><span>Epoch: 139/500. Iteration: 374/374. Cls loss: 0.00579. Reg loss: 0.04818. Batch loss: 0.05396 Total loss: 0.09412</span><progress style='margin:2px 4px;description_width:initial;' max='374' value='374'></progress>100% 374/374 [09:08&lt;00:00,  1.47s/it]</div>"
            ],
            "text/plain": [
              "<tqdm._fake_ipywidgets.HBox object>"
            ]
          },
          "metadata": {},
          "output_type": "display_data"
        },
        {
          "name": "stdout",
          "output_type": "stream",
          "text": [
            "\n"
          ]
        },
        {
          "data": {
            "text/html": [
              "<div style=\"display:flex;flex-direction:row;\"><span>Epoch: 140/500. Iteration: 374/374. Cls loss: 0.00311. Reg loss: 0.03271. Batch loss: 0.03583 Total loss: 0.09557</span><progress style='margin:2px 4px;description_width:initial;' max='374' value='374'></progress>100% 374/374 [09:08&lt;00:00,  1.46s/it]</div>"
            ],
            "text/plain": [
              "<tqdm._fake_ipywidgets.HBox object>"
            ]
          },
          "metadata": {},
          "output_type": "display_data"
        },
        {
          "name": "stdout",
          "output_type": "stream",
          "text": [
            "\n"
          ]
        },
        {
          "data": {
            "text/html": [
              "<div style=\"display:flex;flex-direction:row;\"><span>Epoch: 141/500. Iteration: 374/374. Cls loss: 0.00996. Reg loss: 0.06307. Batch loss: 0.07303 Total loss: 0.09458</span><progress style='margin:2px 4px;description_width:initial;' max='374' value='374'></progress>100% 374/374 [09:08&lt;00:00,  1.47s/it]</div>"
            ],
            "text/plain": [
              "<tqdm._fake_ipywidgets.HBox object>"
            ]
          },
          "metadata": {},
          "output_type": "display_data"
        },
        {
          "name": "stdout",
          "output_type": "stream",
          "text": [
            "\n"
          ]
        },
        {
          "data": {
            "text/html": [
              "<div style=\"display:flex;flex-direction:row;\"><span>Epoch: 142/500. Iteration: 374/374. Cls loss: 0.00105. Reg loss: 0.01538. Batch loss: 0.01644 Total loss: 0.09343</span><progress style='margin:2px 4px;description_width:initial;' max='374' value='374'></progress>100% 374/374 [09:08&lt;00:00,  1.46s/it]</div>"
            ],
            "text/plain": [
              "<tqdm._fake_ipywidgets.HBox object>"
            ]
          },
          "metadata": {},
          "output_type": "display_data"
        },
        {
          "name": "stdout",
          "output_type": "stream",
          "text": [
            "\n"
          ]
        },
        {
          "data": {
            "text/html": [
              "<div style=\"display:flex;flex-direction:row;\"><span>Epoch: 143/500. Iteration: 374/374. Cls loss: 0.02064. Reg loss: 0.09814. Batch loss: 0.11878 Total loss: 0.09428</span><progress style='margin:2px 4px;description_width:initial;' max='374' value='374'></progress>100% 374/374 [09:08&lt;00:00,  1.47s/it]</div>"
            ],
            "text/plain": [
              "<tqdm._fake_ipywidgets.HBox object>"
            ]
          },
          "metadata": {},
          "output_type": "display_data"
        },
        {
          "name": "stdout",
          "output_type": "stream",
          "text": [
            "\n"
          ]
        },
        {
          "data": {
            "text/html": [
              "<div style=\"display:flex;flex-direction:row;\"><span>Epoch: 144/500. Iteration: 374/374. Cls loss: 0.00442. Reg loss: 0.05475. Batch loss: 0.05917 Total loss: 0.09141</span><progress style='margin:2px 4px;description_width:initial;' max='374' value='374'></progress>100% 374/374 [09:08&lt;00:00,  1.46s/it]</div>"
            ],
            "text/plain": [
              "<tqdm._fake_ipywidgets.HBox object>"
            ]
          },
          "metadata": {},
          "output_type": "display_data"
        },
        {
          "name": "stdout",
          "output_type": "stream",
          "text": [
            "\n"
          ]
        },
        {
          "data": {
            "text/html": [
              "<div style=\"display:flex;flex-direction:row;\"><span>Epoch: 145/500. Iteration: 355/374. Cls loss: 0.01690. Reg loss: 0.08905. Batch loss: 0.10595 Total loss: 0.09257</span><progress style='margin:2px 4px;description_width:initial;' max='374' value='355'></progress> 95% 355/374 [08:40&lt;00:27,  1.47s/it]</div>"
            ],
            "text/plain": [
              "<tqdm._fake_ipywidgets.HBox object>"
            ]
          },
          "metadata": {},
          "output_type": "display_data"
        }
      ],
      "source": [
        "%%time\n",
        "\n",
        "aics.Train(num_epochs=500, model_output_dir=\"/content/drive/MyDrive/Colab/AI_ChampionShip/EfficientDet/weight/\"+ weight_save_path);"
      ]
    },
    {
      "cell_type": "code",
      "execution_count": null,
      "metadata": {
        "id": "TUcahVPC6T5n"
      },
      "outputs": [],
      "source": [
        "%load_ext tensorboard\n",
        "%tensorboard --logdir ./tensorboard/signatrix_efficientdet_coco/"
      ]
    },
    {
      "cell_type": "code",
      "execution_count": null,
      "metadata": {
        "id": "msExPVJaTgJ5"
      },
      "outputs": [],
      "source": [
        "# Validation 이미지 결과 확인\n",
        "\n",
        "aics = Detector()\n",
        "aics = Infer();\n",
        "aics.Model(model_dir=\"/content/drive/MyDrive/Colab/AI_ChampionShip/EfficientDet/weight/2021-10-19 09:45:22 UTC\")\n",
        "\n",
        "class_list = ['L','fire', 'smoke']\n",
        "\n",
        "import glob\n",
        "from PIL import Image as PILImage\n",
        "from matplotlib import pyplot as plt\n",
        "from IPython.display import Image, clear_output, display\n",
        "from IPython.core.magic import register_line_cell_magic\n",
        "from natsort import natsorted\n",
        "\n",
        "plt.rcParams.update({'figure.max_open_warning': 0})\n",
        "\n",
        "test_data_dir = '/content/drive/MyDrive/Colab/AI_ChampionShip/dataset/test-frame_rearranged/*.jpg'\n",
        "test_images = natsorted(glob.glob(test_data_dir))\n",
        "\n",
        "\n",
        "for fig in test_images:\n",
        "  aics.Predict(fig, class_list, vis_threshold=0.5);\n",
        "  display(Image(filename='output.jpg'))\n",
        "  print(\"\\n\")\n",
        "  "
      ]
    },
    {
      "cell_type": "code",
      "execution_count": null,
      "metadata": {
        "id": "UpwQYEQjbM0C"
      },
      "outputs": [],
      "source": [
        "import mAP_evaluation\n",
        "import importlib\n",
        "import torch\n",
        "\n",
        "importlib.reload(mAP_evaluation)\n",
        "\n",
        "# 모델선언\n",
        "aics = Detector()\n",
        "\n",
        "root_dir = \"./\";\n",
        "coco_dir = \"Fire_Valid\";\n",
        "img_dir = \"./\";\n",
        "set_dir = \"Images\";\n",
        "\n",
        "!mkdir -p Fire_Valid/annotations\n",
        "!mkdir -p Fire_Valid/Images\n",
        "%cp valid/_annotations.coco.json Fire_Valid/annotations/instances_Images.json\n",
        "%cp valid/*.jpg Fire_Valid/Images/\n",
        "\n",
        "aics.Val_Dataset(root_dir, coco_dir, img_dir, set_dir)\n",
        "\n",
        "#모델 불러오기(Efficinet-b0)\n",
        "model = torch.load(\"/content/drive/MyDrive/Colab/AI_ChampionShip/EfficientDet/weight/2021-09-30_17_02_38/signatrix_efficientdet_coco.pth\")\n",
        "val_cocoset = aics.system_dict[\"local\"][\"val_set\"]\n",
        "\n",
        "model.cuda()\n",
        "\n",
        "mAP_evaluation.evaluate_coco(val_cocoset, model)"
      ]
    }
  ],
  "metadata": {
    "accelerator": "GPU",
    "colab": {
      "collapsed_sections": [],
      "machine_shape": "hm",
      "name": "1-2.EfficentDet_Train.ipynb",
      "provenance": [],
      "include_colab_link": true
    },
    "kernelspec": {
      "display_name": "Python 3",
      "name": "python3"
    },
    "language_info": {
      "name": "python"
    }
  },
  "nbformat": 4,
  "nbformat_minor": 0
}