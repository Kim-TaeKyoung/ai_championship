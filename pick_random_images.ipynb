{
  "nbformat": 4,
  "nbformat_minor": 0,
  "metadata": {
    "colab": {
      "name": "pick_random_images",
      "provenance": [],
      "collapsed_sections": [],
      "include_colab_link": true
    },
    "kernelspec": {
      "name": "python3",
      "display_name": "Python 3"
    },
    "language_info": {
      "name": "python"
    }
  },
  "cells": [
    {
      "cell_type": "markdown",
      "metadata": {
        "id": "view-in-github",
        "colab_type": "text"
      },
      "source": [
        "<a href=\"https://colab.research.google.com/github/Kim-TaeKyoung/a/blob/main/pick_random_images.ipynb\" target=\"_parent\"><img src=\"https://colab.research.google.com/assets/colab-badge.svg\" alt=\"Open In Colab\"/></a>"
      ]
    },
    {
      "cell_type": "code",
      "metadata": {
        "id": "QYBbGsL50dqz",
        "colab": {
          "base_uri": "https://localhost:8080/"
        },
        "outputId": "32efa1ad-ea1d-470a-ddc2-bafaca32a05f"
      },
      "source": [
        "from google.colab import drive\n",
        "drive.mount('/content/drive')"
      ],
      "execution_count": null,
      "outputs": [
        {
          "output_type": "stream",
          "name": "stdout",
          "text": [
            "Drive already mounted at /content/drive; to attempt to forcibly remount, call drive.mount(\"/content/drive\", force_remount=True).\n"
          ]
        }
      ]
    },
    {
      "cell_type": "code",
      "metadata": {
        "id": "FQXdk1yNCRsa",
        "colab": {
          "base_uri": "https://localhost:8080/"
        },
        "outputId": "c19d08d3-befd-495c-a216-cfb1cf4bf1b4"
      },
      "source": [
        "from glob import glob\n",
        "import random\n",
        "import shutil\n",
        "from tqdm.notebook import tqdm\n",
        "\n",
        "# 비디오 파일에서 추출된 모든 이미지를 불러온다\n",
        "paths = glob('/content/drive/MyDrive/Colab/AI_ChampionShip/dataset/train-frame_rearranged/*.jpg')\n",
        "\n",
        "# 화재와 화재가 아닌 이미지들을 구분할 파일 이름들 배열\n",
        "fire_paths = []\n",
        "normal_paths = []\n",
        "\n",
        "for p in paths:\n",
        "  if \"fire\" in p:\n",
        "    # 화재가 포함된 프레임은 파일 이름에 fire가 있기 때문에 불로 추가\n",
        "    fire_paths.append(p)\n",
        "  else:\n",
        "    # 그외는 모두 일반 사진들임\n",
        "    normal_paths.append(p)\n",
        "\n",
        "# Unique한 이미지들만을 선택하기 위해 set으로 저장\n",
        "normal_set = set([])\n",
        "fire_set = set([])\n",
        "\n",
        "# 선택한 이미지들의 index를 보관하기 위한 set\n",
        "fire_exceptions = set([])\n",
        "normal_exceptions = set([])\n",
        "\n",
        "print(len(fire_paths), len(normal_paths))\n",
        "\n",
        "while True:\n",
        "  # 무작위의 숫자를 선택함\n",
        "  list_num = random.randint(0, len(fire_paths) - 1)\n",
        "  \n",
        "  # 해당 이미지를 선택함, 동일한 이미지가 있으면 set에 의해 무시됨\n",
        "  fire_exceptions.add(list_num)\n",
        "  fire_set.add(fire_paths[list_num])\n",
        "\n",
        "  # 배열 길이가 원하는 데이터셋의 크기만큼 찬 경우 루프를 종료\n",
        "  if len(fire_set) == 4000:\n",
        "    break\n",
        "\n",
        "while True:\n",
        "  # 위 코드와 동일하나, normal(불이 아닌 사진들)에 대한 코드\n",
        "  list_num = random.randint(0, len(normal_paths) - 1)\n",
        "  \n",
        "  normal_exceptions.add(list_num)\n",
        "  normal_set.add(normal_paths[list_num])\n",
        "  \n",
        "  if len(normal_set) == 4000:\n",
        "    break\n",
        "\n",
        "print(len(fire_set), len(normal_set))"
      ],
      "execution_count": null,
      "outputs": [
        {
          "output_type": "stream",
          "name": "stdout",
          "text": [
            "4365 34283\n",
            "4000 4000\n"
          ]
        }
      ]
    },
    {
      "cell_type": "code",
      "metadata": {
        "id": "ReWpnXLIh2o5"
      },
      "source": [
        "n = 0\n",
        "\n",
        "# 위에서 선택되지 않은 이미지, index를 참고,선택하여 valid 구성\n",
        "# (Google Drive로의 이동은 원격저장소에서 저장하므로 os로 불가능하고 shutil을 사용해야 함)\n",
        "while True:\n",
        "  list_num = random.randint(0, len(fire_paths) - 1)\n",
        "  if not list_num in fire_exceptions:\n",
        "    shutil.copyfile(fire_paths[list_num], fire_paths[list_num].replace('train-frame_rearranged', 'effnet/valid'))\n",
        "    n = n + 1\n",
        "  if n == 300:\n",
        "    break\n",
        "\n",
        "n = 0\n",
        "while True:\n",
        "  list_num = random.randint(0, len(normal_paths) - 1)\n",
        "  if not list_num in normal_exceptions:\n",
        "    shutil.copyfile(normal_paths[list_num], normal_paths[list_num].replace('train-frame_rearranged', 'effnet/valid'))\n",
        "    n = n + 1\n",
        "  if n == 300:\n",
        "    break\n",
        "\n",
        "# 위에서 선택된 이미지들을 shutil의 copyfile을 이용하여 train을 만듬\n",
        "for i in tqdm(iterable=normal_set):\n",
        "    shutil.copyfile(i, i.replace('train-frame_rearranged', 'effnet/train'))\n",
        "\n",
        "for i in tqdm(iterable=fire_set):\n",
        "    shutil.copyfile(i, i.replace('train-frame_rearranged', 'effnet/train'))"
      ],
      "execution_count": null,
      "outputs": []
    },
    {
      "cell_type": "code",
      "metadata": {
        "id": "HvJkJMN7HeNY"
      },
      "source": [
        "!rm /content/drive/MyDrive/Colab/AI_ChampionShip/dataset/effnet/valid/*\n",
        "!rm /content/drive/MyDrive/Colab/AI_ChampionShip/dataset/effnet/train/*"
      ],
      "execution_count": null,
      "outputs": []
    },
    {
      "cell_type": "code",
      "metadata": {
        "id": "GBY47ABsg1pM"
      },
      "source": [
        "!ls /content/drive/MyDrive/picked/ | wc -l\n",
        "!ls /content/drive/MyDrive/test-picked/ | wc -l"
      ],
      "execution_count": null,
      "outputs": []
    }
  ]
}